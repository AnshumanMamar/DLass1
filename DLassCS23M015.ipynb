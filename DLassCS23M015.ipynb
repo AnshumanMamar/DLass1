{
  "cells": [
    {
      "cell_type": "markdown",
      "source": [
        "## Necessary Imports"
      ],
      "metadata": {
        "id": "sE56JRBdCZvO"
      }
    },
    {
      "cell_type": "code",
      "execution_count": null,
      "metadata": {
        "colab": {
          "base_uri": "https://localhost:8080/"
        },
        "id": "gsfu_w9EvcZx",
        "outputId": "05bf4df9-bb8b-4d29-dc47-a27ba133d5ec"
      },
      "outputs": [
        {
          "output_type": "stream",
          "name": "stdout",
          "text": [
            "Collecting wandb\n",
            "  Downloading wandb-0.16.4-py3-none-any.whl (2.2 MB)\n",
            "\u001b[2K     \u001b[90m━━━━━━━━━━━━━━━━━━━━━━━━━━━━━━━━━━━━━━━━\u001b[0m \u001b[32m2.2/2.2 MB\u001b[0m \u001b[31m16.0 MB/s\u001b[0m eta \u001b[36m0:00:00\u001b[0m\n",
            "\u001b[?25hRequirement already satisfied: Click!=8.0.0,>=7.1 in /usr/local/lib/python3.10/dist-packages (from wandb) (8.1.7)\n",
            "Collecting GitPython!=3.1.29,>=1.0.0 (from wandb)\n",
            "  Downloading GitPython-3.1.42-py3-none-any.whl (195 kB)\n",
            "\u001b[2K     \u001b[90m━━━━━━━━━━━━━━━━━━━━━━━━━━━━━━━━━━━━━━━━\u001b[0m \u001b[32m195.4/195.4 kB\u001b[0m \u001b[31m14.1 MB/s\u001b[0m eta \u001b[36m0:00:00\u001b[0m\n",
            "\u001b[?25hRequirement already satisfied: requests<3,>=2.0.0 in /usr/local/lib/python3.10/dist-packages (from wandb) (2.31.0)\n",
            "Requirement already satisfied: psutil>=5.0.0 in /usr/local/lib/python3.10/dist-packages (from wandb) (5.9.5)\n",
            "Collecting sentry-sdk>=1.0.0 (from wandb)\n",
            "  Downloading sentry_sdk-1.42.0-py2.py3-none-any.whl (263 kB)\n",
            "\u001b[2K     \u001b[90m━━━━━━━━━━━━━━━━━━━━━━━━━━━━━━━━━━━━━━━━\u001b[0m \u001b[32m263.5/263.5 kB\u001b[0m \u001b[31m18.9 MB/s\u001b[0m eta \u001b[36m0:00:00\u001b[0m\n",
            "\u001b[?25hCollecting docker-pycreds>=0.4.0 (from wandb)\n",
            "  Downloading docker_pycreds-0.4.0-py2.py3-none-any.whl (9.0 kB)\n",
            "Requirement already satisfied: PyYAML in /usr/local/lib/python3.10/dist-packages (from wandb) (6.0.1)\n",
            "Collecting setproctitle (from wandb)\n",
            "  Downloading setproctitle-1.3.3-cp310-cp310-manylinux_2_5_x86_64.manylinux1_x86_64.manylinux_2_17_x86_64.manylinux2014_x86_64.whl (30 kB)\n",
            "Requirement already satisfied: setuptools in /usr/local/lib/python3.10/dist-packages (from wandb) (67.7.2)\n",
            "Requirement already satisfied: appdirs>=1.4.3 in /usr/local/lib/python3.10/dist-packages (from wandb) (1.4.4)\n",
            "Requirement already satisfied: protobuf!=4.21.0,<5,>=3.19.0 in /usr/local/lib/python3.10/dist-packages (from wandb) (3.20.3)\n",
            "Requirement already satisfied: six>=1.4.0 in /usr/local/lib/python3.10/dist-packages (from docker-pycreds>=0.4.0->wandb) (1.16.0)\n",
            "Collecting gitdb<5,>=4.0.1 (from GitPython!=3.1.29,>=1.0.0->wandb)\n",
            "  Downloading gitdb-4.0.11-py3-none-any.whl (62 kB)\n",
            "\u001b[2K     \u001b[90m━━━━━━━━━━━━━━━━━━━━━━━━━━━━━━━━━━━━━━━━\u001b[0m \u001b[32m62.7/62.7 kB\u001b[0m \u001b[31m5.6 MB/s\u001b[0m eta \u001b[36m0:00:00\u001b[0m\n",
            "\u001b[?25hRequirement already satisfied: charset-normalizer<4,>=2 in /usr/local/lib/python3.10/dist-packages (from requests<3,>=2.0.0->wandb) (3.3.2)\n",
            "Requirement already satisfied: idna<4,>=2.5 in /usr/local/lib/python3.10/dist-packages (from requests<3,>=2.0.0->wandb) (3.6)\n",
            "Requirement already satisfied: urllib3<3,>=1.21.1 in /usr/local/lib/python3.10/dist-packages (from requests<3,>=2.0.0->wandb) (2.0.7)\n",
            "Requirement already satisfied: certifi>=2017.4.17 in /usr/local/lib/python3.10/dist-packages (from requests<3,>=2.0.0->wandb) (2024.2.2)\n",
            "Collecting smmap<6,>=3.0.1 (from gitdb<5,>=4.0.1->GitPython!=3.1.29,>=1.0.0->wandb)\n",
            "  Downloading smmap-5.0.1-py3-none-any.whl (24 kB)\n",
            "Installing collected packages: smmap, setproctitle, sentry-sdk, docker-pycreds, gitdb, GitPython, wandb\n",
            "Successfully installed GitPython-3.1.42 docker-pycreds-0.4.0 gitdb-4.0.11 sentry-sdk-1.42.0 setproctitle-1.3.3 smmap-5.0.1 wandb-0.16.4\n"
          ]
        }
      ],
      "source": [
        "!pip install wandb"
      ]
    },
    {
      "cell_type": "code",
      "execution_count": null,
      "metadata": {
        "id": "AX2xzfhsWXkP"
      },
      "outputs": [],
      "source": [
        "# Import necessary libraries\n",
        "import numpy as np\n",
        "import matplotlib.pyplot as plt\n",
        "from keras.datasets import fashion_mnist\n",
        "from keras.datasets import mnist\n",
        "import wandb\n",
        "from sklearn.metrics import confusion_matrix\n",
        "from sklearn.model_selection import train_test_split\n",
        "import math\n",
        "import pandas as pd\n",
        "import matplotlib\n",
        "import seaborn as sns"
      ]
    },
    {
      "cell_type": "code",
      "execution_count": null,
      "metadata": {
        "id": "wG-wgfCavbb5"
      },
      "outputs": [],
      "source": []
    },
    {
      "cell_type": "code",
      "execution_count": null,
      "metadata": {
        "colab": {
          "base_uri": "https://localhost:8080/"
        },
        "id": "mohsv73jWXkT",
        "outputId": "7914d656-b633-492d-d229-5ea1533bf3ab"
      },
      "outputs": [
        {
          "output_type": "stream",
          "name": "stdout",
          "text": [
            "\u001b[34m\u001b[1mwandb\u001b[0m: Appending key for api.wandb.ai to your netrc file: /root/.netrc\n"
          ]
        }
      ],
      "source": [
        "!wandb login f63b589f2c31fd6562d752168e172d22870ab562"
      ]
    },
    {
      "cell_type": "markdown",
      "source": [
        "## question 1\n"
      ],
      "metadata": {
        "id": "Ae_adlGY7RGu"
      }
    },
    {
      "cell_type": "code",
      "source": [
        "wandb.init(project='DL-Assignment-1',name='Ques : 1')"
      ],
      "metadata": {
        "colab": {
          "base_uri": "https://localhost:8080/",
          "height": 142
        },
        "id": "Ith7OWP18kEI",
        "outputId": "ee05d6df-da3b-442c-ee9d-bcf942145a84"
      },
      "execution_count": null,
      "outputs": [
        {
          "output_type": "stream",
          "name": "stderr",
          "text": [
            "\u001b[34m\u001b[1mwandb\u001b[0m: Currently logged in as: \u001b[33mcs23m015\u001b[0m. Use \u001b[1m`wandb login --relogin`\u001b[0m to force relogin\n"
          ]
        },
        {
          "output_type": "display_data",
          "data": {
            "text/plain": [
              "<IPython.core.display.HTML object>"
            ],
            "text/html": [
              "Tracking run with wandb version 0.16.4"
            ]
          },
          "metadata": {}
        },
        {
          "output_type": "display_data",
          "data": {
            "text/plain": [
              "<IPython.core.display.HTML object>"
            ],
            "text/html": [
              "Run data is saved locally in <code>/content/wandb/run-20240316_155450-olna2yup</code>"
            ]
          },
          "metadata": {}
        },
        {
          "output_type": "display_data",
          "data": {
            "text/plain": [
              "<IPython.core.display.HTML object>"
            ],
            "text/html": [
              "Syncing run <strong><a href='https://wandb.ai/cs23m015/DL-Assignment-1/runs/olna2yup' target=\"_blank\">Ques : 1</a></strong> to <a href='https://wandb.ai/cs23m015/DL-Assignment-1' target=\"_blank\">Weights & Biases</a> (<a href='https://wandb.me/run' target=\"_blank\">docs</a>)<br/>"
            ]
          },
          "metadata": {}
        },
        {
          "output_type": "display_data",
          "data": {
            "text/plain": [
              "<IPython.core.display.HTML object>"
            ],
            "text/html": [
              " View project at <a href='https://wandb.ai/cs23m015/DL-Assignment-1' target=\"_blank\">https://wandb.ai/cs23m015/DL-Assignment-1</a>"
            ]
          },
          "metadata": {}
        },
        {
          "output_type": "display_data",
          "data": {
            "text/plain": [
              "<IPython.core.display.HTML object>"
            ],
            "text/html": [
              " View run at <a href='https://wandb.ai/cs23m015/DL-Assignment-1/runs/olna2yup' target=\"_blank\">https://wandb.ai/cs23m015/DL-Assignment-1/runs/olna2yup</a>"
            ]
          },
          "metadata": {}
        },
        {
          "output_type": "execute_result",
          "data": {
            "text/html": [
              "<button onClick=\"this.nextSibling.style.display='block';this.style.display='none';\">Display W&B run</button><iframe src='https://wandb.ai/cs23m015/DL-Assignment-1/runs/olna2yup?jupyter=true' style='border:none;width:100%;height:420px;display:none;'></iframe>"
            ],
            "text/plain": [
              "<wandb.sdk.wandb_run.Run at 0x7b726ed771f0>"
            ]
          },
          "metadata": {},
          "execution_count": 4
        }
      ]
    },
    {
      "cell_type": "code",
      "source": [
        "# Load the Fashion MNIST dataset\n",
        "(train_images, train_lables), (test_images, test_lables) = fashion_mnist.load_data()\n",
        "\n",
        "# Define class names corresponding to the 10 categories in the Fashion MNIST dataset\n",
        "class_names = [\n",
        "    'T-shirt/top',\n",
        "    'Trouser',\n",
        "    'Pullover',\n",
        "    'Dress',\n",
        "    'Coat',\n",
        "    'Sandal',\n",
        "    'Shirt',\n",
        "    'Sneaker',\n",
        "    'Bag',\n",
        "    'Ankle boot',\n",
        "]\n",
        "\n",
        "#For each class potting one sample image\n",
        "plt.figure(figsize=(15,7))\n",
        "\n",
        "images_plot=[]\n",
        "# Loop through each class label and plot the first image in the training set for that class\n",
        "i=0\n",
        "while i< len(class_names):\n",
        "    # Discover the position of first occurence of class in dataset\n",
        "    index = np.argmax(train_lables==i)\n",
        "\n",
        "    # Ploting image for present class\n",
        "    plt.subplot(2,5,i+1)  # No of rows=2 , No of colomns = 5 for 10 classes\n",
        "    plt.imshow(train_images[index], cmap='gray')\n",
        "    plt.title(class_names[i])  # Put the title to the class name\n",
        "    plt.axis('off')  # Switch off the  axis lables for better visualization\n",
        "    images_plot.append(wandb.Image(train_images[index], caption=class_names[i]))\n",
        "    i+=1\n",
        "# wandb.log({'Question1':images_plot})\n",
        "\n",
        "# Shows figure with plotted images\n",
        "plt.show()\n",
        "wandb.finish()"
      ],
      "metadata": {
        "colab": {
          "base_uri": "https://localhost:8080/",
          "height": 553
        },
        "id": "QGMPLVKd7ThT",
        "outputId": "17927365-0a94-4e7c-803b-9f2e18903d55"
      },
      "execution_count": null,
      "outputs": [
        {
          "output_type": "display_data",
          "data": {
            "text/plain": [
              "<Figure size 1500x700 with 10 Axes>"
            ],
            "image/png": "[encoded data removed]"
          },
          "metadata": {}
        }
      ]
    },
    {
      "cell_type": "markdown",
      "source": [
        "## NeuralNetwork"
      ],
      "metadata": {
        "id": "hEvvh42KtsVV"
      }
    },
    {
      "cell_type": "code",
      "source": [
        "dataset = 'fashion_mnist'\n",
        "if dataset == 'fashion_mnist':\n",
        "  (x1, y1), (x2, y2) = fashion_mnist.load_data()\n",
        "elif dataset== 'mnist':\n",
        "  (x1, y1), (x2, y2) = mnist.load_data()\n",
        "\n",
        "x1=x1.reshape(x1.shape[0],-1) / 255\n",
        "x2=x2.reshape(x2.shape[0],-1)/ 255\n",
        "\n",
        "x1, x_val, y1, y_val = train_test_split(x1,y1, test_size=0.1, random_state=0)\n",
        "\n",
        "class NeuralNetwork:\n",
        "    def __init__(self):\n",
        "\n",
        "        self.w,self.b,self.a,self.h,self.wd,self.ad,self.hd,self.bd=[],[],[],[],[],[],[],[]\n",
        "\n",
        "\n",
        "\n",
        "    def activations(self,act,k):\n",
        "        if act=='sigmoid':\n",
        "            s=1+np.exp(-k)\n",
        "            return 1/s\n",
        "        elif act =='relu':\n",
        "            s=k*(k>0)\n",
        "            return s\n",
        "        elif act =='tanh':\n",
        "            s = np.tanh(k)\n",
        "            return s\n",
        "        elif act == 'identity':\n",
        "            return k\n",
        "        elif act =='softmax':\n",
        "            x=np.copy(k)\n",
        "            i=0\n",
        "            while i < k.shape[0]:\n",
        "                add=0\n",
        "                largi=np.argmax(k[i])\n",
        "                j=0\n",
        "                while j< k.shape[1]:\n",
        "                    add+=np.exp(k[i][j]-k[i][largi])\n",
        "                    j=j+1\n",
        "                s=k[i]-k[i][largi]\n",
        "                k[i]=np.exp(s)/add\n",
        "                x[i]=k[i]\n",
        "                i=i+1\n",
        "            return x\n",
        "\n",
        "\n",
        "    def activations_derivative(self,act,k):\n",
        "        if act=='sigmoid':\n",
        "            s = np.multiply((1/(1+np.exp(-k))),(1-(1/(1+np.exp(-k)))))\n",
        "            return s\n",
        "        if act=='relu':\n",
        "            relu_derivative=0\n",
        "            relu_derivative=np.maximum(0,k)\n",
        "            relu_derivative[relu_derivative>0]=1\n",
        "            return relu_derivative\n",
        "        if act=='tanh':\n",
        "            # a=np.exp(k)-np.exp(-k)\n",
        "            # b=np.exp(k)+np.exp(-k)\n",
        "            # # x=a/b\n",
        "            # return 1-np.square(x)\n",
        "            return 1-np.tanh(k)**2\n",
        "        if act == 'identity':\n",
        "            return 1\n",
        "\n",
        "\n",
        "    def loss_function(self,fn_loss,yhat,y1,mom):\n",
        "        cac=0\n",
        "        i=0\n",
        "        while i<len(self.w):\n",
        "            s=np.sum(self.w[i]**2)\n",
        "            cac=cac+s\n",
        "            i=i+1\n",
        "        cac=mom*cac\n",
        "        cac=cac/2\n",
        "        ch=1\n",
        "        if fn_loss=='cross_entropy':\n",
        "            loss=0\n",
        "            i=0\n",
        "            while i<y1.shape[0]:\n",
        "                loss=loss-((np.log2(yhat[i][y1[i]])))\n",
        "                i=i+1\n",
        "            s=loss+cac\n",
        "            z=y1.shape[0]\n",
        "            return s/z\n",
        "\n",
        "        elif fn_loss=='mean_square':\n",
        "            bl=np.zeros((y1.shape[0],yhat.shape[1]))\n",
        "            i=0\n",
        "            while i<y1.shape[0]:\n",
        "                bl[i][y1[i]]=1\n",
        "                i=i+1\n",
        "            s=(np.sum(((yhat-bl)**2)))+cac\n",
        "            t=y1.shape[0]\n",
        "            return s/t\n",
        "\n",
        "\n",
        "\n",
        "    def make_layers(self,hidden_layers,neuron,neuron_input,start,classes):\n",
        "\n",
        "        self.w = []\n",
        "        self.b = []\n",
        "\n",
        "        all_layer=[]\n",
        "        np.random.seed(5)\n",
        "        all_layer.append(neuron_input)\n",
        "        i=0\n",
        "        while i<hidden_layers:\n",
        "            all_layer.append(neuron)\n",
        "            i=i+1\n",
        "        intialization = 0\n",
        "        all_layer.append(classes)\n",
        "        # all_layer = [784,128,,,,,10]\n",
        "        if start=='random':\n",
        "            i =0\n",
        "            while i<= hidden_layers:\n",
        "                # self.b.append(np.random.randn(1,all_layer[i+1]))\n",
        "                # self.w.append(np.random.randn(all_layer[i],all_layer[i+1]))\n",
        "\n",
        "                self.b.append(np.random.uniform(-0.5,0.5,(1,all_layer[i+1])))\n",
        "                self.w.append(np.random.uniform(-0.5,0.5,(all_layer[i],all_layer[i+1])))\n",
        "                i=i+1\n",
        "        if start=='xavier':\n",
        "            i=0\n",
        "            while i<= hidden_layers:\n",
        "                self.b.append((np.random.randn(1,all_layer[i+1]))*np.sqrt(6/(1+all_layer[i+1])))\n",
        "                self.w.append((np.random.randn(all_layer[i],all_layer[i+1]))*np.sqrt(6/(all_layer[i]+all_layer[i+1])))\n",
        "\n",
        "                # n=np.sqrt(6/(all_layer[i]+all_layer[i+1]))\n",
        "                # wt=np.random.uniform(-n,n,(all_layer[i],all_layer[i+1]))\n",
        "                # b=np.random.uniform(-n,n,(1,all_layer[i+1]))\n",
        "                # self.b.append(b)\n",
        "                # self.w.append(wt)\n",
        "                i=i+1\n",
        "\n",
        "    def forward_pass(self,x,act='sigmoid'):\n",
        "\n",
        "        self.a,self.h=[],[]\n",
        "        check=x\n",
        "        i=0\n",
        "        while i<len(self.w)-1:\n",
        "            q1=np.add(np.matmul(check,self.w[i]),self.b[i])\n",
        "            bool = act=='relu' and i==0\n",
        "            if (bool):\n",
        "                j=0\n",
        "                s=q1.shape[0]\n",
        "                while j < s:\n",
        "                    maxi=np.argmax(q1[j])\n",
        "                    q1[j]/=q1[j][maxi]\n",
        "                    j=j+1\n",
        "            r1=self.activations(act,q1)\n",
        "            check=r1\n",
        "            self.h.append(r1)\n",
        "            self.a.append(q1)\n",
        "            i=i+1\n",
        "        # print(len(self.w)-1,\"check\")\n",
        "        z=len(self.w)-1\n",
        "        q1=np.add(np.matmul(check,self.w[z]),self.b[z])\n",
        "        r1=self.activations('softmax',q1)\n",
        "        self.h.append(r1)\n",
        "        self.a.append(q1)\n",
        "\n",
        "        return self.h[-1]\n",
        "\n",
        "\n",
        "\n",
        "    def backward_pass(self,yhat,y1,x1,classes,activation,fn_loss,mom):\n",
        "        self.wd,self.bd,self.ad,self.hd=[],[],[],[]\n",
        "        bl=0\n",
        "        bl=np.zeros((y1.shape[0],classes))\n",
        "        i=0\n",
        "        while i< y1.shape[0]:\n",
        "            bl[i][y1[i]]=1\n",
        "            i=i+1\n",
        "\n",
        "        b=None\n",
        "        a=None\n",
        "\n",
        "\n",
        "        if fn_loss==\"cross_entropy\":\n",
        "            yhatl=np.zeros((yhat.shape[0],1))\n",
        "            i=0\n",
        "            while i< yhat.shape[0]:\n",
        "                yhatl[i]=yhat[i][y1[i]]\n",
        "                i=i+1\n",
        "\n",
        "            b=-1*(bl-yhat)\n",
        "            a=-1*(bl/yhatl)\n",
        "\n",
        "            self.hd.append(a)\n",
        "            self.ad.append(b)\n",
        "\n",
        "        elif fn_loss==\"mean_square\":\n",
        "            s=yhat-bl\n",
        "            a=2*s\n",
        "            self.hd.append(a)\n",
        "            b=[]\n",
        "            j=0\n",
        "            while j< yhat.shape[1]:\n",
        "                r=yhat.shape[0]\n",
        "                s=yhat.shape[1]\n",
        "                hot_j=np.zeros((r,s))\n",
        "                hot_j[:,j]=1\n",
        "                hat_j=np.ones((r,s))*(yhat[:,j].reshape(r,1))\n",
        "                l=yhat-bl\n",
        "                x=hot_j-hat_j\n",
        "                aj=2*(np.sum((l)*(yhat*(x)),axis=1))\n",
        "                b.append(aj)\n",
        "                j=j+1\n",
        "            self.ad.append(np.array(b).T)\n",
        "\n",
        "\n",
        "\n",
        "        j = len(self.w)-1\n",
        "        while j>-1:\n",
        "            u=self.h[j-1].T\n",
        "            bool = (j==0)\n",
        "            if bool:\n",
        "                u=x1.T\n",
        "            t=x1.shape[0]\n",
        "            length=len(self.ad)\n",
        "            w=np.matmul(u,self.ad[-1])/t\n",
        "            b=np.sum(self.ad[length-1],axis=0)/t\n",
        "            if j!=0:\n",
        "                a=np.matmul(self.ad[length-1],self.w[j].T)\n",
        "                der=self.activations_derivative(activation,self.a[j-1])\n",
        "                z=np.multiply(a,der)\n",
        "                self.hd.append(a)\n",
        "                self.ad.append(z)\n",
        "            self.bd.append(b)\n",
        "            self.wd.append(w)\n",
        "            j=j-1\n",
        "        i=0\n",
        "\n",
        "        while i< len(self.w):\n",
        "            s=len(self.w)-1-i\n",
        "            self.wd[s]-=mom*self.w[i]\n",
        "            i=i+1\n",
        "\n",
        "    def accuracy(self,x2,y2,act):\n",
        "        self.forward_pass(x2,act)\n",
        "        ypred=np.argmax(self.h[len(self.w)-1],axis=1)\n",
        "        n=0\n",
        "        l=y2.shape[0]\n",
        "        i=0\n",
        "        while i<y2.shape[0]:\n",
        "            if ypred[i]!=y2[i]:\n",
        "                n+=+1\n",
        "            i+=1\n",
        "        return ((x2.shape[0]-n)/y2.shape[0])*100\n",
        "\n",
        "\n",
        "    def predict(self,x2,y2,act):\n",
        "        self.forward_pass(x2,act)\n",
        "        fut=np.argmax(self.h[len(self.w)-1],axis=1)\n",
        "        n=0\n",
        "        i=0\n",
        "        while i < y2.shape[0]:\n",
        "            if fut[i]!=y2[i]:\n",
        "                n+=1\n",
        "            i+=1\n",
        "\n",
        "        acc=((x2.shape[0]-n)/y2.shape[0])*100\n",
        "        print(\"Test Accuracy: \"+str(acc))\n",
        "\n",
        "\n",
        "    def createBatches(self,x1,y1,size):\n",
        "        info,res=[],[]\n",
        "        s=x1.shape[0]\n",
        "        l=math.ceil(s/size)\n",
        "        i=0\n",
        "        while i < l:\n",
        "            group,group_ans=[],[]\n",
        "            j=i*size\n",
        "            s=min((i+1)*size,x1.shape[0])\n",
        "            while j< s:\n",
        "                group.append(x1[j])\n",
        "                group_ans.append(y1[j])\n",
        "                j+=1\n",
        "            group_ans=np.array(group_ans)\n",
        "            group=np.array(group)\n",
        "            info.append(group)\n",
        "            res.append(group_ans)\n",
        "            i+=1\n",
        "        return info,res\n",
        "\n",
        "\n",
        "    def onePass(self,x1,y1,classes,lay,rate,act,fn_loss,mom):\n",
        "        self.forward_pass(x1 ,act)\n",
        "\n",
        "        self.backward_pass(self.h[lay-1], y1,x1,classes, act,fn_loss,mom)\n",
        "\n",
        "\n",
        "    def batch(self,x1,y1,lay,epo,count,size,act,fn_ans,mom):\n",
        "        classes=10\n",
        "        info,res=self.createBatches(x1,y1,size)\n",
        "\n",
        "        i=0\n",
        "        while i < epo:\n",
        "            h=None\n",
        "            j=0\n",
        "            s=len(info)\n",
        "            while j< s:\n",
        "                self.onePass(info[j],res[j],classes,lay,count,act,fn_ans,mom)\n",
        "                k=0\n",
        "                while k< lay:\n",
        "                    q=lay-1-k\n",
        "                    self.w[k]-=count*(self.wd[q])\n",
        "                    self.b[k]-=count*self.bd[q]\n",
        "                    k+=1\n",
        "                j+=1\n",
        "            i+=1\n",
        "            self.forward_pass(x1,act)\n",
        "            loss_train=1\n",
        "            loss1=self.loss_function(fn_ans,self.h[lay-1],y1,mom)\n",
        "            self.forward_pass(x_val,act)\n",
        "            loss2=self.loss_function(fn_ans,self.h[lay-1],y_val,mom)\n",
        "            acc1=self.accuracy(x1,y1,act)\n",
        "            acc2=self.accuracy(x_val,y_val,act)\n",
        "\n",
        "            wandb.log(\n",
        "                    {\n",
        "                        'epoch': i,\n",
        "                        'training_loss' : round(loss1,2),\n",
        "                        'training_accuracy' : round(acc1,2),\n",
        "                        'validation_loss' : round(loss2,2),\n",
        "                        'validation_accuracy':round(acc2,2)\n",
        "                    }\n",
        "                )\n",
        "            print(\"Iteration Number: \"+str(i), end=\"\")\n",
        "            print(\" Train Loss : \"+str(loss1))\n",
        "            print(\"Iteration Number: \"+str(i), end=\"\")\n",
        "            print(\" Validation Loss : \"+str(loss2))\n",
        "            print(\"Iteration Number: \"+str(i), end=\"\")\n",
        "            print(\" Train Accurcy : \"+str(acc1))\n",
        "            print(\"Iteration Number: \"+str(i), end=\"\")\n",
        "            print(\" Validaion Accuracy: \"+str(acc2))\n",
        "\n",
        "\n",
        "    def momentum(self,x1,y1,lay,epo,count,size,eta,act,fn_loss,mom):\n",
        "        info,res=self.createBatches(x1,y1,size)\n",
        "        classes=10\n",
        "        alpha,beta=[],[]\n",
        "        i=0\n",
        "        while i< lay:\n",
        "            a=np.zeros((self.w[i].shape))\n",
        "            b=np.zeros(self.b[i].shape)\n",
        "            beta.append(b)\n",
        "            alpha.append(a)\n",
        "            i+=1\n",
        "        i=0\n",
        "        while i<epo :\n",
        "            j=0\n",
        "            while j< len(info):\n",
        "                self.onePass(info[j],res[j],classes,lay,count,act,fn_loss,mom)\n",
        "                k=0\n",
        "                while k < lay:\n",
        "                    s=lay-1-k\n",
        "                    alpha[k]=(alpha[k]*eta)+self.wd[s]\n",
        "                    beta[k]=(beta[k]*eta)+self.bd[s]\n",
        "                    self.w[k]-=count*alpha[k]\n",
        "                    self.b[k]-=count*beta[k]\n",
        "                    k+=1\n",
        "                j+=1\n",
        "            i+=1\n",
        "\n",
        "            self.forward_pass(x1,act)\n",
        "            loss1=self.loss_function(fn_loss,self.h[lay-1],y1,mom)\n",
        "            self.forward_pass(x_val,act)\n",
        "            loss2=self.loss_function(fn_loss,self.h[lay-1],y_val,mom)\n",
        "            acc1=self.accuracy(x1,y1,act)\n",
        "            acc2=self.accuracy(x_val,y_val,act)\n",
        "\n",
        "            wandb.log(\n",
        "                    {\n",
        "                        'epoch': i,\n",
        "                        'training_loss' : round(loss1,2),\n",
        "                        'training_accuracy' : round(acc1,2),\n",
        "                        'validation_loss' : round(loss2,2),\n",
        "                        'validation_accuracy':round(acc2,2)\n",
        "                    }\n",
        "                )\n",
        "            print(\"Iteration Number: \"+str(i), end=\"\")\n",
        "            print(\" Train Loss : \"+str(loss1))\n",
        "            print(\"Iteration Number: \"+str(i), end=\"\")\n",
        "            print(\" Validation Loss : \"+str(loss2))\n",
        "            print(\"Iteration Number: \"+str(i), end=\"\")\n",
        "            print(\" Train Accurcy : \"+str(acc1))\n",
        "            print(\"Iteration Number: \"+str(i), end=\"\")\n",
        "            print(\" Validaion Accuracy: \"+str(acc2))\n",
        "\n",
        "\n",
        "    def nestrov(self,x1,y1,lay,epo,count,size,eta,act,fn_loss,mom):\n",
        "        classes=10\n",
        "        info,res=self.createBatches(x1,y1,size)\n",
        "\n",
        "        alpha,beta=[],[]\n",
        "\n",
        "        i=0\n",
        "        while i<lay:\n",
        "            b=np.zeros((self.b[i].shape))\n",
        "            a=np.zeros((self.w[i].shape))\n",
        "            beta.append(b)\n",
        "            alpha.append(a)\n",
        "            i+=1\n",
        "\n",
        "        i=0\n",
        "        while i< epo:\n",
        "            j=0\n",
        "            while j< len(info):\n",
        "                k=0\n",
        "                while k < lay:\n",
        "                    self.b[k]-=eta*beta[k]\n",
        "                    self.w[k]-=eta*alpha[k]\n",
        "                    k+=1\n",
        "                self.onePass(info[j],res[j],classes,lay,count,act,fn_loss,mom)\n",
        "                k=0\n",
        "                while k<lay:\n",
        "                    s=lay-1-k\n",
        "                    alpha[k]=(eta*alpha[k])+count*(self.wd[s])\n",
        "                    beta[k]=(eta*beta[k])+count*self.bd[s]\n",
        "                    self.b[k]-=beta[k]\n",
        "                    self.w[k]-=alpha[k]\n",
        "                    k+=1\n",
        "                j+=1\n",
        "            i+=1\n",
        "\n",
        "            self.forward_pass(x1,act)\n",
        "            s=lay-1\n",
        "            loss1=self.loss_function(fn_loss,self.h[s],y1,mom)\n",
        "            self.forward_pass(x_val,act)\n",
        "            loss2=self.loss_function(fn_loss,self.h[s],y_val,mom)\n",
        "            acc1=self.accuracy(x1,y1,act)\n",
        "            acc2=self.accuracy(x_val,y_val,act)\n",
        "            wandb.log(\n",
        "                    {\n",
        "                        'epoch': i,\n",
        "                        'training_loss' : round(loss1,2),\n",
        "                        'training_accuracy' : round(acc1,2),\n",
        "                        'validation_loss' : round(loss2,2),\n",
        "                        'validation_accuracy':round(acc2,2)\n",
        "                    }\n",
        "                )\n",
        "            print(\"Iteration Number: \"+str(i), end=\"\")\n",
        "            print(\" Train Loss : \"+str(loss1))\n",
        "            print(\"Iteration Number: \"+str(i), end=\"\")\n",
        "            print(\" Validation Loss : \"+str(loss2))\n",
        "            print(\"Iteration Number: \"+str(i), end=\"\")\n",
        "            print(\" Train Accurcy : \"+str(acc1))\n",
        "            print(\"Iteration Number: \"+str(i), end=\"\")\n",
        "            print(\" Validaion Accuracy: \"+str(acc2))\n",
        "\n",
        "\n",
        "\n",
        "\n",
        "    def rmsProp(self,x1,y1,lay,epo,count,size,eta,act,fn_loss,mom,e):\n",
        "        info,res=self.createBatches(x1,y1,size)\n",
        "        classes =10\n",
        "        alpha,beta=[],[]\n",
        "\n",
        "        i=0\n",
        "        while i< lay:\n",
        "            b=np.zeros((self.b[i].shape))\n",
        "            a=np.zeros((self.w[i].shape))\n",
        "            beta.append(b)\n",
        "            alpha.append(a)\n",
        "            i+=1\n",
        "\n",
        "        i=0\n",
        "        while i < int(epo):\n",
        "            j=0\n",
        "            while j < len(info):\n",
        "                self.onePass(info[j],res[j],classes,lay,count,act,fn_loss,mom)\n",
        "                k=0\n",
        "                while k < lay:\n",
        "                    s=lay-1-k\n",
        "                    q=1-eta\n",
        "                    alpha[k]=(alpha[k]*eta)+(q)*np.square(self.wd[s])\n",
        "                    beta[k]=(beta[k]*eta)+(q)*np.square(self.bd[s])\n",
        "                    self.w[k]-=(count/np.sqrt(np.linalg.norm(alpha[k]+e)))*self.wd[s]\n",
        "                    self.b[k]-=(count/np.sqrt(np.linalg.norm(beta[k]+e)))*self.bd[s]\n",
        "                    k+=1\n",
        "                j+=1\n",
        "            i+=1\n",
        "\n",
        "            self.forward_pass(x1,act)\n",
        "            s=lay-1\n",
        "            loss1=self.loss_function(fn_loss,self.h[s],y1,mom)\n",
        "            self.forward_pass(x_val,act)\n",
        "            loss2=self.loss_function(fn_loss,self.h[s],y_val,mom)\n",
        "            acc1=self.accuracy(x1,y1,act)\n",
        "            acc2=self.accuracy(x_val,y_val,act)\n",
        "            wandb.log(\n",
        "                    {\n",
        "                        'epoch': i,\n",
        "                        'training_loss' : round(loss1,2),\n",
        "                        'training_accuracy' : round(acc1,2),\n",
        "                        'validation_loss' : round(loss2,2),\n",
        "                        'validation_accuracy':round(acc2,2)\n",
        "                    }\n",
        "                )\n",
        "            # print(\"Iteration Number: \"+str(i), end=\"\")\n",
        "            # print(\" Train Loss : \"+str(loss1))\n",
        "            # print(\"Iteration Number: \"+str(i), end=\"\")\n",
        "            # print(\" Validation Loss : \"+str(loss2))\n",
        "            # print(\"Iteration Number: \"+str(i), end=\"\")\n",
        "            # print(\" Train Accurcy : \"+str(acc1))\n",
        "            # print(\"Iteration Number: \"+str(i), end=\"\")\n",
        "            # print(\" Validaion Accuracy: \"+str(acc2))\n",
        "\n",
        "\n",
        "    def adam(self,x1,y1,lay,epo,count,size,eta1,eta2,act,fn_loss,e,mom):\n",
        "        info,res=self.createBatches(x1,y1,size)\n",
        "        classes=10\n",
        "        w1,w2,b1,b2=[],[],[],[]\n",
        "\n",
        "        i=0\n",
        "        while i< lay:\n",
        "            b=np.zeros((self.w[i].shape))\n",
        "            a=np.zeros((self.w[i].shape))\n",
        "            w2.append(b)\n",
        "            w1.append(a)\n",
        "            b=np.zeros((self.b[i].shape))\n",
        "            a=np.zeros((self.b[i].shape))\n",
        "            b1.append(a)\n",
        "            b2.append(b)\n",
        "            i+=1\n",
        "\n",
        "        a=0\n",
        "        i = 0\n",
        "        while i < int(epo):\n",
        "            j=0\n",
        "            while j< len(info):\n",
        "                a=a+1\n",
        "                self.onePass(info[j],res[j],classes,lay,count,act,fn_loss,mom)\n",
        "                k=0\n",
        "                while k< lay:\n",
        "                    r=1-eta1\n",
        "                    p=1-eta2\n",
        "                    u=1-eta1**a\n",
        "                    v=1-eta2**a\n",
        "                    s=lay-1-k\n",
        "\n",
        "                    w1[k]=(w1[k]*eta1)+(r)*self.wd[s]\n",
        "                    mwhat=w1[k]/(u)\n",
        "\n",
        "                    w2[k]=(w2[k]*eta2)+(p)*np.square(self.wd[s])\n",
        "                    vwhat=w2[k]/(v)\n",
        "\n",
        "                    b1[k]=(b1[k]*eta1)+(r)*self.bd[s]\n",
        "                    mbhat=b1[k]/(u)\n",
        "\n",
        "                    b2[k]=(b2[k]*eta2)+(p)*np.square(self.bd[s])\n",
        "                    vbhat=b2[k]/(v)\n",
        "\n",
        "                    self.w[k]-=(count/np.sqrt(vwhat+e))*mwhat\n",
        "                    self.b[k]-=(count/np.sqrt(vbhat+e))*mbhat\n",
        "                    k+=1\n",
        "                j+=1\n",
        "            i=i+1\n",
        "            self.forward_pass(x1, act)\n",
        "            s=lay-1\n",
        "            loss1=self.loss_function(fn_loss,self.h[s],y1,mom)\n",
        "            self.forward_pass(x_val,act)\n",
        "            loss2=self.loss_function(fn_loss,self.h[s],y_val,mom)\n",
        "            acc1=self.accuracy(x1,y1,act)\n",
        "            acc2=self.accuracy(x_val,y_val,act)\n",
        "            wandb.log(\n",
        "                    {\n",
        "                        'epoch': i,\n",
        "                        'training_loss' : round(loss1,2),\n",
        "                        'training_accuracy' : round(acc1,2),\n",
        "                        'validation_loss' : round(loss2,2),\n",
        "                        'validation_accuracy':round(acc2,2)\n",
        "                    }\n",
        "                )\n",
        "            # print(\"Iteration Number: \"+str(i), end=\"\")\n",
        "            # print(\" Train Loss : \"+str(loss1))\n",
        "            # print(\"Iteration Number: \"+str(i), end=\"\")\n",
        "            # print(\" Validation Loss : \"+str(loss2))\n",
        "            # print(\"Iteration Number: \"+str(i), end=\"\")\n",
        "            # print(\" Train Accurcy : \"+str(acc1))\n",
        "            # print(\"Iteration Number: \"+str(i), end=\"\")\n",
        "            # print(\" Validaion Accuracy: \"+str(acc2))\n",
        "\n",
        "\n",
        "    def Nadam(self,x1,y1,lay,epo,count,size,eta1,eta2,act,fn_loss,e,mom):\n",
        "        classes=10\n",
        "        w1,w2,b1,b2=[],[],[],[]\n",
        "        info,res=self.createBatches(x1,y1,size)\n",
        "\n",
        "        for i in range(lay):\n",
        "            b=np.zeros((self.w[i].shape))\n",
        "            a=np.zeros((self.w[i].shape))\n",
        "            w2.append(b)\n",
        "            w1.append(a)\n",
        "            b=np.zeros((self.b[i].shape))\n",
        "            a=np.zeros((self.b[i].shape))\n",
        "            b1.append(a)\n",
        "            b2.append(b)\n",
        "\n",
        "        a=0\n",
        "        i=0\n",
        "        while i< int(epo):\n",
        "            j=0\n",
        "            while j< len(info):\n",
        "                a=a+1\n",
        "                self.onePass(info[j],res[j],classes,lay,count,act,fn_loss,mom)\n",
        "                k=0\n",
        "                while k < lay:\n",
        "                    r=1-eta1\n",
        "                    p=1-eta2\n",
        "                    u=1-eta1**a\n",
        "                    v=1-eta2**a\n",
        "                    s=lay-1-k\n",
        "                    w1[k]=(w1[k]*eta1)+(r)*self.wd[s]\n",
        "                    mwhat=w1[k]/(u)\n",
        "\n",
        "                    w2[k]=(w2[k]*eta2)+(p)*np.square(self.wd[s])\n",
        "                    vwhat=w2[k]/(v)\n",
        "\n",
        "                    b1[k]=(b1[k]*eta1)+(r)*self.bd[s]\n",
        "                    mbhat=b1[k]/(u)\n",
        "\n",
        "                    b2[k]=(b2[k]*eta2)+(p)*np.square(self.bd[s])\n",
        "                    vbhat=b2[k]/(v)\n",
        "\n",
        "                    self.w[k]-=(count/np.sqrt(vwhat+e))*(eta1*mwhat+(((r)*self.wd[s])/(u)))\n",
        "                    self.b[k]-=(count/np.sqrt(vbhat+e))*(eta1*mbhat+(((r)*self.bd[s])/(u)))\n",
        "                    k=k+1\n",
        "                j=j+1\n",
        "            i=i+1\n",
        "            self.forward_pass(x1,act)\n",
        "            s=lay-1\n",
        "            loss1=self.loss_function(fn_loss ,self.h[s],y1,mom)\n",
        "            self.forward_pass(x_val ,act)\n",
        "            loss2=self.loss_function(fn_loss,self.h[s], y_val,mom)\n",
        "            acc1=self.accuracy(x1 ,y1 ,act)\n",
        "            acc2=self.accuracy(x_val ,y_val,act)\n",
        "            wandb.log(\n",
        "                    {\n",
        "                        'epoch': i,\n",
        "                        'training_loss' : round(loss1,2),\n",
        "                        'training_accuracy' : round(acc1,2),\n",
        "                        'validation_loss' : round(loss2,2),\n",
        "                        'validation_accuracy':round(acc2,2)\n",
        "                    }\n",
        "                )\n",
        "            print(\"Iteration Number: \"+str(i), end=\"\")\n",
        "            print(\" Train Loss : \"+str(loss1))\n",
        "            print(\"Iteration Number: \"+str(i), end=\"\")\n",
        "            print(\" Validation Loss : \"+str(loss2))\n",
        "            print(\"Iteration Number: \"+str(i), end=\"\")\n",
        "            print(\" Train Accurcy : \"+str(acc1))\n",
        "            print(\"Iteration Number: \"+str(i), end=\"\")\n",
        "            print(\" Validaion Accuracy: \"+str(acc2))\n",
        "\n",
        "\n",
        "\n",
        "    def architecture(self,x1,y1,x2,y2,hiddenlayers,neuron,input_neuron,batch,initialization,fn_loss,activation,optimizer,n,iter,beta,beta1,beta2,e,alpha,mom):\n",
        "        # self.w,self.b=[],[]\n",
        "        self.make_layers(hiddenlayers,neuron,input_neuron,initialization,10)\n",
        "        # print(len(self.w),\"arch\")\n",
        "        if optimizer==\"batch\":\n",
        "            self.batch(x1,y1,len(self.w),iter,n,batch,activation,fn_loss,alpha)\n",
        "        elif optimizer=='momentum':\n",
        "            self.momentum(x1,y1,len(self.w),iter,n,batch,mom,activation,fn_loss,alpha)\n",
        "        elif optimizer=='nestrov':\n",
        "            self.nestrov(x1,y1,len(self.w),iter,n,batch,beta,activation,fn_loss,alpha)\n",
        "        elif optimizer=='rmsProp':\n",
        "            self.rmsProp(x1,y1,len(self.w),iter,n,batch,beta,activation,fn_loss,alpha,e)\n",
        "        elif optimizer=='adam':\n",
        "            self.adam(x1,y1,len(self.w),iter,n,batch,beta1,beta2,activation,fn_loss,e,alpha)\n",
        "        elif optimizer=='Nadam':\n",
        "            self.Nadam(x1,y1,len(self.w),iter,n,batch,beta1,beta2,activation,fn_loss,e,alpha)\n",
        "\n",
        "\n"
      ],
      "metadata": {
        "id": "jsioYUuwt_Hi"
      },
      "execution_count": null,
      "outputs": []
    },
    {
      "cell_type": "markdown",
      "source": [
        "## Ques :2"
      ],
      "metadata": {
        "id": "MLbnorQ1tMW5"
      }
    },
    {
      "cell_type": "code",
      "source": [
        "obj = NeuralNetwork()\n",
        "obj.make_layers(4,64,784,'xavier',10)\n",
        "y_preds = obj.forward_pass(x2[1],act='tanh')\n",
        "print(\"predicted values ->\",y_preds)"
      ],
      "metadata": {
        "colab": {
          "base_uri": "https://localhost:8080/"
        },
        "id": "Atn7vByptPUr",
        "outputId": "a86db2fd-64ae-44c9-ae1a-9ec86a1b6c3f"
      },
      "execution_count": null,
      "outputs": [
        {
          "output_type": "stream",
          "name": "stdout",
          "text": [
            "predicted values -> [[0.20352987 0.38565164 0.00232868 0.12472704 0.00587771 0.01696653\n",
            "  0.07192139 0.01676011 0.16570118 0.00653585]]\n"
          ]
        }
      ]
    },
    {
      "cell_type": "markdown",
      "metadata": {
        "id": "QCoNonAhts54"
      },
      "source": [
        "## Ques : 3"
      ]
    },
    {
      "cell_type": "code",
      "source": [
        "wandb.init(project=\"DL-Assignment-1\")\n",
        "# obj=NeuralNetwork()\n",
        "# obj.architecture(x1,\n",
        "#                  y1,\n",
        "#                  x_val,\n",
        "#                  y_val,\n",
        "#                  hiddenlayers=3,\n",
        "#                  neuron=128,\n",
        "#                  input_neuron=784,\n",
        "#                  batch=32,\n",
        "#                  initialization=\"random\",\n",
        "#                  fn_loss=\"mean_square\",\n",
        "#                  activation=\"tanh\",\n",
        "#                  optimizer=\"Nadam\",\n",
        "#                  n=0.001,\n",
        "#                  iter=3,\n",
        "#                  beta=0.9,\n",
        "#                  beta1=0.999,\n",
        "#                  beta2=0.999,\n",
        "#                  e=1e-8,\n",
        "#                  alpha=0,\n",
        "#                  mom=0.9)\n",
        "# obj.predict(x2,y2,act=\"tanh\")\n",
        "# wandb.finish()"
      ],
      "metadata": {
        "id": "IQUgDlgBtiua"
      },
      "execution_count": null,
      "outputs": []
    },
    {
      "cell_type": "markdown",
      "metadata": {
        "id": "3LhmPYb9ts58"
      },
      "source": [
        "## Ques 4"
      ]
    },
    {
      "cell_type": "code",
      "execution_count": null,
      "metadata": {
        "id": "WluKzSIFDyJQ"
      },
      "outputs": [],
      "source": [
        "sweep_config = {\n",
        "            'name': 'sweep 1 : random',\n",
        "            'method': 'random',\n",
        "            'metric': { 'goal': 'maximize','name': 'Accuracy'},\n",
        "            'parameters':\n",
        "                {\n",
        "                    # 'dataset' : {'values': ['fashion_mnist']}, # 'fashion_mnist', 'mnist'\n",
        "                    'iter': {'values': [5,10]},\n",
        "                    'batch': {'values': [32,64]},\n",
        "                    'fn_loss': {'values': ['cross_entropy', 'mean_square']}, # 'mean_squared_error', 'cross_entropy'\n",
        "                    'optimizer': {'values': ['batch', 'momentum', 'nestrov', 'rmsProp', 'adam', 'Nadam']}, # 'sgd', 'momentum', 'nag', 'rmsprop', 'adam', 'nadam'\n",
        "                    'n' : {'values': [1e-3, 1e-4]},\n",
        "                    'mom' : {'values': [0.9,0.5]},\n",
        "                    'beta' : {'values': [0.9,0.5]},\n",
        "                    'beta1' : {'values': [0.999]},\n",
        "                    'beta2' : {'values': [0.999]},\n",
        "                    'e' : {'values': [1e-6]},\n",
        "                    'alpha': {'values': [0,0.0005]},\n",
        "                    'initialization': {'values': ['random','xavier']}, # 'random', 'Xavier'\n",
        "                    'hiddenlayers': {'values': [3, 4, 5]},\n",
        "                    'neuron': {'values': [32, 64, 128]},\n",
        "                    'activation': {'values': ['identity', 'sigmoid','tanh', 'relu']}, # 'identity', 'sigmoid', 'tanh', 'ReLU'\n",
        "                    'outAct': {'values': ['softmax']}\n",
        "                }\n",
        "            }\n",
        "\n",
        "\n",
        "\n",
        "def train():\n",
        "    #init-classinit , config - param_copy\n",
        "    init = wandb.init(project='DL-Assignment-1')\n",
        "    config = init.config\n",
        "    wandb.run.name = (\n",
        "        'o:' + config.optimizer +\n",
        "        '_a:' + config.activation +\n",
        "        '_ep:' + str(config.iter) +\n",
        "        '_l:' + config.fn_loss +\n",
        "        '_i:' + config.initialization +\n",
        "        '_hl:' + str(config.hiddenlayers) +\n",
        "        '_hls:' + str(config.neuron)\n",
        "    )\n",
        "    obj=NeuralNetwork()\n",
        "    obj.architecture(x1,\n",
        "                    y1,\n",
        "                    x_val,\n",
        "                    y_val,\n",
        "                    hiddenlayers=config.hiddenlayers,\n",
        "                    neuron=config.neuron,\n",
        "                    input_neuron=784,\n",
        "                    batch=config.batch,\n",
        "                    initialization=config.initialization,\n",
        "                    fn_loss=config.fn_loss,\n",
        "                    activation=config.activation,\n",
        "                    optimizer=config.optimizer,\n",
        "                    n=config.n,\n",
        "                    iter=config.iter,\n",
        "                    beta=config.beta,\n",
        "                    beta1=config.beta1,\n",
        "                    beta2=config.beta2,\n",
        "                    e=config.e,\n",
        "                    alpha=config.alpha,\n",
        "                    mom=config.mom)\n",
        "\n",
        "    val_acc = obj.accuracy(x_val,y_val,config.activation)\n",
        "    wandb.log({'Accuracy': val_acc})\n",
        "\n",
        "\n",
        "\n",
        "\n",
        "# sweep_id = wandb.sweep(sweep_config, project='DL-Assignment-1')\n",
        "# wandb.agent(sweep_id, train, count = 300)\n",
        "# wandb.finish()\n",
        "\n",
        "\n",
        "\n"
      ]
    },
    {
      "cell_type": "markdown",
      "source": [
        "## Ques 7"
      ],
      "metadata": {
        "id": "LT5GxkxzEjHB"
      }
    },
    {
      "cell_type": "code",
      "source": [
        "wandb.init(project='DL-Assignment-1')\n",
        "obj=NeuralNetwork()\n",
        "obj.architecture(x1,\n",
        "                 y1,\n",
        "                 x_val,\n",
        "                 y_val,\n",
        "                 hiddenlayers=4,\n",
        "                 neuron=128,\n",
        "                 input_neuron=784,\n",
        "                 batch=32,\n",
        "                 initialization=\"xavier\",\n",
        "                 fn_loss=\"cross_entropy\",\n",
        "                 activation=\"tanh\",\n",
        "                 optimizer=\"Nadam\",\n",
        "                 n=0.0005,\n",
        "                 iter=10,\n",
        "                 beta=0.9,\n",
        "                 beta1=0.999,\n",
        "                 beta2=0.999,\n",
        "                 e=1e-8,\n",
        "                 alpha=0,\n",
        "                 mom=0.9)\n",
        "\n",
        "\n",
        "\n"
      ],
      "metadata": {
        "colab": {
          "base_uri": "https://localhost:8080/",
          "height": 798
        },
        "id": "--YOY3MkEtgm",
        "outputId": "6c58efe1-9c9e-41c9-d099-f85982e79bff"
      },
      "execution_count": null,
      "outputs": [
        {
          "output_type": "display_data",
          "data": {
            "text/plain": [
              "<IPython.core.display.HTML object>"
            ],
            "text/html": [
              "Tracking run with wandb version 0.16.4"
            ]
          },
          "metadata": {}
        },
        {
          "output_type": "display_data",
          "data": {
            "text/plain": [
              "<IPython.core.display.HTML object>"
            ],
            "text/html": [
              "Run data is saved locally in <code>/content/wandb/run-20240316_171745-0i95obl4</code>"
            ]
          },
          "metadata": {}
        },
        {
          "output_type": "display_data",
          "data": {
            "text/plain": [
              "<IPython.core.display.HTML object>"
            ],
            "text/html": [
              "Syncing run <strong><a href='https://wandb.ai/cs23m015/DL-Assignment-1/runs/0i95obl4' target=\"_blank\">fancy-violet-907</a></strong> to <a href='https://wandb.ai/cs23m015/DL-Assignment-1' target=\"_blank\">Weights & Biases</a> (<a href='https://wandb.me/run' target=\"_blank\">docs</a>)<br/>"
            ]
          },
          "metadata": {}
        },
        {
          "output_type": "display_data",
          "data": {
            "text/plain": [
              "<IPython.core.display.HTML object>"
            ],
            "text/html": [
              " View project at <a href='https://wandb.ai/cs23m015/DL-Assignment-1' target=\"_blank\">https://wandb.ai/cs23m015/DL-Assignment-1</a>"
            ]
          },
          "metadata": {}
        },
        {
          "output_type": "display_data",
          "data": {
            "text/plain": [
              "<IPython.core.display.HTML object>"
            ],
            "text/html": [
              " View run at <a href='https://wandb.ai/cs23m015/DL-Assignment-1/runs/0i95obl4' target=\"_blank\">https://wandb.ai/cs23m015/DL-Assignment-1/runs/0i95obl4</a>"
            ]
          },
          "metadata": {}
        },
        {
          "output_type": "stream",
          "name": "stdout",
          "text": [
            "Iteration Number: 1 Train Loss : 0.5637975557781287\n",
            "Iteration Number: 1 Validation Loss : 0.5722831418591378\n",
            "Iteration Number: 1 Train Accurcy : 85.56851851851852\n",
            "Iteration Number: 1 Validaion Accuracy: 85.51666666666667\n",
            "Iteration Number: 2 Train Loss : 0.4811285063821223\n",
            "Iteration Number: 2 Validation Loss : 0.5041124093485424\n",
            "Iteration Number: 2 Train Accurcy : 87.6462962962963\n",
            "Iteration Number: 2 Validaion Accuracy: 87.51666666666667\n",
            "Iteration Number: 3 Train Loss : 0.4467892228077329\n",
            "Iteration Number: 3 Validation Loss : 0.4930495006465213\n",
            "Iteration Number: 3 Train Accurcy : 88.74444444444445\n",
            "Iteration Number: 3 Validaion Accuracy: 87.9\n",
            "Iteration Number: 4 Train Loss : 0.45742699469167786\n",
            "Iteration Number: 4 Validation Loss : 0.528399768687431\n",
            "Iteration Number: 4 Train Accurcy : 88.38148148148149\n",
            "Iteration Number: 4 Validaion Accuracy: 87.15\n",
            "Iteration Number: 5 Train Loss : 0.43743633448078056\n",
            "Iteration Number: 5 Validation Loss : 0.5131577827959475\n",
            "Iteration Number: 5 Train Accurcy : 88.63148148148147\n",
            "Iteration Number: 5 Validaion Accuracy: 87.43333333333332\n",
            "Iteration Number: 6 Train Loss : 0.3868287949674056\n",
            "Iteration Number: 6 Validation Loss : 0.45734805240488935\n",
            "Iteration Number: 6 Train Accurcy : 89.92037037037038\n",
            "Iteration Number: 6 Validaion Accuracy: 88.4\n",
            "Iteration Number: 7 Train Loss : 0.3763281665523061\n",
            "Iteration Number: 7 Validation Loss : 0.4588057606715754\n",
            "Iteration Number: 7 Train Accurcy : 90.27407407407408\n",
            "Iteration Number: 7 Validaion Accuracy: 88.8\n",
            "Iteration Number: 8 Train Loss : 0.37052274854252326\n",
            "Iteration Number: 8 Validation Loss : 0.4602657491912275\n",
            "Iteration Number: 8 Train Accurcy : 90.48518518518519\n",
            "Iteration Number: 8 Validaion Accuracy: 88.55\n",
            "Iteration Number: 9 Train Loss : 0.3687126832615788\n",
            "Iteration Number: 9 Validation Loss : 0.46315468945033667\n",
            "Iteration Number: 9 Train Accurcy : 90.52407407407408\n",
            "Iteration Number: 9 Validaion Accuracy: 88.6\n",
            "Iteration Number: 10 Train Loss : 0.3585175596416234\n",
            "Iteration Number: 10 Validation Loss : 0.4595061159572027\n",
            "Iteration Number: 10 Train Accurcy : 90.5925925925926\n",
            "Iteration Number: 10 Validaion Accuracy: 88.16666666666667\n"
          ]
        }
      ]
    },
    {
      "cell_type": "code",
      "source": [
        "y_preds=[]\n",
        "for i in range (len(x2)):\n",
        "  y_preds.append(obj.forward_pass(x2[i],act='tanh'))\n",
        "\n",
        "y_OH_test = np.eye(10)[y2]"
      ],
      "metadata": {
        "id": "eKIzKqhLO0JU"
      },
      "execution_count": null,
      "outputs": []
    },
    {
      "cell_type": "code",
      "source": [
        "class_label = [\"T-shirt/top\", \"Trouser\", \"Pullover\", \"Dress\", \"Coat\", \"Sandal\", \"Shirt\", \"Sneaker\", \"Bag\", \"Ankle boot\"]\n",
        "wandb.init(project=\"DL-Assignment-1\", name=\"Ques 7\")\n",
        "df_conf_matrix = pd.DataFrame(confusion_matrix(np.argmax(y_OH_test,1) , np.argmax(np.array(y_preds).squeeze(),1)))\n",
        "plt.figure(figsize=(10, 8))\n",
        "axis = sns.heatmap(df_conf_matrix, annot=True,  cmap= 'Blues', fmt='d',linewidths=3, linecolor='white')\n",
        "axis.set_xticklabels(class_label,rotation=90)\n",
        "axis.set_yticklabels(class_label,rotation=0)\n",
        "plt.title('Confusion Matrix', fontsize=8)\n",
        "plt.ylabel(\"Predicted Class\")\n",
        "plt.xlabel(\"True Class\")\n",
        "wandb.log({\"Confusion_Matrix\": wandb.Image(plt)})\n",
        "plt.show()\n",
        "wandb.finish()"
      ],
      "metadata": {
        "colab": {
          "base_uri": "https://localhost:8080/",
          "height": 912,
          "referenced_widgets": [
            "585050640a834876a7d72a2adda45e25",
            "918937a1116541fdb66ed0ac764bd6c4",
            "181d6ecf2b564e359447e67e285e7db2",
            "87a645b4f4ba42e3ab8b5c53b7df9d91",
            "0b233944e65f486db7e9f69594f28071",
            "d13412fb22c04493b2f753729fc47748",
            "572ee79d6dad4aa4bb864d3d1fa9e4e9",
            "678f2112abe84c348c141bfc16924225"
          ]
        },
        "id": "FnZe1M2MEibM",
        "outputId": "af6e8b80-21e3-4310-cba1-12597cf8072d"
      },
      "execution_count": null,
      "outputs": [
        {
          "output_type": "display_data",
          "data": {
            "text/plain": [
              "<IPython.core.display.HTML object>"
            ],
            "text/html": [
              "Tracking run with wandb version 0.16.4"
            ]
          },
          "metadata": {}
        },
        {
          "output_type": "display_data",
          "data": {
            "text/plain": [
              "<IPython.core.display.HTML object>"
            ],
            "text/html": [
              "Run data is saved locally in <code>/content/wandb/run-20240316_172636-ejhhm64z</code>"
            ]
          },
          "metadata": {}
        },
        {
          "output_type": "display_data",
          "data": {
            "text/plain": [
              "<IPython.core.display.HTML object>"
            ],
            "text/html": [
              "Syncing run <strong><a href='https://wandb.ai/cs23m015/DL-Assignment-1/runs/ejhhm64z' target=\"_blank\">Ques 7</a></strong> to <a href='https://wandb.ai/cs23m015/DL-Assignment-1' target=\"_blank\">Weights & Biases</a> (<a href='https://wandb.me/run' target=\"_blank\">docs</a>)<br/>"
            ]
          },
          "metadata": {}
        },
        {
          "output_type": "display_data",
          "data": {
            "text/plain": [
              "<IPython.core.display.HTML object>"
            ],
            "text/html": [
              " View project at <a href='https://wandb.ai/cs23m015/DL-Assignment-1' target=\"_blank\">https://wandb.ai/cs23m015/DL-Assignment-1</a>"
            ]
          },
          "metadata": {}
        },
        {
          "output_type": "display_data",
          "data": {
            "text/plain": [
              "<IPython.core.display.HTML object>"
            ],
            "text/html": [
              " View run at <a href='https://wandb.ai/cs23m015/DL-Assignment-1/runs/ejhhm64z' target=\"_blank\">https://wandb.ai/cs23m015/DL-Assignment-1/runs/ejhhm64z</a>"
            ]
          },
          "metadata": {}
        },
        {
          "output_type": "display_data",
          "data": {
            "text/plain": [
              "<Figure size 1000x800 with 2 Axes>"
            ],
            "image/png": "[encoded data removed]"
          },
          "metadata": {}
        },
        {
          "output_type": "display_data",
          "data": {
            "text/plain": [
              "VBox(children=(Label(value='0.069 MB of 0.069 MB uploaded\\r'), FloatProgress(value=1.0, max=1.0)))"
            ],
            "application/vnd.jupyter.widget-view+json": {
              "version_major": 2,
              "version_minor": 0,
              "model_id": "585050640a834876a7d72a2adda45e25"
            }
          },
          "metadata": {}
        },
        {
          "output_type": "display_data",
          "data": {
            "text/plain": [
              "<IPython.core.display.HTML object>"
            ],
            "text/html": [
              " View run <strong style=\"color:#cdcd00\">Ques 7</strong> at: <a href='https://wandb.ai/cs23m015/DL-Assignment-1/runs/ejhhm64z' target=\"_blank\">https://wandb.ai/cs23m015/DL-Assignment-1/runs/ejhhm64z</a><br/>Synced 4 W&B file(s), 1 media file(s), 0 artifact file(s) and 0 other file(s)"
            ]
          },
          "metadata": {}
        },
        {
          "output_type": "display_data",
          "data": {
            "text/plain": [
              "<IPython.core.display.HTML object>"
            ],
            "text/html": [
              "Find logs at: <code>./wandb/run-20240316_172636-ejhhm64z/logs</code>"
            ]
          },
          "metadata": {}
        }
      ]
    },
    {
      "cell_type": "markdown",
      "source": [
        "## Ques 8"
      ],
      "metadata": {
        "id": "UXgamaOtB-AL"
      }
    },
    {
      "cell_type": "code",
      "execution_count": null,
      "metadata": {
        "id": "BlIMuqfHB4yH"
      },
      "outputs": [],
      "source": [
        "sweep_config = {\n",
        "            'name': 'sweep 2 : ce vs mse',\n",
        "            'method': 'grid',\n",
        "            'metric': { 'goal': 'maximize','name': 'Accuracy'},\n",
        "            'parameters':\n",
        "                {\n",
        "                    # 'dataset' : {'values': ['fashion_mnist']}, # 'fashion_mnist', 'mnist'\n",
        "                    'iter': {'values': [10]},\n",
        "                    'batch': {'values': [64]},\n",
        "                    'fn_loss': {'values': ['cross_entropy', 'mean_square']}, # 'mean_squared_error', 'cross_entropy'\n",
        "                    'optimizer': {'values': ['batch', 'momentum', 'nestrov', 'rmsProp', 'adam', 'Nadam']}, # 'sgd', 'momentum', 'nag', 'rmsprop', 'adam', 'nadam'\n",
        "                    'n' : {'values': [1e-3, 1e-4]},\n",
        "                    'mom' : {'values': [0.9]},\n",
        "                    'beta' : {'values': [0.9]},\n",
        "                    'beta1' : {'values': [0.999]},\n",
        "                    'beta2' : {'values': [0.999]},\n",
        "                    'e' : {'values': [1e-6]},\n",
        "                    'alpha': {'values': [0]},\n",
        "                    'initialization': {'values': ['xavier']}, # 'random', 'Xavier'\n",
        "                    'hiddenlayers': {'values': [4, 5]},\n",
        "                    'neuron': {'values': [32, 64]},\n",
        "                    'activation': {'values': ['tanh', 'relu']}, # 'identity', 'sigmoid', 'tanh', 'ReLU'\n",
        "                    'outAct': {'values': ['softmax']}\n",
        "                }\n",
        "            }\n",
        "\n",
        "\n",
        "\n",
        "def train():\n",
        "    #init-classinit , config - param_copy\n",
        "    init = wandb.init(project='DL-Assignment-1')\n",
        "    config = init.config\n",
        "    wandb.run.name = (\n",
        "        'o:' + config.optimizer +\n",
        "        '_a:' + config.activation +\n",
        "        '_ep:' + str(config.iter) +\n",
        "        '_l:' + config.fn_loss +\n",
        "        '_i:' + config.initialization +\n",
        "        '_hl:' + str(config.hiddenlayers) +\n",
        "        '_hls:' + str(config.neuron)\n",
        "    )\n",
        "    obj=NeuralNetwork()\n",
        "    obj.architecture(x1,\n",
        "                    y1,\n",
        "                    x_val,\n",
        "                    y_val,\n",
        "                    hiddenlayers=config.hiddenlayers,\n",
        "                    neuron=config.neuron,\n",
        "                    input_neuron=784,\n",
        "                    batch=config.batch,\n",
        "                    initialization=config.initialization,\n",
        "                    fn_loss=config.fn_loss,\n",
        "                    activation=config.activation,\n",
        "                    optimizer=config.optimizer,\n",
        "                    n=config.n,\n",
        "                    iter=config.iter,\n",
        "                    beta=config.beta,\n",
        "                    beta1=config.beta1,\n",
        "                    beta2=config.beta2,\n",
        "                    e=config.e,\n",
        "                    alpha=config.alpha,\n",
        "                    mom=config.mom)\n",
        "\n",
        "    val_acc = obj.accuracy(x_val,y_val,config.activation)\n",
        "    wandb.log({'Accuracy': val_acc})\n",
        "\n",
        "\n",
        "\n",
        "\n",
        "# sweep_id = wandb.sweep(sweep_config, project='DL-Assignment-1')\n",
        "# wandb.agent(sweep_id, train, count = 300)\n",
        "# wandb.finish()\n",
        "\n",
        "\n",
        "\n"
      ]
    },
    {
      "cell_type": "markdown",
      "source": [
        "## Ques 10"
      ],
      "metadata": {
        "id": "UIZG_owLWGaa"
      }
    },
    {
      "cell_type": "code",
      "source": [
        "(x1, y1), (x2, y2) = mnist.load_data()\n",
        "\n",
        "x1=x1.reshape(x1.shape[0],-1) / 255\n",
        "x2=x2.reshape(x2.shape[0],-1)/ 255\n",
        "\n",
        "x1, x_val, y1, y_val = train_test_split(x1,y1, test_size=0.1, random_state=0)\n",
        "\n",
        "# obj=NeuralNetwork()\n",
        "# obj.architecture(x1,\n",
        "#                  y1,\n",
        "#                  x_val,\n",
        "#                  y_val,\n",
        "#                  hiddenlayers=4, # 4 ,5\n",
        "#                  neuron=128, # 64,128\n",
        "#                  input_neuron=784,\n",
        "#                  batch=32, # 32,64\n",
        "#                  initialization=\"xavier\",\n",
        "#                  fn_loss=\"cross_entropy\",\n",
        "#                  activation=\"tanh\", # tanh relu\n",
        "#                  optimizer=\"Nadam\", # N,A,Rms\n",
        "#                  n=0.0005,\n",
        "#                  iter=10,\n",
        "#                  beta=0.9,\n",
        "#                  beta1=0.999,\n",
        "#                  beta2=0.999,\n",
        "#                  e=1e-8,\n",
        "#                  alpha=0,\n",
        "#                  mom=0.9)"
      ],
      "metadata": {
        "colab": {
          "base_uri": "https://localhost:8080/"
        },
        "id": "rQ_zeoqVWIeF",
        "outputId": "f22bf880-2fa0-440e-bf43-ced285027104"
      },
      "execution_count": null,
      "outputs": [
        {
          "output_type": "stream",
          "name": "stdout",
          "text": [
            "Downloading data from https://storage.googleapis.com/tensorflow/tf-keras-datasets/mnist.npz\n",
            "11490434/11490434 [==============================] - 0s 0us/step\n"
          ]
        }
      ]
    },
    {
      "cell_type": "code",
      "source": [
        "sweep_config = {\n",
        "            'name': 'sweep 3 : mnist dataset',\n",
        "            'method': 'grid',\n",
        "            'metric': { 'goal': 'maximize','name': 'Accuracy'},\n",
        "            'parameters':\n",
        "                {\n",
        "                    # 'dataset' : {'values': ['fashion_mnist']}, # 'fashion_mnist', 'mnist'\n",
        "                    'iter' : {'values': [10]},\n",
        "                    'batch' : {'values': [32,64]},\n",
        "                    'fn_loss' : {'values': ['cross_entropy']}, # 'mean_squared_error', 'cross_entropy'\n",
        "                    'optimizer' : {'values': ['rmsProp', 'adam', 'Nadam']}, # 'sgd', 'momentum', 'nag', 'rmsprop', 'adam', 'nadam'\n",
        "                    'n' : {'values': [1e-3, 1e-4]},\n",
        "                    'mom' : {'values': [0.9]},\n",
        "                    'beta' : {'values': [0.9]},\n",
        "                    'beta1' : {'values': [0.999]},\n",
        "                    'beta2' : {'values': [0.999]},\n",
        "                    'e' : {'values': [1e-6]},\n",
        "                    'alpha' : {'values': [0]},\n",
        "                    'initialization' : {'values': ['xavier']}, # 'random', 'Xavier'\n",
        "                    'hiddenlayers' : {'values': [4]},\n",
        "                    'neuron' : {'values': [32, 64]},\n",
        "                    'activation' : {'values': ['tanh', 'relu']}, # 'identity', 'sigmoid', 'tanh', 'ReLU'\n",
        "                    'outAct' : {'values': ['softmax']}\n",
        "                }\n",
        "            }\n",
        "\n",
        "\n",
        "\n",
        "def train():\n",
        "    #init-classinit , config - param_copy\n",
        "    init = wandb.init(project='DL-Assignment-1')\n",
        "    config = init.config\n",
        "    wandb.run.name = (\n",
        "        'o:' + config.optimizer +\n",
        "        '_a:' + config.activation +\n",
        "        '_ep:' + str(config.iter) +\n",
        "        '_l:' + config.fn_loss +\n",
        "        '_i:' + config.initialization +\n",
        "        '_hl:' + str(config.hiddenlayers) +\n",
        "        '_hls:' + str(config.neuron)\n",
        "    )\n",
        "    obj=NeuralNetwork()\n",
        "    obj.architecture(x1,\n",
        "                    y1,\n",
        "                    x_val,\n",
        "                    y_val,\n",
        "                    hiddenlayers=config.hiddenlayers,\n",
        "                    neuron=config.neuron,\n",
        "                    input_neuron=784,\n",
        "                    batch=config.batch,\n",
        "                    initialization=config.initialization,\n",
        "                    fn_loss=config.fn_loss,\n",
        "                    activation=config.activation,\n",
        "                    optimizer=config.optimizer,\n",
        "                    n=config.n,\n",
        "                    iter=config.iter,\n",
        "                    beta=config.beta,\n",
        "                    beta1=config.beta1,\n",
        "                    beta2=config.beta2,\n",
        "                    e=config.e,\n",
        "                    alpha=config.alpha,\n",
        "                    mom=config.mom)\n",
        "\n",
        "    val_acc = obj.accuracy(x_val,y_val,config.activation)\n",
        "    wandb.log({'Accuracy': val_acc})\n",
        "\n",
        "\n",
        "\n",
        "\n",
        "sweep_id = wandb.sweep(sweep_config, project='DL-Assignment-1')\n",
        "wandb.agent(sweep_id, train, count = 300)\n",
        "wandb.finish()\n",
        "\n",
        "\n",
        "\n"
      ],
      "metadata": {
        "colab": {
          "base_uri": "https://localhost:8080/",
          "height": 1000,
          "referenced_widgets": [
            "b53abde63e71444cb3b578a323c23a80",
            "fc8570047a774892838fec56fb37eb35",
            "aea08addd9364e658b16c871c92ba052",
            "42d5cacabf2b4620bb6ff9362b8db7b8",
            "501065745da849b092a70c593d0d78c5",
            "5cf71e607e4846cd96acf78cebd6a2d3",
            "64ffac6f95ec422695766ff62fb10672",
            "766c23f83f9e4c80bb6a1eb9d25a79da",
            "c8c47248bdff4432bfb31d6b34278f73",
            "17b33df4d8a843d480af5e2c7d566566",
            "0ba3c15a04454bb296ff73bd7f70d890",
            "ef8eb1ebe47545039c442e05e4f11bd6",
            "9a8e48045e014d9cb92b4db462497232",
            "4b0a25fb02d44f8cb4a268b298259203",
            "5fd0532e07a94df38392fd8a53c2ebbc",
            "b1bb54245b474b19bc73a5a5b4b673fa",
            "94e50396b9204ac1bb742320d0783159",
            "4afe52ed565146e9905ccf108e60cb1c",
            "7f51763685ee442a838e201bc25deb4f",
            "6e5872c5977f4976b9142758ae323ec6",
            "1299e056684f4f91b39d179c80834d2a",
            "7f19740747524eb689f14a7e996c28b3",
            "a892ea0036bd420b965cd0158cfbb712",
            "cdff152cebc644f2b168aebb56fb2ca0",
            "f6becd62b29440f6a514d4ea06b92219",
            "d7bc15de007f4109a185680e2cfc2841",
            "9dcf55014de44233b933bdf10b19fb5c",
            "75c7d049f5ba48e59d04ef899116ffd5",
            "62aa3c9ff11f4cfb8604a173981253a0",
            "fb64f4063bdc4c7fa1b3d35d0092ece7",
            "b274840850b242b982eb305cfc745946",
            "68b439834066424b84b0a2dcb0f4aab7",
            "5192a5b2c0114424850d67152208d62f",
            "16f1aaaf2fb0480faf0f7df6b2cb566d",
            "acbb5b05e69f45769838c8720ac65c53",
            "c9418dfd79e748b684646f8be2e3aefa",
            "8e1c2a8da349419e8482935d00560e3e",
            "76d3a62965ed451688bc3103f406b8fa",
            "d7cabfe836f24d189e57d59fbbb4d31d",
            "9e925e220c674339ade0f4ec28cf6275",
            "ccdbe96d8c1340d0bb12567217233fc4",
            "62e7d240bfbc4b91b330a38bb1c9505a",
            "756d4326347f4e7f8e49db21e0210bcf",
            "a9a65bbee3ae409dade3b382a4f01b1e",
            "3157a76454034f4facce19b6f2378ec7",
            "dd357fea74444b1dad39b0d894ac2380",
            "edf5a0159b1d4aafa2e6fa448c801a91",
            "836369753a844d619c5e2f634550125c",
            "820d5a7520944454a0b1336385165ba5",
            "3706658441a84686987fafaccd4560ef",
            "c0d19220fa4440428a8ef7f9e3869685",
            "2794acc98706481cb699e40672fe466d",
            "f2d799a2197640a68f806d72b26ec344",
            "64a8fd8c412a47caa0d1cb3739e20547",
            "ab49b3158e644923ab9f0e80afe6f3c9",
            "4736269cc6314e12a71a79f7e247bb99",
            "cb934f2837c94ec4930190083705c47e",
            "a27e76d692a04aa990d847b1f330c54f",
            "a2d32666d58e43f682a05560d83add91",
            "f3cb3db25be34f369e7fe0584ec00230",
            "9894befde8094f0984d14eb7ce8b141a",
            "a206feb078354380b5501bd128b0f8b1",
            "3ebf717c564a465284144f23e9dfa33e",
            "9ce4380b63b144f8b54e09836c20d563",
            "0608d971c9b44c138a436fa4ac56a336",
            "c05f3adc0f8d466ab21c9e72f6a5f6ae",
            "e02b9e2a9c9e4eb2bdadd7f55b2342b6",
            "b0314781b750416b978ad2e396763f1c",
            "3c986a570ed1497094bccc0fa2673387",
            "9bc4d2b459944d7aadae484c68e7dffa",
            "4aee2c17b3874cfcac5eb97b5e0af6d7",
            "68458fac477e4e0099384c01e7862471",
            "0c7dc7b19c6e411282a171b0434e85a0",
            "5383a6d85ae142228a006f52cbb5a176",
            "8a59bcc5a440463db977756051c1bc7c",
            "50331bbe4be041a695b86d55fbe7eb49",
            "dcd142018b844e74a2bd98f67d6f502d",
            "de412d7a44cc498abbb1340720e636eb",
            "268fd05a41a743f9a064cdfe69a55d1b",
            "605c0c6b7163437391d568988982f9b2",
            "a407a6ede36e4a3ba3e4907f22b0f7c0",
            "933b50bc0c4c4c18952ddb548b3d1aed",
            "fc9443defba24c2c968a881f0aeb4031",
            "437d5cf8ca004b509ae872d96dcc7791",
            "9c1711acd6de4058842346350e7d6272",
            "e769e3bc11e64b5bae5d0b05ef7c32b8",
            "16aded7af98e426e947e1f19f975f699",
            "47388ff906da499ca91cc0f7f1220a16",
            "853ce980abc04385bc3b6a138798e4ac",
            "dc10fd715bb142119438d44447ebc84c",
            "ef555cbfc95f46aeb4fd8113c6f851d0",
            "3826aae53dea48a681d8e75bd9d09db6",
            "1e3dcb2e629c4152b6faa21adfc9592d",
            "99c2d8cac58347dfb6c2db1033d1681b",
            "98d36a0a57b94e6b9e03757b9c107829",
            "716235ead49b4a4cb6144d98a6262416",
            "ca855142c4334db9991d63e7fd234dd5",
            "7a469cfa2165423ca46e1f26f1a16da7",
            "2799aca2668e4c4e9c9712fd60473fcc",
            "e9b595d44b04476ca151a2e3492b5c53",
            "beac46ffc73f4d2982c15b1a655e8dc6",
            "29ab411a65c24edd8434adbbf706089f",
            "eefb1aa8f4da46409898946e2b22fa21",
            "5d91511f3c6e4f459cdb1cffb9df6ac3",
            "29fbcd34f37f4708b0b5e02fc0a3d01b",
            "2ada659a1d674552876fb5fcb50d60d2",
            "9151a45ba768422d951aca476322de44",
            "9a412550ce5544b286b6ef8909160f0e",
            "399ac264bc934672908135f8efc74ba0",
            "f16d1872b01244a3b30e9f271440ec74",
            "ff176947f58b40cb86e891d49da97714",
            "42f0196933c74f03b86ee8e4b118bb4b",
            "6b6fe392d1a94b1697bb381cd84314fa",
            "e63f2a67cbc34d72aa5127fa4b9907fc",
            "b7d3d54e05634f0ea7ae4f5bffc2fa1a",
            "0d74f0f9e4834cbbb87ec014dfd4c4c0",
            "3d22f443bf8744f88e210ad3fb537a56",
            "e1ffb6321c464d838cdcbb70f04459a0",
            "6b5ba575f1c34251bae82999a4f0464e",
            "8ea26a5c0e8e415a8648466961225a18",
            "f2bb40780a924833b4c8d97fbc442a8a",
            "bf5e85ea9cc34db29d30025b5d31d79b",
            "3d238572ba454a2cb7f3ee2173d550c1",
            "5a22be13333f41478665cbdd8e7df6a9",
            "8b33220c8596461d851056f3bd8874dc",
            "5c45544d41254833bd92c582f5a66ad9",
            "592baf139fc1461184b7349f224846b6",
            "7716c5295dbc483bb73118463e8fb8f3",
            "6710eace876e4bc5a7a5fdc319689636",
            "4b16b41af778417f9d993e14e0ea040d",
            "24c4cc5cc0d44797be8cff2d92fbb977",
            "f36918ae23154bc2b2c503aa786f1097",
            "2104f3aaba3f41dc944628f1f88d967a",
            "302b417d15e44b4ab866f768075f3462",
            "bf1711c76c7a444392a4a50e8df467ed",
            "71e0b25a431a4da4af22544b9cbc24e4",
            "bc4b1fdc816442d78f264465fb181ef2",
            "e98dc783f86b405db8c0db7f66bd74ae",
            "3b54cb9e7ce8496e89370e0d4207928f",
            "35b9087f5c2b41d383b3a4c10b306ae3",
            "1cb9b51c41064bf1a488c61c147a13e9",
            "58137065180345dd96a71c252b72e0a1",
            "655abd1bb9f644fa994f5b94659de252",
            "e1757a42da2f48d4b1baedfda3456870",
            "eefff1ba6ff94631807fadfbc931f115",
            "b488aa9bfa964dffa7ce30a5a74b1b18",
            "a8143d0ed8434b70a14e77782f5303d8",
            "1ad9c5256bd847d7b76decfbd48f8159",
            "bd74fcfe2a0e4473af82b59fbbdb6c01",
            "5d126b8cd52a484bb5fd5de6d1db2344",
            "98956cd2cb7344d59dbfe344c02abbfa",
            "19591fb7b021478287f8e69140d1dab4",
            "27f3fa9028d9473bbb1c7f55914f9fb9",
            "d5799a4ec4fd4ff9ba59a3df93658632",
            "c9a29b8b7b6944e8990f768bf20e76da",
            "618f35dc88fe4992af2e4bfa09f29021",
            "023eeccb8058403dbb120a7c6f712595",
            "fdbb71b5a7df40e2b6f93d493cd64a62",
            "82d5deac351c4deaa365e83474510269",
            "6f2e044cdd544a05aa8168555fb51d27",
            "ffda53987a234ecd94cbc449d1c618cc",
            "832d734a0eab4673ae17fd43234e168c",
            "59957020a79f44e1a6a6aa85ac319026",
            "3714dcb6eb26469a999397fbfc579868",
            "f97ca57d5a6147849e2b249a7400bb25",
            "b9873f82a3eb44f490e22c9124a6fc73",
            "9da6d714a87e4fcdbb625196df02d24e",
            "635b9106bb2d4b62b6b20645cef38f00",
            "dc1654ba6515442b9746d744f3893fa7",
            "e12e19db893c43c4870c77b8df13595d",
            "a27b4e26e83048c6b6641b3cfe55fd12",
            "0013513b572b41ccb4db9c83481bf96b",
            "359d3854014f4a4fbe2e92081304e560",
            "d01bbc3175c74f9ea6afa30935ac2bd6",
            "68ad381f13804035b06a597690990bca",
            "dd0b5ae9eaf74370a35989cb655b9af7",
            "9888823d62b44c9fb87e77ce308c9cf3",
            "2ca80957e24d41d98f0c6fb841dc82b0",
            "aee35a7d93e24614960b68ff7925d5af",
            "1017a066d83e4499a8c3dfe02c04e1ed",
            "d232ff1f5d034a4aba8a3149a7487dd2",
            "81ad0e00842145c9b48ab53a63941689",
            "95c0d55a36a84691ae23d43ab44c429b",
            "f7e061c6f9724f06a28c56ae166aaf9b",
            "88fb1e9ade724603889ce858d4d7574d",
            "04a52cf3d27c4ed8b1d7d2004396f4e9",
            "49a05913e0f941828c86773c190b8718",
            "529be0770f404a1c923fe1b559510a05",
            "df72a24867f24230ba3eb3685594c8c2",
            "d195f7e43a6b4504bcfa4b2d1475fe93",
            "8cf6937a3af64bd69c8fb823cccdcb7c",
            "fd2d7b72f73049fa9479f5efd06ed386",
            "3b54541c955a4fad9b6c6506e4aa55b5",
            "ed461d7a3ec748358a341f37d37cb156",
            "ae9b1647a3224d979d5e7ec36f8054ff",
            "0ff5f3fd86b148a4b92efd78997bad6c",
            "a8c1c759d94e4dccb8e44c31d9077211",
            "29e0dbe774074360ad291ee3b4542039",
            "573336de2e294d848badfaac1d601428",
            "b236f514908943a3a5f825d1e7cc0b01",
            "a1e4f28020de454e8359a7cd2623452f",
            "9ac16def6e944ec5bf79e2ab1ec28a85",
            "fe79cf05cb404472bdd39464622c5f77",
            "7befd8b5a3da4c10972c64be9f4cde36",
            "b7bdeea24be44770b7f6e941b21c8977",
            "4d78b645e47d47768506f0f83a11a84d",
            "e1d5f01c756a490e99038c2ddee1eb77",
            "29af17625896430898a93675dfbfcec2",
            "f2d0fbe8ae13499396d48d067ffcef66",
            "33506cd4d90c4bd98570ba349d5ce8e2",
            "488888f8486f458999ef98b359658aa7",
            "1f2e83655ea7447281ffa1426337e3de",
            "6262c317f6704a24b74bb164a054ee27",
            "a812ed0c9ef94e8cb29c406d6611afbc",
            "1e48e99a392a431e80f36ab979036953",
            "6514e10a21294147bcb77e0c928414a2",
            "2d3785d81ed24a039059343e70f41da3",
            "fd152eb22ac641d5bae6929157d9663f",
            "aa07221bf27b462cb894ca2a1bb4ffa9",
            "1f08119301f4443ba1b8df0dd99e2546",
            "24251500809f4549aa5fb5be3748f26c",
            "4a102554913449d0b53acc0728e38019",
            "7bc774a7de124a2689ce5a2557deb232",
            "4e23c4cc3f50489aa67b1209ea3e4803",
            "28ce8d91631a4fe88ed2fc85ef1268a4",
            "91ec8a27ef6e44d294c1709efb7f33db",
            "709894fde7834f4e87615bc09cd46c58",
            "da23849600154a46ba98e80d9261ec54",
            "f7fd3ebdf19541cfb02a5ef9d24c9d90",
            "0854a11d1d0d483c90c4af91a3b2986c",
            "10447e3fa9084d66bbdaa273e541b749",
            "f207c064c5e54554bf8c37f277b052ef",
            "08454cf769ef42e19d6f9974f64b3cf0",
            "8bccc85245a84ca3a062208f0b1742ea",
            "a2563b8896554fa5a483016f6f7f2d39",
            "66ba66bd034144c8add0381d615fecc1",
            "9cfaa98913814cc892b06c557350cd2a",
            "70b658255bfc4e709f041bd515c799d6",
            "08d92958fcd54fe7a45ccd8b535275c4",
            "cdbdc242be2d4f1681e713aefff7fd23",
            "151d76d86abd4a6589390be0327bff47",
            "ad9ff84c951842afb08b76c69a411927",
            "a653dfa9ec15440097a484b6e3c23094",
            "a02f1706118d41b88c0035df4b53f5bb",
            "1fd14708be3740198f3c676a98bb17e5",
            "5dd39ec09df5474b8b550c2e8a017d87",
            "2ddb563870d149ee94997f2c349f9b16",
            "465f49c8929d4ddca114137c724f02dc",
            "cff5e4d5fdb0417581b2375bf04cb223",
            "563a57ba1b2a4956a98cde6fccb01a43",
            "d0e344efe0ef4bb0ab3bc412421aca69",
            "7a4629d5650a41d4b796d30628810864",
            "7c56c7f23b92405aaf27f8c73c83e11a",
            "2358a3f1e79e4699948c621c2789dac6",
            "e3f2a454dc504530b582c4fca0c19c81",
            "cbc86254e3b942ca97332d76161ee330",
            "5571d9b37c1e4ec4a38065b903ee4ebb",
            "f1c47355e436437683303097855597db",
            "20324176aea04c0490fc54d9a150bc54",
            "7cb620623bab442f9611655153c51688",
            "a2e38d8f999c421c871657fb1a66144b",
            "6938071e29a142a9b7a5bd204b7fa27a",
            "b27353db31f44977a4f5f62d89cdabc2",
            "d27886b69e534e37a551c8688dcf54a7",
            "3169ea307e7c4e5f913315097eff7ff6",
            "916dae22ab5d4aff88d8a2265102f6b6",
            "832ac29ecbb649429f82791cf6c6c513",
            "e3235606da7c4d1b9725fac096ed9602",
            "a7faff95660542daa3199e8c19e16897",
            "a0efec34408448a08d7cf056be1df082",
            "a63b04758b6349b1979300b916b470be",
            "9ace1862ac3e4e9e960f42432639d26c",
            "3eb7ddffe5cd473f828a2e833b2a7ca2",
            "d82f3e8b5092459ab44e9a13d9865b70",
            "724899a2778145a5866657b9686550c3",
            "edabf1cec7584544a9f30d042ca09d6a",
            "da8bf44b539a4e0e9b2b420521fe9629",
            "06f32909b7be40ce9f0ea14766c2f551",
            "6635f7bcbd6845e8b029f50ee58601c7",
            "d92c611db1b048cb919e80aa6488b267",
            "a9c65a4665694540a4382702bf60c839",
            "1b3bbc8b1b0e4b5b820ce1edbb43916e",
            "331d19eaadef4169bf7c3bfaa627061f",
            "4e83fa85088e46a18f4293c145370763",
            "bf852af7b2994e6eb1a3590d6c4cf2d5",
            "375f122f073e4f718c2a9a837c95eefc",
            "a355dc0767014dcabe0d79b3e5ca7e41",
            "52871588016644c195f2b7f978a7fadd",
            "070e3cd1d07b42cea6d835f457d25861",
            "68776ff6970c47dba9304c54b68b97ae",
            "7d2a3e3e481747738a02e38208bbea8e",
            "358e7f5b2aee487e84c00a2cf7fe4e97",
            "44f6150faf2e4189ad21b7dbacc556de",
            "761bf20243814e048f203b4c7887218f",
            "ebe5a20360624004a37294bded7594b0",
            "58984c7c708949fa9bae0c498edf7240",
            "9e4a9f4a833140b9ab26d4bb6028378f",
            "4014ce72dbeb4bb9b78d5c64f23379fe",
            "8489b7b527d84a89b3e04b670b75364a",
            "543ffc01a27348179a1843141f67f6b4",
            "36c882d045664941be835b7e7bf6c8c1",
            "fba3e7d05ba4412faebdc6d2562a4768",
            "7a2b1c98a94443af9e336370acdcff40",
            "81fb0939791a475fb1900a85a3ba79c0"
          ]
        },
        "id": "eTZAKR2zW22m",
        "outputId": "a325a937-6ee6-449e-836c-13fb74e76bb4"
      },
      "execution_count": null,
      "outputs": [
        {
          "output_type": "stream",
          "name": "stdout",
          "text": [
            "Create sweep with ID: lfeqafjm\n",
            "Sweep URL: https://wandb.ai/cs23m015/DL-Assignment-1/sweeps/lfeqafjm\n"
          ]
        },
        {
          "output_type": "stream",
          "name": "stderr",
          "text": [
            "\u001b[34m\u001b[1mwandb\u001b[0m: Agent Starting Run: 8b7pr6e5 with config:\n",
            "\u001b[34m\u001b[1mwandb\u001b[0m: \tactivation: tanh\n",
            "\u001b[34m\u001b[1mwandb\u001b[0m: \talpha: 0\n",
            "\u001b[34m\u001b[1mwandb\u001b[0m: \tbatch: 32\n",
            "\u001b[34m\u001b[1mwandb\u001b[0m: \tbeta: 0.9\n",
            "\u001b[34m\u001b[1mwandb\u001b[0m: \tbeta1: 0.999\n",
            "\u001b[34m\u001b[1mwandb\u001b[0m: \tbeta2: 0.999\n",
            "\u001b[34m\u001b[1mwandb\u001b[0m: \te: 1e-06\n",
            "\u001b[34m\u001b[1mwandb\u001b[0m: \tfn_loss: cross_entropy\n",
            "\u001b[34m\u001b[1mwandb\u001b[0m: \thiddenlayers: 4\n",
            "\u001b[34m\u001b[1mwandb\u001b[0m: \tinitialization: xavier\n",
            "\u001b[34m\u001b[1mwandb\u001b[0m: \titer: 10\n",
            "\u001b[34m\u001b[1mwandb\u001b[0m: \tmom: 0.9\n",
            "\u001b[34m\u001b[1mwandb\u001b[0m: \tn: 0.001\n",
            "\u001b[34m\u001b[1mwandb\u001b[0m: \tneuron: 32\n",
            "\u001b[34m\u001b[1mwandb\u001b[0m: \toptimizer: rmsProp\n",
            "\u001b[34m\u001b[1mwandb\u001b[0m: \toutAct: softmax\n",
            "\u001b[34m\u001b[1mwandb\u001b[0m: \u001b[33mWARNING\u001b[0m Ignored wandb.init() arg project when running a sweep.\n"
          ]
        },
        {
          "output_type": "display_data",
          "data": {
            "text/plain": [
              "<IPython.core.display.HTML object>"
            ],
            "text/html": [
              "Tracking run with wandb version 0.16.4"
            ]
          },
          "metadata": {}
        },
        {
          "output_type": "display_data",
          "data": {
            "text/plain": [
              "<IPython.core.display.HTML object>"
            ],
            "text/html": [
              "Run data is saved locally in <code>/content/wandb/run-20240316_174507-8b7pr6e5</code>"
            ]
          },
          "metadata": {}
        },
        {
          "output_type": "display_data",
          "data": {
            "text/plain": [
              "<IPython.core.display.HTML object>"
            ],
            "text/html": [
              "Syncing run <strong><a href='https://wandb.ai/cs23m015/DL-Assignment-1/runs/8b7pr6e5' target=\"_blank\">cool-sweep-1</a></strong> to <a href='https://wandb.ai/cs23m015/DL-Assignment-1' target=\"_blank\">Weights & Biases</a> (<a href='https://wandb.me/run' target=\"_blank\">docs</a>)<br/>Sweep page: <a href='https://wandb.ai/cs23m015/DL-Assignment-1/sweeps/lfeqafjm' target=\"_blank\">https://wandb.ai/cs23m015/DL-Assignment-1/sweeps/lfeqafjm</a>"
            ]
          },
          "metadata": {}
        },
        {
          "output_type": "display_data",
          "data": {
            "text/plain": [
              "<IPython.core.display.HTML object>"
            ],
            "text/html": [
              " View project at <a href='https://wandb.ai/cs23m015/DL-Assignment-1' target=\"_blank\">https://wandb.ai/cs23m015/DL-Assignment-1</a>"
            ]
          },
          "metadata": {}
        },
        {
          "output_type": "display_data",
          "data": {
            "text/plain": [
              "<IPython.core.display.HTML object>"
            ],
            "text/html": [
              " View sweep at <a href='https://wandb.ai/cs23m015/DL-Assignment-1/sweeps/lfeqafjm' target=\"_blank\">https://wandb.ai/cs23m015/DL-Assignment-1/sweeps/lfeqafjm</a>"
            ]
          },
          "metadata": {}
        },
        {
          "output_type": "display_data",
          "data": {
            "text/plain": [
              "<IPython.core.display.HTML object>"
            ],
            "text/html": [
              " View run at <a href='https://wandb.ai/cs23m015/DL-Assignment-1/runs/8b7pr6e5' target=\"_blank\">https://wandb.ai/cs23m015/DL-Assignment-1/runs/8b7pr6e5</a>"
            ]
          },
          "metadata": {}
        },
        {
          "output_type": "display_data",
          "data": {
            "text/plain": [
              "VBox(children=(Label(value='0.011 MB of 0.011 MB uploaded\\r'), FloatProgress(value=1.0, max=1.0)))"
            ],
            "application/vnd.jupyter.widget-view+json": {
              "version_major": 2,
              "version_minor": 0,
              "model_id": "b53abde63e71444cb3b578a323c23a80"
            }
          },
          "metadata": {}
        },
        {
          "output_type": "display_data",
          "data": {
            "text/plain": [
              "<IPython.core.display.HTML object>"
            ],
            "text/html": [
              "<style>\n",
              "    table.wandb td:nth-child(1) { padding: 0 10px; text-align: left ; width: auto;} td:nth-child(2) {text-align: left ; width: 100%}\n",
              "    .wandb-row { display: flex; flex-direction: row; flex-wrap: wrap; justify-content: flex-start; width: 100% }\n",
              "    .wandb-col { display: flex; flex-direction: column; flex-basis: 100%; flex: 1; padding: 10px; }\n",
              "    </style>\n",
              "<div class=\"wandb-row\"><div class=\"wandb-col\"><h3>Run history:</h3><br/><table class=\"wandb\"><tr><td>Accuracy</td><td>▁</td></tr><tr><td>epoch</td><td>▁▂▃▃▄▅▆▆▇█</td></tr><tr><td>training_accuracy</td><td>▁▄▅▆▇▇▇███</td></tr><tr><td>training_loss</td><td>█▅▄▃▂▂▂▁▁▁</td></tr><tr><td>validation_accuracy</td><td>▁▄▅▆▇▇▇███</td></tr><tr><td>validation_loss</td><td>█▅▃▃▂▂▂▁▁▁</td></tr></table><br/></div><div class=\"wandb-col\"><h3>Run summary:</h3><br/><table class=\"wandb\"><tr><td>Accuracy</td><td>94.75</td></tr><tr><td>epoch</td><td>10</td></tr><tr><td>training_accuracy</td><td>95.71</td></tr><tr><td>training_loss</td><td>0.21</td></tr><tr><td>validation_accuracy</td><td>94.75</td></tr><tr><td>validation_loss</td><td>0.24</td></tr></table><br/></div></div>"
            ]
          },
          "metadata": {}
        },
        {
          "output_type": "display_data",
          "data": {
            "text/plain": [
              "<IPython.core.display.HTML object>"
            ],
            "text/html": [
              " View run <strong style=\"color:#cdcd00\">cool-sweep-1</strong> at: <a href='https://wandb.ai/cs23m015/DL-Assignment-1/runs/8b7pr6e5' target=\"_blank\">https://wandb.ai/cs23m015/DL-Assignment-1/runs/8b7pr6e5</a><br/>Synced 4 W&B file(s), 0 media file(s), 0 artifact file(s) and 0 other file(s)"
            ]
          },
          "metadata": {}
        },
        {
          "output_type": "display_data",
          "data": {
            "text/plain": [
              "<IPython.core.display.HTML object>"
            ],
            "text/html": [
              "Find logs at: <code>./wandb/run-20240316_174507-8b7pr6e5/logs</code>"
            ]
          },
          "metadata": {}
        },
        {
          "output_type": "stream",
          "name": "stderr",
          "text": [
            "\u001b[34m\u001b[1mwandb\u001b[0m: Agent Starting Run: z8al68jb with config:\n",
            "\u001b[34m\u001b[1mwandb\u001b[0m: \tactivation: tanh\n",
            "\u001b[34m\u001b[1mwandb\u001b[0m: \talpha: 0\n",
            "\u001b[34m\u001b[1mwandb\u001b[0m: \tbatch: 32\n",
            "\u001b[34m\u001b[1mwandb\u001b[0m: \tbeta: 0.9\n",
            "\u001b[34m\u001b[1mwandb\u001b[0m: \tbeta1: 0.999\n",
            "\u001b[34m\u001b[1mwandb\u001b[0m: \tbeta2: 0.999\n",
            "\u001b[34m\u001b[1mwandb\u001b[0m: \te: 1e-06\n",
            "\u001b[34m\u001b[1mwandb\u001b[0m: \tfn_loss: cross_entropy\n",
            "\u001b[34m\u001b[1mwandb\u001b[0m: \thiddenlayers: 4\n",
            "\u001b[34m\u001b[1mwandb\u001b[0m: \tinitialization: xavier\n",
            "\u001b[34m\u001b[1mwandb\u001b[0m: \titer: 10\n",
            "\u001b[34m\u001b[1mwandb\u001b[0m: \tmom: 0.9\n",
            "\u001b[34m\u001b[1mwandb\u001b[0m: \tn: 0.001\n",
            "\u001b[34m\u001b[1mwandb\u001b[0m: \tneuron: 32\n",
            "\u001b[34m\u001b[1mwandb\u001b[0m: \toptimizer: adam\n",
            "\u001b[34m\u001b[1mwandb\u001b[0m: \toutAct: softmax\n",
            "\u001b[34m\u001b[1mwandb\u001b[0m: \u001b[33mWARNING\u001b[0m Ignored wandb.init() arg project when running a sweep.\n"
          ]
        },
        {
          "output_type": "display_data",
          "data": {
            "text/plain": [
              "VBox(children=(Label(value='Waiting for wandb.init()...\\r'), FloatProgress(value=0.01111296549999881, max=1.0)…"
            ],
            "application/vnd.jupyter.widget-view+json": {
              "version_major": 2,
              "version_minor": 0,
              "model_id": "c8c47248bdff4432bfb31d6b34278f73"
            }
          },
          "metadata": {}
        },
        {
          "output_type": "display_data",
          "data": {
            "text/plain": [
              "<IPython.core.display.HTML object>"
            ],
            "text/html": [
              "Tracking run with wandb version 0.16.4"
            ]
          },
          "metadata": {}
        },
        {
          "output_type": "display_data",
          "data": {
            "text/plain": [
              "<IPython.core.display.HTML object>"
            ],
            "text/html": [
              "Run data is saved locally in <code>/content/wandb/run-20240316_174722-z8al68jb</code>"
            ]
          },
          "metadata": {}
        },
        {
          "output_type": "display_data",
          "data": {
            "text/plain": [
              "<IPython.core.display.HTML object>"
            ],
            "text/html": [
              "Syncing run <strong><a href='https://wandb.ai/cs23m015/DL-Assignment-1/runs/z8al68jb' target=\"_blank\">leafy-sweep-2</a></strong> to <a href='https://wandb.ai/cs23m015/DL-Assignment-1' target=\"_blank\">Weights & Biases</a> (<a href='https://wandb.me/run' target=\"_blank\">docs</a>)<br/>Sweep page: <a href='https://wandb.ai/cs23m015/DL-Assignment-1/sweeps/lfeqafjm' target=\"_blank\">https://wandb.ai/cs23m015/DL-Assignment-1/sweeps/lfeqafjm</a>"
            ]
          },
          "metadata": {}
        },
        {
          "output_type": "display_data",
          "data": {
            "text/plain": [
              "<IPython.core.display.HTML object>"
            ],
            "text/html": [
              " View project at <a href='https://wandb.ai/cs23m015/DL-Assignment-1' target=\"_blank\">https://wandb.ai/cs23m015/DL-Assignment-1</a>"
            ]
          },
          "metadata": {}
        },
        {
          "output_type": "display_data",
          "data": {
            "text/plain": [
              "<IPython.core.display.HTML object>"
            ],
            "text/html": [
              " View sweep at <a href='https://wandb.ai/cs23m015/DL-Assignment-1/sweeps/lfeqafjm' target=\"_blank\">https://wandb.ai/cs23m015/DL-Assignment-1/sweeps/lfeqafjm</a>"
            ]
          },
          "metadata": {}
        },
        {
          "output_type": "display_data",
          "data": {
            "text/plain": [
              "<IPython.core.display.HTML object>"
            ],
            "text/html": [
              " View run at <a href='https://wandb.ai/cs23m015/DL-Assignment-1/runs/z8al68jb' target=\"_blank\">https://wandb.ai/cs23m015/DL-Assignment-1/runs/z8al68jb</a>"
            ]
          },
          "metadata": {}
        },
        {
          "output_type": "display_data",
          "data": {
            "text/plain": [
              "VBox(children=(Label(value='0.011 MB of 0.011 MB uploaded\\r'), FloatProgress(value=1.0, max=1.0)))"
            ],
            "application/vnd.jupyter.widget-view+json": {
              "version_major": 2,
              "version_minor": 0,
              "model_id": "94e50396b9204ac1bb742320d0783159"
            }
          },
          "metadata": {}
        },
        {
          "output_type": "display_data",
          "data": {
            "text/plain": [
              "<IPython.core.display.HTML object>"
            ],
            "text/html": [
              "<style>\n",
              "    table.wandb td:nth-child(1) { padding: 0 10px; text-align: left ; width: auto;} td:nth-child(2) {text-align: left ; width: 100%}\n",
              "    .wandb-row { display: flex; flex-direction: row; flex-wrap: wrap; justify-content: flex-start; width: 100% }\n",
              "    .wandb-col { display: flex; flex-direction: column; flex-basis: 100%; flex: 1; padding: 10px; }\n",
              "    </style>\n",
              "<div class=\"wandb-row\"><div class=\"wandb-col\"><h3>Run history:</h3><br/><table class=\"wandb\"><tr><td>Accuracy</td><td>▁</td></tr><tr><td>epoch</td><td>▁▂▃▃▄▅▆▆▇█</td></tr><tr><td>training_accuracy</td><td>▁▄▆▇▇█▆▇█▇</td></tr><tr><td>training_loss</td><td>█▅▃▂▂▁▃▂▁▂</td></tr><tr><td>validation_accuracy</td><td>▁▅▆▇▇█▆▇▇▆</td></tr><tr><td>validation_loss</td><td>█▃▃▁▁▁▃▂▁▂</td></tr></table><br/></div><div class=\"wandb-col\"><h3>Run summary:</h3><br/><table class=\"wandb\"><tr><td>Accuracy</td><td>94.55</td></tr><tr><td>epoch</td><td>10</td></tr><tr><td>training_accuracy</td><td>96.41</td></tr><tr><td>training_loss</td><td>0.17</td></tr><tr><td>validation_accuracy</td><td>94.55</td></tr><tr><td>validation_loss</td><td>0.26</td></tr></table><br/></div></div>"
            ]
          },
          "metadata": {}
        },
        {
          "output_type": "display_data",
          "data": {
            "text/plain": [
              "<IPython.core.display.HTML object>"
            ],
            "text/html": [
              " View run <strong style=\"color:#cdcd00\">leafy-sweep-2</strong> at: <a href='https://wandb.ai/cs23m015/DL-Assignment-1/runs/z8al68jb' target=\"_blank\">https://wandb.ai/cs23m015/DL-Assignment-1/runs/z8al68jb</a><br/>Synced 4 W&B file(s), 0 media file(s), 0 artifact file(s) and 0 other file(s)"
            ]
          },
          "metadata": {}
        },
        {
          "output_type": "display_data",
          "data": {
            "text/plain": [
              "<IPython.core.display.HTML object>"
            ],
            "text/html": [
              "Find logs at: <code>./wandb/run-20240316_174722-z8al68jb/logs</code>"
            ]
          },
          "metadata": {}
        },
        {
          "output_type": "stream",
          "name": "stderr",
          "text": [
            "\u001b[34m\u001b[1mwandb\u001b[0m: Agent Starting Run: 7q3ebbbq with config:\n",
            "\u001b[34m\u001b[1mwandb\u001b[0m: \tactivation: tanh\n",
            "\u001b[34m\u001b[1mwandb\u001b[0m: \talpha: 0\n",
            "\u001b[34m\u001b[1mwandb\u001b[0m: \tbatch: 32\n",
            "\u001b[34m\u001b[1mwandb\u001b[0m: \tbeta: 0.9\n",
            "\u001b[34m\u001b[1mwandb\u001b[0m: \tbeta1: 0.999\n",
            "\u001b[34m\u001b[1mwandb\u001b[0m: \tbeta2: 0.999\n",
            "\u001b[34m\u001b[1mwandb\u001b[0m: \te: 1e-06\n",
            "\u001b[34m\u001b[1mwandb\u001b[0m: \tfn_loss: cross_entropy\n",
            "\u001b[34m\u001b[1mwandb\u001b[0m: \thiddenlayers: 4\n",
            "\u001b[34m\u001b[1mwandb\u001b[0m: \tinitialization: xavier\n",
            "\u001b[34m\u001b[1mwandb\u001b[0m: \titer: 10\n",
            "\u001b[34m\u001b[1mwandb\u001b[0m: \tmom: 0.9\n",
            "\u001b[34m\u001b[1mwandb\u001b[0m: \tn: 0.001\n",
            "\u001b[34m\u001b[1mwandb\u001b[0m: \tneuron: 32\n",
            "\u001b[34m\u001b[1mwandb\u001b[0m: \toptimizer: Nadam\n",
            "\u001b[34m\u001b[1mwandb\u001b[0m: \toutAct: softmax\n",
            "\u001b[34m\u001b[1mwandb\u001b[0m: \u001b[33mWARNING\u001b[0m Ignored wandb.init() arg project when running a sweep.\n"
          ]
        },
        {
          "output_type": "display_data",
          "data": {
            "text/plain": [
              "<IPython.core.display.HTML object>"
            ],
            "text/html": [
              "Tracking run with wandb version 0.16.4"
            ]
          },
          "metadata": {}
        },
        {
          "output_type": "display_data",
          "data": {
            "text/plain": [
              "<IPython.core.display.HTML object>"
            ],
            "text/html": [
              "Run data is saved locally in <code>/content/wandb/run-20240316_174943-7q3ebbbq</code>"
            ]
          },
          "metadata": {}
        },
        {
          "output_type": "display_data",
          "data": {
            "text/plain": [
              "<IPython.core.display.HTML object>"
            ],
            "text/html": [
              "Syncing run <strong><a href='https://wandb.ai/cs23m015/DL-Assignment-1/runs/7q3ebbbq' target=\"_blank\">zesty-sweep-3</a></strong> to <a href='https://wandb.ai/cs23m015/DL-Assignment-1' target=\"_blank\">Weights & Biases</a> (<a href='https://wandb.me/run' target=\"_blank\">docs</a>)<br/>Sweep page: <a href='https://wandb.ai/cs23m015/DL-Assignment-1/sweeps/lfeqafjm' target=\"_blank\">https://wandb.ai/cs23m015/DL-Assignment-1/sweeps/lfeqafjm</a>"
            ]
          },
          "metadata": {}
        },
        {
          "output_type": "display_data",
          "data": {
            "text/plain": [
              "<IPython.core.display.HTML object>"
            ],
            "text/html": [
              " View project at <a href='https://wandb.ai/cs23m015/DL-Assignment-1' target=\"_blank\">https://wandb.ai/cs23m015/DL-Assignment-1</a>"
            ]
          },
          "metadata": {}
        },
        {
          "output_type": "display_data",
          "data": {
            "text/plain": [
              "<IPython.core.display.HTML object>"
            ],
            "text/html": [
              " View sweep at <a href='https://wandb.ai/cs23m015/DL-Assignment-1/sweeps/lfeqafjm' target=\"_blank\">https://wandb.ai/cs23m015/DL-Assignment-1/sweeps/lfeqafjm</a>"
            ]
          },
          "metadata": {}
        },
        {
          "output_type": "display_data",
          "data": {
            "text/plain": [
              "<IPython.core.display.HTML object>"
            ],
            "text/html": [
              " View run at <a href='https://wandb.ai/cs23m015/DL-Assignment-1/runs/7q3ebbbq' target=\"_blank\">https://wandb.ai/cs23m015/DL-Assignment-1/runs/7q3ebbbq</a>"
            ]
          },
          "metadata": {}
        },
        {
          "output_type": "stream",
          "name": "stdout",
          "text": [
            "Iteration Number: 1 Train Loss : 0.3781627024077934\n",
            "Iteration Number: 1 Validation Loss : 0.38347303731717525\n",
            "Iteration Number: 1 Train Accurcy : 92.27037037037037\n",
            "Iteration Number: 1 Validaion Accuracy: 92.16666666666666\n",
            "Iteration Number: 2 Train Loss : 0.2759082958766159\n",
            "Iteration Number: 2 Validation Loss : 0.3008949022267775\n",
            "Iteration Number: 2 Train Accurcy : 94.27777777777779\n",
            "Iteration Number: 2 Validaion Accuracy: 93.88333333333333\n",
            "Iteration Number: 3 Train Loss : 0.23072069464589776\n",
            "Iteration Number: 3 Validation Loss : 0.26957408798943255\n",
            "Iteration Number: 3 Train Accurcy : 95.27592592592593\n",
            "Iteration Number: 3 Validaion Accuracy: 94.53333333333333\n",
            "Iteration Number: 4 Train Loss : 0.20210561896383775\n",
            "Iteration Number: 4 Validation Loss : 0.2520434188646946\n",
            "Iteration Number: 4 Train Accurcy : 95.87592592592593\n",
            "Iteration Number: 4 Validaion Accuracy: 94.98333333333333\n",
            "Iteration Number: 5 Train Loss : 0.17298430319572916\n",
            "Iteration Number: 5 Validation Loss : 0.23852772532039776\n",
            "Iteration Number: 5 Train Accurcy : 96.39999999999999\n",
            "Iteration Number: 5 Validaion Accuracy: 95.45\n",
            "Iteration Number: 6 Train Loss : 0.17536716465333665\n",
            "Iteration Number: 6 Validation Loss : 0.24312270007338554\n",
            "Iteration Number: 6 Train Accurcy : 96.45\n",
            "Iteration Number: 6 Validaion Accuracy: 95.15\n",
            "Iteration Number: 7 Train Loss : 0.16905577674569358\n",
            "Iteration Number: 7 Validation Loss : 0.2405016924065905\n",
            "Iteration Number: 7 Train Accurcy : 96.47037037037038\n",
            "Iteration Number: 7 Validaion Accuracy: 95.11666666666667\n",
            "Iteration Number: 8 Train Loss : 0.1628845349432086\n",
            "Iteration Number: 8 Validation Loss : 0.23819738049993006\n",
            "Iteration Number: 8 Train Accurcy : 96.5537037037037\n",
            "Iteration Number: 8 Validaion Accuracy: 95.11666666666667\n",
            "Iteration Number: 9 Train Loss : 0.14551167675484264\n",
            "Iteration Number: 9 Validation Loss : 0.23931680360132077\n",
            "Iteration Number: 9 Train Accurcy : 96.98148148148148\n",
            "Iteration Number: 9 Validaion Accuracy: 95.45\n",
            "Iteration Number: 10 Train Loss : 0.13007715451188337\n",
            "Iteration Number: 10 Validation Loss : 0.23461636519136775\n",
            "Iteration Number: 10 Train Accurcy : 97.27407407407408\n",
            "Iteration Number: 10 Validaion Accuracy: 95.46666666666667\n"
          ]
        },
        {
          "output_type": "display_data",
          "data": {
            "text/plain": [
              "VBox(children=(Label(value='0.013 MB of 0.013 MB uploaded\\r'), FloatProgress(value=1.0, max=1.0)))"
            ],
            "application/vnd.jupyter.widget-view+json": {
              "version_major": 2,
              "version_minor": 0,
              "model_id": "f6becd62b29440f6a514d4ea06b92219"
            }
          },
          "metadata": {}
        },
        {
          "output_type": "display_data",
          "data": {
            "text/plain": [
              "<IPython.core.display.HTML object>"
            ],
            "text/html": [
              "<style>\n",
              "    table.wandb td:nth-child(1) { padding: 0 10px; text-align: left ; width: auto;} td:nth-child(2) {text-align: left ; width: 100%}\n",
              "    .wandb-row { display: flex; flex-direction: row; flex-wrap: wrap; justify-content: flex-start; width: 100% }\n",
              "    .wandb-col { display: flex; flex-direction: column; flex-basis: 100%; flex: 1; padding: 10px; }\n",
              "    </style>\n",
              "<div class=\"wandb-row\"><div class=\"wandb-col\"><h3>Run history:</h3><br/><table class=\"wandb\"><tr><td>Accuracy</td><td>▁</td></tr><tr><td>epoch</td><td>▁▂▃▃▄▅▆▆▇█</td></tr><tr><td>training_accuracy</td><td>▁▄▅▆▇▇▇▇██</td></tr><tr><td>training_loss</td><td>█▅▄▃▂▂▂▂▂▁</td></tr><tr><td>validation_accuracy</td><td>▁▅▆▇█▇▇▇██</td></tr><tr><td>validation_loss</td><td>█▄▃▂▁▁▁▁▁▁</td></tr></table><br/></div><div class=\"wandb-col\"><h3>Run summary:</h3><br/><table class=\"wandb\"><tr><td>Accuracy</td><td>95.46667</td></tr><tr><td>epoch</td><td>10</td></tr><tr><td>training_accuracy</td><td>97.27</td></tr><tr><td>training_loss</td><td>0.13</td></tr><tr><td>validation_accuracy</td><td>95.47</td></tr><tr><td>validation_loss</td><td>0.23</td></tr></table><br/></div></div>"
            ]
          },
          "metadata": {}
        },
        {
          "output_type": "display_data",
          "data": {
            "text/plain": [
              "<IPython.core.display.HTML object>"
            ],
            "text/html": [
              " View run <strong style=\"color:#cdcd00\">zesty-sweep-3</strong> at: <a href='https://wandb.ai/cs23m015/DL-Assignment-1/runs/7q3ebbbq' target=\"_blank\">https://wandb.ai/cs23m015/DL-Assignment-1/runs/7q3ebbbq</a><br/>Synced 5 W&B file(s), 0 media file(s), 0 artifact file(s) and 0 other file(s)"
            ]
          },
          "metadata": {}
        },
        {
          "output_type": "display_data",
          "data": {
            "text/plain": [
              "<IPython.core.display.HTML object>"
            ],
            "text/html": [
              "Find logs at: <code>./wandb/run-20240316_174943-7q3ebbbq/logs</code>"
            ]
          },
          "metadata": {}
        },
        {
          "output_type": "stream",
          "name": "stderr",
          "text": [
            "\u001b[34m\u001b[1mwandb\u001b[0m: Agent Starting Run: j9vzhcgs with config:\n",
            "\u001b[34m\u001b[1mwandb\u001b[0m: \tactivation: tanh\n",
            "\u001b[34m\u001b[1mwandb\u001b[0m: \talpha: 0\n",
            "\u001b[34m\u001b[1mwandb\u001b[0m: \tbatch: 32\n",
            "\u001b[34m\u001b[1mwandb\u001b[0m: \tbeta: 0.9\n",
            "\u001b[34m\u001b[1mwandb\u001b[0m: \tbeta1: 0.999\n",
            "\u001b[34m\u001b[1mwandb\u001b[0m: \tbeta2: 0.999\n",
            "\u001b[34m\u001b[1mwandb\u001b[0m: \te: 1e-06\n",
            "\u001b[34m\u001b[1mwandb\u001b[0m: \tfn_loss: cross_entropy\n",
            "\u001b[34m\u001b[1mwandb\u001b[0m: \thiddenlayers: 4\n",
            "\u001b[34m\u001b[1mwandb\u001b[0m: \tinitialization: xavier\n",
            "\u001b[34m\u001b[1mwandb\u001b[0m: \titer: 10\n",
            "\u001b[34m\u001b[1mwandb\u001b[0m: \tmom: 0.9\n",
            "\u001b[34m\u001b[1mwandb\u001b[0m: \tn: 0.001\n",
            "\u001b[34m\u001b[1mwandb\u001b[0m: \tneuron: 64\n",
            "\u001b[34m\u001b[1mwandb\u001b[0m: \toptimizer: rmsProp\n",
            "\u001b[34m\u001b[1mwandb\u001b[0m: \toutAct: softmax\n",
            "\u001b[34m\u001b[1mwandb\u001b[0m: \u001b[33mWARNING\u001b[0m Ignored wandb.init() arg project when running a sweep.\n"
          ]
        },
        {
          "output_type": "display_data",
          "data": {
            "text/plain": [
              "<IPython.core.display.HTML object>"
            ],
            "text/html": [
              "Tracking run with wandb version 0.16.4"
            ]
          },
          "metadata": {}
        },
        {
          "output_type": "display_data",
          "data": {
            "text/plain": [
              "<IPython.core.display.HTML object>"
            ],
            "text/html": [
              "Run data is saved locally in <code>/content/wandb/run-20240316_175235-j9vzhcgs</code>"
            ]
          },
          "metadata": {}
        },
        {
          "output_type": "display_data",
          "data": {
            "text/plain": [
              "<IPython.core.display.HTML object>"
            ],
            "text/html": [
              "Syncing run <strong><a href='https://wandb.ai/cs23m015/DL-Assignment-1/runs/j9vzhcgs' target=\"_blank\">apricot-sweep-4</a></strong> to <a href='https://wandb.ai/cs23m015/DL-Assignment-1' target=\"_blank\">Weights & Biases</a> (<a href='https://wandb.me/run' target=\"_blank\">docs</a>)<br/>Sweep page: <a href='https://wandb.ai/cs23m015/DL-Assignment-1/sweeps/lfeqafjm' target=\"_blank\">https://wandb.ai/cs23m015/DL-Assignment-1/sweeps/lfeqafjm</a>"
            ]
          },
          "metadata": {}
        },
        {
          "output_type": "display_data",
          "data": {
            "text/plain": [
              "<IPython.core.display.HTML object>"
            ],
            "text/html": [
              " View project at <a href='https://wandb.ai/cs23m015/DL-Assignment-1' target=\"_blank\">https://wandb.ai/cs23m015/DL-Assignment-1</a>"
            ]
          },
          "metadata": {}
        },
        {
          "output_type": "display_data",
          "data": {
            "text/plain": [
              "<IPython.core.display.HTML object>"
            ],
            "text/html": [
              " View sweep at <a href='https://wandb.ai/cs23m015/DL-Assignment-1/sweeps/lfeqafjm' target=\"_blank\">https://wandb.ai/cs23m015/DL-Assignment-1/sweeps/lfeqafjm</a>"
            ]
          },
          "metadata": {}
        },
        {
          "output_type": "display_data",
          "data": {
            "text/plain": [
              "<IPython.core.display.HTML object>"
            ],
            "text/html": [
              " View run at <a href='https://wandb.ai/cs23m015/DL-Assignment-1/runs/j9vzhcgs' target=\"_blank\">https://wandb.ai/cs23m015/DL-Assignment-1/runs/j9vzhcgs</a>"
            ]
          },
          "metadata": {}
        },
        {
          "output_type": "display_data",
          "data": {
            "text/plain": [
              "VBox(children=(Label(value='0.011 MB of 0.011 MB uploaded\\r'), FloatProgress(value=1.0, max=1.0)))"
            ],
            "application/vnd.jupyter.widget-view+json": {
              "version_major": 2,
              "version_minor": 0,
              "model_id": "5192a5b2c0114424850d67152208d62f"
            }
          },
          "metadata": {}
        },
        {
          "output_type": "display_data",
          "data": {
            "text/plain": [
              "<IPython.core.display.HTML object>"
            ],
            "text/html": [
              "<style>\n",
              "    table.wandb td:nth-child(1) { padding: 0 10px; text-align: left ; width: auto;} td:nth-child(2) {text-align: left ; width: 100%}\n",
              "    .wandb-row { display: flex; flex-direction: row; flex-wrap: wrap; justify-content: flex-start; width: 100% }\n",
              "    .wandb-col { display: flex; flex-direction: column; flex-basis: 100%; flex: 1; padding: 10px; }\n",
              "    </style>\n",
              "<div class=\"wandb-row\"><div class=\"wandb-col\"><h3>Run history:</h3><br/><table class=\"wandb\"><tr><td>Accuracy</td><td>▁</td></tr><tr><td>epoch</td><td>▁▂▃▃▄▅▆▆▇█</td></tr><tr><td>training_accuracy</td><td>▁▄▅▆▆▇▇███</td></tr><tr><td>training_loss</td><td>█▅▄▃▃▂▂▁▁▁</td></tr><tr><td>validation_accuracy</td><td>▁▄▅▆▇▇▇███</td></tr><tr><td>validation_loss</td><td>█▅▄▃▂▂▁▁▁▁</td></tr></table><br/></div><div class=\"wandb-col\"><h3>Run summary:</h3><br/><table class=\"wandb\"><tr><td>Accuracy</td><td>96.2</td></tr><tr><td>epoch</td><td>10</td></tr><tr><td>training_accuracy</td><td>97.09</td></tr><tr><td>training_loss</td><td>0.15</td></tr><tr><td>validation_accuracy</td><td>96.2</td></tr><tr><td>validation_loss</td><td>0.18</td></tr></table><br/></div></div>"
            ]
          },
          "metadata": {}
        },
        {
          "output_type": "display_data",
          "data": {
            "text/plain": [
              "<IPython.core.display.HTML object>"
            ],
            "text/html": [
              " View run <strong style=\"color:#cdcd00\">apricot-sweep-4</strong> at: <a href='https://wandb.ai/cs23m015/DL-Assignment-1/runs/j9vzhcgs' target=\"_blank\">https://wandb.ai/cs23m015/DL-Assignment-1/runs/j9vzhcgs</a><br/>Synced 4 W&B file(s), 0 media file(s), 0 artifact file(s) and 0 other file(s)"
            ]
          },
          "metadata": {}
        },
        {
          "output_type": "display_data",
          "data": {
            "text/plain": [
              "<IPython.core.display.HTML object>"
            ],
            "text/html": [
              "Find logs at: <code>./wandb/run-20240316_175235-j9vzhcgs/logs</code>"
            ]
          },
          "metadata": {}
        },
        {
          "output_type": "stream",
          "name": "stderr",
          "text": [
            "\u001b[34m\u001b[1mwandb\u001b[0m: Agent Starting Run: wjh6rshd with config:\n",
            "\u001b[34m\u001b[1mwandb\u001b[0m: \tactivation: tanh\n",
            "\u001b[34m\u001b[1mwandb\u001b[0m: \talpha: 0\n",
            "\u001b[34m\u001b[1mwandb\u001b[0m: \tbatch: 32\n",
            "\u001b[34m\u001b[1mwandb\u001b[0m: \tbeta: 0.9\n",
            "\u001b[34m\u001b[1mwandb\u001b[0m: \tbeta1: 0.999\n",
            "\u001b[34m\u001b[1mwandb\u001b[0m: \tbeta2: 0.999\n",
            "\u001b[34m\u001b[1mwandb\u001b[0m: \te: 1e-06\n",
            "\u001b[34m\u001b[1mwandb\u001b[0m: \tfn_loss: cross_entropy\n",
            "\u001b[34m\u001b[1mwandb\u001b[0m: \thiddenlayers: 4\n",
            "\u001b[34m\u001b[1mwandb\u001b[0m: \tinitialization: xavier\n",
            "\u001b[34m\u001b[1mwandb\u001b[0m: \titer: 10\n",
            "\u001b[34m\u001b[1mwandb\u001b[0m: \tmom: 0.9\n",
            "\u001b[34m\u001b[1mwandb\u001b[0m: \tn: 0.001\n",
            "\u001b[34m\u001b[1mwandb\u001b[0m: \tneuron: 64\n",
            "\u001b[34m\u001b[1mwandb\u001b[0m: \toptimizer: adam\n",
            "\u001b[34m\u001b[1mwandb\u001b[0m: \toutAct: softmax\n",
            "\u001b[34m\u001b[1mwandb\u001b[0m: \u001b[33mWARNING\u001b[0m Ignored wandb.init() arg project when running a sweep.\n"
          ]
        },
        {
          "output_type": "display_data",
          "data": {
            "text/plain": [
              "<IPython.core.display.HTML object>"
            ],
            "text/html": [
              "Tracking run with wandb version 0.16.4"
            ]
          },
          "metadata": {}
        },
        {
          "output_type": "display_data",
          "data": {
            "text/plain": [
              "<IPython.core.display.HTML object>"
            ],
            "text/html": [
              "Run data is saved locally in <code>/content/wandb/run-20240316_175653-wjh6rshd</code>"
            ]
          },
          "metadata": {}
        },
        {
          "output_type": "display_data",
          "data": {
            "text/plain": [
              "<IPython.core.display.HTML object>"
            ],
            "text/html": [
              "Syncing run <strong><a href='https://wandb.ai/cs23m015/DL-Assignment-1/runs/wjh6rshd' target=\"_blank\">dazzling-sweep-5</a></strong> to <a href='https://wandb.ai/cs23m015/DL-Assignment-1' target=\"_blank\">Weights & Biases</a> (<a href='https://wandb.me/run' target=\"_blank\">docs</a>)<br/>Sweep page: <a href='https://wandb.ai/cs23m015/DL-Assignment-1/sweeps/lfeqafjm' target=\"_blank\">https://wandb.ai/cs23m015/DL-Assignment-1/sweeps/lfeqafjm</a>"
            ]
          },
          "metadata": {}
        },
        {
          "output_type": "display_data",
          "data": {
            "text/plain": [
              "<IPython.core.display.HTML object>"
            ],
            "text/html": [
              " View project at <a href='https://wandb.ai/cs23m015/DL-Assignment-1' target=\"_blank\">https://wandb.ai/cs23m015/DL-Assignment-1</a>"
            ]
          },
          "metadata": {}
        },
        {
          "output_type": "display_data",
          "data": {
            "text/plain": [
              "<IPython.core.display.HTML object>"
            ],
            "text/html": [
              " View sweep at <a href='https://wandb.ai/cs23m015/DL-Assignment-1/sweeps/lfeqafjm' target=\"_blank\">https://wandb.ai/cs23m015/DL-Assignment-1/sweeps/lfeqafjm</a>"
            ]
          },
          "metadata": {}
        },
        {
          "output_type": "display_data",
          "data": {
            "text/plain": [
              "<IPython.core.display.HTML object>"
            ],
            "text/html": [
              " View run at <a href='https://wandb.ai/cs23m015/DL-Assignment-1/runs/wjh6rshd' target=\"_blank\">https://wandb.ai/cs23m015/DL-Assignment-1/runs/wjh6rshd</a>"
            ]
          },
          "metadata": {}
        },
        {
          "output_type": "display_data",
          "data": {
            "text/plain": [
              "VBox(children=(Label(value='0.011 MB of 0.011 MB uploaded\\r'), FloatProgress(value=1.0, max=1.0)))"
            ],
            "application/vnd.jupyter.widget-view+json": {
              "version_major": 2,
              "version_minor": 0,
              "model_id": "ccdbe96d8c1340d0bb12567217233fc4"
            }
          },
          "metadata": {}
        },
        {
          "output_type": "display_data",
          "data": {
            "text/plain": [
              "<IPython.core.display.HTML object>"
            ],
            "text/html": [
              "<style>\n",
              "    table.wandb td:nth-child(1) { padding: 0 10px; text-align: left ; width: auto;} td:nth-child(2) {text-align: left ; width: 100%}\n",
              "    .wandb-row { display: flex; flex-direction: row; flex-wrap: wrap; justify-content: flex-start; width: 100% }\n",
              "    .wandb-col { display: flex; flex-direction: column; flex-basis: 100%; flex: 1; padding: 10px; }\n",
              "    </style>\n",
              "<div class=\"wandb-row\"><div class=\"wandb-col\"><h3>Run history:</h3><br/><table class=\"wandb\"><tr><td>Accuracy</td><td>▁</td></tr><tr><td>epoch</td><td>▁▂▃▃▄▅▆▆▇█</td></tr><tr><td>training_accuracy</td><td>▁▄▅▇▇▇██▇▆</td></tr><tr><td>training_loss</td><td>█▅▄▂▂▂▁▁▂▂</td></tr><tr><td>validation_accuracy</td><td>▁▅▆█▇▇███▇</td></tr><tr><td>validation_loss</td><td>█▄▃▂▂▂▁▂▂▄</td></tr></table><br/></div><div class=\"wandb-col\"><h3>Run summary:</h3><br/><table class=\"wandb\"><tr><td>Accuracy</td><td>95.85</td></tr><tr><td>epoch</td><td>10</td></tr><tr><td>training_accuracy</td><td>97.15</td></tr><tr><td>training_loss</td><td>0.13</td></tr><tr><td>validation_accuracy</td><td>95.85</td></tr><tr><td>validation_loss</td><td>0.22</td></tr></table><br/></div></div>"
            ]
          },
          "metadata": {}
        },
        {
          "output_type": "display_data",
          "data": {
            "text/plain": [
              "<IPython.core.display.HTML object>"
            ],
            "text/html": [
              " View run <strong style=\"color:#cdcd00\">dazzling-sweep-5</strong> at: <a href='https://wandb.ai/cs23m015/DL-Assignment-1/runs/wjh6rshd' target=\"_blank\">https://wandb.ai/cs23m015/DL-Assignment-1/runs/wjh6rshd</a><br/>Synced 4 W&B file(s), 0 media file(s), 0 artifact file(s) and 0 other file(s)"
            ]
          },
          "metadata": {}
        },
        {
          "output_type": "display_data",
          "data": {
            "text/plain": [
              "<IPython.core.display.HTML object>"
            ],
            "text/html": [
              "Find logs at: <code>./wandb/run-20240316_175653-wjh6rshd/logs</code>"
            ]
          },
          "metadata": {}
        },
        {
          "output_type": "stream",
          "name": "stderr",
          "text": [
            "\u001b[34m\u001b[1mwandb\u001b[0m: Agent Starting Run: fjc6zfyv with config:\n",
            "\u001b[34m\u001b[1mwandb\u001b[0m: \tactivation: tanh\n",
            "\u001b[34m\u001b[1mwandb\u001b[0m: \talpha: 0\n",
            "\u001b[34m\u001b[1mwandb\u001b[0m: \tbatch: 32\n",
            "\u001b[34m\u001b[1mwandb\u001b[0m: \tbeta: 0.9\n",
            "\u001b[34m\u001b[1mwandb\u001b[0m: \tbeta1: 0.999\n",
            "\u001b[34m\u001b[1mwandb\u001b[0m: \tbeta2: 0.999\n",
            "\u001b[34m\u001b[1mwandb\u001b[0m: \te: 1e-06\n",
            "\u001b[34m\u001b[1mwandb\u001b[0m: \tfn_loss: cross_entropy\n",
            "\u001b[34m\u001b[1mwandb\u001b[0m: \thiddenlayers: 4\n",
            "\u001b[34m\u001b[1mwandb\u001b[0m: \tinitialization: xavier\n",
            "\u001b[34m\u001b[1mwandb\u001b[0m: \titer: 10\n",
            "\u001b[34m\u001b[1mwandb\u001b[0m: \tmom: 0.9\n",
            "\u001b[34m\u001b[1mwandb\u001b[0m: \tn: 0.001\n",
            "\u001b[34m\u001b[1mwandb\u001b[0m: \tneuron: 64\n",
            "\u001b[34m\u001b[1mwandb\u001b[0m: \toptimizer: Nadam\n",
            "\u001b[34m\u001b[1mwandb\u001b[0m: \toutAct: softmax\n",
            "\u001b[34m\u001b[1mwandb\u001b[0m: \u001b[33mWARNING\u001b[0m Ignored wandb.init() arg project when running a sweep.\n"
          ]
        },
        {
          "output_type": "display_data",
          "data": {
            "text/plain": [
              "<IPython.core.display.HTML object>"
            ],
            "text/html": [
              "Tracking run with wandb version 0.16.4"
            ]
          },
          "metadata": {}
        },
        {
          "output_type": "display_data",
          "data": {
            "text/plain": [
              "<IPython.core.display.HTML object>"
            ],
            "text/html": [
              "Run data is saved locally in <code>/content/wandb/run-20240316_180030-fjc6zfyv</code>"
            ]
          },
          "metadata": {}
        },
        {
          "output_type": "display_data",
          "data": {
            "text/plain": [
              "<IPython.core.display.HTML object>"
            ],
            "text/html": [
              "Syncing run <strong><a href='https://wandb.ai/cs23m015/DL-Assignment-1/runs/fjc6zfyv' target=\"_blank\">revived-sweep-6</a></strong> to <a href='https://wandb.ai/cs23m015/DL-Assignment-1' target=\"_blank\">Weights & Biases</a> (<a href='https://wandb.me/run' target=\"_blank\">docs</a>)<br/>Sweep page: <a href='https://wandb.ai/cs23m015/DL-Assignment-1/sweeps/lfeqafjm' target=\"_blank\">https://wandb.ai/cs23m015/DL-Assignment-1/sweeps/lfeqafjm</a>"
            ]
          },
          "metadata": {}
        },
        {
          "output_type": "display_data",
          "data": {
            "text/plain": [
              "<IPython.core.display.HTML object>"
            ],
            "text/html": [
              " View project at <a href='https://wandb.ai/cs23m015/DL-Assignment-1' target=\"_blank\">https://wandb.ai/cs23m015/DL-Assignment-1</a>"
            ]
          },
          "metadata": {}
        },
        {
          "output_type": "display_data",
          "data": {
            "text/plain": [
              "<IPython.core.display.HTML object>"
            ],
            "text/html": [
              " View sweep at <a href='https://wandb.ai/cs23m015/DL-Assignment-1/sweeps/lfeqafjm' target=\"_blank\">https://wandb.ai/cs23m015/DL-Assignment-1/sweeps/lfeqafjm</a>"
            ]
          },
          "metadata": {}
        },
        {
          "output_type": "display_data",
          "data": {
            "text/plain": [
              "<IPython.core.display.HTML object>"
            ],
            "text/html": [
              " View run at <a href='https://wandb.ai/cs23m015/DL-Assignment-1/runs/fjc6zfyv' target=\"_blank\">https://wandb.ai/cs23m015/DL-Assignment-1/runs/fjc6zfyv</a>"
            ]
          },
          "metadata": {}
        },
        {
          "output_type": "stream",
          "name": "stdout",
          "text": [
            "Iteration Number: 1 Train Loss : 0.2565444472025093\n",
            "Iteration Number: 1 Validation Loss : 0.26244759850040306\n",
            "Iteration Number: 1 Train Accurcy : 94.7074074074074\n",
            "Iteration Number: 1 Validaion Accuracy: 94.15\n",
            "Iteration Number: 2 Train Loss : 0.18384143953339777\n",
            "Iteration Number: 2 Validation Loss : 0.21697288760981262\n",
            "Iteration Number: 2 Train Accurcy : 96.01481481481483\n",
            "Iteration Number: 2 Validaion Accuracy: 95.21666666666667\n",
            "Iteration Number: 3 Train Loss : 0.1319499564808468\n",
            "Iteration Number: 3 Validation Loss : 0.18050168750026377\n",
            "Iteration Number: 3 Train Accurcy : 97.20185185185186\n",
            "Iteration Number: 3 Validaion Accuracy: 96.21666666666667\n",
            "Iteration Number: 4 Train Loss : 0.12099774451093026\n",
            "Iteration Number: 4 Validation Loss : 0.17437743481286908\n",
            "Iteration Number: 4 Train Accurcy : 97.42222222222222\n",
            "Iteration Number: 4 Validaion Accuracy: 96.39999999999999\n",
            "Iteration Number: 5 Train Loss : 0.12133656953261389\n",
            "Iteration Number: 5 Validation Loss : 0.19662947038931416\n",
            "Iteration Number: 5 Train Accurcy : 97.42222222222222\n",
            "Iteration Number: 5 Validaion Accuracy: 95.95\n",
            "Iteration Number: 6 Train Loss : 0.09794966750776198\n",
            "Iteration Number: 6 Validation Loss : 0.17555326580368744\n",
            "Iteration Number: 6 Train Accurcy : 97.93333333333332\n",
            "Iteration Number: 6 Validaion Accuracy: 96.75\n",
            "Iteration Number: 7 Train Loss : 0.11611101019849912\n",
            "Iteration Number: 7 Validation Loss : 0.1872999047511678\n",
            "Iteration Number: 7 Train Accurcy : 97.45\n",
            "Iteration Number: 7 Validaion Accuracy: 96.39999999999999\n",
            "Iteration Number: 8 Train Loss : 0.10673855008213229\n",
            "Iteration Number: 8 Validation Loss : 0.19772538392842304\n",
            "Iteration Number: 8 Train Accurcy : 97.59074074074074\n",
            "Iteration Number: 8 Validaion Accuracy: 96.21666666666667\n",
            "Iteration Number: 9 Train Loss : 0.09029679942373306\n",
            "Iteration Number: 9 Validation Loss : 0.18269896136423702\n",
            "Iteration Number: 9 Train Accurcy : 97.92407407407407\n",
            "Iteration Number: 9 Validaion Accuracy: 96.56666666666666\n",
            "Iteration Number: 10 Train Loss : 0.0964640866233655\n",
            "Iteration Number: 10 Validation Loss : 0.20055596973975756\n",
            "Iteration Number: 10 Train Accurcy : 97.80555555555556\n",
            "Iteration Number: 10 Validaion Accuracy: 96.36666666666667\n"
          ]
        },
        {
          "output_type": "display_data",
          "data": {
            "text/plain": [
              "VBox(children=(Label(value='0.001 MB of 0.001 MB uploaded\\r'), FloatProgress(value=1.0, max=1.0)))"
            ],
            "application/vnd.jupyter.widget-view+json": {
              "version_major": 2,
              "version_minor": 0,
              "model_id": "820d5a7520944454a0b1336385165ba5"
            }
          },
          "metadata": {}
        },
        {
          "output_type": "display_data",
          "data": {
            "text/plain": [
              "<IPython.core.display.HTML object>"
            ],
            "text/html": [
              "<style>\n",
              "    table.wandb td:nth-child(1) { padding: 0 10px; text-align: left ; width: auto;} td:nth-child(2) {text-align: left ; width: 100%}\n",
              "    .wandb-row { display: flex; flex-direction: row; flex-wrap: wrap; justify-content: flex-start; width: 100% }\n",
              "    .wandb-col { display: flex; flex-direction: column; flex-basis: 100%; flex: 1; padding: 10px; }\n",
              "    </style>\n",
              "<div class=\"wandb-row\"><div class=\"wandb-col\"><h3>Run history:</h3><br/><table class=\"wandb\"><tr><td>Accuracy</td><td>▁</td></tr><tr><td>epoch</td><td>▁▂▃▃▄▅▆▆▇█</td></tr><tr><td>training_accuracy</td><td>▁▄▆▇▇█▇▇██</td></tr><tr><td>training_loss</td><td>█▅▃▂▂▁▂▂▁▁</td></tr><tr><td>validation_accuracy</td><td>▁▄▇▇▆█▇▇█▇</td></tr><tr><td>validation_loss</td><td>█▅▂▁▃▂▃▃▂▃</td></tr></table><br/></div><div class=\"wandb-col\"><h3>Run summary:</h3><br/><table class=\"wandb\"><tr><td>Accuracy</td><td>96.36667</td></tr><tr><td>epoch</td><td>10</td></tr><tr><td>training_accuracy</td><td>97.81</td></tr><tr><td>training_loss</td><td>0.1</td></tr><tr><td>validation_accuracy</td><td>96.37</td></tr><tr><td>validation_loss</td><td>0.2</td></tr></table><br/></div></div>"
            ]
          },
          "metadata": {}
        },
        {
          "output_type": "display_data",
          "data": {
            "text/plain": [
              "<IPython.core.display.HTML object>"
            ],
            "text/html": [
              " View run <strong style=\"color:#cdcd00\">revived-sweep-6</strong> at: <a href='https://wandb.ai/cs23m015/DL-Assignment-1/runs/fjc6zfyv' target=\"_blank\">https://wandb.ai/cs23m015/DL-Assignment-1/runs/fjc6zfyv</a><br/>Synced 5 W&B file(s), 0 media file(s), 0 artifact file(s) and 0 other file(s)"
            ]
          },
          "metadata": {}
        },
        {
          "output_type": "display_data",
          "data": {
            "text/plain": [
              "<IPython.core.display.HTML object>"
            ],
            "text/html": [
              "Find logs at: <code>./wandb/run-20240316_180030-fjc6zfyv/logs</code>"
            ]
          },
          "metadata": {}
        },
        {
          "output_type": "stream",
          "name": "stderr",
          "text": [
            "\u001b[34m\u001b[1mwandb\u001b[0m: Agent Starting Run: nty6pk5w with config:\n",
            "\u001b[34m\u001b[1mwandb\u001b[0m: \tactivation: tanh\n",
            "\u001b[34m\u001b[1mwandb\u001b[0m: \talpha: 0\n",
            "\u001b[34m\u001b[1mwandb\u001b[0m: \tbatch: 32\n",
            "\u001b[34m\u001b[1mwandb\u001b[0m: \tbeta: 0.9\n",
            "\u001b[34m\u001b[1mwandb\u001b[0m: \tbeta1: 0.999\n",
            "\u001b[34m\u001b[1mwandb\u001b[0m: \tbeta2: 0.999\n",
            "\u001b[34m\u001b[1mwandb\u001b[0m: \te: 1e-06\n",
            "\u001b[34m\u001b[1mwandb\u001b[0m: \tfn_loss: cross_entropy\n",
            "\u001b[34m\u001b[1mwandb\u001b[0m: \thiddenlayers: 4\n",
            "\u001b[34m\u001b[1mwandb\u001b[0m: \tinitialization: xavier\n",
            "\u001b[34m\u001b[1mwandb\u001b[0m: \titer: 10\n",
            "\u001b[34m\u001b[1mwandb\u001b[0m: \tmom: 0.9\n",
            "\u001b[34m\u001b[1mwandb\u001b[0m: \tn: 0.0001\n",
            "\u001b[34m\u001b[1mwandb\u001b[0m: \tneuron: 32\n",
            "\u001b[34m\u001b[1mwandb\u001b[0m: \toptimizer: rmsProp\n",
            "\u001b[34m\u001b[1mwandb\u001b[0m: \toutAct: softmax\n",
            "\u001b[34m\u001b[1mwandb\u001b[0m: \u001b[33mWARNING\u001b[0m Ignored wandb.init() arg project when running a sweep.\n"
          ]
        },
        {
          "output_type": "display_data",
          "data": {
            "text/plain": [
              "<IPython.core.display.HTML object>"
            ],
            "text/html": [
              "Tracking run with wandb version 0.16.4"
            ]
          },
          "metadata": {}
        },
        {
          "output_type": "display_data",
          "data": {
            "text/plain": [
              "<IPython.core.display.HTML object>"
            ],
            "text/html": [
              "Run data is saved locally in <code>/content/wandb/run-20240316_180347-nty6pk5w</code>"
            ]
          },
          "metadata": {}
        },
        {
          "output_type": "display_data",
          "data": {
            "text/plain": [
              "<IPython.core.display.HTML object>"
            ],
            "text/html": [
              "Syncing run <strong><a href='https://wandb.ai/cs23m015/DL-Assignment-1/runs/nty6pk5w' target=\"_blank\">colorful-sweep-7</a></strong> to <a href='https://wandb.ai/cs23m015/DL-Assignment-1' target=\"_blank\">Weights & Biases</a> (<a href='https://wandb.me/run' target=\"_blank\">docs</a>)<br/>Sweep page: <a href='https://wandb.ai/cs23m015/DL-Assignment-1/sweeps/lfeqafjm' target=\"_blank\">https://wandb.ai/cs23m015/DL-Assignment-1/sweeps/lfeqafjm</a>"
            ]
          },
          "metadata": {}
        },
        {
          "output_type": "display_data",
          "data": {
            "text/plain": [
              "<IPython.core.display.HTML object>"
            ],
            "text/html": [
              " View project at <a href='https://wandb.ai/cs23m015/DL-Assignment-1' target=\"_blank\">https://wandb.ai/cs23m015/DL-Assignment-1</a>"
            ]
          },
          "metadata": {}
        },
        {
          "output_type": "display_data",
          "data": {
            "text/plain": [
              "<IPython.core.display.HTML object>"
            ],
            "text/html": [
              " View sweep at <a href='https://wandb.ai/cs23m015/DL-Assignment-1/sweeps/lfeqafjm' target=\"_blank\">https://wandb.ai/cs23m015/DL-Assignment-1/sweeps/lfeqafjm</a>"
            ]
          },
          "metadata": {}
        },
        {
          "output_type": "display_data",
          "data": {
            "text/plain": [
              "<IPython.core.display.HTML object>"
            ],
            "text/html": [
              " View run at <a href='https://wandb.ai/cs23m015/DL-Assignment-1/runs/nty6pk5w' target=\"_blank\">https://wandb.ai/cs23m015/DL-Assignment-1/runs/nty6pk5w</a>"
            ]
          },
          "metadata": {}
        },
        {
          "output_type": "display_data",
          "data": {
            "text/plain": [
              "VBox(children=(Label(value='0.011 MB of 0.011 MB uploaded\\r'), FloatProgress(value=1.0, max=1.0)))"
            ],
            "application/vnd.jupyter.widget-view+json": {
              "version_major": 2,
              "version_minor": 0,
              "model_id": "cb934f2837c94ec4930190083705c47e"
            }
          },
          "metadata": {}
        },
        {
          "output_type": "display_data",
          "data": {
            "text/plain": [
              "<IPython.core.display.HTML object>"
            ],
            "text/html": [
              "<style>\n",
              "    table.wandb td:nth-child(1) { padding: 0 10px; text-align: left ; width: auto;} td:nth-child(2) {text-align: left ; width: 100%}\n",
              "    .wandb-row { display: flex; flex-direction: row; flex-wrap: wrap; justify-content: flex-start; width: 100% }\n",
              "    .wandb-col { display: flex; flex-direction: column; flex-basis: 100%; flex: 1; padding: 10px; }\n",
              "    </style>\n",
              "<div class=\"wandb-row\"><div class=\"wandb-col\"><h3>Run history:</h3><br/><table class=\"wandb\"><tr><td>Accuracy</td><td>▁</td></tr><tr><td>epoch</td><td>▁▂▃▃▄▅▆▆▇█</td></tr><tr><td>training_accuracy</td><td>▁▄▅▆▇▇▇███</td></tr><tr><td>training_loss</td><td>█▆▄▃▂▂▂▁▁▁</td></tr><tr><td>validation_accuracy</td><td>▁▄▅▆▇▇▇███</td></tr><tr><td>validation_loss</td><td>█▆▄▃▂▂▂▁▁▁</td></tr></table><br/></div><div class=\"wandb-col\"><h3>Run summary:</h3><br/><table class=\"wandb\"><tr><td>Accuracy</td><td>87.03333</td></tr><tr><td>epoch</td><td>10</td></tr><tr><td>training_accuracy</td><td>86.57</td></tr><tr><td>training_loss</td><td>0.67</td></tr><tr><td>validation_accuracy</td><td>87.03</td></tr><tr><td>validation_loss</td><td>0.65</td></tr></table><br/></div></div>"
            ]
          },
          "metadata": {}
        },
        {
          "output_type": "display_data",
          "data": {
            "text/plain": [
              "<IPython.core.display.HTML object>"
            ],
            "text/html": [
              " View run <strong style=\"color:#cdcd00\">colorful-sweep-7</strong> at: <a href='https://wandb.ai/cs23m015/DL-Assignment-1/runs/nty6pk5w' target=\"_blank\">https://wandb.ai/cs23m015/DL-Assignment-1/runs/nty6pk5w</a><br/>Synced 4 W&B file(s), 0 media file(s), 0 artifact file(s) and 0 other file(s)"
            ]
          },
          "metadata": {}
        },
        {
          "output_type": "display_data",
          "data": {
            "text/plain": [
              "<IPython.core.display.HTML object>"
            ],
            "text/html": [
              "Find logs at: <code>./wandb/run-20240316_180347-nty6pk5w/logs</code>"
            ]
          },
          "metadata": {}
        },
        {
          "output_type": "stream",
          "name": "stderr",
          "text": [
            "\u001b[34m\u001b[1mwandb\u001b[0m: Agent Starting Run: tjeyg4t4 with config:\n",
            "\u001b[34m\u001b[1mwandb\u001b[0m: \tactivation: tanh\n",
            "\u001b[34m\u001b[1mwandb\u001b[0m: \talpha: 0\n",
            "\u001b[34m\u001b[1mwandb\u001b[0m: \tbatch: 32\n",
            "\u001b[34m\u001b[1mwandb\u001b[0m: \tbeta: 0.9\n",
            "\u001b[34m\u001b[1mwandb\u001b[0m: \tbeta1: 0.999\n",
            "\u001b[34m\u001b[1mwandb\u001b[0m: \tbeta2: 0.999\n",
            "\u001b[34m\u001b[1mwandb\u001b[0m: \te: 1e-06\n",
            "\u001b[34m\u001b[1mwandb\u001b[0m: \tfn_loss: cross_entropy\n",
            "\u001b[34m\u001b[1mwandb\u001b[0m: \thiddenlayers: 4\n",
            "\u001b[34m\u001b[1mwandb\u001b[0m: \tinitialization: xavier\n",
            "\u001b[34m\u001b[1mwandb\u001b[0m: \titer: 10\n",
            "\u001b[34m\u001b[1mwandb\u001b[0m: \tmom: 0.9\n",
            "\u001b[34m\u001b[1mwandb\u001b[0m: \tn: 0.0001\n",
            "\u001b[34m\u001b[1mwandb\u001b[0m: \tneuron: 32\n",
            "\u001b[34m\u001b[1mwandb\u001b[0m: \toptimizer: adam\n",
            "\u001b[34m\u001b[1mwandb\u001b[0m: \toutAct: softmax\n",
            "\u001b[34m\u001b[1mwandb\u001b[0m: \u001b[33mWARNING\u001b[0m Ignored wandb.init() arg project when running a sweep.\n"
          ]
        },
        {
          "output_type": "display_data",
          "data": {
            "text/plain": [
              "<IPython.core.display.HTML object>"
            ],
            "text/html": [
              "Tracking run with wandb version 0.16.4"
            ]
          },
          "metadata": {}
        },
        {
          "output_type": "display_data",
          "data": {
            "text/plain": [
              "<IPython.core.display.HTML object>"
            ],
            "text/html": [
              "Run data is saved locally in <code>/content/wandb/run-20240316_180603-tjeyg4t4</code>"
            ]
          },
          "metadata": {}
        },
        {
          "output_type": "display_data",
          "data": {
            "text/plain": [
              "<IPython.core.display.HTML object>"
            ],
            "text/html": [
              "Syncing run <strong><a href='https://wandb.ai/cs23m015/DL-Assignment-1/runs/tjeyg4t4' target=\"_blank\">apricot-sweep-8</a></strong> to <a href='https://wandb.ai/cs23m015/DL-Assignment-1' target=\"_blank\">Weights & Biases</a> (<a href='https://wandb.me/run' target=\"_blank\">docs</a>)<br/>Sweep page: <a href='https://wandb.ai/cs23m015/DL-Assignment-1/sweeps/lfeqafjm' target=\"_blank\">https://wandb.ai/cs23m015/DL-Assignment-1/sweeps/lfeqafjm</a>"
            ]
          },
          "metadata": {}
        },
        {
          "output_type": "display_data",
          "data": {
            "text/plain": [
              "<IPython.core.display.HTML object>"
            ],
            "text/html": [
              " View project at <a href='https://wandb.ai/cs23m015/DL-Assignment-1' target=\"_blank\">https://wandb.ai/cs23m015/DL-Assignment-1</a>"
            ]
          },
          "metadata": {}
        },
        {
          "output_type": "display_data",
          "data": {
            "text/plain": [
              "<IPython.core.display.HTML object>"
            ],
            "text/html": [
              " View sweep at <a href='https://wandb.ai/cs23m015/DL-Assignment-1/sweeps/lfeqafjm' target=\"_blank\">https://wandb.ai/cs23m015/DL-Assignment-1/sweeps/lfeqafjm</a>"
            ]
          },
          "metadata": {}
        },
        {
          "output_type": "display_data",
          "data": {
            "text/plain": [
              "<IPython.core.display.HTML object>"
            ],
            "text/html": [
              " View run at <a href='https://wandb.ai/cs23m015/DL-Assignment-1/runs/tjeyg4t4' target=\"_blank\">https://wandb.ai/cs23m015/DL-Assignment-1/runs/tjeyg4t4</a>"
            ]
          },
          "metadata": {}
        },
        {
          "output_type": "display_data",
          "data": {
            "text/plain": [
              "VBox(children=(Label(value='0.011 MB of 0.011 MB uploaded\\r'), FloatProgress(value=1.0, max=1.0)))"
            ],
            "application/vnd.jupyter.widget-view+json": {
              "version_major": 2,
              "version_minor": 0,
              "model_id": "0608d971c9b44c138a436fa4ac56a336"
            }
          },
          "metadata": {}
        },
        {
          "output_type": "display_data",
          "data": {
            "text/plain": [
              "<IPython.core.display.HTML object>"
            ],
            "text/html": [
              "<style>\n",
              "    table.wandb td:nth-child(1) { padding: 0 10px; text-align: left ; width: auto;} td:nth-child(2) {text-align: left ; width: 100%}\n",
              "    .wandb-row { display: flex; flex-direction: row; flex-wrap: wrap; justify-content: flex-start; width: 100% }\n",
              "    .wandb-col { display: flex; flex-direction: column; flex-basis: 100%; flex: 1; padding: 10px; }\n",
              "    </style>\n",
              "<div class=\"wandb-row\"><div class=\"wandb-col\"><h3>Run history:</h3><br/><table class=\"wandb\"><tr><td>Accuracy</td><td>▁</td></tr><tr><td>epoch</td><td>▁▂▃▃▄▅▆▆▇█</td></tr><tr><td>training_accuracy</td><td>▁▅▆▇▇▇████</td></tr><tr><td>training_loss</td><td>█▄▃▃▂▂▂▁▁▁</td></tr><tr><td>validation_accuracy</td><td>▁▅▆▇▇▇▇███</td></tr><tr><td>validation_loss</td><td>█▄▃▂▂▂▁▁▁▁</td></tr></table><br/></div><div class=\"wandb-col\"><h3>Run summary:</h3><br/><table class=\"wandb\"><tr><td>Accuracy</td><td>95.05</td></tr><tr><td>epoch</td><td>10</td></tr><tr><td>training_accuracy</td><td>95.79</td></tr><tr><td>training_loss</td><td>0.21</td></tr><tr><td>validation_accuracy</td><td>95.05</td></tr><tr><td>validation_loss</td><td>0.24</td></tr></table><br/></div></div>"
            ]
          },
          "metadata": {}
        },
        {
          "output_type": "display_data",
          "data": {
            "text/plain": [
              "<IPython.core.display.HTML object>"
            ],
            "text/html": [
              " View run <strong style=\"color:#cdcd00\">apricot-sweep-8</strong> at: <a href='https://wandb.ai/cs23m015/DL-Assignment-1/runs/tjeyg4t4' target=\"_blank\">https://wandb.ai/cs23m015/DL-Assignment-1/runs/tjeyg4t4</a><br/>Synced 4 W&B file(s), 0 media file(s), 0 artifact file(s) and 0 other file(s)"
            ]
          },
          "metadata": {}
        },
        {
          "output_type": "display_data",
          "data": {
            "text/plain": [
              "<IPython.core.display.HTML object>"
            ],
            "text/html": [
              "Find logs at: <code>./wandb/run-20240316_180603-tjeyg4t4/logs</code>"
            ]
          },
          "metadata": {}
        },
        {
          "output_type": "stream",
          "name": "stderr",
          "text": [
            "\u001b[34m\u001b[1mwandb\u001b[0m: Agent Starting Run: bl78k9tj with config:\n",
            "\u001b[34m\u001b[1mwandb\u001b[0m: \tactivation: tanh\n",
            "\u001b[34m\u001b[1mwandb\u001b[0m: \talpha: 0\n",
            "\u001b[34m\u001b[1mwandb\u001b[0m: \tbatch: 32\n",
            "\u001b[34m\u001b[1mwandb\u001b[0m: \tbeta: 0.9\n",
            "\u001b[34m\u001b[1mwandb\u001b[0m: \tbeta1: 0.999\n",
            "\u001b[34m\u001b[1mwandb\u001b[0m: \tbeta2: 0.999\n",
            "\u001b[34m\u001b[1mwandb\u001b[0m: \te: 1e-06\n",
            "\u001b[34m\u001b[1mwandb\u001b[0m: \tfn_loss: cross_entropy\n",
            "\u001b[34m\u001b[1mwandb\u001b[0m: \thiddenlayers: 4\n",
            "\u001b[34m\u001b[1mwandb\u001b[0m: \tinitialization: xavier\n",
            "\u001b[34m\u001b[1mwandb\u001b[0m: \titer: 10\n",
            "\u001b[34m\u001b[1mwandb\u001b[0m: \tmom: 0.9\n",
            "\u001b[34m\u001b[1mwandb\u001b[0m: \tn: 0.0001\n",
            "\u001b[34m\u001b[1mwandb\u001b[0m: \tneuron: 32\n",
            "\u001b[34m\u001b[1mwandb\u001b[0m: \toptimizer: Nadam\n",
            "\u001b[34m\u001b[1mwandb\u001b[0m: \toutAct: softmax\n",
            "\u001b[34m\u001b[1mwandb\u001b[0m: \u001b[33mWARNING\u001b[0m Ignored wandb.init() arg project when running a sweep.\n"
          ]
        },
        {
          "output_type": "display_data",
          "data": {
            "text/plain": [
              "<IPython.core.display.HTML object>"
            ],
            "text/html": [
              "Tracking run with wandb version 0.16.4"
            ]
          },
          "metadata": {}
        },
        {
          "output_type": "display_data",
          "data": {
            "text/plain": [
              "<IPython.core.display.HTML object>"
            ],
            "text/html": [
              "Run data is saved locally in <code>/content/wandb/run-20240316_180825-bl78k9tj</code>"
            ]
          },
          "metadata": {}
        },
        {
          "output_type": "display_data",
          "data": {
            "text/plain": [
              "<IPython.core.display.HTML object>"
            ],
            "text/html": [
              "Syncing run <strong><a href='https://wandb.ai/cs23m015/DL-Assignment-1/runs/bl78k9tj' target=\"_blank\">pious-sweep-9</a></strong> to <a href='https://wandb.ai/cs23m015/DL-Assignment-1' target=\"_blank\">Weights & Biases</a> (<a href='https://wandb.me/run' target=\"_blank\">docs</a>)<br/>Sweep page: <a href='https://wandb.ai/cs23m015/DL-Assignment-1/sweeps/lfeqafjm' target=\"_blank\">https://wandb.ai/cs23m015/DL-Assignment-1/sweeps/lfeqafjm</a>"
            ]
          },
          "metadata": {}
        },
        {
          "output_type": "display_data",
          "data": {
            "text/plain": [
              "<IPython.core.display.HTML object>"
            ],
            "text/html": [
              " View project at <a href='https://wandb.ai/cs23m015/DL-Assignment-1' target=\"_blank\">https://wandb.ai/cs23m015/DL-Assignment-1</a>"
            ]
          },
          "metadata": {}
        },
        {
          "output_type": "display_data",
          "data": {
            "text/plain": [
              "<IPython.core.display.HTML object>"
            ],
            "text/html": [
              " View sweep at <a href='https://wandb.ai/cs23m015/DL-Assignment-1/sweeps/lfeqafjm' target=\"_blank\">https://wandb.ai/cs23m015/DL-Assignment-1/sweeps/lfeqafjm</a>"
            ]
          },
          "metadata": {}
        },
        {
          "output_type": "display_data",
          "data": {
            "text/plain": [
              "<IPython.core.display.HTML object>"
            ],
            "text/html": [
              " View run at <a href='https://wandb.ai/cs23m015/DL-Assignment-1/runs/bl78k9tj' target=\"_blank\">https://wandb.ai/cs23m015/DL-Assignment-1/runs/bl78k9tj</a>"
            ]
          },
          "metadata": {}
        },
        {
          "output_type": "stream",
          "name": "stdout",
          "text": [
            "Iteration Number: 1 Train Loss : 0.9249994348706078\n",
            "Iteration Number: 1 Validation Loss : 0.8986094476525579\n",
            "Iteration Number: 1 Train Accurcy : 81.00185185185185\n",
            "Iteration Number: 1 Validaion Accuracy: 81.56666666666666\n",
            "Iteration Number: 2 Train Loss : 0.5565492580598596\n",
            "Iteration Number: 2 Validation Loss : 0.5380458970309712\n",
            "Iteration Number: 2 Train Accurcy : 88.74629629629631\n",
            "Iteration Number: 2 Validaion Accuracy: 89.25\n",
            "Iteration Number: 3 Train Loss : 0.4272745388353611\n",
            "Iteration Number: 3 Validation Loss : 0.41747076694618873\n",
            "Iteration Number: 3 Train Accurcy : 91.37407407407407\n",
            "Iteration Number: 3 Validaion Accuracy: 91.38333333333334\n",
            "Iteration Number: 4 Train Loss : 0.36292869473036427\n",
            "Iteration Number: 4 Validation Loss : 0.3631239382503059\n",
            "Iteration Number: 4 Train Accurcy : 92.67222222222222\n",
            "Iteration Number: 4 Validaion Accuracy: 92.31666666666666\n",
            "Iteration Number: 5 Train Loss : 0.3207533024747862\n",
            "Iteration Number: 5 Validation Loss : 0.3265950420194038\n",
            "Iteration Number: 5 Train Accurcy : 93.55740740740741\n",
            "Iteration Number: 5 Validaion Accuracy: 92.85\n",
            "Iteration Number: 6 Train Loss : 0.2899092024606932\n",
            "Iteration Number: 6 Validation Loss : 0.299839203712061\n",
            "Iteration Number: 6 Train Accurcy : 94.24444444444444\n",
            "Iteration Number: 6 Validaion Accuracy: 93.51666666666667\n",
            "Iteration Number: 7 Train Loss : 0.26555438174814144\n",
            "Iteration Number: 7 Validation Loss : 0.28008640043999977\n",
            "Iteration Number: 7 Train Accurcy : 94.74259259259259\n",
            "Iteration Number: 7 Validaion Accuracy: 93.98333333333333\n",
            "Iteration Number: 8 Train Loss : 0.24545095051577945\n",
            "Iteration Number: 8 Validation Loss : 0.2643960964362524\n",
            "Iteration Number: 8 Train Accurcy : 95.12962962962963\n",
            "Iteration Number: 8 Validaion Accuracy: 94.46666666666667\n",
            "Iteration Number: 9 Train Loss : 0.22860224632165665\n",
            "Iteration Number: 9 Validation Loss : 0.2518510567286932\n",
            "Iteration Number: 9 Train Accurcy : 95.43148148148148\n",
            "Iteration Number: 9 Validaion Accuracy: 94.71666666666667\n",
            "Iteration Number: 10 Train Loss : 0.2142165093107359\n",
            "Iteration Number: 10 Validation Loss : 0.24155084491076567\n",
            "Iteration Number: 10 Train Accurcy : 95.75185185185185\n",
            "Iteration Number: 10 Validaion Accuracy: 94.93333333333334\n"
          ]
        },
        {
          "output_type": "display_data",
          "data": {
            "text/plain": [
              "VBox(children=(Label(value='0.013 MB of 0.013 MB uploaded\\r'), FloatProgress(value=1.0, max=1.0)))"
            ],
            "application/vnd.jupyter.widget-view+json": {
              "version_major": 2,
              "version_minor": 0,
              "model_id": "0c7dc7b19c6e411282a171b0434e85a0"
            }
          },
          "metadata": {}
        },
        {
          "output_type": "display_data",
          "data": {
            "text/plain": [
              "<IPython.core.display.HTML object>"
            ],
            "text/html": [
              "<style>\n",
              "    table.wandb td:nth-child(1) { padding: 0 10px; text-align: left ; width: auto;} td:nth-child(2) {text-align: left ; width: 100%}\n",
              "    .wandb-row { display: flex; flex-direction: row; flex-wrap: wrap; justify-content: flex-start; width: 100% }\n",
              "    .wandb-col { display: flex; flex-direction: column; flex-basis: 100%; flex: 1; padding: 10px; }\n",
              "    </style>\n",
              "<div class=\"wandb-row\"><div class=\"wandb-col\"><h3>Run history:</h3><br/><table class=\"wandb\"><tr><td>Accuracy</td><td>▁</td></tr><tr><td>epoch</td><td>▁▂▃▃▄▅▆▆▇█</td></tr><tr><td>training_accuracy</td><td>▁▅▆▇▇▇████</td></tr><tr><td>training_loss</td><td>█▄▃▂▂▂▂▁▁▁</td></tr><tr><td>validation_accuracy</td><td>▁▅▆▇▇▇████</td></tr><tr><td>validation_loss</td><td>█▄▃▂▂▂▁▁▁▁</td></tr></table><br/></div><div class=\"wandb-col\"><h3>Run summary:</h3><br/><table class=\"wandb\"><tr><td>Accuracy</td><td>94.93333</td></tr><tr><td>epoch</td><td>10</td></tr><tr><td>training_accuracy</td><td>95.75</td></tr><tr><td>training_loss</td><td>0.21</td></tr><tr><td>validation_accuracy</td><td>94.93</td></tr><tr><td>validation_loss</td><td>0.24</td></tr></table><br/></div></div>"
            ]
          },
          "metadata": {}
        },
        {
          "output_type": "display_data",
          "data": {
            "text/plain": [
              "<IPython.core.display.HTML object>"
            ],
            "text/html": [
              " View run <strong style=\"color:#cdcd00\">pious-sweep-9</strong> at: <a href='https://wandb.ai/cs23m015/DL-Assignment-1/runs/bl78k9tj' target=\"_blank\">https://wandb.ai/cs23m015/DL-Assignment-1/runs/bl78k9tj</a><br/>Synced 5 W&B file(s), 0 media file(s), 0 artifact file(s) and 0 other file(s)"
            ]
          },
          "metadata": {}
        },
        {
          "output_type": "display_data",
          "data": {
            "text/plain": [
              "<IPython.core.display.HTML object>"
            ],
            "text/html": [
              "Find logs at: <code>./wandb/run-20240316_180825-bl78k9tj/logs</code>"
            ]
          },
          "metadata": {}
        },
        {
          "output_type": "stream",
          "name": "stderr",
          "text": [
            "\u001b[34m\u001b[1mwandb\u001b[0m: Agent Starting Run: dgeyvyc2 with config:\n",
            "\u001b[34m\u001b[1mwandb\u001b[0m: \tactivation: tanh\n",
            "\u001b[34m\u001b[1mwandb\u001b[0m: \talpha: 0\n",
            "\u001b[34m\u001b[1mwandb\u001b[0m: \tbatch: 32\n",
            "\u001b[34m\u001b[1mwandb\u001b[0m: \tbeta: 0.9\n",
            "\u001b[34m\u001b[1mwandb\u001b[0m: \tbeta1: 0.999\n",
            "\u001b[34m\u001b[1mwandb\u001b[0m: \tbeta2: 0.999\n",
            "\u001b[34m\u001b[1mwandb\u001b[0m: \te: 1e-06\n",
            "\u001b[34m\u001b[1mwandb\u001b[0m: \tfn_loss: cross_entropy\n",
            "\u001b[34m\u001b[1mwandb\u001b[0m: \thiddenlayers: 4\n",
            "\u001b[34m\u001b[1mwandb\u001b[0m: \tinitialization: xavier\n",
            "\u001b[34m\u001b[1mwandb\u001b[0m: \titer: 10\n",
            "\u001b[34m\u001b[1mwandb\u001b[0m: \tmom: 0.9\n",
            "\u001b[34m\u001b[1mwandb\u001b[0m: \tn: 0.0001\n",
            "\u001b[34m\u001b[1mwandb\u001b[0m: \tneuron: 64\n",
            "\u001b[34m\u001b[1mwandb\u001b[0m: \toptimizer: rmsProp\n",
            "\u001b[34m\u001b[1mwandb\u001b[0m: \toutAct: softmax\n",
            "\u001b[34m\u001b[1mwandb\u001b[0m: \u001b[33mWARNING\u001b[0m Ignored wandb.init() arg project when running a sweep.\n"
          ]
        },
        {
          "output_type": "display_data",
          "data": {
            "text/plain": [
              "<IPython.core.display.HTML object>"
            ],
            "text/html": [
              "Tracking run with wandb version 0.16.4"
            ]
          },
          "metadata": {}
        },
        {
          "output_type": "display_data",
          "data": {
            "text/plain": [
              "<IPython.core.display.HTML object>"
            ],
            "text/html": [
              "Run data is saved locally in <code>/content/wandb/run-20240316_181058-dgeyvyc2</code>"
            ]
          },
          "metadata": {}
        },
        {
          "output_type": "display_data",
          "data": {
            "text/plain": [
              "<IPython.core.display.HTML object>"
            ],
            "text/html": [
              "Syncing run <strong><a href='https://wandb.ai/cs23m015/DL-Assignment-1/runs/dgeyvyc2' target=\"_blank\">sandy-sweep-10</a></strong> to <a href='https://wandb.ai/cs23m015/DL-Assignment-1' target=\"_blank\">Weights & Biases</a> (<a href='https://wandb.me/run' target=\"_blank\">docs</a>)<br/>Sweep page: <a href='https://wandb.ai/cs23m015/DL-Assignment-1/sweeps/lfeqafjm' target=\"_blank\">https://wandb.ai/cs23m015/DL-Assignment-1/sweeps/lfeqafjm</a>"
            ]
          },
          "metadata": {}
        },
        {
          "output_type": "display_data",
          "data": {
            "text/plain": [
              "<IPython.core.display.HTML object>"
            ],
            "text/html": [
              " View project at <a href='https://wandb.ai/cs23m015/DL-Assignment-1' target=\"_blank\">https://wandb.ai/cs23m015/DL-Assignment-1</a>"
            ]
          },
          "metadata": {}
        },
        {
          "output_type": "display_data",
          "data": {
            "text/plain": [
              "<IPython.core.display.HTML object>"
            ],
            "text/html": [
              " View sweep at <a href='https://wandb.ai/cs23m015/DL-Assignment-1/sweeps/lfeqafjm' target=\"_blank\">https://wandb.ai/cs23m015/DL-Assignment-1/sweeps/lfeqafjm</a>"
            ]
          },
          "metadata": {}
        },
        {
          "output_type": "display_data",
          "data": {
            "text/plain": [
              "<IPython.core.display.HTML object>"
            ],
            "text/html": [
              " View run at <a href='https://wandb.ai/cs23m015/DL-Assignment-1/runs/dgeyvyc2' target=\"_blank\">https://wandb.ai/cs23m015/DL-Assignment-1/runs/dgeyvyc2</a>"
            ]
          },
          "metadata": {}
        },
        {
          "output_type": "display_data",
          "data": {
            "text/plain": [
              "VBox(children=(Label(value='0.011 MB of 0.011 MB uploaded\\r'), FloatProgress(value=1.0, max=1.0)))"
            ],
            "application/vnd.jupyter.widget-view+json": {
              "version_major": 2,
              "version_minor": 0,
              "model_id": "a407a6ede36e4a3ba3e4907f22b0f7c0"
            }
          },
          "metadata": {}
        },
        {
          "output_type": "display_data",
          "data": {
            "text/plain": [
              "<IPython.core.display.HTML object>"
            ],
            "text/html": [
              "<style>\n",
              "    table.wandb td:nth-child(1) { padding: 0 10px; text-align: left ; width: auto;} td:nth-child(2) {text-align: left ; width: 100%}\n",
              "    .wandb-row { display: flex; flex-direction: row; flex-wrap: wrap; justify-content: flex-start; width: 100% }\n",
              "    .wandb-col { display: flex; flex-direction: column; flex-basis: 100%; flex: 1; padding: 10px; }\n",
              "    </style>\n",
              "<div class=\"wandb-row\"><div class=\"wandb-col\"><h3>Run history:</h3><br/><table class=\"wandb\"><tr><td>Accuracy</td><td>▁</td></tr><tr><td>epoch</td><td>▁▂▃▃▄▅▆▆▇█</td></tr><tr><td>training_accuracy</td><td>▁▄▅▆▇▇████</td></tr><tr><td>training_loss</td><td>█▅▄▃▂▂▂▁▁▁</td></tr><tr><td>validation_accuracy</td><td>▁▄▆▆▇▇████</td></tr><tr><td>validation_loss</td><td>█▅▄▃▂▂▂▁▁▁</td></tr></table><br/></div><div class=\"wandb-col\"><h3>Run summary:</h3><br/><table class=\"wandb\"><tr><td>Accuracy</td><td>90.3</td></tr><tr><td>epoch</td><td>10</td></tr><tr><td>training_accuracy</td><td>89.97</td></tr><tr><td>training_loss</td><td>0.5</td></tr><tr><td>validation_accuracy</td><td>90.3</td></tr><tr><td>validation_loss</td><td>0.48</td></tr></table><br/></div></div>"
            ]
          },
          "metadata": {}
        },
        {
          "output_type": "display_data",
          "data": {
            "text/plain": [
              "<IPython.core.display.HTML object>"
            ],
            "text/html": [
              " View run <strong style=\"color:#cdcd00\">sandy-sweep-10</strong> at: <a href='https://wandb.ai/cs23m015/DL-Assignment-1/runs/dgeyvyc2' target=\"_blank\">https://wandb.ai/cs23m015/DL-Assignment-1/runs/dgeyvyc2</a><br/>Synced 4 W&B file(s), 0 media file(s), 0 artifact file(s) and 0 other file(s)"
            ]
          },
          "metadata": {}
        },
        {
          "output_type": "display_data",
          "data": {
            "text/plain": [
              "<IPython.core.display.HTML object>"
            ],
            "text/html": [
              "Find logs at: <code>./wandb/run-20240316_181058-dgeyvyc2/logs</code>"
            ]
          },
          "metadata": {}
        },
        {
          "output_type": "stream",
          "name": "stderr",
          "text": [
            "\u001b[34m\u001b[1mwandb\u001b[0m: Agent Starting Run: 8z6tuvcy with config:\n",
            "\u001b[34m\u001b[1mwandb\u001b[0m: \tactivation: tanh\n",
            "\u001b[34m\u001b[1mwandb\u001b[0m: \talpha: 0\n",
            "\u001b[34m\u001b[1mwandb\u001b[0m: \tbatch: 32\n",
            "\u001b[34m\u001b[1mwandb\u001b[0m: \tbeta: 0.9\n",
            "\u001b[34m\u001b[1mwandb\u001b[0m: \tbeta1: 0.999\n",
            "\u001b[34m\u001b[1mwandb\u001b[0m: \tbeta2: 0.999\n",
            "\u001b[34m\u001b[1mwandb\u001b[0m: \te: 1e-06\n",
            "\u001b[34m\u001b[1mwandb\u001b[0m: \tfn_loss: cross_entropy\n",
            "\u001b[34m\u001b[1mwandb\u001b[0m: \thiddenlayers: 4\n",
            "\u001b[34m\u001b[1mwandb\u001b[0m: \tinitialization: xavier\n",
            "\u001b[34m\u001b[1mwandb\u001b[0m: \titer: 10\n",
            "\u001b[34m\u001b[1mwandb\u001b[0m: \tmom: 0.9\n",
            "\u001b[34m\u001b[1mwandb\u001b[0m: \tn: 0.0001\n",
            "\u001b[34m\u001b[1mwandb\u001b[0m: \tneuron: 64\n",
            "\u001b[34m\u001b[1mwandb\u001b[0m: \toptimizer: adam\n",
            "\u001b[34m\u001b[1mwandb\u001b[0m: \toutAct: softmax\n",
            "\u001b[34m\u001b[1mwandb\u001b[0m: \u001b[33mWARNING\u001b[0m Ignored wandb.init() arg project when running a sweep.\n"
          ]
        },
        {
          "output_type": "display_data",
          "data": {
            "text/plain": [
              "<IPython.core.display.HTML object>"
            ],
            "text/html": [
              "Tracking run with wandb version 0.16.4"
            ]
          },
          "metadata": {}
        },
        {
          "output_type": "display_data",
          "data": {
            "text/plain": [
              "<IPython.core.display.HTML object>"
            ],
            "text/html": [
              "Run data is saved locally in <code>/content/wandb/run-20240316_181354-8z6tuvcy</code>"
            ]
          },
          "metadata": {}
        },
        {
          "output_type": "display_data",
          "data": {
            "text/plain": [
              "<IPython.core.display.HTML object>"
            ],
            "text/html": [
              "Syncing run <strong><a href='https://wandb.ai/cs23m015/DL-Assignment-1/runs/8z6tuvcy' target=\"_blank\">honest-sweep-11</a></strong> to <a href='https://wandb.ai/cs23m015/DL-Assignment-1' target=\"_blank\">Weights & Biases</a> (<a href='https://wandb.me/run' target=\"_blank\">docs</a>)<br/>Sweep page: <a href='https://wandb.ai/cs23m015/DL-Assignment-1/sweeps/lfeqafjm' target=\"_blank\">https://wandb.ai/cs23m015/DL-Assignment-1/sweeps/lfeqafjm</a>"
            ]
          },
          "metadata": {}
        },
        {
          "output_type": "display_data",
          "data": {
            "text/plain": [
              "<IPython.core.display.HTML object>"
            ],
            "text/html": [
              " View project at <a href='https://wandb.ai/cs23m015/DL-Assignment-1' target=\"_blank\">https://wandb.ai/cs23m015/DL-Assignment-1</a>"
            ]
          },
          "metadata": {}
        },
        {
          "output_type": "display_data",
          "data": {
            "text/plain": [
              "<IPython.core.display.HTML object>"
            ],
            "text/html": [
              " View sweep at <a href='https://wandb.ai/cs23m015/DL-Assignment-1/sweeps/lfeqafjm' target=\"_blank\">https://wandb.ai/cs23m015/DL-Assignment-1/sweeps/lfeqafjm</a>"
            ]
          },
          "metadata": {}
        },
        {
          "output_type": "display_data",
          "data": {
            "text/plain": [
              "<IPython.core.display.HTML object>"
            ],
            "text/html": [
              " View run at <a href='https://wandb.ai/cs23m015/DL-Assignment-1/runs/8z6tuvcy' target=\"_blank\">https://wandb.ai/cs23m015/DL-Assignment-1/runs/8z6tuvcy</a>"
            ]
          },
          "metadata": {}
        },
        {
          "output_type": "display_data",
          "data": {
            "text/plain": [
              "VBox(children=(Label(value='0.011 MB of 0.011 MB uploaded\\r'), FloatProgress(value=1.0, max=1.0)))"
            ],
            "application/vnd.jupyter.widget-view+json": {
              "version_major": 2,
              "version_minor": 0,
              "model_id": "853ce980abc04385bc3b6a138798e4ac"
            }
          },
          "metadata": {}
        },
        {
          "output_type": "display_data",
          "data": {
            "text/plain": [
              "<IPython.core.display.HTML object>"
            ],
            "text/html": [
              "<style>\n",
              "    table.wandb td:nth-child(1) { padding: 0 10px; text-align: left ; width: auto;} td:nth-child(2) {text-align: left ; width: 100%}\n",
              "    .wandb-row { display: flex; flex-direction: row; flex-wrap: wrap; justify-content: flex-start; width: 100% }\n",
              "    .wandb-col { display: flex; flex-direction: column; flex-basis: 100%; flex: 1; padding: 10px; }\n",
              "    </style>\n",
              "<div class=\"wandb-row\"><div class=\"wandb-col\"><h3>Run history:</h3><br/><table class=\"wandb\"><tr><td>Accuracy</td><td>▁</td></tr><tr><td>epoch</td><td>▁▂▃▃▄▅▆▆▇█</td></tr><tr><td>training_accuracy</td><td>▁▄▅▆▆▇▇███</td></tr><tr><td>training_loss</td><td>█▅▄▃▂▂▂▁▁▁</td></tr><tr><td>validation_accuracy</td><td>▁▄▆▆▇▇▇███</td></tr><tr><td>validation_loss</td><td>█▄▃▂▂▂▁▁▁▁</td></tr></table><br/></div><div class=\"wandb-col\"><h3>Run summary:</h3><br/><table class=\"wandb\"><tr><td>Accuracy</td><td>96.3</td></tr><tr><td>epoch</td><td>10</td></tr><tr><td>training_accuracy</td><td>97.74</td></tr><tr><td>training_loss</td><td>0.12</td></tr><tr><td>validation_accuracy</td><td>96.3</td></tr><tr><td>validation_loss</td><td>0.17</td></tr></table><br/></div></div>"
            ]
          },
          "metadata": {}
        },
        {
          "output_type": "display_data",
          "data": {
            "text/plain": [
              "<IPython.core.display.HTML object>"
            ],
            "text/html": [
              " View run <strong style=\"color:#cdcd00\">honest-sweep-11</strong> at: <a href='https://wandb.ai/cs23m015/DL-Assignment-1/runs/8z6tuvcy' target=\"_blank\">https://wandb.ai/cs23m015/DL-Assignment-1/runs/8z6tuvcy</a><br/>Synced 4 W&B file(s), 0 media file(s), 0 artifact file(s) and 0 other file(s)"
            ]
          },
          "metadata": {}
        },
        {
          "output_type": "display_data",
          "data": {
            "text/plain": [
              "<IPython.core.display.HTML object>"
            ],
            "text/html": [
              "Find logs at: <code>./wandb/run-20240316_181354-8z6tuvcy/logs</code>"
            ]
          },
          "metadata": {}
        },
        {
          "output_type": "stream",
          "name": "stderr",
          "text": [
            "\u001b[34m\u001b[1mwandb\u001b[0m: Agent Starting Run: yzd88ql4 with config:\n",
            "\u001b[34m\u001b[1mwandb\u001b[0m: \tactivation: tanh\n",
            "\u001b[34m\u001b[1mwandb\u001b[0m: \talpha: 0\n",
            "\u001b[34m\u001b[1mwandb\u001b[0m: \tbatch: 32\n",
            "\u001b[34m\u001b[1mwandb\u001b[0m: \tbeta: 0.9\n",
            "\u001b[34m\u001b[1mwandb\u001b[0m: \tbeta1: 0.999\n",
            "\u001b[34m\u001b[1mwandb\u001b[0m: \tbeta2: 0.999\n",
            "\u001b[34m\u001b[1mwandb\u001b[0m: \te: 1e-06\n",
            "\u001b[34m\u001b[1mwandb\u001b[0m: \tfn_loss: cross_entropy\n",
            "\u001b[34m\u001b[1mwandb\u001b[0m: \thiddenlayers: 4\n",
            "\u001b[34m\u001b[1mwandb\u001b[0m: \tinitialization: xavier\n",
            "\u001b[34m\u001b[1mwandb\u001b[0m: \titer: 10\n",
            "\u001b[34m\u001b[1mwandb\u001b[0m: \tmom: 0.9\n",
            "\u001b[34m\u001b[1mwandb\u001b[0m: \tn: 0.0001\n",
            "\u001b[34m\u001b[1mwandb\u001b[0m: \tneuron: 64\n",
            "\u001b[34m\u001b[1mwandb\u001b[0m: \toptimizer: Nadam\n",
            "\u001b[34m\u001b[1mwandb\u001b[0m: \toutAct: softmax\n",
            "\u001b[34m\u001b[1mwandb\u001b[0m: \u001b[33mWARNING\u001b[0m Ignored wandb.init() arg project when running a sweep.\n"
          ]
        },
        {
          "output_type": "display_data",
          "data": {
            "text/plain": [
              "<IPython.core.display.HTML object>"
            ],
            "text/html": [
              "Tracking run with wandb version 0.16.4"
            ]
          },
          "metadata": {}
        },
        {
          "output_type": "display_data",
          "data": {
            "text/plain": [
              "<IPython.core.display.HTML object>"
            ],
            "text/html": [
              "Run data is saved locally in <code>/content/wandb/run-20240316_181702-yzd88ql4</code>"
            ]
          },
          "metadata": {}
        },
        {
          "output_type": "display_data",
          "data": {
            "text/plain": [
              "<IPython.core.display.HTML object>"
            ],
            "text/html": [
              "Syncing run <strong><a href='https://wandb.ai/cs23m015/DL-Assignment-1/runs/yzd88ql4' target=\"_blank\">northern-sweep-12</a></strong> to <a href='https://wandb.ai/cs23m015/DL-Assignment-1' target=\"_blank\">Weights & Biases</a> (<a href='https://wandb.me/run' target=\"_blank\">docs</a>)<br/>Sweep page: <a href='https://wandb.ai/cs23m015/DL-Assignment-1/sweeps/lfeqafjm' target=\"_blank\">https://wandb.ai/cs23m015/DL-Assignment-1/sweeps/lfeqafjm</a>"
            ]
          },
          "metadata": {}
        },
        {
          "output_type": "display_data",
          "data": {
            "text/plain": [
              "<IPython.core.display.HTML object>"
            ],
            "text/html": [
              " View project at <a href='https://wandb.ai/cs23m015/DL-Assignment-1' target=\"_blank\">https://wandb.ai/cs23m015/DL-Assignment-1</a>"
            ]
          },
          "metadata": {}
        },
        {
          "output_type": "display_data",
          "data": {
            "text/plain": [
              "<IPython.core.display.HTML object>"
            ],
            "text/html": [
              " View sweep at <a href='https://wandb.ai/cs23m015/DL-Assignment-1/sweeps/lfeqafjm' target=\"_blank\">https://wandb.ai/cs23m015/DL-Assignment-1/sweeps/lfeqafjm</a>"
            ]
          },
          "metadata": {}
        },
        {
          "output_type": "display_data",
          "data": {
            "text/plain": [
              "<IPython.core.display.HTML object>"
            ],
            "text/html": [
              " View run at <a href='https://wandb.ai/cs23m015/DL-Assignment-1/runs/yzd88ql4' target=\"_blank\">https://wandb.ai/cs23m015/DL-Assignment-1/runs/yzd88ql4</a>"
            ]
          },
          "metadata": {}
        },
        {
          "output_type": "stream",
          "name": "stdout",
          "text": [
            "Iteration Number: 1 Train Loss : 0.5349092205480551\n",
            "Iteration Number: 1 Validation Loss : 0.5127914318289017\n",
            "Iteration Number: 1 Train Accurcy : 89.24629629629631\n",
            "Iteration Number: 1 Validaion Accuracy: 89.68333333333334\n",
            "Iteration Number: 2 Train Loss : 0.354347509712578\n",
            "Iteration Number: 2 Validation Loss : 0.33734362798409573\n",
            "Iteration Number: 2 Train Accurcy : 92.65185185185186\n",
            "Iteration Number: 2 Validaion Accuracy: 92.71666666666667\n",
            "Iteration Number: 3 Train Loss : 0.2789697314665923\n",
            "Iteration Number: 3 Validation Loss : 0.2757516471989455\n",
            "Iteration Number: 3 Train Accurcy : 94.21481481481482\n",
            "Iteration Number: 3 Validaion Accuracy: 94.1\n",
            "Iteration Number: 4 Train Loss : 0.23290150994604675\n",
            "Iteration Number: 4 Validation Loss : 0.24064224292391667\n",
            "Iteration Number: 4 Train Accurcy : 95.25925925925925\n",
            "Iteration Number: 4 Validaion Accuracy: 94.63333333333334\n",
            "Iteration Number: 5 Train Loss : 0.20191948985360997\n",
            "Iteration Number: 5 Validation Loss : 0.21910846784870489\n",
            "Iteration Number: 5 Train Accurcy : 95.92037037037036\n",
            "Iteration Number: 5 Validaion Accuracy: 95.15\n",
            "Iteration Number: 6 Train Loss : 0.17817639432396043\n",
            "Iteration Number: 6 Validation Loss : 0.20307589942583482\n",
            "Iteration Number: 6 Train Accurcy : 96.39444444444445\n",
            "Iteration Number: 6 Validaion Accuracy: 95.48333333333333\n",
            "Iteration Number: 7 Train Loss : 0.1588839774604845\n",
            "Iteration Number: 7 Validation Loss : 0.19074094374827552\n",
            "Iteration Number: 7 Train Accurcy : 96.83148148148149\n",
            "Iteration Number: 7 Validaion Accuracy: 95.95\n",
            "Iteration Number: 8 Train Loss : 0.14277947306768995\n",
            "Iteration Number: 8 Validation Loss : 0.18128770701218463\n",
            "Iteration Number: 8 Train Accurcy : 97.19814814814815\n",
            "Iteration Number: 8 Validaion Accuracy: 96.1\n",
            "Iteration Number: 9 Train Loss : 0.12884204488414577\n",
            "Iteration Number: 9 Validation Loss : 0.17373138245372333\n",
            "Iteration Number: 9 Train Accurcy : 97.4925925925926\n",
            "Iteration Number: 9 Validaion Accuracy: 96.35000000000001\n",
            "Iteration Number: 10 Train Loss : 0.1166402873952973\n",
            "Iteration Number: 10 Validation Loss : 0.16750294793442133\n",
            "Iteration Number: 10 Train Accurcy : 97.75555555555555\n",
            "Iteration Number: 10 Validaion Accuracy: 96.43333333333334\n"
          ]
        },
        {
          "output_type": "display_data",
          "data": {
            "text/plain": [
              "VBox(children=(Label(value='0.013 MB of 0.013 MB uploaded\\r'), FloatProgress(value=1.0, max=1.0)))"
            ],
            "application/vnd.jupyter.widget-view+json": {
              "version_major": 2,
              "version_minor": 0,
              "model_id": "ca855142c4334db9991d63e7fd234dd5"
            }
          },
          "metadata": {}
        },
        {
          "output_type": "display_data",
          "data": {
            "text/plain": [
              "<IPython.core.display.HTML object>"
            ],
            "text/html": [
              "<style>\n",
              "    table.wandb td:nth-child(1) { padding: 0 10px; text-align: left ; width: auto;} td:nth-child(2) {text-align: left ; width: 100%}\n",
              "    .wandb-row { display: flex; flex-direction: row; flex-wrap: wrap; justify-content: flex-start; width: 100% }\n",
              "    .wandb-col { display: flex; flex-direction: column; flex-basis: 100%; flex: 1; padding: 10px; }\n",
              "    </style>\n",
              "<div class=\"wandb-row\"><div class=\"wandb-col\"><h3>Run history:</h3><br/><table class=\"wandb\"><tr><td>Accuracy</td><td>▁</td></tr><tr><td>epoch</td><td>▁▂▃▃▄▅▆▆▇█</td></tr><tr><td>training_accuracy</td><td>▁▄▅▆▆▇▇███</td></tr><tr><td>training_loss</td><td>█▅▄▃▂▂▂▁▁▁</td></tr><tr><td>validation_accuracy</td><td>▁▄▆▆▇▇████</td></tr><tr><td>validation_loss</td><td>█▅▃▂▂▂▁▁▁▁</td></tr></table><br/></div><div class=\"wandb-col\"><h3>Run summary:</h3><br/><table class=\"wandb\"><tr><td>Accuracy</td><td>96.43333</td></tr><tr><td>epoch</td><td>10</td></tr><tr><td>training_accuracy</td><td>97.76</td></tr><tr><td>training_loss</td><td>0.12</td></tr><tr><td>validation_accuracy</td><td>96.43</td></tr><tr><td>validation_loss</td><td>0.17</td></tr></table><br/></div></div>"
            ]
          },
          "metadata": {}
        },
        {
          "output_type": "display_data",
          "data": {
            "text/plain": [
              "<IPython.core.display.HTML object>"
            ],
            "text/html": [
              " View run <strong style=\"color:#cdcd00\">northern-sweep-12</strong> at: <a href='https://wandb.ai/cs23m015/DL-Assignment-1/runs/yzd88ql4' target=\"_blank\">https://wandb.ai/cs23m015/DL-Assignment-1/runs/yzd88ql4</a><br/>Synced 5 W&B file(s), 0 media file(s), 0 artifact file(s) and 0 other file(s)"
            ]
          },
          "metadata": {}
        },
        {
          "output_type": "display_data",
          "data": {
            "text/plain": [
              "<IPython.core.display.HTML object>"
            ],
            "text/html": [
              "Find logs at: <code>./wandb/run-20240316_181702-yzd88ql4/logs</code>"
            ]
          },
          "metadata": {}
        },
        {
          "output_type": "stream",
          "name": "stderr",
          "text": [
            "\u001b[34m\u001b[1mwandb\u001b[0m: Agent Starting Run: 66yf4lj8 with config:\n",
            "\u001b[34m\u001b[1mwandb\u001b[0m: \tactivation: tanh\n",
            "\u001b[34m\u001b[1mwandb\u001b[0m: \talpha: 0\n",
            "\u001b[34m\u001b[1mwandb\u001b[0m: \tbatch: 64\n",
            "\u001b[34m\u001b[1mwandb\u001b[0m: \tbeta: 0.9\n",
            "\u001b[34m\u001b[1mwandb\u001b[0m: \tbeta1: 0.999\n",
            "\u001b[34m\u001b[1mwandb\u001b[0m: \tbeta2: 0.999\n",
            "\u001b[34m\u001b[1mwandb\u001b[0m: \te: 1e-06\n",
            "\u001b[34m\u001b[1mwandb\u001b[0m: \tfn_loss: cross_entropy\n",
            "\u001b[34m\u001b[1mwandb\u001b[0m: \thiddenlayers: 4\n",
            "\u001b[34m\u001b[1mwandb\u001b[0m: \tinitialization: xavier\n",
            "\u001b[34m\u001b[1mwandb\u001b[0m: \titer: 10\n",
            "\u001b[34m\u001b[1mwandb\u001b[0m: \tmom: 0.9\n",
            "\u001b[34m\u001b[1mwandb\u001b[0m: \tn: 0.001\n",
            "\u001b[34m\u001b[1mwandb\u001b[0m: \tneuron: 32\n",
            "\u001b[34m\u001b[1mwandb\u001b[0m: \toptimizer: rmsProp\n",
            "\u001b[34m\u001b[1mwandb\u001b[0m: \toutAct: softmax\n",
            "\u001b[34m\u001b[1mwandb\u001b[0m: \u001b[33mWARNING\u001b[0m Ignored wandb.init() arg project when running a sweep.\n"
          ]
        },
        {
          "output_type": "display_data",
          "data": {
            "text/plain": [
              "<IPython.core.display.HTML object>"
            ],
            "text/html": [
              "Tracking run with wandb version 0.16.4"
            ]
          },
          "metadata": {}
        },
        {
          "output_type": "display_data",
          "data": {
            "text/plain": [
              "<IPython.core.display.HTML object>"
            ],
            "text/html": [
              "Run data is saved locally in <code>/content/wandb/run-20240316_182017-66yf4lj8</code>"
            ]
          },
          "metadata": {}
        },
        {
          "output_type": "display_data",
          "data": {
            "text/plain": [
              "<IPython.core.display.HTML object>"
            ],
            "text/html": [
              "Syncing run <strong><a href='https://wandb.ai/cs23m015/DL-Assignment-1/runs/66yf4lj8' target=\"_blank\">splendid-sweep-13</a></strong> to <a href='https://wandb.ai/cs23m015/DL-Assignment-1' target=\"_blank\">Weights & Biases</a> (<a href='https://wandb.me/run' target=\"_blank\">docs</a>)<br/>Sweep page: <a href='https://wandb.ai/cs23m015/DL-Assignment-1/sweeps/lfeqafjm' target=\"_blank\">https://wandb.ai/cs23m015/DL-Assignment-1/sweeps/lfeqafjm</a>"
            ]
          },
          "metadata": {}
        },
        {
          "output_type": "display_data",
          "data": {
            "text/plain": [
              "<IPython.core.display.HTML object>"
            ],
            "text/html": [
              " View project at <a href='https://wandb.ai/cs23m015/DL-Assignment-1' target=\"_blank\">https://wandb.ai/cs23m015/DL-Assignment-1</a>"
            ]
          },
          "metadata": {}
        },
        {
          "output_type": "display_data",
          "data": {
            "text/plain": [
              "<IPython.core.display.HTML object>"
            ],
            "text/html": [
              " View sweep at <a href='https://wandb.ai/cs23m015/DL-Assignment-1/sweeps/lfeqafjm' target=\"_blank\">https://wandb.ai/cs23m015/DL-Assignment-1/sweeps/lfeqafjm</a>"
            ]
          },
          "metadata": {}
        },
        {
          "output_type": "display_data",
          "data": {
            "text/plain": [
              "<IPython.core.display.HTML object>"
            ],
            "text/html": [
              " View run at <a href='https://wandb.ai/cs23m015/DL-Assignment-1/runs/66yf4lj8' target=\"_blank\">https://wandb.ai/cs23m015/DL-Assignment-1/runs/66yf4lj8</a>"
            ]
          },
          "metadata": {}
        },
        {
          "output_type": "display_data",
          "data": {
            "text/plain": [
              "VBox(children=(Label(value='0.011 MB of 0.011 MB uploaded\\r'), FloatProgress(value=1.0, max=1.0)))"
            ],
            "application/vnd.jupyter.widget-view+json": {
              "version_major": 2,
              "version_minor": 0,
              "model_id": "29fbcd34f37f4708b0b5e02fc0a3d01b"
            }
          },
          "metadata": {}
        },
        {
          "output_type": "display_data",
          "data": {
            "text/plain": [
              "<IPython.core.display.HTML object>"
            ],
            "text/html": [
              "<style>\n",
              "    table.wandb td:nth-child(1) { padding: 0 10px; text-align: left ; width: auto;} td:nth-child(2) {text-align: left ; width: 100%}\n",
              "    .wandb-row { display: flex; flex-direction: row; flex-wrap: wrap; justify-content: flex-start; width: 100% }\n",
              "    .wandb-col { display: flex; flex-direction: column; flex-basis: 100%; flex: 1; padding: 10px; }\n",
              "    </style>\n",
              "<div class=\"wandb-row\"><div class=\"wandb-col\"><h3>Run history:</h3><br/><table class=\"wandb\"><tr><td>Accuracy</td><td>▁</td></tr><tr><td>epoch</td><td>▁▂▃▃▄▅▆▆▇█</td></tr><tr><td>training_accuracy</td><td>▁▄▅▆▇▇▇███</td></tr><tr><td>training_loss</td><td>█▅▃▃▂▂▂▁▁▁</td></tr><tr><td>validation_accuracy</td><td>▁▄▆▆▇▇▇███</td></tr><tr><td>validation_loss</td><td>█▅▃▃▂▂▁▁▁▁</td></tr></table><br/></div><div class=\"wandb-col\"><h3>Run summary:</h3><br/><table class=\"wandb\"><tr><td>Accuracy</td><td>94.15</td></tr><tr><td>epoch</td><td>10</td></tr><tr><td>training_accuracy</td><td>94.87</td></tr><tr><td>training_loss</td><td>0.25</td></tr><tr><td>validation_accuracy</td><td>94.15</td></tr><tr><td>validation_loss</td><td>0.27</td></tr></table><br/></div></div>"
            ]
          },
          "metadata": {}
        },
        {
          "output_type": "display_data",
          "data": {
            "text/plain": [
              "<IPython.core.display.HTML object>"
            ],
            "text/html": [
              " View run <strong style=\"color:#cdcd00\">splendid-sweep-13</strong> at: <a href='https://wandb.ai/cs23m015/DL-Assignment-1/runs/66yf4lj8' target=\"_blank\">https://wandb.ai/cs23m015/DL-Assignment-1/runs/66yf4lj8</a><br/>Synced 4 W&B file(s), 0 media file(s), 0 artifact file(s) and 0 other file(s)"
            ]
          },
          "metadata": {}
        },
        {
          "output_type": "display_data",
          "data": {
            "text/plain": [
              "<IPython.core.display.HTML object>"
            ],
            "text/html": [
              "Find logs at: <code>./wandb/run-20240316_182017-66yf4lj8/logs</code>"
            ]
          },
          "metadata": {}
        },
        {
          "output_type": "stream",
          "name": "stderr",
          "text": [
            "\u001b[34m\u001b[1mwandb\u001b[0m: Agent Starting Run: u8iq4vnt with config:\n",
            "\u001b[34m\u001b[1mwandb\u001b[0m: \tactivation: tanh\n",
            "\u001b[34m\u001b[1mwandb\u001b[0m: \talpha: 0\n",
            "\u001b[34m\u001b[1mwandb\u001b[0m: \tbatch: 64\n",
            "\u001b[34m\u001b[1mwandb\u001b[0m: \tbeta: 0.9\n",
            "\u001b[34m\u001b[1mwandb\u001b[0m: \tbeta1: 0.999\n",
            "\u001b[34m\u001b[1mwandb\u001b[0m: \tbeta2: 0.999\n",
            "\u001b[34m\u001b[1mwandb\u001b[0m: \te: 1e-06\n",
            "\u001b[34m\u001b[1mwandb\u001b[0m: \tfn_loss: cross_entropy\n",
            "\u001b[34m\u001b[1mwandb\u001b[0m: \thiddenlayers: 4\n",
            "\u001b[34m\u001b[1mwandb\u001b[0m: \tinitialization: xavier\n",
            "\u001b[34m\u001b[1mwandb\u001b[0m: \titer: 10\n",
            "\u001b[34m\u001b[1mwandb\u001b[0m: \tmom: 0.9\n",
            "\u001b[34m\u001b[1mwandb\u001b[0m: \tn: 0.001\n",
            "\u001b[34m\u001b[1mwandb\u001b[0m: \tneuron: 32\n",
            "\u001b[34m\u001b[1mwandb\u001b[0m: \toptimizer: adam\n",
            "\u001b[34m\u001b[1mwandb\u001b[0m: \toutAct: softmax\n",
            "\u001b[34m\u001b[1mwandb\u001b[0m: \u001b[33mWARNING\u001b[0m Ignored wandb.init() arg project when running a sweep.\n"
          ]
        },
        {
          "output_type": "display_data",
          "data": {
            "text/plain": [
              "<IPython.core.display.HTML object>"
            ],
            "text/html": [
              "Tracking run with wandb version 0.16.4"
            ]
          },
          "metadata": {}
        },
        {
          "output_type": "display_data",
          "data": {
            "text/plain": [
              "<IPython.core.display.HTML object>"
            ],
            "text/html": [
              "Run data is saved locally in <code>/content/wandb/run-20240316_182229-u8iq4vnt</code>"
            ]
          },
          "metadata": {}
        },
        {
          "output_type": "display_data",
          "data": {
            "text/plain": [
              "<IPython.core.display.HTML object>"
            ],
            "text/html": [
              "Syncing run <strong><a href='https://wandb.ai/cs23m015/DL-Assignment-1/runs/u8iq4vnt' target=\"_blank\">pleasant-sweep-14</a></strong> to <a href='https://wandb.ai/cs23m015/DL-Assignment-1' target=\"_blank\">Weights & Biases</a> (<a href='https://wandb.me/run' target=\"_blank\">docs</a>)<br/>Sweep page: <a href='https://wandb.ai/cs23m015/DL-Assignment-1/sweeps/lfeqafjm' target=\"_blank\">https://wandb.ai/cs23m015/DL-Assignment-1/sweeps/lfeqafjm</a>"
            ]
          },
          "metadata": {}
        },
        {
          "output_type": "display_data",
          "data": {
            "text/plain": [
              "<IPython.core.display.HTML object>"
            ],
            "text/html": [
              " View project at <a href='https://wandb.ai/cs23m015/DL-Assignment-1' target=\"_blank\">https://wandb.ai/cs23m015/DL-Assignment-1</a>"
            ]
          },
          "metadata": {}
        },
        {
          "output_type": "display_data",
          "data": {
            "text/plain": [
              "<IPython.core.display.HTML object>"
            ],
            "text/html": [
              " View sweep at <a href='https://wandb.ai/cs23m015/DL-Assignment-1/sweeps/lfeqafjm' target=\"_blank\">https://wandb.ai/cs23m015/DL-Assignment-1/sweeps/lfeqafjm</a>"
            ]
          },
          "metadata": {}
        },
        {
          "output_type": "display_data",
          "data": {
            "text/plain": [
              "<IPython.core.display.HTML object>"
            ],
            "text/html": [
              " View run at <a href='https://wandb.ai/cs23m015/DL-Assignment-1/runs/u8iq4vnt' target=\"_blank\">https://wandb.ai/cs23m015/DL-Assignment-1/runs/u8iq4vnt</a>"
            ]
          },
          "metadata": {}
        },
        {
          "output_type": "display_data",
          "data": {
            "text/plain": [
              "VBox(children=(Label(value='0.011 MB of 0.011 MB uploaded\\r'), FloatProgress(value=1.0, max=1.0)))"
            ],
            "application/vnd.jupyter.widget-view+json": {
              "version_major": 2,
              "version_minor": 0,
              "model_id": "6b6fe392d1a94b1697bb381cd84314fa"
            }
          },
          "metadata": {}
        },
        {
          "output_type": "display_data",
          "data": {
            "text/plain": [
              "<IPython.core.display.HTML object>"
            ],
            "text/html": [
              "<style>\n",
              "    table.wandb td:nth-child(1) { padding: 0 10px; text-align: left ; width: auto;} td:nth-child(2) {text-align: left ; width: 100%}\n",
              "    .wandb-row { display: flex; flex-direction: row; flex-wrap: wrap; justify-content: flex-start; width: 100% }\n",
              "    .wandb-col { display: flex; flex-direction: column; flex-basis: 100%; flex: 1; padding: 10px; }\n",
              "    </style>\n",
              "<div class=\"wandb-row\"><div class=\"wandb-col\"><h3>Run history:</h3><br/><table class=\"wandb\"><tr><td>Accuracy</td><td>▁</td></tr><tr><td>epoch</td><td>▁▂▃▃▄▅▆▆▇█</td></tr><tr><td>training_accuracy</td><td>▁▄▆▆▇█████</td></tr><tr><td>training_loss</td><td>█▅▄▃▂▁▁▁▁▁</td></tr><tr><td>validation_accuracy</td><td>▁▄▆▆▇▇████</td></tr><tr><td>validation_loss</td><td>█▄▃▂▂▁▁▁▁▁</td></tr></table><br/></div><div class=\"wandb-col\"><h3>Run summary:</h3><br/><table class=\"wandb\"><tr><td>Accuracy</td><td>95.25</td></tr><tr><td>epoch</td><td>10</td></tr><tr><td>training_accuracy</td><td>96.69</td></tr><tr><td>training_loss</td><td>0.16</td></tr><tr><td>validation_accuracy</td><td>95.25</td></tr><tr><td>validation_loss</td><td>0.24</td></tr></table><br/></div></div>"
            ]
          },
          "metadata": {}
        },
        {
          "output_type": "display_data",
          "data": {
            "text/plain": [
              "<IPython.core.display.HTML object>"
            ],
            "text/html": [
              " View run <strong style=\"color:#cdcd00\">pleasant-sweep-14</strong> at: <a href='https://wandb.ai/cs23m015/DL-Assignment-1/runs/u8iq4vnt' target=\"_blank\">https://wandb.ai/cs23m015/DL-Assignment-1/runs/u8iq4vnt</a><br/>Synced 4 W&B file(s), 0 media file(s), 0 artifact file(s) and 0 other file(s)"
            ]
          },
          "metadata": {}
        },
        {
          "output_type": "display_data",
          "data": {
            "text/plain": [
              "<IPython.core.display.HTML object>"
            ],
            "text/html": [
              "Find logs at: <code>./wandb/run-20240316_182229-u8iq4vnt/logs</code>"
            ]
          },
          "metadata": {}
        },
        {
          "output_type": "stream",
          "name": "stderr",
          "text": [
            "\u001b[34m\u001b[1mwandb\u001b[0m: Agent Starting Run: lxb3dmoo with config:\n",
            "\u001b[34m\u001b[1mwandb\u001b[0m: \tactivation: tanh\n",
            "\u001b[34m\u001b[1mwandb\u001b[0m: \talpha: 0\n",
            "\u001b[34m\u001b[1mwandb\u001b[0m: \tbatch: 64\n",
            "\u001b[34m\u001b[1mwandb\u001b[0m: \tbeta: 0.9\n",
            "\u001b[34m\u001b[1mwandb\u001b[0m: \tbeta1: 0.999\n",
            "\u001b[34m\u001b[1mwandb\u001b[0m: \tbeta2: 0.999\n",
            "\u001b[34m\u001b[1mwandb\u001b[0m: \te: 1e-06\n",
            "\u001b[34m\u001b[1mwandb\u001b[0m: \tfn_loss: cross_entropy\n",
            "\u001b[34m\u001b[1mwandb\u001b[0m: \thiddenlayers: 4\n",
            "\u001b[34m\u001b[1mwandb\u001b[0m: \tinitialization: xavier\n",
            "\u001b[34m\u001b[1mwandb\u001b[0m: \titer: 10\n",
            "\u001b[34m\u001b[1mwandb\u001b[0m: \tmom: 0.9\n",
            "\u001b[34m\u001b[1mwandb\u001b[0m: \tn: 0.001\n",
            "\u001b[34m\u001b[1mwandb\u001b[0m: \tneuron: 32\n",
            "\u001b[34m\u001b[1mwandb\u001b[0m: \toptimizer: Nadam\n",
            "\u001b[34m\u001b[1mwandb\u001b[0m: \toutAct: softmax\n",
            "\u001b[34m\u001b[1mwandb\u001b[0m: \u001b[33mWARNING\u001b[0m Ignored wandb.init() arg project when running a sweep.\n"
          ]
        },
        {
          "output_type": "display_data",
          "data": {
            "text/plain": [
              "<IPython.core.display.HTML object>"
            ],
            "text/html": [
              "Tracking run with wandb version 0.16.4"
            ]
          },
          "metadata": {}
        },
        {
          "output_type": "display_data",
          "data": {
            "text/plain": [
              "<IPython.core.display.HTML object>"
            ],
            "text/html": [
              "Run data is saved locally in <code>/content/wandb/run-20240316_182441-lxb3dmoo</code>"
            ]
          },
          "metadata": {}
        },
        {
          "output_type": "display_data",
          "data": {
            "text/plain": [
              "<IPython.core.display.HTML object>"
            ],
            "text/html": [
              "Syncing run <strong><a href='https://wandb.ai/cs23m015/DL-Assignment-1/runs/lxb3dmoo' target=\"_blank\">fresh-sweep-15</a></strong> to <a href='https://wandb.ai/cs23m015/DL-Assignment-1' target=\"_blank\">Weights & Biases</a> (<a href='https://wandb.me/run' target=\"_blank\">docs</a>)<br/>Sweep page: <a href='https://wandb.ai/cs23m015/DL-Assignment-1/sweeps/lfeqafjm' target=\"_blank\">https://wandb.ai/cs23m015/DL-Assignment-1/sweeps/lfeqafjm</a>"
            ]
          },
          "metadata": {}
        },
        {
          "output_type": "display_data",
          "data": {
            "text/plain": [
              "<IPython.core.display.HTML object>"
            ],
            "text/html": [
              " View project at <a href='https://wandb.ai/cs23m015/DL-Assignment-1' target=\"_blank\">https://wandb.ai/cs23m015/DL-Assignment-1</a>"
            ]
          },
          "metadata": {}
        },
        {
          "output_type": "display_data",
          "data": {
            "text/plain": [
              "<IPython.core.display.HTML object>"
            ],
            "text/html": [
              " View sweep at <a href='https://wandb.ai/cs23m015/DL-Assignment-1/sweeps/lfeqafjm' target=\"_blank\">https://wandb.ai/cs23m015/DL-Assignment-1/sweeps/lfeqafjm</a>"
            ]
          },
          "metadata": {}
        },
        {
          "output_type": "display_data",
          "data": {
            "text/plain": [
              "<IPython.core.display.HTML object>"
            ],
            "text/html": [
              " View run at <a href='https://wandb.ai/cs23m015/DL-Assignment-1/runs/lxb3dmoo' target=\"_blank\">https://wandb.ai/cs23m015/DL-Assignment-1/runs/lxb3dmoo</a>"
            ]
          },
          "metadata": {}
        },
        {
          "output_type": "stream",
          "name": "stdout",
          "text": [
            "Iteration Number: 1 Train Loss : 0.45551271982485875\n",
            "Iteration Number: 1 Validation Loss : 0.45566114259507884\n",
            "Iteration Number: 1 Train Accurcy : 90.4962962962963\n",
            "Iteration Number: 1 Validaion Accuracy: 90.4\n",
            "Iteration Number: 2 Train Loss : 0.3177719196040977\n",
            "Iteration Number: 2 Validation Loss : 0.32397424317017237\n",
            "Iteration Number: 2 Train Accurcy : 93.60740740740741\n",
            "Iteration Number: 2 Validaion Accuracy: 93.58333333333333\n",
            "Iteration Number: 3 Train Loss : 0.25273141319004744\n",
            "Iteration Number: 3 Validation Loss : 0.2698657909368479\n",
            "Iteration Number: 3 Train Accurcy : 94.86666666666666\n",
            "Iteration Number: 3 Validaion Accuracy: 94.61666666666667\n",
            "Iteration Number: 4 Train Loss : 0.21334998860584659\n",
            "Iteration Number: 4 Validation Loss : 0.23868206065908115\n",
            "Iteration Number: 4 Train Accurcy : 95.70925925925926\n",
            "Iteration Number: 4 Validaion Accuracy: 95.21666666666667\n",
            "Iteration Number: 5 Train Loss : 0.18557018064513411\n",
            "Iteration Number: 5 Validation Loss : 0.2304800640415501\n",
            "Iteration Number: 5 Train Accurcy : 96.2074074074074\n",
            "Iteration Number: 5 Validaion Accuracy: 95.55\n",
            "Iteration Number: 6 Train Loss : 0.1695353455100902\n",
            "Iteration Number: 6 Validation Loss : 0.22726297831978884\n",
            "Iteration Number: 6 Train Accurcy : 96.4462962962963\n",
            "Iteration Number: 6 Validaion Accuracy: 95.41666666666667\n",
            "Iteration Number: 7 Train Loss : 0.1549053213628482\n",
            "Iteration Number: 7 Validation Loss : 0.21429086173666723\n",
            "Iteration Number: 7 Train Accurcy : 96.78518518518518\n",
            "Iteration Number: 7 Validaion Accuracy: 95.71666666666667\n",
            "Iteration Number: 8 Train Loss : 0.14826873214100206\n",
            "Iteration Number: 8 Validation Loss : 0.2182161104102286\n",
            "Iteration Number: 8 Train Accurcy : 96.89074074074074\n",
            "Iteration Number: 8 Validaion Accuracy: 95.81666666666668\n",
            "Iteration Number: 9 Train Loss : 0.13638638634624523\n",
            "Iteration Number: 9 Validation Loss : 0.21766660921040337\n",
            "Iteration Number: 9 Train Accurcy : 97.13333333333334\n",
            "Iteration Number: 9 Validaion Accuracy: 95.78333333333333\n",
            "Iteration Number: 10 Train Loss : 0.15965786685235545\n",
            "Iteration Number: 10 Validation Loss : 0.23210997761851596\n",
            "Iteration Number: 10 Train Accurcy : 96.61481481481482\n",
            "Iteration Number: 10 Validaion Accuracy: 95.66666666666667\n"
          ]
        },
        {
          "output_type": "display_data",
          "data": {
            "text/plain": [
              "VBox(children=(Label(value='0.001 MB of 0.013 MB uploaded\\r'), FloatProgress(value=0.07969037965352009, max=1.…"
            ],
            "application/vnd.jupyter.widget-view+json": {
              "version_major": 2,
              "version_minor": 0,
              "model_id": "f2bb40780a924833b4c8d97fbc442a8a"
            }
          },
          "metadata": {}
        },
        {
          "output_type": "display_data",
          "data": {
            "text/plain": [
              "<IPython.core.display.HTML object>"
            ],
            "text/html": [
              "<style>\n",
              "    table.wandb td:nth-child(1) { padding: 0 10px; text-align: left ; width: auto;} td:nth-child(2) {text-align: left ; width: 100%}\n",
              "    .wandb-row { display: flex; flex-direction: row; flex-wrap: wrap; justify-content: flex-start; width: 100% }\n",
              "    .wandb-col { display: flex; flex-direction: column; flex-basis: 100%; flex: 1; padding: 10px; }\n",
              "    </style>\n",
              "<div class=\"wandb-row\"><div class=\"wandb-col\"><h3>Run history:</h3><br/><table class=\"wandb\"><tr><td>Accuracy</td><td>▁</td></tr><tr><td>epoch</td><td>▁▂▃▃▄▅▆▆▇█</td></tr><tr><td>training_accuracy</td><td>▁▄▆▇▇▇███▇</td></tr><tr><td>training_loss</td><td>█▅▃▃▂▂▁▁▁▁</td></tr><tr><td>validation_accuracy</td><td>▁▅▆▇█▇████</td></tr><tr><td>validation_loss</td><td>█▄▃▂▂▂▁▁▁▂</td></tr></table><br/></div><div class=\"wandb-col\"><h3>Run summary:</h3><br/><table class=\"wandb\"><tr><td>Accuracy</td><td>95.66667</td></tr><tr><td>epoch</td><td>10</td></tr><tr><td>training_accuracy</td><td>96.61</td></tr><tr><td>training_loss</td><td>0.16</td></tr><tr><td>validation_accuracy</td><td>95.67</td></tr><tr><td>validation_loss</td><td>0.23</td></tr></table><br/></div></div>"
            ]
          },
          "metadata": {}
        },
        {
          "output_type": "display_data",
          "data": {
            "text/plain": [
              "<IPython.core.display.HTML object>"
            ],
            "text/html": [
              " View run <strong style=\"color:#cdcd00\">fresh-sweep-15</strong> at: <a href='https://wandb.ai/cs23m015/DL-Assignment-1/runs/lxb3dmoo' target=\"_blank\">https://wandb.ai/cs23m015/DL-Assignment-1/runs/lxb3dmoo</a><br/>Synced 5 W&B file(s), 0 media file(s), 0 artifact file(s) and 0 other file(s)"
            ]
          },
          "metadata": {}
        },
        {
          "output_type": "display_data",
          "data": {
            "text/plain": [
              "<IPython.core.display.HTML object>"
            ],
            "text/html": [
              "Find logs at: <code>./wandb/run-20240316_182441-lxb3dmoo/logs</code>"
            ]
          },
          "metadata": {}
        },
        {
          "output_type": "stream",
          "name": "stderr",
          "text": [
            "\u001b[34m\u001b[1mwandb\u001b[0m: Agent Starting Run: mlqthu7c with config:\n",
            "\u001b[34m\u001b[1mwandb\u001b[0m: \tactivation: tanh\n",
            "\u001b[34m\u001b[1mwandb\u001b[0m: \talpha: 0\n",
            "\u001b[34m\u001b[1mwandb\u001b[0m: \tbatch: 64\n",
            "\u001b[34m\u001b[1mwandb\u001b[0m: \tbeta: 0.9\n",
            "\u001b[34m\u001b[1mwandb\u001b[0m: \tbeta1: 0.999\n",
            "\u001b[34m\u001b[1mwandb\u001b[0m: \tbeta2: 0.999\n",
            "\u001b[34m\u001b[1mwandb\u001b[0m: \te: 1e-06\n",
            "\u001b[34m\u001b[1mwandb\u001b[0m: \tfn_loss: cross_entropy\n",
            "\u001b[34m\u001b[1mwandb\u001b[0m: \thiddenlayers: 4\n",
            "\u001b[34m\u001b[1mwandb\u001b[0m: \tinitialization: xavier\n",
            "\u001b[34m\u001b[1mwandb\u001b[0m: \titer: 10\n",
            "\u001b[34m\u001b[1mwandb\u001b[0m: \tmom: 0.9\n",
            "\u001b[34m\u001b[1mwandb\u001b[0m: \tn: 0.001\n",
            "\u001b[34m\u001b[1mwandb\u001b[0m: \tneuron: 64\n",
            "\u001b[34m\u001b[1mwandb\u001b[0m: \toptimizer: rmsProp\n",
            "\u001b[34m\u001b[1mwandb\u001b[0m: \toutAct: softmax\n",
            "\u001b[34m\u001b[1mwandb\u001b[0m: \u001b[33mWARNING\u001b[0m Ignored wandb.init() arg project when running a sweep.\n"
          ]
        },
        {
          "output_type": "display_data",
          "data": {
            "text/plain": [
              "<IPython.core.display.HTML object>"
            ],
            "text/html": [
              "Tracking run with wandb version 0.16.4"
            ]
          },
          "metadata": {}
        },
        {
          "output_type": "display_data",
          "data": {
            "text/plain": [
              "<IPython.core.display.HTML object>"
            ],
            "text/html": [
              "Run data is saved locally in <code>/content/wandb/run-20240316_182653-mlqthu7c</code>"
            ]
          },
          "metadata": {}
        },
        {
          "output_type": "display_data",
          "data": {
            "text/plain": [
              "<IPython.core.display.HTML object>"
            ],
            "text/html": [
              "Syncing run <strong><a href='https://wandb.ai/cs23m015/DL-Assignment-1/runs/mlqthu7c' target=\"_blank\">ruby-sweep-16</a></strong> to <a href='https://wandb.ai/cs23m015/DL-Assignment-1' target=\"_blank\">Weights & Biases</a> (<a href='https://wandb.me/run' target=\"_blank\">docs</a>)<br/>Sweep page: <a href='https://wandb.ai/cs23m015/DL-Assignment-1/sweeps/lfeqafjm' target=\"_blank\">https://wandb.ai/cs23m015/DL-Assignment-1/sweeps/lfeqafjm</a>"
            ]
          },
          "metadata": {}
        },
        {
          "output_type": "display_data",
          "data": {
            "text/plain": [
              "<IPython.core.display.HTML object>"
            ],
            "text/html": [
              " View project at <a href='https://wandb.ai/cs23m015/DL-Assignment-1' target=\"_blank\">https://wandb.ai/cs23m015/DL-Assignment-1</a>"
            ]
          },
          "metadata": {}
        },
        {
          "output_type": "display_data",
          "data": {
            "text/plain": [
              "<IPython.core.display.HTML object>"
            ],
            "text/html": [
              " View sweep at <a href='https://wandb.ai/cs23m015/DL-Assignment-1/sweeps/lfeqafjm' target=\"_blank\">https://wandb.ai/cs23m015/DL-Assignment-1/sweeps/lfeqafjm</a>"
            ]
          },
          "metadata": {}
        },
        {
          "output_type": "display_data",
          "data": {
            "text/plain": [
              "<IPython.core.display.HTML object>"
            ],
            "text/html": [
              " View run at <a href='https://wandb.ai/cs23m015/DL-Assignment-1/runs/mlqthu7c' target=\"_blank\">https://wandb.ai/cs23m015/DL-Assignment-1/runs/mlqthu7c</a>"
            ]
          },
          "metadata": {}
        },
        {
          "output_type": "display_data",
          "data": {
            "text/plain": [
              "VBox(children=(Label(value='0.011 MB of 0.011 MB uploaded\\r'), FloatProgress(value=1.0, max=1.0)))"
            ],
            "application/vnd.jupyter.widget-view+json": {
              "version_major": 2,
              "version_minor": 0,
              "model_id": "6710eace876e4bc5a7a5fdc319689636"
            }
          },
          "metadata": {}
        },
        {
          "output_type": "display_data",
          "data": {
            "text/plain": [
              "<IPython.core.display.HTML object>"
            ],
            "text/html": [
              "<style>\n",
              "    table.wandb td:nth-child(1) { padding: 0 10px; text-align: left ; width: auto;} td:nth-child(2) {text-align: left ; width: 100%}\n",
              "    .wandb-row { display: flex; flex-direction: row; flex-wrap: wrap; justify-content: flex-start; width: 100% }\n",
              "    .wandb-col { display: flex; flex-direction: column; flex-basis: 100%; flex: 1; padding: 10px; }\n",
              "    </style>\n",
              "<div class=\"wandb-row\"><div class=\"wandb-col\"><h3>Run history:</h3><br/><table class=\"wandb\"><tr><td>Accuracy</td><td>▁</td></tr><tr><td>epoch</td><td>▁▂▃▃▄▅▆▆▇█</td></tr><tr><td>training_accuracy</td><td>▁▄▅▆▆▇▇███</td></tr><tr><td>training_loss</td><td>█▅▄▃▂▂▂▁▁▁</td></tr><tr><td>validation_accuracy</td><td>▁▄▅▆▇▇▇███</td></tr><tr><td>validation_loss</td><td>█▅▄▃▂▂▂▁▁▁</td></tr></table><br/></div><div class=\"wandb-col\"><h3>Run summary:</h3><br/><table class=\"wandb\"><tr><td>Accuracy</td><td>95.76667</td></tr><tr><td>epoch</td><td>10</td></tr><tr><td>training_accuracy</td><td>96.36</td></tr><tr><td>training_loss</td><td>0.18</td></tr><tr><td>validation_accuracy</td><td>95.77</td></tr><tr><td>validation_loss</td><td>0.2</td></tr></table><br/></div></div>"
            ]
          },
          "metadata": {}
        },
        {
          "output_type": "display_data",
          "data": {
            "text/plain": [
              "<IPython.core.display.HTML object>"
            ],
            "text/html": [
              " View run <strong style=\"color:#cdcd00\">ruby-sweep-16</strong> at: <a href='https://wandb.ai/cs23m015/DL-Assignment-1/runs/mlqthu7c' target=\"_blank\">https://wandb.ai/cs23m015/DL-Assignment-1/runs/mlqthu7c</a><br/>Synced 4 W&B file(s), 0 media file(s), 0 artifact file(s) and 0 other file(s)"
            ]
          },
          "metadata": {}
        },
        {
          "output_type": "display_data",
          "data": {
            "text/plain": [
              "<IPython.core.display.HTML object>"
            ],
            "text/html": [
              "Find logs at: <code>./wandb/run-20240316_182653-mlqthu7c/logs</code>"
            ]
          },
          "metadata": {}
        },
        {
          "output_type": "stream",
          "name": "stderr",
          "text": [
            "\u001b[34m\u001b[1mwandb\u001b[0m: Agent Starting Run: eosgnsvt with config:\n",
            "\u001b[34m\u001b[1mwandb\u001b[0m: \tactivation: tanh\n",
            "\u001b[34m\u001b[1mwandb\u001b[0m: \talpha: 0\n",
            "\u001b[34m\u001b[1mwandb\u001b[0m: \tbatch: 64\n",
            "\u001b[34m\u001b[1mwandb\u001b[0m: \tbeta: 0.9\n",
            "\u001b[34m\u001b[1mwandb\u001b[0m: \tbeta1: 0.999\n",
            "\u001b[34m\u001b[1mwandb\u001b[0m: \tbeta2: 0.999\n",
            "\u001b[34m\u001b[1mwandb\u001b[0m: \te: 1e-06\n",
            "\u001b[34m\u001b[1mwandb\u001b[0m: \tfn_loss: cross_entropy\n",
            "\u001b[34m\u001b[1mwandb\u001b[0m: \thiddenlayers: 4\n",
            "\u001b[34m\u001b[1mwandb\u001b[0m: \tinitialization: xavier\n",
            "\u001b[34m\u001b[1mwandb\u001b[0m: \titer: 10\n",
            "\u001b[34m\u001b[1mwandb\u001b[0m: \tmom: 0.9\n",
            "\u001b[34m\u001b[1mwandb\u001b[0m: \tn: 0.001\n",
            "\u001b[34m\u001b[1mwandb\u001b[0m: \tneuron: 64\n",
            "\u001b[34m\u001b[1mwandb\u001b[0m: \toptimizer: adam\n",
            "\u001b[34m\u001b[1mwandb\u001b[0m: \toutAct: softmax\n",
            "\u001b[34m\u001b[1mwandb\u001b[0m: \u001b[33mWARNING\u001b[0m Ignored wandb.init() arg project when running a sweep.\n"
          ]
        },
        {
          "output_type": "display_data",
          "data": {
            "text/plain": [
              "<IPython.core.display.HTML object>"
            ],
            "text/html": [
              "Tracking run with wandb version 0.16.4"
            ]
          },
          "metadata": {}
        },
        {
          "output_type": "display_data",
          "data": {
            "text/plain": [
              "<IPython.core.display.HTML object>"
            ],
            "text/html": [
              "Run data is saved locally in <code>/content/wandb/run-20240316_182934-eosgnsvt</code>"
            ]
          },
          "metadata": {}
        },
        {
          "output_type": "display_data",
          "data": {
            "text/plain": [
              "<IPython.core.display.HTML object>"
            ],
            "text/html": [
              "Syncing run <strong><a href='https://wandb.ai/cs23m015/DL-Assignment-1/runs/eosgnsvt' target=\"_blank\">eager-sweep-17</a></strong> to <a href='https://wandb.ai/cs23m015/DL-Assignment-1' target=\"_blank\">Weights & Biases</a> (<a href='https://wandb.me/run' target=\"_blank\">docs</a>)<br/>Sweep page: <a href='https://wandb.ai/cs23m015/DL-Assignment-1/sweeps/lfeqafjm' target=\"_blank\">https://wandb.ai/cs23m015/DL-Assignment-1/sweeps/lfeqafjm</a>"
            ]
          },
          "metadata": {}
        },
        {
          "output_type": "display_data",
          "data": {
            "text/plain": [
              "<IPython.core.display.HTML object>"
            ],
            "text/html": [
              " View project at <a href='https://wandb.ai/cs23m015/DL-Assignment-1' target=\"_blank\">https://wandb.ai/cs23m015/DL-Assignment-1</a>"
            ]
          },
          "metadata": {}
        },
        {
          "output_type": "display_data",
          "data": {
            "text/plain": [
              "<IPython.core.display.HTML object>"
            ],
            "text/html": [
              " View sweep at <a href='https://wandb.ai/cs23m015/DL-Assignment-1/sweeps/lfeqafjm' target=\"_blank\">https://wandb.ai/cs23m015/DL-Assignment-1/sweeps/lfeqafjm</a>"
            ]
          },
          "metadata": {}
        },
        {
          "output_type": "display_data",
          "data": {
            "text/plain": [
              "<IPython.core.display.HTML object>"
            ],
            "text/html": [
              " View run at <a href='https://wandb.ai/cs23m015/DL-Assignment-1/runs/eosgnsvt' target=\"_blank\">https://wandb.ai/cs23m015/DL-Assignment-1/runs/eosgnsvt</a>"
            ]
          },
          "metadata": {}
        },
        {
          "output_type": "display_data",
          "data": {
            "text/plain": [
              "VBox(children=(Label(value='0.011 MB of 0.011 MB uploaded\\r'), FloatProgress(value=1.0, max=1.0)))"
            ],
            "application/vnd.jupyter.widget-view+json": {
              "version_major": 2,
              "version_minor": 0,
              "model_id": "bc4b1fdc816442d78f264465fb181ef2"
            }
          },
          "metadata": {}
        },
        {
          "output_type": "display_data",
          "data": {
            "text/plain": [
              "<IPython.core.display.HTML object>"
            ],
            "text/html": [
              "<style>\n",
              "    table.wandb td:nth-child(1) { padding: 0 10px; text-align: left ; width: auto;} td:nth-child(2) {text-align: left ; width: 100%}\n",
              "    .wandb-row { display: flex; flex-direction: row; flex-wrap: wrap; justify-content: flex-start; width: 100% }\n",
              "    .wandb-col { display: flex; flex-direction: column; flex-basis: 100%; flex: 1; padding: 10px; }\n",
              "    </style>\n",
              "<div class=\"wandb-row\"><div class=\"wandb-col\"><h3>Run history:</h3><br/><table class=\"wandb\"><tr><td>Accuracy</td><td>▁</td></tr><tr><td>epoch</td><td>▁▂▃▃▄▅▆▆▇█</td></tr><tr><td>training_accuracy</td><td>▁▄▅▆▆▇▇▇██</td></tr><tr><td>training_loss</td><td>█▆▄▃▃▂▂▂▁▁</td></tr><tr><td>validation_accuracy</td><td>▁▄▅▇▆▇▇▇▇█</td></tr><tr><td>validation_loss</td><td>█▄▃▂▃▂▁▃▃▂</td></tr></table><br/></div><div class=\"wandb-col\"><h3>Run summary:</h3><br/><table class=\"wandb\"><tr><td>Accuracy</td><td>96.51667</td></tr><tr><td>epoch</td><td>10</td></tr><tr><td>training_accuracy</td><td>98.34</td></tr><tr><td>training_loss</td><td>0.08</td></tr><tr><td>validation_accuracy</td><td>96.52</td></tr><tr><td>validation_loss</td><td>0.18</td></tr></table><br/></div></div>"
            ]
          },
          "metadata": {}
        },
        {
          "output_type": "display_data",
          "data": {
            "text/plain": [
              "<IPython.core.display.HTML object>"
            ],
            "text/html": [
              " View run <strong style=\"color:#cdcd00\">eager-sweep-17</strong> at: <a href='https://wandb.ai/cs23m015/DL-Assignment-1/runs/eosgnsvt' target=\"_blank\">https://wandb.ai/cs23m015/DL-Assignment-1/runs/eosgnsvt</a><br/>Synced 4 W&B file(s), 0 media file(s), 0 artifact file(s) and 0 other file(s)"
            ]
          },
          "metadata": {}
        },
        {
          "output_type": "display_data",
          "data": {
            "text/plain": [
              "<IPython.core.display.HTML object>"
            ],
            "text/html": [
              "Find logs at: <code>./wandb/run-20240316_182934-eosgnsvt/logs</code>"
            ]
          },
          "metadata": {}
        },
        {
          "output_type": "stream",
          "name": "stderr",
          "text": [
            "\u001b[34m\u001b[1mwandb\u001b[0m: Agent Starting Run: dwq3ioo9 with config:\n",
            "\u001b[34m\u001b[1mwandb\u001b[0m: \tactivation: tanh\n",
            "\u001b[34m\u001b[1mwandb\u001b[0m: \talpha: 0\n",
            "\u001b[34m\u001b[1mwandb\u001b[0m: \tbatch: 64\n",
            "\u001b[34m\u001b[1mwandb\u001b[0m: \tbeta: 0.9\n",
            "\u001b[34m\u001b[1mwandb\u001b[0m: \tbeta1: 0.999\n",
            "\u001b[34m\u001b[1mwandb\u001b[0m: \tbeta2: 0.999\n",
            "\u001b[34m\u001b[1mwandb\u001b[0m: \te: 1e-06\n",
            "\u001b[34m\u001b[1mwandb\u001b[0m: \tfn_loss: cross_entropy\n",
            "\u001b[34m\u001b[1mwandb\u001b[0m: \thiddenlayers: 4\n",
            "\u001b[34m\u001b[1mwandb\u001b[0m: \tinitialization: xavier\n",
            "\u001b[34m\u001b[1mwandb\u001b[0m: \titer: 10\n",
            "\u001b[34m\u001b[1mwandb\u001b[0m: \tmom: 0.9\n",
            "\u001b[34m\u001b[1mwandb\u001b[0m: \tn: 0.001\n",
            "\u001b[34m\u001b[1mwandb\u001b[0m: \tneuron: 64\n",
            "\u001b[34m\u001b[1mwandb\u001b[0m: \toptimizer: Nadam\n",
            "\u001b[34m\u001b[1mwandb\u001b[0m: \toutAct: softmax\n",
            "\u001b[34m\u001b[1mwandb\u001b[0m: \u001b[33mWARNING\u001b[0m Ignored wandb.init() arg project when running a sweep.\n"
          ]
        },
        {
          "output_type": "display_data",
          "data": {
            "text/plain": [
              "<IPython.core.display.HTML object>"
            ],
            "text/html": [
              "Tracking run with wandb version 0.16.4"
            ]
          },
          "metadata": {}
        },
        {
          "output_type": "display_data",
          "data": {
            "text/plain": [
              "<IPython.core.display.HTML object>"
            ],
            "text/html": [
              "Run data is saved locally in <code>/content/wandb/run-20240316_183227-dwq3ioo9</code>"
            ]
          },
          "metadata": {}
        },
        {
          "output_type": "display_data",
          "data": {
            "text/plain": [
              "<IPython.core.display.HTML object>"
            ],
            "text/html": [
              "Syncing run <strong><a href='https://wandb.ai/cs23m015/DL-Assignment-1/runs/dwq3ioo9' target=\"_blank\">solar-sweep-18</a></strong> to <a href='https://wandb.ai/cs23m015/DL-Assignment-1' target=\"_blank\">Weights & Biases</a> (<a href='https://wandb.me/run' target=\"_blank\">docs</a>)<br/>Sweep page: <a href='https://wandb.ai/cs23m015/DL-Assignment-1/sweeps/lfeqafjm' target=\"_blank\">https://wandb.ai/cs23m015/DL-Assignment-1/sweeps/lfeqafjm</a>"
            ]
          },
          "metadata": {}
        },
        {
          "output_type": "display_data",
          "data": {
            "text/plain": [
              "<IPython.core.display.HTML object>"
            ],
            "text/html": [
              " View project at <a href='https://wandb.ai/cs23m015/DL-Assignment-1' target=\"_blank\">https://wandb.ai/cs23m015/DL-Assignment-1</a>"
            ]
          },
          "metadata": {}
        },
        {
          "output_type": "display_data",
          "data": {
            "text/plain": [
              "<IPython.core.display.HTML object>"
            ],
            "text/html": [
              " View sweep at <a href='https://wandb.ai/cs23m015/DL-Assignment-1/sweeps/lfeqafjm' target=\"_blank\">https://wandb.ai/cs23m015/DL-Assignment-1/sweeps/lfeqafjm</a>"
            ]
          },
          "metadata": {}
        },
        {
          "output_type": "display_data",
          "data": {
            "text/plain": [
              "<IPython.core.display.HTML object>"
            ],
            "text/html": [
              " View run at <a href='https://wandb.ai/cs23m015/DL-Assignment-1/runs/dwq3ioo9' target=\"_blank\">https://wandb.ai/cs23m015/DL-Assignment-1/runs/dwq3ioo9</a>"
            ]
          },
          "metadata": {}
        },
        {
          "output_type": "stream",
          "name": "stdout",
          "text": [
            "Iteration Number: 1 Train Loss : 0.2935527092880292\n",
            "Iteration Number: 1 Validation Loss : 0.2919368147246264\n",
            "Iteration Number: 1 Train Accurcy : 93.92407407407407\n",
            "Iteration Number: 1 Validaion Accuracy: 93.61666666666667\n",
            "Iteration Number: 2 Train Loss : 0.2045821074300916\n",
            "Iteration Number: 2 Validation Loss : 0.2193769358850174\n",
            "Iteration Number: 2 Train Accurcy : 95.65370370370371\n",
            "Iteration Number: 2 Validaion Accuracy: 95.26666666666667\n",
            "Iteration Number: 3 Train Loss : 0.15539609336980217\n",
            "Iteration Number: 3 Validation Loss : 0.19142822430064063\n",
            "Iteration Number: 3 Train Accurcy : 96.7574074074074\n",
            "Iteration Number: 3 Validaion Accuracy: 95.65\n",
            "Iteration Number: 4 Train Loss : 0.12578688747908975\n",
            "Iteration Number: 4 Validation Loss : 0.17326121948265458\n",
            "Iteration Number: 4 Train Accurcy : 97.31296296296297\n",
            "Iteration Number: 4 Validaion Accuracy: 96.43333333333334\n",
            "Iteration Number: 5 Train Loss : 0.12008612544356419\n",
            "Iteration Number: 5 Validation Loss : 0.1862278307054522\n",
            "Iteration Number: 5 Train Accurcy : 97.38148148148149\n",
            "Iteration Number: 5 Validaion Accuracy: 95.95\n",
            "Iteration Number: 6 Train Loss : 0.09912608623725025\n",
            "Iteration Number: 6 Validation Loss : 0.18165514566937027\n",
            "Iteration Number: 6 Train Accurcy : 97.85925925925926\n",
            "Iteration Number: 6 Validaion Accuracy: 96.36666666666667\n",
            "Iteration Number: 7 Train Loss : 0.09365870176698297\n",
            "Iteration Number: 7 Validation Loss : 0.18210011098405474\n",
            "Iteration Number: 7 Train Accurcy : 97.87407407407407\n",
            "Iteration Number: 7 Validaion Accuracy: 96.48333333333333\n",
            "Iteration Number: 8 Train Loss : 0.08283810011296727\n",
            "Iteration Number: 8 Validation Loss : 0.17352709263129534\n",
            "Iteration Number: 8 Train Accurcy : 98.15\n",
            "Iteration Number: 8 Validaion Accuracy: 96.51666666666667\n",
            "Iteration Number: 9 Train Loss : 0.09169630309593728\n",
            "Iteration Number: 9 Validation Loss : 0.1927051322949604\n",
            "Iteration Number: 9 Train Accurcy : 97.9148148148148\n",
            "Iteration Number: 9 Validaion Accuracy: 96.15\n",
            "Iteration Number: 10 Train Loss : 0.06343344088897483\n",
            "Iteration Number: 10 Validation Loss : 0.17673817852685303\n",
            "Iteration Number: 10 Train Accurcy : 98.61111111111111\n",
            "Iteration Number: 10 Validaion Accuracy: 96.61666666666666\n"
          ]
        },
        {
          "output_type": "display_data",
          "data": {
            "text/plain": [
              "VBox(children=(Label(value='0.001 MB of 0.001 MB uploaded\\r'), FloatProgress(value=1.0, max=1.0)))"
            ],
            "application/vnd.jupyter.widget-view+json": {
              "version_major": 2,
              "version_minor": 0,
              "model_id": "eefff1ba6ff94631807fadfbc931f115"
            }
          },
          "metadata": {}
        },
        {
          "output_type": "display_data",
          "data": {
            "text/plain": [
              "<IPython.core.display.HTML object>"
            ],
            "text/html": [
              "<style>\n",
              "    table.wandb td:nth-child(1) { padding: 0 10px; text-align: left ; width: auto;} td:nth-child(2) {text-align: left ; width: 100%}\n",
              "    .wandb-row { display: flex; flex-direction: row; flex-wrap: wrap; justify-content: flex-start; width: 100% }\n",
              "    .wandb-col { display: flex; flex-direction: column; flex-basis: 100%; flex: 1; padding: 10px; }\n",
              "    </style>\n",
              "<div class=\"wandb-row\"><div class=\"wandb-col\"><h3>Run history:</h3><br/><table class=\"wandb\"><tr><td>Accuracy</td><td>▁</td></tr><tr><td>epoch</td><td>▁▂▃▃▄▅▆▆▇█</td></tr><tr><td>training_accuracy</td><td>▁▄▅▆▆▇▇▇▇█</td></tr><tr><td>training_loss</td><td>█▅▄▃▃▂▂▂▂▁</td></tr><tr><td>validation_accuracy</td><td>▁▅▆█▆▇██▇█</td></tr><tr><td>validation_loss</td><td>█▄▂▁▂▂▂▁▂▂</td></tr></table><br/></div><div class=\"wandb-col\"><h3>Run summary:</h3><br/><table class=\"wandb\"><tr><td>Accuracy</td><td>96.61667</td></tr><tr><td>epoch</td><td>10</td></tr><tr><td>training_accuracy</td><td>98.61</td></tr><tr><td>training_loss</td><td>0.06</td></tr><tr><td>validation_accuracy</td><td>96.62</td></tr><tr><td>validation_loss</td><td>0.18</td></tr></table><br/></div></div>"
            ]
          },
          "metadata": {}
        },
        {
          "output_type": "display_data",
          "data": {
            "text/plain": [
              "<IPython.core.display.HTML object>"
            ],
            "text/html": [
              " View run <strong style=\"color:#cdcd00\">solar-sweep-18</strong> at: <a href='https://wandb.ai/cs23m015/DL-Assignment-1/runs/dwq3ioo9' target=\"_blank\">https://wandb.ai/cs23m015/DL-Assignment-1/runs/dwq3ioo9</a><br/>Synced 5 W&B file(s), 0 media file(s), 0 artifact file(s) and 0 other file(s)"
            ]
          },
          "metadata": {}
        },
        {
          "output_type": "display_data",
          "data": {
            "text/plain": [
              "<IPython.core.display.HTML object>"
            ],
            "text/html": [
              "Find logs at: <code>./wandb/run-20240316_183227-dwq3ioo9/logs</code>"
            ]
          },
          "metadata": {}
        },
        {
          "output_type": "stream",
          "name": "stderr",
          "text": [
            "\u001b[34m\u001b[1mwandb\u001b[0m: Agent Starting Run: zjvjzop0 with config:\n",
            "\u001b[34m\u001b[1mwandb\u001b[0m: \tactivation: tanh\n",
            "\u001b[34m\u001b[1mwandb\u001b[0m: \talpha: 0\n",
            "\u001b[34m\u001b[1mwandb\u001b[0m: \tbatch: 64\n",
            "\u001b[34m\u001b[1mwandb\u001b[0m: \tbeta: 0.9\n",
            "\u001b[34m\u001b[1mwandb\u001b[0m: \tbeta1: 0.999\n",
            "\u001b[34m\u001b[1mwandb\u001b[0m: \tbeta2: 0.999\n",
            "\u001b[34m\u001b[1mwandb\u001b[0m: \te: 1e-06\n",
            "\u001b[34m\u001b[1mwandb\u001b[0m: \tfn_loss: cross_entropy\n",
            "\u001b[34m\u001b[1mwandb\u001b[0m: \thiddenlayers: 4\n",
            "\u001b[34m\u001b[1mwandb\u001b[0m: \tinitialization: xavier\n",
            "\u001b[34m\u001b[1mwandb\u001b[0m: \titer: 10\n",
            "\u001b[34m\u001b[1mwandb\u001b[0m: \tmom: 0.9\n",
            "\u001b[34m\u001b[1mwandb\u001b[0m: \tn: 0.0001\n",
            "\u001b[34m\u001b[1mwandb\u001b[0m: \tneuron: 32\n",
            "\u001b[34m\u001b[1mwandb\u001b[0m: \toptimizer: rmsProp\n",
            "\u001b[34m\u001b[1mwandb\u001b[0m: \toutAct: softmax\n",
            "\u001b[34m\u001b[1mwandb\u001b[0m: \u001b[33mWARNING\u001b[0m Ignored wandb.init() arg project when running a sweep.\n"
          ]
        },
        {
          "output_type": "display_data",
          "data": {
            "text/plain": [
              "<IPython.core.display.HTML object>"
            ],
            "text/html": [
              "Tracking run with wandb version 0.16.4"
            ]
          },
          "metadata": {}
        },
        {
          "output_type": "display_data",
          "data": {
            "text/plain": [
              "<IPython.core.display.HTML object>"
            ],
            "text/html": [
              "Run data is saved locally in <code>/content/wandb/run-20240316_183519-zjvjzop0</code>"
            ]
          },
          "metadata": {}
        },
        {
          "output_type": "display_data",
          "data": {
            "text/plain": [
              "<IPython.core.display.HTML object>"
            ],
            "text/html": [
              "Syncing run <strong><a href='https://wandb.ai/cs23m015/DL-Assignment-1/runs/zjvjzop0' target=\"_blank\">volcanic-sweep-19</a></strong> to <a href='https://wandb.ai/cs23m015/DL-Assignment-1' target=\"_blank\">Weights & Biases</a> (<a href='https://wandb.me/run' target=\"_blank\">docs</a>)<br/>Sweep page: <a href='https://wandb.ai/cs23m015/DL-Assignment-1/sweeps/lfeqafjm' target=\"_blank\">https://wandb.ai/cs23m015/DL-Assignment-1/sweeps/lfeqafjm</a>"
            ]
          },
          "metadata": {}
        },
        {
          "output_type": "display_data",
          "data": {
            "text/plain": [
              "<IPython.core.display.HTML object>"
            ],
            "text/html": [
              " View project at <a href='https://wandb.ai/cs23m015/DL-Assignment-1' target=\"_blank\">https://wandb.ai/cs23m015/DL-Assignment-1</a>"
            ]
          },
          "metadata": {}
        },
        {
          "output_type": "display_data",
          "data": {
            "text/plain": [
              "<IPython.core.display.HTML object>"
            ],
            "text/html": [
              " View sweep at <a href='https://wandb.ai/cs23m015/DL-Assignment-1/sweeps/lfeqafjm' target=\"_blank\">https://wandb.ai/cs23m015/DL-Assignment-1/sweeps/lfeqafjm</a>"
            ]
          },
          "metadata": {}
        },
        {
          "output_type": "display_data",
          "data": {
            "text/plain": [
              "<IPython.core.display.HTML object>"
            ],
            "text/html": [
              " View run at <a href='https://wandb.ai/cs23m015/DL-Assignment-1/runs/zjvjzop0' target=\"_blank\">https://wandb.ai/cs23m015/DL-Assignment-1/runs/zjvjzop0</a>"
            ]
          },
          "metadata": {}
        },
        {
          "output_type": "display_data",
          "data": {
            "text/plain": [
              "VBox(children=(Label(value='0.011 MB of 0.011 MB uploaded\\r'), FloatProgress(value=1.0, max=1.0)))"
            ],
            "application/vnd.jupyter.widget-view+json": {
              "version_major": 2,
              "version_minor": 0,
              "model_id": "27f3fa9028d9473bbb1c7f55914f9fb9"
            }
          },
          "metadata": {}
        },
        {
          "output_type": "display_data",
          "data": {
            "text/plain": [
              "<IPython.core.display.HTML object>"
            ],
            "text/html": [
              "<style>\n",
              "    table.wandb td:nth-child(1) { padding: 0 10px; text-align: left ; width: auto;} td:nth-child(2) {text-align: left ; width: 100%}\n",
              "    .wandb-row { display: flex; flex-direction: row; flex-wrap: wrap; justify-content: flex-start; width: 100% }\n",
              "    .wandb-col { display: flex; flex-direction: column; flex-basis: 100%; flex: 1; padding: 10px; }\n",
              "    </style>\n",
              "<div class=\"wandb-row\"><div class=\"wandb-col\"><h3>Run history:</h3><br/><table class=\"wandb\"><tr><td>Accuracy</td><td>▁</td></tr><tr><td>epoch</td><td>▁▂▃▃▄▅▆▆▇█</td></tr><tr><td>training_accuracy</td><td>▁▄▅▆▇▇▇███</td></tr><tr><td>training_loss</td><td>█▆▅▄▃▂▂▂▁▁</td></tr><tr><td>validation_accuracy</td><td>▁▄▅▆▇▇▇███</td></tr><tr><td>validation_loss</td><td>█▆▅▄▃▂▂▂▁▁</td></tr></table><br/></div><div class=\"wandb-col\"><h3>Run summary:</h3><br/><table class=\"wandb\"><tr><td>Accuracy</td><td>83.61667</td></tr><tr><td>epoch</td><td>10</td></tr><tr><td>training_accuracy</td><td>83.35</td></tr><tr><td>training_loss</td><td>0.84</td></tr><tr><td>validation_accuracy</td><td>83.62</td></tr><tr><td>validation_loss</td><td>0.82</td></tr></table><br/></div></div>"
            ]
          },
          "metadata": {}
        },
        {
          "output_type": "display_data",
          "data": {
            "text/plain": [
              "<IPython.core.display.HTML object>"
            ],
            "text/html": [
              " View run <strong style=\"color:#cdcd00\">volcanic-sweep-19</strong> at: <a href='https://wandb.ai/cs23m015/DL-Assignment-1/runs/zjvjzop0' target=\"_blank\">https://wandb.ai/cs23m015/DL-Assignment-1/runs/zjvjzop0</a><br/>Synced 4 W&B file(s), 0 media file(s), 0 artifact file(s) and 0 other file(s)"
            ]
          },
          "metadata": {}
        },
        {
          "output_type": "display_data",
          "data": {
            "text/plain": [
              "<IPython.core.display.HTML object>"
            ],
            "text/html": [
              "Find logs at: <code>./wandb/run-20240316_183519-zjvjzop0/logs</code>"
            ]
          },
          "metadata": {}
        },
        {
          "output_type": "stream",
          "name": "stderr",
          "text": [
            "\u001b[34m\u001b[1mwandb\u001b[0m: Agent Starting Run: ybhlk8sl with config:\n",
            "\u001b[34m\u001b[1mwandb\u001b[0m: \tactivation: tanh\n",
            "\u001b[34m\u001b[1mwandb\u001b[0m: \talpha: 0\n",
            "\u001b[34m\u001b[1mwandb\u001b[0m: \tbatch: 64\n",
            "\u001b[34m\u001b[1mwandb\u001b[0m: \tbeta: 0.9\n",
            "\u001b[34m\u001b[1mwandb\u001b[0m: \tbeta1: 0.999\n",
            "\u001b[34m\u001b[1mwandb\u001b[0m: \tbeta2: 0.999\n",
            "\u001b[34m\u001b[1mwandb\u001b[0m: \te: 1e-06\n",
            "\u001b[34m\u001b[1mwandb\u001b[0m: \tfn_loss: cross_entropy\n",
            "\u001b[34m\u001b[1mwandb\u001b[0m: \thiddenlayers: 4\n",
            "\u001b[34m\u001b[1mwandb\u001b[0m: \tinitialization: xavier\n",
            "\u001b[34m\u001b[1mwandb\u001b[0m: \titer: 10\n",
            "\u001b[34m\u001b[1mwandb\u001b[0m: \tmom: 0.9\n",
            "\u001b[34m\u001b[1mwandb\u001b[0m: \tn: 0.0001\n",
            "\u001b[34m\u001b[1mwandb\u001b[0m: \tneuron: 32\n",
            "\u001b[34m\u001b[1mwandb\u001b[0m: \toptimizer: adam\n",
            "\u001b[34m\u001b[1mwandb\u001b[0m: \toutAct: softmax\n",
            "\u001b[34m\u001b[1mwandb\u001b[0m: \u001b[33mWARNING\u001b[0m Ignored wandb.init() arg project when running a sweep.\n"
          ]
        },
        {
          "output_type": "display_data",
          "data": {
            "text/plain": [
              "<IPython.core.display.HTML object>"
            ],
            "text/html": [
              "Tracking run with wandb version 0.16.4"
            ]
          },
          "metadata": {}
        },
        {
          "output_type": "display_data",
          "data": {
            "text/plain": [
              "<IPython.core.display.HTML object>"
            ],
            "text/html": [
              "Run data is saved locally in <code>/content/wandb/run-20240316_183725-ybhlk8sl</code>"
            ]
          },
          "metadata": {}
        },
        {
          "output_type": "display_data",
          "data": {
            "text/plain": [
              "<IPython.core.display.HTML object>"
            ],
            "text/html": [
              "Syncing run <strong><a href='https://wandb.ai/cs23m015/DL-Assignment-1/runs/ybhlk8sl' target=\"_blank\">apricot-sweep-20</a></strong> to <a href='https://wandb.ai/cs23m015/DL-Assignment-1' target=\"_blank\">Weights & Biases</a> (<a href='https://wandb.me/run' target=\"_blank\">docs</a>)<br/>Sweep page: <a href='https://wandb.ai/cs23m015/DL-Assignment-1/sweeps/lfeqafjm' target=\"_blank\">https://wandb.ai/cs23m015/DL-Assignment-1/sweeps/lfeqafjm</a>"
            ]
          },
          "metadata": {}
        },
        {
          "output_type": "display_data",
          "data": {
            "text/plain": [
              "<IPython.core.display.HTML object>"
            ],
            "text/html": [
              " View project at <a href='https://wandb.ai/cs23m015/DL-Assignment-1' target=\"_blank\">https://wandb.ai/cs23m015/DL-Assignment-1</a>"
            ]
          },
          "metadata": {}
        },
        {
          "output_type": "display_data",
          "data": {
            "text/plain": [
              "<IPython.core.display.HTML object>"
            ],
            "text/html": [
              " View sweep at <a href='https://wandb.ai/cs23m015/DL-Assignment-1/sweeps/lfeqafjm' target=\"_blank\">https://wandb.ai/cs23m015/DL-Assignment-1/sweeps/lfeqafjm</a>"
            ]
          },
          "metadata": {}
        },
        {
          "output_type": "display_data",
          "data": {
            "text/plain": [
              "<IPython.core.display.HTML object>"
            ],
            "text/html": [
              " View run at <a href='https://wandb.ai/cs23m015/DL-Assignment-1/runs/ybhlk8sl' target=\"_blank\">https://wandb.ai/cs23m015/DL-Assignment-1/runs/ybhlk8sl</a>"
            ]
          },
          "metadata": {}
        },
        {
          "output_type": "display_data",
          "data": {
            "text/plain": [
              "VBox(children=(Label(value='0.011 MB of 0.011 MB uploaded\\r'), FloatProgress(value=1.0, max=1.0)))"
            ],
            "application/vnd.jupyter.widget-view+json": {
              "version_major": 2,
              "version_minor": 0,
              "model_id": "ffda53987a234ecd94cbc449d1c618cc"
            }
          },
          "metadata": {}
        },
        {
          "output_type": "display_data",
          "data": {
            "text/plain": [
              "<IPython.core.display.HTML object>"
            ],
            "text/html": [
              "<style>\n",
              "    table.wandb td:nth-child(1) { padding: 0 10px; text-align: left ; width: auto;} td:nth-child(2) {text-align: left ; width: 100%}\n",
              "    .wandb-row { display: flex; flex-direction: row; flex-wrap: wrap; justify-content: flex-start; width: 100% }\n",
              "    .wandb-col { display: flex; flex-direction: column; flex-basis: 100%; flex: 1; padding: 10px; }\n",
              "    </style>\n",
              "<div class=\"wandb-row\"><div class=\"wandb-col\"><h3>Run history:</h3><br/><table class=\"wandb\"><tr><td>Accuracy</td><td>▁</td></tr><tr><td>epoch</td><td>▁▂▃▃▄▅▆▆▇█</td></tr><tr><td>training_accuracy</td><td>▁▄▆▆▇▇████</td></tr><tr><td>training_loss</td><td>█▅▃▂▂▂▁▁▁▁</td></tr><tr><td>validation_accuracy</td><td>▁▄▆▇▇▇████</td></tr><tr><td>validation_loss</td><td>█▄▃▂▂▂▁▁▁▁</td></tr></table><br/></div><div class=\"wandb-col\"><h3>Run summary:</h3><br/><table class=\"wandb\"><tr><td>Accuracy</td><td>93.98333</td></tr><tr><td>epoch</td><td>10</td></tr><tr><td>training_accuracy</td><td>94.38</td></tr><tr><td>training_loss</td><td>0.28</td></tr><tr><td>validation_accuracy</td><td>93.98</td></tr><tr><td>validation_loss</td><td>0.29</td></tr></table><br/></div></div>"
            ]
          },
          "metadata": {}
        },
        {
          "output_type": "display_data",
          "data": {
            "text/plain": [
              "<IPython.core.display.HTML object>"
            ],
            "text/html": [
              " View run <strong style=\"color:#cdcd00\">apricot-sweep-20</strong> at: <a href='https://wandb.ai/cs23m015/DL-Assignment-1/runs/ybhlk8sl' target=\"_blank\">https://wandb.ai/cs23m015/DL-Assignment-1/runs/ybhlk8sl</a><br/>Synced 4 W&B file(s), 0 media file(s), 0 artifact file(s) and 0 other file(s)"
            ]
          },
          "metadata": {}
        },
        {
          "output_type": "display_data",
          "data": {
            "text/plain": [
              "<IPython.core.display.HTML object>"
            ],
            "text/html": [
              "Find logs at: <code>./wandb/run-20240316_183725-ybhlk8sl/logs</code>"
            ]
          },
          "metadata": {}
        },
        {
          "output_type": "stream",
          "name": "stderr",
          "text": [
            "\u001b[34m\u001b[1mwandb\u001b[0m: Agent Starting Run: i5pailyd with config:\n",
            "\u001b[34m\u001b[1mwandb\u001b[0m: \tactivation: tanh\n",
            "\u001b[34m\u001b[1mwandb\u001b[0m: \talpha: 0\n",
            "\u001b[34m\u001b[1mwandb\u001b[0m: \tbatch: 64\n",
            "\u001b[34m\u001b[1mwandb\u001b[0m: \tbeta: 0.9\n",
            "\u001b[34m\u001b[1mwandb\u001b[0m: \tbeta1: 0.999\n",
            "\u001b[34m\u001b[1mwandb\u001b[0m: \tbeta2: 0.999\n",
            "\u001b[34m\u001b[1mwandb\u001b[0m: \te: 1e-06\n",
            "\u001b[34m\u001b[1mwandb\u001b[0m: \tfn_loss: cross_entropy\n",
            "\u001b[34m\u001b[1mwandb\u001b[0m: \thiddenlayers: 4\n",
            "\u001b[34m\u001b[1mwandb\u001b[0m: \tinitialization: xavier\n",
            "\u001b[34m\u001b[1mwandb\u001b[0m: \titer: 10\n",
            "\u001b[34m\u001b[1mwandb\u001b[0m: \tmom: 0.9\n",
            "\u001b[34m\u001b[1mwandb\u001b[0m: \tn: 0.0001\n",
            "\u001b[34m\u001b[1mwandb\u001b[0m: \tneuron: 32\n",
            "\u001b[34m\u001b[1mwandb\u001b[0m: \toptimizer: Nadam\n",
            "\u001b[34m\u001b[1mwandb\u001b[0m: \toutAct: softmax\n",
            "\u001b[34m\u001b[1mwandb\u001b[0m: \u001b[33mWARNING\u001b[0m Ignored wandb.init() arg project when running a sweep.\n"
          ]
        },
        {
          "output_type": "display_data",
          "data": {
            "text/plain": [
              "<IPython.core.display.HTML object>"
            ],
            "text/html": [
              "Tracking run with wandb version 0.16.4"
            ]
          },
          "metadata": {}
        },
        {
          "output_type": "display_data",
          "data": {
            "text/plain": [
              "<IPython.core.display.HTML object>"
            ],
            "text/html": [
              "Run data is saved locally in <code>/content/wandb/run-20240316_183937-i5pailyd</code>"
            ]
          },
          "metadata": {}
        },
        {
          "output_type": "display_data",
          "data": {
            "text/plain": [
              "<IPython.core.display.HTML object>"
            ],
            "text/html": [
              "Syncing run <strong><a href='https://wandb.ai/cs23m015/DL-Assignment-1/runs/i5pailyd' target=\"_blank\">winter-sweep-21</a></strong> to <a href='https://wandb.ai/cs23m015/DL-Assignment-1' target=\"_blank\">Weights & Biases</a> (<a href='https://wandb.me/run' target=\"_blank\">docs</a>)<br/>Sweep page: <a href='https://wandb.ai/cs23m015/DL-Assignment-1/sweeps/lfeqafjm' target=\"_blank\">https://wandb.ai/cs23m015/DL-Assignment-1/sweeps/lfeqafjm</a>"
            ]
          },
          "metadata": {}
        },
        {
          "output_type": "display_data",
          "data": {
            "text/plain": [
              "<IPython.core.display.HTML object>"
            ],
            "text/html": [
              " View project at <a href='https://wandb.ai/cs23m015/DL-Assignment-1' target=\"_blank\">https://wandb.ai/cs23m015/DL-Assignment-1</a>"
            ]
          },
          "metadata": {}
        },
        {
          "output_type": "display_data",
          "data": {
            "text/plain": [
              "<IPython.core.display.HTML object>"
            ],
            "text/html": [
              " View sweep at <a href='https://wandb.ai/cs23m015/DL-Assignment-1/sweeps/lfeqafjm' target=\"_blank\">https://wandb.ai/cs23m015/DL-Assignment-1/sweeps/lfeqafjm</a>"
            ]
          },
          "metadata": {}
        },
        {
          "output_type": "display_data",
          "data": {
            "text/plain": [
              "<IPython.core.display.HTML object>"
            ],
            "text/html": [
              " View run at <a href='https://wandb.ai/cs23m015/DL-Assignment-1/runs/i5pailyd' target=\"_blank\">https://wandb.ai/cs23m015/DL-Assignment-1/runs/i5pailyd</a>"
            ]
          },
          "metadata": {}
        },
        {
          "output_type": "stream",
          "name": "stdout",
          "text": [
            "Iteration Number: 1 Train Loss : 1.275689196840915\n",
            "Iteration Number: 1 Validation Loss : 1.2549771181535556\n",
            "Iteration Number: 1 Train Accurcy : 74.85925925925926\n",
            "Iteration Number: 1 Validaion Accuracy: 74.75\n",
            "Iteration Number: 2 Train Loss : 0.7875317208419714\n",
            "Iteration Number: 2 Validation Loss : 0.7627356880575881\n",
            "Iteration Number: 2 Train Accurcy : 84.10740740740741\n",
            "Iteration Number: 2 Validaion Accuracy: 84.66666666666667\n",
            "Iteration Number: 3 Train Loss : 0.5905043854673968\n",
            "Iteration Number: 3 Validation Loss : 0.5707427230377671\n",
            "Iteration Number: 3 Train Accurcy : 87.91481481481482\n",
            "Iteration Number: 3 Validaion Accuracy: 88.4\n",
            "Iteration Number: 4 Train Loss : 0.48188820752805184\n",
            "Iteration Number: 4 Validation Loss : 0.4649195764886039\n",
            "Iteration Number: 4 Train Accurcy : 90.11851851851851\n",
            "Iteration Number: 4 Validaion Accuracy: 90.48333333333333\n",
            "Iteration Number: 5 Train Loss : 0.4172746312233323\n",
            "Iteration Number: 5 Validation Loss : 0.4082344617968103\n",
            "Iteration Number: 5 Train Accurcy : 91.53888888888889\n",
            "Iteration Number: 5 Validaion Accuracy: 91.85\n",
            "Iteration Number: 6 Train Loss : 0.3732930339068641\n",
            "Iteration Number: 6 Validation Loss : 0.37141379262034524\n",
            "Iteration Number: 6 Train Accurcy : 92.47222222222223\n",
            "Iteration Number: 6 Validaion Accuracy: 92.30000000000001\n",
            "Iteration Number: 7 Train Loss : 0.34069102013571717\n",
            "Iteration Number: 7 Validation Loss : 0.34212305605212273\n",
            "Iteration Number: 7 Train Accurcy : 93.10185185185185\n",
            "Iteration Number: 7 Validaion Accuracy: 92.86666666666666\n",
            "Iteration Number: 8 Train Loss : 0.3148271502115683\n",
            "Iteration Number: 8 Validation Loss : 0.3194934675569017\n",
            "Iteration Number: 8 Train Accurcy : 93.69074074074074\n",
            "Iteration Number: 8 Validaion Accuracy: 93.28333333333333\n",
            "Iteration Number: 9 Train Loss : 0.29383003872270347\n",
            "Iteration Number: 9 Validation Loss : 0.3014861096400046\n",
            "Iteration Number: 9 Train Accurcy : 94.1462962962963\n",
            "Iteration Number: 9 Validaion Accuracy: 93.60000000000001\n",
            "Iteration Number: 10 Train Loss : 0.2761743322191742\n",
            "Iteration Number: 10 Validation Loss : 0.2866911245466792\n",
            "Iteration Number: 10 Train Accurcy : 94.48703703703704\n",
            "Iteration Number: 10 Validaion Accuracy: 93.88333333333333\n"
          ]
        },
        {
          "output_type": "display_data",
          "data": {
            "text/plain": [
              "VBox(children=(Label(value='0.001 MB of 0.013 MB uploaded\\r'), FloatProgress(value=0.07980215561789458, max=1.…"
            ],
            "application/vnd.jupyter.widget-view+json": {
              "version_major": 2,
              "version_minor": 0,
              "model_id": "dc1654ba6515442b9746d744f3893fa7"
            }
          },
          "metadata": {}
        },
        {
          "output_type": "display_data",
          "data": {
            "text/plain": [
              "<IPython.core.display.HTML object>"
            ],
            "text/html": [
              "<style>\n",
              "    table.wandb td:nth-child(1) { padding: 0 10px; text-align: left ; width: auto;} td:nth-child(2) {text-align: left ; width: 100%}\n",
              "    .wandb-row { display: flex; flex-direction: row; flex-wrap: wrap; justify-content: flex-start; width: 100% }\n",
              "    .wandb-col { display: flex; flex-direction: column; flex-basis: 100%; flex: 1; padding: 10px; }\n",
              "    </style>\n",
              "<div class=\"wandb-row\"><div class=\"wandb-col\"><h3>Run history:</h3><br/><table class=\"wandb\"><tr><td>Accuracy</td><td>▁</td></tr><tr><td>epoch</td><td>▁▂▃▃▄▅▆▆▇█</td></tr><tr><td>training_accuracy</td><td>▁▄▆▆▇▇████</td></tr><tr><td>training_loss</td><td>█▅▃▂▂▂▁▁▁▁</td></tr><tr><td>validation_accuracy</td><td>▁▅▆▇▇▇████</td></tr><tr><td>validation_loss</td><td>█▄▃▂▂▂▁▁▁▁</td></tr></table><br/></div><div class=\"wandb-col\"><h3>Run summary:</h3><br/><table class=\"wandb\"><tr><td>Accuracy</td><td>93.88333</td></tr><tr><td>epoch</td><td>10</td></tr><tr><td>training_accuracy</td><td>94.49</td></tr><tr><td>training_loss</td><td>0.28</td></tr><tr><td>validation_accuracy</td><td>93.88</td></tr><tr><td>validation_loss</td><td>0.29</td></tr></table><br/></div></div>"
            ]
          },
          "metadata": {}
        },
        {
          "output_type": "display_data",
          "data": {
            "text/plain": [
              "<IPython.core.display.HTML object>"
            ],
            "text/html": [
              " View run <strong style=\"color:#cdcd00\">winter-sweep-21</strong> at: <a href='https://wandb.ai/cs23m015/DL-Assignment-1/runs/i5pailyd' target=\"_blank\">https://wandb.ai/cs23m015/DL-Assignment-1/runs/i5pailyd</a><br/>Synced 5 W&B file(s), 0 media file(s), 0 artifact file(s) and 0 other file(s)"
            ]
          },
          "metadata": {}
        },
        {
          "output_type": "display_data",
          "data": {
            "text/plain": [
              "<IPython.core.display.HTML object>"
            ],
            "text/html": [
              "Find logs at: <code>./wandb/run-20240316_183937-i5pailyd/logs</code>"
            ]
          },
          "metadata": {}
        },
        {
          "output_type": "stream",
          "name": "stderr",
          "text": [
            "\u001b[34m\u001b[1mwandb\u001b[0m: Agent Starting Run: hbm6jnij with config:\n",
            "\u001b[34m\u001b[1mwandb\u001b[0m: \tactivation: tanh\n",
            "\u001b[34m\u001b[1mwandb\u001b[0m: \talpha: 0\n",
            "\u001b[34m\u001b[1mwandb\u001b[0m: \tbatch: 64\n",
            "\u001b[34m\u001b[1mwandb\u001b[0m: \tbeta: 0.9\n",
            "\u001b[34m\u001b[1mwandb\u001b[0m: \tbeta1: 0.999\n",
            "\u001b[34m\u001b[1mwandb\u001b[0m: \tbeta2: 0.999\n",
            "\u001b[34m\u001b[1mwandb\u001b[0m: \te: 1e-06\n",
            "\u001b[34m\u001b[1mwandb\u001b[0m: \tfn_loss: cross_entropy\n",
            "\u001b[34m\u001b[1mwandb\u001b[0m: \thiddenlayers: 4\n",
            "\u001b[34m\u001b[1mwandb\u001b[0m: \tinitialization: xavier\n",
            "\u001b[34m\u001b[1mwandb\u001b[0m: \titer: 10\n",
            "\u001b[34m\u001b[1mwandb\u001b[0m: \tmom: 0.9\n",
            "\u001b[34m\u001b[1mwandb\u001b[0m: \tn: 0.0001\n",
            "\u001b[34m\u001b[1mwandb\u001b[0m: \tneuron: 64\n",
            "\u001b[34m\u001b[1mwandb\u001b[0m: \toptimizer: rmsProp\n",
            "\u001b[34m\u001b[1mwandb\u001b[0m: \toutAct: softmax\n",
            "\u001b[34m\u001b[1mwandb\u001b[0m: \u001b[33mWARNING\u001b[0m Ignored wandb.init() arg project when running a sweep.\n"
          ]
        },
        {
          "output_type": "display_data",
          "data": {
            "text/plain": [
              "<IPython.core.display.HTML object>"
            ],
            "text/html": [
              "Tracking run with wandb version 0.16.4"
            ]
          },
          "metadata": {}
        },
        {
          "output_type": "display_data",
          "data": {
            "text/plain": [
              "<IPython.core.display.HTML object>"
            ],
            "text/html": [
              "Run data is saved locally in <code>/content/wandb/run-20240316_184154-hbm6jnij</code>"
            ]
          },
          "metadata": {}
        },
        {
          "output_type": "display_data",
          "data": {
            "text/plain": [
              "<IPython.core.display.HTML object>"
            ],
            "text/html": [
              "Syncing run <strong><a href='https://wandb.ai/cs23m015/DL-Assignment-1/runs/hbm6jnij' target=\"_blank\">earthy-sweep-22</a></strong> to <a href='https://wandb.ai/cs23m015/DL-Assignment-1' target=\"_blank\">Weights & Biases</a> (<a href='https://wandb.me/run' target=\"_blank\">docs</a>)<br/>Sweep page: <a href='https://wandb.ai/cs23m015/DL-Assignment-1/sweeps/lfeqafjm' target=\"_blank\">https://wandb.ai/cs23m015/DL-Assignment-1/sweeps/lfeqafjm</a>"
            ]
          },
          "metadata": {}
        },
        {
          "output_type": "display_data",
          "data": {
            "text/plain": [
              "<IPython.core.display.HTML object>"
            ],
            "text/html": [
              " View project at <a href='https://wandb.ai/cs23m015/DL-Assignment-1' target=\"_blank\">https://wandb.ai/cs23m015/DL-Assignment-1</a>"
            ]
          },
          "metadata": {}
        },
        {
          "output_type": "display_data",
          "data": {
            "text/plain": [
              "<IPython.core.display.HTML object>"
            ],
            "text/html": [
              " View sweep at <a href='https://wandb.ai/cs23m015/DL-Assignment-1/sweeps/lfeqafjm' target=\"_blank\">https://wandb.ai/cs23m015/DL-Assignment-1/sweeps/lfeqafjm</a>"
            ]
          },
          "metadata": {}
        },
        {
          "output_type": "display_data",
          "data": {
            "text/plain": [
              "<IPython.core.display.HTML object>"
            ],
            "text/html": [
              " View run at <a href='https://wandb.ai/cs23m015/DL-Assignment-1/runs/hbm6jnij' target=\"_blank\">https://wandb.ai/cs23m015/DL-Assignment-1/runs/hbm6jnij</a>"
            ]
          },
          "metadata": {}
        },
        {
          "output_type": "display_data",
          "data": {
            "text/plain": [
              "VBox(children=(Label(value='0.001 MB of 0.001 MB uploaded\\r'), FloatProgress(value=1.0, max=1.0)))"
            ],
            "application/vnd.jupyter.widget-view+json": {
              "version_major": 2,
              "version_minor": 0,
              "model_id": "9888823d62b44c9fb87e77ce308c9cf3"
            }
          },
          "metadata": {}
        },
        {
          "output_type": "display_data",
          "data": {
            "text/plain": [
              "<IPython.core.display.HTML object>"
            ],
            "text/html": [
              "<style>\n",
              "    table.wandb td:nth-child(1) { padding: 0 10px; text-align: left ; width: auto;} td:nth-child(2) {text-align: left ; width: 100%}\n",
              "    .wandb-row { display: flex; flex-direction: row; flex-wrap: wrap; justify-content: flex-start; width: 100% }\n",
              "    .wandb-col { display: flex; flex-direction: column; flex-basis: 100%; flex: 1; padding: 10px; }\n",
              "    </style>\n",
              "<div class=\"wandb-row\"><div class=\"wandb-col\"><h3>Run history:</h3><br/><table class=\"wandb\"><tr><td>Accuracy</td><td>▁</td></tr><tr><td>epoch</td><td>▁▂▃▃▄▅▆▆▇█</td></tr><tr><td>training_accuracy</td><td>▁▄▅▆▇▇▇███</td></tr><tr><td>training_loss</td><td>█▅▄▃▂▂▂▁▁▁</td></tr><tr><td>validation_accuracy</td><td>▁▄▅▆▇▇████</td></tr><tr><td>validation_loss</td><td>█▅▄▃▂▂▂▁▁▁</td></tr></table><br/></div><div class=\"wandb-col\"><h3>Run summary:</h3><br/><table class=\"wandb\"><tr><td>Accuracy</td><td>88.31667</td></tr><tr><td>epoch</td><td>10</td></tr><tr><td>training_accuracy</td><td>87.9</td></tr><tr><td>training_loss</td><td>0.6</td></tr><tr><td>validation_accuracy</td><td>88.32</td></tr><tr><td>validation_loss</td><td>0.58</td></tr></table><br/></div></div>"
            ]
          },
          "metadata": {}
        },
        {
          "output_type": "display_data",
          "data": {
            "text/plain": [
              "<IPython.core.display.HTML object>"
            ],
            "text/html": [
              " View run <strong style=\"color:#cdcd00\">earthy-sweep-22</strong> at: <a href='https://wandb.ai/cs23m015/DL-Assignment-1/runs/hbm6jnij' target=\"_blank\">https://wandb.ai/cs23m015/DL-Assignment-1/runs/hbm6jnij</a><br/>Synced 4 W&B file(s), 0 media file(s), 0 artifact file(s) and 0 other file(s)"
            ]
          },
          "metadata": {}
        },
        {
          "output_type": "display_data",
          "data": {
            "text/plain": [
              "<IPython.core.display.HTML object>"
            ],
            "text/html": [
              "Find logs at: <code>./wandb/run-20240316_184154-hbm6jnij/logs</code>"
            ]
          },
          "metadata": {}
        },
        {
          "output_type": "stream",
          "name": "stderr",
          "text": [
            "\u001b[34m\u001b[1mwandb\u001b[0m: Agent Starting Run: wpp1zsde with config:\n",
            "\u001b[34m\u001b[1mwandb\u001b[0m: \tactivation: tanh\n",
            "\u001b[34m\u001b[1mwandb\u001b[0m: \talpha: 0\n",
            "\u001b[34m\u001b[1mwandb\u001b[0m: \tbatch: 64\n",
            "\u001b[34m\u001b[1mwandb\u001b[0m: \tbeta: 0.9\n",
            "\u001b[34m\u001b[1mwandb\u001b[0m: \tbeta1: 0.999\n",
            "\u001b[34m\u001b[1mwandb\u001b[0m: \tbeta2: 0.999\n",
            "\u001b[34m\u001b[1mwandb\u001b[0m: \te: 1e-06\n",
            "\u001b[34m\u001b[1mwandb\u001b[0m: \tfn_loss: cross_entropy\n",
            "\u001b[34m\u001b[1mwandb\u001b[0m: \thiddenlayers: 4\n",
            "\u001b[34m\u001b[1mwandb\u001b[0m: \tinitialization: xavier\n",
            "\u001b[34m\u001b[1mwandb\u001b[0m: \titer: 10\n",
            "\u001b[34m\u001b[1mwandb\u001b[0m: \tmom: 0.9\n",
            "\u001b[34m\u001b[1mwandb\u001b[0m: \tn: 0.0001\n",
            "\u001b[34m\u001b[1mwandb\u001b[0m: \tneuron: 64\n",
            "\u001b[34m\u001b[1mwandb\u001b[0m: \toptimizer: adam\n",
            "\u001b[34m\u001b[1mwandb\u001b[0m: \toutAct: softmax\n",
            "\u001b[34m\u001b[1mwandb\u001b[0m: \u001b[33mWARNING\u001b[0m Ignored wandb.init() arg project when running a sweep.\n"
          ]
        },
        {
          "output_type": "display_data",
          "data": {
            "text/plain": [
              "<IPython.core.display.HTML object>"
            ],
            "text/html": [
              "Tracking run with wandb version 0.16.4"
            ]
          },
          "metadata": {}
        },
        {
          "output_type": "display_data",
          "data": {
            "text/plain": [
              "<IPython.core.display.HTML object>"
            ],
            "text/html": [
              "Run data is saved locally in <code>/content/wandb/run-20240316_184440-wpp1zsde</code>"
            ]
          },
          "metadata": {}
        },
        {
          "output_type": "display_data",
          "data": {
            "text/plain": [
              "<IPython.core.display.HTML object>"
            ],
            "text/html": [
              "Syncing run <strong><a href='https://wandb.ai/cs23m015/DL-Assignment-1/runs/wpp1zsde' target=\"_blank\">wild-sweep-23</a></strong> to <a href='https://wandb.ai/cs23m015/DL-Assignment-1' target=\"_blank\">Weights & Biases</a> (<a href='https://wandb.me/run' target=\"_blank\">docs</a>)<br/>Sweep page: <a href='https://wandb.ai/cs23m015/DL-Assignment-1/sweeps/lfeqafjm' target=\"_blank\">https://wandb.ai/cs23m015/DL-Assignment-1/sweeps/lfeqafjm</a>"
            ]
          },
          "metadata": {}
        },
        {
          "output_type": "display_data",
          "data": {
            "text/plain": [
              "<IPython.core.display.HTML object>"
            ],
            "text/html": [
              " View project at <a href='https://wandb.ai/cs23m015/DL-Assignment-1' target=\"_blank\">https://wandb.ai/cs23m015/DL-Assignment-1</a>"
            ]
          },
          "metadata": {}
        },
        {
          "output_type": "display_data",
          "data": {
            "text/plain": [
              "<IPython.core.display.HTML object>"
            ],
            "text/html": [
              " View sweep at <a href='https://wandb.ai/cs23m015/DL-Assignment-1/sweeps/lfeqafjm' target=\"_blank\">https://wandb.ai/cs23m015/DL-Assignment-1/sweeps/lfeqafjm</a>"
            ]
          },
          "metadata": {}
        },
        {
          "output_type": "display_data",
          "data": {
            "text/plain": [
              "<IPython.core.display.HTML object>"
            ],
            "text/html": [
              " View run at <a href='https://wandb.ai/cs23m015/DL-Assignment-1/runs/wpp1zsde' target=\"_blank\">https://wandb.ai/cs23m015/DL-Assignment-1/runs/wpp1zsde</a>"
            ]
          },
          "metadata": {}
        },
        {
          "output_type": "display_data",
          "data": {
            "text/plain": [
              "VBox(children=(Label(value='0.011 MB of 0.011 MB uploaded\\r'), FloatProgress(value=1.0, max=1.0)))"
            ],
            "application/vnd.jupyter.widget-view+json": {
              "version_major": 2,
              "version_minor": 0,
              "model_id": "88fb1e9ade724603889ce858d4d7574d"
            }
          },
          "metadata": {}
        },
        {
          "output_type": "display_data",
          "data": {
            "text/plain": [
              "<IPython.core.display.HTML object>"
            ],
            "text/html": [
              "<style>\n",
              "    table.wandb td:nth-child(1) { padding: 0 10px; text-align: left ; width: auto;} td:nth-child(2) {text-align: left ; width: 100%}\n",
              "    .wandb-row { display: flex; flex-direction: row; flex-wrap: wrap; justify-content: flex-start; width: 100% }\n",
              "    .wandb-col { display: flex; flex-direction: column; flex-basis: 100%; flex: 1; padding: 10px; }\n",
              "    </style>\n",
              "<div class=\"wandb-row\"><div class=\"wandb-col\"><h3>Run history:</h3><br/><table class=\"wandb\"><tr><td>Accuracy</td><td>▁</td></tr><tr><td>epoch</td><td>▁▂▃▃▄▅▆▆▇█</td></tr><tr><td>training_accuracy</td><td>▁▄▅▆▇▇▇███</td></tr><tr><td>training_loss</td><td>█▅▄▃▂▂▂▁▁▁</td></tr><tr><td>validation_accuracy</td><td>▁▅▆▇▇▇████</td></tr><tr><td>validation_loss</td><td>█▅▃▂▂▂▂▁▁▁</td></tr></table><br/></div><div class=\"wandb-col\"><h3>Run summary:</h3><br/><table class=\"wandb\"><tr><td>Accuracy</td><td>95.83333</td></tr><tr><td>epoch</td><td>10</td></tr><tr><td>training_accuracy</td><td>96.58</td></tr><tr><td>training_loss</td><td>0.17</td></tr><tr><td>validation_accuracy</td><td>95.83</td></tr><tr><td>validation_loss</td><td>0.19</td></tr></table><br/></div></div>"
            ]
          },
          "metadata": {}
        },
        {
          "output_type": "display_data",
          "data": {
            "text/plain": [
              "<IPython.core.display.HTML object>"
            ],
            "text/html": [
              " View run <strong style=\"color:#cdcd00\">wild-sweep-23</strong> at: <a href='https://wandb.ai/cs23m015/DL-Assignment-1/runs/wpp1zsde' target=\"_blank\">https://wandb.ai/cs23m015/DL-Assignment-1/runs/wpp1zsde</a><br/>Synced 4 W&B file(s), 0 media file(s), 0 artifact file(s) and 0 other file(s)"
            ]
          },
          "metadata": {}
        },
        {
          "output_type": "display_data",
          "data": {
            "text/plain": [
              "<IPython.core.display.HTML object>"
            ],
            "text/html": [
              "Find logs at: <code>./wandb/run-20240316_184440-wpp1zsde/logs</code>"
            ]
          },
          "metadata": {}
        },
        {
          "output_type": "stream",
          "name": "stderr",
          "text": [
            "\u001b[34m\u001b[1mwandb\u001b[0m: Agent Starting Run: wk62qfqw with config:\n",
            "\u001b[34m\u001b[1mwandb\u001b[0m: \tactivation: tanh\n",
            "\u001b[34m\u001b[1mwandb\u001b[0m: \talpha: 0\n",
            "\u001b[34m\u001b[1mwandb\u001b[0m: \tbatch: 64\n",
            "\u001b[34m\u001b[1mwandb\u001b[0m: \tbeta: 0.9\n",
            "\u001b[34m\u001b[1mwandb\u001b[0m: \tbeta1: 0.999\n",
            "\u001b[34m\u001b[1mwandb\u001b[0m: \tbeta2: 0.999\n",
            "\u001b[34m\u001b[1mwandb\u001b[0m: \te: 1e-06\n",
            "\u001b[34m\u001b[1mwandb\u001b[0m: \tfn_loss: cross_entropy\n",
            "\u001b[34m\u001b[1mwandb\u001b[0m: \thiddenlayers: 4\n",
            "\u001b[34m\u001b[1mwandb\u001b[0m: \tinitialization: xavier\n",
            "\u001b[34m\u001b[1mwandb\u001b[0m: \titer: 10\n",
            "\u001b[34m\u001b[1mwandb\u001b[0m: \tmom: 0.9\n",
            "\u001b[34m\u001b[1mwandb\u001b[0m: \tn: 0.0001\n",
            "\u001b[34m\u001b[1mwandb\u001b[0m: \tneuron: 64\n",
            "\u001b[34m\u001b[1mwandb\u001b[0m: \toptimizer: Nadam\n",
            "\u001b[34m\u001b[1mwandb\u001b[0m: \toutAct: softmax\n",
            "\u001b[34m\u001b[1mwandb\u001b[0m: \u001b[33mWARNING\u001b[0m Ignored wandb.init() arg project when running a sweep.\n"
          ]
        },
        {
          "output_type": "display_data",
          "data": {
            "text/plain": [
              "<IPython.core.display.HTML object>"
            ],
            "text/html": [
              "Tracking run with wandb version 0.16.4"
            ]
          },
          "metadata": {}
        },
        {
          "output_type": "display_data",
          "data": {
            "text/plain": [
              "<IPython.core.display.HTML object>"
            ],
            "text/html": [
              "Run data is saved locally in <code>/content/wandb/run-20240316_184729-wk62qfqw</code>"
            ]
          },
          "metadata": {}
        },
        {
          "output_type": "display_data",
          "data": {
            "text/plain": [
              "<IPython.core.display.HTML object>"
            ],
            "text/html": [
              "Syncing run <strong><a href='https://wandb.ai/cs23m015/DL-Assignment-1/runs/wk62qfqw' target=\"_blank\">sunny-sweep-24</a></strong> to <a href='https://wandb.ai/cs23m015/DL-Assignment-1' target=\"_blank\">Weights & Biases</a> (<a href='https://wandb.me/run' target=\"_blank\">docs</a>)<br/>Sweep page: <a href='https://wandb.ai/cs23m015/DL-Assignment-1/sweeps/lfeqafjm' target=\"_blank\">https://wandb.ai/cs23m015/DL-Assignment-1/sweeps/lfeqafjm</a>"
            ]
          },
          "metadata": {}
        },
        {
          "output_type": "display_data",
          "data": {
            "text/plain": [
              "<IPython.core.display.HTML object>"
            ],
            "text/html": [
              " View project at <a href='https://wandb.ai/cs23m015/DL-Assignment-1' target=\"_blank\">https://wandb.ai/cs23m015/DL-Assignment-1</a>"
            ]
          },
          "metadata": {}
        },
        {
          "output_type": "display_data",
          "data": {
            "text/plain": [
              "<IPython.core.display.HTML object>"
            ],
            "text/html": [
              " View sweep at <a href='https://wandb.ai/cs23m015/DL-Assignment-1/sweeps/lfeqafjm' target=\"_blank\">https://wandb.ai/cs23m015/DL-Assignment-1/sweeps/lfeqafjm</a>"
            ]
          },
          "metadata": {}
        },
        {
          "output_type": "display_data",
          "data": {
            "text/plain": [
              "<IPython.core.display.HTML object>"
            ],
            "text/html": [
              " View run at <a href='https://wandb.ai/cs23m015/DL-Assignment-1/runs/wk62qfqw' target=\"_blank\">https://wandb.ai/cs23m015/DL-Assignment-1/runs/wk62qfqw</a>"
            ]
          },
          "metadata": {}
        },
        {
          "output_type": "stream",
          "name": "stdout",
          "text": [
            "Iteration Number: 1 Train Loss : 0.7160303166622553\n",
            "Iteration Number: 1 Validation Loss : 0.6942851929819744\n",
            "Iteration Number: 1 Train Accurcy : 85.12962962962963\n",
            "Iteration Number: 1 Validaion Accuracy: 85.86666666666667\n",
            "Iteration Number: 2 Train Loss : 0.4728313805496562\n",
            "Iteration Number: 2 Validation Loss : 0.4480555373606027\n",
            "Iteration Number: 2 Train Accurcy : 90.28703703703704\n",
            "Iteration Number: 2 Validaion Accuracy: 90.83333333333333\n",
            "Iteration Number: 3 Train Loss : 0.3717928695808239\n",
            "Iteration Number: 3 Validation Loss : 0.3484889956424315\n",
            "Iteration Number: 3 Train Accurcy : 92.22037037037038\n",
            "Iteration Number: 3 Validaion Accuracy: 92.66666666666666\n",
            "Iteration Number: 4 Train Loss : 0.3094655374357062\n",
            "Iteration Number: 4 Validation Loss : 0.2963145639548691\n",
            "Iteration Number: 4 Train Accurcy : 93.52037037037036\n",
            "Iteration Number: 4 Validaion Accuracy: 93.68333333333332\n",
            "Iteration Number: 5 Train Loss : 0.26904108822904244\n",
            "Iteration Number: 5 Validation Loss : 0.2654572735617366\n",
            "Iteration Number: 5 Train Accurcy : 94.38703703703703\n",
            "Iteration Number: 5 Validaion Accuracy: 94.39999999999999\n",
            "Iteration Number: 6 Train Loss : 0.23934763876569282\n",
            "Iteration Number: 6 Validation Loss : 0.2419438018351809\n",
            "Iteration Number: 6 Train Accurcy : 95.09444444444445\n",
            "Iteration Number: 6 Validaion Accuracy: 94.78333333333333\n",
            "Iteration Number: 7 Train Loss : 0.2162242443544081\n",
            "Iteration Number: 7 Validation Loss : 0.22455490521985533\n",
            "Iteration Number: 7 Train Accurcy : 95.57592592592593\n",
            "Iteration Number: 7 Validaion Accuracy: 95.18333333333334\n",
            "Iteration Number: 8 Train Loss : 0.19733039021593202\n",
            "Iteration Number: 8 Validation Loss : 0.21154600840890617\n",
            "Iteration Number: 8 Train Accurcy : 95.94444444444444\n",
            "Iteration Number: 8 Validaion Accuracy: 95.56666666666666\n",
            "Iteration Number: 9 Train Loss : 0.18174288315972714\n",
            "Iteration Number: 9 Validation Loss : 0.20096286252033557\n",
            "Iteration Number: 9 Train Accurcy : 96.29629629629629\n",
            "Iteration Number: 9 Validaion Accuracy: 95.66666666666667\n",
            "Iteration Number: 10 Train Loss : 0.16826578052831065\n",
            "Iteration Number: 10 Validation Loss : 0.19202232652013276\n",
            "Iteration Number: 10 Train Accurcy : 96.60925925925926\n",
            "Iteration Number: 10 Validaion Accuracy: 95.8\n"
          ]
        },
        {
          "output_type": "display_data",
          "data": {
            "text/plain": [
              "VBox(children=(Label(value='0.001 MB of 0.010 MB uploaded\\r'), FloatProgress(value=0.1051556420233463, max=1.0…"
            ],
            "application/vnd.jupyter.widget-view+json": {
              "version_major": 2,
              "version_minor": 0,
              "model_id": "3b54541c955a4fad9b6c6506e4aa55b5"
            }
          },
          "metadata": {}
        },
        {
          "output_type": "display_data",
          "data": {
            "text/plain": [
              "<IPython.core.display.HTML object>"
            ],
            "text/html": [
              "<style>\n",
              "    table.wandb td:nth-child(1) { padding: 0 10px; text-align: left ; width: auto;} td:nth-child(2) {text-align: left ; width: 100%}\n",
              "    .wandb-row { display: flex; flex-direction: row; flex-wrap: wrap; justify-content: flex-start; width: 100% }\n",
              "    .wandb-col { display: flex; flex-direction: column; flex-basis: 100%; flex: 1; padding: 10px; }\n",
              "    </style>\n",
              "<div class=\"wandb-row\"><div class=\"wandb-col\"><h3>Run history:</h3><br/><table class=\"wandb\"><tr><td>Accuracy</td><td>▁</td></tr><tr><td>epoch</td><td>▁▂▃▃▄▅▆▆▇█</td></tr><tr><td>training_accuracy</td><td>▁▄▅▆▇▇▇███</td></tr><tr><td>training_loss</td><td>█▅▄▃▂▂▂▁▁▁</td></tr><tr><td>validation_accuracy</td><td>▁▄▆▇▇▇████</td></tr><tr><td>validation_loss</td><td>█▅▃▃▂▂▁▁▁▁</td></tr></table><br/></div><div class=\"wandb-col\"><h3>Run summary:</h3><br/><table class=\"wandb\"><tr><td>Accuracy</td><td>95.8</td></tr><tr><td>epoch</td><td>10</td></tr><tr><td>training_accuracy</td><td>96.61</td></tr><tr><td>training_loss</td><td>0.17</td></tr><tr><td>validation_accuracy</td><td>95.8</td></tr><tr><td>validation_loss</td><td>0.19</td></tr></table><br/></div></div>"
            ]
          },
          "metadata": {}
        },
        {
          "output_type": "display_data",
          "data": {
            "text/plain": [
              "<IPython.core.display.HTML object>"
            ],
            "text/html": [
              " View run <strong style=\"color:#cdcd00\">sunny-sweep-24</strong> at: <a href='https://wandb.ai/cs23m015/DL-Assignment-1/runs/wk62qfqw' target=\"_blank\">https://wandb.ai/cs23m015/DL-Assignment-1/runs/wk62qfqw</a><br/>Synced 5 W&B file(s), 0 media file(s), 0 artifact file(s) and 0 other file(s)"
            ]
          },
          "metadata": {}
        },
        {
          "output_type": "display_data",
          "data": {
            "text/plain": [
              "<IPython.core.display.HTML object>"
            ],
            "text/html": [
              "Find logs at: <code>./wandb/run-20240316_184729-wk62qfqw/logs</code>"
            ]
          },
          "metadata": {}
        },
        {
          "output_type": "stream",
          "name": "stderr",
          "text": [
            "\u001b[34m\u001b[1mwandb\u001b[0m: Sweep Agent: Waiting for job.\n",
            "\u001b[34m\u001b[1mwandb\u001b[0m: Job received.\n",
            "\u001b[34m\u001b[1mwandb\u001b[0m: Agent Starting Run: ig669ybo with config:\n",
            "\u001b[34m\u001b[1mwandb\u001b[0m: \tactivation: relu\n",
            "\u001b[34m\u001b[1mwandb\u001b[0m: \talpha: 0\n",
            "\u001b[34m\u001b[1mwandb\u001b[0m: \tbatch: 32\n",
            "\u001b[34m\u001b[1mwandb\u001b[0m: \tbeta: 0.9\n",
            "\u001b[34m\u001b[1mwandb\u001b[0m: \tbeta1: 0.999\n",
            "\u001b[34m\u001b[1mwandb\u001b[0m: \tbeta2: 0.999\n",
            "\u001b[34m\u001b[1mwandb\u001b[0m: \te: 1e-06\n",
            "\u001b[34m\u001b[1mwandb\u001b[0m: \tfn_loss: cross_entropy\n",
            "\u001b[34m\u001b[1mwandb\u001b[0m: \thiddenlayers: 4\n",
            "\u001b[34m\u001b[1mwandb\u001b[0m: \tinitialization: xavier\n",
            "\u001b[34m\u001b[1mwandb\u001b[0m: \titer: 10\n",
            "\u001b[34m\u001b[1mwandb\u001b[0m: \tmom: 0.9\n",
            "\u001b[34m\u001b[1mwandb\u001b[0m: \tn: 0.001\n",
            "\u001b[34m\u001b[1mwandb\u001b[0m: \tneuron: 32\n",
            "\u001b[34m\u001b[1mwandb\u001b[0m: \toptimizer: rmsProp\n",
            "\u001b[34m\u001b[1mwandb\u001b[0m: \toutAct: softmax\n",
            "\u001b[34m\u001b[1mwandb\u001b[0m: \u001b[33mWARNING\u001b[0m Ignored wandb.init() arg project when running a sweep.\n"
          ]
        },
        {
          "output_type": "display_data",
          "data": {
            "text/plain": [
              "<IPython.core.display.HTML object>"
            ],
            "text/html": [
              "Tracking run with wandb version 0.16.4"
            ]
          },
          "metadata": {}
        },
        {
          "output_type": "display_data",
          "data": {
            "text/plain": [
              "<IPython.core.display.HTML object>"
            ],
            "text/html": [
              "Run data is saved locally in <code>/content/wandb/run-20240316_185030-ig669ybo</code>"
            ]
          },
          "metadata": {}
        },
        {
          "output_type": "display_data",
          "data": {
            "text/plain": [
              "<IPython.core.display.HTML object>"
            ],
            "text/html": [
              "Syncing run <strong><a href='https://wandb.ai/cs23m015/DL-Assignment-1/runs/ig669ybo' target=\"_blank\">genial-sweep-25</a></strong> to <a href='https://wandb.ai/cs23m015/DL-Assignment-1' target=\"_blank\">Weights & Biases</a> (<a href='https://wandb.me/run' target=\"_blank\">docs</a>)<br/>Sweep page: <a href='https://wandb.ai/cs23m015/DL-Assignment-1/sweeps/lfeqafjm' target=\"_blank\">https://wandb.ai/cs23m015/DL-Assignment-1/sweeps/lfeqafjm</a>"
            ]
          },
          "metadata": {}
        },
        {
          "output_type": "display_data",
          "data": {
            "text/plain": [
              "<IPython.core.display.HTML object>"
            ],
            "text/html": [
              " View project at <a href='https://wandb.ai/cs23m015/DL-Assignment-1' target=\"_blank\">https://wandb.ai/cs23m015/DL-Assignment-1</a>"
            ]
          },
          "metadata": {}
        },
        {
          "output_type": "display_data",
          "data": {
            "text/plain": [
              "<IPython.core.display.HTML object>"
            ],
            "text/html": [
              " View sweep at <a href='https://wandb.ai/cs23m015/DL-Assignment-1/sweeps/lfeqafjm' target=\"_blank\">https://wandb.ai/cs23m015/DL-Assignment-1/sweeps/lfeqafjm</a>"
            ]
          },
          "metadata": {}
        },
        {
          "output_type": "display_data",
          "data": {
            "text/plain": [
              "<IPython.core.display.HTML object>"
            ],
            "text/html": [
              " View run at <a href='https://wandb.ai/cs23m015/DL-Assignment-1/runs/ig669ybo' target=\"_blank\">https://wandb.ai/cs23m015/DL-Assignment-1/runs/ig669ybo</a>"
            ]
          },
          "metadata": {}
        },
        {
          "output_type": "display_data",
          "data": {
            "text/plain": [
              "VBox(children=(Label(value='0.011 MB of 0.011 MB uploaded\\r'), FloatProgress(value=1.0, max=1.0)))"
            ],
            "application/vnd.jupyter.widget-view+json": {
              "version_major": 2,
              "version_minor": 0,
              "model_id": "a1e4f28020de454e8359a7cd2623452f"
            }
          },
          "metadata": {}
        },
        {
          "output_type": "display_data",
          "data": {
            "text/plain": [
              "<IPython.core.display.HTML object>"
            ],
            "text/html": [
              "<style>\n",
              "    table.wandb td:nth-child(1) { padding: 0 10px; text-align: left ; width: auto;} td:nth-child(2) {text-align: left ; width: 100%}\n",
              "    .wandb-row { display: flex; flex-direction: row; flex-wrap: wrap; justify-content: flex-start; width: 100% }\n",
              "    .wandb-col { display: flex; flex-direction: column; flex-basis: 100%; flex: 1; padding: 10px; }\n",
              "    </style>\n",
              "<div class=\"wandb-row\"><div class=\"wandb-col\"><h3>Run history:</h3><br/><table class=\"wandb\"><tr><td>Accuracy</td><td>▁</td></tr><tr><td>epoch</td><td>▁▂▃▃▄▅▆▆▇█</td></tr><tr><td>training_accuracy</td><td>▁▅▆▆▇▇▇███</td></tr><tr><td>training_loss</td><td>█▄▃▃▂▂▁▁▁▁</td></tr><tr><td>validation_accuracy</td><td>▁▅▆▇▇▇████</td></tr><tr><td>validation_loss</td><td>█▄▃▃▂▂▂▁▁▁</td></tr></table><br/></div><div class=\"wandb-col\"><h3>Run summary:</h3><br/><table class=\"wandb\"><tr><td>Accuracy</td><td>92.9</td></tr><tr><td>epoch</td><td>10</td></tr><tr><td>training_accuracy</td><td>92.65</td></tr><tr><td>training_loss</td><td>0.38</td></tr><tr><td>validation_accuracy</td><td>92.9</td></tr><tr><td>validation_loss</td><td>0.36</td></tr></table><br/></div></div>"
            ]
          },
          "metadata": {}
        },
        {
          "output_type": "display_data",
          "data": {
            "text/plain": [
              "<IPython.core.display.HTML object>"
            ],
            "text/html": [
              " View run <strong style=\"color:#cdcd00\">genial-sweep-25</strong> at: <a href='https://wandb.ai/cs23m015/DL-Assignment-1/runs/ig669ybo' target=\"_blank\">https://wandb.ai/cs23m015/DL-Assignment-1/runs/ig669ybo</a><br/>Synced 4 W&B file(s), 0 media file(s), 0 artifact file(s) and 0 other file(s)"
            ]
          },
          "metadata": {}
        },
        {
          "output_type": "display_data",
          "data": {
            "text/plain": [
              "<IPython.core.display.HTML object>"
            ],
            "text/html": [
              "Find logs at: <code>./wandb/run-20240316_185030-ig669ybo/logs</code>"
            ]
          },
          "metadata": {}
        },
        {
          "output_type": "stream",
          "name": "stderr",
          "text": [
            "\u001b[34m\u001b[1mwandb\u001b[0m: Agent Starting Run: b5ioeatg with config:\n",
            "\u001b[34m\u001b[1mwandb\u001b[0m: \tactivation: relu\n",
            "\u001b[34m\u001b[1mwandb\u001b[0m: \talpha: 0\n",
            "\u001b[34m\u001b[1mwandb\u001b[0m: \tbatch: 32\n",
            "\u001b[34m\u001b[1mwandb\u001b[0m: \tbeta: 0.9\n",
            "\u001b[34m\u001b[1mwandb\u001b[0m: \tbeta1: 0.999\n",
            "\u001b[34m\u001b[1mwandb\u001b[0m: \tbeta2: 0.999\n",
            "\u001b[34m\u001b[1mwandb\u001b[0m: \te: 1e-06\n",
            "\u001b[34m\u001b[1mwandb\u001b[0m: \tfn_loss: cross_entropy\n",
            "\u001b[34m\u001b[1mwandb\u001b[0m: \thiddenlayers: 4\n",
            "\u001b[34m\u001b[1mwandb\u001b[0m: \tinitialization: xavier\n",
            "\u001b[34m\u001b[1mwandb\u001b[0m: \titer: 10\n",
            "\u001b[34m\u001b[1mwandb\u001b[0m: \tmom: 0.9\n",
            "\u001b[34m\u001b[1mwandb\u001b[0m: \tn: 0.001\n",
            "\u001b[34m\u001b[1mwandb\u001b[0m: \tneuron: 32\n",
            "\u001b[34m\u001b[1mwandb\u001b[0m: \toptimizer: adam\n",
            "\u001b[34m\u001b[1mwandb\u001b[0m: \toutAct: softmax\n",
            "\u001b[34m\u001b[1mwandb\u001b[0m: \u001b[33mWARNING\u001b[0m Ignored wandb.init() arg project when running a sweep.\n"
          ]
        },
        {
          "output_type": "display_data",
          "data": {
            "text/plain": [
              "<IPython.core.display.HTML object>"
            ],
            "text/html": [
              "Tracking run with wandb version 0.16.4"
            ]
          },
          "metadata": {}
        },
        {
          "output_type": "display_data",
          "data": {
            "text/plain": [
              "<IPython.core.display.HTML object>"
            ],
            "text/html": [
              "Run data is saved locally in <code>/content/wandb/run-20240316_185242-b5ioeatg</code>"
            ]
          },
          "metadata": {}
        },
        {
          "output_type": "display_data",
          "data": {
            "text/plain": [
              "<IPython.core.display.HTML object>"
            ],
            "text/html": [
              "Syncing run <strong><a href='https://wandb.ai/cs23m015/DL-Assignment-1/runs/b5ioeatg' target=\"_blank\">dashing-sweep-26</a></strong> to <a href='https://wandb.ai/cs23m015/DL-Assignment-1' target=\"_blank\">Weights & Biases</a> (<a href='https://wandb.me/run' target=\"_blank\">docs</a>)<br/>Sweep page: <a href='https://wandb.ai/cs23m015/DL-Assignment-1/sweeps/lfeqafjm' target=\"_blank\">https://wandb.ai/cs23m015/DL-Assignment-1/sweeps/lfeqafjm</a>"
            ]
          },
          "metadata": {}
        },
        {
          "output_type": "display_data",
          "data": {
            "text/plain": [
              "<IPython.core.display.HTML object>"
            ],
            "text/html": [
              " View project at <a href='https://wandb.ai/cs23m015/DL-Assignment-1' target=\"_blank\">https://wandb.ai/cs23m015/DL-Assignment-1</a>"
            ]
          },
          "metadata": {}
        },
        {
          "output_type": "display_data",
          "data": {
            "text/plain": [
              "<IPython.core.display.HTML object>"
            ],
            "text/html": [
              " View sweep at <a href='https://wandb.ai/cs23m015/DL-Assignment-1/sweeps/lfeqafjm' target=\"_blank\">https://wandb.ai/cs23m015/DL-Assignment-1/sweeps/lfeqafjm</a>"
            ]
          },
          "metadata": {}
        },
        {
          "output_type": "display_data",
          "data": {
            "text/plain": [
              "<IPython.core.display.HTML object>"
            ],
            "text/html": [
              " View run at <a href='https://wandb.ai/cs23m015/DL-Assignment-1/runs/b5ioeatg' target=\"_blank\">https://wandb.ai/cs23m015/DL-Assignment-1/runs/b5ioeatg</a>"
            ]
          },
          "metadata": {}
        },
        {
          "output_type": "display_data",
          "data": {
            "text/plain": [
              "VBox(children=(Label(value='0.011 MB of 0.011 MB uploaded\\r'), FloatProgress(value=1.0, max=1.0)))"
            ],
            "application/vnd.jupyter.widget-view+json": {
              "version_major": 2,
              "version_minor": 0,
              "model_id": "f2d0fbe8ae13499396d48d067ffcef66"
            }
          },
          "metadata": {}
        },
        {
          "output_type": "display_data",
          "data": {
            "text/plain": [
              "<IPython.core.display.HTML object>"
            ],
            "text/html": [
              "<style>\n",
              "    table.wandb td:nth-child(1) { padding: 0 10px; text-align: left ; width: auto;} td:nth-child(2) {text-align: left ; width: 100%}\n",
              "    .wandb-row { display: flex; flex-direction: row; flex-wrap: wrap; justify-content: flex-start; width: 100% }\n",
              "    .wandb-col { display: flex; flex-direction: column; flex-basis: 100%; flex: 1; padding: 10px; }\n",
              "    </style>\n",
              "<div class=\"wandb-row\"><div class=\"wandb-col\"><h3>Run history:</h3><br/><table class=\"wandb\"><tr><td>Accuracy</td><td>▁</td></tr><tr><td>epoch</td><td>▁▂▃▃▄▅▆▆▇█</td></tr><tr><td>training_accuracy</td><td>▁▄▆▆▇▇▇▇▇█</td></tr><tr><td>training_loss</td><td>█▅▃▃▂▁▁▁▂▁</td></tr><tr><td>validation_accuracy</td><td>▁▅▆▆▇██▇▇█</td></tr><tr><td>validation_loss</td><td>█▄▃▃▂▂▂▂▃▁</td></tr></table><br/></div><div class=\"wandb-col\"><h3>Run summary:</h3><br/><table class=\"wandb\"><tr><td>Accuracy</td><td>96.23333</td></tr><tr><td>epoch</td><td>10</td></tr><tr><td>training_accuracy</td><td>97.27</td></tr><tr><td>training_loss</td><td>0.13</td></tr><tr><td>validation_accuracy</td><td>96.23</td></tr><tr><td>validation_loss</td><td>0.17</td></tr></table><br/></div></div>"
            ]
          },
          "metadata": {}
        },
        {
          "output_type": "display_data",
          "data": {
            "text/plain": [
              "<IPython.core.display.HTML object>"
            ],
            "text/html": [
              " View run <strong style=\"color:#cdcd00\">dashing-sweep-26</strong> at: <a href='https://wandb.ai/cs23m015/DL-Assignment-1/runs/b5ioeatg' target=\"_blank\">https://wandb.ai/cs23m015/DL-Assignment-1/runs/b5ioeatg</a><br/>Synced 4 W&B file(s), 0 media file(s), 0 artifact file(s) and 0 other file(s)"
            ]
          },
          "metadata": {}
        },
        {
          "output_type": "display_data",
          "data": {
            "text/plain": [
              "<IPython.core.display.HTML object>"
            ],
            "text/html": [
              "Find logs at: <code>./wandb/run-20240316_185242-b5ioeatg/logs</code>"
            ]
          },
          "metadata": {}
        },
        {
          "output_type": "stream",
          "name": "stderr",
          "text": [
            "\u001b[34m\u001b[1mwandb\u001b[0m: Agent Starting Run: eewj063i with config:\n",
            "\u001b[34m\u001b[1mwandb\u001b[0m: \tactivation: relu\n",
            "\u001b[34m\u001b[1mwandb\u001b[0m: \talpha: 0\n",
            "\u001b[34m\u001b[1mwandb\u001b[0m: \tbatch: 32\n",
            "\u001b[34m\u001b[1mwandb\u001b[0m: \tbeta: 0.9\n",
            "\u001b[34m\u001b[1mwandb\u001b[0m: \tbeta1: 0.999\n",
            "\u001b[34m\u001b[1mwandb\u001b[0m: \tbeta2: 0.999\n",
            "\u001b[34m\u001b[1mwandb\u001b[0m: \te: 1e-06\n",
            "\u001b[34m\u001b[1mwandb\u001b[0m: \tfn_loss: cross_entropy\n",
            "\u001b[34m\u001b[1mwandb\u001b[0m: \thiddenlayers: 4\n",
            "\u001b[34m\u001b[1mwandb\u001b[0m: \tinitialization: xavier\n",
            "\u001b[34m\u001b[1mwandb\u001b[0m: \titer: 10\n",
            "\u001b[34m\u001b[1mwandb\u001b[0m: \tmom: 0.9\n",
            "\u001b[34m\u001b[1mwandb\u001b[0m: \tn: 0.001\n",
            "\u001b[34m\u001b[1mwandb\u001b[0m: \tneuron: 32\n",
            "\u001b[34m\u001b[1mwandb\u001b[0m: \toptimizer: Nadam\n",
            "\u001b[34m\u001b[1mwandb\u001b[0m: \toutAct: softmax\n",
            "\u001b[34m\u001b[1mwandb\u001b[0m: \u001b[33mWARNING\u001b[0m Ignored wandb.init() arg project when running a sweep.\n"
          ]
        },
        {
          "output_type": "display_data",
          "data": {
            "text/plain": [
              "<IPython.core.display.HTML object>"
            ],
            "text/html": [
              "Tracking run with wandb version 0.16.4"
            ]
          },
          "metadata": {}
        },
        {
          "output_type": "display_data",
          "data": {
            "text/plain": [
              "<IPython.core.display.HTML object>"
            ],
            "text/html": [
              "Run data is saved locally in <code>/content/wandb/run-20240316_185459-eewj063i</code>"
            ]
          },
          "metadata": {}
        },
        {
          "output_type": "display_data",
          "data": {
            "text/plain": [
              "<IPython.core.display.HTML object>"
            ],
            "text/html": [
              "Syncing run <strong><a href='https://wandb.ai/cs23m015/DL-Assignment-1/runs/eewj063i' target=\"_blank\">wobbly-sweep-27</a></strong> to <a href='https://wandb.ai/cs23m015/DL-Assignment-1' target=\"_blank\">Weights & Biases</a> (<a href='https://wandb.me/run' target=\"_blank\">docs</a>)<br/>Sweep page: <a href='https://wandb.ai/cs23m015/DL-Assignment-1/sweeps/lfeqafjm' target=\"_blank\">https://wandb.ai/cs23m015/DL-Assignment-1/sweeps/lfeqafjm</a>"
            ]
          },
          "metadata": {}
        },
        {
          "output_type": "display_data",
          "data": {
            "text/plain": [
              "<IPython.core.display.HTML object>"
            ],
            "text/html": [
              " View project at <a href='https://wandb.ai/cs23m015/DL-Assignment-1' target=\"_blank\">https://wandb.ai/cs23m015/DL-Assignment-1</a>"
            ]
          },
          "metadata": {}
        },
        {
          "output_type": "display_data",
          "data": {
            "text/plain": [
              "<IPython.core.display.HTML object>"
            ],
            "text/html": [
              " View sweep at <a href='https://wandb.ai/cs23m015/DL-Assignment-1/sweeps/lfeqafjm' target=\"_blank\">https://wandb.ai/cs23m015/DL-Assignment-1/sweeps/lfeqafjm</a>"
            ]
          },
          "metadata": {}
        },
        {
          "output_type": "display_data",
          "data": {
            "text/plain": [
              "<IPython.core.display.HTML object>"
            ],
            "text/html": [
              " View run at <a href='https://wandb.ai/cs23m015/DL-Assignment-1/runs/eewj063i' target=\"_blank\">https://wandb.ai/cs23m015/DL-Assignment-1/runs/eewj063i</a>"
            ]
          },
          "metadata": {}
        },
        {
          "output_type": "stream",
          "name": "stdout",
          "text": [
            "Iteration Number: 1 Train Loss : 0.40425839933631674\n",
            "Iteration Number: 1 Validation Loss : 0.3727581018043322\n",
            "Iteration Number: 1 Train Accurcy : 91.99444444444444\n",
            "Iteration Number: 1 Validaion Accuracy: 92.63333333333334\n",
            "Iteration Number: 2 Train Loss : 0.29429115206970213\n",
            "Iteration Number: 2 Validation Loss : 0.2816288625894205\n",
            "Iteration Number: 2 Train Accurcy : 94.06666666666666\n",
            "Iteration Number: 2 Validaion Accuracy: 94.05\n",
            "Iteration Number: 3 Train Loss : 0.24027251308765368\n",
            "Iteration Number: 3 Validation Loss : 0.25012334322038343\n",
            "Iteration Number: 3 Train Accurcy : 95.17777777777778\n",
            "Iteration Number: 3 Validaion Accuracy: 94.88333333333333\n",
            "Iteration Number: 4 Train Loss : 0.20294116398551704\n",
            "Iteration Number: 4 Validation Loss : 0.2139643396236318\n",
            "Iteration Number: 4 Train Accurcy : 95.89444444444445\n",
            "Iteration Number: 4 Validaion Accuracy: 95.65\n",
            "Iteration Number: 5 Train Loss : 0.19218654750639727\n",
            "Iteration Number: 5 Validation Loss : 0.21352228193497255\n",
            "Iteration Number: 5 Train Accurcy : 96.05185185185185\n",
            "Iteration Number: 5 Validaion Accuracy: 95.39999999999999\n",
            "Iteration Number: 6 Train Loss : 0.16181750750198065\n",
            "Iteration Number: 6 Validation Loss : 0.1945096775311269\n",
            "Iteration Number: 6 Train Accurcy : 96.73148148148148\n",
            "Iteration Number: 6 Validaion Accuracy: 95.98333333333333\n",
            "Iteration Number: 7 Train Loss : 0.14836361389492636\n",
            "Iteration Number: 7 Validation Loss : 0.18621847493770682\n",
            "Iteration Number: 7 Train Accurcy : 96.95370370370371\n",
            "Iteration Number: 7 Validaion Accuracy: 96.21666666666667\n",
            "Iteration Number: 8 Train Loss : 0.1413423547216628\n",
            "Iteration Number: 8 Validation Loss : 0.18673587762792257\n",
            "Iteration Number: 8 Train Accurcy : 96.98518518518519\n",
            "Iteration Number: 8 Validaion Accuracy: 95.91666666666666\n",
            "Iteration Number: 9 Train Loss : 0.1315658068866217\n",
            "Iteration Number: 9 Validation Loss : 0.18269293844697818\n",
            "Iteration Number: 9 Train Accurcy : 97.24259259259259\n",
            "Iteration Number: 9 Validaion Accuracy: 96.31666666666666\n",
            "Iteration Number: 10 Train Loss : 0.125690248565765\n",
            "Iteration Number: 10 Validation Loss : 0.1850146166819935\n",
            "Iteration Number: 10 Train Accurcy : 97.3462962962963\n",
            "Iteration Number: 10 Validaion Accuracy: 96.38333333333333\n"
          ]
        },
        {
          "output_type": "display_data",
          "data": {
            "text/plain": [
              "VBox(children=(Label(value='0.001 MB of 0.001 MB uploaded\\r'), FloatProgress(value=1.0, max=1.0)))"
            ],
            "application/vnd.jupyter.widget-view+json": {
              "version_major": 2,
              "version_minor": 0,
              "model_id": "2d3785d81ed24a039059343e70f41da3"
            }
          },
          "metadata": {}
        },
        {
          "output_type": "display_data",
          "data": {
            "text/plain": [
              "<IPython.core.display.HTML object>"
            ],
            "text/html": [
              "<style>\n",
              "    table.wandb td:nth-child(1) { padding: 0 10px; text-align: left ; width: auto;} td:nth-child(2) {text-align: left ; width: 100%}\n",
              "    .wandb-row { display: flex; flex-direction: row; flex-wrap: wrap; justify-content: flex-start; width: 100% }\n",
              "    .wandb-col { display: flex; flex-direction: column; flex-basis: 100%; flex: 1; padding: 10px; }\n",
              "    </style>\n",
              "<div class=\"wandb-row\"><div class=\"wandb-col\"><h3>Run history:</h3><br/><table class=\"wandb\"><tr><td>Accuracy</td><td>▁</td></tr><tr><td>epoch</td><td>▁▂▃▃▄▅▆▆▇█</td></tr><tr><td>training_accuracy</td><td>▁▄▅▆▆▇▇███</td></tr><tr><td>training_loss</td><td>█▅▄▃▃▂▂▁▁▁</td></tr><tr><td>validation_accuracy</td><td>▁▄▅▇▆▇█▇██</td></tr><tr><td>validation_loss</td><td>█▅▄▂▂▁▁▁▁▁</td></tr></table><br/></div><div class=\"wandb-col\"><h3>Run summary:</h3><br/><table class=\"wandb\"><tr><td>Accuracy</td><td>96.38333</td></tr><tr><td>epoch</td><td>10</td></tr><tr><td>training_accuracy</td><td>97.35</td></tr><tr><td>training_loss</td><td>0.13</td></tr><tr><td>validation_accuracy</td><td>96.38</td></tr><tr><td>validation_loss</td><td>0.19</td></tr></table><br/></div></div>"
            ]
          },
          "metadata": {}
        },
        {
          "output_type": "display_data",
          "data": {
            "text/plain": [
              "<IPython.core.display.HTML object>"
            ],
            "text/html": [
              " View run <strong style=\"color:#cdcd00\">wobbly-sweep-27</strong> at: <a href='https://wandb.ai/cs23m015/DL-Assignment-1/runs/eewj063i' target=\"_blank\">https://wandb.ai/cs23m015/DL-Assignment-1/runs/eewj063i</a><br/>Synced 5 W&B file(s), 0 media file(s), 0 artifact file(s) and 0 other file(s)"
            ]
          },
          "metadata": {}
        },
        {
          "output_type": "display_data",
          "data": {
            "text/plain": [
              "<IPython.core.display.HTML object>"
            ],
            "text/html": [
              "Find logs at: <code>./wandb/run-20240316_185459-eewj063i/logs</code>"
            ]
          },
          "metadata": {}
        },
        {
          "output_type": "stream",
          "name": "stderr",
          "text": [
            "\u001b[34m\u001b[1mwandb\u001b[0m: Agent Starting Run: rvy6rwds with config:\n",
            "\u001b[34m\u001b[1mwandb\u001b[0m: \tactivation: relu\n",
            "\u001b[34m\u001b[1mwandb\u001b[0m: \talpha: 0\n",
            "\u001b[34m\u001b[1mwandb\u001b[0m: \tbatch: 32\n",
            "\u001b[34m\u001b[1mwandb\u001b[0m: \tbeta: 0.9\n",
            "\u001b[34m\u001b[1mwandb\u001b[0m: \tbeta1: 0.999\n",
            "\u001b[34m\u001b[1mwandb\u001b[0m: \tbeta2: 0.999\n",
            "\u001b[34m\u001b[1mwandb\u001b[0m: \te: 1e-06\n",
            "\u001b[34m\u001b[1mwandb\u001b[0m: \tfn_loss: cross_entropy\n",
            "\u001b[34m\u001b[1mwandb\u001b[0m: \thiddenlayers: 4\n",
            "\u001b[34m\u001b[1mwandb\u001b[0m: \tinitialization: xavier\n",
            "\u001b[34m\u001b[1mwandb\u001b[0m: \titer: 10\n",
            "\u001b[34m\u001b[1mwandb\u001b[0m: \tmom: 0.9\n",
            "\u001b[34m\u001b[1mwandb\u001b[0m: \tn: 0.001\n",
            "\u001b[34m\u001b[1mwandb\u001b[0m: \tneuron: 64\n",
            "\u001b[34m\u001b[1mwandb\u001b[0m: \toptimizer: rmsProp\n",
            "\u001b[34m\u001b[1mwandb\u001b[0m: \toutAct: softmax\n",
            "\u001b[34m\u001b[1mwandb\u001b[0m: \u001b[33mWARNING\u001b[0m Ignored wandb.init() arg project when running a sweep.\n"
          ]
        },
        {
          "output_type": "display_data",
          "data": {
            "text/plain": [
              "<IPython.core.display.HTML object>"
            ],
            "text/html": [
              "Tracking run with wandb version 0.16.4"
            ]
          },
          "metadata": {}
        },
        {
          "output_type": "display_data",
          "data": {
            "text/plain": [
              "<IPython.core.display.HTML object>"
            ],
            "text/html": [
              "Run data is saved locally in <code>/content/wandb/run-20240316_185725-rvy6rwds</code>"
            ]
          },
          "metadata": {}
        },
        {
          "output_type": "display_data",
          "data": {
            "text/plain": [
              "<IPython.core.display.HTML object>"
            ],
            "text/html": [
              "Syncing run <strong><a href='https://wandb.ai/cs23m015/DL-Assignment-1/runs/rvy6rwds' target=\"_blank\">stoic-sweep-28</a></strong> to <a href='https://wandb.ai/cs23m015/DL-Assignment-1' target=\"_blank\">Weights & Biases</a> (<a href='https://wandb.me/run' target=\"_blank\">docs</a>)<br/>Sweep page: <a href='https://wandb.ai/cs23m015/DL-Assignment-1/sweeps/lfeqafjm' target=\"_blank\">https://wandb.ai/cs23m015/DL-Assignment-1/sweeps/lfeqafjm</a>"
            ]
          },
          "metadata": {}
        },
        {
          "output_type": "display_data",
          "data": {
            "text/plain": [
              "<IPython.core.display.HTML object>"
            ],
            "text/html": [
              " View project at <a href='https://wandb.ai/cs23m015/DL-Assignment-1' target=\"_blank\">https://wandb.ai/cs23m015/DL-Assignment-1</a>"
            ]
          },
          "metadata": {}
        },
        {
          "output_type": "display_data",
          "data": {
            "text/plain": [
              "<IPython.core.display.HTML object>"
            ],
            "text/html": [
              " View sweep at <a href='https://wandb.ai/cs23m015/DL-Assignment-1/sweeps/lfeqafjm' target=\"_blank\">https://wandb.ai/cs23m015/DL-Assignment-1/sweeps/lfeqafjm</a>"
            ]
          },
          "metadata": {}
        },
        {
          "output_type": "display_data",
          "data": {
            "text/plain": [
              "<IPython.core.display.HTML object>"
            ],
            "text/html": [
              " View run at <a href='https://wandb.ai/cs23m015/DL-Assignment-1/runs/rvy6rwds' target=\"_blank\">https://wandb.ai/cs23m015/DL-Assignment-1/runs/rvy6rwds</a>"
            ]
          },
          "metadata": {}
        },
        {
          "output_type": "display_data",
          "data": {
            "text/plain": [
              "VBox(children=(Label(value='0.011 MB of 0.011 MB uploaded\\r'), FloatProgress(value=1.0, max=1.0)))"
            ],
            "application/vnd.jupyter.widget-view+json": {
              "version_major": 2,
              "version_minor": 0,
              "model_id": "28ce8d91631a4fe88ed2fc85ef1268a4"
            }
          },
          "metadata": {}
        },
        {
          "output_type": "display_data",
          "data": {
            "text/plain": [
              "<IPython.core.display.HTML object>"
            ],
            "text/html": [
              "<style>\n",
              "    table.wandb td:nth-child(1) { padding: 0 10px; text-align: left ; width: auto;} td:nth-child(2) {text-align: left ; width: 100%}\n",
              "    .wandb-row { display: flex; flex-direction: row; flex-wrap: wrap; justify-content: flex-start; width: 100% }\n",
              "    .wandb-col { display: flex; flex-direction: column; flex-basis: 100%; flex: 1; padding: 10px; }\n",
              "    </style>\n",
              "<div class=\"wandb-row\"><div class=\"wandb-col\"><h3>Run history:</h3><br/><table class=\"wandb\"><tr><td>Accuracy</td><td>▁</td></tr><tr><td>epoch</td><td>▁▂▃▃▄▅▆▆▇█</td></tr><tr><td>training_accuracy</td><td>▁▄▅▆▆▇▇▇██</td></tr><tr><td>training_loss</td><td>█▅▄▃▃▂▂▂▁▁</td></tr><tr><td>validation_accuracy</td><td>▁▄▅▆▇▇▇███</td></tr><tr><td>validation_loss</td><td>█▅▄▃▃▂▂▂▁▁</td></tr></table><br/></div><div class=\"wandb-col\"><h3>Run summary:</h3><br/><table class=\"wandb\"><tr><td>Accuracy</td><td>95.08333</td></tr><tr><td>epoch</td><td>10</td></tr><tr><td>training_accuracy</td><td>95.54</td></tr><tr><td>training_loss</td><td>0.21</td></tr><tr><td>validation_accuracy</td><td>95.08</td></tr><tr><td>validation_loss</td><td>0.22</td></tr></table><br/></div></div>"
            ]
          },
          "metadata": {}
        },
        {
          "output_type": "display_data",
          "data": {
            "text/plain": [
              "<IPython.core.display.HTML object>"
            ],
            "text/html": [
              " View run <strong style=\"color:#cdcd00\">stoic-sweep-28</strong> at: <a href='https://wandb.ai/cs23m015/DL-Assignment-1/runs/rvy6rwds' target=\"_blank\">https://wandb.ai/cs23m015/DL-Assignment-1/runs/rvy6rwds</a><br/>Synced 4 W&B file(s), 0 media file(s), 0 artifact file(s) and 0 other file(s)"
            ]
          },
          "metadata": {}
        },
        {
          "output_type": "display_data",
          "data": {
            "text/plain": [
              "<IPython.core.display.HTML object>"
            ],
            "text/html": [
              "Find logs at: <code>./wandb/run-20240316_185725-rvy6rwds/logs</code>"
            ]
          },
          "metadata": {}
        },
        {
          "output_type": "stream",
          "name": "stderr",
          "text": [
            "\u001b[34m\u001b[1mwandb\u001b[0m: Agent Starting Run: ydqhsvgk with config:\n",
            "\u001b[34m\u001b[1mwandb\u001b[0m: \tactivation: relu\n",
            "\u001b[34m\u001b[1mwandb\u001b[0m: \talpha: 0\n",
            "\u001b[34m\u001b[1mwandb\u001b[0m: \tbatch: 32\n",
            "\u001b[34m\u001b[1mwandb\u001b[0m: \tbeta: 0.9\n",
            "\u001b[34m\u001b[1mwandb\u001b[0m: \tbeta1: 0.999\n",
            "\u001b[34m\u001b[1mwandb\u001b[0m: \tbeta2: 0.999\n",
            "\u001b[34m\u001b[1mwandb\u001b[0m: \te: 1e-06\n",
            "\u001b[34m\u001b[1mwandb\u001b[0m: \tfn_loss: cross_entropy\n",
            "\u001b[34m\u001b[1mwandb\u001b[0m: \thiddenlayers: 4\n",
            "\u001b[34m\u001b[1mwandb\u001b[0m: \tinitialization: xavier\n",
            "\u001b[34m\u001b[1mwandb\u001b[0m: \titer: 10\n",
            "\u001b[34m\u001b[1mwandb\u001b[0m: \tmom: 0.9\n",
            "\u001b[34m\u001b[1mwandb\u001b[0m: \tn: 0.001\n",
            "\u001b[34m\u001b[1mwandb\u001b[0m: \tneuron: 64\n",
            "\u001b[34m\u001b[1mwandb\u001b[0m: \toptimizer: adam\n",
            "\u001b[34m\u001b[1mwandb\u001b[0m: \toutAct: softmax\n",
            "\u001b[34m\u001b[1mwandb\u001b[0m: \u001b[33mWARNING\u001b[0m Ignored wandb.init() arg project when running a sweep.\n"
          ]
        },
        {
          "output_type": "display_data",
          "data": {
            "text/plain": [
              "<IPython.core.display.HTML object>"
            ],
            "text/html": [
              "Tracking run with wandb version 0.16.4"
            ]
          },
          "metadata": {}
        },
        {
          "output_type": "display_data",
          "data": {
            "text/plain": [
              "<IPython.core.display.HTML object>"
            ],
            "text/html": [
              "Run data is saved locally in <code>/content/wandb/run-20240316_190004-ydqhsvgk</code>"
            ]
          },
          "metadata": {}
        },
        {
          "output_type": "display_data",
          "data": {
            "text/plain": [
              "<IPython.core.display.HTML object>"
            ],
            "text/html": [
              "Syncing run <strong><a href='https://wandb.ai/cs23m015/DL-Assignment-1/runs/ydqhsvgk' target=\"_blank\">fast-sweep-29</a></strong> to <a href='https://wandb.ai/cs23m015/DL-Assignment-1' target=\"_blank\">Weights & Biases</a> (<a href='https://wandb.me/run' target=\"_blank\">docs</a>)<br/>Sweep page: <a href='https://wandb.ai/cs23m015/DL-Assignment-1/sweeps/lfeqafjm' target=\"_blank\">https://wandb.ai/cs23m015/DL-Assignment-1/sweeps/lfeqafjm</a>"
            ]
          },
          "metadata": {}
        },
        {
          "output_type": "display_data",
          "data": {
            "text/plain": [
              "<IPython.core.display.HTML object>"
            ],
            "text/html": [
              " View project at <a href='https://wandb.ai/cs23m015/DL-Assignment-1' target=\"_blank\">https://wandb.ai/cs23m015/DL-Assignment-1</a>"
            ]
          },
          "metadata": {}
        },
        {
          "output_type": "display_data",
          "data": {
            "text/plain": [
              "<IPython.core.display.HTML object>"
            ],
            "text/html": [
              " View sweep at <a href='https://wandb.ai/cs23m015/DL-Assignment-1/sweeps/lfeqafjm' target=\"_blank\">https://wandb.ai/cs23m015/DL-Assignment-1/sweeps/lfeqafjm</a>"
            ]
          },
          "metadata": {}
        },
        {
          "output_type": "display_data",
          "data": {
            "text/plain": [
              "<IPython.core.display.HTML object>"
            ],
            "text/html": [
              " View run at <a href='https://wandb.ai/cs23m015/DL-Assignment-1/runs/ydqhsvgk' target=\"_blank\">https://wandb.ai/cs23m015/DL-Assignment-1/runs/ydqhsvgk</a>"
            ]
          },
          "metadata": {}
        },
        {
          "output_type": "display_data",
          "data": {
            "text/plain": [
              "VBox(children=(Label(value='0.011 MB of 0.011 MB uploaded\\r'), FloatProgress(value=1.0, max=1.0)))"
            ],
            "application/vnd.jupyter.widget-view+json": {
              "version_major": 2,
              "version_minor": 0,
              "model_id": "08454cf769ef42e19d6f9974f64b3cf0"
            }
          },
          "metadata": {}
        },
        {
          "output_type": "display_data",
          "data": {
            "text/plain": [
              "<IPython.core.display.HTML object>"
            ],
            "text/html": [
              "<style>\n",
              "    table.wandb td:nth-child(1) { padding: 0 10px; text-align: left ; width: auto;} td:nth-child(2) {text-align: left ; width: 100%}\n",
              "    .wandb-row { display: flex; flex-direction: row; flex-wrap: wrap; justify-content: flex-start; width: 100% }\n",
              "    .wandb-col { display: flex; flex-direction: column; flex-basis: 100%; flex: 1; padding: 10px; }\n",
              "    </style>\n",
              "<div class=\"wandb-row\"><div class=\"wandb-col\"><h3>Run history:</h3><br/><table class=\"wandb\"><tr><td>Accuracy</td><td>▁</td></tr><tr><td>epoch</td><td>▁▂▃▃▄▅▆▆▇█</td></tr><tr><td>training_accuracy</td><td>▁▄▆▇▇▇███▆</td></tr><tr><td>training_loss</td><td>█▅▃▂▂▂▁▁▁▃</td></tr><tr><td>validation_accuracy</td><td>▁▄▇▇█▇█▇█▆</td></tr><tr><td>validation_loss</td><td>█▄▂▂▁▂▂▂▂▄</td></tr></table><br/></div><div class=\"wandb-col\"><h3>Run summary:</h3><br/><table class=\"wandb\"><tr><td>Accuracy</td><td>95.95</td></tr><tr><td>epoch</td><td>10</td></tr><tr><td>training_accuracy</td><td>97.28</td></tr><tr><td>training_loss</td><td>0.13</td></tr><tr><td>validation_accuracy</td><td>95.95</td></tr><tr><td>validation_loss</td><td>0.21</td></tr></table><br/></div></div>"
            ]
          },
          "metadata": {}
        },
        {
          "output_type": "display_data",
          "data": {
            "text/plain": [
              "<IPython.core.display.HTML object>"
            ],
            "text/html": [
              " View run <strong style=\"color:#cdcd00\">fast-sweep-29</strong> at: <a href='https://wandb.ai/cs23m015/DL-Assignment-1/runs/ydqhsvgk' target=\"_blank\">https://wandb.ai/cs23m015/DL-Assignment-1/runs/ydqhsvgk</a><br/>Synced 4 W&B file(s), 0 media file(s), 0 artifact file(s) and 0 other file(s)"
            ]
          },
          "metadata": {}
        },
        {
          "output_type": "display_data",
          "data": {
            "text/plain": [
              "<IPython.core.display.HTML object>"
            ],
            "text/html": [
              "Find logs at: <code>./wandb/run-20240316_190004-ydqhsvgk/logs</code>"
            ]
          },
          "metadata": {}
        },
        {
          "output_type": "stream",
          "name": "stderr",
          "text": [
            "\u001b[34m\u001b[1mwandb\u001b[0m: Agent Starting Run: ouolt6ar with config:\n",
            "\u001b[34m\u001b[1mwandb\u001b[0m: \tactivation: relu\n",
            "\u001b[34m\u001b[1mwandb\u001b[0m: \talpha: 0\n",
            "\u001b[34m\u001b[1mwandb\u001b[0m: \tbatch: 32\n",
            "\u001b[34m\u001b[1mwandb\u001b[0m: \tbeta: 0.9\n",
            "\u001b[34m\u001b[1mwandb\u001b[0m: \tbeta1: 0.999\n",
            "\u001b[34m\u001b[1mwandb\u001b[0m: \tbeta2: 0.999\n",
            "\u001b[34m\u001b[1mwandb\u001b[0m: \te: 1e-06\n",
            "\u001b[34m\u001b[1mwandb\u001b[0m: \tfn_loss: cross_entropy\n",
            "\u001b[34m\u001b[1mwandb\u001b[0m: \thiddenlayers: 4\n",
            "\u001b[34m\u001b[1mwandb\u001b[0m: \tinitialization: xavier\n",
            "\u001b[34m\u001b[1mwandb\u001b[0m: \titer: 10\n",
            "\u001b[34m\u001b[1mwandb\u001b[0m: \tmom: 0.9\n",
            "\u001b[34m\u001b[1mwandb\u001b[0m: \tn: 0.001\n",
            "\u001b[34m\u001b[1mwandb\u001b[0m: \tneuron: 64\n",
            "\u001b[34m\u001b[1mwandb\u001b[0m: \toptimizer: Nadam\n",
            "\u001b[34m\u001b[1mwandb\u001b[0m: \toutAct: softmax\n",
            "\u001b[34m\u001b[1mwandb\u001b[0m: \u001b[33mWARNING\u001b[0m Ignored wandb.init() arg project when running a sweep.\n"
          ]
        },
        {
          "output_type": "display_data",
          "data": {
            "text/plain": [
              "<IPython.core.display.HTML object>"
            ],
            "text/html": [
              "Tracking run with wandb version 0.16.4"
            ]
          },
          "metadata": {}
        },
        {
          "output_type": "display_data",
          "data": {
            "text/plain": [
              "<IPython.core.display.HTML object>"
            ],
            "text/html": [
              "Run data is saved locally in <code>/content/wandb/run-20240316_190251-ouolt6ar</code>"
            ]
          },
          "metadata": {}
        },
        {
          "output_type": "display_data",
          "data": {
            "text/plain": [
              "<IPython.core.display.HTML object>"
            ],
            "text/html": [
              "Syncing run <strong><a href='https://wandb.ai/cs23m015/DL-Assignment-1/runs/ouolt6ar' target=\"_blank\">balmy-sweep-30</a></strong> to <a href='https://wandb.ai/cs23m015/DL-Assignment-1' target=\"_blank\">Weights & Biases</a> (<a href='https://wandb.me/run' target=\"_blank\">docs</a>)<br/>Sweep page: <a href='https://wandb.ai/cs23m015/DL-Assignment-1/sweeps/lfeqafjm' target=\"_blank\">https://wandb.ai/cs23m015/DL-Assignment-1/sweeps/lfeqafjm</a>"
            ]
          },
          "metadata": {}
        },
        {
          "output_type": "display_data",
          "data": {
            "text/plain": [
              "<IPython.core.display.HTML object>"
            ],
            "text/html": [
              " View project at <a href='https://wandb.ai/cs23m015/DL-Assignment-1' target=\"_blank\">https://wandb.ai/cs23m015/DL-Assignment-1</a>"
            ]
          },
          "metadata": {}
        },
        {
          "output_type": "display_data",
          "data": {
            "text/plain": [
              "<IPython.core.display.HTML object>"
            ],
            "text/html": [
              " View sweep at <a href='https://wandb.ai/cs23m015/DL-Assignment-1/sweeps/lfeqafjm' target=\"_blank\">https://wandb.ai/cs23m015/DL-Assignment-1/sweeps/lfeqafjm</a>"
            ]
          },
          "metadata": {}
        },
        {
          "output_type": "display_data",
          "data": {
            "text/plain": [
              "<IPython.core.display.HTML object>"
            ],
            "text/html": [
              " View run at <a href='https://wandb.ai/cs23m015/DL-Assignment-1/runs/ouolt6ar' target=\"_blank\">https://wandb.ai/cs23m015/DL-Assignment-1/runs/ouolt6ar</a>"
            ]
          },
          "metadata": {}
        },
        {
          "output_type": "stream",
          "name": "stdout",
          "text": [
            "Iteration Number: 1 Train Loss : 0.2867418506947179\n",
            "Iteration Number: 1 Validation Loss : 0.28190302427057234\n",
            "Iteration Number: 1 Train Accurcy : 93.92037037037036\n",
            "Iteration Number: 1 Validaion Accuracy: 94.25\n",
            "Iteration Number: 2 Train Loss : 0.1713142855666451\n",
            "Iteration Number: 2 Validation Loss : 0.18554419921259255\n",
            "Iteration Number: 2 Train Accurcy : 96.40555555555555\n",
            "Iteration Number: 2 Validaion Accuracy: 96.01666666666667\n",
            "Iteration Number: 3 Train Loss : 0.13287550185979208\n",
            "Iteration Number: 3 Validation Loss : 0.15600610569532294\n",
            "Iteration Number: 3 Train Accurcy : 97.16481481481482\n",
            "Iteration Number: 3 Validaion Accuracy: 96.6\n",
            "Iteration Number: 4 Train Loss : 0.10312503889665124\n",
            "Iteration Number: 4 Validation Loss : 0.14788471414326862\n",
            "Iteration Number: 4 Train Accurcy : 97.8462962962963\n",
            "Iteration Number: 4 Validaion Accuracy: 96.89999999999999\n",
            "Iteration Number: 5 Train Loss : 0.08934359883225365\n",
            "Iteration Number: 5 Validation Loss : 0.146479578437511\n",
            "Iteration Number: 5 Train Accurcy : 98.05\n",
            "Iteration Number: 5 Validaion Accuracy: 96.81666666666666\n",
            "Iteration Number: 6 Train Loss : 0.09106627369676501\n",
            "Iteration Number: 6 Validation Loss : 0.1578859678049462\n",
            "Iteration Number: 6 Train Accurcy : 97.93333333333332\n",
            "Iteration Number: 6 Validaion Accuracy: 96.73333333333333\n",
            "Iteration Number: 7 Train Loss : 0.09675396330282147\n",
            "Iteration Number: 7 Validation Loss : 0.16853192666919836\n",
            "Iteration Number: 7 Train Accurcy : 97.82037037037037\n",
            "Iteration Number: 7 Validaion Accuracy: 96.38333333333333\n",
            "Iteration Number: 8 Train Loss : 0.0753915207678667\n",
            "Iteration Number: 8 Validation Loss : 0.15330071384261407\n",
            "Iteration Number: 8 Train Accurcy : 98.29814814814814\n",
            "Iteration Number: 8 Validaion Accuracy: 97.0\n",
            "Iteration Number: 9 Train Loss : 0.10154396485373449\n",
            "Iteration Number: 9 Validation Loss : 0.1977068319490119\n",
            "Iteration Number: 9 Train Accurcy : 97.73148148148148\n",
            "Iteration Number: 9 Validaion Accuracy: 96.03333333333333\n",
            "Iteration Number: 10 Train Loss : 0.06842763836500107\n",
            "Iteration Number: 10 Validation Loss : 0.17015997904305605\n",
            "Iteration Number: 10 Train Accurcy : 98.47777777777777\n",
            "Iteration Number: 10 Validaion Accuracy: 97.18333333333334\n"
          ]
        },
        {
          "output_type": "display_data",
          "data": {
            "text/plain": [
              "VBox(children=(Label(value='0.013 MB of 0.013 MB uploaded\\r'), FloatProgress(value=1.0, max=1.0)))"
            ],
            "application/vnd.jupyter.widget-view+json": {
              "version_major": 2,
              "version_minor": 0,
              "model_id": "151d76d86abd4a6589390be0327bff47"
            }
          },
          "metadata": {}
        },
        {
          "output_type": "display_data",
          "data": {
            "text/plain": [
              "<IPython.core.display.HTML object>"
            ],
            "text/html": [
              "<style>\n",
              "    table.wandb td:nth-child(1) { padding: 0 10px; text-align: left ; width: auto;} td:nth-child(2) {text-align: left ; width: 100%}\n",
              "    .wandb-row { display: flex; flex-direction: row; flex-wrap: wrap; justify-content: flex-start; width: 100% }\n",
              "    .wandb-col { display: flex; flex-direction: column; flex-basis: 100%; flex: 1; padding: 10px; }\n",
              "    </style>\n",
              "<div class=\"wandb-row\"><div class=\"wandb-col\"><h3>Run history:</h3><br/><table class=\"wandb\"><tr><td>Accuracy</td><td>▁</td></tr><tr><td>epoch</td><td>▁▂▃▃▄▅▆▆▇█</td></tr><tr><td>training_accuracy</td><td>▁▅▆▇▇▇▇█▇█</td></tr><tr><td>training_loss</td><td>█▄▃▂▂▂▂▁▂▁</td></tr><tr><td>validation_accuracy</td><td>▁▅▇▇▇▇▆█▅█</td></tr><tr><td>validation_loss</td><td>█▃▂▁▁▂▂▁▄▂</td></tr></table><br/></div><div class=\"wandb-col\"><h3>Run summary:</h3><br/><table class=\"wandb\"><tr><td>Accuracy</td><td>97.18333</td></tr><tr><td>epoch</td><td>10</td></tr><tr><td>training_accuracy</td><td>98.48</td></tr><tr><td>training_loss</td><td>0.07</td></tr><tr><td>validation_accuracy</td><td>97.18</td></tr><tr><td>validation_loss</td><td>0.17</td></tr></table><br/></div></div>"
            ]
          },
          "metadata": {}
        },
        {
          "output_type": "display_data",
          "data": {
            "text/plain": [
              "<IPython.core.display.HTML object>"
            ],
            "text/html": [
              " View run <strong style=\"color:#cdcd00\">balmy-sweep-30</strong> at: <a href='https://wandb.ai/cs23m015/DL-Assignment-1/runs/ouolt6ar' target=\"_blank\">https://wandb.ai/cs23m015/DL-Assignment-1/runs/ouolt6ar</a><br/>Synced 5 W&B file(s), 0 media file(s), 0 artifact file(s) and 0 other file(s)"
            ]
          },
          "metadata": {}
        },
        {
          "output_type": "display_data",
          "data": {
            "text/plain": [
              "<IPython.core.display.HTML object>"
            ],
            "text/html": [
              "Find logs at: <code>./wandb/run-20240316_190251-ouolt6ar/logs</code>"
            ]
          },
          "metadata": {}
        },
        {
          "output_type": "stream",
          "name": "stderr",
          "text": [
            "\u001b[34m\u001b[1mwandb\u001b[0m: Agent Starting Run: u0to982f with config:\n",
            "\u001b[34m\u001b[1mwandb\u001b[0m: \tactivation: relu\n",
            "\u001b[34m\u001b[1mwandb\u001b[0m: \talpha: 0\n",
            "\u001b[34m\u001b[1mwandb\u001b[0m: \tbatch: 32\n",
            "\u001b[34m\u001b[1mwandb\u001b[0m: \tbeta: 0.9\n",
            "\u001b[34m\u001b[1mwandb\u001b[0m: \tbeta1: 0.999\n",
            "\u001b[34m\u001b[1mwandb\u001b[0m: \tbeta2: 0.999\n",
            "\u001b[34m\u001b[1mwandb\u001b[0m: \te: 1e-06\n",
            "\u001b[34m\u001b[1mwandb\u001b[0m: \tfn_loss: cross_entropy\n",
            "\u001b[34m\u001b[1mwandb\u001b[0m: \thiddenlayers: 4\n",
            "\u001b[34m\u001b[1mwandb\u001b[0m: \tinitialization: xavier\n",
            "\u001b[34m\u001b[1mwandb\u001b[0m: \titer: 10\n",
            "\u001b[34m\u001b[1mwandb\u001b[0m: \tmom: 0.9\n",
            "\u001b[34m\u001b[1mwandb\u001b[0m: \tn: 0.0001\n",
            "\u001b[34m\u001b[1mwandb\u001b[0m: \tneuron: 32\n",
            "\u001b[34m\u001b[1mwandb\u001b[0m: \toptimizer: rmsProp\n",
            "\u001b[34m\u001b[1mwandb\u001b[0m: \toutAct: softmax\n",
            "\u001b[34m\u001b[1mwandb\u001b[0m: \u001b[33mWARNING\u001b[0m Ignored wandb.init() arg project when running a sweep.\n"
          ]
        },
        {
          "output_type": "display_data",
          "data": {
            "text/plain": [
              "<IPython.core.display.HTML object>"
            ],
            "text/html": [
              "Tracking run with wandb version 0.16.4"
            ]
          },
          "metadata": {}
        },
        {
          "output_type": "display_data",
          "data": {
            "text/plain": [
              "<IPython.core.display.HTML object>"
            ],
            "text/html": [
              "Run data is saved locally in <code>/content/wandb/run-20240316_190544-u0to982f</code>"
            ]
          },
          "metadata": {}
        },
        {
          "output_type": "display_data",
          "data": {
            "text/plain": [
              "<IPython.core.display.HTML object>"
            ],
            "text/html": [
              "Syncing run <strong><a href='https://wandb.ai/cs23m015/DL-Assignment-1/runs/u0to982f' target=\"_blank\">dainty-sweep-31</a></strong> to <a href='https://wandb.ai/cs23m015/DL-Assignment-1' target=\"_blank\">Weights & Biases</a> (<a href='https://wandb.me/run' target=\"_blank\">docs</a>)<br/>Sweep page: <a href='https://wandb.ai/cs23m015/DL-Assignment-1/sweeps/lfeqafjm' target=\"_blank\">https://wandb.ai/cs23m015/DL-Assignment-1/sweeps/lfeqafjm</a>"
            ]
          },
          "metadata": {}
        },
        {
          "output_type": "display_data",
          "data": {
            "text/plain": [
              "<IPython.core.display.HTML object>"
            ],
            "text/html": [
              " View project at <a href='https://wandb.ai/cs23m015/DL-Assignment-1' target=\"_blank\">https://wandb.ai/cs23m015/DL-Assignment-1</a>"
            ]
          },
          "metadata": {}
        },
        {
          "output_type": "display_data",
          "data": {
            "text/plain": [
              "<IPython.core.display.HTML object>"
            ],
            "text/html": [
              " View sweep at <a href='https://wandb.ai/cs23m015/DL-Assignment-1/sweeps/lfeqafjm' target=\"_blank\">https://wandb.ai/cs23m015/DL-Assignment-1/sweeps/lfeqafjm</a>"
            ]
          },
          "metadata": {}
        },
        {
          "output_type": "display_data",
          "data": {
            "text/plain": [
              "<IPython.core.display.HTML object>"
            ],
            "text/html": [
              " View run at <a href='https://wandb.ai/cs23m015/DL-Assignment-1/runs/u0to982f' target=\"_blank\">https://wandb.ai/cs23m015/DL-Assignment-1/runs/u0to982f</a>"
            ]
          },
          "metadata": {}
        },
        {
          "output_type": "display_data",
          "data": {
            "text/plain": [
              "VBox(children=(Label(value='0.011 MB of 0.011 MB uploaded\\r'), FloatProgress(value=1.0, max=1.0)))"
            ],
            "application/vnd.jupyter.widget-view+json": {
              "version_major": 2,
              "version_minor": 0,
              "model_id": "cff5e4d5fdb0417581b2375bf04cb223"
            }
          },
          "metadata": {}
        },
        {
          "output_type": "display_data",
          "data": {
            "text/plain": [
              "<IPython.core.display.HTML object>"
            ],
            "text/html": [
              "<style>\n",
              "    table.wandb td:nth-child(1) { padding: 0 10px; text-align: left ; width: auto;} td:nth-child(2) {text-align: left ; width: 100%}\n",
              "    .wandb-row { display: flex; flex-direction: row; flex-wrap: wrap; justify-content: flex-start; width: 100% }\n",
              "    .wandb-col { display: flex; flex-direction: column; flex-basis: 100%; flex: 1; padding: 10px; }\n",
              "    </style>\n",
              "<div class=\"wandb-row\"><div class=\"wandb-col\"><h3>Run history:</h3><br/><table class=\"wandb\"><tr><td>Accuracy</td><td>▁</td></tr><tr><td>epoch</td><td>▁▂▃▃▄▅▆▆▇█</td></tr><tr><td>training_accuracy</td><td>▁▃▄▅▆▇▇███</td></tr><tr><td>training_loss</td><td>█▆▅▄▃▃▂▂▁▁</td></tr><tr><td>validation_accuracy</td><td>▁▃▄▅▆▇▇███</td></tr><tr><td>validation_loss</td><td>█▆▅▄▃▃▂▂▁▁</td></tr></table><br/></div><div class=\"wandb-col\"><h3>Run summary:</h3><br/><table class=\"wandb\"><tr><td>Accuracy</td><td>80.11667</td></tr><tr><td>epoch</td><td>10</td></tr><tr><td>training_accuracy</td><td>79.51</td></tr><tr><td>training_loss</td><td>1.12</td></tr><tr><td>validation_accuracy</td><td>80.12</td></tr><tr><td>validation_loss</td><td>1.11</td></tr></table><br/></div></div>"
            ]
          },
          "metadata": {}
        },
        {
          "output_type": "display_data",
          "data": {
            "text/plain": [
              "<IPython.core.display.HTML object>"
            ],
            "text/html": [
              " View run <strong style=\"color:#cdcd00\">dainty-sweep-31</strong> at: <a href='https://wandb.ai/cs23m015/DL-Assignment-1/runs/u0to982f' target=\"_blank\">https://wandb.ai/cs23m015/DL-Assignment-1/runs/u0to982f</a><br/>Synced 4 W&B file(s), 0 media file(s), 0 artifact file(s) and 0 other file(s)"
            ]
          },
          "metadata": {}
        },
        {
          "output_type": "display_data",
          "data": {
            "text/plain": [
              "<IPython.core.display.HTML object>"
            ],
            "text/html": [
              "Find logs at: <code>./wandb/run-20240316_190544-u0to982f/logs</code>"
            ]
          },
          "metadata": {}
        },
        {
          "output_type": "stream",
          "name": "stderr",
          "text": [
            "\u001b[34m\u001b[1mwandb\u001b[0m: Sweep Agent: Waiting for job.\n",
            "\u001b[34m\u001b[1mwandb\u001b[0m: Job received.\n",
            "\u001b[34m\u001b[1mwandb\u001b[0m: Agent Starting Run: 34t6x11b with config:\n",
            "\u001b[34m\u001b[1mwandb\u001b[0m: \tactivation: relu\n",
            "\u001b[34m\u001b[1mwandb\u001b[0m: \talpha: 0\n",
            "\u001b[34m\u001b[1mwandb\u001b[0m: \tbatch: 32\n",
            "\u001b[34m\u001b[1mwandb\u001b[0m: \tbeta: 0.9\n",
            "\u001b[34m\u001b[1mwandb\u001b[0m: \tbeta1: 0.999\n",
            "\u001b[34m\u001b[1mwandb\u001b[0m: \tbeta2: 0.999\n",
            "\u001b[34m\u001b[1mwandb\u001b[0m: \te: 1e-06\n",
            "\u001b[34m\u001b[1mwandb\u001b[0m: \tfn_loss: cross_entropy\n",
            "\u001b[34m\u001b[1mwandb\u001b[0m: \thiddenlayers: 4\n",
            "\u001b[34m\u001b[1mwandb\u001b[0m: \tinitialization: xavier\n",
            "\u001b[34m\u001b[1mwandb\u001b[0m: \titer: 10\n",
            "\u001b[34m\u001b[1mwandb\u001b[0m: \tmom: 0.9\n",
            "\u001b[34m\u001b[1mwandb\u001b[0m: \tn: 0.0001\n",
            "\u001b[34m\u001b[1mwandb\u001b[0m: \tneuron: 32\n",
            "\u001b[34m\u001b[1mwandb\u001b[0m: \toptimizer: adam\n",
            "\u001b[34m\u001b[1mwandb\u001b[0m: \toutAct: softmax\n",
            "\u001b[34m\u001b[1mwandb\u001b[0m: \u001b[33mWARNING\u001b[0m Ignored wandb.init() arg project when running a sweep.\n"
          ]
        },
        {
          "output_type": "display_data",
          "data": {
            "text/plain": [
              "<IPython.core.display.HTML object>"
            ],
            "text/html": [
              "Tracking run with wandb version 0.16.4"
            ]
          },
          "metadata": {}
        },
        {
          "output_type": "display_data",
          "data": {
            "text/plain": [
              "<IPython.core.display.HTML object>"
            ],
            "text/html": [
              "Run data is saved locally in <code>/content/wandb/run-20240316_190806-34t6x11b</code>"
            ]
          },
          "metadata": {}
        },
        {
          "output_type": "display_data",
          "data": {
            "text/plain": [
              "<IPython.core.display.HTML object>"
            ],
            "text/html": [
              "Syncing run <strong><a href='https://wandb.ai/cs23m015/DL-Assignment-1/runs/34t6x11b' target=\"_blank\">fancy-sweep-32</a></strong> to <a href='https://wandb.ai/cs23m015/DL-Assignment-1' target=\"_blank\">Weights & Biases</a> (<a href='https://wandb.me/run' target=\"_blank\">docs</a>)<br/>Sweep page: <a href='https://wandb.ai/cs23m015/DL-Assignment-1/sweeps/lfeqafjm' target=\"_blank\">https://wandb.ai/cs23m015/DL-Assignment-1/sweeps/lfeqafjm</a>"
            ]
          },
          "metadata": {}
        },
        {
          "output_type": "display_data",
          "data": {
            "text/plain": [
              "<IPython.core.display.HTML object>"
            ],
            "text/html": [
              " View project at <a href='https://wandb.ai/cs23m015/DL-Assignment-1' target=\"_blank\">https://wandb.ai/cs23m015/DL-Assignment-1</a>"
            ]
          },
          "metadata": {}
        },
        {
          "output_type": "display_data",
          "data": {
            "text/plain": [
              "<IPython.core.display.HTML object>"
            ],
            "text/html": [
              " View sweep at <a href='https://wandb.ai/cs23m015/DL-Assignment-1/sweeps/lfeqafjm' target=\"_blank\">https://wandb.ai/cs23m015/DL-Assignment-1/sweeps/lfeqafjm</a>"
            ]
          },
          "metadata": {}
        },
        {
          "output_type": "display_data",
          "data": {
            "text/plain": [
              "<IPython.core.display.HTML object>"
            ],
            "text/html": [
              " View run at <a href='https://wandb.ai/cs23m015/DL-Assignment-1/runs/34t6x11b' target=\"_blank\">https://wandb.ai/cs23m015/DL-Assignment-1/runs/34t6x11b</a>"
            ]
          },
          "metadata": {}
        },
        {
          "output_type": "display_data",
          "data": {
            "text/plain": [
              "VBox(children=(Label(value='0.011 MB of 0.011 MB uploaded\\r'), FloatProgress(value=1.0, max=1.0)))"
            ],
            "application/vnd.jupyter.widget-view+json": {
              "version_major": 2,
              "version_minor": 0,
              "model_id": "5571d9b37c1e4ec4a38065b903ee4ebb"
            }
          },
          "metadata": {}
        },
        {
          "output_type": "display_data",
          "data": {
            "text/plain": [
              "<IPython.core.display.HTML object>"
            ],
            "text/html": [
              "<style>\n",
              "    table.wandb td:nth-child(1) { padding: 0 10px; text-align: left ; width: auto;} td:nth-child(2) {text-align: left ; width: 100%}\n",
              "    .wandb-row { display: flex; flex-direction: row; flex-wrap: wrap; justify-content: flex-start; width: 100% }\n",
              "    .wandb-col { display: flex; flex-direction: column; flex-basis: 100%; flex: 1; padding: 10px; }\n",
              "    </style>\n",
              "<div class=\"wandb-row\"><div class=\"wandb-col\"><h3>Run history:</h3><br/><table class=\"wandb\"><tr><td>Accuracy</td><td>▁</td></tr><tr><td>epoch</td><td>▁▂▃▃▄▅▆▆▇█</td></tr><tr><td>training_accuracy</td><td>▁▅▆▇▇▇████</td></tr><tr><td>training_loss</td><td>█▄▃▂▂▂▁▁▁▁</td></tr><tr><td>validation_accuracy</td><td>▁▅▆▇▇▇████</td></tr><tr><td>validation_loss</td><td>█▄▃▂▂▂▁▁▁▁</td></tr></table><br/></div><div class=\"wandb-col\"><h3>Run summary:</h3><br/><table class=\"wandb\"><tr><td>Accuracy</td><td>94.33333</td></tr><tr><td>epoch</td><td>10</td></tr><tr><td>training_accuracy</td><td>94.12</td></tr><tr><td>training_loss</td><td>0.29</td></tr><tr><td>validation_accuracy</td><td>94.33</td></tr><tr><td>validation_loss</td><td>0.29</td></tr></table><br/></div></div>"
            ]
          },
          "metadata": {}
        },
        {
          "output_type": "display_data",
          "data": {
            "text/plain": [
              "<IPython.core.display.HTML object>"
            ],
            "text/html": [
              " View run <strong style=\"color:#cdcd00\">fancy-sweep-32</strong> at: <a href='https://wandb.ai/cs23m015/DL-Assignment-1/runs/34t6x11b' target=\"_blank\">https://wandb.ai/cs23m015/DL-Assignment-1/runs/34t6x11b</a><br/>Synced 4 W&B file(s), 0 media file(s), 0 artifact file(s) and 0 other file(s)"
            ]
          },
          "metadata": {}
        },
        {
          "output_type": "display_data",
          "data": {
            "text/plain": [
              "<IPython.core.display.HTML object>"
            ],
            "text/html": [
              "Find logs at: <code>./wandb/run-20240316_190806-34t6x11b/logs</code>"
            ]
          },
          "metadata": {}
        },
        {
          "output_type": "stream",
          "name": "stderr",
          "text": [
            "\u001b[34m\u001b[1mwandb\u001b[0m: Agent Starting Run: 9lzugbfu with config:\n",
            "\u001b[34m\u001b[1mwandb\u001b[0m: \tactivation: relu\n",
            "\u001b[34m\u001b[1mwandb\u001b[0m: \talpha: 0\n",
            "\u001b[34m\u001b[1mwandb\u001b[0m: \tbatch: 32\n",
            "\u001b[34m\u001b[1mwandb\u001b[0m: \tbeta: 0.9\n",
            "\u001b[34m\u001b[1mwandb\u001b[0m: \tbeta1: 0.999\n",
            "\u001b[34m\u001b[1mwandb\u001b[0m: \tbeta2: 0.999\n",
            "\u001b[34m\u001b[1mwandb\u001b[0m: \te: 1e-06\n",
            "\u001b[34m\u001b[1mwandb\u001b[0m: \tfn_loss: cross_entropy\n",
            "\u001b[34m\u001b[1mwandb\u001b[0m: \thiddenlayers: 4\n",
            "\u001b[34m\u001b[1mwandb\u001b[0m: \tinitialization: xavier\n",
            "\u001b[34m\u001b[1mwandb\u001b[0m: \titer: 10\n",
            "\u001b[34m\u001b[1mwandb\u001b[0m: \tmom: 0.9\n",
            "\u001b[34m\u001b[1mwandb\u001b[0m: \tn: 0.0001\n",
            "\u001b[34m\u001b[1mwandb\u001b[0m: \tneuron: 32\n",
            "\u001b[34m\u001b[1mwandb\u001b[0m: \toptimizer: Nadam\n",
            "\u001b[34m\u001b[1mwandb\u001b[0m: \toutAct: softmax\n",
            "\u001b[34m\u001b[1mwandb\u001b[0m: \u001b[33mWARNING\u001b[0m Ignored wandb.init() arg project when running a sweep.\n"
          ]
        },
        {
          "output_type": "display_data",
          "data": {
            "text/plain": [
              "<IPython.core.display.HTML object>"
            ],
            "text/html": [
              "Tracking run with wandb version 0.16.4"
            ]
          },
          "metadata": {}
        },
        {
          "output_type": "display_data",
          "data": {
            "text/plain": [
              "<IPython.core.display.HTML object>"
            ],
            "text/html": [
              "Run data is saved locally in <code>/content/wandb/run-20240316_191029-9lzugbfu</code>"
            ]
          },
          "metadata": {}
        },
        {
          "output_type": "display_data",
          "data": {
            "text/plain": [
              "<IPython.core.display.HTML object>"
            ],
            "text/html": [
              "Syncing run <strong><a href='https://wandb.ai/cs23m015/DL-Assignment-1/runs/9lzugbfu' target=\"_blank\">splendid-sweep-33</a></strong> to <a href='https://wandb.ai/cs23m015/DL-Assignment-1' target=\"_blank\">Weights & Biases</a> (<a href='https://wandb.me/run' target=\"_blank\">docs</a>)<br/>Sweep page: <a href='https://wandb.ai/cs23m015/DL-Assignment-1/sweeps/lfeqafjm' target=\"_blank\">https://wandb.ai/cs23m015/DL-Assignment-1/sweeps/lfeqafjm</a>"
            ]
          },
          "metadata": {}
        },
        {
          "output_type": "display_data",
          "data": {
            "text/plain": [
              "<IPython.core.display.HTML object>"
            ],
            "text/html": [
              " View project at <a href='https://wandb.ai/cs23m015/DL-Assignment-1' target=\"_blank\">https://wandb.ai/cs23m015/DL-Assignment-1</a>"
            ]
          },
          "metadata": {}
        },
        {
          "output_type": "display_data",
          "data": {
            "text/plain": [
              "<IPython.core.display.HTML object>"
            ],
            "text/html": [
              " View sweep at <a href='https://wandb.ai/cs23m015/DL-Assignment-1/sweeps/lfeqafjm' target=\"_blank\">https://wandb.ai/cs23m015/DL-Assignment-1/sweeps/lfeqafjm</a>"
            ]
          },
          "metadata": {}
        },
        {
          "output_type": "display_data",
          "data": {
            "text/plain": [
              "<IPython.core.display.HTML object>"
            ],
            "text/html": [
              " View run at <a href='https://wandb.ai/cs23m015/DL-Assignment-1/runs/9lzugbfu' target=\"_blank\">https://wandb.ai/cs23m015/DL-Assignment-1/runs/9lzugbfu</a>"
            ]
          },
          "metadata": {}
        },
        {
          "output_type": "stream",
          "name": "stdout",
          "text": [
            "Iteration Number: 1 Train Loss : 1.3854375497545655\n",
            "Iteration Number: 1 Validation Loss : 1.3838522086609626\n",
            "Iteration Number: 1 Train Accurcy : 73.09629629629629\n",
            "Iteration Number: 1 Validaion Accuracy: 72.95\n",
            "Iteration Number: 2 Train Loss : 0.7713263739828631\n",
            "Iteration Number: 2 Validation Loss : 0.7689514216070676\n",
            "Iteration Number: 2 Train Accurcy : 84.39259259259259\n",
            "Iteration Number: 2 Validaion Accuracy: 84.01666666666667\n",
            "Iteration Number: 3 Train Loss : 0.5781901532006121\n",
            "Iteration Number: 3 Validation Loss : 0.5771828230867384\n",
            "Iteration Number: 3 Train Accurcy : 88.31666666666666\n",
            "Iteration Number: 3 Validaion Accuracy: 88.28333333333333\n",
            "Iteration Number: 4 Train Loss : 0.48086101104216317\n",
            "Iteration Number: 4 Validation Loss : 0.4779653728669462\n",
            "Iteration Number: 4 Train Accurcy : 90.38333333333334\n",
            "Iteration Number: 4 Validaion Accuracy: 90.75\n",
            "Iteration Number: 5 Train Loss : 0.42327523004970447\n",
            "Iteration Number: 5 Validation Loss : 0.4187327003738372\n",
            "Iteration Number: 5 Train Accurcy : 91.41666666666667\n",
            "Iteration Number: 5 Validaion Accuracy: 91.81666666666666\n",
            "Iteration Number: 6 Train Loss : 0.38387669032237154\n",
            "Iteration Number: 6 Validation Loss : 0.3790661460041144\n",
            "Iteration Number: 6 Train Accurcy : 92.27407407407408\n",
            "Iteration Number: 6 Validaion Accuracy: 92.61666666666667\n",
            "Iteration Number: 7 Train Loss : 0.35351096524849385\n",
            "Iteration Number: 7 Validation Loss : 0.3498572990407509\n",
            "Iteration Number: 7 Train Accurcy : 92.86851851851851\n",
            "Iteration Number: 7 Validaion Accuracy: 93.06666666666666\n",
            "Iteration Number: 8 Train Loss : 0.328916065161583\n",
            "Iteration Number: 8 Validation Loss : 0.32692123013755003\n",
            "Iteration Number: 8 Train Accurcy : 93.36851851851851\n",
            "Iteration Number: 8 Validaion Accuracy: 93.46666666666667\n",
            "Iteration Number: 9 Train Loss : 0.3082390879073435\n",
            "Iteration Number: 9 Validation Loss : 0.30731083122492053\n",
            "Iteration Number: 9 Train Accurcy : 93.74444444444444\n",
            "Iteration Number: 9 Validaion Accuracy: 93.89999999999999\n",
            "Iteration Number: 10 Train Loss : 0.2908458423445215\n",
            "Iteration Number: 10 Validation Loss : 0.2912043706335861\n",
            "Iteration Number: 10 Train Accurcy : 94.13148148148149\n",
            "Iteration Number: 10 Validaion Accuracy: 94.28333333333333\n"
          ]
        },
        {
          "output_type": "display_data",
          "data": {
            "text/plain": [
              "VBox(children=(Label(value='0.001 MB of 0.001 MB uploaded\\r'), FloatProgress(value=1.0, max=1.0)))"
            ],
            "application/vnd.jupyter.widget-view+json": {
              "version_major": 2,
              "version_minor": 0,
              "model_id": "3169ea307e7c4e5f913315097eff7ff6"
            }
          },
          "metadata": {}
        },
        {
          "output_type": "display_data",
          "data": {
            "text/plain": [
              "<IPython.core.display.HTML object>"
            ],
            "text/html": [
              "<style>\n",
              "    table.wandb td:nth-child(1) { padding: 0 10px; text-align: left ; width: auto;} td:nth-child(2) {text-align: left ; width: 100%}\n",
              "    .wandb-row { display: flex; flex-direction: row; flex-wrap: wrap; justify-content: flex-start; width: 100% }\n",
              "    .wandb-col { display: flex; flex-direction: column; flex-basis: 100%; flex: 1; padding: 10px; }\n",
              "    </style>\n",
              "<div class=\"wandb-row\"><div class=\"wandb-col\"><h3>Run history:</h3><br/><table class=\"wandb\"><tr><td>Accuracy</td><td>▁</td></tr><tr><td>epoch</td><td>▁▂▃▃▄▅▆▆▇█</td></tr><tr><td>training_accuracy</td><td>▁▅▆▇▇▇████</td></tr><tr><td>training_loss</td><td>█▄▃▂▂▂▁▁▁▁</td></tr><tr><td>validation_accuracy</td><td>▁▅▆▇▇▇████</td></tr><tr><td>validation_loss</td><td>█▄▃▂▂▂▁▁▁▁</td></tr></table><br/></div><div class=\"wandb-col\"><h3>Run summary:</h3><br/><table class=\"wandb\"><tr><td>Accuracy</td><td>94.28333</td></tr><tr><td>epoch</td><td>10</td></tr><tr><td>training_accuracy</td><td>94.13</td></tr><tr><td>training_loss</td><td>0.29</td></tr><tr><td>validation_accuracy</td><td>94.28</td></tr><tr><td>validation_loss</td><td>0.29</td></tr></table><br/></div></div>"
            ]
          },
          "metadata": {}
        },
        {
          "output_type": "display_data",
          "data": {
            "text/plain": [
              "<IPython.core.display.HTML object>"
            ],
            "text/html": [
              " View run <strong style=\"color:#cdcd00\">splendid-sweep-33</strong> at: <a href='https://wandb.ai/cs23m015/DL-Assignment-1/runs/9lzugbfu' target=\"_blank\">https://wandb.ai/cs23m015/DL-Assignment-1/runs/9lzugbfu</a><br/>Synced 5 W&B file(s), 0 media file(s), 0 artifact file(s) and 0 other file(s)"
            ]
          },
          "metadata": {}
        },
        {
          "output_type": "display_data",
          "data": {
            "text/plain": [
              "<IPython.core.display.HTML object>"
            ],
            "text/html": [
              "Find logs at: <code>./wandb/run-20240316_191029-9lzugbfu/logs</code>"
            ]
          },
          "metadata": {}
        },
        {
          "output_type": "stream",
          "name": "stderr",
          "text": [
            "\u001b[34m\u001b[1mwandb\u001b[0m: Agent Starting Run: pq8sirmf with config:\n",
            "\u001b[34m\u001b[1mwandb\u001b[0m: \tactivation: relu\n",
            "\u001b[34m\u001b[1mwandb\u001b[0m: \talpha: 0\n",
            "\u001b[34m\u001b[1mwandb\u001b[0m: \tbatch: 32\n",
            "\u001b[34m\u001b[1mwandb\u001b[0m: \tbeta: 0.9\n",
            "\u001b[34m\u001b[1mwandb\u001b[0m: \tbeta1: 0.999\n",
            "\u001b[34m\u001b[1mwandb\u001b[0m: \tbeta2: 0.999\n",
            "\u001b[34m\u001b[1mwandb\u001b[0m: \te: 1e-06\n",
            "\u001b[34m\u001b[1mwandb\u001b[0m: \tfn_loss: cross_entropy\n",
            "\u001b[34m\u001b[1mwandb\u001b[0m: \thiddenlayers: 4\n",
            "\u001b[34m\u001b[1mwandb\u001b[0m: \tinitialization: xavier\n",
            "\u001b[34m\u001b[1mwandb\u001b[0m: \titer: 10\n",
            "\u001b[34m\u001b[1mwandb\u001b[0m: \tmom: 0.9\n",
            "\u001b[34m\u001b[1mwandb\u001b[0m: \tn: 0.0001\n",
            "\u001b[34m\u001b[1mwandb\u001b[0m: \tneuron: 64\n",
            "\u001b[34m\u001b[1mwandb\u001b[0m: \toptimizer: rmsProp\n",
            "\u001b[34m\u001b[1mwandb\u001b[0m: \toutAct: softmax\n",
            "\u001b[34m\u001b[1mwandb\u001b[0m: \u001b[33mWARNING\u001b[0m Ignored wandb.init() arg project when running a sweep.\n"
          ]
        },
        {
          "output_type": "display_data",
          "data": {
            "text/plain": [
              "<IPython.core.display.HTML object>"
            ],
            "text/html": [
              "Tracking run with wandb version 0.16.4"
            ]
          },
          "metadata": {}
        },
        {
          "output_type": "display_data",
          "data": {
            "text/plain": [
              "<IPython.core.display.HTML object>"
            ],
            "text/html": [
              "Run data is saved locally in <code>/content/wandb/run-20240316_191252-pq8sirmf</code>"
            ]
          },
          "metadata": {}
        },
        {
          "output_type": "display_data",
          "data": {
            "text/plain": [
              "<IPython.core.display.HTML object>"
            ],
            "text/html": [
              "Syncing run <strong><a href='https://wandb.ai/cs23m015/DL-Assignment-1/runs/pq8sirmf' target=\"_blank\">legendary-sweep-34</a></strong> to <a href='https://wandb.ai/cs23m015/DL-Assignment-1' target=\"_blank\">Weights & Biases</a> (<a href='https://wandb.me/run' target=\"_blank\">docs</a>)<br/>Sweep page: <a href='https://wandb.ai/cs23m015/DL-Assignment-1/sweeps/lfeqafjm' target=\"_blank\">https://wandb.ai/cs23m015/DL-Assignment-1/sweeps/lfeqafjm</a>"
            ]
          },
          "metadata": {}
        },
        {
          "output_type": "display_data",
          "data": {
            "text/plain": [
              "<IPython.core.display.HTML object>"
            ],
            "text/html": [
              " View project at <a href='https://wandb.ai/cs23m015/DL-Assignment-1' target=\"_blank\">https://wandb.ai/cs23m015/DL-Assignment-1</a>"
            ]
          },
          "metadata": {}
        },
        {
          "output_type": "display_data",
          "data": {
            "text/plain": [
              "<IPython.core.display.HTML object>"
            ],
            "text/html": [
              " View sweep at <a href='https://wandb.ai/cs23m015/DL-Assignment-1/sweeps/lfeqafjm' target=\"_blank\">https://wandb.ai/cs23m015/DL-Assignment-1/sweeps/lfeqafjm</a>"
            ]
          },
          "metadata": {}
        },
        {
          "output_type": "display_data",
          "data": {
            "text/plain": [
              "<IPython.core.display.HTML object>"
            ],
            "text/html": [
              " View run at <a href='https://wandb.ai/cs23m015/DL-Assignment-1/runs/pq8sirmf' target=\"_blank\">https://wandb.ai/cs23m015/DL-Assignment-1/runs/pq8sirmf</a>"
            ]
          },
          "metadata": {}
        },
        {
          "output_type": "display_data",
          "data": {
            "text/plain": [
              "VBox(children=(Label(value='0.011 MB of 0.011 MB uploaded\\r'), FloatProgress(value=1.0, max=1.0)))"
            ],
            "application/vnd.jupyter.widget-view+json": {
              "version_major": 2,
              "version_minor": 0,
              "model_id": "3eb7ddffe5cd473f828a2e833b2a7ca2"
            }
          },
          "metadata": {}
        },
        {
          "output_type": "display_data",
          "data": {
            "text/plain": [
              "<IPython.core.display.HTML object>"
            ],
            "text/html": [
              "<style>\n",
              "    table.wandb td:nth-child(1) { padding: 0 10px; text-align: left ; width: auto;} td:nth-child(2) {text-align: left ; width: 100%}\n",
              "    .wandb-row { display: flex; flex-direction: row; flex-wrap: wrap; justify-content: flex-start; width: 100% }\n",
              "    .wandb-col { display: flex; flex-direction: column; flex-basis: 100%; flex: 1; padding: 10px; }\n",
              "    </style>\n",
              "<div class=\"wandb-row\"><div class=\"wandb-col\"><h3>Run history:</h3><br/><table class=\"wandb\"><tr><td>Accuracy</td><td>▁</td></tr><tr><td>epoch</td><td>▁▂▃▃▄▅▆▆▇█</td></tr><tr><td>training_accuracy</td><td>▁▄▆▆▇▇████</td></tr><tr><td>training_loss</td><td>█▅▄▃▂▂▁▁▁▁</td></tr><tr><td>validation_accuracy</td><td>▁▄▆▆▇▇▇███</td></tr><tr><td>validation_loss</td><td>█▅▄▃▂▂▁▁▁▁</td></tr></table><br/></div><div class=\"wandb-col\"><h3>Run summary:</h3><br/><table class=\"wandb\"><tr><td>Accuracy</td><td>88.45</td></tr><tr><td>epoch</td><td>10</td></tr><tr><td>training_accuracy</td><td>88.05</td></tr><tr><td>training_loss</td><td>0.61</td></tr><tr><td>validation_accuracy</td><td>88.45</td></tr><tr><td>validation_loss</td><td>0.59</td></tr></table><br/></div></div>"
            ]
          },
          "metadata": {}
        },
        {
          "output_type": "display_data",
          "data": {
            "text/plain": [
              "<IPython.core.display.HTML object>"
            ],
            "text/html": [
              " View run <strong style=\"color:#cdcd00\">legendary-sweep-34</strong> at: <a href='https://wandb.ai/cs23m015/DL-Assignment-1/runs/pq8sirmf' target=\"_blank\">https://wandb.ai/cs23m015/DL-Assignment-1/runs/pq8sirmf</a><br/>Synced 4 W&B file(s), 0 media file(s), 0 artifact file(s) and 0 other file(s)"
            ]
          },
          "metadata": {}
        },
        {
          "output_type": "display_data",
          "data": {
            "text/plain": [
              "<IPython.core.display.HTML object>"
            ],
            "text/html": [
              "Find logs at: <code>./wandb/run-20240316_191252-pq8sirmf/logs</code>"
            ]
          },
          "metadata": {}
        },
        {
          "output_type": "stream",
          "name": "stderr",
          "text": [
            "\u001b[34m\u001b[1mwandb\u001b[0m: Sweep Agent: Waiting for job.\n",
            "\u001b[34m\u001b[1mwandb\u001b[0m: Job received.\n",
            "\u001b[34m\u001b[1mwandb\u001b[0m: Agent Starting Run: t052l6gj with config:\n",
            "\u001b[34m\u001b[1mwandb\u001b[0m: \tactivation: relu\n",
            "\u001b[34m\u001b[1mwandb\u001b[0m: \talpha: 0\n",
            "\u001b[34m\u001b[1mwandb\u001b[0m: \tbatch: 32\n",
            "\u001b[34m\u001b[1mwandb\u001b[0m: \tbeta: 0.9\n",
            "\u001b[34m\u001b[1mwandb\u001b[0m: \tbeta1: 0.999\n",
            "\u001b[34m\u001b[1mwandb\u001b[0m: \tbeta2: 0.999\n",
            "\u001b[34m\u001b[1mwandb\u001b[0m: \te: 1e-06\n",
            "\u001b[34m\u001b[1mwandb\u001b[0m: \tfn_loss: cross_entropy\n",
            "\u001b[34m\u001b[1mwandb\u001b[0m: \thiddenlayers: 4\n",
            "\u001b[34m\u001b[1mwandb\u001b[0m: \tinitialization: xavier\n",
            "\u001b[34m\u001b[1mwandb\u001b[0m: \titer: 10\n",
            "\u001b[34m\u001b[1mwandb\u001b[0m: \tmom: 0.9\n",
            "\u001b[34m\u001b[1mwandb\u001b[0m: \tn: 0.0001\n",
            "\u001b[34m\u001b[1mwandb\u001b[0m: \tneuron: 64\n",
            "\u001b[34m\u001b[1mwandb\u001b[0m: \toptimizer: adam\n",
            "\u001b[34m\u001b[1mwandb\u001b[0m: \toutAct: softmax\n",
            "\u001b[34m\u001b[1mwandb\u001b[0m: \u001b[33mWARNING\u001b[0m Ignored wandb.init() arg project when running a sweep.\n"
          ]
        },
        {
          "output_type": "display_data",
          "data": {
            "text/plain": [
              "<IPython.core.display.HTML object>"
            ],
            "text/html": [
              "Tracking run with wandb version 0.16.4"
            ]
          },
          "metadata": {}
        },
        {
          "output_type": "display_data",
          "data": {
            "text/plain": [
              "<IPython.core.display.HTML object>"
            ],
            "text/html": [
              "Run data is saved locally in <code>/content/wandb/run-20240316_191535-t052l6gj</code>"
            ]
          },
          "metadata": {}
        },
        {
          "output_type": "display_data",
          "data": {
            "text/plain": [
              "<IPython.core.display.HTML object>"
            ],
            "text/html": [
              "Syncing run <strong><a href='https://wandb.ai/cs23m015/DL-Assignment-1/runs/t052l6gj' target=\"_blank\">rich-sweep-35</a></strong> to <a href='https://wandb.ai/cs23m015/DL-Assignment-1' target=\"_blank\">Weights & Biases</a> (<a href='https://wandb.me/run' target=\"_blank\">docs</a>)<br/>Sweep page: <a href='https://wandb.ai/cs23m015/DL-Assignment-1/sweeps/lfeqafjm' target=\"_blank\">https://wandb.ai/cs23m015/DL-Assignment-1/sweeps/lfeqafjm</a>"
            ]
          },
          "metadata": {}
        },
        {
          "output_type": "display_data",
          "data": {
            "text/plain": [
              "<IPython.core.display.HTML object>"
            ],
            "text/html": [
              " View project at <a href='https://wandb.ai/cs23m015/DL-Assignment-1' target=\"_blank\">https://wandb.ai/cs23m015/DL-Assignment-1</a>"
            ]
          },
          "metadata": {}
        },
        {
          "output_type": "display_data",
          "data": {
            "text/plain": [
              "<IPython.core.display.HTML object>"
            ],
            "text/html": [
              " View sweep at <a href='https://wandb.ai/cs23m015/DL-Assignment-1/sweeps/lfeqafjm' target=\"_blank\">https://wandb.ai/cs23m015/DL-Assignment-1/sweeps/lfeqafjm</a>"
            ]
          },
          "metadata": {}
        },
        {
          "output_type": "display_data",
          "data": {
            "text/plain": [
              "<IPython.core.display.HTML object>"
            ],
            "text/html": [
              " View run at <a href='https://wandb.ai/cs23m015/DL-Assignment-1/runs/t052l6gj' target=\"_blank\">https://wandb.ai/cs23m015/DL-Assignment-1/runs/t052l6gj</a>"
            ]
          },
          "metadata": {}
        },
        {
          "output_type": "display_data",
          "data": {
            "text/plain": [
              "VBox(children=(Label(value='0.011 MB of 0.011 MB uploaded\\r'), FloatProgress(value=1.0, max=1.0)))"
            ],
            "application/vnd.jupyter.widget-view+json": {
              "version_major": 2,
              "version_minor": 0,
              "model_id": "a9c65a4665694540a4382702bf60c839"
            }
          },
          "metadata": {}
        },
        {
          "output_type": "display_data",
          "data": {
            "text/plain": [
              "<IPython.core.display.HTML object>"
            ],
            "text/html": [
              "<style>\n",
              "    table.wandb td:nth-child(1) { padding: 0 10px; text-align: left ; width: auto;} td:nth-child(2) {text-align: left ; width: 100%}\n",
              "    .wandb-row { display: flex; flex-direction: row; flex-wrap: wrap; justify-content: flex-start; width: 100% }\n",
              "    .wandb-col { display: flex; flex-direction: column; flex-basis: 100%; flex: 1; padding: 10px; }\n",
              "    </style>\n",
              "<div class=\"wandb-row\"><div class=\"wandb-col\"><h3>Run history:</h3><br/><table class=\"wandb\"><tr><td>Accuracy</td><td>▁</td></tr><tr><td>epoch</td><td>▁▂▃▃▄▅▆▆▇█</td></tr><tr><td>training_accuracy</td><td>▁▄▅▆▇▇▇███</td></tr><tr><td>training_loss</td><td>█▅▄▃▂▂▂▁▁▁</td></tr><tr><td>validation_accuracy</td><td>▁▄▅▆▇▇████</td></tr><tr><td>validation_loss</td><td>█▅▄▃▂▂▁▁▁▁</td></tr></table><br/></div><div class=\"wandb-col\"><h3>Run summary:</h3><br/><table class=\"wandb\"><tr><td>Accuracy</td><td>96.28333</td></tr><tr><td>epoch</td><td>10</td></tr><tr><td>training_accuracy</td><td>96.92</td></tr><tr><td>training_loss</td><td>0.15</td></tr><tr><td>validation_accuracy</td><td>96.28</td></tr><tr><td>validation_loss</td><td>0.17</td></tr></table><br/></div></div>"
            ]
          },
          "metadata": {}
        },
        {
          "output_type": "display_data",
          "data": {
            "text/plain": [
              "<IPython.core.display.HTML object>"
            ],
            "text/html": [
              " View run <strong style=\"color:#cdcd00\">rich-sweep-35</strong> at: <a href='https://wandb.ai/cs23m015/DL-Assignment-1/runs/t052l6gj' target=\"_blank\">https://wandb.ai/cs23m015/DL-Assignment-1/runs/t052l6gj</a><br/>Synced 4 W&B file(s), 0 media file(s), 0 artifact file(s) and 0 other file(s)"
            ]
          },
          "metadata": {}
        },
        {
          "output_type": "display_data",
          "data": {
            "text/plain": [
              "<IPython.core.display.HTML object>"
            ],
            "text/html": [
              "Find logs at: <code>./wandb/run-20240316_191535-t052l6gj/logs</code>"
            ]
          },
          "metadata": {}
        },
        {
          "output_type": "stream",
          "name": "stderr",
          "text": [
            "\u001b[34m\u001b[1mwandb\u001b[0m: Agent Starting Run: 0x3jcis7 with config:\n",
            "\u001b[34m\u001b[1mwandb\u001b[0m: \tactivation: relu\n",
            "\u001b[34m\u001b[1mwandb\u001b[0m: \talpha: 0\n",
            "\u001b[34m\u001b[1mwandb\u001b[0m: \tbatch: 32\n",
            "\u001b[34m\u001b[1mwandb\u001b[0m: \tbeta: 0.9\n",
            "\u001b[34m\u001b[1mwandb\u001b[0m: \tbeta1: 0.999\n",
            "\u001b[34m\u001b[1mwandb\u001b[0m: \tbeta2: 0.999\n",
            "\u001b[34m\u001b[1mwandb\u001b[0m: \te: 1e-06\n",
            "\u001b[34m\u001b[1mwandb\u001b[0m: \tfn_loss: cross_entropy\n",
            "\u001b[34m\u001b[1mwandb\u001b[0m: \thiddenlayers: 4\n",
            "\u001b[34m\u001b[1mwandb\u001b[0m: \tinitialization: xavier\n",
            "\u001b[34m\u001b[1mwandb\u001b[0m: \titer: 10\n",
            "\u001b[34m\u001b[1mwandb\u001b[0m: \tmom: 0.9\n",
            "\u001b[34m\u001b[1mwandb\u001b[0m: \tn: 0.0001\n",
            "\u001b[34m\u001b[1mwandb\u001b[0m: \tneuron: 64\n",
            "\u001b[34m\u001b[1mwandb\u001b[0m: \toptimizer: Nadam\n",
            "\u001b[34m\u001b[1mwandb\u001b[0m: \toutAct: softmax\n",
            "\u001b[34m\u001b[1mwandb\u001b[0m: \u001b[33mWARNING\u001b[0m Ignored wandb.init() arg project when running a sweep.\n"
          ]
        },
        {
          "output_type": "display_data",
          "data": {
            "text/plain": [
              "<IPython.core.display.HTML object>"
            ],
            "text/html": [
              "Tracking run with wandb version 0.16.4"
            ]
          },
          "metadata": {}
        },
        {
          "output_type": "display_data",
          "data": {
            "text/plain": [
              "<IPython.core.display.HTML object>"
            ],
            "text/html": [
              "Run data is saved locally in <code>/content/wandb/run-20240316_191817-0x3jcis7</code>"
            ]
          },
          "metadata": {}
        },
        {
          "output_type": "display_data",
          "data": {
            "text/plain": [
              "<IPython.core.display.HTML object>"
            ],
            "text/html": [
              "Syncing run <strong><a href='https://wandb.ai/cs23m015/DL-Assignment-1/runs/0x3jcis7' target=\"_blank\">charmed-sweep-36</a></strong> to <a href='https://wandb.ai/cs23m015/DL-Assignment-1' target=\"_blank\">Weights & Biases</a> (<a href='https://wandb.me/run' target=\"_blank\">docs</a>)<br/>Sweep page: <a href='https://wandb.ai/cs23m015/DL-Assignment-1/sweeps/lfeqafjm' target=\"_blank\">https://wandb.ai/cs23m015/DL-Assignment-1/sweeps/lfeqafjm</a>"
            ]
          },
          "metadata": {}
        },
        {
          "output_type": "display_data",
          "data": {
            "text/plain": [
              "<IPython.core.display.HTML object>"
            ],
            "text/html": [
              " View project at <a href='https://wandb.ai/cs23m015/DL-Assignment-1' target=\"_blank\">https://wandb.ai/cs23m015/DL-Assignment-1</a>"
            ]
          },
          "metadata": {}
        },
        {
          "output_type": "display_data",
          "data": {
            "text/plain": [
              "<IPython.core.display.HTML object>"
            ],
            "text/html": [
              " View sweep at <a href='https://wandb.ai/cs23m015/DL-Assignment-1/sweeps/lfeqafjm' target=\"_blank\">https://wandb.ai/cs23m015/DL-Assignment-1/sweeps/lfeqafjm</a>"
            ]
          },
          "metadata": {}
        },
        {
          "output_type": "display_data",
          "data": {
            "text/plain": [
              "<IPython.core.display.HTML object>"
            ],
            "text/html": [
              " View run at <a href='https://wandb.ai/cs23m015/DL-Assignment-1/runs/0x3jcis7' target=\"_blank\">https://wandb.ai/cs23m015/DL-Assignment-1/runs/0x3jcis7</a>"
            ]
          },
          "metadata": {}
        },
        {
          "output_type": "stream",
          "name": "stdout",
          "text": [
            "Iteration Number: 1 Train Loss : 0.626585494972633\n",
            "Iteration Number: 1 Validation Loss : 0.5963141985248223\n",
            "Iteration Number: 1 Train Accurcy : 87.00925925925927\n",
            "Iteration Number: 1 Validaion Accuracy: 87.35000000000001\n",
            "Iteration Number: 2 Train Loss : 0.42593184080186924\n",
            "Iteration Number: 2 Validation Loss : 0.4073587314369605\n",
            "Iteration Number: 2 Train Accurcy : 91.23703703703704\n",
            "Iteration Number: 2 Validaion Accuracy: 91.2\n",
            "Iteration Number: 3 Train Loss : 0.3377690747344\n",
            "Iteration Number: 3 Validation Loss : 0.3284651272417117\n",
            "Iteration Number: 3 Train Accurcy : 92.94444444444444\n",
            "Iteration Number: 3 Validaion Accuracy: 93.11666666666667\n",
            "Iteration Number: 4 Train Loss : 0.28534684338662314\n",
            "Iteration Number: 4 Validation Loss : 0.27874108959731214\n",
            "Iteration Number: 4 Train Accurcy : 94.08703703703704\n",
            "Iteration Number: 4 Validaion Accuracy: 94.15\n",
            "Iteration Number: 5 Train Loss : 0.24935678271102665\n",
            "Iteration Number: 5 Validation Loss : 0.24655364258008208\n",
            "Iteration Number: 5 Train Accurcy : 94.77962962962962\n",
            "Iteration Number: 5 Validaion Accuracy: 94.56666666666666\n",
            "Iteration Number: 6 Train Loss : 0.22192067260607612\n",
            "Iteration Number: 6 Validation Loss : 0.2226486297697573\n",
            "Iteration Number: 6 Train Accurcy : 95.34444444444445\n",
            "Iteration Number: 6 Validaion Accuracy: 95.16666666666667\n",
            "Iteration Number: 7 Train Loss : 0.1986269984850483\n",
            "Iteration Number: 7 Validation Loss : 0.20435118620640916\n",
            "Iteration Number: 7 Train Accurcy : 95.82222222222222\n",
            "Iteration Number: 7 Validaion Accuracy: 95.61666666666667\n",
            "Iteration Number: 8 Train Loss : 0.17896456948099576\n",
            "Iteration Number: 8 Validation Loss : 0.18956653773201912\n",
            "Iteration Number: 8 Train Accurcy : 96.27407407407408\n",
            "Iteration Number: 8 Validaion Accuracy: 95.95\n",
            "Iteration Number: 9 Train Loss : 0.1626657941585629\n",
            "Iteration Number: 9 Validation Loss : 0.17797758821373763\n",
            "Iteration Number: 9 Train Accurcy : 96.62962962962963\n",
            "Iteration Number: 9 Validaion Accuracy: 96.1\n",
            "Iteration Number: 10 Train Loss : 0.14940581696103197\n",
            "Iteration Number: 10 Validation Loss : 0.16933939546929747\n",
            "Iteration Number: 10 Train Accurcy : 96.93148148148148\n",
            "Iteration Number: 10 Validaion Accuracy: 96.21666666666667\n"
          ]
        },
        {
          "output_type": "display_data",
          "data": {
            "text/plain": [
              "VBox(children=(Label(value='0.001 MB of 0.013 MB uploaded\\r'), FloatProgress(value=0.07992317919929089, max=1.…"
            ],
            "application/vnd.jupyter.widget-view+json": {
              "version_major": 2,
              "version_minor": 0,
              "model_id": "070e3cd1d07b42cea6d835f457d25861"
            }
          },
          "metadata": {}
        },
        {
          "output_type": "display_data",
          "data": {
            "text/plain": [
              "<IPython.core.display.HTML object>"
            ],
            "text/html": [
              "<style>\n",
              "    table.wandb td:nth-child(1) { padding: 0 10px; text-align: left ; width: auto;} td:nth-child(2) {text-align: left ; width: 100%}\n",
              "    .wandb-row { display: flex; flex-direction: row; flex-wrap: wrap; justify-content: flex-start; width: 100% }\n",
              "    .wandb-col { display: flex; flex-direction: column; flex-basis: 100%; flex: 1; padding: 10px; }\n",
              "    </style>\n",
              "<div class=\"wandb-row\"><div class=\"wandb-col\"><h3>Run history:</h3><br/><table class=\"wandb\"><tr><td>Accuracy</td><td>▁</td></tr><tr><td>epoch</td><td>▁▂▃▃▄▅▆▆▇█</td></tr><tr><td>training_accuracy</td><td>▁▄▅▆▆▇▇███</td></tr><tr><td>training_loss</td><td>█▅▄▃▂▂▂▁▁▁</td></tr><tr><td>validation_accuracy</td><td>▁▄▆▆▇▇████</td></tr><tr><td>validation_loss</td><td>█▅▄▃▂▂▁▁▁▁</td></tr></table><br/></div><div class=\"wandb-col\"><h3>Run summary:</h3><br/><table class=\"wandb\"><tr><td>Accuracy</td><td>96.21667</td></tr><tr><td>epoch</td><td>10</td></tr><tr><td>training_accuracy</td><td>96.93</td></tr><tr><td>training_loss</td><td>0.15</td></tr><tr><td>validation_accuracy</td><td>96.22</td></tr><tr><td>validation_loss</td><td>0.17</td></tr></table><br/></div></div>"
            ]
          },
          "metadata": {}
        },
        {
          "output_type": "display_data",
          "data": {
            "text/plain": [
              "<IPython.core.display.HTML object>"
            ],
            "text/html": [
              " View run <strong style=\"color:#cdcd00\">charmed-sweep-36</strong> at: <a href='https://wandb.ai/cs23m015/DL-Assignment-1/runs/0x3jcis7' target=\"_blank\">https://wandb.ai/cs23m015/DL-Assignment-1/runs/0x3jcis7</a><br/>Synced 5 W&B file(s), 0 media file(s), 0 artifact file(s) and 0 other file(s)"
            ]
          },
          "metadata": {}
        },
        {
          "output_type": "display_data",
          "data": {
            "text/plain": [
              "<IPython.core.display.HTML object>"
            ],
            "text/html": [
              "Find logs at: <code>./wandb/run-20240316_191817-0x3jcis7/logs</code>"
            ]
          },
          "metadata": {}
        },
        {
          "output_type": "stream",
          "name": "stderr",
          "text": [
            "\u001b[34m\u001b[1mwandb\u001b[0m: Sweep Agent: Waiting for job.\n",
            "\u001b[34m\u001b[1mwandb\u001b[0m: Job received.\n",
            "\u001b[34m\u001b[1mwandb\u001b[0m: Agent Starting Run: 8whp4t4n with config:\n",
            "\u001b[34m\u001b[1mwandb\u001b[0m: \tactivation: relu\n",
            "\u001b[34m\u001b[1mwandb\u001b[0m: \talpha: 0\n",
            "\u001b[34m\u001b[1mwandb\u001b[0m: \tbatch: 64\n",
            "\u001b[34m\u001b[1mwandb\u001b[0m: \tbeta: 0.9\n",
            "\u001b[34m\u001b[1mwandb\u001b[0m: \tbeta1: 0.999\n",
            "\u001b[34m\u001b[1mwandb\u001b[0m: \tbeta2: 0.999\n",
            "\u001b[34m\u001b[1mwandb\u001b[0m: \te: 1e-06\n",
            "\u001b[34m\u001b[1mwandb\u001b[0m: \tfn_loss: cross_entropy\n",
            "\u001b[34m\u001b[1mwandb\u001b[0m: \thiddenlayers: 4\n",
            "\u001b[34m\u001b[1mwandb\u001b[0m: \tinitialization: xavier\n",
            "\u001b[34m\u001b[1mwandb\u001b[0m: \titer: 10\n",
            "\u001b[34m\u001b[1mwandb\u001b[0m: \tmom: 0.9\n",
            "\u001b[34m\u001b[1mwandb\u001b[0m: \tn: 0.001\n",
            "\u001b[34m\u001b[1mwandb\u001b[0m: \tneuron: 32\n",
            "\u001b[34m\u001b[1mwandb\u001b[0m: \toptimizer: rmsProp\n",
            "\u001b[34m\u001b[1mwandb\u001b[0m: \toutAct: softmax\n",
            "\u001b[34m\u001b[1mwandb\u001b[0m: \u001b[33mWARNING\u001b[0m Ignored wandb.init() arg project when running a sweep.\n"
          ]
        },
        {
          "output_type": "display_data",
          "data": {
            "text/plain": [
              "<IPython.core.display.HTML object>"
            ],
            "text/html": [
              "Tracking run with wandb version 0.16.4"
            ]
          },
          "metadata": {}
        },
        {
          "output_type": "display_data",
          "data": {
            "text/plain": [
              "<IPython.core.display.HTML object>"
            ],
            "text/html": [
              "Run data is saved locally in <code>/content/wandb/run-20240316_192145-8whp4t4n</code>"
            ]
          },
          "metadata": {}
        },
        {
          "output_type": "display_data",
          "data": {
            "text/plain": [
              "<IPython.core.display.HTML object>"
            ],
            "text/html": [
              "Syncing run <strong><a href='https://wandb.ai/cs23m015/DL-Assignment-1/runs/8whp4t4n' target=\"_blank\">robust-sweep-37</a></strong> to <a href='https://wandb.ai/cs23m015/DL-Assignment-1' target=\"_blank\">Weights & Biases</a> (<a href='https://wandb.me/run' target=\"_blank\">docs</a>)<br/>Sweep page: <a href='https://wandb.ai/cs23m015/DL-Assignment-1/sweeps/lfeqafjm' target=\"_blank\">https://wandb.ai/cs23m015/DL-Assignment-1/sweeps/lfeqafjm</a>"
            ]
          },
          "metadata": {}
        },
        {
          "output_type": "display_data",
          "data": {
            "text/plain": [
              "<IPython.core.display.HTML object>"
            ],
            "text/html": [
              " View project at <a href='https://wandb.ai/cs23m015/DL-Assignment-1' target=\"_blank\">https://wandb.ai/cs23m015/DL-Assignment-1</a>"
            ]
          },
          "metadata": {}
        },
        {
          "output_type": "display_data",
          "data": {
            "text/plain": [
              "<IPython.core.display.HTML object>"
            ],
            "text/html": [
              " View sweep at <a href='https://wandb.ai/cs23m015/DL-Assignment-1/sweeps/lfeqafjm' target=\"_blank\">https://wandb.ai/cs23m015/DL-Assignment-1/sweeps/lfeqafjm</a>"
            ]
          },
          "metadata": {}
        },
        {
          "output_type": "display_data",
          "data": {
            "text/plain": [
              "<IPython.core.display.HTML object>"
            ],
            "text/html": [
              " View run at <a href='https://wandb.ai/cs23m015/DL-Assignment-1/runs/8whp4t4n' target=\"_blank\">https://wandb.ai/cs23m015/DL-Assignment-1/runs/8whp4t4n</a>"
            ]
          },
          "metadata": {}
        },
        {
          "output_type": "display_data",
          "data": {
            "text/plain": [
              "VBox(children=(Label(value='0.011 MB of 0.011 MB uploaded\\r'), FloatProgress(value=1.0, max=1.0)))"
            ],
            "application/vnd.jupyter.widget-view+json": {
              "version_major": 2,
              "version_minor": 0,
              "model_id": "9e4a9f4a833140b9ab26d4bb6028378f"
            }
          },
          "metadata": {}
        },
        {
          "output_type": "display_data",
          "data": {
            "text/plain": [
              "<IPython.core.display.HTML object>"
            ],
            "text/html": [
              "<style>\n",
              "    table.wandb td:nth-child(1) { padding: 0 10px; text-align: left ; width: auto;} td:nth-child(2) {text-align: left ; width: 100%}\n",
              "    .wandb-row { display: flex; flex-direction: row; flex-wrap: wrap; justify-content: flex-start; width: 100% }\n",
              "    .wandb-col { display: flex; flex-direction: column; flex-basis: 100%; flex: 1; padding: 10px; }\n",
              "    </style>\n",
              "<div class=\"wandb-row\"><div class=\"wandb-col\"><h3>Run history:</h3><br/><table class=\"wandb\"><tr><td>Accuracy</td><td>▁</td></tr><tr><td>epoch</td><td>▁▂▃▃▄▅▆▆▇█</td></tr><tr><td>training_accuracy</td><td>▁▅▆▇▇▇████</td></tr><tr><td>training_loss</td><td>█▄▃▂▂▂▁▁▁▁</td></tr><tr><td>validation_accuracy</td><td>▁▅▆▇▇▇████</td></tr><tr><td>validation_loss</td><td>█▄▃▂▂▂▁▁▁▁</td></tr></table><br/></div><div class=\"wandb-col\"><h3>Run summary:</h3><br/><table class=\"wandb\"><tr><td>Accuracy</td><td>92.06667</td></tr><tr><td>epoch</td><td>10</td></tr><tr><td>training_accuracy</td><td>91.63</td></tr><tr><td>training_loss</td><td>0.43</td></tr><tr><td>validation_accuracy</td><td>92.07</td></tr><tr><td>validation_loss</td><td>0.42</td></tr></table><br/></div></div>"
            ]
          },
          "metadata": {}
        },
        {
          "output_type": "display_data",
          "data": {
            "text/plain": [
              "<IPython.core.display.HTML object>"
            ],
            "text/html": [
              " View run <strong style=\"color:#cdcd00\">robust-sweep-37</strong> at: <a href='https://wandb.ai/cs23m015/DL-Assignment-1/runs/8whp4t4n' target=\"_blank\">https://wandb.ai/cs23m015/DL-Assignment-1/runs/8whp4t4n</a><br/>Synced 4 W&B file(s), 0 media file(s), 0 artifact file(s) and 0 other file(s)"
            ]
          },
          "metadata": {}
        },
        {
          "output_type": "display_data",
          "data": {
            "text/plain": [
              "<IPython.core.display.HTML object>"
            ],
            "text/html": [
              "Find logs at: <code>./wandb/run-20240316_192145-8whp4t4n/logs</code>"
            ]
          },
          "metadata": {}
        },
        {
          "output_type": "stream",
          "name": "stderr",
          "text": [
            "\u001b[34m\u001b[1mwandb\u001b[0m: Agent Starting Run: segskol8 with config:\n",
            "\u001b[34m\u001b[1mwandb\u001b[0m: \tactivation: relu\n",
            "\u001b[34m\u001b[1mwandb\u001b[0m: \talpha: 0\n",
            "\u001b[34m\u001b[1mwandb\u001b[0m: \tbatch: 64\n",
            "\u001b[34m\u001b[1mwandb\u001b[0m: \tbeta: 0.9\n",
            "\u001b[34m\u001b[1mwandb\u001b[0m: \tbeta1: 0.999\n",
            "\u001b[34m\u001b[1mwandb\u001b[0m: \tbeta2: 0.999\n",
            "\u001b[34m\u001b[1mwandb\u001b[0m: \te: 1e-06\n",
            "\u001b[34m\u001b[1mwandb\u001b[0m: \tfn_loss: cross_entropy\n",
            "\u001b[34m\u001b[1mwandb\u001b[0m: \thiddenlayers: 4\n",
            "\u001b[34m\u001b[1mwandb\u001b[0m: \tinitialization: xavier\n",
            "\u001b[34m\u001b[1mwandb\u001b[0m: \titer: 10\n",
            "\u001b[34m\u001b[1mwandb\u001b[0m: \tmom: 0.9\n",
            "\u001b[34m\u001b[1mwandb\u001b[0m: \tn: 0.001\n",
            "\u001b[34m\u001b[1mwandb\u001b[0m: \tneuron: 32\n",
            "\u001b[34m\u001b[1mwandb\u001b[0m: \toptimizer: adam\n",
            "\u001b[34m\u001b[1mwandb\u001b[0m: \toutAct: softmax\n"
          ]
        }
      ]
    }
  ],
  "metadata": {
    "colab": {
      "provenance": []
    },
    "kernelspec": {
      "display_name": "Python 3",
      "name": "python3"
    },
    "language_info": {
      "codemirror_mode": {
        "name": "ipython",
        "version": 3
      },
      "file_extension": ".py",
      "mimetype": "text/x-python",
      "name": "python",
      "nbconvert_exporter": "python",
      "pygments_lexer": "ipython3",
      "version": "3.12.2"
    },
    "widgets": {
      "application/vnd.jupyter.widget-state+json": {
        "585050640a834876a7d72a2adda45e25": {
          "model_module": "@jupyter-widgets/controls",
          "model_name": "VBoxModel",
          "model_module_version": "1.5.0",
          "state": {
            "_dom_classes": [],
            "_model_module": "@jupyter-widgets/controls",
            "_model_module_version": "1.5.0",
            "_model_name": "VBoxModel",
            "_view_count": null,
            "_view_module": "@jupyter-widgets/controls",
            "_view_module_version": "1.5.0",
            "_view_name": "VBoxView",
            "box_style": "",
            "children": [
              "IPY_MODEL_918937a1116541fdb66ed0ac764bd6c4",
              "IPY_MODEL_181d6ecf2b564e359447e67e285e7db2"
            ],
            "layout": "IPY_MODEL_87a645b4f4ba42e3ab8b5c53b7df9d91"
          }
        },
        "918937a1116541fdb66ed0ac764bd6c4": {
          "model_module": "@jupyter-widgets/controls",
          "model_name": "LabelModel",
          "model_module_version": "1.5.0",
          "state": {
            "_dom_classes": [],
            "_model_module": "@jupyter-widgets/controls",
            "_model_module_version": "1.5.0",
            "_model_name": "LabelModel",
            "_view_count": null,
            "_view_module": "@jupyter-widgets/controls",
            "_view_module_version": "1.5.0",
            "_view_name": "LabelView",
            "description": "",
            "description_tooltip": null,
            "layout": "IPY_MODEL_0b233944e65f486db7e9f69594f28071",
            "placeholder": "​",
            "style": "IPY_MODEL_d13412fb22c04493b2f753729fc47748",
            "value": "0.069 MB of 0.069 MB uploaded\r"
          }
        },
        "181d6ecf2b564e359447e67e285e7db2": {
          "model_module": "@jupyter-widgets/controls",
          "model_name": "FloatProgressModel",
          "model_module_version": "1.5.0",
          "state": {
            "_dom_classes": [],
            "_model_module": "@jupyter-widgets/controls",
            "_model_module_version": "1.5.0",
            "_model_name": "FloatProgressModel",
            "_view_count": null,
            "_view_module": "@jupyter-widgets/controls",
            "_view_module_version": "1.5.0",
            "_view_name": "ProgressView",
            "bar_style": "",
            "description": "",
            "description_tooltip": null,
            "layout": "IPY_MODEL_572ee79d6dad4aa4bb864d3d1fa9e4e9",
            "max": 1,
            "min": 0,
            "orientation": "horizontal",
            "style": "IPY_MODEL_678f2112abe84c348c141bfc16924225",
            "value": 1
          }
        },
        "87a645b4f4ba42e3ab8b5c53b7df9d91": {
          "model_module": "@jupyter-widgets/base",
          "model_name": "LayoutModel",
          "model_module_version": "1.2.0",
          "state": {
            "_model_module": "@jupyter-widgets/base",
            "_model_module_version": "1.2.0",
            "_model_name": "LayoutModel",
            "_view_count": null,
            "_view_module": "@jupyter-widgets/base",
            "_view_module_version": "1.2.0",
            "_view_name": "LayoutView",
            "align_content": null,
            "align_items": null,
            "align_self": null,
            "border": null,
            "bottom": null,
            "display": null,
            "flex": null,
            "flex_flow": null,
            "grid_area": null,
            "grid_auto_columns": null,
            "grid_auto_flow": null,
            "grid_auto_rows": null,
            "grid_column": null,
            "grid_gap": null,
            "grid_row": null,
            "grid_template_areas": null,
            "grid_template_columns": null,
            "grid_template_rows": null,
            "height": null,
            "justify_content": null,
            "justify_items": null,
            "left": null,
            "margin": null,
            "max_height": null,
            "max_width": null,
            "min_height": null,
            "min_width": null,
            "object_fit": null,
            "object_position": null,
            "order": null,
            "overflow": null,
            "overflow_x": null,
            "overflow_y": null,
            "padding": null,
            "right": null,
            "top": null,
            "visibility": null,
            "width": null
          }
        },
        "0b233944e65f486db7e9f69594f28071": {
          "model_module": "@jupyter-widgets/base",
          "model_name": "LayoutModel",
          "model_module_version": "1.2.0",
          "state": {
            "_model_module": "@jupyter-widgets/base",
            "_model_module_version": "1.2.0",
            "_model_name": "LayoutModel",
            "_view_count": null,
            "_view_module": "@jupyter-widgets/base",
            "_view_module_version": "1.2.0",
            "_view_name": "LayoutView",
            "align_content": null,
            "align_items": null,
            "align_self": null,
            "border": null,
            "bottom": null,
            "display": null,
            "flex": null,
            "flex_flow": null,
            "grid_area": null,
            "grid_auto_columns": null,
            "grid_auto_flow": null,
            "grid_auto_rows": null,
            "grid_column": null,
            "grid_gap": null,
            "grid_row": null,
            "grid_template_areas": null,
            "grid_template_columns": null,
            "grid_template_rows": null,
            "height": null,
            "justify_content": null,
            "justify_items": null,
            "left": null,
            "margin": null,
            "max_height": null,
            "max_width": null,
            "min_height": null,
            "min_width": null,
            "object_fit": null,
            "object_position": null,
            "order": null,
            "overflow": null,
            "overflow_x": null,
            "overflow_y": null,
            "padding": null,
            "right": null,
            "top": null,
            "visibility": null,
            "width": null
          }
        },
        "d13412fb22c04493b2f753729fc47748": {
          "model_module": "@jupyter-widgets/controls",
          "model_name": "DescriptionStyleModel",
          "model_module_version": "1.5.0",
          "state": {
            "_model_module": "@jupyter-widgets/controls",
            "_model_module_version": "1.5.0",
            "_model_name": "DescriptionStyleModel",
            "_view_count": null,
            "_view_module": "@jupyter-widgets/base",
            "_view_module_version": "1.2.0",
            "_view_name": "StyleView",
            "description_width": ""
          }
        },
        "572ee79d6dad4aa4bb864d3d1fa9e4e9": {
          "model_module": "@jupyter-widgets/base",
          "model_name": "LayoutModel",
          "model_module_version": "1.2.0",
          "state": {
            "_model_module": "@jupyter-widgets/base",
            "_model_module_version": "1.2.0",
            "_model_name": "LayoutModel",
            "_view_count": null,
            "_view_module": "@jupyter-widgets/base",
            "_view_module_version": "1.2.0",
            "_view_name": "LayoutView",
            "align_content": null,
            "align_items": null,
            "align_self": null,
            "border": null,
            "bottom": null,
            "display": null,
            "flex": null,
            "flex_flow": null,
            "grid_area": null,
            "grid_auto_columns": null,
            "grid_auto_flow": null,
            "grid_auto_rows": null,
            "grid_column": null,
            "grid_gap": null,
            "grid_row": null,
            "grid_template_areas": null,
            "grid_template_columns": null,
            "grid_template_rows": null,
            "height": null,
            "justify_content": null,
            "justify_items": null,
            "left": null,
            "margin": null,
            "max_height": null,
            "max_width": null,
            "min_height": null,
            "min_width": null,
            "object_fit": null,
            "object_position": null,
            "order": null,
            "overflow": null,
            "overflow_x": null,
            "overflow_y": null,
            "padding": null,
            "right": null,
            "top": null,
            "visibility": null,
            "width": null
          }
        },
        "678f2112abe84c348c141bfc16924225": {
          "model_module": "@jupyter-widgets/controls",
          "model_name": "ProgressStyleModel",
          "model_module_version": "1.5.0",
          "state": {
            "_model_module": "@jupyter-widgets/controls",
            "_model_module_version": "1.5.0",
            "_model_name": "ProgressStyleModel",
            "_view_count": null,
            "_view_module": "@jupyter-widgets/base",
            "_view_module_version": "1.2.0",
            "_view_name": "StyleView",
            "bar_color": null,
            "description_width": ""
          }
        },
        "b53abde63e71444cb3b578a323c23a80": {
          "model_module": "@jupyter-widgets/controls",
          "model_name": "VBoxModel",
          "model_module_version": "1.5.0",
          "state": {
            "_dom_classes": [],
            "_model_module": "@jupyter-widgets/controls",
            "_model_module_version": "1.5.0",
            "_model_name": "VBoxModel",
            "_view_count": null,
            "_view_module": "@jupyter-widgets/controls",
            "_view_module_version": "1.5.0",
            "_view_name": "VBoxView",
            "box_style": "",
            "children": [
              "IPY_MODEL_fc8570047a774892838fec56fb37eb35",
              "IPY_MODEL_aea08addd9364e658b16c871c92ba052"
            ],
            "layout": "IPY_MODEL_42d5cacabf2b4620bb6ff9362b8db7b8"
          }
        },
        "fc8570047a774892838fec56fb37eb35": {
          "model_module": "@jupyter-widgets/controls",
          "model_name": "LabelModel",
          "model_module_version": "1.5.0",
          "state": {
            "_dom_classes": [],
            "_model_module": "@jupyter-widgets/controls",
            "_model_module_version": "1.5.0",
            "_model_name": "LabelModel",
            "_view_count": null,
            "_view_module": "@jupyter-widgets/controls",
            "_view_module_version": "1.5.0",
            "_view_name": "LabelView",
            "description": "",
            "description_tooltip": null,
            "layout": "IPY_MODEL_501065745da849b092a70c593d0d78c5",
            "placeholder": "​",
            "style": "IPY_MODEL_5cf71e607e4846cd96acf78cebd6a2d3",
            "value": "0.011 MB of 0.011 MB uploaded\r"
          }
        },
        "aea08addd9364e658b16c871c92ba052": {
          "model_module": "@jupyter-widgets/controls",
          "model_name": "FloatProgressModel",
          "model_module_version": "1.5.0",
          "state": {
            "_dom_classes": [],
            "_model_module": "@jupyter-widgets/controls",
            "_model_module_version": "1.5.0",
            "_model_name": "FloatProgressModel",
            "_view_count": null,
            "_view_module": "@jupyter-widgets/controls",
            "_view_module_version": "1.5.0",
            "_view_name": "ProgressView",
            "bar_style": "",
            "description": "",
            "description_tooltip": null,
            "layout": "IPY_MODEL_64ffac6f95ec422695766ff62fb10672",
            "max": 1,
            "min": 0,
            "orientation": "horizontal",
            "style": "IPY_MODEL_766c23f83f9e4c80bb6a1eb9d25a79da",
            "value": 1
          }
        },
        "42d5cacabf2b4620bb6ff9362b8db7b8": {
          "model_module": "@jupyter-widgets/base",
          "model_name": "LayoutModel",
          "model_module_version": "1.2.0",
          "state": {
            "_model_module": "@jupyter-widgets/base",
            "_model_module_version": "1.2.0",
            "_model_name": "LayoutModel",
            "_view_count": null,
            "_view_module": "@jupyter-widgets/base",
            "_view_module_version": "1.2.0",
            "_view_name": "LayoutView",
            "align_content": null,
            "align_items": null,
            "align_self": null,
            "border": null,
            "bottom": null,
            "display": null,
            "flex": null,
            "flex_flow": null,
            "grid_area": null,
            "grid_auto_columns": null,
            "grid_auto_flow": null,
            "grid_auto_rows": null,
            "grid_column": null,
            "grid_gap": null,
            "grid_row": null,
            "grid_template_areas": null,
            "grid_template_columns": null,
            "grid_template_rows": null,
            "height": null,
            "justify_content": null,
            "justify_items": null,
            "left": null,
            "margin": null,
            "max_height": null,
            "max_width": null,
            "min_height": null,
            "min_width": null,
            "object_fit": null,
            "object_position": null,
            "order": null,
            "overflow": null,
            "overflow_x": null,
            "overflow_y": null,
            "padding": null,
            "right": null,
            "top": null,
            "visibility": null,
            "width": null
          }
        },
        "501065745da849b092a70c593d0d78c5": {
          "model_module": "@jupyter-widgets/base",
          "model_name": "LayoutModel",
          "model_module_version": "1.2.0",
          "state": {
            "_model_module": "@jupyter-widgets/base",
            "_model_module_version": "1.2.0",
            "_model_name": "LayoutModel",
            "_view_count": null,
            "_view_module": "@jupyter-widgets/base",
            "_view_module_version": "1.2.0",
            "_view_name": "LayoutView",
            "align_content": null,
            "align_items": null,
            "align_self": null,
            "border": null,
            "bottom": null,
            "display": null,
            "flex": null,
            "flex_flow": null,
            "grid_area": null,
            "grid_auto_columns": null,
            "grid_auto_flow": null,
            "grid_auto_rows": null,
            "grid_column": null,
            "grid_gap": null,
            "grid_row": null,
            "grid_template_areas": null,
            "grid_template_columns": null,
            "grid_template_rows": null,
            "height": null,
            "justify_content": null,
            "justify_items": null,
            "left": null,
            "margin": null,
            "max_height": null,
            "max_width": null,
            "min_height": null,
            "min_width": null,
            "object_fit": null,
            "object_position": null,
            "order": null,
            "overflow": null,
            "overflow_x": null,
            "overflow_y": null,
            "padding": null,
            "right": null,
            "top": null,
            "visibility": null,
            "width": null
          }
        },
        "5cf71e607e4846cd96acf78cebd6a2d3": {
          "model_module": "@jupyter-widgets/controls",
          "model_name": "DescriptionStyleModel",
          "model_module_version": "1.5.0",
          "state": {
            "_model_module": "@jupyter-widgets/controls",
            "_model_module_version": "1.5.0",
            "_model_name": "DescriptionStyleModel",
            "_view_count": null,
            "_view_module": "@jupyter-widgets/base",
            "_view_module_version": "1.2.0",
            "_view_name": "StyleView",
            "description_width": ""
          }
        },
        "64ffac6f95ec422695766ff62fb10672": {
          "model_module": "@jupyter-widgets/base",
          "model_name": "LayoutModel",
          "model_module_version": "1.2.0",
          "state": {
            "_model_module": "@jupyter-widgets/base",
            "_model_module_version": "1.2.0",
            "_model_name": "LayoutModel",
            "_view_count": null,
            "_view_module": "@jupyter-widgets/base",
            "_view_module_version": "1.2.0",
            "_view_name": "LayoutView",
            "align_content": null,
            "align_items": null,
            "align_self": null,
            "border": null,
            "bottom": null,
            "display": null,
            "flex": null,
            "flex_flow": null,
            "grid_area": null,
            "grid_auto_columns": null,
            "grid_auto_flow": null,
            "grid_auto_rows": null,
            "grid_column": null,
            "grid_gap": null,
            "grid_row": null,
            "grid_template_areas": null,
            "grid_template_columns": null,
            "grid_template_rows": null,
            "height": null,
            "justify_content": null,
            "justify_items": null,
            "left": null,
            "margin": null,
            "max_height": null,
            "max_width": null,
            "min_height": null,
            "min_width": null,
            "object_fit": null,
            "object_position": null,
            "order": null,
            "overflow": null,
            "overflow_x": null,
            "overflow_y": null,
            "padding": null,
            "right": null,
            "top": null,
            "visibility": null,
            "width": null
          }
        },
        "766c23f83f9e4c80bb6a1eb9d25a79da": {
          "model_module": "@jupyter-widgets/controls",
          "model_name": "ProgressStyleModel",
          "model_module_version": "1.5.0",
          "state": {
            "_model_module": "@jupyter-widgets/controls",
            "_model_module_version": "1.5.0",
            "_model_name": "ProgressStyleModel",
            "_view_count": null,
            "_view_module": "@jupyter-widgets/base",
            "_view_module_version": "1.2.0",
            "_view_name": "StyleView",
            "bar_color": null,
            "description_width": ""
          }
        },
        "c8c47248bdff4432bfb31d6b34278f73": {
          "model_module": "@jupyter-widgets/controls",
          "model_name": "VBoxModel",
          "model_module_version": "1.5.0",
          "state": {
            "_dom_classes": [],
            "_model_module": "@jupyter-widgets/controls",
            "_model_module_version": "1.5.0",
            "_model_name": "VBoxModel",
            "_view_count": null,
            "_view_module": "@jupyter-widgets/controls",
            "_view_module_version": "1.5.0",
            "_view_name": "VBoxView",
            "box_style": "",
            "children": [
              "IPY_MODEL_17b33df4d8a843d480af5e2c7d566566",
              "IPY_MODEL_0ba3c15a04454bb296ff73bd7f70d890"
            ],
            "layout": "IPY_MODEL_ef8eb1ebe47545039c442e05e4f11bd6"
          }
        },
        "17b33df4d8a843d480af5e2c7d566566": {
          "model_module": "@jupyter-widgets/controls",
          "model_name": "LabelModel",
          "model_module_version": "1.5.0",
          "state": {
            "_dom_classes": [],
            "_model_module": "@jupyter-widgets/controls",
            "_model_module_version": "1.5.0",
            "_model_name": "LabelModel",
            "_view_count": null,
            "_view_module": "@jupyter-widgets/controls",
            "_view_module_version": "1.5.0",
            "_view_name": "LabelView",
            "description": "",
            "description_tooltip": null,
            "layout": "IPY_MODEL_9a8e48045e014d9cb92b4db462497232",
            "placeholder": "​",
            "style": "IPY_MODEL_4b0a25fb02d44f8cb4a268b298259203",
            "value": "Waiting for wandb.init()...\r"
          }
        },
        "0ba3c15a04454bb296ff73bd7f70d890": {
          "model_module": "@jupyter-widgets/controls",
          "model_name": "FloatProgressModel",
          "model_module_version": "1.5.0",
          "state": {
            "_dom_classes": [],
            "_model_module": "@jupyter-widgets/controls",
            "_model_module_version": "1.5.0",
            "_model_name": "FloatProgressModel",
            "_view_count": null,
            "_view_module": "@jupyter-widgets/controls",
            "_view_module_version": "1.5.0",
            "_view_name": "ProgressView",
            "bar_style": "",
            "description": "",
            "description_tooltip": null,
            "layout": "IPY_MODEL_5fd0532e07a94df38392fd8a53c2ebbc",
            "max": 1,
            "min": 0,
            "orientation": "horizontal",
            "style": "IPY_MODEL_b1bb54245b474b19bc73a5a5b4b673fa",
            "value": 1
          }
        },
        "ef8eb1ebe47545039c442e05e4f11bd6": {
          "model_module": "@jupyter-widgets/base",
          "model_name": "LayoutModel",
          "model_module_version": "1.2.0",
          "state": {
            "_model_module": "@jupyter-widgets/base",
            "_model_module_version": "1.2.0",
            "_model_name": "LayoutModel",
            "_view_count": null,
            "_view_module": "@jupyter-widgets/base",
            "_view_module_version": "1.2.0",
            "_view_name": "LayoutView",
            "align_content": null,
            "align_items": null,
            "align_self": null,
            "border": null,
            "bottom": null,
            "display": null,
            "flex": null,
            "flex_flow": null,
            "grid_area": null,
            "grid_auto_columns": null,
            "grid_auto_flow": null,
            "grid_auto_rows": null,
            "grid_column": null,
            "grid_gap": null,
            "grid_row": null,
            "grid_template_areas": null,
            "grid_template_columns": null,
            "grid_template_rows": null,
            "height": null,
            "justify_content": null,
            "justify_items": null,
            "left": null,
            "margin": null,
            "max_height": null,
            "max_width": null,
            "min_height": null,
            "min_width": null,
            "object_fit": null,
            "object_position": null,
            "order": null,
            "overflow": null,
            "overflow_x": null,
            "overflow_y": null,
            "padding": null,
            "right": null,
            "top": null,
            "visibility": null,
            "width": null
          }
        },
        "9a8e48045e014d9cb92b4db462497232": {
          "model_module": "@jupyter-widgets/base",
          "model_name": "LayoutModel",
          "model_module_version": "1.2.0",
          "state": {
            "_model_module": "@jupyter-widgets/base",
            "_model_module_version": "1.2.0",
            "_model_name": "LayoutModel",
            "_view_count": null,
            "_view_module": "@jupyter-widgets/base",
            "_view_module_version": "1.2.0",
            "_view_name": "LayoutView",
            "align_content": null,
            "align_items": null,
            "align_self": null,
            "border": null,
            "bottom": null,
            "display": null,
            "flex": null,
            "flex_flow": null,
            "grid_area": null,
            "grid_auto_columns": null,
            "grid_auto_flow": null,
            "grid_auto_rows": null,
            "grid_column": null,
            "grid_gap": null,
            "grid_row": null,
            "grid_template_areas": null,
            "grid_template_columns": null,
            "grid_template_rows": null,
            "height": null,
            "justify_content": null,
            "justify_items": null,
            "left": null,
            "margin": null,
            "max_height": null,
            "max_width": null,
            "min_height": null,
            "min_width": null,
            "object_fit": null,
            "object_position": null,
            "order": null,
            "overflow": null,
            "overflow_x": null,
            "overflow_y": null,
            "padding": null,
            "right": null,
            "top": null,
            "visibility": null,
            "width": null
          }
        },
        "4b0a25fb02d44f8cb4a268b298259203": {
          "model_module": "@jupyter-widgets/controls",
          "model_name": "DescriptionStyleModel",
          "model_module_version": "1.5.0",
          "state": {
            "_model_module": "@jupyter-widgets/controls",
            "_model_module_version": "1.5.0",
            "_model_name": "DescriptionStyleModel",
            "_view_count": null,
            "_view_module": "@jupyter-widgets/base",
            "_view_module_version": "1.2.0",
            "_view_name": "StyleView",
            "description_width": ""
          }
        },
        "5fd0532e07a94df38392fd8a53c2ebbc": {
          "model_module": "@jupyter-widgets/base",
          "model_name": "LayoutModel",
          "model_module_version": "1.2.0",
          "state": {
            "_model_module": "@jupyter-widgets/base",
            "_model_module_version": "1.2.0",
            "_model_name": "LayoutModel",
            "_view_count": null,
            "_view_module": "@jupyter-widgets/base",
            "_view_module_version": "1.2.0",
            "_view_name": "LayoutView",
            "align_content": null,
            "align_items": null,
            "align_self": null,
            "border": null,
            "bottom": null,
            "display": null,
            "flex": null,
            "flex_flow": null,
            "grid_area": null,
            "grid_auto_columns": null,
            "grid_auto_flow": null,
            "grid_auto_rows": null,
            "grid_column": null,
            "grid_gap": null,
            "grid_row": null,
            "grid_template_areas": null,
            "grid_template_columns": null,
            "grid_template_rows": null,
            "height": null,
            "justify_content": null,
            "justify_items": null,
            "left": null,
            "margin": null,
            "max_height": null,
            "max_width": null,
            "min_height": null,
            "min_width": null,
            "object_fit": null,
            "object_position": null,
            "order": null,
            "overflow": null,
            "overflow_x": null,
            "overflow_y": null,
            "padding": null,
            "right": null,
            "top": null,
            "visibility": null,
            "width": null
          }
        },
        "b1bb54245b474b19bc73a5a5b4b673fa": {
          "model_module": "@jupyter-widgets/controls",
          "model_name": "ProgressStyleModel",
          "model_module_version": "1.5.0",
          "state": {
            "_model_module": "@jupyter-widgets/controls",
            "_model_module_version": "1.5.0",
            "_model_name": "ProgressStyleModel",
            "_view_count": null,
            "_view_module": "@jupyter-widgets/base",
            "_view_module_version": "1.2.0",
            "_view_name": "StyleView",
            "bar_color": null,
            "description_width": ""
          }
        },
        "94e50396b9204ac1bb742320d0783159": {
          "model_module": "@jupyter-widgets/controls",
          "model_name": "VBoxModel",
          "model_module_version": "1.5.0",
          "state": {
            "_dom_classes": [],
            "_model_module": "@jupyter-widgets/controls",
            "_model_module_version": "1.5.0",
            "_model_name": "VBoxModel",
            "_view_count": null,
            "_view_module": "@jupyter-widgets/controls",
            "_view_module_version": "1.5.0",
            "_view_name": "VBoxView",
            "box_style": "",
            "children": [
              "IPY_MODEL_4afe52ed565146e9905ccf108e60cb1c",
              "IPY_MODEL_7f51763685ee442a838e201bc25deb4f"
            ],
            "layout": "IPY_MODEL_6e5872c5977f4976b9142758ae323ec6"
          }
        },
        "4afe52ed565146e9905ccf108e60cb1c": {
          "model_module": "@jupyter-widgets/controls",
          "model_name": "LabelModel",
          "model_module_version": "1.5.0",
          "state": {
            "_dom_classes": [],
            "_model_module": "@jupyter-widgets/controls",
            "_model_module_version": "1.5.0",
            "_model_name": "LabelModel",
            "_view_count": null,
            "_view_module": "@jupyter-widgets/controls",
            "_view_module_version": "1.5.0",
            "_view_name": "LabelView",
            "description": "",
            "description_tooltip": null,
            "layout": "IPY_MODEL_1299e056684f4f91b39d179c80834d2a",
            "placeholder": "​",
            "style": "IPY_MODEL_7f19740747524eb689f14a7e996c28b3",
            "value": "0.011 MB of 0.011 MB uploaded\r"
          }
        },
        "7f51763685ee442a838e201bc25deb4f": {
          "model_module": "@jupyter-widgets/controls",
          "model_name": "FloatProgressModel",
          "model_module_version": "1.5.0",
          "state": {
            "_dom_classes": [],
            "_model_module": "@jupyter-widgets/controls",
            "_model_module_version": "1.5.0",
            "_model_name": "FloatProgressModel",
            "_view_count": null,
            "_view_module": "@jupyter-widgets/controls",
            "_view_module_version": "1.5.0",
            "_view_name": "ProgressView",
            "bar_style": "",
            "description": "",
            "description_tooltip": null,
            "layout": "IPY_MODEL_a892ea0036bd420b965cd0158cfbb712",
            "max": 1,
            "min": 0,
            "orientation": "horizontal",
            "style": "IPY_MODEL_cdff152cebc644f2b168aebb56fb2ca0",
            "value": 1
          }
        },
        "6e5872c5977f4976b9142758ae323ec6": {
          "model_module": "@jupyter-widgets/base",
          "model_name": "LayoutModel",
          "model_module_version": "1.2.0",
          "state": {
            "_model_module": "@jupyter-widgets/base",
            "_model_module_version": "1.2.0",
            "_model_name": "LayoutModel",
            "_view_count": null,
            "_view_module": "@jupyter-widgets/base",
            "_view_module_version": "1.2.0",
            "_view_name": "LayoutView",
            "align_content": null,
            "align_items": null,
            "align_self": null,
            "border": null,
            "bottom": null,
            "display": null,
            "flex": null,
            "flex_flow": null,
            "grid_area": null,
            "grid_auto_columns": null,
            "grid_auto_flow": null,
            "grid_auto_rows": null,
            "grid_column": null,
            "grid_gap": null,
            "grid_row": null,
            "grid_template_areas": null,
            "grid_template_columns": null,
            "grid_template_rows": null,
            "height": null,
            "justify_content": null,
            "justify_items": null,
            "left": null,
            "margin": null,
            "max_height": null,
            "max_width": null,
            "min_height": null,
            "min_width": null,
            "object_fit": null,
            "object_position": null,
            "order": null,
            "overflow": null,
            "overflow_x": null,
            "overflow_y": null,
            "padding": null,
            "right": null,
            "top": null,
            "visibility": null,
            "width": null
          }
        },
        "1299e056684f4f91b39d179c80834d2a": {
          "model_module": "@jupyter-widgets/base",
          "model_name": "LayoutModel",
          "model_module_version": "1.2.0",
          "state": {
            "_model_module": "@jupyter-widgets/base",
            "_model_module_version": "1.2.0",
            "_model_name": "LayoutModel",
            "_view_count": null,
            "_view_module": "@jupyter-widgets/base",
            "_view_module_version": "1.2.0",
            "_view_name": "LayoutView",
            "align_content": null,
            "align_items": null,
            "align_self": null,
            "border": null,
            "bottom": null,
            "display": null,
            "flex": null,
            "flex_flow": null,
            "grid_area": null,
            "grid_auto_columns": null,
            "grid_auto_flow": null,
            "grid_auto_rows": null,
            "grid_column": null,
            "grid_gap": null,
            "grid_row": null,
            "grid_template_areas": null,
            "grid_template_columns": null,
            "grid_template_rows": null,
            "height": null,
            "justify_content": null,
            "justify_items": null,
            "left": null,
            "margin": null,
            "max_height": null,
            "max_width": null,
            "min_height": null,
            "min_width": null,
            "object_fit": null,
            "object_position": null,
            "order": null,
            "overflow": null,
            "overflow_x": null,
            "overflow_y": null,
            "padding": null,
            "right": null,
            "top": null,
            "visibility": null,
            "width": null
          }
        },
        "7f19740747524eb689f14a7e996c28b3": {
          "model_module": "@jupyter-widgets/controls",
          "model_name": "DescriptionStyleModel",
          "model_module_version": "1.5.0",
          "state": {
            "_model_module": "@jupyter-widgets/controls",
            "_model_module_version": "1.5.0",
            "_model_name": "DescriptionStyleModel",
            "_view_count": null,
            "_view_module": "@jupyter-widgets/base",
            "_view_module_version": "1.2.0",
            "_view_name": "StyleView",
            "description_width": ""
          }
        },
        "a892ea0036bd420b965cd0158cfbb712": {
          "model_module": "@jupyter-widgets/base",
          "model_name": "LayoutModel",
          "model_module_version": "1.2.0",
          "state": {
            "_model_module": "@jupyter-widgets/base",
            "_model_module_version": "1.2.0",
            "_model_name": "LayoutModel",
            "_view_count": null,
            "_view_module": "@jupyter-widgets/base",
            "_view_module_version": "1.2.0",
            "_view_name": "LayoutView",
            "align_content": null,
            "align_items": null,
            "align_self": null,
            "border": null,
            "bottom": null,
            "display": null,
            "flex": null,
            "flex_flow": null,
            "grid_area": null,
            "grid_auto_columns": null,
            "grid_auto_flow": null,
            "grid_auto_rows": null,
            "grid_column": null,
            "grid_gap": null,
            "grid_row": null,
            "grid_template_areas": null,
            "grid_template_columns": null,
            "grid_template_rows": null,
            "height": null,
            "justify_content": null,
            "justify_items": null,
            "left": null,
            "margin": null,
            "max_height": null,
            "max_width": null,
            "min_height": null,
            "min_width": null,
            "object_fit": null,
            "object_position": null,
            "order": null,
            "overflow": null,
            "overflow_x": null,
            "overflow_y": null,
            "padding": null,
            "right": null,
            "top": null,
            "visibility": null,
            "width": null
          }
        },
        "cdff152cebc644f2b168aebb56fb2ca0": {
          "model_module": "@jupyter-widgets/controls",
          "model_name": "ProgressStyleModel",
          "model_module_version": "1.5.0",
          "state": {
            "_model_module": "@jupyter-widgets/controls",
            "_model_module_version": "1.5.0",
            "_model_name": "ProgressStyleModel",
            "_view_count": null,
            "_view_module": "@jupyter-widgets/base",
            "_view_module_version": "1.2.0",
            "_view_name": "StyleView",
            "bar_color": null,
            "description_width": ""
          }
        },
        "f6becd62b29440f6a514d4ea06b92219": {
          "model_module": "@jupyter-widgets/controls",
          "model_name": "VBoxModel",
          "model_module_version": "1.5.0",
          "state": {
            "_dom_classes": [],
            "_model_module": "@jupyter-widgets/controls",
            "_model_module_version": "1.5.0",
            "_model_name": "VBoxModel",
            "_view_count": null,
            "_view_module": "@jupyter-widgets/controls",
            "_view_module_version": "1.5.0",
            "_view_name": "VBoxView",
            "box_style": "",
            "children": [
              "IPY_MODEL_d7bc15de007f4109a185680e2cfc2841",
              "IPY_MODEL_9dcf55014de44233b933bdf10b19fb5c"
            ],
            "layout": "IPY_MODEL_75c7d049f5ba48e59d04ef899116ffd5"
          }
        },
        "d7bc15de007f4109a185680e2cfc2841": {
          "model_module": "@jupyter-widgets/controls",
          "model_name": "LabelModel",
          "model_module_version": "1.5.0",
          "state": {
            "_dom_classes": [],
            "_model_module": "@jupyter-widgets/controls",
            "_model_module_version": "1.5.0",
            "_model_name": "LabelModel",
            "_view_count": null,
            "_view_module": "@jupyter-widgets/controls",
            "_view_module_version": "1.5.0",
            "_view_name": "LabelView",
            "description": "",
            "description_tooltip": null,
            "layout": "IPY_MODEL_62aa3c9ff11f4cfb8604a173981253a0",
            "placeholder": "​",
            "style": "IPY_MODEL_fb64f4063bdc4c7fa1b3d35d0092ece7",
            "value": "0.013 MB of 0.013 MB uploaded\r"
          }
        },
        "9dcf55014de44233b933bdf10b19fb5c": {
          "model_module": "@jupyter-widgets/controls",
          "model_name": "FloatProgressModel",
          "model_module_version": "1.5.0",
          "state": {
            "_dom_classes": [],
            "_model_module": "@jupyter-widgets/controls",
            "_model_module_version": "1.5.0",
            "_model_name": "FloatProgressModel",
            "_view_count": null,
            "_view_module": "@jupyter-widgets/controls",
            "_view_module_version": "1.5.0",
            "_view_name": "ProgressView",
            "bar_style": "",
            "description": "",
            "description_tooltip": null,
            "layout": "IPY_MODEL_b274840850b242b982eb305cfc745946",
            "max": 1,
            "min": 0,
            "orientation": "horizontal",
            "style": "IPY_MODEL_68b439834066424b84b0a2dcb0f4aab7",
            "value": 1
          }
        },
        "75c7d049f5ba48e59d04ef899116ffd5": {
          "model_module": "@jupyter-widgets/base",
          "model_name": "LayoutModel",
          "model_module_version": "1.2.0",
          "state": {
            "_model_module": "@jupyter-widgets/base",
            "_model_module_version": "1.2.0",
            "_model_name": "LayoutModel",
            "_view_count": null,
            "_view_module": "@jupyter-widgets/base",
            "_view_module_version": "1.2.0",
            "_view_name": "LayoutView",
            "align_content": null,
            "align_items": null,
            "align_self": null,
            "border": null,
            "bottom": null,
            "display": null,
            "flex": null,
            "flex_flow": null,
            "grid_area": null,
            "grid_auto_columns": null,
            "grid_auto_flow": null,
            "grid_auto_rows": null,
            "grid_column": null,
            "grid_gap": null,
            "grid_row": null,
            "grid_template_areas": null,
            "grid_template_columns": null,
            "grid_template_rows": null,
            "height": null,
            "justify_content": null,
            "justify_items": null,
            "left": null,
            "margin": null,
            "max_height": null,
            "max_width": null,
            "min_height": null,
            "min_width": null,
            "object_fit": null,
            "object_position": null,
            "order": null,
            "overflow": null,
            "overflow_x": null,
            "overflow_y": null,
            "padding": null,
            "right": null,
            "top": null,
            "visibility": null,
            "width": null
          }
        },
        "62aa3c9ff11f4cfb8604a173981253a0": {
          "model_module": "@jupyter-widgets/base",
          "model_name": "LayoutModel",
          "model_module_version": "1.2.0",
          "state": {
            "_model_module": "@jupyter-widgets/base",
            "_model_module_version": "1.2.0",
            "_model_name": "LayoutModel",
            "_view_count": null,
            "_view_module": "@jupyter-widgets/base",
            "_view_module_version": "1.2.0",
            "_view_name": "LayoutView",
            "align_content": null,
            "align_items": null,
            "align_self": null,
            "border": null,
            "bottom": null,
            "display": null,
            "flex": null,
            "flex_flow": null,
            "grid_area": null,
            "grid_auto_columns": null,
            "grid_auto_flow": null,
            "grid_auto_rows": null,
            "grid_column": null,
            "grid_gap": null,
            "grid_row": null,
            "grid_template_areas": null,
            "grid_template_columns": null,
            "grid_template_rows": null,
            "height": null,
            "justify_content": null,
            "justify_items": null,
            "left": null,
            "margin": null,
            "max_height": null,
            "max_width": null,
            "min_height": null,
            "min_width": null,
            "object_fit": null,
            "object_position": null,
            "order": null,
            "overflow": null,
            "overflow_x": null,
            "overflow_y": null,
            "padding": null,
            "right": null,
            "top": null,
            "visibility": null,
            "width": null
          }
        },
        "fb64f4063bdc4c7fa1b3d35d0092ece7": {
          "model_module": "@jupyter-widgets/controls",
          "model_name": "DescriptionStyleModel",
          "model_module_version": "1.5.0",
          "state": {
            "_model_module": "@jupyter-widgets/controls",
            "_model_module_version": "1.5.0",
            "_model_name": "DescriptionStyleModel",
            "_view_count": null,
            "_view_module": "@jupyter-widgets/base",
            "_view_module_version": "1.2.0",
            "_view_name": "StyleView",
            "description_width": ""
          }
        },
        "b274840850b242b982eb305cfc745946": {
          "model_module": "@jupyter-widgets/base",
          "model_name": "LayoutModel",
          "model_module_version": "1.2.0",
          "state": {
            "_model_module": "@jupyter-widgets/base",
            "_model_module_version": "1.2.0",
            "_model_name": "LayoutModel",
            "_view_count": null,
            "_view_module": "@jupyter-widgets/base",
            "_view_module_version": "1.2.0",
            "_view_name": "LayoutView",
            "align_content": null,
            "align_items": null,
            "align_self": null,
            "border": null,
            "bottom": null,
            "display": null,
            "flex": null,
            "flex_flow": null,
            "grid_area": null,
            "grid_auto_columns": null,
            "grid_auto_flow": null,
            "grid_auto_rows": null,
            "grid_column": null,
            "grid_gap": null,
            "grid_row": null,
            "grid_template_areas": null,
            "grid_template_columns": null,
            "grid_template_rows": null,
            "height": null,
            "justify_content": null,
            "justify_items": null,
            "left": null,
            "margin": null,
            "max_height": null,
            "max_width": null,
            "min_height": null,
            "min_width": null,
            "object_fit": null,
            "object_position": null,
            "order": null,
            "overflow": null,
            "overflow_x": null,
            "overflow_y": null,
            "padding": null,
            "right": null,
            "top": null,
            "visibility": null,
            "width": null
          }
        },
        "68b439834066424b84b0a2dcb0f4aab7": {
          "model_module": "@jupyter-widgets/controls",
          "model_name": "ProgressStyleModel",
          "model_module_version": "1.5.0",
          "state": {
            "_model_module": "@jupyter-widgets/controls",
            "_model_module_version": "1.5.0",
            "_model_name": "ProgressStyleModel",
            "_view_count": null,
            "_view_module": "@jupyter-widgets/base",
            "_view_module_version": "1.2.0",
            "_view_name": "StyleView",
            "bar_color": null,
            "description_width": ""
          }
        },
        "5192a5b2c0114424850d67152208d62f": {
          "model_module": "@jupyter-widgets/controls",
          "model_name": "VBoxModel",
          "model_module_version": "1.5.0",
          "state": {
            "_dom_classes": [],
            "_model_module": "@jupyter-widgets/controls",
            "_model_module_version": "1.5.0",
            "_model_name": "VBoxModel",
            "_view_count": null,
            "_view_module": "@jupyter-widgets/controls",
            "_view_module_version": "1.5.0",
            "_view_name": "VBoxView",
            "box_style": "",
            "children": [
              "IPY_MODEL_16f1aaaf2fb0480faf0f7df6b2cb566d",
              "IPY_MODEL_acbb5b05e69f45769838c8720ac65c53"
            ],
            "layout": "IPY_MODEL_c9418dfd79e748b684646f8be2e3aefa"
          }
        },
        "16f1aaaf2fb0480faf0f7df6b2cb566d": {
          "model_module": "@jupyter-widgets/controls",
          "model_name": "LabelModel",
          "model_module_version": "1.5.0",
          "state": {
            "_dom_classes": [],
            "_model_module": "@jupyter-widgets/controls",
            "_model_module_version": "1.5.0",
            "_model_name": "LabelModel",
            "_view_count": null,
            "_view_module": "@jupyter-widgets/controls",
            "_view_module_version": "1.5.0",
            "_view_name": "LabelView",
            "description": "",
            "description_tooltip": null,
            "layout": "IPY_MODEL_8e1c2a8da349419e8482935d00560e3e",
            "placeholder": "​",
            "style": "IPY_MODEL_76d3a62965ed451688bc3103f406b8fa",
            "value": "0.011 MB of 0.011 MB uploaded\r"
          }
        },
        "acbb5b05e69f45769838c8720ac65c53": {
          "model_module": "@jupyter-widgets/controls",
          "model_name": "FloatProgressModel",
          "model_module_version": "1.5.0",
          "state": {
            "_dom_classes": [],
            "_model_module": "@jupyter-widgets/controls",
            "_model_module_version": "1.5.0",
            "_model_name": "FloatProgressModel",
            "_view_count": null,
            "_view_module": "@jupyter-widgets/controls",
            "_view_module_version": "1.5.0",
            "_view_name": "ProgressView",
            "bar_style": "",
            "description": "",
            "description_tooltip": null,
            "layout": "IPY_MODEL_d7cabfe836f24d189e57d59fbbb4d31d",
            "max": 1,
            "min": 0,
            "orientation": "horizontal",
            "style": "IPY_MODEL_9e925e220c674339ade0f4ec28cf6275",
            "value": 1
          }
        },
        "c9418dfd79e748b684646f8be2e3aefa": {
          "model_module": "@jupyter-widgets/base",
          "model_name": "LayoutModel",
          "model_module_version": "1.2.0",
          "state": {
            "_model_module": "@jupyter-widgets/base",
            "_model_module_version": "1.2.0",
            "_model_name": "LayoutModel",
            "_view_count": null,
            "_view_module": "@jupyter-widgets/base",
            "_view_module_version": "1.2.0",
            "_view_name": "LayoutView",
            "align_content": null,
            "align_items": null,
            "align_self": null,
            "border": null,
            "bottom": null,
            "display": null,
            "flex": null,
            "flex_flow": null,
            "grid_area": null,
            "grid_auto_columns": null,
            "grid_auto_flow": null,
            "grid_auto_rows": null,
            "grid_column": null,
            "grid_gap": null,
            "grid_row": null,
            "grid_template_areas": null,
            "grid_template_columns": null,
            "grid_template_rows": null,
            "height": null,
            "justify_content": null,
            "justify_items": null,
            "left": null,
            "margin": null,
            "max_height": null,
            "max_width": null,
            "min_height": null,
            "min_width": null,
            "object_fit": null,
            "object_position": null,
            "order": null,
            "overflow": null,
            "overflow_x": null,
            "overflow_y": null,
            "padding": null,
            "right": null,
            "top": null,
            "visibility": null,
            "width": null
          }
        },
        "8e1c2a8da349419e8482935d00560e3e": {
          "model_module": "@jupyter-widgets/base",
          "model_name": "LayoutModel",
          "model_module_version": "1.2.0",
          "state": {
            "_model_module": "@jupyter-widgets/base",
            "_model_module_version": "1.2.0",
            "_model_name": "LayoutModel",
            "_view_count": null,
            "_view_module": "@jupyter-widgets/base",
            "_view_module_version": "1.2.0",
            "_view_name": "LayoutView",
            "align_content": null,
            "align_items": null,
            "align_self": null,
            "border": null,
            "bottom": null,
            "display": null,
            "flex": null,
            "flex_flow": null,
            "grid_area": null,
            "grid_auto_columns": null,
            "grid_auto_flow": null,
            "grid_auto_rows": null,
            "grid_column": null,
            "grid_gap": null,
            "grid_row": null,
            "grid_template_areas": null,
            "grid_template_columns": null,
            "grid_template_rows": null,
            "height": null,
            "justify_content": null,
            "justify_items": null,
            "left": null,
            "margin": null,
            "max_height": null,
            "max_width": null,
            "min_height": null,
            "min_width": null,
            "object_fit": null,
            "object_position": null,
            "order": null,
            "overflow": null,
            "overflow_x": null,
            "overflow_y": null,
            "padding": null,
            "right": null,
            "top": null,
            "visibility": null,
            "width": null
          }
        },
        "76d3a62965ed451688bc3103f406b8fa": {
          "model_module": "@jupyter-widgets/controls",
          "model_name": "DescriptionStyleModel",
          "model_module_version": "1.5.0",
          "state": {
            "_model_module": "@jupyter-widgets/controls",
            "_model_module_version": "1.5.0",
            "_model_name": "DescriptionStyleModel",
            "_view_count": null,
            "_view_module": "@jupyter-widgets/base",
            "_view_module_version": "1.2.0",
            "_view_name": "StyleView",
            "description_width": ""
          }
        },
        "d7cabfe836f24d189e57d59fbbb4d31d": {
          "model_module": "@jupyter-widgets/base",
          "model_name": "LayoutModel",
          "model_module_version": "1.2.0",
          "state": {
            "_model_module": "@jupyter-widgets/base",
            "_model_module_version": "1.2.0",
            "_model_name": "LayoutModel",
            "_view_count": null,
            "_view_module": "@jupyter-widgets/base",
            "_view_module_version": "1.2.0",
            "_view_name": "LayoutView",
            "align_content": null,
            "align_items": null,
            "align_self": null,
            "border": null,
            "bottom": null,
            "display": null,
            "flex": null,
            "flex_flow": null,
            "grid_area": null,
            "grid_auto_columns": null,
            "grid_auto_flow": null,
            "grid_auto_rows": null,
            "grid_column": null,
            "grid_gap": null,
            "grid_row": null,
            "grid_template_areas": null,
            "grid_template_columns": null,
            "grid_template_rows": null,
            "height": null,
            "justify_content": null,
            "justify_items": null,
            "left": null,
            "margin": null,
            "max_height": null,
            "max_width": null,
            "min_height": null,
            "min_width": null,
            "object_fit": null,
            "object_position": null,
            "order": null,
            "overflow": null,
            "overflow_x": null,
            "overflow_y": null,
            "padding": null,
            "right": null,
            "top": null,
            "visibility": null,
            "width": null
          }
        },
        "9e925e220c674339ade0f4ec28cf6275": {
          "model_module": "@jupyter-widgets/controls",
          "model_name": "ProgressStyleModel",
          "model_module_version": "1.5.0",
          "state": {
            "_model_module": "@jupyter-widgets/controls",
            "_model_module_version": "1.5.0",
            "_model_name": "ProgressStyleModel",
            "_view_count": null,
            "_view_module": "@jupyter-widgets/base",
            "_view_module_version": "1.2.0",
            "_view_name": "StyleView",
            "bar_color": null,
            "description_width": ""
          }
        },
        "ccdbe96d8c1340d0bb12567217233fc4": {
          "model_module": "@jupyter-widgets/controls",
          "model_name": "VBoxModel",
          "model_module_version": "1.5.0",
          "state": {
            "_dom_classes": [],
            "_model_module": "@jupyter-widgets/controls",
            "_model_module_version": "1.5.0",
            "_model_name": "VBoxModel",
            "_view_count": null,
            "_view_module": "@jupyter-widgets/controls",
            "_view_module_version": "1.5.0",
            "_view_name": "VBoxView",
            "box_style": "",
            "children": [
              "IPY_MODEL_62e7d240bfbc4b91b330a38bb1c9505a",
              "IPY_MODEL_756d4326347f4e7f8e49db21e0210bcf"
            ],
            "layout": "IPY_MODEL_a9a65bbee3ae409dade3b382a4f01b1e"
          }
        },
        "62e7d240bfbc4b91b330a38bb1c9505a": {
          "model_module": "@jupyter-widgets/controls",
          "model_name": "LabelModel",
          "model_module_version": "1.5.0",
          "state": {
            "_dom_classes": [],
            "_model_module": "@jupyter-widgets/controls",
            "_model_module_version": "1.5.0",
            "_model_name": "LabelModel",
            "_view_count": null,
            "_view_module": "@jupyter-widgets/controls",
            "_view_module_version": "1.5.0",
            "_view_name": "LabelView",
            "description": "",
            "description_tooltip": null,
            "layout": "IPY_MODEL_3157a76454034f4facce19b6f2378ec7",
            "placeholder": "​",
            "style": "IPY_MODEL_dd357fea74444b1dad39b0d894ac2380",
            "value": "0.011 MB of 0.011 MB uploaded\r"
          }
        },
        "756d4326347f4e7f8e49db21e0210bcf": {
          "model_module": "@jupyter-widgets/controls",
          "model_name": "FloatProgressModel",
          "model_module_version": "1.5.0",
          "state": {
            "_dom_classes": [],
            "_model_module": "@jupyter-widgets/controls",
            "_model_module_version": "1.5.0",
            "_model_name": "FloatProgressModel",
            "_view_count": null,
            "_view_module": "@jupyter-widgets/controls",
            "_view_module_version": "1.5.0",
            "_view_name": "ProgressView",
            "bar_style": "",
            "description": "",
            "description_tooltip": null,
            "layout": "IPY_MODEL_edf5a0159b1d4aafa2e6fa448c801a91",
            "max": 1,
            "min": 0,
            "orientation": "horizontal",
            "style": "IPY_MODEL_836369753a844d619c5e2f634550125c",
            "value": 1
          }
        },
        "a9a65bbee3ae409dade3b382a4f01b1e": {
          "model_module": "@jupyter-widgets/base",
          "model_name": "LayoutModel",
          "model_module_version": "1.2.0",
          "state": {
            "_model_module": "@jupyter-widgets/base",
            "_model_module_version": "1.2.0",
            "_model_name": "LayoutModel",
            "_view_count": null,
            "_view_module": "@jupyter-widgets/base",
            "_view_module_version": "1.2.0",
            "_view_name": "LayoutView",
            "align_content": null,
            "align_items": null,
            "align_self": null,
            "border": null,
            "bottom": null,
            "display": null,
            "flex": null,
            "flex_flow": null,
            "grid_area": null,
            "grid_auto_columns": null,
            "grid_auto_flow": null,
            "grid_auto_rows": null,
            "grid_column": null,
            "grid_gap": null,
            "grid_row": null,
            "grid_template_areas": null,
            "grid_template_columns": null,
            "grid_template_rows": null,
            "height": null,
            "justify_content": null,
            "justify_items": null,
            "left": null,
            "margin": null,
            "max_height": null,
            "max_width": null,
            "min_height": null,
            "min_width": null,
            "object_fit": null,
            "object_position": null,
            "order": null,
            "overflow": null,
            "overflow_x": null,
            "overflow_y": null,
            "padding": null,
            "right": null,
            "top": null,
            "visibility": null,
            "width": null
          }
        },
        "3157a76454034f4facce19b6f2378ec7": {
          "model_module": "@jupyter-widgets/base",
          "model_name": "LayoutModel",
          "model_module_version": "1.2.0",
          "state": {
            "_model_module": "@jupyter-widgets/base",
            "_model_module_version": "1.2.0",
            "_model_name": "LayoutModel",
            "_view_count": null,
            "_view_module": "@jupyter-widgets/base",
            "_view_module_version": "1.2.0",
            "_view_name": "LayoutView",
            "align_content": null,
            "align_items": null,
            "align_self": null,
            "border": null,
            "bottom": null,
            "display": null,
            "flex": null,
            "flex_flow": null,
            "grid_area": null,
            "grid_auto_columns": null,
            "grid_auto_flow": null,
            "grid_auto_rows": null,
            "grid_column": null,
            "grid_gap": null,
            "grid_row": null,
            "grid_template_areas": null,
            "grid_template_columns": null,
            "grid_template_rows": null,
            "height": null,
            "justify_content": null,
            "justify_items": null,
            "left": null,
            "margin": null,
            "max_height": null,
            "max_width": null,
            "min_height": null,
            "min_width": null,
            "object_fit": null,
            "object_position": null,
            "order": null,
            "overflow": null,
            "overflow_x": null,
            "overflow_y": null,
            "padding": null,
            "right": null,
            "top": null,
            "visibility": null,
            "width": null
          }
        },
        "dd357fea74444b1dad39b0d894ac2380": {
          "model_module": "@jupyter-widgets/controls",
          "model_name": "DescriptionStyleModel",
          "model_module_version": "1.5.0",
          "state": {
            "_model_module": "@jupyter-widgets/controls",
            "_model_module_version": "1.5.0",
            "_model_name": "DescriptionStyleModel",
            "_view_count": null,
            "_view_module": "@jupyter-widgets/base",
            "_view_module_version": "1.2.0",
            "_view_name": "StyleView",
            "description_width": ""
          }
        },
        "edf5a0159b1d4aafa2e6fa448c801a91": {
          "model_module": "@jupyter-widgets/base",
          "model_name": "LayoutModel",
          "model_module_version": "1.2.0",
          "state": {
            "_model_module": "@jupyter-widgets/base",
            "_model_module_version": "1.2.0",
            "_model_name": "LayoutModel",
            "_view_count": null,
            "_view_module": "@jupyter-widgets/base",
            "_view_module_version": "1.2.0",
            "_view_name": "LayoutView",
            "align_content": null,
            "align_items": null,
            "align_self": null,
            "border": null,
            "bottom": null,
            "display": null,
            "flex": null,
            "flex_flow": null,
            "grid_area": null,
            "grid_auto_columns": null,
            "grid_auto_flow": null,
            "grid_auto_rows": null,
            "grid_column": null,
            "grid_gap": null,
            "grid_row": null,
            "grid_template_areas": null,
            "grid_template_columns": null,
            "grid_template_rows": null,
            "height": null,
            "justify_content": null,
            "justify_items": null,
            "left": null,
            "margin": null,
            "max_height": null,
            "max_width": null,
            "min_height": null,
            "min_width": null,
            "object_fit": null,
            "object_position": null,
            "order": null,
            "overflow": null,
            "overflow_x": null,
            "overflow_y": null,
            "padding": null,
            "right": null,
            "top": null,
            "visibility": null,
            "width": null
          }
        },
        "836369753a844d619c5e2f634550125c": {
          "model_module": "@jupyter-widgets/controls",
          "model_name": "ProgressStyleModel",
          "model_module_version": "1.5.0",
          "state": {
            "_model_module": "@jupyter-widgets/controls",
            "_model_module_version": "1.5.0",
            "_model_name": "ProgressStyleModel",
            "_view_count": null,
            "_view_module": "@jupyter-widgets/base",
            "_view_module_version": "1.2.0",
            "_view_name": "StyleView",
            "bar_color": null,
            "description_width": ""
          }
        },
        "820d5a7520944454a0b1336385165ba5": {
          "model_module": "@jupyter-widgets/controls",
          "model_name": "VBoxModel",
          "model_module_version": "1.5.0",
          "state": {
            "_dom_classes": [],
            "_model_module": "@jupyter-widgets/controls",
            "_model_module_version": "1.5.0",
            "_model_name": "VBoxModel",
            "_view_count": null,
            "_view_module": "@jupyter-widgets/controls",
            "_view_module_version": "1.5.0",
            "_view_name": "VBoxView",
            "box_style": "",
            "children": [
              "IPY_MODEL_3706658441a84686987fafaccd4560ef",
              "IPY_MODEL_c0d19220fa4440428a8ef7f9e3869685"
            ],
            "layout": "IPY_MODEL_2794acc98706481cb699e40672fe466d"
          }
        },
        "3706658441a84686987fafaccd4560ef": {
          "model_module": "@jupyter-widgets/controls",
          "model_name": "LabelModel",
          "model_module_version": "1.5.0",
          "state": {
            "_dom_classes": [],
            "_model_module": "@jupyter-widgets/controls",
            "_model_module_version": "1.5.0",
            "_model_name": "LabelModel",
            "_view_count": null,
            "_view_module": "@jupyter-widgets/controls",
            "_view_module_version": "1.5.0",
            "_view_name": "LabelView",
            "description": "",
            "description_tooltip": null,
            "layout": "IPY_MODEL_f2d799a2197640a68f806d72b26ec344",
            "placeholder": "​",
            "style": "IPY_MODEL_64a8fd8c412a47caa0d1cb3739e20547",
            "value": "0.013 MB of 0.013 MB uploaded\r"
          }
        },
        "c0d19220fa4440428a8ef7f9e3869685": {
          "model_module": "@jupyter-widgets/controls",
          "model_name": "FloatProgressModel",
          "model_module_version": "1.5.0",
          "state": {
            "_dom_classes": [],
            "_model_module": "@jupyter-widgets/controls",
            "_model_module_version": "1.5.0",
            "_model_name": "FloatProgressModel",
            "_view_count": null,
            "_view_module": "@jupyter-widgets/controls",
            "_view_module_version": "1.5.0",
            "_view_name": "ProgressView",
            "bar_style": "",
            "description": "",
            "description_tooltip": null,
            "layout": "IPY_MODEL_ab49b3158e644923ab9f0e80afe6f3c9",
            "max": 1,
            "min": 0,
            "orientation": "horizontal",
            "style": "IPY_MODEL_4736269cc6314e12a71a79f7e247bb99",
            "value": 1
          }
        },
        "2794acc98706481cb699e40672fe466d": {
          "model_module": "@jupyter-widgets/base",
          "model_name": "LayoutModel",
          "model_module_version": "1.2.0",
          "state": {
            "_model_module": "@jupyter-widgets/base",
            "_model_module_version": "1.2.0",
            "_model_name": "LayoutModel",
            "_view_count": null,
            "_view_module": "@jupyter-widgets/base",
            "_view_module_version": "1.2.0",
            "_view_name": "LayoutView",
            "align_content": null,
            "align_items": null,
            "align_self": null,
            "border": null,
            "bottom": null,
            "display": null,
            "flex": null,
            "flex_flow": null,
            "grid_area": null,
            "grid_auto_columns": null,
            "grid_auto_flow": null,
            "grid_auto_rows": null,
            "grid_column": null,
            "grid_gap": null,
            "grid_row": null,
            "grid_template_areas": null,
            "grid_template_columns": null,
            "grid_template_rows": null,
            "height": null,
            "justify_content": null,
            "justify_items": null,
            "left": null,
            "margin": null,
            "max_height": null,
            "max_width": null,
            "min_height": null,
            "min_width": null,
            "object_fit": null,
            "object_position": null,
            "order": null,
            "overflow": null,
            "overflow_x": null,
            "overflow_y": null,
            "padding": null,
            "right": null,
            "top": null,
            "visibility": null,
            "width": null
          }
        },
        "f2d799a2197640a68f806d72b26ec344": {
          "model_module": "@jupyter-widgets/base",
          "model_name": "LayoutModel",
          "model_module_version": "1.2.0",
          "state": {
            "_model_module": "@jupyter-widgets/base",
            "_model_module_version": "1.2.0",
            "_model_name": "LayoutModel",
            "_view_count": null,
            "_view_module": "@jupyter-widgets/base",
            "_view_module_version": "1.2.0",
            "_view_name": "LayoutView",
            "align_content": null,
            "align_items": null,
            "align_self": null,
            "border": null,
            "bottom": null,
            "display": null,
            "flex": null,
            "flex_flow": null,
            "grid_area": null,
            "grid_auto_columns": null,
            "grid_auto_flow": null,
            "grid_auto_rows": null,
            "grid_column": null,
            "grid_gap": null,
            "grid_row": null,
            "grid_template_areas": null,
            "grid_template_columns": null,
            "grid_template_rows": null,
            "height": null,
            "justify_content": null,
            "justify_items": null,
            "left": null,
            "margin": null,
            "max_height": null,
            "max_width": null,
            "min_height": null,
            "min_width": null,
            "object_fit": null,
            "object_position": null,
            "order": null,
            "overflow": null,
            "overflow_x": null,
            "overflow_y": null,
            "padding": null,
            "right": null,
            "top": null,
            "visibility": null,
            "width": null
          }
        },
        "64a8fd8c412a47caa0d1cb3739e20547": {
          "model_module": "@jupyter-widgets/controls",
          "model_name": "DescriptionStyleModel",
          "model_module_version": "1.5.0",
          "state": {
            "_model_module": "@jupyter-widgets/controls",
            "_model_module_version": "1.5.0",
            "_model_name": "DescriptionStyleModel",
            "_view_count": null,
            "_view_module": "@jupyter-widgets/base",
            "_view_module_version": "1.2.0",
            "_view_name": "StyleView",
            "description_width": ""
          }
        },
        "ab49b3158e644923ab9f0e80afe6f3c9": {
          "model_module": "@jupyter-widgets/base",
          "model_name": "LayoutModel",
          "model_module_version": "1.2.0",
          "state": {
            "_model_module": "@jupyter-widgets/base",
            "_model_module_version": "1.2.0",
            "_model_name": "LayoutModel",
            "_view_count": null,
            "_view_module": "@jupyter-widgets/base",
            "_view_module_version": "1.2.0",
            "_view_name": "LayoutView",
            "align_content": null,
            "align_items": null,
            "align_self": null,
            "border": null,
            "bottom": null,
            "display": null,
            "flex": null,
            "flex_flow": null,
            "grid_area": null,
            "grid_auto_columns": null,
            "grid_auto_flow": null,
            "grid_auto_rows": null,
            "grid_column": null,
            "grid_gap": null,
            "grid_row": null,
            "grid_template_areas": null,
            "grid_template_columns": null,
            "grid_template_rows": null,
            "height": null,
            "justify_content": null,
            "justify_items": null,
            "left": null,
            "margin": null,
            "max_height": null,
            "max_width": null,
            "min_height": null,
            "min_width": null,
            "object_fit": null,
            "object_position": null,
            "order": null,
            "overflow": null,
            "overflow_x": null,
            "overflow_y": null,
            "padding": null,
            "right": null,
            "top": null,
            "visibility": null,
            "width": null
          }
        },
        "4736269cc6314e12a71a79f7e247bb99": {
          "model_module": "@jupyter-widgets/controls",
          "model_name": "ProgressStyleModel",
          "model_module_version": "1.5.0",
          "state": {
            "_model_module": "@jupyter-widgets/controls",
            "_model_module_version": "1.5.0",
            "_model_name": "ProgressStyleModel",
            "_view_count": null,
            "_view_module": "@jupyter-widgets/base",
            "_view_module_version": "1.2.0",
            "_view_name": "StyleView",
            "bar_color": null,
            "description_width": ""
          }
        },
        "cb934f2837c94ec4930190083705c47e": {
          "model_module": "@jupyter-widgets/controls",
          "model_name": "VBoxModel",
          "model_module_version": "1.5.0",
          "state": {
            "_dom_classes": [],
            "_model_module": "@jupyter-widgets/controls",
            "_model_module_version": "1.5.0",
            "_model_name": "VBoxModel",
            "_view_count": null,
            "_view_module": "@jupyter-widgets/controls",
            "_view_module_version": "1.5.0",
            "_view_name": "VBoxView",
            "box_style": "",
            "children": [
              "IPY_MODEL_a27e76d692a04aa990d847b1f330c54f",
              "IPY_MODEL_a2d32666d58e43f682a05560d83add91"
            ],
            "layout": "IPY_MODEL_f3cb3db25be34f369e7fe0584ec00230"
          }
        },
        "a27e76d692a04aa990d847b1f330c54f": {
          "model_module": "@jupyter-widgets/controls",
          "model_name": "LabelModel",
          "model_module_version": "1.5.0",
          "state": {
            "_dom_classes": [],
            "_model_module": "@jupyter-widgets/controls",
            "_model_module_version": "1.5.0",
            "_model_name": "LabelModel",
            "_view_count": null,
            "_view_module": "@jupyter-widgets/controls",
            "_view_module_version": "1.5.0",
            "_view_name": "LabelView",
            "description": "",
            "description_tooltip": null,
            "layout": "IPY_MODEL_9894befde8094f0984d14eb7ce8b141a",
            "placeholder": "​",
            "style": "IPY_MODEL_a206feb078354380b5501bd128b0f8b1",
            "value": "0.011 MB of 0.011 MB uploaded\r"
          }
        },
        "a2d32666d58e43f682a05560d83add91": {
          "model_module": "@jupyter-widgets/controls",
          "model_name": "FloatProgressModel",
          "model_module_version": "1.5.0",
          "state": {
            "_dom_classes": [],
            "_model_module": "@jupyter-widgets/controls",
            "_model_module_version": "1.5.0",
            "_model_name": "FloatProgressModel",
            "_view_count": null,
            "_view_module": "@jupyter-widgets/controls",
            "_view_module_version": "1.5.0",
            "_view_name": "ProgressView",
            "bar_style": "",
            "description": "",
            "description_tooltip": null,
            "layout": "IPY_MODEL_3ebf717c564a465284144f23e9dfa33e",
            "max": 1,
            "min": 0,
            "orientation": "horizontal",
            "style": "IPY_MODEL_9ce4380b63b144f8b54e09836c20d563",
            "value": 1
          }
        },
        "f3cb3db25be34f369e7fe0584ec00230": {
          "model_module": "@jupyter-widgets/base",
          "model_name": "LayoutModel",
          "model_module_version": "1.2.0",
          "state": {
            "_model_module": "@jupyter-widgets/base",
            "_model_module_version": "1.2.0",
            "_model_name": "LayoutModel",
            "_view_count": null,
            "_view_module": "@jupyter-widgets/base",
            "_view_module_version": "1.2.0",
            "_view_name": "LayoutView",
            "align_content": null,
            "align_items": null,
            "align_self": null,
            "border": null,
            "bottom": null,
            "display": null,
            "flex": null,
            "flex_flow": null,
            "grid_area": null,
            "grid_auto_columns": null,
            "grid_auto_flow": null,
            "grid_auto_rows": null,
            "grid_column": null,
            "grid_gap": null,
            "grid_row": null,
            "grid_template_areas": null,
            "grid_template_columns": null,
            "grid_template_rows": null,
            "height": null,
            "justify_content": null,
            "justify_items": null,
            "left": null,
            "margin": null,
            "max_height": null,
            "max_width": null,
            "min_height": null,
            "min_width": null,
            "object_fit": null,
            "object_position": null,
            "order": null,
            "overflow": null,
            "overflow_x": null,
            "overflow_y": null,
            "padding": null,
            "right": null,
            "top": null,
            "visibility": null,
            "width": null
          }
        },
        "9894befde8094f0984d14eb7ce8b141a": {
          "model_module": "@jupyter-widgets/base",
          "model_name": "LayoutModel",
          "model_module_version": "1.2.0",
          "state": {
            "_model_module": "@jupyter-widgets/base",
            "_model_module_version": "1.2.0",
            "_model_name": "LayoutModel",
            "_view_count": null,
            "_view_module": "@jupyter-widgets/base",
            "_view_module_version": "1.2.0",
            "_view_name": "LayoutView",
            "align_content": null,
            "align_items": null,
            "align_self": null,
            "border": null,
            "bottom": null,
            "display": null,
            "flex": null,
            "flex_flow": null,
            "grid_area": null,
            "grid_auto_columns": null,
            "grid_auto_flow": null,
            "grid_auto_rows": null,
            "grid_column": null,
            "grid_gap": null,
            "grid_row": null,
            "grid_template_areas": null,
            "grid_template_columns": null,
            "grid_template_rows": null,
            "height": null,
            "justify_content": null,
            "justify_items": null,
            "left": null,
            "margin": null,
            "max_height": null,
            "max_width": null,
            "min_height": null,
            "min_width": null,
            "object_fit": null,
            "object_position": null,
            "order": null,
            "overflow": null,
            "overflow_x": null,
            "overflow_y": null,
            "padding": null,
            "right": null,
            "top": null,
            "visibility": null,
            "width": null
          }
        },
        "a206feb078354380b5501bd128b0f8b1": {
          "model_module": "@jupyter-widgets/controls",
          "model_name": "DescriptionStyleModel",
          "model_module_version": "1.5.0",
          "state": {
            "_model_module": "@jupyter-widgets/controls",
            "_model_module_version": "1.5.0",
            "_model_name": "DescriptionStyleModel",
            "_view_count": null,
            "_view_module": "@jupyter-widgets/base",
            "_view_module_version": "1.2.0",
            "_view_name": "StyleView",
            "description_width": ""
          }
        },
        "3ebf717c564a465284144f23e9dfa33e": {
          "model_module": "@jupyter-widgets/base",
          "model_name": "LayoutModel",
          "model_module_version": "1.2.0",
          "state": {
            "_model_module": "@jupyter-widgets/base",
            "_model_module_version": "1.2.0",
            "_model_name": "LayoutModel",
            "_view_count": null,
            "_view_module": "@jupyter-widgets/base",
            "_view_module_version": "1.2.0",
            "_view_name": "LayoutView",
            "align_content": null,
            "align_items": null,
            "align_self": null,
            "border": null,
            "bottom": null,
            "display": null,
            "flex": null,
            "flex_flow": null,
            "grid_area": null,
            "grid_auto_columns": null,
            "grid_auto_flow": null,
            "grid_auto_rows": null,
            "grid_column": null,
            "grid_gap": null,
            "grid_row": null,
            "grid_template_areas": null,
            "grid_template_columns": null,
            "grid_template_rows": null,
            "height": null,
            "justify_content": null,
            "justify_items": null,
            "left": null,
            "margin": null,
            "max_height": null,
            "max_width": null,
            "min_height": null,
            "min_width": null,
            "object_fit": null,
            "object_position": null,
            "order": null,
            "overflow": null,
            "overflow_x": null,
            "overflow_y": null,
            "padding": null,
            "right": null,
            "top": null,
            "visibility": null,
            "width": null
          }
        },
        "9ce4380b63b144f8b54e09836c20d563": {
          "model_module": "@jupyter-widgets/controls",
          "model_name": "ProgressStyleModel",
          "model_module_version": "1.5.0",
          "state": {
            "_model_module": "@jupyter-widgets/controls",
            "_model_module_version": "1.5.0",
            "_model_name": "ProgressStyleModel",
            "_view_count": null,
            "_view_module": "@jupyter-widgets/base",
            "_view_module_version": "1.2.0",
            "_view_name": "StyleView",
            "bar_color": null,
            "description_width": ""
          }
        },
        "0608d971c9b44c138a436fa4ac56a336": {
          "model_module": "@jupyter-widgets/controls",
          "model_name": "VBoxModel",
          "model_module_version": "1.5.0",
          "state": {
            "_dom_classes": [],
            "_model_module": "@jupyter-widgets/controls",
            "_model_module_version": "1.5.0",
            "_model_name": "VBoxModel",
            "_view_count": null,
            "_view_module": "@jupyter-widgets/controls",
            "_view_module_version": "1.5.0",
            "_view_name": "VBoxView",
            "box_style": "",
            "children": [
              "IPY_MODEL_c05f3adc0f8d466ab21c9e72f6a5f6ae",
              "IPY_MODEL_e02b9e2a9c9e4eb2bdadd7f55b2342b6"
            ],
            "layout": "IPY_MODEL_b0314781b750416b978ad2e396763f1c"
          }
        },
        "c05f3adc0f8d466ab21c9e72f6a5f6ae": {
          "model_module": "@jupyter-widgets/controls",
          "model_name": "LabelModel",
          "model_module_version": "1.5.0",
          "state": {
            "_dom_classes": [],
            "_model_module": "@jupyter-widgets/controls",
            "_model_module_version": "1.5.0",
            "_model_name": "LabelModel",
            "_view_count": null,
            "_view_module": "@jupyter-widgets/controls",
            "_view_module_version": "1.5.0",
            "_view_name": "LabelView",
            "description": "",
            "description_tooltip": null,
            "layout": "IPY_MODEL_3c986a570ed1497094bccc0fa2673387",
            "placeholder": "​",
            "style": "IPY_MODEL_9bc4d2b459944d7aadae484c68e7dffa",
            "value": "0.011 MB of 0.011 MB uploaded\r"
          }
        },
        "e02b9e2a9c9e4eb2bdadd7f55b2342b6": {
          "model_module": "@jupyter-widgets/controls",
          "model_name": "FloatProgressModel",
          "model_module_version": "1.5.0",
          "state": {
            "_dom_classes": [],
            "_model_module": "@jupyter-widgets/controls",
            "_model_module_version": "1.5.0",
            "_model_name": "FloatProgressModel",
            "_view_count": null,
            "_view_module": "@jupyter-widgets/controls",
            "_view_module_version": "1.5.0",
            "_view_name": "ProgressView",
            "bar_style": "",
            "description": "",
            "description_tooltip": null,
            "layout": "IPY_MODEL_4aee2c17b3874cfcac5eb97b5e0af6d7",
            "max": 1,
            "min": 0,
            "orientation": "horizontal",
            "style": "IPY_MODEL_68458fac477e4e0099384c01e7862471",
            "value": 1
          }
        },
        "b0314781b750416b978ad2e396763f1c": {
          "model_module": "@jupyter-widgets/base",
          "model_name": "LayoutModel",
          "model_module_version": "1.2.0",
          "state": {
            "_model_module": "@jupyter-widgets/base",
            "_model_module_version": "1.2.0",
            "_model_name": "LayoutModel",
            "_view_count": null,
            "_view_module": "@jupyter-widgets/base",
            "_view_module_version": "1.2.0",
            "_view_name": "LayoutView",
            "align_content": null,
            "align_items": null,
            "align_self": null,
            "border": null,
            "bottom": null,
            "display": null,
            "flex": null,
            "flex_flow": null,
            "grid_area": null,
            "grid_auto_columns": null,
            "grid_auto_flow": null,
            "grid_auto_rows": null,
            "grid_column": null,
            "grid_gap": null,
            "grid_row": null,
            "grid_template_areas": null,
            "grid_template_columns": null,
            "grid_template_rows": null,
            "height": null,
            "justify_content": null,
            "justify_items": null,
            "left": null,
            "margin": null,
            "max_height": null,
            "max_width": null,
            "min_height": null,
            "min_width": null,
            "object_fit": null,
            "object_position": null,
            "order": null,
            "overflow": null,
            "overflow_x": null,
            "overflow_y": null,
            "padding": null,
            "right": null,
            "top": null,
            "visibility": null,
            "width": null
          }
        },
        "3c986a570ed1497094bccc0fa2673387": {
          "model_module": "@jupyter-widgets/base",
          "model_name": "LayoutModel",
          "model_module_version": "1.2.0",
          "state": {
            "_model_module": "@jupyter-widgets/base",
            "_model_module_version": "1.2.0",
            "_model_name": "LayoutModel",
            "_view_count": null,
            "_view_module": "@jupyter-widgets/base",
            "_view_module_version": "1.2.0",
            "_view_name": "LayoutView",
            "align_content": null,
            "align_items": null,
            "align_self": null,
            "border": null,
            "bottom": null,
            "display": null,
            "flex": null,
            "flex_flow": null,
            "grid_area": null,
            "grid_auto_columns": null,
            "grid_auto_flow": null,
            "grid_auto_rows": null,
            "grid_column": null,
            "grid_gap": null,
            "grid_row": null,
            "grid_template_areas": null,
            "grid_template_columns": null,
            "grid_template_rows": null,
            "height": null,
            "justify_content": null,
            "justify_items": null,
            "left": null,
            "margin": null,
            "max_height": null,
            "max_width": null,
            "min_height": null,
            "min_width": null,
            "object_fit": null,
            "object_position": null,
            "order": null,
            "overflow": null,
            "overflow_x": null,
            "overflow_y": null,
            "padding": null,
            "right": null,
            "top": null,
            "visibility": null,
            "width": null
          }
        },
        "9bc4d2b459944d7aadae484c68e7dffa": {
          "model_module": "@jupyter-widgets/controls",
          "model_name": "DescriptionStyleModel",
          "model_module_version": "1.5.0",
          "state": {
            "_model_module": "@jupyter-widgets/controls",
            "_model_module_version": "1.5.0",
            "_model_name": "DescriptionStyleModel",
            "_view_count": null,
            "_view_module": "@jupyter-widgets/base",
            "_view_module_version": "1.2.0",
            "_view_name": "StyleView",
            "description_width": ""
          }
        },
        "4aee2c17b3874cfcac5eb97b5e0af6d7": {
          "model_module": "@jupyter-widgets/base",
          "model_name": "LayoutModel",
          "model_module_version": "1.2.0",
          "state": {
            "_model_module": "@jupyter-widgets/base",
            "_model_module_version": "1.2.0",
            "_model_name": "LayoutModel",
            "_view_count": null,
            "_view_module": "@jupyter-widgets/base",
            "_view_module_version": "1.2.0",
            "_view_name": "LayoutView",
            "align_content": null,
            "align_items": null,
            "align_self": null,
            "border": null,
            "bottom": null,
            "display": null,
            "flex": null,
            "flex_flow": null,
            "grid_area": null,
            "grid_auto_columns": null,
            "grid_auto_flow": null,
            "grid_auto_rows": null,
            "grid_column": null,
            "grid_gap": null,
            "grid_row": null,
            "grid_template_areas": null,
            "grid_template_columns": null,
            "grid_template_rows": null,
            "height": null,
            "justify_content": null,
            "justify_items": null,
            "left": null,
            "margin": null,
            "max_height": null,
            "max_width": null,
            "min_height": null,
            "min_width": null,
            "object_fit": null,
            "object_position": null,
            "order": null,
            "overflow": null,
            "overflow_x": null,
            "overflow_y": null,
            "padding": null,
            "right": null,
            "top": null,
            "visibility": null,
            "width": null
          }
        },
        "68458fac477e4e0099384c01e7862471": {
          "model_module": "@jupyter-widgets/controls",
          "model_name": "ProgressStyleModel",
          "model_module_version": "1.5.0",
          "state": {
            "_model_module": "@jupyter-widgets/controls",
            "_model_module_version": "1.5.0",
            "_model_name": "ProgressStyleModel",
            "_view_count": null,
            "_view_module": "@jupyter-widgets/base",
            "_view_module_version": "1.2.0",
            "_view_name": "StyleView",
            "bar_color": null,
            "description_width": ""
          }
        },
        "0c7dc7b19c6e411282a171b0434e85a0": {
          "model_module": "@jupyter-widgets/controls",
          "model_name": "VBoxModel",
          "model_module_version": "1.5.0",
          "state": {
            "_dom_classes": [],
            "_model_module": "@jupyter-widgets/controls",
            "_model_module_version": "1.5.0",
            "_model_name": "VBoxModel",
            "_view_count": null,
            "_view_module": "@jupyter-widgets/controls",
            "_view_module_version": "1.5.0",
            "_view_name": "VBoxView",
            "box_style": "",
            "children": [
              "IPY_MODEL_5383a6d85ae142228a006f52cbb5a176",
              "IPY_MODEL_8a59bcc5a440463db977756051c1bc7c"
            ],
            "layout": "IPY_MODEL_50331bbe4be041a695b86d55fbe7eb49"
          }
        },
        "5383a6d85ae142228a006f52cbb5a176": {
          "model_module": "@jupyter-widgets/controls",
          "model_name": "LabelModel",
          "model_module_version": "1.5.0",
          "state": {
            "_dom_classes": [],
            "_model_module": "@jupyter-widgets/controls",
            "_model_module_version": "1.5.0",
            "_model_name": "LabelModel",
            "_view_count": null,
            "_view_module": "@jupyter-widgets/controls",
            "_view_module_version": "1.5.0",
            "_view_name": "LabelView",
            "description": "",
            "description_tooltip": null,
            "layout": "IPY_MODEL_dcd142018b844e74a2bd98f67d6f502d",
            "placeholder": "​",
            "style": "IPY_MODEL_de412d7a44cc498abbb1340720e636eb",
            "value": "0.013 MB of 0.013 MB uploaded\r"
          }
        },
        "8a59bcc5a440463db977756051c1bc7c": {
          "model_module": "@jupyter-widgets/controls",
          "model_name": "FloatProgressModel",
          "model_module_version": "1.5.0",
          "state": {
            "_dom_classes": [],
            "_model_module": "@jupyter-widgets/controls",
            "_model_module_version": "1.5.0",
            "_model_name": "FloatProgressModel",
            "_view_count": null,
            "_view_module": "@jupyter-widgets/controls",
            "_view_module_version": "1.5.0",
            "_view_name": "ProgressView",
            "bar_style": "",
            "description": "",
            "description_tooltip": null,
            "layout": "IPY_MODEL_268fd05a41a743f9a064cdfe69a55d1b",
            "max": 1,
            "min": 0,
            "orientation": "horizontal",
            "style": "IPY_MODEL_605c0c6b7163437391d568988982f9b2",
            "value": 1
          }
        },
        "50331bbe4be041a695b86d55fbe7eb49": {
          "model_module": "@jupyter-widgets/base",
          "model_name": "LayoutModel",
          "model_module_version": "1.2.0",
          "state": {
            "_model_module": "@jupyter-widgets/base",
            "_model_module_version": "1.2.0",
            "_model_name": "LayoutModel",
            "_view_count": null,
            "_view_module": "@jupyter-widgets/base",
            "_view_module_version": "1.2.0",
            "_view_name": "LayoutView",
            "align_content": null,
            "align_items": null,
            "align_self": null,
            "border": null,
            "bottom": null,
            "display": null,
            "flex": null,
            "flex_flow": null,
            "grid_area": null,
            "grid_auto_columns": null,
            "grid_auto_flow": null,
            "grid_auto_rows": null,
            "grid_column": null,
            "grid_gap": null,
            "grid_row": null,
            "grid_template_areas": null,
            "grid_template_columns": null,
            "grid_template_rows": null,
            "height": null,
            "justify_content": null,
            "justify_items": null,
            "left": null,
            "margin": null,
            "max_height": null,
            "max_width": null,
            "min_height": null,
            "min_width": null,
            "object_fit": null,
            "object_position": null,
            "order": null,
            "overflow": null,
            "overflow_x": null,
            "overflow_y": null,
            "padding": null,
            "right": null,
            "top": null,
            "visibility": null,
            "width": null
          }
        },
        "dcd142018b844e74a2bd98f67d6f502d": {
          "model_module": "@jupyter-widgets/base",
          "model_name": "LayoutModel",
          "model_module_version": "1.2.0",
          "state": {
            "_model_module": "@jupyter-widgets/base",
            "_model_module_version": "1.2.0",
            "_model_name": "LayoutModel",
            "_view_count": null,
            "_view_module": "@jupyter-widgets/base",
            "_view_module_version": "1.2.0",
            "_view_name": "LayoutView",
            "align_content": null,
            "align_items": null,
            "align_self": null,
            "border": null,
            "bottom": null,
            "display": null,
            "flex": null,
            "flex_flow": null,
            "grid_area": null,
            "grid_auto_columns": null,
            "grid_auto_flow": null,
            "grid_auto_rows": null,
            "grid_column": null,
            "grid_gap": null,
            "grid_row": null,
            "grid_template_areas": null,
            "grid_template_columns": null,
            "grid_template_rows": null,
            "height": null,
            "justify_content": null,
            "justify_items": null,
            "left": null,
            "margin": null,
            "max_height": null,
            "max_width": null,
            "min_height": null,
            "min_width": null,
            "object_fit": null,
            "object_position": null,
            "order": null,
            "overflow": null,
            "overflow_x": null,
            "overflow_y": null,
            "padding": null,
            "right": null,
            "top": null,
            "visibility": null,
            "width": null
          }
        },
        "de412d7a44cc498abbb1340720e636eb": {
          "model_module": "@jupyter-widgets/controls",
          "model_name": "DescriptionStyleModel",
          "model_module_version": "1.5.0",
          "state": {
            "_model_module": "@jupyter-widgets/controls",
            "_model_module_version": "1.5.0",
            "_model_name": "DescriptionStyleModel",
            "_view_count": null,
            "_view_module": "@jupyter-widgets/base",
            "_view_module_version": "1.2.0",
            "_view_name": "StyleView",
            "description_width": ""
          }
        },
        "268fd05a41a743f9a064cdfe69a55d1b": {
          "model_module": "@jupyter-widgets/base",
          "model_name": "LayoutModel",
          "model_module_version": "1.2.0",
          "state": {
            "_model_module": "@jupyter-widgets/base",
            "_model_module_version": "1.2.0",
            "_model_name": "LayoutModel",
            "_view_count": null,
            "_view_module": "@jupyter-widgets/base",
            "_view_module_version": "1.2.0",
            "_view_name": "LayoutView",
            "align_content": null,
            "align_items": null,
            "align_self": null,
            "border": null,
            "bottom": null,
            "display": null,
            "flex": null,
            "flex_flow": null,
            "grid_area": null,
            "grid_auto_columns": null,
            "grid_auto_flow": null,
            "grid_auto_rows": null,
            "grid_column": null,
            "grid_gap": null,
            "grid_row": null,
            "grid_template_areas": null,
            "grid_template_columns": null,
            "grid_template_rows": null,
            "height": null,
            "justify_content": null,
            "justify_items": null,
            "left": null,
            "margin": null,
            "max_height": null,
            "max_width": null,
            "min_height": null,
            "min_width": null,
            "object_fit": null,
            "object_position": null,
            "order": null,
            "overflow": null,
            "overflow_x": null,
            "overflow_y": null,
            "padding": null,
            "right": null,
            "top": null,
            "visibility": null,
            "width": null
          }
        },
        "605c0c6b7163437391d568988982f9b2": {
          "model_module": "@jupyter-widgets/controls",
          "model_name": "ProgressStyleModel",
          "model_module_version": "1.5.0",
          "state": {
            "_model_module": "@jupyter-widgets/controls",
            "_model_module_version": "1.5.0",
            "_model_name": "ProgressStyleModel",
            "_view_count": null,
            "_view_module": "@jupyter-widgets/base",
            "_view_module_version": "1.2.0",
            "_view_name": "StyleView",
            "bar_color": null,
            "description_width": ""
          }
        },
        "a407a6ede36e4a3ba3e4907f22b0f7c0": {
          "model_module": "@jupyter-widgets/controls",
          "model_name": "VBoxModel",
          "model_module_version": "1.5.0",
          "state": {
            "_dom_classes": [],
            "_model_module": "@jupyter-widgets/controls",
            "_model_module_version": "1.5.0",
            "_model_name": "VBoxModel",
            "_view_count": null,
            "_view_module": "@jupyter-widgets/controls",
            "_view_module_version": "1.5.0",
            "_view_name": "VBoxView",
            "box_style": "",
            "children": [
              "IPY_MODEL_933b50bc0c4c4c18952ddb548b3d1aed",
              "IPY_MODEL_fc9443defba24c2c968a881f0aeb4031"
            ],
            "layout": "IPY_MODEL_437d5cf8ca004b509ae872d96dcc7791"
          }
        },
        "933b50bc0c4c4c18952ddb548b3d1aed": {
          "model_module": "@jupyter-widgets/controls",
          "model_name": "LabelModel",
          "model_module_version": "1.5.0",
          "state": {
            "_dom_classes": [],
            "_model_module": "@jupyter-widgets/controls",
            "_model_module_version": "1.5.0",
            "_model_name": "LabelModel",
            "_view_count": null,
            "_view_module": "@jupyter-widgets/controls",
            "_view_module_version": "1.5.0",
            "_view_name": "LabelView",
            "description": "",
            "description_tooltip": null,
            "layout": "IPY_MODEL_9c1711acd6de4058842346350e7d6272",
            "placeholder": "​",
            "style": "IPY_MODEL_e769e3bc11e64b5bae5d0b05ef7c32b8",
            "value": "0.011 MB of 0.011 MB uploaded\r"
          }
        },
        "fc9443defba24c2c968a881f0aeb4031": {
          "model_module": "@jupyter-widgets/controls",
          "model_name": "FloatProgressModel",
          "model_module_version": "1.5.0",
          "state": {
            "_dom_classes": [],
            "_model_module": "@jupyter-widgets/controls",
            "_model_module_version": "1.5.0",
            "_model_name": "FloatProgressModel",
            "_view_count": null,
            "_view_module": "@jupyter-widgets/controls",
            "_view_module_version": "1.5.0",
            "_view_name": "ProgressView",
            "bar_style": "",
            "description": "",
            "description_tooltip": null,
            "layout": "IPY_MODEL_16aded7af98e426e947e1f19f975f699",
            "max": 1,
            "min": 0,
            "orientation": "horizontal",
            "style": "IPY_MODEL_47388ff906da499ca91cc0f7f1220a16",
            "value": 1
          }
        },
        "437d5cf8ca004b509ae872d96dcc7791": {
          "model_module": "@jupyter-widgets/base",
          "model_name": "LayoutModel",
          "model_module_version": "1.2.0",
          "state": {
            "_model_module": "@jupyter-widgets/base",
            "_model_module_version": "1.2.0",
            "_model_name": "LayoutModel",
            "_view_count": null,
            "_view_module": "@jupyter-widgets/base",
            "_view_module_version": "1.2.0",
            "_view_name": "LayoutView",
            "align_content": null,
            "align_items": null,
            "align_self": null,
            "border": null,
            "bottom": null,
            "display": null,
            "flex": null,
            "flex_flow": null,
            "grid_area": null,
            "grid_auto_columns": null,
            "grid_auto_flow": null,
            "grid_auto_rows": null,
            "grid_column": null,
            "grid_gap": null,
            "grid_row": null,
            "grid_template_areas": null,
            "grid_template_columns": null,
            "grid_template_rows": null,
            "height": null,
            "justify_content": null,
            "justify_items": null,
            "left": null,
            "margin": null,
            "max_height": null,
            "max_width": null,
            "min_height": null,
            "min_width": null,
            "object_fit": null,
            "object_position": null,
            "order": null,
            "overflow": null,
            "overflow_x": null,
            "overflow_y": null,
            "padding": null,
            "right": null,
            "top": null,
            "visibility": null,
            "width": null
          }
        },
        "9c1711acd6de4058842346350e7d6272": {
          "model_module": "@jupyter-widgets/base",
          "model_name": "LayoutModel",
          "model_module_version": "1.2.0",
          "state": {
            "_model_module": "@jupyter-widgets/base",
            "_model_module_version": "1.2.0",
            "_model_name": "LayoutModel",
            "_view_count": null,
            "_view_module": "@jupyter-widgets/base",
            "_view_module_version": "1.2.0",
            "_view_name": "LayoutView",
            "align_content": null,
            "align_items": null,
            "align_self": null,
            "border": null,
            "bottom": null,
            "display": null,
            "flex": null,
            "flex_flow": null,
            "grid_area": null,
            "grid_auto_columns": null,
            "grid_auto_flow": null,
            "grid_auto_rows": null,
            "grid_column": null,
            "grid_gap": null,
            "grid_row": null,
            "grid_template_areas": null,
            "grid_template_columns": null,
            "grid_template_rows": null,
            "height": null,
            "justify_content": null,
            "justify_items": null,
            "left": null,
            "margin": null,
            "max_height": null,
            "max_width": null,
            "min_height": null,
            "min_width": null,
            "object_fit": null,
            "object_position": null,
            "order": null,
            "overflow": null,
            "overflow_x": null,
            "overflow_y": null,
            "padding": null,
            "right": null,
            "top": null,
            "visibility": null,
            "width": null
          }
        },
        "e769e3bc11e64b5bae5d0b05ef7c32b8": {
          "model_module": "@jupyter-widgets/controls",
          "model_name": "DescriptionStyleModel",
          "model_module_version": "1.5.0",
          "state": {
            "_model_module": "@jupyter-widgets/controls",
            "_model_module_version": "1.5.0",
            "_model_name": "DescriptionStyleModel",
            "_view_count": null,
            "_view_module": "@jupyter-widgets/base",
            "_view_module_version": "1.2.0",
            "_view_name": "StyleView",
            "description_width": ""
          }
        },
        "16aded7af98e426e947e1f19f975f699": {
          "model_module": "@jupyter-widgets/base",
          "model_name": "LayoutModel",
          "model_module_version": "1.2.0",
          "state": {
            "_model_module": "@jupyter-widgets/base",
            "_model_module_version": "1.2.0",
            "_model_name": "LayoutModel",
            "_view_count": null,
            "_view_module": "@jupyter-widgets/base",
            "_view_module_version": "1.2.0",
            "_view_name": "LayoutView",
            "align_content": null,
            "align_items": null,
            "align_self": null,
            "border": null,
            "bottom": null,
            "display": null,
            "flex": null,
            "flex_flow": null,
            "grid_area": null,
            "grid_auto_columns": null,
            "grid_auto_flow": null,
            "grid_auto_rows": null,
            "grid_column": null,
            "grid_gap": null,
            "grid_row": null,
            "grid_template_areas": null,
            "grid_template_columns": null,
            "grid_template_rows": null,
            "height": null,
            "justify_content": null,
            "justify_items": null,
            "left": null,
            "margin": null,
            "max_height": null,
            "max_width": null,
            "min_height": null,
            "min_width": null,
            "object_fit": null,
            "object_position": null,
            "order": null,
            "overflow": null,
            "overflow_x": null,
            "overflow_y": null,
            "padding": null,
            "right": null,
            "top": null,
            "visibility": null,
            "width": null
          }
        },
        "47388ff906da499ca91cc0f7f1220a16": {
          "model_module": "@jupyter-widgets/controls",
          "model_name": "ProgressStyleModel",
          "model_module_version": "1.5.0",
          "state": {
            "_model_module": "@jupyter-widgets/controls",
            "_model_module_version": "1.5.0",
            "_model_name": "ProgressStyleModel",
            "_view_count": null,
            "_view_module": "@jupyter-widgets/base",
            "_view_module_version": "1.2.0",
            "_view_name": "StyleView",
            "bar_color": null,
            "description_width": ""
          }
        },
        "853ce980abc04385bc3b6a138798e4ac": {
          "model_module": "@jupyter-widgets/controls",
          "model_name": "VBoxModel",
          "model_module_version": "1.5.0",
          "state": {
            "_dom_classes": [],
            "_model_module": "@jupyter-widgets/controls",
            "_model_module_version": "1.5.0",
            "_model_name": "VBoxModel",
            "_view_count": null,
            "_view_module": "@jupyter-widgets/controls",
            "_view_module_version": "1.5.0",
            "_view_name": "VBoxView",
            "box_style": "",
            "children": [
              "IPY_MODEL_dc10fd715bb142119438d44447ebc84c",
              "IPY_MODEL_ef555cbfc95f46aeb4fd8113c6f851d0"
            ],
            "layout": "IPY_MODEL_3826aae53dea48a681d8e75bd9d09db6"
          }
        },
        "dc10fd715bb142119438d44447ebc84c": {
          "model_module": "@jupyter-widgets/controls",
          "model_name": "LabelModel",
          "model_module_version": "1.5.0",
          "state": {
            "_dom_classes": [],
            "_model_module": "@jupyter-widgets/controls",
            "_model_module_version": "1.5.0",
            "_model_name": "LabelModel",
            "_view_count": null,
            "_view_module": "@jupyter-widgets/controls",
            "_view_module_version": "1.5.0",
            "_view_name": "LabelView",
            "description": "",
            "description_tooltip": null,
            "layout": "IPY_MODEL_1e3dcb2e629c4152b6faa21adfc9592d",
            "placeholder": "​",
            "style": "IPY_MODEL_99c2d8cac58347dfb6c2db1033d1681b",
            "value": "0.011 MB of 0.011 MB uploaded\r"
          }
        },
        "ef555cbfc95f46aeb4fd8113c6f851d0": {
          "model_module": "@jupyter-widgets/controls",
          "model_name": "FloatProgressModel",
          "model_module_version": "1.5.0",
          "state": {
            "_dom_classes": [],
            "_model_module": "@jupyter-widgets/controls",
            "_model_module_version": "1.5.0",
            "_model_name": "FloatProgressModel",
            "_view_count": null,
            "_view_module": "@jupyter-widgets/controls",
            "_view_module_version": "1.5.0",
            "_view_name": "ProgressView",
            "bar_style": "",
            "description": "",
            "description_tooltip": null,
            "layout": "IPY_MODEL_98d36a0a57b94e6b9e03757b9c107829",
            "max": 1,
            "min": 0,
            "orientation": "horizontal",
            "style": "IPY_MODEL_716235ead49b4a4cb6144d98a6262416",
            "value": 1
          }
        },
        "3826aae53dea48a681d8e75bd9d09db6": {
          "model_module": "@jupyter-widgets/base",
          "model_name": "LayoutModel",
          "model_module_version": "1.2.0",
          "state": {
            "_model_module": "@jupyter-widgets/base",
            "_model_module_version": "1.2.0",
            "_model_name": "LayoutModel",
            "_view_count": null,
            "_view_module": "@jupyter-widgets/base",
            "_view_module_version": "1.2.0",
            "_view_name": "LayoutView",
            "align_content": null,
            "align_items": null,
            "align_self": null,
            "border": null,
            "bottom": null,
            "display": null,
            "flex": null,
            "flex_flow": null,
            "grid_area": null,
            "grid_auto_columns": null,
            "grid_auto_flow": null,
            "grid_auto_rows": null,
            "grid_column": null,
            "grid_gap": null,
            "grid_row": null,
            "grid_template_areas": null,
            "grid_template_columns": null,
            "grid_template_rows": null,
            "height": null,
            "justify_content": null,
            "justify_items": null,
            "left": null,
            "margin": null,
            "max_height": null,
            "max_width": null,
            "min_height": null,
            "min_width": null,
            "object_fit": null,
            "object_position": null,
            "order": null,
            "overflow": null,
            "overflow_x": null,
            "overflow_y": null,
            "padding": null,
            "right": null,
            "top": null,
            "visibility": null,
            "width": null
          }
        },
        "1e3dcb2e629c4152b6faa21adfc9592d": {
          "model_module": "@jupyter-widgets/base",
          "model_name": "LayoutModel",
          "model_module_version": "1.2.0",
          "state": {
            "_model_module": "@jupyter-widgets/base",
            "_model_module_version": "1.2.0",
            "_model_name": "LayoutModel",
            "_view_count": null,
            "_view_module": "@jupyter-widgets/base",
            "_view_module_version": "1.2.0",
            "_view_name": "LayoutView",
            "align_content": null,
            "align_items": null,
            "align_self": null,
            "border": null,
            "bottom": null,
            "display": null,
            "flex": null,
            "flex_flow": null,
            "grid_area": null,
            "grid_auto_columns": null,
            "grid_auto_flow": null,
            "grid_auto_rows": null,
            "grid_column": null,
            "grid_gap": null,
            "grid_row": null,
            "grid_template_areas": null,
            "grid_template_columns": null,
            "grid_template_rows": null,
            "height": null,
            "justify_content": null,
            "justify_items": null,
            "left": null,
            "margin": null,
            "max_height": null,
            "max_width": null,
            "min_height": null,
            "min_width": null,
            "object_fit": null,
            "object_position": null,
            "order": null,
            "overflow": null,
            "overflow_x": null,
            "overflow_y": null,
            "padding": null,
            "right": null,
            "top": null,
            "visibility": null,
            "width": null
          }
        },
        "99c2d8cac58347dfb6c2db1033d1681b": {
          "model_module": "@jupyter-widgets/controls",
          "model_name": "DescriptionStyleModel",
          "model_module_version": "1.5.0",
          "state": {
            "_model_module": "@jupyter-widgets/controls",
            "_model_module_version": "1.5.0",
            "_model_name": "DescriptionStyleModel",
            "_view_count": null,
            "_view_module": "@jupyter-widgets/base",
            "_view_module_version": "1.2.0",
            "_view_name": "StyleView",
            "description_width": ""
          }
        },
        "98d36a0a57b94e6b9e03757b9c107829": {
          "model_module": "@jupyter-widgets/base",
          "model_name": "LayoutModel",
          "model_module_version": "1.2.0",
          "state": {
            "_model_module": "@jupyter-widgets/base",
            "_model_module_version": "1.2.0",
            "_model_name": "LayoutModel",
            "_view_count": null,
            "_view_module": "@jupyter-widgets/base",
            "_view_module_version": "1.2.0",
            "_view_name": "LayoutView",
            "align_content": null,
            "align_items": null,
            "align_self": null,
            "border": null,
            "bottom": null,
            "display": null,
            "flex": null,
            "flex_flow": null,
            "grid_area": null,
            "grid_auto_columns": null,
            "grid_auto_flow": null,
            "grid_auto_rows": null,
            "grid_column": null,
            "grid_gap": null,
            "grid_row": null,
            "grid_template_areas": null,
            "grid_template_columns": null,
            "grid_template_rows": null,
            "height": null,
            "justify_content": null,
            "justify_items": null,
            "left": null,
            "margin": null,
            "max_height": null,
            "max_width": null,
            "min_height": null,
            "min_width": null,
            "object_fit": null,
            "object_position": null,
            "order": null,
            "overflow": null,
            "overflow_x": null,
            "overflow_y": null,
            "padding": null,
            "right": null,
            "top": null,
            "visibility": null,
            "width": null
          }
        },
        "716235ead49b4a4cb6144d98a6262416": {
          "model_module": "@jupyter-widgets/controls",
          "model_name": "ProgressStyleModel",
          "model_module_version": "1.5.0",
          "state": {
            "_model_module": "@jupyter-widgets/controls",
            "_model_module_version": "1.5.0",
            "_model_name": "ProgressStyleModel",
            "_view_count": null,
            "_view_module": "@jupyter-widgets/base",
            "_view_module_version": "1.2.0",
            "_view_name": "StyleView",
            "bar_color": null,
            "description_width": ""
          }
        },
        "ca855142c4334db9991d63e7fd234dd5": {
          "model_module": "@jupyter-widgets/controls",
          "model_name": "VBoxModel",
          "model_module_version": "1.5.0",
          "state": {
            "_dom_classes": [],
            "_model_module": "@jupyter-widgets/controls",
            "_model_module_version": "1.5.0",
            "_model_name": "VBoxModel",
            "_view_count": null,
            "_view_module": "@jupyter-widgets/controls",
            "_view_module_version": "1.5.0",
            "_view_name": "VBoxView",
            "box_style": "",
            "children": [
              "IPY_MODEL_7a469cfa2165423ca46e1f26f1a16da7",
              "IPY_MODEL_2799aca2668e4c4e9c9712fd60473fcc"
            ],
            "layout": "IPY_MODEL_e9b595d44b04476ca151a2e3492b5c53"
          }
        },
        "7a469cfa2165423ca46e1f26f1a16da7": {
          "model_module": "@jupyter-widgets/controls",
          "model_name": "LabelModel",
          "model_module_version": "1.5.0",
          "state": {
            "_dom_classes": [],
            "_model_module": "@jupyter-widgets/controls",
            "_model_module_version": "1.5.0",
            "_model_name": "LabelModel",
            "_view_count": null,
            "_view_module": "@jupyter-widgets/controls",
            "_view_module_version": "1.5.0",
            "_view_name": "LabelView",
            "description": "",
            "description_tooltip": null,
            "layout": "IPY_MODEL_beac46ffc73f4d2982c15b1a655e8dc6",
            "placeholder": "​",
            "style": "IPY_MODEL_29ab411a65c24edd8434adbbf706089f",
            "value": "0.013 MB of 0.013 MB uploaded\r"
          }
        },
        "2799aca2668e4c4e9c9712fd60473fcc": {
          "model_module": "@jupyter-widgets/controls",
          "model_name": "FloatProgressModel",
          "model_module_version": "1.5.0",
          "state": {
            "_dom_classes": [],
            "_model_module": "@jupyter-widgets/controls",
            "_model_module_version": "1.5.0",
            "_model_name": "FloatProgressModel",
            "_view_count": null,
            "_view_module": "@jupyter-widgets/controls",
            "_view_module_version": "1.5.0",
            "_view_name": "ProgressView",
            "bar_style": "",
            "description": "",
            "description_tooltip": null,
            "layout": "IPY_MODEL_eefb1aa8f4da46409898946e2b22fa21",
            "max": 1,
            "min": 0,
            "orientation": "horizontal",
            "style": "IPY_MODEL_5d91511f3c6e4f459cdb1cffb9df6ac3",
            "value": 1
          }
        },
        "e9b595d44b04476ca151a2e3492b5c53": {
          "model_module": "@jupyter-widgets/base",
          "model_name": "LayoutModel",
          "model_module_version": "1.2.0",
          "state": {
            "_model_module": "@jupyter-widgets/base",
            "_model_module_version": "1.2.0",
            "_model_name": "LayoutModel",
            "_view_count": null,
            "_view_module": "@jupyter-widgets/base",
            "_view_module_version": "1.2.0",
            "_view_name": "LayoutView",
            "align_content": null,
            "align_items": null,
            "align_self": null,
            "border": null,
            "bottom": null,
            "display": null,
            "flex": null,
            "flex_flow": null,
            "grid_area": null,
            "grid_auto_columns": null,
            "grid_auto_flow": null,
            "grid_auto_rows": null,
            "grid_column": null,
            "grid_gap": null,
            "grid_row": null,
            "grid_template_areas": null,
            "grid_template_columns": null,
            "grid_template_rows": null,
            "height": null,
            "justify_content": null,
            "justify_items": null,
            "left": null,
            "margin": null,
            "max_height": null,
            "max_width": null,
            "min_height": null,
            "min_width": null,
            "object_fit": null,
            "object_position": null,
            "order": null,
            "overflow": null,
            "overflow_x": null,
            "overflow_y": null,
            "padding": null,
            "right": null,
            "top": null,
            "visibility": null,
            "width": null
          }
        },
        "beac46ffc73f4d2982c15b1a655e8dc6": {
          "model_module": "@jupyter-widgets/base",
          "model_name": "LayoutModel",
          "model_module_version": "1.2.0",
          "state": {
            "_model_module": "@jupyter-widgets/base",
            "_model_module_version": "1.2.0",
            "_model_name": "LayoutModel",
            "_view_count": null,
            "_view_module": "@jupyter-widgets/base",
            "_view_module_version": "1.2.0",
            "_view_name": "LayoutView",
            "align_content": null,
            "align_items": null,
            "align_self": null,
            "border": null,
            "bottom": null,
            "display": null,
            "flex": null,
            "flex_flow": null,
            "grid_area": null,
            "grid_auto_columns": null,
            "grid_auto_flow": null,
            "grid_auto_rows": null,
            "grid_column": null,
            "grid_gap": null,
            "grid_row": null,
            "grid_template_areas": null,
            "grid_template_columns": null,
            "grid_template_rows": null,
            "height": null,
            "justify_content": null,
            "justify_items": null,
            "left": null,
            "margin": null,
            "max_height": null,
            "max_width": null,
            "min_height": null,
            "min_width": null,
            "object_fit": null,
            "object_position": null,
            "order": null,
            "overflow": null,
            "overflow_x": null,
            "overflow_y": null,
            "padding": null,
            "right": null,
            "top": null,
            "visibility": null,
            "width": null
          }
        },
        "29ab411a65c24edd8434adbbf706089f": {
          "model_module": "@jupyter-widgets/controls",
          "model_name": "DescriptionStyleModel",
          "model_module_version": "1.5.0",
          "state": {
            "_model_module": "@jupyter-widgets/controls",
            "_model_module_version": "1.5.0",
            "_model_name": "DescriptionStyleModel",
            "_view_count": null,
            "_view_module": "@jupyter-widgets/base",
            "_view_module_version": "1.2.0",
            "_view_name": "StyleView",
            "description_width": ""
          }
        },
        "eefb1aa8f4da46409898946e2b22fa21": {
          "model_module": "@jupyter-widgets/base",
          "model_name": "LayoutModel",
          "model_module_version": "1.2.0",
          "state": {
            "_model_module": "@jupyter-widgets/base",
            "_model_module_version": "1.2.0",
            "_model_name": "LayoutModel",
            "_view_count": null,
            "_view_module": "@jupyter-widgets/base",
            "_view_module_version": "1.2.0",
            "_view_name": "LayoutView",
            "align_content": null,
            "align_items": null,
            "align_self": null,
            "border": null,
            "bottom": null,
            "display": null,
            "flex": null,
            "flex_flow": null,
            "grid_area": null,
            "grid_auto_columns": null,
            "grid_auto_flow": null,
            "grid_auto_rows": null,
            "grid_column": null,
            "grid_gap": null,
            "grid_row": null,
            "grid_template_areas": null,
            "grid_template_columns": null,
            "grid_template_rows": null,
            "height": null,
            "justify_content": null,
            "justify_items": null,
            "left": null,
            "margin": null,
            "max_height": null,
            "max_width": null,
            "min_height": null,
            "min_width": null,
            "object_fit": null,
            "object_position": null,
            "order": null,
            "overflow": null,
            "overflow_x": null,
            "overflow_y": null,
            "padding": null,
            "right": null,
            "top": null,
            "visibility": null,
            "width": null
          }
        },
        "5d91511f3c6e4f459cdb1cffb9df6ac3": {
          "model_module": "@jupyter-widgets/controls",
          "model_name": "ProgressStyleModel",
          "model_module_version": "1.5.0",
          "state": {
            "_model_module": "@jupyter-widgets/controls",
            "_model_module_version": "1.5.0",
            "_model_name": "ProgressStyleModel",
            "_view_count": null,
            "_view_module": "@jupyter-widgets/base",
            "_view_module_version": "1.2.0",
            "_view_name": "StyleView",
            "bar_color": null,
            "description_width": ""
          }
        },
        "29fbcd34f37f4708b0b5e02fc0a3d01b": {
          "model_module": "@jupyter-widgets/controls",
          "model_name": "VBoxModel",
          "model_module_version": "1.5.0",
          "state": {
            "_dom_classes": [],
            "_model_module": "@jupyter-widgets/controls",
            "_model_module_version": "1.5.0",
            "_model_name": "VBoxModel",
            "_view_count": null,
            "_view_module": "@jupyter-widgets/controls",
            "_view_module_version": "1.5.0",
            "_view_name": "VBoxView",
            "box_style": "",
            "children": [
              "IPY_MODEL_2ada659a1d674552876fb5fcb50d60d2",
              "IPY_MODEL_9151a45ba768422d951aca476322de44"
            ],
            "layout": "IPY_MODEL_9a412550ce5544b286b6ef8909160f0e"
          }
        },
        "2ada659a1d674552876fb5fcb50d60d2": {
          "model_module": "@jupyter-widgets/controls",
          "model_name": "LabelModel",
          "model_module_version": "1.5.0",
          "state": {
            "_dom_classes": [],
            "_model_module": "@jupyter-widgets/controls",
            "_model_module_version": "1.5.0",
            "_model_name": "LabelModel",
            "_view_count": null,
            "_view_module": "@jupyter-widgets/controls",
            "_view_module_version": "1.5.0",
            "_view_name": "LabelView",
            "description": "",
            "description_tooltip": null,
            "layout": "IPY_MODEL_399ac264bc934672908135f8efc74ba0",
            "placeholder": "​",
            "style": "IPY_MODEL_f16d1872b01244a3b30e9f271440ec74",
            "value": "0.011 MB of 0.011 MB uploaded\r"
          }
        },
        "9151a45ba768422d951aca476322de44": {
          "model_module": "@jupyter-widgets/controls",
          "model_name": "FloatProgressModel",
          "model_module_version": "1.5.0",
          "state": {
            "_dom_classes": [],
            "_model_module": "@jupyter-widgets/controls",
            "_model_module_version": "1.5.0",
            "_model_name": "FloatProgressModel",
            "_view_count": null,
            "_view_module": "@jupyter-widgets/controls",
            "_view_module_version": "1.5.0",
            "_view_name": "ProgressView",
            "bar_style": "",
            "description": "",
            "description_tooltip": null,
            "layout": "IPY_MODEL_ff176947f58b40cb86e891d49da97714",
            "max": 1,
            "min": 0,
            "orientation": "horizontal",
            "style": "IPY_MODEL_42f0196933c74f03b86ee8e4b118bb4b",
            "value": 1
          }
        },
        "9a412550ce5544b286b6ef8909160f0e": {
          "model_module": "@jupyter-widgets/base",
          "model_name": "LayoutModel",
          "model_module_version": "1.2.0",
          "state": {
            "_model_module": "@jupyter-widgets/base",
            "_model_module_version": "1.2.0",
            "_model_name": "LayoutModel",
            "_view_count": null,
            "_view_module": "@jupyter-widgets/base",
            "_view_module_version": "1.2.0",
            "_view_name": "LayoutView",
            "align_content": null,
            "align_items": null,
            "align_self": null,
            "border": null,
            "bottom": null,
            "display": null,
            "flex": null,
            "flex_flow": null,
            "grid_area": null,
            "grid_auto_columns": null,
            "grid_auto_flow": null,
            "grid_auto_rows": null,
            "grid_column": null,
            "grid_gap": null,
            "grid_row": null,
            "grid_template_areas": null,
            "grid_template_columns": null,
            "grid_template_rows": null,
            "height": null,
            "justify_content": null,
            "justify_items": null,
            "left": null,
            "margin": null,
            "max_height": null,
            "max_width": null,
            "min_height": null,
            "min_width": null,
            "object_fit": null,
            "object_position": null,
            "order": null,
            "overflow": null,
            "overflow_x": null,
            "overflow_y": null,
            "padding": null,
            "right": null,
            "top": null,
            "visibility": null,
            "width": null
          }
        },
        "399ac264bc934672908135f8efc74ba0": {
          "model_module": "@jupyter-widgets/base",
          "model_name": "LayoutModel",
          "model_module_version": "1.2.0",
          "state": {
            "_model_module": "@jupyter-widgets/base",
            "_model_module_version": "1.2.0",
            "_model_name": "LayoutModel",
            "_view_count": null,
            "_view_module": "@jupyter-widgets/base",
            "_view_module_version": "1.2.0",
            "_view_name": "LayoutView",
            "align_content": null,
            "align_items": null,
            "align_self": null,
            "border": null,
            "bottom": null,
            "display": null,
            "flex": null,
            "flex_flow": null,
            "grid_area": null,
            "grid_auto_columns": null,
            "grid_auto_flow": null,
            "grid_auto_rows": null,
            "grid_column": null,
            "grid_gap": null,
            "grid_row": null,
            "grid_template_areas": null,
            "grid_template_columns": null,
            "grid_template_rows": null,
            "height": null,
            "justify_content": null,
            "justify_items": null,
            "left": null,
            "margin": null,
            "max_height": null,
            "max_width": null,
            "min_height": null,
            "min_width": null,
            "object_fit": null,
            "object_position": null,
            "order": null,
            "overflow": null,
            "overflow_x": null,
            "overflow_y": null,
            "padding": null,
            "right": null,
            "top": null,
            "visibility": null,
            "width": null
          }
        },
        "f16d1872b01244a3b30e9f271440ec74": {
          "model_module": "@jupyter-widgets/controls",
          "model_name": "DescriptionStyleModel",
          "model_module_version": "1.5.0",
          "state": {
            "_model_module": "@jupyter-widgets/controls",
            "_model_module_version": "1.5.0",
            "_model_name": "DescriptionStyleModel",
            "_view_count": null,
            "_view_module": "@jupyter-widgets/base",
            "_view_module_version": "1.2.0",
            "_view_name": "StyleView",
            "description_width": ""
          }
        },
        "ff176947f58b40cb86e891d49da97714": {
          "model_module": "@jupyter-widgets/base",
          "model_name": "LayoutModel",
          "model_module_version": "1.2.0",
          "state": {
            "_model_module": "@jupyter-widgets/base",
            "_model_module_version": "1.2.0",
            "_model_name": "LayoutModel",
            "_view_count": null,
            "_view_module": "@jupyter-widgets/base",
            "_view_module_version": "1.2.0",
            "_view_name": "LayoutView",
            "align_content": null,
            "align_items": null,
            "align_self": null,
            "border": null,
            "bottom": null,
            "display": null,
            "flex": null,
            "flex_flow": null,
            "grid_area": null,
            "grid_auto_columns": null,
            "grid_auto_flow": null,
            "grid_auto_rows": null,
            "grid_column": null,
            "grid_gap": null,
            "grid_row": null,
            "grid_template_areas": null,
            "grid_template_columns": null,
            "grid_template_rows": null,
            "height": null,
            "justify_content": null,
            "justify_items": null,
            "left": null,
            "margin": null,
            "max_height": null,
            "max_width": null,
            "min_height": null,
            "min_width": null,
            "object_fit": null,
            "object_position": null,
            "order": null,
            "overflow": null,
            "overflow_x": null,
            "overflow_y": null,
            "padding": null,
            "right": null,
            "top": null,
            "visibility": null,
            "width": null
          }
        },
        "42f0196933c74f03b86ee8e4b118bb4b": {
          "model_module": "@jupyter-widgets/controls",
          "model_name": "ProgressStyleModel",
          "model_module_version": "1.5.0",
          "state": {
            "_model_module": "@jupyter-widgets/controls",
            "_model_module_version": "1.5.0",
            "_model_name": "ProgressStyleModel",
            "_view_count": null,
            "_view_module": "@jupyter-widgets/base",
            "_view_module_version": "1.2.0",
            "_view_name": "StyleView",
            "bar_color": null,
            "description_width": ""
          }
        },
        "6b6fe392d1a94b1697bb381cd84314fa": {
          "model_module": "@jupyter-widgets/controls",
          "model_name": "VBoxModel",
          "model_module_version": "1.5.0",
          "state": {
            "_dom_classes": [],
            "_model_module": "@jupyter-widgets/controls",
            "_model_module_version": "1.5.0",
            "_model_name": "VBoxModel",
            "_view_count": null,
            "_view_module": "@jupyter-widgets/controls",
            "_view_module_version": "1.5.0",
            "_view_name": "VBoxView",
            "box_style": "",
            "children": [
              "IPY_MODEL_e63f2a67cbc34d72aa5127fa4b9907fc",
              "IPY_MODEL_b7d3d54e05634f0ea7ae4f5bffc2fa1a"
            ],
            "layout": "IPY_MODEL_0d74f0f9e4834cbbb87ec014dfd4c4c0"
          }
        },
        "e63f2a67cbc34d72aa5127fa4b9907fc": {
          "model_module": "@jupyter-widgets/controls",
          "model_name": "LabelModel",
          "model_module_version": "1.5.0",
          "state": {
            "_dom_classes": [],
            "_model_module": "@jupyter-widgets/controls",
            "_model_module_version": "1.5.0",
            "_model_name": "LabelModel",
            "_view_count": null,
            "_view_module": "@jupyter-widgets/controls",
            "_view_module_version": "1.5.0",
            "_view_name": "LabelView",
            "description": "",
            "description_tooltip": null,
            "layout": "IPY_MODEL_3d22f443bf8744f88e210ad3fb537a56",
            "placeholder": "​",
            "style": "IPY_MODEL_e1ffb6321c464d838cdcbb70f04459a0",
            "value": "0.011 MB of 0.011 MB uploaded\r"
          }
        },
        "b7d3d54e05634f0ea7ae4f5bffc2fa1a": {
          "model_module": "@jupyter-widgets/controls",
          "model_name": "FloatProgressModel",
          "model_module_version": "1.5.0",
          "state": {
            "_dom_classes": [],
            "_model_module": "@jupyter-widgets/controls",
            "_model_module_version": "1.5.0",
            "_model_name": "FloatProgressModel",
            "_view_count": null,
            "_view_module": "@jupyter-widgets/controls",
            "_view_module_version": "1.5.0",
            "_view_name": "ProgressView",
            "bar_style": "",
            "description": "",
            "description_tooltip": null,
            "layout": "IPY_MODEL_6b5ba575f1c34251bae82999a4f0464e",
            "max": 1,
            "min": 0,
            "orientation": "horizontal",
            "style": "IPY_MODEL_8ea26a5c0e8e415a8648466961225a18",
            "value": 1
          }
        },
        "0d74f0f9e4834cbbb87ec014dfd4c4c0": {
          "model_module": "@jupyter-widgets/base",
          "model_name": "LayoutModel",
          "model_module_version": "1.2.0",
          "state": {
            "_model_module": "@jupyter-widgets/base",
            "_model_module_version": "1.2.0",
            "_model_name": "LayoutModel",
            "_view_count": null,
            "_view_module": "@jupyter-widgets/base",
            "_view_module_version": "1.2.0",
            "_view_name": "LayoutView",
            "align_content": null,
            "align_items": null,
            "align_self": null,
            "border": null,
            "bottom": null,
            "display": null,
            "flex": null,
            "flex_flow": null,
            "grid_area": null,
            "grid_auto_columns": null,
            "grid_auto_flow": null,
            "grid_auto_rows": null,
            "grid_column": null,
            "grid_gap": null,
            "grid_row": null,
            "grid_template_areas": null,
            "grid_template_columns": null,
            "grid_template_rows": null,
            "height": null,
            "justify_content": null,
            "justify_items": null,
            "left": null,
            "margin": null,
            "max_height": null,
            "max_width": null,
            "min_height": null,
            "min_width": null,
            "object_fit": null,
            "object_position": null,
            "order": null,
            "overflow": null,
            "overflow_x": null,
            "overflow_y": null,
            "padding": null,
            "right": null,
            "top": null,
            "visibility": null,
            "width": null
          }
        },
        "3d22f443bf8744f88e210ad3fb537a56": {
          "model_module": "@jupyter-widgets/base",
          "model_name": "LayoutModel",
          "model_module_version": "1.2.0",
          "state": {
            "_model_module": "@jupyter-widgets/base",
            "_model_module_version": "1.2.0",
            "_model_name": "LayoutModel",
            "_view_count": null,
            "_view_module": "@jupyter-widgets/base",
            "_view_module_version": "1.2.0",
            "_view_name": "LayoutView",
            "align_content": null,
            "align_items": null,
            "align_self": null,
            "border": null,
            "bottom": null,
            "display": null,
            "flex": null,
            "flex_flow": null,
            "grid_area": null,
            "grid_auto_columns": null,
            "grid_auto_flow": null,
            "grid_auto_rows": null,
            "grid_column": null,
            "grid_gap": null,
            "grid_row": null,
            "grid_template_areas": null,
            "grid_template_columns": null,
            "grid_template_rows": null,
            "height": null,
            "justify_content": null,
            "justify_items": null,
            "left": null,
            "margin": null,
            "max_height": null,
            "max_width": null,
            "min_height": null,
            "min_width": null,
            "object_fit": null,
            "object_position": null,
            "order": null,
            "overflow": null,
            "overflow_x": null,
            "overflow_y": null,
            "padding": null,
            "right": null,
            "top": null,
            "visibility": null,
            "width": null
          }
        },
        "e1ffb6321c464d838cdcbb70f04459a0": {
          "model_module": "@jupyter-widgets/controls",
          "model_name": "DescriptionStyleModel",
          "model_module_version": "1.5.0",
          "state": {
            "_model_module": "@jupyter-widgets/controls",
            "_model_module_version": "1.5.0",
            "_model_name": "DescriptionStyleModel",
            "_view_count": null,
            "_view_module": "@jupyter-widgets/base",
            "_view_module_version": "1.2.0",
            "_view_name": "StyleView",
            "description_width": ""
          }
        },
        "6b5ba575f1c34251bae82999a4f0464e": {
          "model_module": "@jupyter-widgets/base",
          "model_name": "LayoutModel",
          "model_module_version": "1.2.0",
          "state": {
            "_model_module": "@jupyter-widgets/base",
            "_model_module_version": "1.2.0",
            "_model_name": "LayoutModel",
            "_view_count": null,
            "_view_module": "@jupyter-widgets/base",
            "_view_module_version": "1.2.0",
            "_view_name": "LayoutView",
            "align_content": null,
            "align_items": null,
            "align_self": null,
            "border": null,
            "bottom": null,
            "display": null,
            "flex": null,
            "flex_flow": null,
            "grid_area": null,
            "grid_auto_columns": null,
            "grid_auto_flow": null,
            "grid_auto_rows": null,
            "grid_column": null,
            "grid_gap": null,
            "grid_row": null,
            "grid_template_areas": null,
            "grid_template_columns": null,
            "grid_template_rows": null,
            "height": null,
            "justify_content": null,
            "justify_items": null,
            "left": null,
            "margin": null,
            "max_height": null,
            "max_width": null,
            "min_height": null,
            "min_width": null,
            "object_fit": null,
            "object_position": null,
            "order": null,
            "overflow": null,
            "overflow_x": null,
            "overflow_y": null,
            "padding": null,
            "right": null,
            "top": null,
            "visibility": null,
            "width": null
          }
        },
        "8ea26a5c0e8e415a8648466961225a18": {
          "model_module": "@jupyter-widgets/controls",
          "model_name": "ProgressStyleModel",
          "model_module_version": "1.5.0",
          "state": {
            "_model_module": "@jupyter-widgets/controls",
            "_model_module_version": "1.5.0",
            "_model_name": "ProgressStyleModel",
            "_view_count": null,
            "_view_module": "@jupyter-widgets/base",
            "_view_module_version": "1.2.0",
            "_view_name": "StyleView",
            "bar_color": null,
            "description_width": ""
          }
        },
        "f2bb40780a924833b4c8d97fbc442a8a": {
          "model_module": "@jupyter-widgets/controls",
          "model_name": "VBoxModel",
          "model_module_version": "1.5.0",
          "state": {
            "_dom_classes": [],
            "_model_module": "@jupyter-widgets/controls",
            "_model_module_version": "1.5.0",
            "_model_name": "VBoxModel",
            "_view_count": null,
            "_view_module": "@jupyter-widgets/controls",
            "_view_module_version": "1.5.0",
            "_view_name": "VBoxView",
            "box_style": "",
            "children": [
              "IPY_MODEL_bf5e85ea9cc34db29d30025b5d31d79b",
              "IPY_MODEL_3d238572ba454a2cb7f3ee2173d550c1"
            ],
            "layout": "IPY_MODEL_5a22be13333f41478665cbdd8e7df6a9"
          }
        },
        "bf5e85ea9cc34db29d30025b5d31d79b": {
          "model_module": "@jupyter-widgets/controls",
          "model_name": "LabelModel",
          "model_module_version": "1.5.0",
          "state": {
            "_dom_classes": [],
            "_model_module": "@jupyter-widgets/controls",
            "_model_module_version": "1.5.0",
            "_model_name": "LabelModel",
            "_view_count": null,
            "_view_module": "@jupyter-widgets/controls",
            "_view_module_version": "1.5.0",
            "_view_name": "LabelView",
            "description": "",
            "description_tooltip": null,
            "layout": "IPY_MODEL_8b33220c8596461d851056f3bd8874dc",
            "placeholder": "​",
            "style": "IPY_MODEL_5c45544d41254833bd92c582f5a66ad9",
            "value": "0.013 MB of 0.013 MB uploaded\r"
          }
        },
        "3d238572ba454a2cb7f3ee2173d550c1": {
          "model_module": "@jupyter-widgets/controls",
          "model_name": "FloatProgressModel",
          "model_module_version": "1.5.0",
          "state": {
            "_dom_classes": [],
            "_model_module": "@jupyter-widgets/controls",
            "_model_module_version": "1.5.0",
            "_model_name": "FloatProgressModel",
            "_view_count": null,
            "_view_module": "@jupyter-widgets/controls",
            "_view_module_version": "1.5.0",
            "_view_name": "ProgressView",
            "bar_style": "",
            "description": "",
            "description_tooltip": null,
            "layout": "IPY_MODEL_592baf139fc1461184b7349f224846b6",
            "max": 1,
            "min": 0,
            "orientation": "horizontal",
            "style": "IPY_MODEL_7716c5295dbc483bb73118463e8fb8f3",
            "value": 1
          }
        },
        "5a22be13333f41478665cbdd8e7df6a9": {
          "model_module": "@jupyter-widgets/base",
          "model_name": "LayoutModel",
          "model_module_version": "1.2.0",
          "state": {
            "_model_module": "@jupyter-widgets/base",
            "_model_module_version": "1.2.0",
            "_model_name": "LayoutModel",
            "_view_count": null,
            "_view_module": "@jupyter-widgets/base",
            "_view_module_version": "1.2.0",
            "_view_name": "LayoutView",
            "align_content": null,
            "align_items": null,
            "align_self": null,
            "border": null,
            "bottom": null,
            "display": null,
            "flex": null,
            "flex_flow": null,
            "grid_area": null,
            "grid_auto_columns": null,
            "grid_auto_flow": null,
            "grid_auto_rows": null,
            "grid_column": null,
            "grid_gap": null,
            "grid_row": null,
            "grid_template_areas": null,
            "grid_template_columns": null,
            "grid_template_rows": null,
            "height": null,
            "justify_content": null,
            "justify_items": null,
            "left": null,
            "margin": null,
            "max_height": null,
            "max_width": null,
            "min_height": null,
            "min_width": null,
            "object_fit": null,
            "object_position": null,
            "order": null,
            "overflow": null,
            "overflow_x": null,
            "overflow_y": null,
            "padding": null,
            "right": null,
            "top": null,
            "visibility": null,
            "width": null
          }
        },
        "8b33220c8596461d851056f3bd8874dc": {
          "model_module": "@jupyter-widgets/base",
          "model_name": "LayoutModel",
          "model_module_version": "1.2.0",
          "state": {
            "_model_module": "@jupyter-widgets/base",
            "_model_module_version": "1.2.0",
            "_model_name": "LayoutModel",
            "_view_count": null,
            "_view_module": "@jupyter-widgets/base",
            "_view_module_version": "1.2.0",
            "_view_name": "LayoutView",
            "align_content": null,
            "align_items": null,
            "align_self": null,
            "border": null,
            "bottom": null,
            "display": null,
            "flex": null,
            "flex_flow": null,
            "grid_area": null,
            "grid_auto_columns": null,
            "grid_auto_flow": null,
            "grid_auto_rows": null,
            "grid_column": null,
            "grid_gap": null,
            "grid_row": null,
            "grid_template_areas": null,
            "grid_template_columns": null,
            "grid_template_rows": null,
            "height": null,
            "justify_content": null,
            "justify_items": null,
            "left": null,
            "margin": null,
            "max_height": null,
            "max_width": null,
            "min_height": null,
            "min_width": null,
            "object_fit": null,
            "object_position": null,
            "order": null,
            "overflow": null,
            "overflow_x": null,
            "overflow_y": null,
            "padding": null,
            "right": null,
            "top": null,
            "visibility": null,
            "width": null
          }
        },
        "5c45544d41254833bd92c582f5a66ad9": {
          "model_module": "@jupyter-widgets/controls",
          "model_name": "DescriptionStyleModel",
          "model_module_version": "1.5.0",
          "state": {
            "_model_module": "@jupyter-widgets/controls",
            "_model_module_version": "1.5.0",
            "_model_name": "DescriptionStyleModel",
            "_view_count": null,
            "_view_module": "@jupyter-widgets/base",
            "_view_module_version": "1.2.0",
            "_view_name": "StyleView",
            "description_width": ""
          }
        },
        "592baf139fc1461184b7349f224846b6": {
          "model_module": "@jupyter-widgets/base",
          "model_name": "LayoutModel",
          "model_module_version": "1.2.0",
          "state": {
            "_model_module": "@jupyter-widgets/base",
            "_model_module_version": "1.2.0",
            "_model_name": "LayoutModel",
            "_view_count": null,
            "_view_module": "@jupyter-widgets/base",
            "_view_module_version": "1.2.0",
            "_view_name": "LayoutView",
            "align_content": null,
            "align_items": null,
            "align_self": null,
            "border": null,
            "bottom": null,
            "display": null,
            "flex": null,
            "flex_flow": null,
            "grid_area": null,
            "grid_auto_columns": null,
            "grid_auto_flow": null,
            "grid_auto_rows": null,
            "grid_column": null,
            "grid_gap": null,
            "grid_row": null,
            "grid_template_areas": null,
            "grid_template_columns": null,
            "grid_template_rows": null,
            "height": null,
            "justify_content": null,
            "justify_items": null,
            "left": null,
            "margin": null,
            "max_height": null,
            "max_width": null,
            "min_height": null,
            "min_width": null,
            "object_fit": null,
            "object_position": null,
            "order": null,
            "overflow": null,
            "overflow_x": null,
            "overflow_y": null,
            "padding": null,
            "right": null,
            "top": null,
            "visibility": null,
            "width": null
          }
        },
        "7716c5295dbc483bb73118463e8fb8f3": {
          "model_module": "@jupyter-widgets/controls",
          "model_name": "ProgressStyleModel",
          "model_module_version": "1.5.0",
          "state": {
            "_model_module": "@jupyter-widgets/controls",
            "_model_module_version": "1.5.0",
            "_model_name": "ProgressStyleModel",
            "_view_count": null,
            "_view_module": "@jupyter-widgets/base",
            "_view_module_version": "1.2.0",
            "_view_name": "StyleView",
            "bar_color": null,
            "description_width": ""
          }
        },
        "6710eace876e4bc5a7a5fdc319689636": {
          "model_module": "@jupyter-widgets/controls",
          "model_name": "VBoxModel",
          "model_module_version": "1.5.0",
          "state": {
            "_dom_classes": [],
            "_model_module": "@jupyter-widgets/controls",
            "_model_module_version": "1.5.0",
            "_model_name": "VBoxModel",
            "_view_count": null,
            "_view_module": "@jupyter-widgets/controls",
            "_view_module_version": "1.5.0",
            "_view_name": "VBoxView",
            "box_style": "",
            "children": [
              "IPY_MODEL_4b16b41af778417f9d993e14e0ea040d",
              "IPY_MODEL_24c4cc5cc0d44797be8cff2d92fbb977"
            ],
            "layout": "IPY_MODEL_f36918ae23154bc2b2c503aa786f1097"
          }
        },
        "4b16b41af778417f9d993e14e0ea040d": {
          "model_module": "@jupyter-widgets/controls",
          "model_name": "LabelModel",
          "model_module_version": "1.5.0",
          "state": {
            "_dom_classes": [],
            "_model_module": "@jupyter-widgets/controls",
            "_model_module_version": "1.5.0",
            "_model_name": "LabelModel",
            "_view_count": null,
            "_view_module": "@jupyter-widgets/controls",
            "_view_module_version": "1.5.0",
            "_view_name": "LabelView",
            "description": "",
            "description_tooltip": null,
            "layout": "IPY_MODEL_2104f3aaba3f41dc944628f1f88d967a",
            "placeholder": "​",
            "style": "IPY_MODEL_302b417d15e44b4ab866f768075f3462",
            "value": "0.011 MB of 0.011 MB uploaded\r"
          }
        },
        "24c4cc5cc0d44797be8cff2d92fbb977": {
          "model_module": "@jupyter-widgets/controls",
          "model_name": "FloatProgressModel",
          "model_module_version": "1.5.0",
          "state": {
            "_dom_classes": [],
            "_model_module": "@jupyter-widgets/controls",
            "_model_module_version": "1.5.0",
            "_model_name": "FloatProgressModel",
            "_view_count": null,
            "_view_module": "@jupyter-widgets/controls",
            "_view_module_version": "1.5.0",
            "_view_name": "ProgressView",
            "bar_style": "",
            "description": "",
            "description_tooltip": null,
            "layout": "IPY_MODEL_bf1711c76c7a444392a4a50e8df467ed",
            "max": 1,
            "min": 0,
            "orientation": "horizontal",
            "style": "IPY_MODEL_71e0b25a431a4da4af22544b9cbc24e4",
            "value": 1
          }
        },
        "f36918ae23154bc2b2c503aa786f1097": {
          "model_module": "@jupyter-widgets/base",
          "model_name": "LayoutModel",
          "model_module_version": "1.2.0",
          "state": {
            "_model_module": "@jupyter-widgets/base",
            "_model_module_version": "1.2.0",
            "_model_name": "LayoutModel",
            "_view_count": null,
            "_view_module": "@jupyter-widgets/base",
            "_view_module_version": "1.2.0",
            "_view_name": "LayoutView",
            "align_content": null,
            "align_items": null,
            "align_self": null,
            "border": null,
            "bottom": null,
            "display": null,
            "flex": null,
            "flex_flow": null,
            "grid_area": null,
            "grid_auto_columns": null,
            "grid_auto_flow": null,
            "grid_auto_rows": null,
            "grid_column": null,
            "grid_gap": null,
            "grid_row": null,
            "grid_template_areas": null,
            "grid_template_columns": null,
            "grid_template_rows": null,
            "height": null,
            "justify_content": null,
            "justify_items": null,
            "left": null,
            "margin": null,
            "max_height": null,
            "max_width": null,
            "min_height": null,
            "min_width": null,
            "object_fit": null,
            "object_position": null,
            "order": null,
            "overflow": null,
            "overflow_x": null,
            "overflow_y": null,
            "padding": null,
            "right": null,
            "top": null,
            "visibility": null,
            "width": null
          }
        },
        "2104f3aaba3f41dc944628f1f88d967a": {
          "model_module": "@jupyter-widgets/base",
          "model_name": "LayoutModel",
          "model_module_version": "1.2.0",
          "state": {
            "_model_module": "@jupyter-widgets/base",
            "_model_module_version": "1.2.0",
            "_model_name": "LayoutModel",
            "_view_count": null,
            "_view_module": "@jupyter-widgets/base",
            "_view_module_version": "1.2.0",
            "_view_name": "LayoutView",
            "align_content": null,
            "align_items": null,
            "align_self": null,
            "border": null,
            "bottom": null,
            "display": null,
            "flex": null,
            "flex_flow": null,
            "grid_area": null,
            "grid_auto_columns": null,
            "grid_auto_flow": null,
            "grid_auto_rows": null,
            "grid_column": null,
            "grid_gap": null,
            "grid_row": null,
            "grid_template_areas": null,
            "grid_template_columns": null,
            "grid_template_rows": null,
            "height": null,
            "justify_content": null,
            "justify_items": null,
            "left": null,
            "margin": null,
            "max_height": null,
            "max_width": null,
            "min_height": null,
            "min_width": null,
            "object_fit": null,
            "object_position": null,
            "order": null,
            "overflow": null,
            "overflow_x": null,
            "overflow_y": null,
            "padding": null,
            "right": null,
            "top": null,
            "visibility": null,
            "width": null
          }
        },
        "302b417d15e44b4ab866f768075f3462": {
          "model_module": "@jupyter-widgets/controls",
          "model_name": "DescriptionStyleModel",
          "model_module_version": "1.5.0",
          "state": {
            "_model_module": "@jupyter-widgets/controls",
            "_model_module_version": "1.5.0",
            "_model_name": "DescriptionStyleModel",
            "_view_count": null,
            "_view_module": "@jupyter-widgets/base",
            "_view_module_version": "1.2.0",
            "_view_name": "StyleView",
            "description_width": ""
          }
        },
        "bf1711c76c7a444392a4a50e8df467ed": {
          "model_module": "@jupyter-widgets/base",
          "model_name": "LayoutModel",
          "model_module_version": "1.2.0",
          "state": {
            "_model_module": "@jupyter-widgets/base",
            "_model_module_version": "1.2.0",
            "_model_name": "LayoutModel",
            "_view_count": null,
            "_view_module": "@jupyter-widgets/base",
            "_view_module_version": "1.2.0",
            "_view_name": "LayoutView",
            "align_content": null,
            "align_items": null,
            "align_self": null,
            "border": null,
            "bottom": null,
            "display": null,
            "flex": null,
            "flex_flow": null,
            "grid_area": null,
            "grid_auto_columns": null,
            "grid_auto_flow": null,
            "grid_auto_rows": null,
            "grid_column": null,
            "grid_gap": null,
            "grid_row": null,
            "grid_template_areas": null,
            "grid_template_columns": null,
            "grid_template_rows": null,
            "height": null,
            "justify_content": null,
            "justify_items": null,
            "left": null,
            "margin": null,
            "max_height": null,
            "max_width": null,
            "min_height": null,
            "min_width": null,
            "object_fit": null,
            "object_position": null,
            "order": null,
            "overflow": null,
            "overflow_x": null,
            "overflow_y": null,
            "padding": null,
            "right": null,
            "top": null,
            "visibility": null,
            "width": null
          }
        },
        "71e0b25a431a4da4af22544b9cbc24e4": {
          "model_module": "@jupyter-widgets/controls",
          "model_name": "ProgressStyleModel",
          "model_module_version": "1.5.0",
          "state": {
            "_model_module": "@jupyter-widgets/controls",
            "_model_module_version": "1.5.0",
            "_model_name": "ProgressStyleModel",
            "_view_count": null,
            "_view_module": "@jupyter-widgets/base",
            "_view_module_version": "1.2.0",
            "_view_name": "StyleView",
            "bar_color": null,
            "description_width": ""
          }
        },
        "bc4b1fdc816442d78f264465fb181ef2": {
          "model_module": "@jupyter-widgets/controls",
          "model_name": "VBoxModel",
          "model_module_version": "1.5.0",
          "state": {
            "_dom_classes": [],
            "_model_module": "@jupyter-widgets/controls",
            "_model_module_version": "1.5.0",
            "_model_name": "VBoxModel",
            "_view_count": null,
            "_view_module": "@jupyter-widgets/controls",
            "_view_module_version": "1.5.0",
            "_view_name": "VBoxView",
            "box_style": "",
            "children": [
              "IPY_MODEL_e98dc783f86b405db8c0db7f66bd74ae",
              "IPY_MODEL_3b54cb9e7ce8496e89370e0d4207928f"
            ],
            "layout": "IPY_MODEL_35b9087f5c2b41d383b3a4c10b306ae3"
          }
        },
        "e98dc783f86b405db8c0db7f66bd74ae": {
          "model_module": "@jupyter-widgets/controls",
          "model_name": "LabelModel",
          "model_module_version": "1.5.0",
          "state": {
            "_dom_classes": [],
            "_model_module": "@jupyter-widgets/controls",
            "_model_module_version": "1.5.0",
            "_model_name": "LabelModel",
            "_view_count": null,
            "_view_module": "@jupyter-widgets/controls",
            "_view_module_version": "1.5.0",
            "_view_name": "LabelView",
            "description": "",
            "description_tooltip": null,
            "layout": "IPY_MODEL_1cb9b51c41064bf1a488c61c147a13e9",
            "placeholder": "​",
            "style": "IPY_MODEL_58137065180345dd96a71c252b72e0a1",
            "value": "0.011 MB of 0.011 MB uploaded\r"
          }
        },
        "3b54cb9e7ce8496e89370e0d4207928f": {
          "model_module": "@jupyter-widgets/controls",
          "model_name": "FloatProgressModel",
          "model_module_version": "1.5.0",
          "state": {
            "_dom_classes": [],
            "_model_module": "@jupyter-widgets/controls",
            "_model_module_version": "1.5.0",
            "_model_name": "FloatProgressModel",
            "_view_count": null,
            "_view_module": "@jupyter-widgets/controls",
            "_view_module_version": "1.5.0",
            "_view_name": "ProgressView",
            "bar_style": "",
            "description": "",
            "description_tooltip": null,
            "layout": "IPY_MODEL_655abd1bb9f644fa994f5b94659de252",
            "max": 1,
            "min": 0,
            "orientation": "horizontal",
            "style": "IPY_MODEL_e1757a42da2f48d4b1baedfda3456870",
            "value": 1
          }
        },
        "35b9087f5c2b41d383b3a4c10b306ae3": {
          "model_module": "@jupyter-widgets/base",
          "model_name": "LayoutModel",
          "model_module_version": "1.2.0",
          "state": {
            "_model_module": "@jupyter-widgets/base",
            "_model_module_version": "1.2.0",
            "_model_name": "LayoutModel",
            "_view_count": null,
            "_view_module": "@jupyter-widgets/base",
            "_view_module_version": "1.2.0",
            "_view_name": "LayoutView",
            "align_content": null,
            "align_items": null,
            "align_self": null,
            "border": null,
            "bottom": null,
            "display": null,
            "flex": null,
            "flex_flow": null,
            "grid_area": null,
            "grid_auto_columns": null,
            "grid_auto_flow": null,
            "grid_auto_rows": null,
            "grid_column": null,
            "grid_gap": null,
            "grid_row": null,
            "grid_template_areas": null,
            "grid_template_columns": null,
            "grid_template_rows": null,
            "height": null,
            "justify_content": null,
            "justify_items": null,
            "left": null,
            "margin": null,
            "max_height": null,
            "max_width": null,
            "min_height": null,
            "min_width": null,
            "object_fit": null,
            "object_position": null,
            "order": null,
            "overflow": null,
            "overflow_x": null,
            "overflow_y": null,
            "padding": null,
            "right": null,
            "top": null,
            "visibility": null,
            "width": null
          }
        },
        "1cb9b51c41064bf1a488c61c147a13e9": {
          "model_module": "@jupyter-widgets/base",
          "model_name": "LayoutModel",
          "model_module_version": "1.2.0",
          "state": {
            "_model_module": "@jupyter-widgets/base",
            "_model_module_version": "1.2.0",
            "_model_name": "LayoutModel",
            "_view_count": null,
            "_view_module": "@jupyter-widgets/base",
            "_view_module_version": "1.2.0",
            "_view_name": "LayoutView",
            "align_content": null,
            "align_items": null,
            "align_self": null,
            "border": null,
            "bottom": null,
            "display": null,
            "flex": null,
            "flex_flow": null,
            "grid_area": null,
            "grid_auto_columns": null,
            "grid_auto_flow": null,
            "grid_auto_rows": null,
            "grid_column": null,
            "grid_gap": null,
            "grid_row": null,
            "grid_template_areas": null,
            "grid_template_columns": null,
            "grid_template_rows": null,
            "height": null,
            "justify_content": null,
            "justify_items": null,
            "left": null,
            "margin": null,
            "max_height": null,
            "max_width": null,
            "min_height": null,
            "min_width": null,
            "object_fit": null,
            "object_position": null,
            "order": null,
            "overflow": null,
            "overflow_x": null,
            "overflow_y": null,
            "padding": null,
            "right": null,
            "top": null,
            "visibility": null,
            "width": null
          }
        },
        "58137065180345dd96a71c252b72e0a1": {
          "model_module": "@jupyter-widgets/controls",
          "model_name": "DescriptionStyleModel",
          "model_module_version": "1.5.0",
          "state": {
            "_model_module": "@jupyter-widgets/controls",
            "_model_module_version": "1.5.0",
            "_model_name": "DescriptionStyleModel",
            "_view_count": null,
            "_view_module": "@jupyter-widgets/base",
            "_view_module_version": "1.2.0",
            "_view_name": "StyleView",
            "description_width": ""
          }
        },
        "655abd1bb9f644fa994f5b94659de252": {
          "model_module": "@jupyter-widgets/base",
          "model_name": "LayoutModel",
          "model_module_version": "1.2.0",
          "state": {
            "_model_module": "@jupyter-widgets/base",
            "_model_module_version": "1.2.0",
            "_model_name": "LayoutModel",
            "_view_count": null,
            "_view_module": "@jupyter-widgets/base",
            "_view_module_version": "1.2.0",
            "_view_name": "LayoutView",
            "align_content": null,
            "align_items": null,
            "align_self": null,
            "border": null,
            "bottom": null,
            "display": null,
            "flex": null,
            "flex_flow": null,
            "grid_area": null,
            "grid_auto_columns": null,
            "grid_auto_flow": null,
            "grid_auto_rows": null,
            "grid_column": null,
            "grid_gap": null,
            "grid_row": null,
            "grid_template_areas": null,
            "grid_template_columns": null,
            "grid_template_rows": null,
            "height": null,
            "justify_content": null,
            "justify_items": null,
            "left": null,
            "margin": null,
            "max_height": null,
            "max_width": null,
            "min_height": null,
            "min_width": null,
            "object_fit": null,
            "object_position": null,
            "order": null,
            "overflow": null,
            "overflow_x": null,
            "overflow_y": null,
            "padding": null,
            "right": null,
            "top": null,
            "visibility": null,
            "width": null
          }
        },
        "e1757a42da2f48d4b1baedfda3456870": {
          "model_module": "@jupyter-widgets/controls",
          "model_name": "ProgressStyleModel",
          "model_module_version": "1.5.0",
          "state": {
            "_model_module": "@jupyter-widgets/controls",
            "_model_module_version": "1.5.0",
            "_model_name": "ProgressStyleModel",
            "_view_count": null,
            "_view_module": "@jupyter-widgets/base",
            "_view_module_version": "1.2.0",
            "_view_name": "StyleView",
            "bar_color": null,
            "description_width": ""
          }
        },
        "eefff1ba6ff94631807fadfbc931f115": {
          "model_module": "@jupyter-widgets/controls",
          "model_name": "VBoxModel",
          "model_module_version": "1.5.0",
          "state": {
            "_dom_classes": [],
            "_model_module": "@jupyter-widgets/controls",
            "_model_module_version": "1.5.0",
            "_model_name": "VBoxModel",
            "_view_count": null,
            "_view_module": "@jupyter-widgets/controls",
            "_view_module_version": "1.5.0",
            "_view_name": "VBoxView",
            "box_style": "",
            "children": [
              "IPY_MODEL_b488aa9bfa964dffa7ce30a5a74b1b18",
              "IPY_MODEL_a8143d0ed8434b70a14e77782f5303d8"
            ],
            "layout": "IPY_MODEL_1ad9c5256bd847d7b76decfbd48f8159"
          }
        },
        "b488aa9bfa964dffa7ce30a5a74b1b18": {
          "model_module": "@jupyter-widgets/controls",
          "model_name": "LabelModel",
          "model_module_version": "1.5.0",
          "state": {
            "_dom_classes": [],
            "_model_module": "@jupyter-widgets/controls",
            "_model_module_version": "1.5.0",
            "_model_name": "LabelModel",
            "_view_count": null,
            "_view_module": "@jupyter-widgets/controls",
            "_view_module_version": "1.5.0",
            "_view_name": "LabelView",
            "description": "",
            "description_tooltip": null,
            "layout": "IPY_MODEL_bd74fcfe2a0e4473af82b59fbbdb6c01",
            "placeholder": "​",
            "style": "IPY_MODEL_5d126b8cd52a484bb5fd5de6d1db2344",
            "value": "0.013 MB of 0.013 MB uploaded\r"
          }
        },
        "a8143d0ed8434b70a14e77782f5303d8": {
          "model_module": "@jupyter-widgets/controls",
          "model_name": "FloatProgressModel",
          "model_module_version": "1.5.0",
          "state": {
            "_dom_classes": [],
            "_model_module": "@jupyter-widgets/controls",
            "_model_module_version": "1.5.0",
            "_model_name": "FloatProgressModel",
            "_view_count": null,
            "_view_module": "@jupyter-widgets/controls",
            "_view_module_version": "1.5.0",
            "_view_name": "ProgressView",
            "bar_style": "",
            "description": "",
            "description_tooltip": null,
            "layout": "IPY_MODEL_98956cd2cb7344d59dbfe344c02abbfa",
            "max": 1,
            "min": 0,
            "orientation": "horizontal",
            "style": "IPY_MODEL_19591fb7b021478287f8e69140d1dab4",
            "value": 1
          }
        },
        "1ad9c5256bd847d7b76decfbd48f8159": {
          "model_module": "@jupyter-widgets/base",
          "model_name": "LayoutModel",
          "model_module_version": "1.2.0",
          "state": {
            "_model_module": "@jupyter-widgets/base",
            "_model_module_version": "1.2.0",
            "_model_name": "LayoutModel",
            "_view_count": null,
            "_view_module": "@jupyter-widgets/base",
            "_view_module_version": "1.2.0",
            "_view_name": "LayoutView",
            "align_content": null,
            "align_items": null,
            "align_self": null,
            "border": null,
            "bottom": null,
            "display": null,
            "flex": null,
            "flex_flow": null,
            "grid_area": null,
            "grid_auto_columns": null,
            "grid_auto_flow": null,
            "grid_auto_rows": null,
            "grid_column": null,
            "grid_gap": null,
            "grid_row": null,
            "grid_template_areas": null,
            "grid_template_columns": null,
            "grid_template_rows": null,
            "height": null,
            "justify_content": null,
            "justify_items": null,
            "left": null,
            "margin": null,
            "max_height": null,
            "max_width": null,
            "min_height": null,
            "min_width": null,
            "object_fit": null,
            "object_position": null,
            "order": null,
            "overflow": null,
            "overflow_x": null,
            "overflow_y": null,
            "padding": null,
            "right": null,
            "top": null,
            "visibility": null,
            "width": null
          }
        },
        "bd74fcfe2a0e4473af82b59fbbdb6c01": {
          "model_module": "@jupyter-widgets/base",
          "model_name": "LayoutModel",
          "model_module_version": "1.2.0",
          "state": {
            "_model_module": "@jupyter-widgets/base",
            "_model_module_version": "1.2.0",
            "_model_name": "LayoutModel",
            "_view_count": null,
            "_view_module": "@jupyter-widgets/base",
            "_view_module_version": "1.2.0",
            "_view_name": "LayoutView",
            "align_content": null,
            "align_items": null,
            "align_self": null,
            "border": null,
            "bottom": null,
            "display": null,
            "flex": null,
            "flex_flow": null,
            "grid_area": null,
            "grid_auto_columns": null,
            "grid_auto_flow": null,
            "grid_auto_rows": null,
            "grid_column": null,
            "grid_gap": null,
            "grid_row": null,
            "grid_template_areas": null,
            "grid_template_columns": null,
            "grid_template_rows": null,
            "height": null,
            "justify_content": null,
            "justify_items": null,
            "left": null,
            "margin": null,
            "max_height": null,
            "max_width": null,
            "min_height": null,
            "min_width": null,
            "object_fit": null,
            "object_position": null,
            "order": null,
            "overflow": null,
            "overflow_x": null,
            "overflow_y": null,
            "padding": null,
            "right": null,
            "top": null,
            "visibility": null,
            "width": null
          }
        },
        "5d126b8cd52a484bb5fd5de6d1db2344": {
          "model_module": "@jupyter-widgets/controls",
          "model_name": "DescriptionStyleModel",
          "model_module_version": "1.5.0",
          "state": {
            "_model_module": "@jupyter-widgets/controls",
            "_model_module_version": "1.5.0",
            "_model_name": "DescriptionStyleModel",
            "_view_count": null,
            "_view_module": "@jupyter-widgets/base",
            "_view_module_version": "1.2.0",
            "_view_name": "StyleView",
            "description_width": ""
          }
        },
        "98956cd2cb7344d59dbfe344c02abbfa": {
          "model_module": "@jupyter-widgets/base",
          "model_name": "LayoutModel",
          "model_module_version": "1.2.0",
          "state": {
            "_model_module": "@jupyter-widgets/base",
            "_model_module_version": "1.2.0",
            "_model_name": "LayoutModel",
            "_view_count": null,
            "_view_module": "@jupyter-widgets/base",
            "_view_module_version": "1.2.0",
            "_view_name": "LayoutView",
            "align_content": null,
            "align_items": null,
            "align_self": null,
            "border": null,
            "bottom": null,
            "display": null,
            "flex": null,
            "flex_flow": null,
            "grid_area": null,
            "grid_auto_columns": null,
            "grid_auto_flow": null,
            "grid_auto_rows": null,
            "grid_column": null,
            "grid_gap": null,
            "grid_row": null,
            "grid_template_areas": null,
            "grid_template_columns": null,
            "grid_template_rows": null,
            "height": null,
            "justify_content": null,
            "justify_items": null,
            "left": null,
            "margin": null,
            "max_height": null,
            "max_width": null,
            "min_height": null,
            "min_width": null,
            "object_fit": null,
            "object_position": null,
            "order": null,
            "overflow": null,
            "overflow_x": null,
            "overflow_y": null,
            "padding": null,
            "right": null,
            "top": null,
            "visibility": null,
            "width": null
          }
        },
        "19591fb7b021478287f8e69140d1dab4": {
          "model_module": "@jupyter-widgets/controls",
          "model_name": "ProgressStyleModel",
          "model_module_version": "1.5.0",
          "state": {
            "_model_module": "@jupyter-widgets/controls",
            "_model_module_version": "1.5.0",
            "_model_name": "ProgressStyleModel",
            "_view_count": null,
            "_view_module": "@jupyter-widgets/base",
            "_view_module_version": "1.2.0",
            "_view_name": "StyleView",
            "bar_color": null,
            "description_width": ""
          }
        },
        "27f3fa9028d9473bbb1c7f55914f9fb9": {
          "model_module": "@jupyter-widgets/controls",
          "model_name": "VBoxModel",
          "model_module_version": "1.5.0",
          "state": {
            "_dom_classes": [],
            "_model_module": "@jupyter-widgets/controls",
            "_model_module_version": "1.5.0",
            "_model_name": "VBoxModel",
            "_view_count": null,
            "_view_module": "@jupyter-widgets/controls",
            "_view_module_version": "1.5.0",
            "_view_name": "VBoxView",
            "box_style": "",
            "children": [
              "IPY_MODEL_d5799a4ec4fd4ff9ba59a3df93658632",
              "IPY_MODEL_c9a29b8b7b6944e8990f768bf20e76da"
            ],
            "layout": "IPY_MODEL_618f35dc88fe4992af2e4bfa09f29021"
          }
        },
        "d5799a4ec4fd4ff9ba59a3df93658632": {
          "model_module": "@jupyter-widgets/controls",
          "model_name": "LabelModel",
          "model_module_version": "1.5.0",
          "state": {
            "_dom_classes": [],
            "_model_module": "@jupyter-widgets/controls",
            "_model_module_version": "1.5.0",
            "_model_name": "LabelModel",
            "_view_count": null,
            "_view_module": "@jupyter-widgets/controls",
            "_view_module_version": "1.5.0",
            "_view_name": "LabelView",
            "description": "",
            "description_tooltip": null,
            "layout": "IPY_MODEL_023eeccb8058403dbb120a7c6f712595",
            "placeholder": "​",
            "style": "IPY_MODEL_fdbb71b5a7df40e2b6f93d493cd64a62",
            "value": "0.011 MB of 0.011 MB uploaded\r"
          }
        },
        "c9a29b8b7b6944e8990f768bf20e76da": {
          "model_module": "@jupyter-widgets/controls",
          "model_name": "FloatProgressModel",
          "model_module_version": "1.5.0",
          "state": {
            "_dom_classes": [],
            "_model_module": "@jupyter-widgets/controls",
            "_model_module_version": "1.5.0",
            "_model_name": "FloatProgressModel",
            "_view_count": null,
            "_view_module": "@jupyter-widgets/controls",
            "_view_module_version": "1.5.0",
            "_view_name": "ProgressView",
            "bar_style": "",
            "description": "",
            "description_tooltip": null,
            "layout": "IPY_MODEL_82d5deac351c4deaa365e83474510269",
            "max": 1,
            "min": 0,
            "orientation": "horizontal",
            "style": "IPY_MODEL_6f2e044cdd544a05aa8168555fb51d27",
            "value": 1
          }
        },
        "618f35dc88fe4992af2e4bfa09f29021": {
          "model_module": "@jupyter-widgets/base",
          "model_name": "LayoutModel",
          "model_module_version": "1.2.0",
          "state": {
            "_model_module": "@jupyter-widgets/base",
            "_model_module_version": "1.2.0",
            "_model_name": "LayoutModel",
            "_view_count": null,
            "_view_module": "@jupyter-widgets/base",
            "_view_module_version": "1.2.0",
            "_view_name": "LayoutView",
            "align_content": null,
            "align_items": null,
            "align_self": null,
            "border": null,
            "bottom": null,
            "display": null,
            "flex": null,
            "flex_flow": null,
            "grid_area": null,
            "grid_auto_columns": null,
            "grid_auto_flow": null,
            "grid_auto_rows": null,
            "grid_column": null,
            "grid_gap": null,
            "grid_row": null,
            "grid_template_areas": null,
            "grid_template_columns": null,
            "grid_template_rows": null,
            "height": null,
            "justify_content": null,
            "justify_items": null,
            "left": null,
            "margin": null,
            "max_height": null,
            "max_width": null,
            "min_height": null,
            "min_width": null,
            "object_fit": null,
            "object_position": null,
            "order": null,
            "overflow": null,
            "overflow_x": null,
            "overflow_y": null,
            "padding": null,
            "right": null,
            "top": null,
            "visibility": null,
            "width": null
          }
        },
        "023eeccb8058403dbb120a7c6f712595": {
          "model_module": "@jupyter-widgets/base",
          "model_name": "LayoutModel",
          "model_module_version": "1.2.0",
          "state": {
            "_model_module": "@jupyter-widgets/base",
            "_model_module_version": "1.2.0",
            "_model_name": "LayoutModel",
            "_view_count": null,
            "_view_module": "@jupyter-widgets/base",
            "_view_module_version": "1.2.0",
            "_view_name": "LayoutView",
            "align_content": null,
            "align_items": null,
            "align_self": null,
            "border": null,
            "bottom": null,
            "display": null,
            "flex": null,
            "flex_flow": null,
            "grid_area": null,
            "grid_auto_columns": null,
            "grid_auto_flow": null,
            "grid_auto_rows": null,
            "grid_column": null,
            "grid_gap": null,
            "grid_row": null,
            "grid_template_areas": null,
            "grid_template_columns": null,
            "grid_template_rows": null,
            "height": null,
            "justify_content": null,
            "justify_items": null,
            "left": null,
            "margin": null,
            "max_height": null,
            "max_width": null,
            "min_height": null,
            "min_width": null,
            "object_fit": null,
            "object_position": null,
            "order": null,
            "overflow": null,
            "overflow_x": null,
            "overflow_y": null,
            "padding": null,
            "right": null,
            "top": null,
            "visibility": null,
            "width": null
          }
        },
        "fdbb71b5a7df40e2b6f93d493cd64a62": {
          "model_module": "@jupyter-widgets/controls",
          "model_name": "DescriptionStyleModel",
          "model_module_version": "1.5.0",
          "state": {
            "_model_module": "@jupyter-widgets/controls",
            "_model_module_version": "1.5.0",
            "_model_name": "DescriptionStyleModel",
            "_view_count": null,
            "_view_module": "@jupyter-widgets/base",
            "_view_module_version": "1.2.0",
            "_view_name": "StyleView",
            "description_width": ""
          }
        },
        "82d5deac351c4deaa365e83474510269": {
          "model_module": "@jupyter-widgets/base",
          "model_name": "LayoutModel",
          "model_module_version": "1.2.0",
          "state": {
            "_model_module": "@jupyter-widgets/base",
            "_model_module_version": "1.2.0",
            "_model_name": "LayoutModel",
            "_view_count": null,
            "_view_module": "@jupyter-widgets/base",
            "_view_module_version": "1.2.0",
            "_view_name": "LayoutView",
            "align_content": null,
            "align_items": null,
            "align_self": null,
            "border": null,
            "bottom": null,
            "display": null,
            "flex": null,
            "flex_flow": null,
            "grid_area": null,
            "grid_auto_columns": null,
            "grid_auto_flow": null,
            "grid_auto_rows": null,
            "grid_column": null,
            "grid_gap": null,
            "grid_row": null,
            "grid_template_areas": null,
            "grid_template_columns": null,
            "grid_template_rows": null,
            "height": null,
            "justify_content": null,
            "justify_items": null,
            "left": null,
            "margin": null,
            "max_height": null,
            "max_width": null,
            "min_height": null,
            "min_width": null,
            "object_fit": null,
            "object_position": null,
            "order": null,
            "overflow": null,
            "overflow_x": null,
            "overflow_y": null,
            "padding": null,
            "right": null,
            "top": null,
            "visibility": null,
            "width": null
          }
        },
        "6f2e044cdd544a05aa8168555fb51d27": {
          "model_module": "@jupyter-widgets/controls",
          "model_name": "ProgressStyleModel",
          "model_module_version": "1.5.0",
          "state": {
            "_model_module": "@jupyter-widgets/controls",
            "_model_module_version": "1.5.0",
            "_model_name": "ProgressStyleModel",
            "_view_count": null,
            "_view_module": "@jupyter-widgets/base",
            "_view_module_version": "1.2.0",
            "_view_name": "StyleView",
            "bar_color": null,
            "description_width": ""
          }
        },
        "ffda53987a234ecd94cbc449d1c618cc": {
          "model_module": "@jupyter-widgets/controls",
          "model_name": "VBoxModel",
          "model_module_version": "1.5.0",
          "state": {
            "_dom_classes": [],
            "_model_module": "@jupyter-widgets/controls",
            "_model_module_version": "1.5.0",
            "_model_name": "VBoxModel",
            "_view_count": null,
            "_view_module": "@jupyter-widgets/controls",
            "_view_module_version": "1.5.0",
            "_view_name": "VBoxView",
            "box_style": "",
            "children": [
              "IPY_MODEL_832d734a0eab4673ae17fd43234e168c",
              "IPY_MODEL_59957020a79f44e1a6a6aa85ac319026"
            ],
            "layout": "IPY_MODEL_3714dcb6eb26469a999397fbfc579868"
          }
        },
        "832d734a0eab4673ae17fd43234e168c": {
          "model_module": "@jupyter-widgets/controls",
          "model_name": "LabelModel",
          "model_module_version": "1.5.0",
          "state": {
            "_dom_classes": [],
            "_model_module": "@jupyter-widgets/controls",
            "_model_module_version": "1.5.0",
            "_model_name": "LabelModel",
            "_view_count": null,
            "_view_module": "@jupyter-widgets/controls",
            "_view_module_version": "1.5.0",
            "_view_name": "LabelView",
            "description": "",
            "description_tooltip": null,
            "layout": "IPY_MODEL_f97ca57d5a6147849e2b249a7400bb25",
            "placeholder": "​",
            "style": "IPY_MODEL_b9873f82a3eb44f490e22c9124a6fc73",
            "value": "0.011 MB of 0.011 MB uploaded\r"
          }
        },
        "59957020a79f44e1a6a6aa85ac319026": {
          "model_module": "@jupyter-widgets/controls",
          "model_name": "FloatProgressModel",
          "model_module_version": "1.5.0",
          "state": {
            "_dom_classes": [],
            "_model_module": "@jupyter-widgets/controls",
            "_model_module_version": "1.5.0",
            "_model_name": "FloatProgressModel",
            "_view_count": null,
            "_view_module": "@jupyter-widgets/controls",
            "_view_module_version": "1.5.0",
            "_view_name": "ProgressView",
            "bar_style": "",
            "description": "",
            "description_tooltip": null,
            "layout": "IPY_MODEL_9da6d714a87e4fcdbb625196df02d24e",
            "max": 1,
            "min": 0,
            "orientation": "horizontal",
            "style": "IPY_MODEL_635b9106bb2d4b62b6b20645cef38f00",
            "value": 1
          }
        },
        "3714dcb6eb26469a999397fbfc579868": {
          "model_module": "@jupyter-widgets/base",
          "model_name": "LayoutModel",
          "model_module_version": "1.2.0",
          "state": {
            "_model_module": "@jupyter-widgets/base",
            "_model_module_version": "1.2.0",
            "_model_name": "LayoutModel",
            "_view_count": null,
            "_view_module": "@jupyter-widgets/base",
            "_view_module_version": "1.2.0",
            "_view_name": "LayoutView",
            "align_content": null,
            "align_items": null,
            "align_self": null,
            "border": null,
            "bottom": null,
            "display": null,
            "flex": null,
            "flex_flow": null,
            "grid_area": null,
            "grid_auto_columns": null,
            "grid_auto_flow": null,
            "grid_auto_rows": null,
            "grid_column": null,
            "grid_gap": null,
            "grid_row": null,
            "grid_template_areas": null,
            "grid_template_columns": null,
            "grid_template_rows": null,
            "height": null,
            "justify_content": null,
            "justify_items": null,
            "left": null,
            "margin": null,
            "max_height": null,
            "max_width": null,
            "min_height": null,
            "min_width": null,
            "object_fit": null,
            "object_position": null,
            "order": null,
            "overflow": null,
            "overflow_x": null,
            "overflow_y": null,
            "padding": null,
            "right": null,
            "top": null,
            "visibility": null,
            "width": null
          }
        },
        "f97ca57d5a6147849e2b249a7400bb25": {
          "model_module": "@jupyter-widgets/base",
          "model_name": "LayoutModel",
          "model_module_version": "1.2.0",
          "state": {
            "_model_module": "@jupyter-widgets/base",
            "_model_module_version": "1.2.0",
            "_model_name": "LayoutModel",
            "_view_count": null,
            "_view_module": "@jupyter-widgets/base",
            "_view_module_version": "1.2.0",
            "_view_name": "LayoutView",
            "align_content": null,
            "align_items": null,
            "align_self": null,
            "border": null,
            "bottom": null,
            "display": null,
            "flex": null,
            "flex_flow": null,
            "grid_area": null,
            "grid_auto_columns": null,
            "grid_auto_flow": null,
            "grid_auto_rows": null,
            "grid_column": null,
            "grid_gap": null,
            "grid_row": null,
            "grid_template_areas": null,
            "grid_template_columns": null,
            "grid_template_rows": null,
            "height": null,
            "justify_content": null,
            "justify_items": null,
            "left": null,
            "margin": null,
            "max_height": null,
            "max_width": null,
            "min_height": null,
            "min_width": null,
            "object_fit": null,
            "object_position": null,
            "order": null,
            "overflow": null,
            "overflow_x": null,
            "overflow_y": null,
            "padding": null,
            "right": null,
            "top": null,
            "visibility": null,
            "width": null
          }
        },
        "b9873f82a3eb44f490e22c9124a6fc73": {
          "model_module": "@jupyter-widgets/controls",
          "model_name": "DescriptionStyleModel",
          "model_module_version": "1.5.0",
          "state": {
            "_model_module": "@jupyter-widgets/controls",
            "_model_module_version": "1.5.0",
            "_model_name": "DescriptionStyleModel",
            "_view_count": null,
            "_view_module": "@jupyter-widgets/base",
            "_view_module_version": "1.2.0",
            "_view_name": "StyleView",
            "description_width": ""
          }
        },
        "9da6d714a87e4fcdbb625196df02d24e": {
          "model_module": "@jupyter-widgets/base",
          "model_name": "LayoutModel",
          "model_module_version": "1.2.0",
          "state": {
            "_model_module": "@jupyter-widgets/base",
            "_model_module_version": "1.2.0",
            "_model_name": "LayoutModel",
            "_view_count": null,
            "_view_module": "@jupyter-widgets/base",
            "_view_module_version": "1.2.0",
            "_view_name": "LayoutView",
            "align_content": null,
            "align_items": null,
            "align_self": null,
            "border": null,
            "bottom": null,
            "display": null,
            "flex": null,
            "flex_flow": null,
            "grid_area": null,
            "grid_auto_columns": null,
            "grid_auto_flow": null,
            "grid_auto_rows": null,
            "grid_column": null,
            "grid_gap": null,
            "grid_row": null,
            "grid_template_areas": null,
            "grid_template_columns": null,
            "grid_template_rows": null,
            "height": null,
            "justify_content": null,
            "justify_items": null,
            "left": null,
            "margin": null,
            "max_height": null,
            "max_width": null,
            "min_height": null,
            "min_width": null,
            "object_fit": null,
            "object_position": null,
            "order": null,
            "overflow": null,
            "overflow_x": null,
            "overflow_y": null,
            "padding": null,
            "right": null,
            "top": null,
            "visibility": null,
            "width": null
          }
        },
        "635b9106bb2d4b62b6b20645cef38f00": {
          "model_module": "@jupyter-widgets/controls",
          "model_name": "ProgressStyleModel",
          "model_module_version": "1.5.0",
          "state": {
            "_model_module": "@jupyter-widgets/controls",
            "_model_module_version": "1.5.0",
            "_model_name": "ProgressStyleModel",
            "_view_count": null,
            "_view_module": "@jupyter-widgets/base",
            "_view_module_version": "1.2.0",
            "_view_name": "StyleView",
            "bar_color": null,
            "description_width": ""
          }
        },
        "dc1654ba6515442b9746d744f3893fa7": {
          "model_module": "@jupyter-widgets/controls",
          "model_name": "VBoxModel",
          "model_module_version": "1.5.0",
          "state": {
            "_dom_classes": [],
            "_model_module": "@jupyter-widgets/controls",
            "_model_module_version": "1.5.0",
            "_model_name": "VBoxModel",
            "_view_count": null,
            "_view_module": "@jupyter-widgets/controls",
            "_view_module_version": "1.5.0",
            "_view_name": "VBoxView",
            "box_style": "",
            "children": [
              "IPY_MODEL_e12e19db893c43c4870c77b8df13595d",
              "IPY_MODEL_a27b4e26e83048c6b6641b3cfe55fd12"
            ],
            "layout": "IPY_MODEL_0013513b572b41ccb4db9c83481bf96b"
          }
        },
        "e12e19db893c43c4870c77b8df13595d": {
          "model_module": "@jupyter-widgets/controls",
          "model_name": "LabelModel",
          "model_module_version": "1.5.0",
          "state": {
            "_dom_classes": [],
            "_model_module": "@jupyter-widgets/controls",
            "_model_module_version": "1.5.0",
            "_model_name": "LabelModel",
            "_view_count": null,
            "_view_module": "@jupyter-widgets/controls",
            "_view_module_version": "1.5.0",
            "_view_name": "LabelView",
            "description": "",
            "description_tooltip": null,
            "layout": "IPY_MODEL_359d3854014f4a4fbe2e92081304e560",
            "placeholder": "​",
            "style": "IPY_MODEL_d01bbc3175c74f9ea6afa30935ac2bd6",
            "value": "0.013 MB of 0.013 MB uploaded\r"
          }
        },
        "a27b4e26e83048c6b6641b3cfe55fd12": {
          "model_module": "@jupyter-widgets/controls",
          "model_name": "FloatProgressModel",
          "model_module_version": "1.5.0",
          "state": {
            "_dom_classes": [],
            "_model_module": "@jupyter-widgets/controls",
            "_model_module_version": "1.5.0",
            "_model_name": "FloatProgressModel",
            "_view_count": null,
            "_view_module": "@jupyter-widgets/controls",
            "_view_module_version": "1.5.0",
            "_view_name": "ProgressView",
            "bar_style": "",
            "description": "",
            "description_tooltip": null,
            "layout": "IPY_MODEL_68ad381f13804035b06a597690990bca",
            "max": 1,
            "min": 0,
            "orientation": "horizontal",
            "style": "IPY_MODEL_dd0b5ae9eaf74370a35989cb655b9af7",
            "value": 1
          }
        },
        "0013513b572b41ccb4db9c83481bf96b": {
          "model_module": "@jupyter-widgets/base",
          "model_name": "LayoutModel",
          "model_module_version": "1.2.0",
          "state": {
            "_model_module": "@jupyter-widgets/base",
            "_model_module_version": "1.2.0",
            "_model_name": "LayoutModel",
            "_view_count": null,
            "_view_module": "@jupyter-widgets/base",
            "_view_module_version": "1.2.0",
            "_view_name": "LayoutView",
            "align_content": null,
            "align_items": null,
            "align_self": null,
            "border": null,
            "bottom": null,
            "display": null,
            "flex": null,
            "flex_flow": null,
            "grid_area": null,
            "grid_auto_columns": null,
            "grid_auto_flow": null,
            "grid_auto_rows": null,
            "grid_column": null,
            "grid_gap": null,
            "grid_row": null,
            "grid_template_areas": null,
            "grid_template_columns": null,
            "grid_template_rows": null,
            "height": null,
            "justify_content": null,
            "justify_items": null,
            "left": null,
            "margin": null,
            "max_height": null,
            "max_width": null,
            "min_height": null,
            "min_width": null,
            "object_fit": null,
            "object_position": null,
            "order": null,
            "overflow": null,
            "overflow_x": null,
            "overflow_y": null,
            "padding": null,
            "right": null,
            "top": null,
            "visibility": null,
            "width": null
          }
        },
        "359d3854014f4a4fbe2e92081304e560": {
          "model_module": "@jupyter-widgets/base",
          "model_name": "LayoutModel",
          "model_module_version": "1.2.0",
          "state": {
            "_model_module": "@jupyter-widgets/base",
            "_model_module_version": "1.2.0",
            "_model_name": "LayoutModel",
            "_view_count": null,
            "_view_module": "@jupyter-widgets/base",
            "_view_module_version": "1.2.0",
            "_view_name": "LayoutView",
            "align_content": null,
            "align_items": null,
            "align_self": null,
            "border": null,
            "bottom": null,
            "display": null,
            "flex": null,
            "flex_flow": null,
            "grid_area": null,
            "grid_auto_columns": null,
            "grid_auto_flow": null,
            "grid_auto_rows": null,
            "grid_column": null,
            "grid_gap": null,
            "grid_row": null,
            "grid_template_areas": null,
            "grid_template_columns": null,
            "grid_template_rows": null,
            "height": null,
            "justify_content": null,
            "justify_items": null,
            "left": null,
            "margin": null,
            "max_height": null,
            "max_width": null,
            "min_height": null,
            "min_width": null,
            "object_fit": null,
            "object_position": null,
            "order": null,
            "overflow": null,
            "overflow_x": null,
            "overflow_y": null,
            "padding": null,
            "right": null,
            "top": null,
            "visibility": null,
            "width": null
          }
        },
        "d01bbc3175c74f9ea6afa30935ac2bd6": {
          "model_module": "@jupyter-widgets/controls",
          "model_name": "DescriptionStyleModel",
          "model_module_version": "1.5.0",
          "state": {
            "_model_module": "@jupyter-widgets/controls",
            "_model_module_version": "1.5.0",
            "_model_name": "DescriptionStyleModel",
            "_view_count": null,
            "_view_module": "@jupyter-widgets/base",
            "_view_module_version": "1.2.0",
            "_view_name": "StyleView",
            "description_width": ""
          }
        },
        "68ad381f13804035b06a597690990bca": {
          "model_module": "@jupyter-widgets/base",
          "model_name": "LayoutModel",
          "model_module_version": "1.2.0",
          "state": {
            "_model_module": "@jupyter-widgets/base",
            "_model_module_version": "1.2.0",
            "_model_name": "LayoutModel",
            "_view_count": null,
            "_view_module": "@jupyter-widgets/base",
            "_view_module_version": "1.2.0",
            "_view_name": "LayoutView",
            "align_content": null,
            "align_items": null,
            "align_self": null,
            "border": null,
            "bottom": null,
            "display": null,
            "flex": null,
            "flex_flow": null,
            "grid_area": null,
            "grid_auto_columns": null,
            "grid_auto_flow": null,
            "grid_auto_rows": null,
            "grid_column": null,
            "grid_gap": null,
            "grid_row": null,
            "grid_template_areas": null,
            "grid_template_columns": null,
            "grid_template_rows": null,
            "height": null,
            "justify_content": null,
            "justify_items": null,
            "left": null,
            "margin": null,
            "max_height": null,
            "max_width": null,
            "min_height": null,
            "min_width": null,
            "object_fit": null,
            "object_position": null,
            "order": null,
            "overflow": null,
            "overflow_x": null,
            "overflow_y": null,
            "padding": null,
            "right": null,
            "top": null,
            "visibility": null,
            "width": null
          }
        },
        "dd0b5ae9eaf74370a35989cb655b9af7": {
          "model_module": "@jupyter-widgets/controls",
          "model_name": "ProgressStyleModel",
          "model_module_version": "1.5.0",
          "state": {
            "_model_module": "@jupyter-widgets/controls",
            "_model_module_version": "1.5.0",
            "_model_name": "ProgressStyleModel",
            "_view_count": null,
            "_view_module": "@jupyter-widgets/base",
            "_view_module_version": "1.2.0",
            "_view_name": "StyleView",
            "bar_color": null,
            "description_width": ""
          }
        },
        "9888823d62b44c9fb87e77ce308c9cf3": {
          "model_module": "@jupyter-widgets/controls",
          "model_name": "VBoxModel",
          "model_module_version": "1.5.0",
          "state": {
            "_dom_classes": [],
            "_model_module": "@jupyter-widgets/controls",
            "_model_module_version": "1.5.0",
            "_model_name": "VBoxModel",
            "_view_count": null,
            "_view_module": "@jupyter-widgets/controls",
            "_view_module_version": "1.5.0",
            "_view_name": "VBoxView",
            "box_style": "",
            "children": [
              "IPY_MODEL_2ca80957e24d41d98f0c6fb841dc82b0",
              "IPY_MODEL_aee35a7d93e24614960b68ff7925d5af"
            ],
            "layout": "IPY_MODEL_1017a066d83e4499a8c3dfe02c04e1ed"
          }
        },
        "2ca80957e24d41d98f0c6fb841dc82b0": {
          "model_module": "@jupyter-widgets/controls",
          "model_name": "LabelModel",
          "model_module_version": "1.5.0",
          "state": {
            "_dom_classes": [],
            "_model_module": "@jupyter-widgets/controls",
            "_model_module_version": "1.5.0",
            "_model_name": "LabelModel",
            "_view_count": null,
            "_view_module": "@jupyter-widgets/controls",
            "_view_module_version": "1.5.0",
            "_view_name": "LabelView",
            "description": "",
            "description_tooltip": null,
            "layout": "IPY_MODEL_d232ff1f5d034a4aba8a3149a7487dd2",
            "placeholder": "​",
            "style": "IPY_MODEL_81ad0e00842145c9b48ab53a63941689",
            "value": "0.011 MB of 0.011 MB uploaded\r"
          }
        },
        "aee35a7d93e24614960b68ff7925d5af": {
          "model_module": "@jupyter-widgets/controls",
          "model_name": "FloatProgressModel",
          "model_module_version": "1.5.0",
          "state": {
            "_dom_classes": [],
            "_model_module": "@jupyter-widgets/controls",
            "_model_module_version": "1.5.0",
            "_model_name": "FloatProgressModel",
            "_view_count": null,
            "_view_module": "@jupyter-widgets/controls",
            "_view_module_version": "1.5.0",
            "_view_name": "ProgressView",
            "bar_style": "",
            "description": "",
            "description_tooltip": null,
            "layout": "IPY_MODEL_95c0d55a36a84691ae23d43ab44c429b",
            "max": 1,
            "min": 0,
            "orientation": "horizontal",
            "style": "IPY_MODEL_f7e061c6f9724f06a28c56ae166aaf9b",
            "value": 1
          }
        },
        "1017a066d83e4499a8c3dfe02c04e1ed": {
          "model_module": "@jupyter-widgets/base",
          "model_name": "LayoutModel",
          "model_module_version": "1.2.0",
          "state": {
            "_model_module": "@jupyter-widgets/base",
            "_model_module_version": "1.2.0",
            "_model_name": "LayoutModel",
            "_view_count": null,
            "_view_module": "@jupyter-widgets/base",
            "_view_module_version": "1.2.0",
            "_view_name": "LayoutView",
            "align_content": null,
            "align_items": null,
            "align_self": null,
            "border": null,
            "bottom": null,
            "display": null,
            "flex": null,
            "flex_flow": null,
            "grid_area": null,
            "grid_auto_columns": null,
            "grid_auto_flow": null,
            "grid_auto_rows": null,
            "grid_column": null,
            "grid_gap": null,
            "grid_row": null,
            "grid_template_areas": null,
            "grid_template_columns": null,
            "grid_template_rows": null,
            "height": null,
            "justify_content": null,
            "justify_items": null,
            "left": null,
            "margin": null,
            "max_height": null,
            "max_width": null,
            "min_height": null,
            "min_width": null,
            "object_fit": null,
            "object_position": null,
            "order": null,
            "overflow": null,
            "overflow_x": null,
            "overflow_y": null,
            "padding": null,
            "right": null,
            "top": null,
            "visibility": null,
            "width": null
          }
        },
        "d232ff1f5d034a4aba8a3149a7487dd2": {
          "model_module": "@jupyter-widgets/base",
          "model_name": "LayoutModel",
          "model_module_version": "1.2.0",
          "state": {
            "_model_module": "@jupyter-widgets/base",
            "_model_module_version": "1.2.0",
            "_model_name": "LayoutModel",
            "_view_count": null,
            "_view_module": "@jupyter-widgets/base",
            "_view_module_version": "1.2.0",
            "_view_name": "LayoutView",
            "align_content": null,
            "align_items": null,
            "align_self": null,
            "border": null,
            "bottom": null,
            "display": null,
            "flex": null,
            "flex_flow": null,
            "grid_area": null,
            "grid_auto_columns": null,
            "grid_auto_flow": null,
            "grid_auto_rows": null,
            "grid_column": null,
            "grid_gap": null,
            "grid_row": null,
            "grid_template_areas": null,
            "grid_template_columns": null,
            "grid_template_rows": null,
            "height": null,
            "justify_content": null,
            "justify_items": null,
            "left": null,
            "margin": null,
            "max_height": null,
            "max_width": null,
            "min_height": null,
            "min_width": null,
            "object_fit": null,
            "object_position": null,
            "order": null,
            "overflow": null,
            "overflow_x": null,
            "overflow_y": null,
            "padding": null,
            "right": null,
            "top": null,
            "visibility": null,
            "width": null
          }
        },
        "81ad0e00842145c9b48ab53a63941689": {
          "model_module": "@jupyter-widgets/controls",
          "model_name": "DescriptionStyleModel",
          "model_module_version": "1.5.0",
          "state": {
            "_model_module": "@jupyter-widgets/controls",
            "_model_module_version": "1.5.0",
            "_model_name": "DescriptionStyleModel",
            "_view_count": null,
            "_view_module": "@jupyter-widgets/base",
            "_view_module_version": "1.2.0",
            "_view_name": "StyleView",
            "description_width": ""
          }
        },
        "95c0d55a36a84691ae23d43ab44c429b": {
          "model_module": "@jupyter-widgets/base",
          "model_name": "LayoutModel",
          "model_module_version": "1.2.0",
          "state": {
            "_model_module": "@jupyter-widgets/base",
            "_model_module_version": "1.2.0",
            "_model_name": "LayoutModel",
            "_view_count": null,
            "_view_module": "@jupyter-widgets/base",
            "_view_module_version": "1.2.0",
            "_view_name": "LayoutView",
            "align_content": null,
            "align_items": null,
            "align_self": null,
            "border": null,
            "bottom": null,
            "display": null,
            "flex": null,
            "flex_flow": null,
            "grid_area": null,
            "grid_auto_columns": null,
            "grid_auto_flow": null,
            "grid_auto_rows": null,
            "grid_column": null,
            "grid_gap": null,
            "grid_row": null,
            "grid_template_areas": null,
            "grid_template_columns": null,
            "grid_template_rows": null,
            "height": null,
            "justify_content": null,
            "justify_items": null,
            "left": null,
            "margin": null,
            "max_height": null,
            "max_width": null,
            "min_height": null,
            "min_width": null,
            "object_fit": null,
            "object_position": null,
            "order": null,
            "overflow": null,
            "overflow_x": null,
            "overflow_y": null,
            "padding": null,
            "right": null,
            "top": null,
            "visibility": null,
            "width": null
          }
        },
        "f7e061c6f9724f06a28c56ae166aaf9b": {
          "model_module": "@jupyter-widgets/controls",
          "model_name": "ProgressStyleModel",
          "model_module_version": "1.5.0",
          "state": {
            "_model_module": "@jupyter-widgets/controls",
            "_model_module_version": "1.5.0",
            "_model_name": "ProgressStyleModel",
            "_view_count": null,
            "_view_module": "@jupyter-widgets/base",
            "_view_module_version": "1.2.0",
            "_view_name": "StyleView",
            "bar_color": null,
            "description_width": ""
          }
        },
        "88fb1e9ade724603889ce858d4d7574d": {
          "model_module": "@jupyter-widgets/controls",
          "model_name": "VBoxModel",
          "model_module_version": "1.5.0",
          "state": {
            "_dom_classes": [],
            "_model_module": "@jupyter-widgets/controls",
            "_model_module_version": "1.5.0",
            "_model_name": "VBoxModel",
            "_view_count": null,
            "_view_module": "@jupyter-widgets/controls",
            "_view_module_version": "1.5.0",
            "_view_name": "VBoxView",
            "box_style": "",
            "children": [
              "IPY_MODEL_04a52cf3d27c4ed8b1d7d2004396f4e9",
              "IPY_MODEL_49a05913e0f941828c86773c190b8718"
            ],
            "layout": "IPY_MODEL_529be0770f404a1c923fe1b559510a05"
          }
        },
        "04a52cf3d27c4ed8b1d7d2004396f4e9": {
          "model_module": "@jupyter-widgets/controls",
          "model_name": "LabelModel",
          "model_module_version": "1.5.0",
          "state": {
            "_dom_classes": [],
            "_model_module": "@jupyter-widgets/controls",
            "_model_module_version": "1.5.0",
            "_model_name": "LabelModel",
            "_view_count": null,
            "_view_module": "@jupyter-widgets/controls",
            "_view_module_version": "1.5.0",
            "_view_name": "LabelView",
            "description": "",
            "description_tooltip": null,
            "layout": "IPY_MODEL_df72a24867f24230ba3eb3685594c8c2",
            "placeholder": "​",
            "style": "IPY_MODEL_d195f7e43a6b4504bcfa4b2d1475fe93",
            "value": "0.011 MB of 0.011 MB uploaded\r"
          }
        },
        "49a05913e0f941828c86773c190b8718": {
          "model_module": "@jupyter-widgets/controls",
          "model_name": "FloatProgressModel",
          "model_module_version": "1.5.0",
          "state": {
            "_dom_classes": [],
            "_model_module": "@jupyter-widgets/controls",
            "_model_module_version": "1.5.0",
            "_model_name": "FloatProgressModel",
            "_view_count": null,
            "_view_module": "@jupyter-widgets/controls",
            "_view_module_version": "1.5.0",
            "_view_name": "ProgressView",
            "bar_style": "",
            "description": "",
            "description_tooltip": null,
            "layout": "IPY_MODEL_8cf6937a3af64bd69c8fb823cccdcb7c",
            "max": 1,
            "min": 0,
            "orientation": "horizontal",
            "style": "IPY_MODEL_fd2d7b72f73049fa9479f5efd06ed386",
            "value": 1
          }
        },
        "529be0770f404a1c923fe1b559510a05": {
          "model_module": "@jupyter-widgets/base",
          "model_name": "LayoutModel",
          "model_module_version": "1.2.0",
          "state": {
            "_model_module": "@jupyter-widgets/base",
            "_model_module_version": "1.2.0",
            "_model_name": "LayoutModel",
            "_view_count": null,
            "_view_module": "@jupyter-widgets/base",
            "_view_module_version": "1.2.0",
            "_view_name": "LayoutView",
            "align_content": null,
            "align_items": null,
            "align_self": null,
            "border": null,
            "bottom": null,
            "display": null,
            "flex": null,
            "flex_flow": null,
            "grid_area": null,
            "grid_auto_columns": null,
            "grid_auto_flow": null,
            "grid_auto_rows": null,
            "grid_column": null,
            "grid_gap": null,
            "grid_row": null,
            "grid_template_areas": null,
            "grid_template_columns": null,
            "grid_template_rows": null,
            "height": null,
            "justify_content": null,
            "justify_items": null,
            "left": null,
            "margin": null,
            "max_height": null,
            "max_width": null,
            "min_height": null,
            "min_width": null,
            "object_fit": null,
            "object_position": null,
            "order": null,
            "overflow": null,
            "overflow_x": null,
            "overflow_y": null,
            "padding": null,
            "right": null,
            "top": null,
            "visibility": null,
            "width": null
          }
        },
        "df72a24867f24230ba3eb3685594c8c2": {
          "model_module": "@jupyter-widgets/base",
          "model_name": "LayoutModel",
          "model_module_version": "1.2.0",
          "state": {
            "_model_module": "@jupyter-widgets/base",
            "_model_module_version": "1.2.0",
            "_model_name": "LayoutModel",
            "_view_count": null,
            "_view_module": "@jupyter-widgets/base",
            "_view_module_version": "1.2.0",
            "_view_name": "LayoutView",
            "align_content": null,
            "align_items": null,
            "align_self": null,
            "border": null,
            "bottom": null,
            "display": null,
            "flex": null,
            "flex_flow": null,
            "grid_area": null,
            "grid_auto_columns": null,
            "grid_auto_flow": null,
            "grid_auto_rows": null,
            "grid_column": null,
            "grid_gap": null,
            "grid_row": null,
            "grid_template_areas": null,
            "grid_template_columns": null,
            "grid_template_rows": null,
            "height": null,
            "justify_content": null,
            "justify_items": null,
            "left": null,
            "margin": null,
            "max_height": null,
            "max_width": null,
            "min_height": null,
            "min_width": null,
            "object_fit": null,
            "object_position": null,
            "order": null,
            "overflow": null,
            "overflow_x": null,
            "overflow_y": null,
            "padding": null,
            "right": null,
            "top": null,
            "visibility": null,
            "width": null
          }
        },
        "d195f7e43a6b4504bcfa4b2d1475fe93": {
          "model_module": "@jupyter-widgets/controls",
          "model_name": "DescriptionStyleModel",
          "model_module_version": "1.5.0",
          "state": {
            "_model_module": "@jupyter-widgets/controls",
            "_model_module_version": "1.5.0",
            "_model_name": "DescriptionStyleModel",
            "_view_count": null,
            "_view_module": "@jupyter-widgets/base",
            "_view_module_version": "1.2.0",
            "_view_name": "StyleView",
            "description_width": ""
          }
        },
        "8cf6937a3af64bd69c8fb823cccdcb7c": {
          "model_module": "@jupyter-widgets/base",
          "model_name": "LayoutModel",
          "model_module_version": "1.2.0",
          "state": {
            "_model_module": "@jupyter-widgets/base",
            "_model_module_version": "1.2.0",
            "_model_name": "LayoutModel",
            "_view_count": null,
            "_view_module": "@jupyter-widgets/base",
            "_view_module_version": "1.2.0",
            "_view_name": "LayoutView",
            "align_content": null,
            "align_items": null,
            "align_self": null,
            "border": null,
            "bottom": null,
            "display": null,
            "flex": null,
            "flex_flow": null,
            "grid_area": null,
            "grid_auto_columns": null,
            "grid_auto_flow": null,
            "grid_auto_rows": null,
            "grid_column": null,
            "grid_gap": null,
            "grid_row": null,
            "grid_template_areas": null,
            "grid_template_columns": null,
            "grid_template_rows": null,
            "height": null,
            "justify_content": null,
            "justify_items": null,
            "left": null,
            "margin": null,
            "max_height": null,
            "max_width": null,
            "min_height": null,
            "min_width": null,
            "object_fit": null,
            "object_position": null,
            "order": null,
            "overflow": null,
            "overflow_x": null,
            "overflow_y": null,
            "padding": null,
            "right": null,
            "top": null,
            "visibility": null,
            "width": null
          }
        },
        "fd2d7b72f73049fa9479f5efd06ed386": {
          "model_module": "@jupyter-widgets/controls",
          "model_name": "ProgressStyleModel",
          "model_module_version": "1.5.0",
          "state": {
            "_model_module": "@jupyter-widgets/controls",
            "_model_module_version": "1.5.0",
            "_model_name": "ProgressStyleModel",
            "_view_count": null,
            "_view_module": "@jupyter-widgets/base",
            "_view_module_version": "1.2.0",
            "_view_name": "StyleView",
            "bar_color": null,
            "description_width": ""
          }
        },
        "3b54541c955a4fad9b6c6506e4aa55b5": {
          "model_module": "@jupyter-widgets/controls",
          "model_name": "VBoxModel",
          "model_module_version": "1.5.0",
          "state": {
            "_dom_classes": [],
            "_model_module": "@jupyter-widgets/controls",
            "_model_module_version": "1.5.0",
            "_model_name": "VBoxModel",
            "_view_count": null,
            "_view_module": "@jupyter-widgets/controls",
            "_view_module_version": "1.5.0",
            "_view_name": "VBoxView",
            "box_style": "",
            "children": [
              "IPY_MODEL_ed461d7a3ec748358a341f37d37cb156",
              "IPY_MODEL_ae9b1647a3224d979d5e7ec36f8054ff"
            ],
            "layout": "IPY_MODEL_0ff5f3fd86b148a4b92efd78997bad6c"
          }
        },
        "ed461d7a3ec748358a341f37d37cb156": {
          "model_module": "@jupyter-widgets/controls",
          "model_name": "LabelModel",
          "model_module_version": "1.5.0",
          "state": {
            "_dom_classes": [],
            "_model_module": "@jupyter-widgets/controls",
            "_model_module_version": "1.5.0",
            "_model_name": "LabelModel",
            "_view_count": null,
            "_view_module": "@jupyter-widgets/controls",
            "_view_module_version": "1.5.0",
            "_view_name": "LabelView",
            "description": "",
            "description_tooltip": null,
            "layout": "IPY_MODEL_a8c1c759d94e4dccb8e44c31d9077211",
            "placeholder": "​",
            "style": "IPY_MODEL_29e0dbe774074360ad291ee3b4542039",
            "value": "0.013 MB of 0.013 MB uploaded\r"
          }
        },
        "ae9b1647a3224d979d5e7ec36f8054ff": {
          "model_module": "@jupyter-widgets/controls",
          "model_name": "FloatProgressModel",
          "model_module_version": "1.5.0",
          "state": {
            "_dom_classes": [],
            "_model_module": "@jupyter-widgets/controls",
            "_model_module_version": "1.5.0",
            "_model_name": "FloatProgressModel",
            "_view_count": null,
            "_view_module": "@jupyter-widgets/controls",
            "_view_module_version": "1.5.0",
            "_view_name": "ProgressView",
            "bar_style": "",
            "description": "",
            "description_tooltip": null,
            "layout": "IPY_MODEL_573336de2e294d848badfaac1d601428",
            "max": 1,
            "min": 0,
            "orientation": "horizontal",
            "style": "IPY_MODEL_b236f514908943a3a5f825d1e7cc0b01",
            "value": 1
          }
        },
        "0ff5f3fd86b148a4b92efd78997bad6c": {
          "model_module": "@jupyter-widgets/base",
          "model_name": "LayoutModel",
          "model_module_version": "1.2.0",
          "state": {
            "_model_module": "@jupyter-widgets/base",
            "_model_module_version": "1.2.0",
            "_model_name": "LayoutModel",
            "_view_count": null,
            "_view_module": "@jupyter-widgets/base",
            "_view_module_version": "1.2.0",
            "_view_name": "LayoutView",
            "align_content": null,
            "align_items": null,
            "align_self": null,
            "border": null,
            "bottom": null,
            "display": null,
            "flex": null,
            "flex_flow": null,
            "grid_area": null,
            "grid_auto_columns": null,
            "grid_auto_flow": null,
            "grid_auto_rows": null,
            "grid_column": null,
            "grid_gap": null,
            "grid_row": null,
            "grid_template_areas": null,
            "grid_template_columns": null,
            "grid_template_rows": null,
            "height": null,
            "justify_content": null,
            "justify_items": null,
            "left": null,
            "margin": null,
            "max_height": null,
            "max_width": null,
            "min_height": null,
            "min_width": null,
            "object_fit": null,
            "object_position": null,
            "order": null,
            "overflow": null,
            "overflow_x": null,
            "overflow_y": null,
            "padding": null,
            "right": null,
            "top": null,
            "visibility": null,
            "width": null
          }
        },
        "a8c1c759d94e4dccb8e44c31d9077211": {
          "model_module": "@jupyter-widgets/base",
          "model_name": "LayoutModel",
          "model_module_version": "1.2.0",
          "state": {
            "_model_module": "@jupyter-widgets/base",
            "_model_module_version": "1.2.0",
            "_model_name": "LayoutModel",
            "_view_count": null,
            "_view_module": "@jupyter-widgets/base",
            "_view_module_version": "1.2.0",
            "_view_name": "LayoutView",
            "align_content": null,
            "align_items": null,
            "align_self": null,
            "border": null,
            "bottom": null,
            "display": null,
            "flex": null,
            "flex_flow": null,
            "grid_area": null,
            "grid_auto_columns": null,
            "grid_auto_flow": null,
            "grid_auto_rows": null,
            "grid_column": null,
            "grid_gap": null,
            "grid_row": null,
            "grid_template_areas": null,
            "grid_template_columns": null,
            "grid_template_rows": null,
            "height": null,
            "justify_content": null,
            "justify_items": null,
            "left": null,
            "margin": null,
            "max_height": null,
            "max_width": null,
            "min_height": null,
            "min_width": null,
            "object_fit": null,
            "object_position": null,
            "order": null,
            "overflow": null,
            "overflow_x": null,
            "overflow_y": null,
            "padding": null,
            "right": null,
            "top": null,
            "visibility": null,
            "width": null
          }
        },
        "29e0dbe774074360ad291ee3b4542039": {
          "model_module": "@jupyter-widgets/controls",
          "model_name": "DescriptionStyleModel",
          "model_module_version": "1.5.0",
          "state": {
            "_model_module": "@jupyter-widgets/controls",
            "_model_module_version": "1.5.0",
            "_model_name": "DescriptionStyleModel",
            "_view_count": null,
            "_view_module": "@jupyter-widgets/base",
            "_view_module_version": "1.2.0",
            "_view_name": "StyleView",
            "description_width": ""
          }
        },
        "573336de2e294d848badfaac1d601428": {
          "model_module": "@jupyter-widgets/base",
          "model_name": "LayoutModel",
          "model_module_version": "1.2.0",
          "state": {
            "_model_module": "@jupyter-widgets/base",
            "_model_module_version": "1.2.0",
            "_model_name": "LayoutModel",
            "_view_count": null,
            "_view_module": "@jupyter-widgets/base",
            "_view_module_version": "1.2.0",
            "_view_name": "LayoutView",
            "align_content": null,
            "align_items": null,
            "align_self": null,
            "border": null,
            "bottom": null,
            "display": null,
            "flex": null,
            "flex_flow": null,
            "grid_area": null,
            "grid_auto_columns": null,
            "grid_auto_flow": null,
            "grid_auto_rows": null,
            "grid_column": null,
            "grid_gap": null,
            "grid_row": null,
            "grid_template_areas": null,
            "grid_template_columns": null,
            "grid_template_rows": null,
            "height": null,
            "justify_content": null,
            "justify_items": null,
            "left": null,
            "margin": null,
            "max_height": null,
            "max_width": null,
            "min_height": null,
            "min_width": null,
            "object_fit": null,
            "object_position": null,
            "order": null,
            "overflow": null,
            "overflow_x": null,
            "overflow_y": null,
            "padding": null,
            "right": null,
            "top": null,
            "visibility": null,
            "width": null
          }
        },
        "b236f514908943a3a5f825d1e7cc0b01": {
          "model_module": "@jupyter-widgets/controls",
          "model_name": "ProgressStyleModel",
          "model_module_version": "1.5.0",
          "state": {
            "_model_module": "@jupyter-widgets/controls",
            "_model_module_version": "1.5.0",
            "_model_name": "ProgressStyleModel",
            "_view_count": null,
            "_view_module": "@jupyter-widgets/base",
            "_view_module_version": "1.2.0",
            "_view_name": "StyleView",
            "bar_color": null,
            "description_width": ""
          }
        },
        "a1e4f28020de454e8359a7cd2623452f": {
          "model_module": "@jupyter-widgets/controls",
          "model_name": "VBoxModel",
          "model_module_version": "1.5.0",
          "state": {
            "_dom_classes": [],
            "_model_module": "@jupyter-widgets/controls",
            "_model_module_version": "1.5.0",
            "_model_name": "VBoxModel",
            "_view_count": null,
            "_view_module": "@jupyter-widgets/controls",
            "_view_module_version": "1.5.0",
            "_view_name": "VBoxView",
            "box_style": "",
            "children": [
              "IPY_MODEL_9ac16def6e944ec5bf79e2ab1ec28a85",
              "IPY_MODEL_fe79cf05cb404472bdd39464622c5f77"
            ],
            "layout": "IPY_MODEL_7befd8b5a3da4c10972c64be9f4cde36"
          }
        },
        "9ac16def6e944ec5bf79e2ab1ec28a85": {
          "model_module": "@jupyter-widgets/controls",
          "model_name": "LabelModel",
          "model_module_version": "1.5.0",
          "state": {
            "_dom_classes": [],
            "_model_module": "@jupyter-widgets/controls",
            "_model_module_version": "1.5.0",
            "_model_name": "LabelModel",
            "_view_count": null,
            "_view_module": "@jupyter-widgets/controls",
            "_view_module_version": "1.5.0",
            "_view_name": "LabelView",
            "description": "",
            "description_tooltip": null,
            "layout": "IPY_MODEL_b7bdeea24be44770b7f6e941b21c8977",
            "placeholder": "​",
            "style": "IPY_MODEL_4d78b645e47d47768506f0f83a11a84d",
            "value": "0.011 MB of 0.011 MB uploaded\r"
          }
        },
        "fe79cf05cb404472bdd39464622c5f77": {
          "model_module": "@jupyter-widgets/controls",
          "model_name": "FloatProgressModel",
          "model_module_version": "1.5.0",
          "state": {
            "_dom_classes": [],
            "_model_module": "@jupyter-widgets/controls",
            "_model_module_version": "1.5.0",
            "_model_name": "FloatProgressModel",
            "_view_count": null,
            "_view_module": "@jupyter-widgets/controls",
            "_view_module_version": "1.5.0",
            "_view_name": "ProgressView",
            "bar_style": "",
            "description": "",
            "description_tooltip": null,
            "layout": "IPY_MODEL_e1d5f01c756a490e99038c2ddee1eb77",
            "max": 1,
            "min": 0,
            "orientation": "horizontal",
            "style": "IPY_MODEL_29af17625896430898a93675dfbfcec2",
            "value": 1
          }
        },
        "7befd8b5a3da4c10972c64be9f4cde36": {
          "model_module": "@jupyter-widgets/base",
          "model_name": "LayoutModel",
          "model_module_version": "1.2.0",
          "state": {
            "_model_module": "@jupyter-widgets/base",
            "_model_module_version": "1.2.0",
            "_model_name": "LayoutModel",
            "_view_count": null,
            "_view_module": "@jupyter-widgets/base",
            "_view_module_version": "1.2.0",
            "_view_name": "LayoutView",
            "align_content": null,
            "align_items": null,
            "align_self": null,
            "border": null,
            "bottom": null,
            "display": null,
            "flex": null,
            "flex_flow": null,
            "grid_area": null,
            "grid_auto_columns": null,
            "grid_auto_flow": null,
            "grid_auto_rows": null,
            "grid_column": null,
            "grid_gap": null,
            "grid_row": null,
            "grid_template_areas": null,
            "grid_template_columns": null,
            "grid_template_rows": null,
            "height": null,
            "justify_content": null,
            "justify_items": null,
            "left": null,
            "margin": null,
            "max_height": null,
            "max_width": null,
            "min_height": null,
            "min_width": null,
            "object_fit": null,
            "object_position": null,
            "order": null,
            "overflow": null,
            "overflow_x": null,
            "overflow_y": null,
            "padding": null,
            "right": null,
            "top": null,
            "visibility": null,
            "width": null
          }
        },
        "b7bdeea24be44770b7f6e941b21c8977": {
          "model_module": "@jupyter-widgets/base",
          "model_name": "LayoutModel",
          "model_module_version": "1.2.0",
          "state": {
            "_model_module": "@jupyter-widgets/base",
            "_model_module_version": "1.2.0",
            "_model_name": "LayoutModel",
            "_view_count": null,
            "_view_module": "@jupyter-widgets/base",
            "_view_module_version": "1.2.0",
            "_view_name": "LayoutView",
            "align_content": null,
            "align_items": null,
            "align_self": null,
            "border": null,
            "bottom": null,
            "display": null,
            "flex": null,
            "flex_flow": null,
            "grid_area": null,
            "grid_auto_columns": null,
            "grid_auto_flow": null,
            "grid_auto_rows": null,
            "grid_column": null,
            "grid_gap": null,
            "grid_row": null,
            "grid_template_areas": null,
            "grid_template_columns": null,
            "grid_template_rows": null,
            "height": null,
            "justify_content": null,
            "justify_items": null,
            "left": null,
            "margin": null,
            "max_height": null,
            "max_width": null,
            "min_height": null,
            "min_width": null,
            "object_fit": null,
            "object_position": null,
            "order": null,
            "overflow": null,
            "overflow_x": null,
            "overflow_y": null,
            "padding": null,
            "right": null,
            "top": null,
            "visibility": null,
            "width": null
          }
        },
        "4d78b645e47d47768506f0f83a11a84d": {
          "model_module": "@jupyter-widgets/controls",
          "model_name": "DescriptionStyleModel",
          "model_module_version": "1.5.0",
          "state": {
            "_model_module": "@jupyter-widgets/controls",
            "_model_module_version": "1.5.0",
            "_model_name": "DescriptionStyleModel",
            "_view_count": null,
            "_view_module": "@jupyter-widgets/base",
            "_view_module_version": "1.2.0",
            "_view_name": "StyleView",
            "description_width": ""
          }
        },
        "e1d5f01c756a490e99038c2ddee1eb77": {
          "model_module": "@jupyter-widgets/base",
          "model_name": "LayoutModel",
          "model_module_version": "1.2.0",
          "state": {
            "_model_module": "@jupyter-widgets/base",
            "_model_module_version": "1.2.0",
            "_model_name": "LayoutModel",
            "_view_count": null,
            "_view_module": "@jupyter-widgets/base",
            "_view_module_version": "1.2.0",
            "_view_name": "LayoutView",
            "align_content": null,
            "align_items": null,
            "align_self": null,
            "border": null,
            "bottom": null,
            "display": null,
            "flex": null,
            "flex_flow": null,
            "grid_area": null,
            "grid_auto_columns": null,
            "grid_auto_flow": null,
            "grid_auto_rows": null,
            "grid_column": null,
            "grid_gap": null,
            "grid_row": null,
            "grid_template_areas": null,
            "grid_template_columns": null,
            "grid_template_rows": null,
            "height": null,
            "justify_content": null,
            "justify_items": null,
            "left": null,
            "margin": null,
            "max_height": null,
            "max_width": null,
            "min_height": null,
            "min_width": null,
            "object_fit": null,
            "object_position": null,
            "order": null,
            "overflow": null,
            "overflow_x": null,
            "overflow_y": null,
            "padding": null,
            "right": null,
            "top": null,
            "visibility": null,
            "width": null
          }
        },
        "29af17625896430898a93675dfbfcec2": {
          "model_module": "@jupyter-widgets/controls",
          "model_name": "ProgressStyleModel",
          "model_module_version": "1.5.0",
          "state": {
            "_model_module": "@jupyter-widgets/controls",
            "_model_module_version": "1.5.0",
            "_model_name": "ProgressStyleModel",
            "_view_count": null,
            "_view_module": "@jupyter-widgets/base",
            "_view_module_version": "1.2.0",
            "_view_name": "StyleView",
            "bar_color": null,
            "description_width": ""
          }
        },
        "f2d0fbe8ae13499396d48d067ffcef66": {
          "model_module": "@jupyter-widgets/controls",
          "model_name": "VBoxModel",
          "model_module_version": "1.5.0",
          "state": {
            "_dom_classes": [],
            "_model_module": "@jupyter-widgets/controls",
            "_model_module_version": "1.5.0",
            "_model_name": "VBoxModel",
            "_view_count": null,
            "_view_module": "@jupyter-widgets/controls",
            "_view_module_version": "1.5.0",
            "_view_name": "VBoxView",
            "box_style": "",
            "children": [
              "IPY_MODEL_33506cd4d90c4bd98570ba349d5ce8e2",
              "IPY_MODEL_488888f8486f458999ef98b359658aa7"
            ],
            "layout": "IPY_MODEL_1f2e83655ea7447281ffa1426337e3de"
          }
        },
        "33506cd4d90c4bd98570ba349d5ce8e2": {
          "model_module": "@jupyter-widgets/controls",
          "model_name": "LabelModel",
          "model_module_version": "1.5.0",
          "state": {
            "_dom_classes": [],
            "_model_module": "@jupyter-widgets/controls",
            "_model_module_version": "1.5.0",
            "_model_name": "LabelModel",
            "_view_count": null,
            "_view_module": "@jupyter-widgets/controls",
            "_view_module_version": "1.5.0",
            "_view_name": "LabelView",
            "description": "",
            "description_tooltip": null,
            "layout": "IPY_MODEL_6262c317f6704a24b74bb164a054ee27",
            "placeholder": "​",
            "style": "IPY_MODEL_a812ed0c9ef94e8cb29c406d6611afbc",
            "value": "0.011 MB of 0.011 MB uploaded\r"
          }
        },
        "488888f8486f458999ef98b359658aa7": {
          "model_module": "@jupyter-widgets/controls",
          "model_name": "FloatProgressModel",
          "model_module_version": "1.5.0",
          "state": {
            "_dom_classes": [],
            "_model_module": "@jupyter-widgets/controls",
            "_model_module_version": "1.5.0",
            "_model_name": "FloatProgressModel",
            "_view_count": null,
            "_view_module": "@jupyter-widgets/controls",
            "_view_module_version": "1.5.0",
            "_view_name": "ProgressView",
            "bar_style": "",
            "description": "",
            "description_tooltip": null,
            "layout": "IPY_MODEL_1e48e99a392a431e80f36ab979036953",
            "max": 1,
            "min": 0,
            "orientation": "horizontal",
            "style": "IPY_MODEL_6514e10a21294147bcb77e0c928414a2",
            "value": 1
          }
        },
        "1f2e83655ea7447281ffa1426337e3de": {
          "model_module": "@jupyter-widgets/base",
          "model_name": "LayoutModel",
          "model_module_version": "1.2.0",
          "state": {
            "_model_module": "@jupyter-widgets/base",
            "_model_module_version": "1.2.0",
            "_model_name": "LayoutModel",
            "_view_count": null,
            "_view_module": "@jupyter-widgets/base",
            "_view_module_version": "1.2.0",
            "_view_name": "LayoutView",
            "align_content": null,
            "align_items": null,
            "align_self": null,
            "border": null,
            "bottom": null,
            "display": null,
            "flex": null,
            "flex_flow": null,
            "grid_area": null,
            "grid_auto_columns": null,
            "grid_auto_flow": null,
            "grid_auto_rows": null,
            "grid_column": null,
            "grid_gap": null,
            "grid_row": null,
            "grid_template_areas": null,
            "grid_template_columns": null,
            "grid_template_rows": null,
            "height": null,
            "justify_content": null,
            "justify_items": null,
            "left": null,
            "margin": null,
            "max_height": null,
            "max_width": null,
            "min_height": null,
            "min_width": null,
            "object_fit": null,
            "object_position": null,
            "order": null,
            "overflow": null,
            "overflow_x": null,
            "overflow_y": null,
            "padding": null,
            "right": null,
            "top": null,
            "visibility": null,
            "width": null
          }
        },
        "6262c317f6704a24b74bb164a054ee27": {
          "model_module": "@jupyter-widgets/base",
          "model_name": "LayoutModel",
          "model_module_version": "1.2.0",
          "state": {
            "_model_module": "@jupyter-widgets/base",
            "_model_module_version": "1.2.0",
            "_model_name": "LayoutModel",
            "_view_count": null,
            "_view_module": "@jupyter-widgets/base",
            "_view_module_version": "1.2.0",
            "_view_name": "LayoutView",
            "align_content": null,
            "align_items": null,
            "align_self": null,
            "border": null,
            "bottom": null,
            "display": null,
            "flex": null,
            "flex_flow": null,
            "grid_area": null,
            "grid_auto_columns": null,
            "grid_auto_flow": null,
            "grid_auto_rows": null,
            "grid_column": null,
            "grid_gap": null,
            "grid_row": null,
            "grid_template_areas": null,
            "grid_template_columns": null,
            "grid_template_rows": null,
            "height": null,
            "justify_content": null,
            "justify_items": null,
            "left": null,
            "margin": null,
            "max_height": null,
            "max_width": null,
            "min_height": null,
            "min_width": null,
            "object_fit": null,
            "object_position": null,
            "order": null,
            "overflow": null,
            "overflow_x": null,
            "overflow_y": null,
            "padding": null,
            "right": null,
            "top": null,
            "visibility": null,
            "width": null
          }
        },
        "a812ed0c9ef94e8cb29c406d6611afbc": {
          "model_module": "@jupyter-widgets/controls",
          "model_name": "DescriptionStyleModel",
          "model_module_version": "1.5.0",
          "state": {
            "_model_module": "@jupyter-widgets/controls",
            "_model_module_version": "1.5.0",
            "_model_name": "DescriptionStyleModel",
            "_view_count": null,
            "_view_module": "@jupyter-widgets/base",
            "_view_module_version": "1.2.0",
            "_view_name": "StyleView",
            "description_width": ""
          }
        },
        "1e48e99a392a431e80f36ab979036953": {
          "model_module": "@jupyter-widgets/base",
          "model_name": "LayoutModel",
          "model_module_version": "1.2.0",
          "state": {
            "_model_module": "@jupyter-widgets/base",
            "_model_module_version": "1.2.0",
            "_model_name": "LayoutModel",
            "_view_count": null,
            "_view_module": "@jupyter-widgets/base",
            "_view_module_version": "1.2.0",
            "_view_name": "LayoutView",
            "align_content": null,
            "align_items": null,
            "align_self": null,
            "border": null,
            "bottom": null,
            "display": null,
            "flex": null,
            "flex_flow": null,
            "grid_area": null,
            "grid_auto_columns": null,
            "grid_auto_flow": null,
            "grid_auto_rows": null,
            "grid_column": null,
            "grid_gap": null,
            "grid_row": null,
            "grid_template_areas": null,
            "grid_template_columns": null,
            "grid_template_rows": null,
            "height": null,
            "justify_content": null,
            "justify_items": null,
            "left": null,
            "margin": null,
            "max_height": null,
            "max_width": null,
            "min_height": null,
            "min_width": null,
            "object_fit": null,
            "object_position": null,
            "order": null,
            "overflow": null,
            "overflow_x": null,
            "overflow_y": null,
            "padding": null,
            "right": null,
            "top": null,
            "visibility": null,
            "width": null
          }
        },
        "6514e10a21294147bcb77e0c928414a2": {
          "model_module": "@jupyter-widgets/controls",
          "model_name": "ProgressStyleModel",
          "model_module_version": "1.5.0",
          "state": {
            "_model_module": "@jupyter-widgets/controls",
            "_model_module_version": "1.5.0",
            "_model_name": "ProgressStyleModel",
            "_view_count": null,
            "_view_module": "@jupyter-widgets/base",
            "_view_module_version": "1.2.0",
            "_view_name": "StyleView",
            "bar_color": null,
            "description_width": ""
          }
        },
        "2d3785d81ed24a039059343e70f41da3": {
          "model_module": "@jupyter-widgets/controls",
          "model_name": "VBoxModel",
          "model_module_version": "1.5.0",
          "state": {
            "_dom_classes": [],
            "_model_module": "@jupyter-widgets/controls",
            "_model_module_version": "1.5.0",
            "_model_name": "VBoxModel",
            "_view_count": null,
            "_view_module": "@jupyter-widgets/controls",
            "_view_module_version": "1.5.0",
            "_view_name": "VBoxView",
            "box_style": "",
            "children": [
              "IPY_MODEL_fd152eb22ac641d5bae6929157d9663f",
              "IPY_MODEL_aa07221bf27b462cb894ca2a1bb4ffa9"
            ],
            "layout": "IPY_MODEL_1f08119301f4443ba1b8df0dd99e2546"
          }
        },
        "fd152eb22ac641d5bae6929157d9663f": {
          "model_module": "@jupyter-widgets/controls",
          "model_name": "LabelModel",
          "model_module_version": "1.5.0",
          "state": {
            "_dom_classes": [],
            "_model_module": "@jupyter-widgets/controls",
            "_model_module_version": "1.5.0",
            "_model_name": "LabelModel",
            "_view_count": null,
            "_view_module": "@jupyter-widgets/controls",
            "_view_module_version": "1.5.0",
            "_view_name": "LabelView",
            "description": "",
            "description_tooltip": null,
            "layout": "IPY_MODEL_24251500809f4549aa5fb5be3748f26c",
            "placeholder": "​",
            "style": "IPY_MODEL_4a102554913449d0b53acc0728e38019",
            "value": "0.013 MB of 0.013 MB uploaded\r"
          }
        },
        "aa07221bf27b462cb894ca2a1bb4ffa9": {
          "model_module": "@jupyter-widgets/controls",
          "model_name": "FloatProgressModel",
          "model_module_version": "1.5.0",
          "state": {
            "_dom_classes": [],
            "_model_module": "@jupyter-widgets/controls",
            "_model_module_version": "1.5.0",
            "_model_name": "FloatProgressModel",
            "_view_count": null,
            "_view_module": "@jupyter-widgets/controls",
            "_view_module_version": "1.5.0",
            "_view_name": "ProgressView",
            "bar_style": "",
            "description": "",
            "description_tooltip": null,
            "layout": "IPY_MODEL_7bc774a7de124a2689ce5a2557deb232",
            "max": 1,
            "min": 0,
            "orientation": "horizontal",
            "style": "IPY_MODEL_4e23c4cc3f50489aa67b1209ea3e4803",
            "value": 1
          }
        },
        "1f08119301f4443ba1b8df0dd99e2546": {
          "model_module": "@jupyter-widgets/base",
          "model_name": "LayoutModel",
          "model_module_version": "1.2.0",
          "state": {
            "_model_module": "@jupyter-widgets/base",
            "_model_module_version": "1.2.0",
            "_model_name": "LayoutModel",
            "_view_count": null,
            "_view_module": "@jupyter-widgets/base",
            "_view_module_version": "1.2.0",
            "_view_name": "LayoutView",
            "align_content": null,
            "align_items": null,
            "align_self": null,
            "border": null,
            "bottom": null,
            "display": null,
            "flex": null,
            "flex_flow": null,
            "grid_area": null,
            "grid_auto_columns": null,
            "grid_auto_flow": null,
            "grid_auto_rows": null,
            "grid_column": null,
            "grid_gap": null,
            "grid_row": null,
            "grid_template_areas": null,
            "grid_template_columns": null,
            "grid_template_rows": null,
            "height": null,
            "justify_content": null,
            "justify_items": null,
            "left": null,
            "margin": null,
            "max_height": null,
            "max_width": null,
            "min_height": null,
            "min_width": null,
            "object_fit": null,
            "object_position": null,
            "order": null,
            "overflow": null,
            "overflow_x": null,
            "overflow_y": null,
            "padding": null,
            "right": null,
            "top": null,
            "visibility": null,
            "width": null
          }
        },
        "24251500809f4549aa5fb5be3748f26c": {
          "model_module": "@jupyter-widgets/base",
          "model_name": "LayoutModel",
          "model_module_version": "1.2.0",
          "state": {
            "_model_module": "@jupyter-widgets/base",
            "_model_module_version": "1.2.0",
            "_model_name": "LayoutModel",
            "_view_count": null,
            "_view_module": "@jupyter-widgets/base",
            "_view_module_version": "1.2.0",
            "_view_name": "LayoutView",
            "align_content": null,
            "align_items": null,
            "align_self": null,
            "border": null,
            "bottom": null,
            "display": null,
            "flex": null,
            "flex_flow": null,
            "grid_area": null,
            "grid_auto_columns": null,
            "grid_auto_flow": null,
            "grid_auto_rows": null,
            "grid_column": null,
            "grid_gap": null,
            "grid_row": null,
            "grid_template_areas": null,
            "grid_template_columns": null,
            "grid_template_rows": null,
            "height": null,
            "justify_content": null,
            "justify_items": null,
            "left": null,
            "margin": null,
            "max_height": null,
            "max_width": null,
            "min_height": null,
            "min_width": null,
            "object_fit": null,
            "object_position": null,
            "order": null,
            "overflow": null,
            "overflow_x": null,
            "overflow_y": null,
            "padding": null,
            "right": null,
            "top": null,
            "visibility": null,
            "width": null
          }
        },
        "4a102554913449d0b53acc0728e38019": {
          "model_module": "@jupyter-widgets/controls",
          "model_name": "DescriptionStyleModel",
          "model_module_version": "1.5.0",
          "state": {
            "_model_module": "@jupyter-widgets/controls",
            "_model_module_version": "1.5.0",
            "_model_name": "DescriptionStyleModel",
            "_view_count": null,
            "_view_module": "@jupyter-widgets/base",
            "_view_module_version": "1.2.0",
            "_view_name": "StyleView",
            "description_width": ""
          }
        },
        "7bc774a7de124a2689ce5a2557deb232": {
          "model_module": "@jupyter-widgets/base",
          "model_name": "LayoutModel",
          "model_module_version": "1.2.0",
          "state": {
            "_model_module": "@jupyter-widgets/base",
            "_model_module_version": "1.2.0",
            "_model_name": "LayoutModel",
            "_view_count": null,
            "_view_module": "@jupyter-widgets/base",
            "_view_module_version": "1.2.0",
            "_view_name": "LayoutView",
            "align_content": null,
            "align_items": null,
            "align_self": null,
            "border": null,
            "bottom": null,
            "display": null,
            "flex": null,
            "flex_flow": null,
            "grid_area": null,
            "grid_auto_columns": null,
            "grid_auto_flow": null,
            "grid_auto_rows": null,
            "grid_column": null,
            "grid_gap": null,
            "grid_row": null,
            "grid_template_areas": null,
            "grid_template_columns": null,
            "grid_template_rows": null,
            "height": null,
            "justify_content": null,
            "justify_items": null,
            "left": null,
            "margin": null,
            "max_height": null,
            "max_width": null,
            "min_height": null,
            "min_width": null,
            "object_fit": null,
            "object_position": null,
            "order": null,
            "overflow": null,
            "overflow_x": null,
            "overflow_y": null,
            "padding": null,
            "right": null,
            "top": null,
            "visibility": null,
            "width": null
          }
        },
        "4e23c4cc3f50489aa67b1209ea3e4803": {
          "model_module": "@jupyter-widgets/controls",
          "model_name": "ProgressStyleModel",
          "model_module_version": "1.5.0",
          "state": {
            "_model_module": "@jupyter-widgets/controls",
            "_model_module_version": "1.5.0",
            "_model_name": "ProgressStyleModel",
            "_view_count": null,
            "_view_module": "@jupyter-widgets/base",
            "_view_module_version": "1.2.0",
            "_view_name": "StyleView",
            "bar_color": null,
            "description_width": ""
          }
        },
        "28ce8d91631a4fe88ed2fc85ef1268a4": {
          "model_module": "@jupyter-widgets/controls",
          "model_name": "VBoxModel",
          "model_module_version": "1.5.0",
          "state": {
            "_dom_classes": [],
            "_model_module": "@jupyter-widgets/controls",
            "_model_module_version": "1.5.0",
            "_model_name": "VBoxModel",
            "_view_count": null,
            "_view_module": "@jupyter-widgets/controls",
            "_view_module_version": "1.5.0",
            "_view_name": "VBoxView",
            "box_style": "",
            "children": [
              "IPY_MODEL_91ec8a27ef6e44d294c1709efb7f33db",
              "IPY_MODEL_709894fde7834f4e87615bc09cd46c58"
            ],
            "layout": "IPY_MODEL_da23849600154a46ba98e80d9261ec54"
          }
        },
        "91ec8a27ef6e44d294c1709efb7f33db": {
          "model_module": "@jupyter-widgets/controls",
          "model_name": "LabelModel",
          "model_module_version": "1.5.0",
          "state": {
            "_dom_classes": [],
            "_model_module": "@jupyter-widgets/controls",
            "_model_module_version": "1.5.0",
            "_model_name": "LabelModel",
            "_view_count": null,
            "_view_module": "@jupyter-widgets/controls",
            "_view_module_version": "1.5.0",
            "_view_name": "LabelView",
            "description": "",
            "description_tooltip": null,
            "layout": "IPY_MODEL_f7fd3ebdf19541cfb02a5ef9d24c9d90",
            "placeholder": "​",
            "style": "IPY_MODEL_0854a11d1d0d483c90c4af91a3b2986c",
            "value": "0.011 MB of 0.011 MB uploaded\r"
          }
        },
        "709894fde7834f4e87615bc09cd46c58": {
          "model_module": "@jupyter-widgets/controls",
          "model_name": "FloatProgressModel",
          "model_module_version": "1.5.0",
          "state": {
            "_dom_classes": [],
            "_model_module": "@jupyter-widgets/controls",
            "_model_module_version": "1.5.0",
            "_model_name": "FloatProgressModel",
            "_view_count": null,
            "_view_module": "@jupyter-widgets/controls",
            "_view_module_version": "1.5.0",
            "_view_name": "ProgressView",
            "bar_style": "",
            "description": "",
            "description_tooltip": null,
            "layout": "IPY_MODEL_10447e3fa9084d66bbdaa273e541b749",
            "max": 1,
            "min": 0,
            "orientation": "horizontal",
            "style": "IPY_MODEL_f207c064c5e54554bf8c37f277b052ef",
            "value": 1
          }
        },
        "da23849600154a46ba98e80d9261ec54": {
          "model_module": "@jupyter-widgets/base",
          "model_name": "LayoutModel",
          "model_module_version": "1.2.0",
          "state": {
            "_model_module": "@jupyter-widgets/base",
            "_model_module_version": "1.2.0",
            "_model_name": "LayoutModel",
            "_view_count": null,
            "_view_module": "@jupyter-widgets/base",
            "_view_module_version": "1.2.0",
            "_view_name": "LayoutView",
            "align_content": null,
            "align_items": null,
            "align_self": null,
            "border": null,
            "bottom": null,
            "display": null,
            "flex": null,
            "flex_flow": null,
            "grid_area": null,
            "grid_auto_columns": null,
            "grid_auto_flow": null,
            "grid_auto_rows": null,
            "grid_column": null,
            "grid_gap": null,
            "grid_row": null,
            "grid_template_areas": null,
            "grid_template_columns": null,
            "grid_template_rows": null,
            "height": null,
            "justify_content": null,
            "justify_items": null,
            "left": null,
            "margin": null,
            "max_height": null,
            "max_width": null,
            "min_height": null,
            "min_width": null,
            "object_fit": null,
            "object_position": null,
            "order": null,
            "overflow": null,
            "overflow_x": null,
            "overflow_y": null,
            "padding": null,
            "right": null,
            "top": null,
            "visibility": null,
            "width": null
          }
        },
        "f7fd3ebdf19541cfb02a5ef9d24c9d90": {
          "model_module": "@jupyter-widgets/base",
          "model_name": "LayoutModel",
          "model_module_version": "1.2.0",
          "state": {
            "_model_module": "@jupyter-widgets/base",
            "_model_module_version": "1.2.0",
            "_model_name": "LayoutModel",
            "_view_count": null,
            "_view_module": "@jupyter-widgets/base",
            "_view_module_version": "1.2.0",
            "_view_name": "LayoutView",
            "align_content": null,
            "align_items": null,
            "align_self": null,
            "border": null,
            "bottom": null,
            "display": null,
            "flex": null,
            "flex_flow": null,
            "grid_area": null,
            "grid_auto_columns": null,
            "grid_auto_flow": null,
            "grid_auto_rows": null,
            "grid_column": null,
            "grid_gap": null,
            "grid_row": null,
            "grid_template_areas": null,
            "grid_template_columns": null,
            "grid_template_rows": null,
            "height": null,
            "justify_content": null,
            "justify_items": null,
            "left": null,
            "margin": null,
            "max_height": null,
            "max_width": null,
            "min_height": null,
            "min_width": null,
            "object_fit": null,
            "object_position": null,
            "order": null,
            "overflow": null,
            "overflow_x": null,
            "overflow_y": null,
            "padding": null,
            "right": null,
            "top": null,
            "visibility": null,
            "width": null
          }
        },
        "0854a11d1d0d483c90c4af91a3b2986c": {
          "model_module": "@jupyter-widgets/controls",
          "model_name": "DescriptionStyleModel",
          "model_module_version": "1.5.0",
          "state": {
            "_model_module": "@jupyter-widgets/controls",
            "_model_module_version": "1.5.0",
            "_model_name": "DescriptionStyleModel",
            "_view_count": null,
            "_view_module": "@jupyter-widgets/base",
            "_view_module_version": "1.2.0",
            "_view_name": "StyleView",
            "description_width": ""
          }
        },
        "10447e3fa9084d66bbdaa273e541b749": {
          "model_module": "@jupyter-widgets/base",
          "model_name": "LayoutModel",
          "model_module_version": "1.2.0",
          "state": {
            "_model_module": "@jupyter-widgets/base",
            "_model_module_version": "1.2.0",
            "_model_name": "LayoutModel",
            "_view_count": null,
            "_view_module": "@jupyter-widgets/base",
            "_view_module_version": "1.2.0",
            "_view_name": "LayoutView",
            "align_content": null,
            "align_items": null,
            "align_self": null,
            "border": null,
            "bottom": null,
            "display": null,
            "flex": null,
            "flex_flow": null,
            "grid_area": null,
            "grid_auto_columns": null,
            "grid_auto_flow": null,
            "grid_auto_rows": null,
            "grid_column": null,
            "grid_gap": null,
            "grid_row": null,
            "grid_template_areas": null,
            "grid_template_columns": null,
            "grid_template_rows": null,
            "height": null,
            "justify_content": null,
            "justify_items": null,
            "left": null,
            "margin": null,
            "max_height": null,
            "max_width": null,
            "min_height": null,
            "min_width": null,
            "object_fit": null,
            "object_position": null,
            "order": null,
            "overflow": null,
            "overflow_x": null,
            "overflow_y": null,
            "padding": null,
            "right": null,
            "top": null,
            "visibility": null,
            "width": null
          }
        },
        "f207c064c5e54554bf8c37f277b052ef": {
          "model_module": "@jupyter-widgets/controls",
          "model_name": "ProgressStyleModel",
          "model_module_version": "1.5.0",
          "state": {
            "_model_module": "@jupyter-widgets/controls",
            "_model_module_version": "1.5.0",
            "_model_name": "ProgressStyleModel",
            "_view_count": null,
            "_view_module": "@jupyter-widgets/base",
            "_view_module_version": "1.2.0",
            "_view_name": "StyleView",
            "bar_color": null,
            "description_width": ""
          }
        },
        "08454cf769ef42e19d6f9974f64b3cf0": {
          "model_module": "@jupyter-widgets/controls",
          "model_name": "VBoxModel",
          "model_module_version": "1.5.0",
          "state": {
            "_dom_classes": [],
            "_model_module": "@jupyter-widgets/controls",
            "_model_module_version": "1.5.0",
            "_model_name": "VBoxModel",
            "_view_count": null,
            "_view_module": "@jupyter-widgets/controls",
            "_view_module_version": "1.5.0",
            "_view_name": "VBoxView",
            "box_style": "",
            "children": [
              "IPY_MODEL_8bccc85245a84ca3a062208f0b1742ea",
              "IPY_MODEL_a2563b8896554fa5a483016f6f7f2d39"
            ],
            "layout": "IPY_MODEL_66ba66bd034144c8add0381d615fecc1"
          }
        },
        "8bccc85245a84ca3a062208f0b1742ea": {
          "model_module": "@jupyter-widgets/controls",
          "model_name": "LabelModel",
          "model_module_version": "1.5.0",
          "state": {
            "_dom_classes": [],
            "_model_module": "@jupyter-widgets/controls",
            "_model_module_version": "1.5.0",
            "_model_name": "LabelModel",
            "_view_count": null,
            "_view_module": "@jupyter-widgets/controls",
            "_view_module_version": "1.5.0",
            "_view_name": "LabelView",
            "description": "",
            "description_tooltip": null,
            "layout": "IPY_MODEL_9cfaa98913814cc892b06c557350cd2a",
            "placeholder": "​",
            "style": "IPY_MODEL_70b658255bfc4e709f041bd515c799d6",
            "value": "0.011 MB of 0.011 MB uploaded\r"
          }
        },
        "a2563b8896554fa5a483016f6f7f2d39": {
          "model_module": "@jupyter-widgets/controls",
          "model_name": "FloatProgressModel",
          "model_module_version": "1.5.0",
          "state": {
            "_dom_classes": [],
            "_model_module": "@jupyter-widgets/controls",
            "_model_module_version": "1.5.0",
            "_model_name": "FloatProgressModel",
            "_view_count": null,
            "_view_module": "@jupyter-widgets/controls",
            "_view_module_version": "1.5.0",
            "_view_name": "ProgressView",
            "bar_style": "",
            "description": "",
            "description_tooltip": null,
            "layout": "IPY_MODEL_08d92958fcd54fe7a45ccd8b535275c4",
            "max": 1,
            "min": 0,
            "orientation": "horizontal",
            "style": "IPY_MODEL_cdbdc242be2d4f1681e713aefff7fd23",
            "value": 1
          }
        },
        "66ba66bd034144c8add0381d615fecc1": {
          "model_module": "@jupyter-widgets/base",
          "model_name": "LayoutModel",
          "model_module_version": "1.2.0",
          "state": {
            "_model_module": "@jupyter-widgets/base",
            "_model_module_version": "1.2.0",
            "_model_name": "LayoutModel",
            "_view_count": null,
            "_view_module": "@jupyter-widgets/base",
            "_view_module_version": "1.2.0",
            "_view_name": "LayoutView",
            "align_content": null,
            "align_items": null,
            "align_self": null,
            "border": null,
            "bottom": null,
            "display": null,
            "flex": null,
            "flex_flow": null,
            "grid_area": null,
            "grid_auto_columns": null,
            "grid_auto_flow": null,
            "grid_auto_rows": null,
            "grid_column": null,
            "grid_gap": null,
            "grid_row": null,
            "grid_template_areas": null,
            "grid_template_columns": null,
            "grid_template_rows": null,
            "height": null,
            "justify_content": null,
            "justify_items": null,
            "left": null,
            "margin": null,
            "max_height": null,
            "max_width": null,
            "min_height": null,
            "min_width": null,
            "object_fit": null,
            "object_position": null,
            "order": null,
            "overflow": null,
            "overflow_x": null,
            "overflow_y": null,
            "padding": null,
            "right": null,
            "top": null,
            "visibility": null,
            "width": null
          }
        },
        "9cfaa98913814cc892b06c557350cd2a": {
          "model_module": "@jupyter-widgets/base",
          "model_name": "LayoutModel",
          "model_module_version": "1.2.0",
          "state": {
            "_model_module": "@jupyter-widgets/base",
            "_model_module_version": "1.2.0",
            "_model_name": "LayoutModel",
            "_view_count": null,
            "_view_module": "@jupyter-widgets/base",
            "_view_module_version": "1.2.0",
            "_view_name": "LayoutView",
            "align_content": null,
            "align_items": null,
            "align_self": null,
            "border": null,
            "bottom": null,
            "display": null,
            "flex": null,
            "flex_flow": null,
            "grid_area": null,
            "grid_auto_columns": null,
            "grid_auto_flow": null,
            "grid_auto_rows": null,
            "grid_column": null,
            "grid_gap": null,
            "grid_row": null,
            "grid_template_areas": null,
            "grid_template_columns": null,
            "grid_template_rows": null,
            "height": null,
            "justify_content": null,
            "justify_items": null,
            "left": null,
            "margin": null,
            "max_height": null,
            "max_width": null,
            "min_height": null,
            "min_width": null,
            "object_fit": null,
            "object_position": null,
            "order": null,
            "overflow": null,
            "overflow_x": null,
            "overflow_y": null,
            "padding": null,
            "right": null,
            "top": null,
            "visibility": null,
            "width": null
          }
        },
        "70b658255bfc4e709f041bd515c799d6": {
          "model_module": "@jupyter-widgets/controls",
          "model_name": "DescriptionStyleModel",
          "model_module_version": "1.5.0",
          "state": {
            "_model_module": "@jupyter-widgets/controls",
            "_model_module_version": "1.5.0",
            "_model_name": "DescriptionStyleModel",
            "_view_count": null,
            "_view_module": "@jupyter-widgets/base",
            "_view_module_version": "1.2.0",
            "_view_name": "StyleView",
            "description_width": ""
          }
        },
        "08d92958fcd54fe7a45ccd8b535275c4": {
          "model_module": "@jupyter-widgets/base",
          "model_name": "LayoutModel",
          "model_module_version": "1.2.0",
          "state": {
            "_model_module": "@jupyter-widgets/base",
            "_model_module_version": "1.2.0",
            "_model_name": "LayoutModel",
            "_view_count": null,
            "_view_module": "@jupyter-widgets/base",
            "_view_module_version": "1.2.0",
            "_view_name": "LayoutView",
            "align_content": null,
            "align_items": null,
            "align_self": null,
            "border": null,
            "bottom": null,
            "display": null,
            "flex": null,
            "flex_flow": null,
            "grid_area": null,
            "grid_auto_columns": null,
            "grid_auto_flow": null,
            "grid_auto_rows": null,
            "grid_column": null,
            "grid_gap": null,
            "grid_row": null,
            "grid_template_areas": null,
            "grid_template_columns": null,
            "grid_template_rows": null,
            "height": null,
            "justify_content": null,
            "justify_items": null,
            "left": null,
            "margin": null,
            "max_height": null,
            "max_width": null,
            "min_height": null,
            "min_width": null,
            "object_fit": null,
            "object_position": null,
            "order": null,
            "overflow": null,
            "overflow_x": null,
            "overflow_y": null,
            "padding": null,
            "right": null,
            "top": null,
            "visibility": null,
            "width": null
          }
        },
        "cdbdc242be2d4f1681e713aefff7fd23": {
          "model_module": "@jupyter-widgets/controls",
          "model_name": "ProgressStyleModel",
          "model_module_version": "1.5.0",
          "state": {
            "_model_module": "@jupyter-widgets/controls",
            "_model_module_version": "1.5.0",
            "_model_name": "ProgressStyleModel",
            "_view_count": null,
            "_view_module": "@jupyter-widgets/base",
            "_view_module_version": "1.2.0",
            "_view_name": "StyleView",
            "bar_color": null,
            "description_width": ""
          }
        },
        "151d76d86abd4a6589390be0327bff47": {
          "model_module": "@jupyter-widgets/controls",
          "model_name": "VBoxModel",
          "model_module_version": "1.5.0",
          "state": {
            "_dom_classes": [],
            "_model_module": "@jupyter-widgets/controls",
            "_model_module_version": "1.5.0",
            "_model_name": "VBoxModel",
            "_view_count": null,
            "_view_module": "@jupyter-widgets/controls",
            "_view_module_version": "1.5.0",
            "_view_name": "VBoxView",
            "box_style": "",
            "children": [
              "IPY_MODEL_ad9ff84c951842afb08b76c69a411927",
              "IPY_MODEL_a653dfa9ec15440097a484b6e3c23094"
            ],
            "layout": "IPY_MODEL_a02f1706118d41b88c0035df4b53f5bb"
          }
        },
        "ad9ff84c951842afb08b76c69a411927": {
          "model_module": "@jupyter-widgets/controls",
          "model_name": "LabelModel",
          "model_module_version": "1.5.0",
          "state": {
            "_dom_classes": [],
            "_model_module": "@jupyter-widgets/controls",
            "_model_module_version": "1.5.0",
            "_model_name": "LabelModel",
            "_view_count": null,
            "_view_module": "@jupyter-widgets/controls",
            "_view_module_version": "1.5.0",
            "_view_name": "LabelView",
            "description": "",
            "description_tooltip": null,
            "layout": "IPY_MODEL_1fd14708be3740198f3c676a98bb17e5",
            "placeholder": "​",
            "style": "IPY_MODEL_5dd39ec09df5474b8b550c2e8a017d87",
            "value": "0.013 MB of 0.013 MB uploaded\r"
          }
        },
        "a653dfa9ec15440097a484b6e3c23094": {
          "model_module": "@jupyter-widgets/controls",
          "model_name": "FloatProgressModel",
          "model_module_version": "1.5.0",
          "state": {
            "_dom_classes": [],
            "_model_module": "@jupyter-widgets/controls",
            "_model_module_version": "1.5.0",
            "_model_name": "FloatProgressModel",
            "_view_count": null,
            "_view_module": "@jupyter-widgets/controls",
            "_view_module_version": "1.5.0",
            "_view_name": "ProgressView",
            "bar_style": "",
            "description": "",
            "description_tooltip": null,
            "layout": "IPY_MODEL_2ddb563870d149ee94997f2c349f9b16",
            "max": 1,
            "min": 0,
            "orientation": "horizontal",
            "style": "IPY_MODEL_465f49c8929d4ddca114137c724f02dc",
            "value": 1
          }
        },
        "a02f1706118d41b88c0035df4b53f5bb": {
          "model_module": "@jupyter-widgets/base",
          "model_name": "LayoutModel",
          "model_module_version": "1.2.0",
          "state": {
            "_model_module": "@jupyter-widgets/base",
            "_model_module_version": "1.2.0",
            "_model_name": "LayoutModel",
            "_view_count": null,
            "_view_module": "@jupyter-widgets/base",
            "_view_module_version": "1.2.0",
            "_view_name": "LayoutView",
            "align_content": null,
            "align_items": null,
            "align_self": null,
            "border": null,
            "bottom": null,
            "display": null,
            "flex": null,
            "flex_flow": null,
            "grid_area": null,
            "grid_auto_columns": null,
            "grid_auto_flow": null,
            "grid_auto_rows": null,
            "grid_column": null,
            "grid_gap": null,
            "grid_row": null,
            "grid_template_areas": null,
            "grid_template_columns": null,
            "grid_template_rows": null,
            "height": null,
            "justify_content": null,
            "justify_items": null,
            "left": null,
            "margin": null,
            "max_height": null,
            "max_width": null,
            "min_height": null,
            "min_width": null,
            "object_fit": null,
            "object_position": null,
            "order": null,
            "overflow": null,
            "overflow_x": null,
            "overflow_y": null,
            "padding": null,
            "right": null,
            "top": null,
            "visibility": null,
            "width": null
          }
        },
        "1fd14708be3740198f3c676a98bb17e5": {
          "model_module": "@jupyter-widgets/base",
          "model_name": "LayoutModel",
          "model_module_version": "1.2.0",
          "state": {
            "_model_module": "@jupyter-widgets/base",
            "_model_module_version": "1.2.0",
            "_model_name": "LayoutModel",
            "_view_count": null,
            "_view_module": "@jupyter-widgets/base",
            "_view_module_version": "1.2.0",
            "_view_name": "LayoutView",
            "align_content": null,
            "align_items": null,
            "align_self": null,
            "border": null,
            "bottom": null,
            "display": null,
            "flex": null,
            "flex_flow": null,
            "grid_area": null,
            "grid_auto_columns": null,
            "grid_auto_flow": null,
            "grid_auto_rows": null,
            "grid_column": null,
            "grid_gap": null,
            "grid_row": null,
            "grid_template_areas": null,
            "grid_template_columns": null,
            "grid_template_rows": null,
            "height": null,
            "justify_content": null,
            "justify_items": null,
            "left": null,
            "margin": null,
            "max_height": null,
            "max_width": null,
            "min_height": null,
            "min_width": null,
            "object_fit": null,
            "object_position": null,
            "order": null,
            "overflow": null,
            "overflow_x": null,
            "overflow_y": null,
            "padding": null,
            "right": null,
            "top": null,
            "visibility": null,
            "width": null
          }
        },
        "5dd39ec09df5474b8b550c2e8a017d87": {
          "model_module": "@jupyter-widgets/controls",
          "model_name": "DescriptionStyleModel",
          "model_module_version": "1.5.0",
          "state": {
            "_model_module": "@jupyter-widgets/controls",
            "_model_module_version": "1.5.0",
            "_model_name": "DescriptionStyleModel",
            "_view_count": null,
            "_view_module": "@jupyter-widgets/base",
            "_view_module_version": "1.2.0",
            "_view_name": "StyleView",
            "description_width": ""
          }
        },
        "2ddb563870d149ee94997f2c349f9b16": {
          "model_module": "@jupyter-widgets/base",
          "model_name": "LayoutModel",
          "model_module_version": "1.2.0",
          "state": {
            "_model_module": "@jupyter-widgets/base",
            "_model_module_version": "1.2.0",
            "_model_name": "LayoutModel",
            "_view_count": null,
            "_view_module": "@jupyter-widgets/base",
            "_view_module_version": "1.2.0",
            "_view_name": "LayoutView",
            "align_content": null,
            "align_items": null,
            "align_self": null,
            "border": null,
            "bottom": null,
            "display": null,
            "flex": null,
            "flex_flow": null,
            "grid_area": null,
            "grid_auto_columns": null,
            "grid_auto_flow": null,
            "grid_auto_rows": null,
            "grid_column": null,
            "grid_gap": null,
            "grid_row": null,
            "grid_template_areas": null,
            "grid_template_columns": null,
            "grid_template_rows": null,
            "height": null,
            "justify_content": null,
            "justify_items": null,
            "left": null,
            "margin": null,
            "max_height": null,
            "max_width": null,
            "min_height": null,
            "min_width": null,
            "object_fit": null,
            "object_position": null,
            "order": null,
            "overflow": null,
            "overflow_x": null,
            "overflow_y": null,
            "padding": null,
            "right": null,
            "top": null,
            "visibility": null,
            "width": null
          }
        },
        "465f49c8929d4ddca114137c724f02dc": {
          "model_module": "@jupyter-widgets/controls",
          "model_name": "ProgressStyleModel",
          "model_module_version": "1.5.0",
          "state": {
            "_model_module": "@jupyter-widgets/controls",
            "_model_module_version": "1.5.0",
            "_model_name": "ProgressStyleModel",
            "_view_count": null,
            "_view_module": "@jupyter-widgets/base",
            "_view_module_version": "1.2.0",
            "_view_name": "StyleView",
            "bar_color": null,
            "description_width": ""
          }
        },
        "cff5e4d5fdb0417581b2375bf04cb223": {
          "model_module": "@jupyter-widgets/controls",
          "model_name": "VBoxModel",
          "model_module_version": "1.5.0",
          "state": {
            "_dom_classes": [],
            "_model_module": "@jupyter-widgets/controls",
            "_model_module_version": "1.5.0",
            "_model_name": "VBoxModel",
            "_view_count": null,
            "_view_module": "@jupyter-widgets/controls",
            "_view_module_version": "1.5.0",
            "_view_name": "VBoxView",
            "box_style": "",
            "children": [
              "IPY_MODEL_563a57ba1b2a4956a98cde6fccb01a43",
              "IPY_MODEL_d0e344efe0ef4bb0ab3bc412421aca69"
            ],
            "layout": "IPY_MODEL_7a4629d5650a41d4b796d30628810864"
          }
        },
        "563a57ba1b2a4956a98cde6fccb01a43": {
          "model_module": "@jupyter-widgets/controls",
          "model_name": "LabelModel",
          "model_module_version": "1.5.0",
          "state": {
            "_dom_classes": [],
            "_model_module": "@jupyter-widgets/controls",
            "_model_module_version": "1.5.0",
            "_model_name": "LabelModel",
            "_view_count": null,
            "_view_module": "@jupyter-widgets/controls",
            "_view_module_version": "1.5.0",
            "_view_name": "LabelView",
            "description": "",
            "description_tooltip": null,
            "layout": "IPY_MODEL_7c56c7f23b92405aaf27f8c73c83e11a",
            "placeholder": "​",
            "style": "IPY_MODEL_2358a3f1e79e4699948c621c2789dac6",
            "value": "0.011 MB of 0.011 MB uploaded\r"
          }
        },
        "d0e344efe0ef4bb0ab3bc412421aca69": {
          "model_module": "@jupyter-widgets/controls",
          "model_name": "FloatProgressModel",
          "model_module_version": "1.5.0",
          "state": {
            "_dom_classes": [],
            "_model_module": "@jupyter-widgets/controls",
            "_model_module_version": "1.5.0",
            "_model_name": "FloatProgressModel",
            "_view_count": null,
            "_view_module": "@jupyter-widgets/controls",
            "_view_module_version": "1.5.0",
            "_view_name": "ProgressView",
            "bar_style": "",
            "description": "",
            "description_tooltip": null,
            "layout": "IPY_MODEL_e3f2a454dc504530b582c4fca0c19c81",
            "max": 1,
            "min": 0,
            "orientation": "horizontal",
            "style": "IPY_MODEL_cbc86254e3b942ca97332d76161ee330",
            "value": 1
          }
        },
        "7a4629d5650a41d4b796d30628810864": {
          "model_module": "@jupyter-widgets/base",
          "model_name": "LayoutModel",
          "model_module_version": "1.2.0",
          "state": {
            "_model_module": "@jupyter-widgets/base",
            "_model_module_version": "1.2.0",
            "_model_name": "LayoutModel",
            "_view_count": null,
            "_view_module": "@jupyter-widgets/base",
            "_view_module_version": "1.2.0",
            "_view_name": "LayoutView",
            "align_content": null,
            "align_items": null,
            "align_self": null,
            "border": null,
            "bottom": null,
            "display": null,
            "flex": null,
            "flex_flow": null,
            "grid_area": null,
            "grid_auto_columns": null,
            "grid_auto_flow": null,
            "grid_auto_rows": null,
            "grid_column": null,
            "grid_gap": null,
            "grid_row": null,
            "grid_template_areas": null,
            "grid_template_columns": null,
            "grid_template_rows": null,
            "height": null,
            "justify_content": null,
            "justify_items": null,
            "left": null,
            "margin": null,
            "max_height": null,
            "max_width": null,
            "min_height": null,
            "min_width": null,
            "object_fit": null,
            "object_position": null,
            "order": null,
            "overflow": null,
            "overflow_x": null,
            "overflow_y": null,
            "padding": null,
            "right": null,
            "top": null,
            "visibility": null,
            "width": null
          }
        },
        "7c56c7f23b92405aaf27f8c73c83e11a": {
          "model_module": "@jupyter-widgets/base",
          "model_name": "LayoutModel",
          "model_module_version": "1.2.0",
          "state": {
            "_model_module": "@jupyter-widgets/base",
            "_model_module_version": "1.2.0",
            "_model_name": "LayoutModel",
            "_view_count": null,
            "_view_module": "@jupyter-widgets/base",
            "_view_module_version": "1.2.0",
            "_view_name": "LayoutView",
            "align_content": null,
            "align_items": null,
            "align_self": null,
            "border": null,
            "bottom": null,
            "display": null,
            "flex": null,
            "flex_flow": null,
            "grid_area": null,
            "grid_auto_columns": null,
            "grid_auto_flow": null,
            "grid_auto_rows": null,
            "grid_column": null,
            "grid_gap": null,
            "grid_row": null,
            "grid_template_areas": null,
            "grid_template_columns": null,
            "grid_template_rows": null,
            "height": null,
            "justify_content": null,
            "justify_items": null,
            "left": null,
            "margin": null,
            "max_height": null,
            "max_width": null,
            "min_height": null,
            "min_width": null,
            "object_fit": null,
            "object_position": null,
            "order": null,
            "overflow": null,
            "overflow_x": null,
            "overflow_y": null,
            "padding": null,
            "right": null,
            "top": null,
            "visibility": null,
            "width": null
          }
        },
        "2358a3f1e79e4699948c621c2789dac6": {
          "model_module": "@jupyter-widgets/controls",
          "model_name": "DescriptionStyleModel",
          "model_module_version": "1.5.0",
          "state": {
            "_model_module": "@jupyter-widgets/controls",
            "_model_module_version": "1.5.0",
            "_model_name": "DescriptionStyleModel",
            "_view_count": null,
            "_view_module": "@jupyter-widgets/base",
            "_view_module_version": "1.2.0",
            "_view_name": "StyleView",
            "description_width": ""
          }
        },
        "e3f2a454dc504530b582c4fca0c19c81": {
          "model_module": "@jupyter-widgets/base",
          "model_name": "LayoutModel",
          "model_module_version": "1.2.0",
          "state": {
            "_model_module": "@jupyter-widgets/base",
            "_model_module_version": "1.2.0",
            "_model_name": "LayoutModel",
            "_view_count": null,
            "_view_module": "@jupyter-widgets/base",
            "_view_module_version": "1.2.0",
            "_view_name": "LayoutView",
            "align_content": null,
            "align_items": null,
            "align_self": null,
            "border": null,
            "bottom": null,
            "display": null,
            "flex": null,
            "flex_flow": null,
            "grid_area": null,
            "grid_auto_columns": null,
            "grid_auto_flow": null,
            "grid_auto_rows": null,
            "grid_column": null,
            "grid_gap": null,
            "grid_row": null,
            "grid_template_areas": null,
            "grid_template_columns": null,
            "grid_template_rows": null,
            "height": null,
            "justify_content": null,
            "justify_items": null,
            "left": null,
            "margin": null,
            "max_height": null,
            "max_width": null,
            "min_height": null,
            "min_width": null,
            "object_fit": null,
            "object_position": null,
            "order": null,
            "overflow": null,
            "overflow_x": null,
            "overflow_y": null,
            "padding": null,
            "right": null,
            "top": null,
            "visibility": null,
            "width": null
          }
        },
        "cbc86254e3b942ca97332d76161ee330": {
          "model_module": "@jupyter-widgets/controls",
          "model_name": "ProgressStyleModel",
          "model_module_version": "1.5.0",
          "state": {
            "_model_module": "@jupyter-widgets/controls",
            "_model_module_version": "1.5.0",
            "_model_name": "ProgressStyleModel",
            "_view_count": null,
            "_view_module": "@jupyter-widgets/base",
            "_view_module_version": "1.2.0",
            "_view_name": "StyleView",
            "bar_color": null,
            "description_width": ""
          }
        },
        "5571d9b37c1e4ec4a38065b903ee4ebb": {
          "model_module": "@jupyter-widgets/controls",
          "model_name": "VBoxModel",
          "model_module_version": "1.5.0",
          "state": {
            "_dom_classes": [],
            "_model_module": "@jupyter-widgets/controls",
            "_model_module_version": "1.5.0",
            "_model_name": "VBoxModel",
            "_view_count": null,
            "_view_module": "@jupyter-widgets/controls",
            "_view_module_version": "1.5.0",
            "_view_name": "VBoxView",
            "box_style": "",
            "children": [
              "IPY_MODEL_f1c47355e436437683303097855597db",
              "IPY_MODEL_20324176aea04c0490fc54d9a150bc54"
            ],
            "layout": "IPY_MODEL_7cb620623bab442f9611655153c51688"
          }
        },
        "f1c47355e436437683303097855597db": {
          "model_module": "@jupyter-widgets/controls",
          "model_name": "LabelModel",
          "model_module_version": "1.5.0",
          "state": {
            "_dom_classes": [],
            "_model_module": "@jupyter-widgets/controls",
            "_model_module_version": "1.5.0",
            "_model_name": "LabelModel",
            "_view_count": null,
            "_view_module": "@jupyter-widgets/controls",
            "_view_module_version": "1.5.0",
            "_view_name": "LabelView",
            "description": "",
            "description_tooltip": null,
            "layout": "IPY_MODEL_a2e38d8f999c421c871657fb1a66144b",
            "placeholder": "​",
            "style": "IPY_MODEL_6938071e29a142a9b7a5bd204b7fa27a",
            "value": "0.011 MB of 0.011 MB uploaded\r"
          }
        },
        "20324176aea04c0490fc54d9a150bc54": {
          "model_module": "@jupyter-widgets/controls",
          "model_name": "FloatProgressModel",
          "model_module_version": "1.5.0",
          "state": {
            "_dom_classes": [],
            "_model_module": "@jupyter-widgets/controls",
            "_model_module_version": "1.5.0",
            "_model_name": "FloatProgressModel",
            "_view_count": null,
            "_view_module": "@jupyter-widgets/controls",
            "_view_module_version": "1.5.0",
            "_view_name": "ProgressView",
            "bar_style": "",
            "description": "",
            "description_tooltip": null,
            "layout": "IPY_MODEL_b27353db31f44977a4f5f62d89cdabc2",
            "max": 1,
            "min": 0,
            "orientation": "horizontal",
            "style": "IPY_MODEL_d27886b69e534e37a551c8688dcf54a7",
            "value": 1
          }
        },
        "7cb620623bab442f9611655153c51688": {
          "model_module": "@jupyter-widgets/base",
          "model_name": "LayoutModel",
          "model_module_version": "1.2.0",
          "state": {
            "_model_module": "@jupyter-widgets/base",
            "_model_module_version": "1.2.0",
            "_model_name": "LayoutModel",
            "_view_count": null,
            "_view_module": "@jupyter-widgets/base",
            "_view_module_version": "1.2.0",
            "_view_name": "LayoutView",
            "align_content": null,
            "align_items": null,
            "align_self": null,
            "border": null,
            "bottom": null,
            "display": null,
            "flex": null,
            "flex_flow": null,
            "grid_area": null,
            "grid_auto_columns": null,
            "grid_auto_flow": null,
            "grid_auto_rows": null,
            "grid_column": null,
            "grid_gap": null,
            "grid_row": null,
            "grid_template_areas": null,
            "grid_template_columns": null,
            "grid_template_rows": null,
            "height": null,
            "justify_content": null,
            "justify_items": null,
            "left": null,
            "margin": null,
            "max_height": null,
            "max_width": null,
            "min_height": null,
            "min_width": null,
            "object_fit": null,
            "object_position": null,
            "order": null,
            "overflow": null,
            "overflow_x": null,
            "overflow_y": null,
            "padding": null,
            "right": null,
            "top": null,
            "visibility": null,
            "width": null
          }
        },
        "a2e38d8f999c421c871657fb1a66144b": {
          "model_module": "@jupyter-widgets/base",
          "model_name": "LayoutModel",
          "model_module_version": "1.2.0",
          "state": {
            "_model_module": "@jupyter-widgets/base",
            "_model_module_version": "1.2.0",
            "_model_name": "LayoutModel",
            "_view_count": null,
            "_view_module": "@jupyter-widgets/base",
            "_view_module_version": "1.2.0",
            "_view_name": "LayoutView",
            "align_content": null,
            "align_items": null,
            "align_self": null,
            "border": null,
            "bottom": null,
            "display": null,
            "flex": null,
            "flex_flow": null,
            "grid_area": null,
            "grid_auto_columns": null,
            "grid_auto_flow": null,
            "grid_auto_rows": null,
            "grid_column": null,
            "grid_gap": null,
            "grid_row": null,
            "grid_template_areas": null,
            "grid_template_columns": null,
            "grid_template_rows": null,
            "height": null,
            "justify_content": null,
            "justify_items": null,
            "left": null,
            "margin": null,
            "max_height": null,
            "max_width": null,
            "min_height": null,
            "min_width": null,
            "object_fit": null,
            "object_position": null,
            "order": null,
            "overflow": null,
            "overflow_x": null,
            "overflow_y": null,
            "padding": null,
            "right": null,
            "top": null,
            "visibility": null,
            "width": null
          }
        },
        "6938071e29a142a9b7a5bd204b7fa27a": {
          "model_module": "@jupyter-widgets/controls",
          "model_name": "DescriptionStyleModel",
          "model_module_version": "1.5.0",
          "state": {
            "_model_module": "@jupyter-widgets/controls",
            "_model_module_version": "1.5.0",
            "_model_name": "DescriptionStyleModel",
            "_view_count": null,
            "_view_module": "@jupyter-widgets/base",
            "_view_module_version": "1.2.0",
            "_view_name": "StyleView",
            "description_width": ""
          }
        },
        "b27353db31f44977a4f5f62d89cdabc2": {
          "model_module": "@jupyter-widgets/base",
          "model_name": "LayoutModel",
          "model_module_version": "1.2.0",
          "state": {
            "_model_module": "@jupyter-widgets/base",
            "_model_module_version": "1.2.0",
            "_model_name": "LayoutModel",
            "_view_count": null,
            "_view_module": "@jupyter-widgets/base",
            "_view_module_version": "1.2.0",
            "_view_name": "LayoutView",
            "align_content": null,
            "align_items": null,
            "align_self": null,
            "border": null,
            "bottom": null,
            "display": null,
            "flex": null,
            "flex_flow": null,
            "grid_area": null,
            "grid_auto_columns": null,
            "grid_auto_flow": null,
            "grid_auto_rows": null,
            "grid_column": null,
            "grid_gap": null,
            "grid_row": null,
            "grid_template_areas": null,
            "grid_template_columns": null,
            "grid_template_rows": null,
            "height": null,
            "justify_content": null,
            "justify_items": null,
            "left": null,
            "margin": null,
            "max_height": null,
            "max_width": null,
            "min_height": null,
            "min_width": null,
            "object_fit": null,
            "object_position": null,
            "order": null,
            "overflow": null,
            "overflow_x": null,
            "overflow_y": null,
            "padding": null,
            "right": null,
            "top": null,
            "visibility": null,
            "width": null
          }
        },
        "d27886b69e534e37a551c8688dcf54a7": {
          "model_module": "@jupyter-widgets/controls",
          "model_name": "ProgressStyleModel",
          "model_module_version": "1.5.0",
          "state": {
            "_model_module": "@jupyter-widgets/controls",
            "_model_module_version": "1.5.0",
            "_model_name": "ProgressStyleModel",
            "_view_count": null,
            "_view_module": "@jupyter-widgets/base",
            "_view_module_version": "1.2.0",
            "_view_name": "StyleView",
            "bar_color": null,
            "description_width": ""
          }
        },
        "3169ea307e7c4e5f913315097eff7ff6": {
          "model_module": "@jupyter-widgets/controls",
          "model_name": "VBoxModel",
          "model_module_version": "1.5.0",
          "state": {
            "_dom_classes": [],
            "_model_module": "@jupyter-widgets/controls",
            "_model_module_version": "1.5.0",
            "_model_name": "VBoxModel",
            "_view_count": null,
            "_view_module": "@jupyter-widgets/controls",
            "_view_module_version": "1.5.0",
            "_view_name": "VBoxView",
            "box_style": "",
            "children": [
              "IPY_MODEL_916dae22ab5d4aff88d8a2265102f6b6",
              "IPY_MODEL_832ac29ecbb649429f82791cf6c6c513"
            ],
            "layout": "IPY_MODEL_e3235606da7c4d1b9725fac096ed9602"
          }
        },
        "916dae22ab5d4aff88d8a2265102f6b6": {
          "model_module": "@jupyter-widgets/controls",
          "model_name": "LabelModel",
          "model_module_version": "1.5.0",
          "state": {
            "_dom_classes": [],
            "_model_module": "@jupyter-widgets/controls",
            "_model_module_version": "1.5.0",
            "_model_name": "LabelModel",
            "_view_count": null,
            "_view_module": "@jupyter-widgets/controls",
            "_view_module_version": "1.5.0",
            "_view_name": "LabelView",
            "description": "",
            "description_tooltip": null,
            "layout": "IPY_MODEL_a7faff95660542daa3199e8c19e16897",
            "placeholder": "​",
            "style": "IPY_MODEL_a0efec34408448a08d7cf056be1df082",
            "value": "0.013 MB of 0.013 MB uploaded\r"
          }
        },
        "832ac29ecbb649429f82791cf6c6c513": {
          "model_module": "@jupyter-widgets/controls",
          "model_name": "FloatProgressModel",
          "model_module_version": "1.5.0",
          "state": {
            "_dom_classes": [],
            "_model_module": "@jupyter-widgets/controls",
            "_model_module_version": "1.5.0",
            "_model_name": "FloatProgressModel",
            "_view_count": null,
            "_view_module": "@jupyter-widgets/controls",
            "_view_module_version": "1.5.0",
            "_view_name": "ProgressView",
            "bar_style": "",
            "description": "",
            "description_tooltip": null,
            "layout": "IPY_MODEL_a63b04758b6349b1979300b916b470be",
            "max": 1,
            "min": 0,
            "orientation": "horizontal",
            "style": "IPY_MODEL_9ace1862ac3e4e9e960f42432639d26c",
            "value": 1
          }
        },
        "e3235606da7c4d1b9725fac096ed9602": {
          "model_module": "@jupyter-widgets/base",
          "model_name": "LayoutModel",
          "model_module_version": "1.2.0",
          "state": {
            "_model_module": "@jupyter-widgets/base",
            "_model_module_version": "1.2.0",
            "_model_name": "LayoutModel",
            "_view_count": null,
            "_view_module": "@jupyter-widgets/base",
            "_view_module_version": "1.2.0",
            "_view_name": "LayoutView",
            "align_content": null,
            "align_items": null,
            "align_self": null,
            "border": null,
            "bottom": null,
            "display": null,
            "flex": null,
            "flex_flow": null,
            "grid_area": null,
            "grid_auto_columns": null,
            "grid_auto_flow": null,
            "grid_auto_rows": null,
            "grid_column": null,
            "grid_gap": null,
            "grid_row": null,
            "grid_template_areas": null,
            "grid_template_columns": null,
            "grid_template_rows": null,
            "height": null,
            "justify_content": null,
            "justify_items": null,
            "left": null,
            "margin": null,
            "max_height": null,
            "max_width": null,
            "min_height": null,
            "min_width": null,
            "object_fit": null,
            "object_position": null,
            "order": null,
            "overflow": null,
            "overflow_x": null,
            "overflow_y": null,
            "padding": null,
            "right": null,
            "top": null,
            "visibility": null,
            "width": null
          }
        },
        "a7faff95660542daa3199e8c19e16897": {
          "model_module": "@jupyter-widgets/base",
          "model_name": "LayoutModel",
          "model_module_version": "1.2.0",
          "state": {
            "_model_module": "@jupyter-widgets/base",
            "_model_module_version": "1.2.0",
            "_model_name": "LayoutModel",
            "_view_count": null,
            "_view_module": "@jupyter-widgets/base",
            "_view_module_version": "1.2.0",
            "_view_name": "LayoutView",
            "align_content": null,
            "align_items": null,
            "align_self": null,
            "border": null,
            "bottom": null,
            "display": null,
            "flex": null,
            "flex_flow": null,
            "grid_area": null,
            "grid_auto_columns": null,
            "grid_auto_flow": null,
            "grid_auto_rows": null,
            "grid_column": null,
            "grid_gap": null,
            "grid_row": null,
            "grid_template_areas": null,
            "grid_template_columns": null,
            "grid_template_rows": null,
            "height": null,
            "justify_content": null,
            "justify_items": null,
            "left": null,
            "margin": null,
            "max_height": null,
            "max_width": null,
            "min_height": null,
            "min_width": null,
            "object_fit": null,
            "object_position": null,
            "order": null,
            "overflow": null,
            "overflow_x": null,
            "overflow_y": null,
            "padding": null,
            "right": null,
            "top": null,
            "visibility": null,
            "width": null
          }
        },
        "a0efec34408448a08d7cf056be1df082": {
          "model_module": "@jupyter-widgets/controls",
          "model_name": "DescriptionStyleModel",
          "model_module_version": "1.5.0",
          "state": {
            "_model_module": "@jupyter-widgets/controls",
            "_model_module_version": "1.5.0",
            "_model_name": "DescriptionStyleModel",
            "_view_count": null,
            "_view_module": "@jupyter-widgets/base",
            "_view_module_version": "1.2.0",
            "_view_name": "StyleView",
            "description_width": ""
          }
        },
        "a63b04758b6349b1979300b916b470be": {
          "model_module": "@jupyter-widgets/base",
          "model_name": "LayoutModel",
          "model_module_version": "1.2.0",
          "state": {
            "_model_module": "@jupyter-widgets/base",
            "_model_module_version": "1.2.0",
            "_model_name": "LayoutModel",
            "_view_count": null,
            "_view_module": "@jupyter-widgets/base",
            "_view_module_version": "1.2.0",
            "_view_name": "LayoutView",
            "align_content": null,
            "align_items": null,
            "align_self": null,
            "border": null,
            "bottom": null,
            "display": null,
            "flex": null,
            "flex_flow": null,
            "grid_area": null,
            "grid_auto_columns": null,
            "grid_auto_flow": null,
            "grid_auto_rows": null,
            "grid_column": null,
            "grid_gap": null,
            "grid_row": null,
            "grid_template_areas": null,
            "grid_template_columns": null,
            "grid_template_rows": null,
            "height": null,
            "justify_content": null,
            "justify_items": null,
            "left": null,
            "margin": null,
            "max_height": null,
            "max_width": null,
            "min_height": null,
            "min_width": null,
            "object_fit": null,
            "object_position": null,
            "order": null,
            "overflow": null,
            "overflow_x": null,
            "overflow_y": null,
            "padding": null,
            "right": null,
            "top": null,
            "visibility": null,
            "width": null
          }
        },
        "9ace1862ac3e4e9e960f42432639d26c": {
          "model_module": "@jupyter-widgets/controls",
          "model_name": "ProgressStyleModel",
          "model_module_version": "1.5.0",
          "state": {
            "_model_module": "@jupyter-widgets/controls",
            "_model_module_version": "1.5.0",
            "_model_name": "ProgressStyleModel",
            "_view_count": null,
            "_view_module": "@jupyter-widgets/base",
            "_view_module_version": "1.2.0",
            "_view_name": "StyleView",
            "bar_color": null,
            "description_width": ""
          }
        },
        "3eb7ddffe5cd473f828a2e833b2a7ca2": {
          "model_module": "@jupyter-widgets/controls",
          "model_name": "VBoxModel",
          "model_module_version": "1.5.0",
          "state": {
            "_dom_classes": [],
            "_model_module": "@jupyter-widgets/controls",
            "_model_module_version": "1.5.0",
            "_model_name": "VBoxModel",
            "_view_count": null,
            "_view_module": "@jupyter-widgets/controls",
            "_view_module_version": "1.5.0",
            "_view_name": "VBoxView",
            "box_style": "",
            "children": [
              "IPY_MODEL_d82f3e8b5092459ab44e9a13d9865b70",
              "IPY_MODEL_724899a2778145a5866657b9686550c3"
            ],
            "layout": "IPY_MODEL_edabf1cec7584544a9f30d042ca09d6a"
          }
        },
        "d82f3e8b5092459ab44e9a13d9865b70": {
          "model_module": "@jupyter-widgets/controls",
          "model_name": "LabelModel",
          "model_module_version": "1.5.0",
          "state": {
            "_dom_classes": [],
            "_model_module": "@jupyter-widgets/controls",
            "_model_module_version": "1.5.0",
            "_model_name": "LabelModel",
            "_view_count": null,
            "_view_module": "@jupyter-widgets/controls",
            "_view_module_version": "1.5.0",
            "_view_name": "LabelView",
            "description": "",
            "description_tooltip": null,
            "layout": "IPY_MODEL_da8bf44b539a4e0e9b2b420521fe9629",
            "placeholder": "​",
            "style": "IPY_MODEL_06f32909b7be40ce9f0ea14766c2f551",
            "value": "0.011 MB of 0.011 MB uploaded\r"
          }
        },
        "724899a2778145a5866657b9686550c3": {
          "model_module": "@jupyter-widgets/controls",
          "model_name": "FloatProgressModel",
          "model_module_version": "1.5.0",
          "state": {
            "_dom_classes": [],
            "_model_module": "@jupyter-widgets/controls",
            "_model_module_version": "1.5.0",
            "_model_name": "FloatProgressModel",
            "_view_count": null,
            "_view_module": "@jupyter-widgets/controls",
            "_view_module_version": "1.5.0",
            "_view_name": "ProgressView",
            "bar_style": "",
            "description": "",
            "description_tooltip": null,
            "layout": "IPY_MODEL_6635f7bcbd6845e8b029f50ee58601c7",
            "max": 1,
            "min": 0,
            "orientation": "horizontal",
            "style": "IPY_MODEL_d92c611db1b048cb919e80aa6488b267",
            "value": 1
          }
        },
        "edabf1cec7584544a9f30d042ca09d6a": {
          "model_module": "@jupyter-widgets/base",
          "model_name": "LayoutModel",
          "model_module_version": "1.2.0",
          "state": {
            "_model_module": "@jupyter-widgets/base",
            "_model_module_version": "1.2.0",
            "_model_name": "LayoutModel",
            "_view_count": null,
            "_view_module": "@jupyter-widgets/base",
            "_view_module_version": "1.2.0",
            "_view_name": "LayoutView",
            "align_content": null,
            "align_items": null,
            "align_self": null,
            "border": null,
            "bottom": null,
            "display": null,
            "flex": null,
            "flex_flow": null,
            "grid_area": null,
            "grid_auto_columns": null,
            "grid_auto_flow": null,
            "grid_auto_rows": null,
            "grid_column": null,
            "grid_gap": null,
            "grid_row": null,
            "grid_template_areas": null,
            "grid_template_columns": null,
            "grid_template_rows": null,
            "height": null,
            "justify_content": null,
            "justify_items": null,
            "left": null,
            "margin": null,
            "max_height": null,
            "max_width": null,
            "min_height": null,
            "min_width": null,
            "object_fit": null,
            "object_position": null,
            "order": null,
            "overflow": null,
            "overflow_x": null,
            "overflow_y": null,
            "padding": null,
            "right": null,
            "top": null,
            "visibility": null,
            "width": null
          }
        },
        "da8bf44b539a4e0e9b2b420521fe9629": {
          "model_module": "@jupyter-widgets/base",
          "model_name": "LayoutModel",
          "model_module_version": "1.2.0",
          "state": {
            "_model_module": "@jupyter-widgets/base",
            "_model_module_version": "1.2.0",
            "_model_name": "LayoutModel",
            "_view_count": null,
            "_view_module": "@jupyter-widgets/base",
            "_view_module_version": "1.2.0",
            "_view_name": "LayoutView",
            "align_content": null,
            "align_items": null,
            "align_self": null,
            "border": null,
            "bottom": null,
            "display": null,
            "flex": null,
            "flex_flow": null,
            "grid_area": null,
            "grid_auto_columns": null,
            "grid_auto_flow": null,
            "grid_auto_rows": null,
            "grid_column": null,
            "grid_gap": null,
            "grid_row": null,
            "grid_template_areas": null,
            "grid_template_columns": null,
            "grid_template_rows": null,
            "height": null,
            "justify_content": null,
            "justify_items": null,
            "left": null,
            "margin": null,
            "max_height": null,
            "max_width": null,
            "min_height": null,
            "min_width": null,
            "object_fit": null,
            "object_position": null,
            "order": null,
            "overflow": null,
            "overflow_x": null,
            "overflow_y": null,
            "padding": null,
            "right": null,
            "top": null,
            "visibility": null,
            "width": null
          }
        },
        "06f32909b7be40ce9f0ea14766c2f551": {
          "model_module": "@jupyter-widgets/controls",
          "model_name": "DescriptionStyleModel",
          "model_module_version": "1.5.0",
          "state": {
            "_model_module": "@jupyter-widgets/controls",
            "_model_module_version": "1.5.0",
            "_model_name": "DescriptionStyleModel",
            "_view_count": null,
            "_view_module": "@jupyter-widgets/base",
            "_view_module_version": "1.2.0",
            "_view_name": "StyleView",
            "description_width": ""
          }
        },
        "6635f7bcbd6845e8b029f50ee58601c7": {
          "model_module": "@jupyter-widgets/base",
          "model_name": "LayoutModel",
          "model_module_version": "1.2.0",
          "state": {
            "_model_module": "@jupyter-widgets/base",
            "_model_module_version": "1.2.0",
            "_model_name": "LayoutModel",
            "_view_count": null,
            "_view_module": "@jupyter-widgets/base",
            "_view_module_version": "1.2.0",
            "_view_name": "LayoutView",
            "align_content": null,
            "align_items": null,
            "align_self": null,
            "border": null,
            "bottom": null,
            "display": null,
            "flex": null,
            "flex_flow": null,
            "grid_area": null,
            "grid_auto_columns": null,
            "grid_auto_flow": null,
            "grid_auto_rows": null,
            "grid_column": null,
            "grid_gap": null,
            "grid_row": null,
            "grid_template_areas": null,
            "grid_template_columns": null,
            "grid_template_rows": null,
            "height": null,
            "justify_content": null,
            "justify_items": null,
            "left": null,
            "margin": null,
            "max_height": null,
            "max_width": null,
            "min_height": null,
            "min_width": null,
            "object_fit": null,
            "object_position": null,
            "order": null,
            "overflow": null,
            "overflow_x": null,
            "overflow_y": null,
            "padding": null,
            "right": null,
            "top": null,
            "visibility": null,
            "width": null
          }
        },
        "d92c611db1b048cb919e80aa6488b267": {
          "model_module": "@jupyter-widgets/controls",
          "model_name": "ProgressStyleModel",
          "model_module_version": "1.5.0",
          "state": {
            "_model_module": "@jupyter-widgets/controls",
            "_model_module_version": "1.5.0",
            "_model_name": "ProgressStyleModel",
            "_view_count": null,
            "_view_module": "@jupyter-widgets/base",
            "_view_module_version": "1.2.0",
            "_view_name": "StyleView",
            "bar_color": null,
            "description_width": ""
          }
        },
        "a9c65a4665694540a4382702bf60c839": {
          "model_module": "@jupyter-widgets/controls",
          "model_name": "VBoxModel",
          "model_module_version": "1.5.0",
          "state": {
            "_dom_classes": [],
            "_model_module": "@jupyter-widgets/controls",
            "_model_module_version": "1.5.0",
            "_model_name": "VBoxModel",
            "_view_count": null,
            "_view_module": "@jupyter-widgets/controls",
            "_view_module_version": "1.5.0",
            "_view_name": "VBoxView",
            "box_style": "",
            "children": [
              "IPY_MODEL_1b3bbc8b1b0e4b5b820ce1edbb43916e",
              "IPY_MODEL_331d19eaadef4169bf7c3bfaa627061f"
            ],
            "layout": "IPY_MODEL_4e83fa85088e46a18f4293c145370763"
          }
        },
        "1b3bbc8b1b0e4b5b820ce1edbb43916e": {
          "model_module": "@jupyter-widgets/controls",
          "model_name": "LabelModel",
          "model_module_version": "1.5.0",
          "state": {
            "_dom_classes": [],
            "_model_module": "@jupyter-widgets/controls",
            "_model_module_version": "1.5.0",
            "_model_name": "LabelModel",
            "_view_count": null,
            "_view_module": "@jupyter-widgets/controls",
            "_view_module_version": "1.5.0",
            "_view_name": "LabelView",
            "description": "",
            "description_tooltip": null,
            "layout": "IPY_MODEL_bf852af7b2994e6eb1a3590d6c4cf2d5",
            "placeholder": "​",
            "style": "IPY_MODEL_375f122f073e4f718c2a9a837c95eefc",
            "value": "0.011 MB of 0.011 MB uploaded\r"
          }
        },
        "331d19eaadef4169bf7c3bfaa627061f": {
          "model_module": "@jupyter-widgets/controls",
          "model_name": "FloatProgressModel",
          "model_module_version": "1.5.0",
          "state": {
            "_dom_classes": [],
            "_model_module": "@jupyter-widgets/controls",
            "_model_module_version": "1.5.0",
            "_model_name": "FloatProgressModel",
            "_view_count": null,
            "_view_module": "@jupyter-widgets/controls",
            "_view_module_version": "1.5.0",
            "_view_name": "ProgressView",
            "bar_style": "",
            "description": "",
            "description_tooltip": null,
            "layout": "IPY_MODEL_a355dc0767014dcabe0d79b3e5ca7e41",
            "max": 1,
            "min": 0,
            "orientation": "horizontal",
            "style": "IPY_MODEL_52871588016644c195f2b7f978a7fadd",
            "value": 1
          }
        },
        "4e83fa85088e46a18f4293c145370763": {
          "model_module": "@jupyter-widgets/base",
          "model_name": "LayoutModel",
          "model_module_version": "1.2.0",
          "state": {
            "_model_module": "@jupyter-widgets/base",
            "_model_module_version": "1.2.0",
            "_model_name": "LayoutModel",
            "_view_count": null,
            "_view_module": "@jupyter-widgets/base",
            "_view_module_version": "1.2.0",
            "_view_name": "LayoutView",
            "align_content": null,
            "align_items": null,
            "align_self": null,
            "border": null,
            "bottom": null,
            "display": null,
            "flex": null,
            "flex_flow": null,
            "grid_area": null,
            "grid_auto_columns": null,
            "grid_auto_flow": null,
            "grid_auto_rows": null,
            "grid_column": null,
            "grid_gap": null,
            "grid_row": null,
            "grid_template_areas": null,
            "grid_template_columns": null,
            "grid_template_rows": null,
            "height": null,
            "justify_content": null,
            "justify_items": null,
            "left": null,
            "margin": null,
            "max_height": null,
            "max_width": null,
            "min_height": null,
            "min_width": null,
            "object_fit": null,
            "object_position": null,
            "order": null,
            "overflow": null,
            "overflow_x": null,
            "overflow_y": null,
            "padding": null,
            "right": null,
            "top": null,
            "visibility": null,
            "width": null
          }
        },
        "bf852af7b2994e6eb1a3590d6c4cf2d5": {
          "model_module": "@jupyter-widgets/base",
          "model_name": "LayoutModel",
          "model_module_version": "1.2.0",
          "state": {
            "_model_module": "@jupyter-widgets/base",
            "_model_module_version": "1.2.0",
            "_model_name": "LayoutModel",
            "_view_count": null,
            "_view_module": "@jupyter-widgets/base",
            "_view_module_version": "1.2.0",
            "_view_name": "LayoutView",
            "align_content": null,
            "align_items": null,
            "align_self": null,
            "border": null,
            "bottom": null,
            "display": null,
            "flex": null,
            "flex_flow": null,
            "grid_area": null,
            "grid_auto_columns": null,
            "grid_auto_flow": null,
            "grid_auto_rows": null,
            "grid_column": null,
            "grid_gap": null,
            "grid_row": null,
            "grid_template_areas": null,
            "grid_template_columns": null,
            "grid_template_rows": null,
            "height": null,
            "justify_content": null,
            "justify_items": null,
            "left": null,
            "margin": null,
            "max_height": null,
            "max_width": null,
            "min_height": null,
            "min_width": null,
            "object_fit": null,
            "object_position": null,
            "order": null,
            "overflow": null,
            "overflow_x": null,
            "overflow_y": null,
            "padding": null,
            "right": null,
            "top": null,
            "visibility": null,
            "width": null
          }
        },
        "375f122f073e4f718c2a9a837c95eefc": {
          "model_module": "@jupyter-widgets/controls",
          "model_name": "DescriptionStyleModel",
          "model_module_version": "1.5.0",
          "state": {
            "_model_module": "@jupyter-widgets/controls",
            "_model_module_version": "1.5.0",
            "_model_name": "DescriptionStyleModel",
            "_view_count": null,
            "_view_module": "@jupyter-widgets/base",
            "_view_module_version": "1.2.0",
            "_view_name": "StyleView",
            "description_width": ""
          }
        },
        "a355dc0767014dcabe0d79b3e5ca7e41": {
          "model_module": "@jupyter-widgets/base",
          "model_name": "LayoutModel",
          "model_module_version": "1.2.0",
          "state": {
            "_model_module": "@jupyter-widgets/base",
            "_model_module_version": "1.2.0",
            "_model_name": "LayoutModel",
            "_view_count": null,
            "_view_module": "@jupyter-widgets/base",
            "_view_module_version": "1.2.0",
            "_view_name": "LayoutView",
            "align_content": null,
            "align_items": null,
            "align_self": null,
            "border": null,
            "bottom": null,
            "display": null,
            "flex": null,
            "flex_flow": null,
            "grid_area": null,
            "grid_auto_columns": null,
            "grid_auto_flow": null,
            "grid_auto_rows": null,
            "grid_column": null,
            "grid_gap": null,
            "grid_row": null,
            "grid_template_areas": null,
            "grid_template_columns": null,
            "grid_template_rows": null,
            "height": null,
            "justify_content": null,
            "justify_items": null,
            "left": null,
            "margin": null,
            "max_height": null,
            "max_width": null,
            "min_height": null,
            "min_width": null,
            "object_fit": null,
            "object_position": null,
            "order": null,
            "overflow": null,
            "overflow_x": null,
            "overflow_y": null,
            "padding": null,
            "right": null,
            "top": null,
            "visibility": null,
            "width": null
          }
        },
        "52871588016644c195f2b7f978a7fadd": {
          "model_module": "@jupyter-widgets/controls",
          "model_name": "ProgressStyleModel",
          "model_module_version": "1.5.0",
          "state": {
            "_model_module": "@jupyter-widgets/controls",
            "_model_module_version": "1.5.0",
            "_model_name": "ProgressStyleModel",
            "_view_count": null,
            "_view_module": "@jupyter-widgets/base",
            "_view_module_version": "1.2.0",
            "_view_name": "StyleView",
            "bar_color": null,
            "description_width": ""
          }
        },
        "070e3cd1d07b42cea6d835f457d25861": {
          "model_module": "@jupyter-widgets/controls",
          "model_name": "VBoxModel",
          "model_module_version": "1.5.0",
          "state": {
            "_dom_classes": [],
            "_model_module": "@jupyter-widgets/controls",
            "_model_module_version": "1.5.0",
            "_model_name": "VBoxModel",
            "_view_count": null,
            "_view_module": "@jupyter-widgets/controls",
            "_view_module_version": "1.5.0",
            "_view_name": "VBoxView",
            "box_style": "",
            "children": [
              "IPY_MODEL_68776ff6970c47dba9304c54b68b97ae",
              "IPY_MODEL_7d2a3e3e481747738a02e38208bbea8e"
            ],
            "layout": "IPY_MODEL_358e7f5b2aee487e84c00a2cf7fe4e97"
          }
        },
        "68776ff6970c47dba9304c54b68b97ae": {
          "model_module": "@jupyter-widgets/controls",
          "model_name": "LabelModel",
          "model_module_version": "1.5.0",
          "state": {
            "_dom_classes": [],
            "_model_module": "@jupyter-widgets/controls",
            "_model_module_version": "1.5.0",
            "_model_name": "LabelModel",
            "_view_count": null,
            "_view_module": "@jupyter-widgets/controls",
            "_view_module_version": "1.5.0",
            "_view_name": "LabelView",
            "description": "",
            "description_tooltip": null,
            "layout": "IPY_MODEL_44f6150faf2e4189ad21b7dbacc556de",
            "placeholder": "​",
            "style": "IPY_MODEL_761bf20243814e048f203b4c7887218f",
            "value": "0.013 MB of 0.013 MB uploaded\r"
          }
        },
        "7d2a3e3e481747738a02e38208bbea8e": {
          "model_module": "@jupyter-widgets/controls",
          "model_name": "FloatProgressModel",
          "model_module_version": "1.5.0",
          "state": {
            "_dom_classes": [],
            "_model_module": "@jupyter-widgets/controls",
            "_model_module_version": "1.5.0",
            "_model_name": "FloatProgressModel",
            "_view_count": null,
            "_view_module": "@jupyter-widgets/controls",
            "_view_module_version": "1.5.0",
            "_view_name": "ProgressView",
            "bar_style": "",
            "description": "",
            "description_tooltip": null,
            "layout": "IPY_MODEL_ebe5a20360624004a37294bded7594b0",
            "max": 1,
            "min": 0,
            "orientation": "horizontal",
            "style": "IPY_MODEL_58984c7c708949fa9bae0c498edf7240",
            "value": 1
          }
        },
        "358e7f5b2aee487e84c00a2cf7fe4e97": {
          "model_module": "@jupyter-widgets/base",
          "model_name": "LayoutModel",
          "model_module_version": "1.2.0",
          "state": {
            "_model_module": "@jupyter-widgets/base",
            "_model_module_version": "1.2.0",
            "_model_name": "LayoutModel",
            "_view_count": null,
            "_view_module": "@jupyter-widgets/base",
            "_view_module_version": "1.2.0",
            "_view_name": "LayoutView",
            "align_content": null,
            "align_items": null,
            "align_self": null,
            "border": null,
            "bottom": null,
            "display": null,
            "flex": null,
            "flex_flow": null,
            "grid_area": null,
            "grid_auto_columns": null,
            "grid_auto_flow": null,
            "grid_auto_rows": null,
            "grid_column": null,
            "grid_gap": null,
            "grid_row": null,
            "grid_template_areas": null,
            "grid_template_columns": null,
            "grid_template_rows": null,
            "height": null,
            "justify_content": null,
            "justify_items": null,
            "left": null,
            "margin": null,
            "max_height": null,
            "max_width": null,
            "min_height": null,
            "min_width": null,
            "object_fit": null,
            "object_position": null,
            "order": null,
            "overflow": null,
            "overflow_x": null,
            "overflow_y": null,
            "padding": null,
            "right": null,
            "top": null,
            "visibility": null,
            "width": null
          }
        },
        "44f6150faf2e4189ad21b7dbacc556de": {
          "model_module": "@jupyter-widgets/base",
          "model_name": "LayoutModel",
          "model_module_version": "1.2.0",
          "state": {
            "_model_module": "@jupyter-widgets/base",
            "_model_module_version": "1.2.0",
            "_model_name": "LayoutModel",
            "_view_count": null,
            "_view_module": "@jupyter-widgets/base",
            "_view_module_version": "1.2.0",
            "_view_name": "LayoutView",
            "align_content": null,
            "align_items": null,
            "align_self": null,
            "border": null,
            "bottom": null,
            "display": null,
            "flex": null,
            "flex_flow": null,
            "grid_area": null,
            "grid_auto_columns": null,
            "grid_auto_flow": null,
            "grid_auto_rows": null,
            "grid_column": null,
            "grid_gap": null,
            "grid_row": null,
            "grid_template_areas": null,
            "grid_template_columns": null,
            "grid_template_rows": null,
            "height": null,
            "justify_content": null,
            "justify_items": null,
            "left": null,
            "margin": null,
            "max_height": null,
            "max_width": null,
            "min_height": null,
            "min_width": null,
            "object_fit": null,
            "object_position": null,
            "order": null,
            "overflow": null,
            "overflow_x": null,
            "overflow_y": null,
            "padding": null,
            "right": null,
            "top": null,
            "visibility": null,
            "width": null
          }
        },
        "761bf20243814e048f203b4c7887218f": {
          "model_module": "@jupyter-widgets/controls",
          "model_name": "DescriptionStyleModel",
          "model_module_version": "1.5.0",
          "state": {
            "_model_module": "@jupyter-widgets/controls",
            "_model_module_version": "1.5.0",
            "_model_name": "DescriptionStyleModel",
            "_view_count": null,
            "_view_module": "@jupyter-widgets/base",
            "_view_module_version": "1.2.0",
            "_view_name": "StyleView",
            "description_width": ""
          }
        },
        "ebe5a20360624004a37294bded7594b0": {
          "model_module": "@jupyter-widgets/base",
          "model_name": "LayoutModel",
          "model_module_version": "1.2.0",
          "state": {
            "_model_module": "@jupyter-widgets/base",
            "_model_module_version": "1.2.0",
            "_model_name": "LayoutModel",
            "_view_count": null,
            "_view_module": "@jupyter-widgets/base",
            "_view_module_version": "1.2.0",
            "_view_name": "LayoutView",
            "align_content": null,
            "align_items": null,
            "align_self": null,
            "border": null,
            "bottom": null,
            "display": null,
            "flex": null,
            "flex_flow": null,
            "grid_area": null,
            "grid_auto_columns": null,
            "grid_auto_flow": null,
            "grid_auto_rows": null,
            "grid_column": null,
            "grid_gap": null,
            "grid_row": null,
            "grid_template_areas": null,
            "grid_template_columns": null,
            "grid_template_rows": null,
            "height": null,
            "justify_content": null,
            "justify_items": null,
            "left": null,
            "margin": null,
            "max_height": null,
            "max_width": null,
            "min_height": null,
            "min_width": null,
            "object_fit": null,
            "object_position": null,
            "order": null,
            "overflow": null,
            "overflow_x": null,
            "overflow_y": null,
            "padding": null,
            "right": null,
            "top": null,
            "visibility": null,
            "width": null
          }
        },
        "58984c7c708949fa9bae0c498edf7240": {
          "model_module": "@jupyter-widgets/controls",
          "model_name": "ProgressStyleModel",
          "model_module_version": "1.5.0",
          "state": {
            "_model_module": "@jupyter-widgets/controls",
            "_model_module_version": "1.5.0",
            "_model_name": "ProgressStyleModel",
            "_view_count": null,
            "_view_module": "@jupyter-widgets/base",
            "_view_module_version": "1.2.0",
            "_view_name": "StyleView",
            "bar_color": null,
            "description_width": ""
          }
        },
        "9e4a9f4a833140b9ab26d4bb6028378f": {
          "model_module": "@jupyter-widgets/controls",
          "model_name": "VBoxModel",
          "model_module_version": "1.5.0",
          "state": {
            "_dom_classes": [],
            "_model_module": "@jupyter-widgets/controls",
            "_model_module_version": "1.5.0",
            "_model_name": "VBoxModel",
            "_view_count": null,
            "_view_module": "@jupyter-widgets/controls",
            "_view_module_version": "1.5.0",
            "_view_name": "VBoxView",
            "box_style": "",
            "children": [
              "IPY_MODEL_4014ce72dbeb4bb9b78d5c64f23379fe",
              "IPY_MODEL_8489b7b527d84a89b3e04b670b75364a"
            ],
            "layout": "IPY_MODEL_543ffc01a27348179a1843141f67f6b4"
          }
        },
        "4014ce72dbeb4bb9b78d5c64f23379fe": {
          "model_module": "@jupyter-widgets/controls",
          "model_name": "LabelModel",
          "model_module_version": "1.5.0",
          "state": {
            "_dom_classes": [],
            "_model_module": "@jupyter-widgets/controls",
            "_model_module_version": "1.5.0",
            "_model_name": "LabelModel",
            "_view_count": null,
            "_view_module": "@jupyter-widgets/controls",
            "_view_module_version": "1.5.0",
            "_view_name": "LabelView",
            "description": "",
            "description_tooltip": null,
            "layout": "IPY_MODEL_36c882d045664941be835b7e7bf6c8c1",
            "placeholder": "​",
            "style": "IPY_MODEL_fba3e7d05ba4412faebdc6d2562a4768",
            "value": "0.011 MB of 0.011 MB uploaded\r"
          }
        },
        "8489b7b527d84a89b3e04b670b75364a": {
          "model_module": "@jupyter-widgets/controls",
          "model_name": "FloatProgressModel",
          "model_module_version": "1.5.0",
          "state": {
            "_dom_classes": [],
            "_model_module": "@jupyter-widgets/controls",
            "_model_module_version": "1.5.0",
            "_model_name": "FloatProgressModel",
            "_view_count": null,
            "_view_module": "@jupyter-widgets/controls",
            "_view_module_version": "1.5.0",
            "_view_name": "ProgressView",
            "bar_style": "",
            "description": "",
            "description_tooltip": null,
            "layout": "IPY_MODEL_7a2b1c98a94443af9e336370acdcff40",
            "max": 1,
            "min": 0,
            "orientation": "horizontal",
            "style": "IPY_MODEL_81fb0939791a475fb1900a85a3ba79c0",
            "value": 1
          }
        },
        "543ffc01a27348179a1843141f67f6b4": {
          "model_module": "@jupyter-widgets/base",
          "model_name": "LayoutModel",
          "model_module_version": "1.2.0",
          "state": {
            "_model_module": "@jupyter-widgets/base",
            "_model_module_version": "1.2.0",
            "_model_name": "LayoutModel",
            "_view_count": null,
            "_view_module": "@jupyter-widgets/base",
            "_view_module_version": "1.2.0",
            "_view_name": "LayoutView",
            "align_content": null,
            "align_items": null,
            "align_self": null,
            "border": null,
            "bottom": null,
            "display": null,
            "flex": null,
            "flex_flow": null,
            "grid_area": null,
            "grid_auto_columns": null,
            "grid_auto_flow": null,
            "grid_auto_rows": null,
            "grid_column": null,
            "grid_gap": null,
            "grid_row": null,
            "grid_template_areas": null,
            "grid_template_columns": null,
            "grid_template_rows": null,
            "height": null,
            "justify_content": null,
            "justify_items": null,
            "left": null,
            "margin": null,
            "max_height": null,
            "max_width": null,
            "min_height": null,
            "min_width": null,
            "object_fit": null,
            "object_position": null,
            "order": null,
            "overflow": null,
            "overflow_x": null,
            "overflow_y": null,
            "padding": null,
            "right": null,
            "top": null,
            "visibility": null,
            "width": null
          }
        },
        "36c882d045664941be835b7e7bf6c8c1": {
          "model_module": "@jupyter-widgets/base",
          "model_name": "LayoutModel",
          "model_module_version": "1.2.0",
          "state": {
            "_model_module": "@jupyter-widgets/base",
            "_model_module_version": "1.2.0",
            "_model_name": "LayoutModel",
            "_view_count": null,
            "_view_module": "@jupyter-widgets/base",
            "_view_module_version": "1.2.0",
            "_view_name": "LayoutView",
            "align_content": null,
            "align_items": null,
            "align_self": null,
            "border": null,
            "bottom": null,
            "display": null,
            "flex": null,
            "flex_flow": null,
            "grid_area": null,
            "grid_auto_columns": null,
            "grid_auto_flow": null,
            "grid_auto_rows": null,
            "grid_column": null,
            "grid_gap": null,
            "grid_row": null,
            "grid_template_areas": null,
            "grid_template_columns": null,
            "grid_template_rows": null,
            "height": null,
            "justify_content": null,
            "justify_items": null,
            "left": null,
            "margin": null,
            "max_height": null,
            "max_width": null,
            "min_height": null,
            "min_width": null,
            "object_fit": null,
            "object_position": null,
            "order": null,
            "overflow": null,
            "overflow_x": null,
            "overflow_y": null,
            "padding": null,
            "right": null,
            "top": null,
            "visibility": null,
            "width": null
          }
        },
        "fba3e7d05ba4412faebdc6d2562a4768": {
          "model_module": "@jupyter-widgets/controls",
          "model_name": "DescriptionStyleModel",
          "model_module_version": "1.5.0",
          "state": {
            "_model_module": "@jupyter-widgets/controls",
            "_model_module_version": "1.5.0",
            "_model_name": "DescriptionStyleModel",
            "_view_count": null,
            "_view_module": "@jupyter-widgets/base",
            "_view_module_version": "1.2.0",
            "_view_name": "StyleView",
            "description_width": ""
          }
        },
        "7a2b1c98a94443af9e336370acdcff40": {
          "model_module": "@jupyter-widgets/base",
          "model_name": "LayoutModel",
          "model_module_version": "1.2.0",
          "state": {
            "_model_module": "@jupyter-widgets/base",
            "_model_module_version": "1.2.0",
            "_model_name": "LayoutModel",
            "_view_count": null,
            "_view_module": "@jupyter-widgets/base",
            "_view_module_version": "1.2.0",
            "_view_name": "LayoutView",
            "align_content": null,
            "align_items": null,
            "align_self": null,
            "border": null,
            "bottom": null,
            "display": null,
            "flex": null,
            "flex_flow": null,
            "grid_area": null,
            "grid_auto_columns": null,
            "grid_auto_flow": null,
            "grid_auto_rows": null,
            "grid_column": null,
            "grid_gap": null,
            "grid_row": null,
            "grid_template_areas": null,
            "grid_template_columns": null,
            "grid_template_rows": null,
            "height": null,
            "justify_content": null,
            "justify_items": null,
            "left": null,
            "margin": null,
            "max_height": null,
            "max_width": null,
            "min_height": null,
            "min_width": null,
            "object_fit": null,
            "object_position": null,
            "order": null,
            "overflow": null,
            "overflow_x": null,
            "overflow_y": null,
            "padding": null,
            "right": null,
            "top": null,
            "visibility": null,
            "width": null
          }
        },
        "81fb0939791a475fb1900a85a3ba79c0": {
          "model_module": "@jupyter-widgets/controls",
          "model_name": "ProgressStyleModel",
          "model_module_version": "1.5.0",
          "state": {
            "_model_module": "@jupyter-widgets/controls",
            "_model_module_version": "1.5.0",
            "_model_name": "ProgressStyleModel",
            "_view_count": null,
            "_view_module": "@jupyter-widgets/base",
            "_view_module_version": "1.2.0",
            "_view_name": "StyleView",
            "bar_color": null,
            "description_width": ""
          }
        }
      }
    }
  },
  "nbformat": 4,
  "nbformat_minor": 0
}