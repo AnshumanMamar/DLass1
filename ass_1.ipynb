{
  "cells": [
    {
      "cell_type": "markdown",
      "source": [
        "## Necessary Imports"
      ],
      "metadata": {
        "id": "sE56JRBdCZvO"
      }
    },
    {
      "cell_type": "code",
      "execution_count": 13,
      "metadata": {
        "colab": {
          "base_uri": "https://localhost:8080/"
        },
        "id": "gsfu_w9EvcZx",
        "outputId": "952aaa1b-1d48-4261-dcd6-94ac0bc17c36"
      },
      "outputs": [
        {
          "output_type": "stream",
          "name": "stdout",
          "text": [
            "Requirement already satisfied: wandb in /usr/local/lib/python3.10/dist-packages (0.16.4)\n",
            "Requirement already satisfied: Click!=8.0.0,>=7.1 in /usr/local/lib/python3.10/dist-packages (from wandb) (8.1.7)\n",
            "Requirement already satisfied: GitPython!=3.1.29,>=1.0.0 in /usr/local/lib/python3.10/dist-packages (from wandb) (3.1.42)\n",
            "Requirement already satisfied: requests<3,>=2.0.0 in /usr/local/lib/python3.10/dist-packages (from wandb) (2.31.0)\n",
            "Requirement already satisfied: psutil>=5.0.0 in /usr/local/lib/python3.10/dist-packages (from wandb) (5.9.5)\n",
            "Requirement already satisfied: sentry-sdk>=1.0.0 in /usr/local/lib/python3.10/dist-packages (from wandb) (1.42.0)\n",
            "Requirement already satisfied: docker-pycreds>=0.4.0 in /usr/local/lib/python3.10/dist-packages (from wandb) (0.4.0)\n",
            "Requirement already satisfied: PyYAML in /usr/local/lib/python3.10/dist-packages (from wandb) (6.0.1)\n",
            "Requirement already satisfied: setproctitle in /usr/local/lib/python3.10/dist-packages (from wandb) (1.3.3)\n",
            "Requirement already satisfied: setuptools in /usr/local/lib/python3.10/dist-packages (from wandb) (67.7.2)\n",
            "Requirement already satisfied: appdirs>=1.4.3 in /usr/local/lib/python3.10/dist-packages (from wandb) (1.4.4)\n",
            "Requirement already satisfied: protobuf!=4.21.0,<5,>=3.19.0 in /usr/local/lib/python3.10/dist-packages (from wandb) (3.20.3)\n",
            "Requirement already satisfied: six>=1.4.0 in /usr/local/lib/python3.10/dist-packages (from docker-pycreds>=0.4.0->wandb) (1.16.0)\n",
            "Requirement already satisfied: gitdb<5,>=4.0.1 in /usr/local/lib/python3.10/dist-packages (from GitPython!=3.1.29,>=1.0.0->wandb) (4.0.11)\n",
            "Requirement already satisfied: charset-normalizer<4,>=2 in /usr/local/lib/python3.10/dist-packages (from requests<3,>=2.0.0->wandb) (3.3.2)\n",
            "Requirement already satisfied: idna<4,>=2.5 in /usr/local/lib/python3.10/dist-packages (from requests<3,>=2.0.0->wandb) (3.6)\n",
            "Requirement already satisfied: urllib3<3,>=1.21.1 in /usr/local/lib/python3.10/dist-packages (from requests<3,>=2.0.0->wandb) (2.0.7)\n",
            "Requirement already satisfied: certifi>=2017.4.17 in /usr/local/lib/python3.10/dist-packages (from requests<3,>=2.0.0->wandb) (2024.2.2)\n",
            "Requirement already satisfied: smmap<6,>=3.0.1 in /usr/local/lib/python3.10/dist-packages (from gitdb<5,>=4.0.1->GitPython!=3.1.29,>=1.0.0->wandb) (5.0.1)\n"
          ]
        }
      ],
      "source": [
        "!pip install wandb"
      ]
    },
    {
      "cell_type": "code",
      "execution_count": 2,
      "metadata": {
        "id": "AX2xzfhsWXkP"
      },
      "outputs": [],
      "source": [
        "# Import necessary libraries\n",
        "import numpy as np\n",
        "import matplotlib.pyplot as plt\n",
        "from keras.datasets import fashion_mnist\n",
        "from keras.datasets import mnist\n",
        "import wandb\n",
        "from sklearn.metrics import confusion_matrix\n",
        "from sklearn.model_selection import train_test_split\n",
        "import math\n",
        "import pandas as pd\n",
        "import matplotlib\n",
        "import seaborn"
      ]
    },
    {
      "cell_type": "code",
      "execution_count": 2,
      "metadata": {
        "id": "wG-wgfCavbb5"
      },
      "outputs": [],
      "source": []
    },
    {
      "cell_type": "code",
      "execution_count": 3,
      "metadata": {
        "colab": {
          "base_uri": "https://localhost:8080/"
        },
        "id": "mohsv73jWXkT",
        "outputId": "2b06967d-7217-461b-aedd-4e57cda42f49"
      },
      "outputs": [
        {
          "output_type": "stream",
          "name": "stdout",
          "text": [
            "\u001b[34m\u001b[1mwandb\u001b[0m: Appending key for api.wandb.ai to your netrc file: /root/.netrc\n"
          ]
        }
      ],
      "source": [
        "# wandblogin\n",
        "!wandb login f63b589f2c31fd6562d752168e172d22870ab562"
      ]
    },
    {
      "cell_type": "markdown",
      "source": [
        "## question 1\n"
      ],
      "metadata": {
        "id": "Ae_adlGY7RGu"
      }
    },
    {
      "cell_type": "code",
      "source": [
        "wandb.init(project='DL-Assignment-1',name='Ques : 1')"
      ],
      "metadata": {
        "colab": {
          "base_uri": "https://localhost:8080/",
          "height": 125
        },
        "id": "Ith7OWP18kEI",
        "outputId": "0d296e4c-e657-40d6-c8f4-7e9ca2e6abc5"
      },
      "execution_count": 47,
      "outputs": [
        {
          "output_type": "display_data",
          "data": {
            "text/plain": [
              "<IPython.core.display.HTML object>"
            ],
            "text/html": [
              "Tracking run with wandb version 0.16.4"
            ]
          },
          "metadata": {}
        },
        {
          "output_type": "display_data",
          "data": {
            "text/plain": [
              "<IPython.core.display.HTML object>"
            ],
            "text/html": [
              "Run data is saved locally in <code>/content/wandb/run-20240317_112819-g6vqo8n5</code>"
            ]
          },
          "metadata": {}
        },
        {
          "output_type": "display_data",
          "data": {
            "text/plain": [
              "<IPython.core.display.HTML object>"
            ],
            "text/html": [
              "Syncing run <strong><a href='https://wandb.ai/cs23m015/DL-Assignment-1/runs/g6vqo8n5' target=\"_blank\">Ques : 1</a></strong> to <a href='https://wandb.ai/cs23m015/DL-Assignment-1' target=\"_blank\">Weights & Biases</a> (<a href='https://wandb.me/run' target=\"_blank\">docs</a>)<br/>"
            ]
          },
          "metadata": {}
        },
        {
          "output_type": "display_data",
          "data": {
            "text/plain": [
              "<IPython.core.display.HTML object>"
            ],
            "text/html": [
              " View project at <a href='https://wandb.ai/cs23m015/DL-Assignment-1' target=\"_blank\">https://wandb.ai/cs23m015/DL-Assignment-1</a>"
            ]
          },
          "metadata": {}
        },
        {
          "output_type": "display_data",
          "data": {
            "text/plain": [
              "<IPython.core.display.HTML object>"
            ],
            "text/html": [
              " View run at <a href='https://wandb.ai/cs23m015/DL-Assignment-1/runs/g6vqo8n5' target=\"_blank\">https://wandb.ai/cs23m015/DL-Assignment-1/runs/g6vqo8n5</a>"
            ]
          },
          "metadata": {}
        },
        {
          "output_type": "execute_result",
          "data": {
            "text/html": [
              "<button onClick=\"this.nextSibling.style.display='block';this.style.display='none';\">Display W&B run</button><iframe src='https://wandb.ai/cs23m015/DL-Assignment-1/runs/g6vqo8n5?jupyter=true' style='border:none;width:100%;height:420px;display:none;'></iframe>"
            ],
            "text/plain": [
              "<wandb.sdk.wandb_run.Run at 0x7adb360c7970>"
            ]
          },
          "metadata": {},
          "execution_count": 47
        }
      ]
    },
    {
      "cell_type": "code",
      "source": [
        "# Load the Fashion MNIST dataset\n",
        "(train_images, train_lables), (test_images, test_lables) = fashion_mnist.load_data()\n",
        "\n",
        "# Define class names corresponding to the 10 categories in the Fashion MNIST dataset\n",
        "class_names = [\n",
        "    'T-shirt/top',\n",
        "    'Trouser',\n",
        "    'Pullover',\n",
        "    'Dress',\n",
        "    'Coat',\n",
        "    'Sandal',\n",
        "    'Shirt',\n",
        "    'Sneaker',\n",
        "    'Bag',\n",
        "    'Ankle boot',\n",
        "]\n",
        "\n",
        "#For each class potting one sample image\n",
        "plt.figure(figsize=(15,7))\n",
        "\n",
        "images_plot=[]\n",
        "# Loop through each class label and plot the first image in the training set for that class\n",
        "i=0\n",
        "while i< len(class_names):\n",
        "    # Discover the position of first occurence of class in dataset\n",
        "    index = np.argmax(train_lables==i)\n",
        "\n",
        "    # Ploting image for present class\n",
        "    plt.subplot(2,5,i+1)  # No of rows=2 , No of colomns = 5 for 10 classes\n",
        "    plt.imshow(train_images[index], cmap='gray')\n",
        "    plt.title(class_names[i])  # Put the title to the class name\n",
        "    plt.axis('off')  # Switch off the  axis lables for better visualization\n",
        "    images_plot.append(wandb.Image(train_images[index], caption=class_names[i]))\n",
        "    i+=1\n",
        "wandb.log({'Question1':images_plot})\n",
        "\n",
        "# Shows figure with plotted images\n",
        "plt.show()\n",
        "wandb.finish()"
      ],
      "metadata": {
        "colab": {
          "base_uri": "https://localhost:8080/",
          "height": 605,
          "referenced_widgets": [
            "efc2a732e5954822932382bf42a96055",
            "b74b953d944a4492a85235fd19cfb758",
            "640cefd5dc4d4f9bba24ecbf6e7c2349",
            "c0a84685cae44936a1b75ffce22e41eb",
            "0ae119caeac742c7b29d664b583d46de",
            "d933e58ad94c4f78b6f09c568f01f637",
            "a5cf5d9196354ed981a91638b89fc2cd",
            "427fdf1206a34790ab7033ed1590657b"
          ]
        },
        "id": "QGMPLVKd7ThT",
        "outputId": "9240736c-0fca-411f-8df2-d3a73f8641f7"
      },
      "execution_count": 48,
      "outputs": [
        {
          "output_type": "display_data",
          "data": {
            "text/plain": [
              "<Figure size 1500x700 with 10 Axes>"
            ],
            "image/png": "[encoded data removed]"
          },
          "metadata": {}
        },
        {
          "output_type": "display_data",
          "data": {
            "text/plain": [
              "VBox(children=(Label(value='0.010 MB of 0.010 MB uploaded\\r'), FloatProgress(value=1.0, max=1.0)))"
            ],
            "application/vnd.jupyter.widget-view+json": {
              "version_major": 2,
              "version_minor": 0,
              "model_id": "efc2a732e5954822932382bf42a96055"
            }
          },
          "metadata": {}
        },
        {
          "output_type": "display_data",
          "data": {
            "text/plain": [
              "<IPython.core.display.HTML object>"
            ],
            "text/html": [
              " View run <strong style=\"color:#cdcd00\">Ques : 1</strong> at: <a href='https://wandb.ai/cs23m015/DL-Assignment-1/runs/g6vqo8n5' target=\"_blank\">https://wandb.ai/cs23m015/DL-Assignment-1/runs/g6vqo8n5</a><br/>Synced 4 W&B file(s), 0 media file(s), 0 artifact file(s) and 0 other file(s)"
            ]
          },
          "metadata": {}
        },
        {
          "output_type": "display_data",
          "data": {
            "text/plain": [
              "<IPython.core.display.HTML object>"
            ],
            "text/html": [
              "Find logs at: <code>./wandb/run-20240317_112819-g6vqo8n5/logs</code>"
            ]
          },
          "metadata": {}
        }
      ]
    },
    {
      "cell_type": "markdown",
      "source": [
        "## NeuralNetwork"
      ],
      "metadata": {
        "id": "hEvvh42KtsVV"
      }
    },
    {
      "cell_type": "code",
      "source": [
        "# import dataset\n",
        "dataset = 'fashion_mnist'\n",
        "if dataset == 'fashion_mnist':\n",
        "  (x1, y1), (x2, y2) = fashion_mnist.load_data()\n",
        "elif dataset== 'mnist':\n",
        "  (x1, y1), (x2, y2) = mnist.load_data()\n",
        "\n",
        "x1=x1.reshape(x1.shape[0],-1) / 255\n",
        "x2=x2.reshape(x2.shape[0],-1)/ 255\n",
        "\n",
        "x1, x_val, y1, y_val = train_test_split(x1,y1, test_size=0.1, random_state=0)\n",
        "\n",
        "# defined Neuarl Network class\n",
        "class NeuralNetwork:\n",
        "    def __init__(self):\n",
        "\n",
        "        self.w,self.b,self.a,self.h,self.wd,self.ad,self.hd,self.bd=[],[],[],[],[],[],[],[]\n",
        "\n",
        "\n",
        "#Defines various activation functions\n",
        "    def activations(self,act,k):\n",
        "        if act=='sigmoid':\n",
        "            s=1+np.exp(-k)\n",
        "            return 1/s\n",
        "        elif act =='ReLU':\n",
        "            s=k*(k>0)\n",
        "            return s\n",
        "        elif act =='tanh':\n",
        "            s = np.tanh(k)\n",
        "            return s\n",
        "        elif act == 'identity':\n",
        "            return k\n",
        "        elif act =='softmax':\n",
        "            x=np.copy(k)\n",
        "            i=0\n",
        "            while i < k.shape[0]:\n",
        "                add=0\n",
        "                largi=np.argmax(k[i])\n",
        "                j=0\n",
        "                while j< k.shape[1]:\n",
        "                    add+=np.exp(k[i][j]-k[i][largi])\n",
        "                    j=j+1\n",
        "                s=k[i]-k[i][largi]\n",
        "                k[i]=np.exp(s)/add\n",
        "                x[i]=k[i]\n",
        "                i=i+1\n",
        "            return x\n",
        "\n",
        "# Defines derivatives of various activation functions.\n",
        "    def activations_derivative(self,act,k):\n",
        "        if act=='sigmoid':\n",
        "            s = np.multiply((1/(1+np.exp(-k))),(1-(1/(1+np.exp(-k)))))\n",
        "            return s\n",
        "        if act=='ReLU':\n",
        "            relu_derivative=0\n",
        "            relu_derivative=np.maximum(0,k)\n",
        "            relu_derivative[relu_derivative>0]=1\n",
        "            return relu_derivative\n",
        "        if act=='tanh':\n",
        "            return 1-np.tanh(k)**2\n",
        "        if act == 'identity':\n",
        "            return 1\n",
        "\n",
        "\n",
        "# Defines loss functions.\n",
        "    def loss_function(self,fn_loss,yhat,y1,mom):\n",
        "        cac=0\n",
        "        i=0\n",
        "        while i<len(self.w):\n",
        "            s=np.sum(self.w[i]**2)\n",
        "            cac=cac+s\n",
        "            i=i+1\n",
        "        cac=mom*cac\n",
        "        cac=cac/2\n",
        "        ch=1\n",
        "        if fn_loss=='cross_entropy':\n",
        "            loss=0\n",
        "            i=0\n",
        "            while i<y1.shape[0]:\n",
        "                loss=loss-((np.log2(yhat[i][y1[i]])))\n",
        "                i=i+1\n",
        "            s=loss+cac\n",
        "            z=y1.shape[0]\n",
        "            return s/z\n",
        "\n",
        "        elif fn_loss=='mean_squared_error':\n",
        "            bl=np.zeros((y1.shape[0],yhat.shape[1]))\n",
        "            i=0\n",
        "            while i<y1.shape[0]:\n",
        "                bl[i][y1[i]]=1\n",
        "                i=i+1\n",
        "            s=(np.sum(((yhat-bl)**2)))+cac\n",
        "            t=y1.shape[0]\n",
        "            return s/t\n",
        "\n",
        "\n",
        "# Initializes weights and biases for the neural network layers.\n",
        "\n",
        "    def make_layers(self,hidden_layers,neuron,neuron_input,start,classes,ques=0,hl=[]):\n",
        "\n",
        "        self.w = []\n",
        "        self.b = []\n",
        "\n",
        "        all_layer=[]\n",
        "        if ques == 0:\n",
        "          np.random.seed(5)\n",
        "          all_layer.append(neuron_input)\n",
        "          i=0\n",
        "          while i<hidden_layers:\n",
        "              all_layer.append(neuron)\n",
        "              i=i+1\n",
        "          intialization = 0\n",
        "          all_layer.append(classes)\n",
        "\n",
        "        elif ques == 2:\n",
        "          all_layer = [neuron_input] + hl + [classes]\n",
        "          hidden_layers = len(hl)\n",
        "\n",
        "        # all_layer = [784,128,,,,,10]\n",
        "        if start=='random':\n",
        "            i =0\n",
        "            while i<= hidden_layers:\n",
        "                # self.b.append(np.random.randn(1,all_layer[i+1]))\n",
        "                # self.w.append(np.random.randn(all_layer[i],all_layer[i+1]))\n",
        "\n",
        "                self.b.append(np.random.uniform(-0.5,0.5,(1,all_layer[i+1])))\n",
        "                self.w.append(np.random.uniform(-0.5,0.5,(all_layer[i],all_layer[i+1])))\n",
        "                i=i+1\n",
        "        if start=='Xavier':\n",
        "            i=0\n",
        "            while i<= hidden_layers:\n",
        "                self.b.append((np.random.randn(1,all_layer[i+1]))*np.sqrt(6/(1+all_layer[i+1])))\n",
        "                self.w.append((np.random.randn(all_layer[i],all_layer[i+1]))*np.sqrt(6/(all_layer[i]+all_layer[i+1])))\n",
        "\n",
        "                # n=np.sqrt(6/(all_layer[i]+all_layer[i+1]))\n",
        "                # wt=np.random.uniform(-n,n,(all_layer[i],all_layer[i+1]))\n",
        "                # b=np.random.uniform(-n,n,(1,all_layer[i+1]))\n",
        "                # self.b.append(b)\n",
        "                # self.w.append(wt)\n",
        "                i=i+1\n",
        "\n",
        "#Performs forward pass through the neural network layers.\n",
        "    def forward_pass(self,x,act='sigmoid'):\n",
        "\n",
        "        self.a,self.h=[],[]\n",
        "        check=x\n",
        "        i=0\n",
        "        while i<len(self.w)-1:\n",
        "            q1=np.add(np.matmul(check,self.w[i]),self.b[i])\n",
        "            bool = act=='ReLU' and i==0\n",
        "            if (bool):\n",
        "                j=0\n",
        "                s=q1.shape[0]\n",
        "                while j < s:\n",
        "                    maxi=np.argmax(q1[j])\n",
        "                    q1[j]/=q1[j][maxi]\n",
        "                    j=j+1\n",
        "            r1=self.activations(act,q1)\n",
        "            check=r1\n",
        "            self.h.append(r1)\n",
        "            self.a.append(q1)\n",
        "            i=i+1\n",
        "        # print(len(self.w)-1,\"check\")\n",
        "        z=len(self.w)-1\n",
        "        q1=np.add(np.matmul(check,self.w[z]),self.b[z])\n",
        "        r1=self.activations('softmax',q1)\n",
        "        self.h.append(r1)\n",
        "        self.a.append(q1)\n",
        "\n",
        "        return self.h[-1]\n",
        "\n",
        "\n",
        "# Performs backward pass through the neural network layers to compute gradients.\n",
        "    def backward_pass(self,yhat,y1,x1,classes,activation,fn_loss,mom):\n",
        "        self.wd,self.bd,self.ad,self.hd=[],[],[],[]\n",
        "        bl=0\n",
        "        bl=np.zeros((y1.shape[0],classes))\n",
        "        i=0\n",
        "        while i< y1.shape[0]:\n",
        "            bl[i][y1[i]]=1\n",
        "            i=i+1\n",
        "\n",
        "        b=None\n",
        "        a=None\n",
        "\n",
        "\n",
        "        if fn_loss==\"cross_entropy\":\n",
        "            yhatl=np.zeros((yhat.shape[0],1))\n",
        "            i=0\n",
        "            while i< yhat.shape[0]:\n",
        "                yhatl[i]=yhat[i][y1[i]]\n",
        "                i=i+1\n",
        "\n",
        "            b=-1*(bl-yhat)\n",
        "            a=-1*(bl/yhatl)\n",
        "\n",
        "            self.hd.append(a)\n",
        "            self.ad.append(b)\n",
        "\n",
        "        elif fn_loss==\"mean_squared_error\":\n",
        "            s=yhat-bl\n",
        "            a=2*s\n",
        "            self.hd.append(a)\n",
        "            b=[]\n",
        "            j=0\n",
        "            while j< yhat.shape[1]:\n",
        "                r=yhat.shape[0]\n",
        "                s=yhat.shape[1]\n",
        "                hot_j=np.zeros((r,s))\n",
        "                hot_j[:,j]=1\n",
        "                hat_j=np.ones((r,s))*(yhat[:,j].reshape(r,1))\n",
        "                l=yhat-bl\n",
        "                x=hot_j-hat_j\n",
        "                aj=2*(np.sum((l)*(yhat*(x)),axis=1))\n",
        "                b.append(aj)\n",
        "                j=j+1\n",
        "            self.ad.append(np.array(b).T)\n",
        "\n",
        "\n",
        "\n",
        "        j = len(self.w)-1\n",
        "        while j>-1:\n",
        "            u=self.h[j-1].T\n",
        "            bool = (j==0)\n",
        "            if bool:\n",
        "                u=x1.T\n",
        "            t=x1.shape[0]\n",
        "            length=len(self.ad)\n",
        "            w=np.matmul(u,self.ad[-1])/t\n",
        "            b=np.sum(self.ad[length-1],axis=0)/t\n",
        "            if j!=0:\n",
        "                a=np.matmul(self.ad[length-1],self.w[j].T)\n",
        "                der=self.activations_derivative(activation,self.a[j-1])\n",
        "                z=np.multiply(a,der)\n",
        "                self.hd.append(a)\n",
        "                self.ad.append(z)\n",
        "            self.bd.append(b)\n",
        "            self.wd.append(w)\n",
        "            j=j-1\n",
        "        i=0\n",
        "\n",
        "        while i< len(self.w):\n",
        "            s=len(self.w)-1-i\n",
        "            self.wd[s]-=mom*self.w[i]\n",
        "            i=i+1\n",
        "#Compute the accuracy of the neural network on the given dataset.\n",
        "    def accuracy(self,x2,y2,act):\n",
        "        self.forward_pass(x2,act)\n",
        "        ypred=np.argmax(self.h[len(self.w)-1],axis=1)\n",
        "        n=0\n",
        "        l=y2.shape[0]\n",
        "        i=0\n",
        "        while i<y2.shape[0]:\n",
        "            if ypred[i]!=y2[i]:\n",
        "                n+=+1\n",
        "            i+=1\n",
        "        return ((x2.shape[0]-n)/y2.shape[0])*100\n",
        "\n",
        "#Make predictions using the neural network and print the test accuracy.\n",
        "    def predict(self,x2,y2,act):\n",
        "        self.forward_pass(x2,act)\n",
        "        fut=np.argmax(self.h[len(self.w)-1],axis=1)\n",
        "        n=0\n",
        "        i=0\n",
        "        while i < y2.shape[0]:\n",
        "            if fut[i]!=y2[i]:\n",
        "                n+=1\n",
        "            i+=1\n",
        "\n",
        "        acc=((x2.shape[0]-n)/y2.shape[0])*100\n",
        "        print(\"Test Accuracy: \"+str(acc))\n",
        "\n",
        "#Create batches from input data and labels.\n",
        "    def createBatches(self,x1,y1,size):\n",
        "        info,res=[],[]\n",
        "        s=x1.shape[0]\n",
        "        l=math.ceil(s/size)\n",
        "        i=0\n",
        "        while i < l:\n",
        "            group,group_ans=[],[]\n",
        "            j=i*size\n",
        "            s=min((i+1)*size,x1.shape[0])\n",
        "            while j< s:\n",
        "                group.append(x1[j])\n",
        "                group_ans.append(y1[j])\n",
        "                j+=1\n",
        "            group_ans=np.array(group_ans)\n",
        "            group=np.array(group)\n",
        "            info.append(group)\n",
        "            res.append(group_ans)\n",
        "            i+=1\n",
        "        return info,res\n",
        "\n",
        "#Perform one pass of forward and backward propagation through the network.\n",
        "    def onePass(self,x1,y1,classes,lay,rate,act,fn_loss,mom):\n",
        "        self.forward_pass(x1 ,act)\n",
        "        l=lay-1\n",
        "        self.backward_pass(self.h[l], y1,x1,10, act,fn_loss,mom)\n",
        "\n",
        "# Train the neural network using sgd.\n",
        "    def sgd(self,x1,y1,lay,epo,count,size,act,fn_ans,mom,c_l,w_l):\n",
        "        classes=10\n",
        "        info,res=self.createBatches(x1,y1,size)\n",
        "\n",
        "        i=0\n",
        "        while i < epo:\n",
        "            h=None\n",
        "            j=0\n",
        "            s=len(info)\n",
        "            while j< s:\n",
        "                self.onePass(info[j],res[j],classes,lay,count,act,fn_ans,mom)\n",
        "                k=0\n",
        "                while k< lay:\n",
        "                    q=lay-1-k\n",
        "                    self.w[k]-=count*(self.wd[q])\n",
        "                    self.b[k]-=count*self.bd[q]\n",
        "                    k+=1\n",
        "                j+=1\n",
        "            i+=1\n",
        "            self.forward_pass(x1,act)\n",
        "            loss_train=1\n",
        "            loss1=self.loss_function(fn_ans,self.h[lay-1],y1,mom)\n",
        "            self.forward_pass(x_val,act)\n",
        "            loss2=self.loss_function(fn_ans,self.h[lay-1],y_val,mom)\n",
        "            acc1=self.accuracy(x1,y1,act)\n",
        "            acc2=self.accuracy(x_val,y_val,act)\n",
        "\n",
        "            if w_l == 1:\n",
        "              wandb.log(\n",
        "                      {\n",
        "                          'epoch': i,\n",
        "                          'training_loss' : round(loss1,2),\n",
        "                          'training_accuracy' : round(acc1,2),\n",
        "                          'validation_loss' : round(loss2,2),\n",
        "                          'validation_accuracy':round(acc2,2)\n",
        "                      }\n",
        "                  )\n",
        "            if c_l == 1:\n",
        "\n",
        "              print(\"Iteration Number: \"+str(i), end=\"\")\n",
        "              print(\" Train Loss : \"+str(loss1))\n",
        "              print(\"Iteration Number: \"+str(i), end=\"\")\n",
        "              print(\" Validation Loss : \"+str(loss2))\n",
        "              print(\"Iteration Number: \"+str(i), end=\"\")\n",
        "              print(\" Train Accurcy : \"+str(acc1))\n",
        "              print(\"Iteration Number: \"+str(i), end=\"\")\n",
        "              print(\" Validaion Accuracy: \"+str(acc2))\n",
        "\n",
        "# Train the neural network using momentum\n",
        "    def momentum(self,x1,y1,lay,epo,count,size,eta,act,fn_loss,mom,c_l,w_l):\n",
        "        info,res=self.createBatches(x1,y1,size)\n",
        "        classes=10\n",
        "        alpha,beta=[],[]\n",
        "        i=0\n",
        "        while i< lay:\n",
        "            a=np.zeros((self.w[i].shape))\n",
        "            b=np.zeros(self.b[i].shape)\n",
        "            beta.append(b)\n",
        "            alpha.append(a)\n",
        "            i+=1\n",
        "        i=0\n",
        "        while i<epo :\n",
        "            j=0\n",
        "            while j< len(info):\n",
        "                self.onePass(info[j],res[j],classes,lay,count,act,fn_loss,mom)\n",
        "                k=0\n",
        "                while k < lay:\n",
        "                    s=lay-1-k\n",
        "                    alpha[k]=(alpha[k]*eta)+self.wd[s]\n",
        "                    beta[k]=(beta[k]*eta)+self.bd[s]\n",
        "                    self.w[k]-=count*alpha[k]\n",
        "                    self.b[k]-=count*beta[k]\n",
        "                    k+=1\n",
        "                j+=1\n",
        "            i+=1\n",
        "\n",
        "            self.forward_pass(x1,act)\n",
        "            loss1=self.loss_function(fn_loss,self.h[lay-1],y1,mom)\n",
        "            self.forward_pass(x_val,act)\n",
        "            loss2=self.loss_function(fn_loss,self.h[lay-1],y_val,mom)\n",
        "            acc1=self.accuracy(x1,y1,act)\n",
        "            acc2=self.accuracy(x_val,y_val,act)\n",
        "\n",
        "            if w_l == 1:\n",
        "              wandb.log(\n",
        "                      {\n",
        "                          'epoch': i,\n",
        "                          'training_loss' : round(loss1,2),\n",
        "                          'training_accuracy' : round(acc1,2),\n",
        "                          'validation_loss' : round(loss2,2),\n",
        "                          'validation_accuracy':round(acc2,2)\n",
        "                      }\n",
        "                  )\n",
        "            if c_l == 1:\n",
        "\n",
        "              print(\"Iteration Number: \"+str(i), end=\"\")\n",
        "              print(\" Train Loss : \"+str(loss1))\n",
        "              print(\"Iteration Number: \"+str(i), end=\"\")\n",
        "              print(\" Validation Loss : \"+str(loss2))\n",
        "              print(\"Iteration Number: \"+str(i), end=\"\")\n",
        "              print(\" Train Accurcy : \"+str(acc1))\n",
        "              print(\"Iteration Number: \"+str(i), end=\"\")\n",
        "              print(\" Validaion Accuracy: \"+str(acc2))\n",
        "\n",
        "# Train the neural network using nestrov\n",
        "    def nag(self,x1,y1,lay,epo,count,size,eta,act,fn_loss,mom,c_l,w_l):\n",
        "        classes=10\n",
        "        info,res=self.createBatches(x1,y1,size)\n",
        "\n",
        "        alpha,beta=[],[]\n",
        "\n",
        "        i=0\n",
        "        while i<lay:\n",
        "            b=np.zeros((self.b[i].shape))\n",
        "            a=np.zeros((self.w[i].shape))\n",
        "            beta.append(b)\n",
        "            alpha.append(a)\n",
        "            i+=1\n",
        "\n",
        "        i=0\n",
        "        while i< epo:\n",
        "            j=0\n",
        "            while j< len(info):\n",
        "                k=0\n",
        "                while k < lay:\n",
        "                    self.b[k]-=eta*beta[k]\n",
        "                    self.w[k]-=eta*alpha[k]\n",
        "                    k+=1\n",
        "                self.onePass(info[j],res[j],classes,lay,count,act,fn_loss,mom)\n",
        "                k=0\n",
        "                while k<lay:\n",
        "                    s=lay-1-k\n",
        "                    alpha[k]=(eta*alpha[k])+count*(self.wd[s])\n",
        "                    beta[k]=(eta*beta[k])+count*self.bd[s]\n",
        "                    self.b[k]-=beta[k]\n",
        "                    self.w[k]-=alpha[k]\n",
        "                    k+=1\n",
        "                j+=1\n",
        "            i+=1\n",
        "\n",
        "            self.forward_pass(x1,act)\n",
        "            s=lay-1\n",
        "            loss1=self.loss_function(fn_loss,self.h[s],y1,mom)\n",
        "            self.forward_pass(x_val,act)\n",
        "            loss2=self.loss_function(fn_loss,self.h[s],y_val,mom)\n",
        "            acc1=self.accuracy(x1,y1,act)\n",
        "            acc2=self.accuracy(x_val,y_val,act)\n",
        "            if w_l == 1:\n",
        "              wandb.log(\n",
        "                      {\n",
        "                          'epoch': i,\n",
        "                          'training_loss' : round(loss1,2),\n",
        "                          'training_accuracy' : round(acc1,2),\n",
        "                          'validation_loss' : round(loss2,2),\n",
        "                          'validation_accuracy':round(acc2,2)\n",
        "                      }\n",
        "                  )\n",
        "            if c_l == 1:\n",
        "\n",
        "              print(\"Iteration Number: \"+str(i), end=\"\")\n",
        "              print(\" Train Loss : \"+str(loss1))\n",
        "              print(\"Iteration Number: \"+str(i), end=\"\")\n",
        "              print(\" Validation Loss : \"+str(loss2))\n",
        "              print(\"Iteration Number: \"+str(i), end=\"\")\n",
        "              print(\" Train Accurcy : \"+str(acc1))\n",
        "              print(\"Iteration Number: \"+str(i), end=\"\")\n",
        "              print(\" Validaion Accuracy: \"+str(acc2))\n",
        "\n",
        "\n",
        "\n",
        "# Train the neural network using rmsProp.\n",
        "    def rmsprop(self,x1,y1,lay,epo,count,size,eta,act,fn_loss,mom,e,c_l,w_l):\n",
        "        info,res=self.createBatches(x1,y1,size)\n",
        "        classes =10\n",
        "        alpha,beta=[],[]\n",
        "\n",
        "        i=0\n",
        "        while i< lay:\n",
        "            b=np.zeros((self.b[i].shape))\n",
        "            a=np.zeros((self.w[i].shape))\n",
        "            beta.append(b)\n",
        "            alpha.append(a)\n",
        "            i+=1\n",
        "\n",
        "        i=0\n",
        "        while i < int(epo):\n",
        "            j=0\n",
        "            while j < len(info):\n",
        "                self.onePass(info[j],res[j],classes,lay,count,act,fn_loss,mom)\n",
        "                k=0\n",
        "                while k < lay:\n",
        "                    s=lay-1-k\n",
        "                    q=1-eta\n",
        "                    alpha[k]=(alpha[k]*eta)+(q)*np.square(self.wd[s])\n",
        "                    beta[k]=(beta[k]*eta)+(q)*np.square(self.bd[s])\n",
        "                    self.w[k]-=(count/np.sqrt(np.linalg.norm(alpha[k]+e)))*self.wd[s]\n",
        "                    self.b[k]-=(count/np.sqrt(np.linalg.norm(beta[k]+e)))*self.bd[s]\n",
        "                    k+=1\n",
        "                j+=1\n",
        "            i+=1\n",
        "\n",
        "            self.forward_pass(x1,act)\n",
        "            s=lay-1\n",
        "            loss1=self.loss_function(fn_loss,self.h[s],y1,mom)\n",
        "            self.forward_pass(x_val,act)\n",
        "            loss2=self.loss_function(fn_loss,self.h[s],y_val,mom)\n",
        "            acc1=self.accuracy(x1,y1,act)\n",
        "            acc2=self.accuracy(x_val,y_val,act)\n",
        "            if w_l == 1:\n",
        "              wandb.log(\n",
        "                      {\n",
        "                          'epoch': i,\n",
        "                          'training_loss' : round(loss1,2),\n",
        "                          'training_accuracy' : round(acc1,2),\n",
        "                          'validation_loss' : round(loss2,2),\n",
        "                          'validation_accuracy':round(acc2,2)\n",
        "                      }\n",
        "                  )\n",
        "            if c_l == 1:\n",
        "\n",
        "              print(\"Iteration Number: \"+str(i), end=\"\")\n",
        "              print(\" Train Loss : \"+str(loss1))\n",
        "              print(\"Iteration Number: \"+str(i), end=\"\")\n",
        "              print(\" Validation Loss : \"+str(loss2))\n",
        "              print(\"Iteration Number: \"+str(i), end=\"\")\n",
        "              print(\" Train Accurcy : \"+str(acc1))\n",
        "              print(\"Iteration Number: \"+str(i), end=\"\")\n",
        "              print(\" Validaion Accuracy: \"+str(acc2))\n",
        "\n",
        "# Train the neural network using adam.\n",
        "    def adam(self,x1,y1,lay,epo,count,size,eta1,eta2,act,fn_loss,e,mom,c_l,w_l):\n",
        "        info,res=self.createBatches(x1,y1,size)\n",
        "        classes=10\n",
        "        w1,w2,b1,b2=[],[],[],[]\n",
        "\n",
        "        i=0\n",
        "        while i< lay:\n",
        "            b=np.zeros((self.w[i].shape))\n",
        "            a=np.zeros((self.w[i].shape))\n",
        "            w2.append(b)\n",
        "            w1.append(a)\n",
        "            b=np.zeros((self.b[i].shape))\n",
        "            a=np.zeros((self.b[i].shape))\n",
        "            b1.append(a)\n",
        "            b2.append(b)\n",
        "            i+=1\n",
        "\n",
        "        a=0\n",
        "        i = 0\n",
        "        while i < int(epo):\n",
        "            j=0\n",
        "            while j< len(info):\n",
        "                a=a+1\n",
        "                self.onePass(info[j],res[j],classes,lay,count,act,fn_loss,mom)\n",
        "                k=0\n",
        "                while k< lay:\n",
        "                    r=1-eta1\n",
        "                    p=1-eta2\n",
        "                    u=1-eta1**a\n",
        "                    v=1-eta2**a\n",
        "                    s=lay-1-k\n",
        "\n",
        "                    w1[k]=(w1[k]*eta1)+(r)*self.wd[s]\n",
        "                    mwhat=w1[k]/(u)\n",
        "\n",
        "                    w2[k]=(w2[k]*eta2)+(p)*np.square(self.wd[s])\n",
        "                    vwhat=w2[k]/(v)\n",
        "\n",
        "                    b1[k]=(b1[k]*eta1)+(r)*self.bd[s]\n",
        "                    mbhat=b1[k]/(u)\n",
        "\n",
        "                    b2[k]=(b2[k]*eta2)+(p)*np.square(self.bd[s])\n",
        "                    vbhat=b2[k]/(v)\n",
        "\n",
        "                    self.w[k]-=(count/np.sqrt(vwhat+e))*mwhat\n",
        "                    self.b[k]-=(count/np.sqrt(vbhat+e))*mbhat\n",
        "                    k+=1\n",
        "                j+=1\n",
        "            i=i+1\n",
        "            self.forward_pass(x1, act)\n",
        "            s=lay-1\n",
        "            loss1=self.loss_function(fn_loss,self.h[s],y1,mom)\n",
        "            self.forward_pass(x_val,act)\n",
        "            loss2=self.loss_function(fn_loss,self.h[s],y_val,mom)\n",
        "            acc1=self.accuracy(x1,y1,act)\n",
        "            acc2=self.accuracy(x_val,y_val,act)\n",
        "            if w_l == 1:\n",
        "              wandb.log(\n",
        "                      {\n",
        "                          'epoch': i,\n",
        "                          'training_loss' : round(loss1,2),\n",
        "                          'training_accuracy' : round(acc1,2),\n",
        "                          'validation_loss' : round(loss2,2),\n",
        "                          'validation_accuracy':round(acc2,2)\n",
        "                      }\n",
        "                  )\n",
        "            if c_l == 1:\n",
        "\n",
        "              print(\"Iteration Number: \"+str(i), end=\"\")\n",
        "              print(\" Train Loss : \"+str(loss1))\n",
        "              print(\"Iteration Number: \"+str(i), end=\"\")\n",
        "              print(\" Validation Loss : \"+str(loss2))\n",
        "              print(\"Iteration Number: \"+str(i), end=\"\")\n",
        "              print(\" Train Accurcy : \"+str(acc1))\n",
        "              print(\"Iteration Number: \"+str(i), end=\"\")\n",
        "              print(\" Validaion Accuracy: \"+str(acc2))\n",
        "\n",
        "# Train the neural network using Nadam\n",
        "    def nadam(self,x1,y1,lay,epo,count,size,eta1,eta2,act,fn_loss,e,mom,c_l,w_l):\n",
        "        classes=10\n",
        "        w1,w2,b1,b2=[],[],[],[]\n",
        "        info,res=self.createBatches(x1,y1,size)\n",
        "\n",
        "        for i in range(lay):\n",
        "            b=np.zeros((self.w[i].shape))\n",
        "            a=np.zeros((self.w[i].shape))\n",
        "            w2.append(b)\n",
        "            w1.append(a)\n",
        "            b=np.zeros((self.b[i].shape))\n",
        "            a=np.zeros((self.b[i].shape))\n",
        "            b1.append(a)\n",
        "            b2.append(b)\n",
        "\n",
        "        a=0\n",
        "        i=0\n",
        "        while i< int(epo):\n",
        "            j=0\n",
        "            while j< len(info):\n",
        "                a=a+1\n",
        "                self.onePass(info[j],res[j],classes,lay,count,act,fn_loss,mom)\n",
        "                k=0\n",
        "                while k < lay:\n",
        "                    r=1-eta1\n",
        "                    p=1-eta2\n",
        "                    u=1-eta1**a\n",
        "                    v=1-eta2**a\n",
        "                    s=lay-1-k\n",
        "                    w1[k]=(w1[k]*eta1)+(r)*self.wd[s]\n",
        "                    mwhat=w1[k]/(u)\n",
        "\n",
        "                    w2[k]=(w2[k]*eta2)+(p)*np.square(self.wd[s])\n",
        "                    vwhat=w2[k]/(v)\n",
        "\n",
        "                    b1[k]=(b1[k]*eta1)+(r)*self.bd[s]\n",
        "                    mbhat=b1[k]/(u)\n",
        "\n",
        "                    b2[k]=(b2[k]*eta2)+(p)*np.square(self.bd[s])\n",
        "                    vbhat=b2[k]/(v)\n",
        "\n",
        "                    self.w[k]-=(count/np.sqrt(vwhat+e))*(eta1*mwhat+(((r)*self.wd[s])/(u)))\n",
        "                    self.b[k]-=(count/np.sqrt(vbhat+e))*(eta1*mbhat+(((r)*self.bd[s])/(u)))\n",
        "                    k=k+1\n",
        "                j=j+1\n",
        "            i=i+1\n",
        "            self.forward_pass(x1,act)\n",
        "            s=lay-1\n",
        "            loss1=self.loss_function(fn_loss ,self.h[s],y1,mom)\n",
        "            self.forward_pass(x_val ,act)\n",
        "            loss2=self.loss_function(fn_loss,self.h[s], y_val,mom)\n",
        "            acc1=self.accuracy(x1 ,y1 ,act)\n",
        "            acc2=self.accuracy(x_val ,y_val,act)\n",
        "            if w_l == 1:\n",
        "              wandb.log(\n",
        "                      {\n",
        "                          'epoch': i,\n",
        "                          'training_loss' : round(loss1,2),\n",
        "                          'training_accuracy' : round(acc1,2),\n",
        "                          'validation_loss' : round(loss2,2),\n",
        "                          'validation_accuracy':round(acc2,2)\n",
        "                      }\n",
        "                  )\n",
        "            if c_l == 1:\n",
        "\n",
        "              print(\"Iteration Number: \"+str(i), end=\"\")\n",
        "              print(\" Train Loss : \"+str(loss1))\n",
        "              print(\"Iteration Number: \"+str(i), end=\"\")\n",
        "              print(\" Validation Loss : \"+str(loss2))\n",
        "              print(\"Iteration Number: \"+str(i), end=\"\")\n",
        "              print(\" Train Accurcy : \"+str(acc1))\n",
        "              print(\"Iteration Number: \"+str(i), end=\"\")\n",
        "              print(\" Validaion Accuracy: \"+str(acc2))\n",
        "\n",
        "\n",
        "# training the model based one given parameters\n",
        "    def fit_model(self,x1,y1,x2,y2,hiddenlayers,neuron,input_neuron,batch,initialization,fn_loss,activation,optimizer,n,iter,beta,beta1,beta2,e,alpha,mom,c_l=1,w_l=1):\n",
        "        # self.w,self.b=[],[]\n",
        "        self.make_layers(hiddenlayers,neuron,input_neuron,initialization,10)\n",
        "        # print(len(self.w),\"arch\")\n",
        "        if optimizer==\"sgd\":\n",
        "            self.sgd(x1,y1,len(self.w),iter,n,batch,activation,fn_loss,alpha,c_l,w_l)\n",
        "        elif optimizer=='momentum':\n",
        "            self.momentum(x1,y1,len(self.w),iter,n,batch,mom,activation,fn_loss,alpha,c_l,w_l)\n",
        "        elif optimizer=='nag':\n",
        "            self.nag(x1,y1,len(self.w),iter,n,batch,beta,activation,fn_loss,alpha,c_l,w_l)\n",
        "        elif optimizer=='rmsprop':\n",
        "            self.rmsprop(x1,y1,len(self.w),iter,n,batch,beta,activation,fn_loss,alpha,e,c_l,w_l)\n",
        "        elif optimizer=='adam':\n",
        "            self.adam(x1,y1,len(self.w),iter,n,batch,beta1,beta2,activation,fn_loss,e,alpha,c_l,w_l)\n",
        "        elif optimizer=='nadam':\n",
        "            self.nadam(x1,y1,len(self.w),iter,n,batch,beta1,beta2,activation,fn_loss,e,alpha,c_l,w_l)\n",
        "\n",
        "\n"
      ],
      "metadata": {
        "id": "jsioYUuwt_Hi"
      },
      "execution_count": 45,
      "outputs": []
    },
    {
      "cell_type": "markdown",
      "source": [
        "## Ques :2"
      ],
      "metadata": {
        "id": "MLbnorQ1tMW5"
      }
    },
    {
      "cell_type": "code",
      "source": [
        "# Implementing forward pass\n",
        "# Also making it flexible so that hidden layer size can vert\n",
        "obj = NeuralNetwork()\n",
        "hiddenlayer = [16,32,64]\n",
        "obj.make_layers(4,64,784,'Xavier',10,2,hiddenlayer)\n",
        "y_preds = obj.forward_pass(x2[1],act='tanh')\n",
        "print(\"predicted values ->\",y_preds)\n"
      ],
      "metadata": {
        "colab": {
          "base_uri": "https://localhost:8080/"
        },
        "id": "Atn7vByptPUr",
        "outputId": "2c8fff36-73db-4757-e167-6e180d2f138a"
      },
      "execution_count": 44,
      "outputs": [
        {
          "output_type": "stream",
          "name": "stdout",
          "text": [
            "predicted values -> [[0.01443834 0.07875069 0.01137712 0.65987786 0.08924478 0.08503693\n",
            "  0.00376674 0.00591696 0.0200263  0.03156428]]\n"
          ]
        }
      ]
    },
    {
      "cell_type": "markdown",
      "metadata": {
        "id": "QCoNonAhts54"
      },
      "source": [
        "## Ques : 3"
      ]
    },
    {
      "cell_type": "code",
      "source": [
        "wandb.init(project=\"DL-Assignment-1\")\n",
        "obj=NeuralNetwork()\n",
        "obj.fit_model(x1,\n",
        "                 y1,\n",
        "                 x_val,\n",
        "                 y_val,\n",
        "                 hiddenlayers=3,\n",
        "                 neuron=128,\n",
        "                 input_neuron=784,\n",
        "                 batch=32,\n",
        "                 initialization=\"Xavier\",\n",
        "                 fn_loss=\"cross_entropy\",\n",
        "                 activation=\"tanh\",\n",
        "                 optimizer=\"rmsprop\",\n",
        "                 n=0.001,\n",
        "                 iter=3,\n",
        "                 beta=0.9,\n",
        "                 beta1=0.999,\n",
        "                 beta2=0.999,\n",
        "                 e=1e-8,\n",
        "                 alpha=0,\n",
        "                 mom=0.9)\n",
        "obj.predict(x2,y2,act=\"tanh\")\n",
        "wandb.finish()"
      ],
      "metadata": {
        "id": "IQUgDlgBtiua",
        "colab": {
          "base_uri": "https://localhost:8080/",
          "height": 877,
          "referenced_widgets": [
            "64c7ea8c2d81404580bb1d2991dcb140",
            "aa5662357ef145088e18eb67f179d062",
            "14d0ae70884e4ff2b3ec22d98a61119e",
            "0116cab895214437a44284df5141c01d",
            "9142162084434bc5a46e99ab79e6ee83",
            "c4ff9bf86e9e4d8091f8933bb6f9b565",
            "d9b6588fac1c4964988d59549488bc00",
            "5756be25a0cd482e9faff5b359abc5db",
            "119a9fb8426b4b1283aa13d0544384a6",
            "8284637d97c24c6d92e8314b8fea67f5",
            "808eb54daec84fd8867d69f5942d9220",
            "7ddde5fd67f04214b83bba85127ddb09",
            "804a268f0cb24e399662d991ce229380",
            "52a0c3840daa4ba4aeb856d964ded142",
            "4d0b5dd6bf1e4e2292f3ad84f21c967f",
            "9a344f93e6e34ff09380cce18a8b9ed0"
          ]
        },
        "outputId": "74d0b052-4172-442f-8a47-8641880a330f"
      },
      "execution_count": 46,
      "outputs": [
        {
          "output_type": "display_data",
          "data": {
            "text/plain": [
              "<IPython.core.display.HTML object>"
            ],
            "text/html": [
              "Finishing last run (ID:ny5f4eft) before initializing another..."
            ]
          },
          "metadata": {}
        },
        {
          "output_type": "display_data",
          "data": {
            "text/plain": [
              "VBox(children=(Label(value='0.001 MB of 0.001 MB uploaded\\r'), FloatProgress(value=1.0, max=1.0)))"
            ],
            "application/vnd.jupyter.widget-view+json": {
              "version_major": 2,
              "version_minor": 0,
              "model_id": "64c7ea8c2d81404580bb1d2991dcb140"
            }
          },
          "metadata": {}
        },
        {
          "output_type": "display_data",
          "data": {
            "text/plain": [
              "<IPython.core.display.HTML object>"
            ],
            "text/html": [
              "<style>\n",
              "    table.wandb td:nth-child(1) { padding: 0 10px; text-align: left ; width: auto;} td:nth-child(2) {text-align: left ; width: 100%}\n",
              "    .wandb-row { display: flex; flex-direction: row; flex-wrap: wrap; justify-content: flex-start; width: 100% }\n",
              "    .wandb-col { display: flex; flex-direction: column; flex-basis: 100%; flex: 1; padding: 10px; }\n",
              "    </style>\n",
              "<div class=\"wandb-row\"><div class=\"wandb-col\"><h3>Run history:</h3><br/><table class=\"wandb\"><tr><td>epoch</td><td>▁</td></tr><tr><td>training_accuracy</td><td>▁</td></tr><tr><td>training_loss</td><td>▁</td></tr><tr><td>validation_accuracy</td><td>▁</td></tr><tr><td>validation_loss</td><td>▁</td></tr></table><br/></div><div class=\"wandb-col\"><h3>Run summary:</h3><br/><table class=\"wandb\"><tr><td>epoch</td><td>1</td></tr><tr><td>training_accuracy</td><td>84.6</td></tr><tr><td>training_loss</td><td>0.61</td></tr><tr><td>validation_accuracy</td><td>83.97</td></tr><tr><td>validation_loss</td><td>0.63</td></tr></table><br/></div></div>"
            ]
          },
          "metadata": {}
        },
        {
          "output_type": "display_data",
          "data": {
            "text/plain": [
              "<IPython.core.display.HTML object>"
            ],
            "text/html": [
              " View run <strong style=\"color:#cdcd00\">quiet-smoke-969</strong> at: <a href='https://wandb.ai/cs23m015/DL-Assignment-1/runs/ny5f4eft' target=\"_blank\">https://wandb.ai/cs23m015/DL-Assignment-1/runs/ny5f4eft</a><br/>Synced 5 W&B file(s), 0 media file(s), 0 artifact file(s) and 0 other file(s)"
            ]
          },
          "metadata": {}
        },
        {
          "output_type": "display_data",
          "data": {
            "text/plain": [
              "<IPython.core.display.HTML object>"
            ],
            "text/html": [
              "Find logs at: <code>./wandb/run-20240317_094431-ny5f4eft/logs</code>"
            ]
          },
          "metadata": {}
        },
        {
          "output_type": "display_data",
          "data": {
            "text/plain": [
              "<IPython.core.display.HTML object>"
            ],
            "text/html": [
              "Successfully finished last run (ID:ny5f4eft). Initializing new run:<br/>"
            ]
          },
          "metadata": {}
        },
        {
          "output_type": "display_data",
          "data": {
            "text/plain": [
              "<IPython.core.display.HTML object>"
            ],
            "text/html": [
              "Tracking run with wandb version 0.16.4"
            ]
          },
          "metadata": {}
        },
        {
          "output_type": "display_data",
          "data": {
            "text/plain": [
              "<IPython.core.display.HTML object>"
            ],
            "text/html": [
              "Run data is saved locally in <code>/content/wandb/run-20240317_094545-72z709fh</code>"
            ]
          },
          "metadata": {}
        },
        {
          "output_type": "display_data",
          "data": {
            "text/plain": [
              "<IPython.core.display.HTML object>"
            ],
            "text/html": [
              "Syncing run <strong><a href='https://wandb.ai/cs23m015/DL-Assignment-1/runs/72z709fh' target=\"_blank\">sage-tree-970</a></strong> to <a href='https://wandb.ai/cs23m015/DL-Assignment-1' target=\"_blank\">Weights & Biases</a> (<a href='https://wandb.me/run' target=\"_blank\">docs</a>)<br/>"
            ]
          },
          "metadata": {}
        },
        {
          "output_type": "display_data",
          "data": {
            "text/plain": [
              "<IPython.core.display.HTML object>"
            ],
            "text/html": [
              " View project at <a href='https://wandb.ai/cs23m015/DL-Assignment-1' target=\"_blank\">https://wandb.ai/cs23m015/DL-Assignment-1</a>"
            ]
          },
          "metadata": {}
        },
        {
          "output_type": "display_data",
          "data": {
            "text/plain": [
              "<IPython.core.display.HTML object>"
            ],
            "text/html": [
              " View run at <a href='https://wandb.ai/cs23m015/DL-Assignment-1/runs/72z709fh' target=\"_blank\">https://wandb.ai/cs23m015/DL-Assignment-1/runs/72z709fh</a>"
            ]
          },
          "metadata": {}
        },
        {
          "output_type": "stream",
          "name": "stdout",
          "text": [
            "Iteration Number: 1 Train Loss : 0.7012754208174107\n",
            "Iteration Number: 1 Validation Loss : 0.7167375521812134\n",
            "Iteration Number: 1 Train Accurcy : 82.53703703703704\n",
            "Iteration Number: 1 Validaion Accuracy: 82.26666666666667\n",
            "Iteration Number: 2 Train Loss : 0.6132405642489823\n",
            "Iteration Number: 2 Validation Loss : 0.6291092219709723\n",
            "Iteration Number: 2 Train Accurcy : 84.77222222222223\n",
            "Iteration Number: 2 Validaion Accuracy: 84.21666666666667\n",
            "Iteration Number: 3 Train Loss : 0.567798257545084\n",
            "Iteration Number: 3 Validation Loss : 0.5862449159432226\n",
            "Iteration Number: 3 Train Accurcy : 85.87407407407407\n",
            "Iteration Number: 3 Validaion Accuracy: 85.51666666666667\n",
            "Test Accuracy: 84.28\n"
          ]
        },
        {
          "output_type": "display_data",
          "data": {
            "text/plain": [
              "VBox(children=(Label(value='0.001 MB of 0.001 MB uploaded\\r'), FloatProgress(value=1.0, max=1.0)))"
            ],
            "application/vnd.jupyter.widget-view+json": {
              "version_major": 2,
              "version_minor": 0,
              "model_id": "119a9fb8426b4b1283aa13d0544384a6"
            }
          },
          "metadata": {}
        },
        {
          "output_type": "display_data",
          "data": {
            "text/plain": [
              "<IPython.core.display.HTML object>"
            ],
            "text/html": [
              "<style>\n",
              "    table.wandb td:nth-child(1) { padding: 0 10px; text-align: left ; width: auto;} td:nth-child(2) {text-align: left ; width: 100%}\n",
              "    .wandb-row { display: flex; flex-direction: row; flex-wrap: wrap; justify-content: flex-start; width: 100% }\n",
              "    .wandb-col { display: flex; flex-direction: column; flex-basis: 100%; flex: 1; padding: 10px; }\n",
              "    </style>\n",
              "<div class=\"wandb-row\"><div class=\"wandb-col\"><h3>Run history:</h3><br/><table class=\"wandb\"><tr><td>epoch</td><td>▁▅█</td></tr><tr><td>training_accuracy</td><td>▁▆█</td></tr><tr><td>training_loss</td><td>█▃▁</td></tr><tr><td>validation_accuracy</td><td>▁▅█</td></tr><tr><td>validation_loss</td><td>█▃▁</td></tr></table><br/></div><div class=\"wandb-col\"><h3>Run summary:</h3><br/><table class=\"wandb\"><tr><td>epoch</td><td>3</td></tr><tr><td>training_accuracy</td><td>85.87</td></tr><tr><td>training_loss</td><td>0.57</td></tr><tr><td>validation_accuracy</td><td>85.52</td></tr><tr><td>validation_loss</td><td>0.59</td></tr></table><br/></div></div>"
            ]
          },
          "metadata": {}
        },
        {
          "output_type": "display_data",
          "data": {
            "text/plain": [
              "<IPython.core.display.HTML object>"
            ],
            "text/html": [
              " View run <strong style=\"color:#cdcd00\">sage-tree-970</strong> at: <a href='https://wandb.ai/cs23m015/DL-Assignment-1/runs/72z709fh' target=\"_blank\">https://wandb.ai/cs23m015/DL-Assignment-1/runs/72z709fh</a><br/>Synced 5 W&B file(s), 0 media file(s), 0 artifact file(s) and 0 other file(s)"
            ]
          },
          "metadata": {}
        },
        {
          "output_type": "display_data",
          "data": {
            "text/plain": [
              "<IPython.core.display.HTML object>"
            ],
            "text/html": [
              "Find logs at: <code>./wandb/run-20240317_094545-72z709fh/logs</code>"
            ]
          },
          "metadata": {}
        }
      ]
    },
    {
      "cell_type": "markdown",
      "metadata": {
        "id": "3LhmPYb9ts58"
      },
      "source": [
        "## Ques 4"
      ]
    },
    {
      "cell_type": "code",
      "execution_count": null,
      "metadata": {
        "id": "WluKzSIFDyJQ"
      },
      "outputs": [],
      "source": [
        "sweep_config = {\n",
        "            'name': 'sweep 1 : random',\n",
        "            'method': 'random',\n",
        "            'metric': { 'goal': 'maximize','name': 'Accuracy'},\n",
        "            'parameters':\n",
        "                {\n",
        "                    # 'dataset' : {'values': ['fashion_mnist']}, # 'fashion_mnist', 'mnist'\n",
        "                    'iter': {'values': [5,10]},\n",
        "                    'batch': {'values': [32,64]},\n",
        "                    'fn_loss': {'values': ['cross_entropy', 'mean_squared_error']}, # 'mean_squared_error', 'cross_entropy'\n",
        "                    'optimizer': {'values': ['sgd', 'momentum', 'nag', 'rmsprop', 'adam', 'nadam']}, # 'sgd', 'momentum', 'nag', 'rmsprop', 'adam', 'nadam'\n",
        "                    'n' : {'values': [1e-3, 1e-4]},\n",
        "                    'mom' : {'values': [0.9,0.5]},\n",
        "                    'beta' : {'values': [0.9,0.5]},\n",
        "                    'beta1' : {'values': [0.999]},\n",
        "                    'beta2' : {'values': [0.999]},\n",
        "                    'e' : {'values': [1e-6]},\n",
        "                    'alpha': {'values': [0,0.0005]},\n",
        "                    'initialization': {'values': ['random','Xavier']}, # 'random', 'Xavier'\n",
        "                    'hiddenlayers': {'values': [3, 4, 5]},\n",
        "                    'neuron': {'values': [32, 64, 128]},\n",
        "                    'activation': {'values': ['identity', 'sigmoid','tanh', 'ReLU']}, # 'identity', 'sigmoid', 'tanh', 'ReLU'\n",
        "                    'outAct': {'values': ['softmax']}\n",
        "                }\n",
        "            }\n",
        "\n",
        "\n",
        "\n",
        "def train():\n",
        "    #init-classinit , config - param_copy\n",
        "    init = wandb.init(project='DL-Assignment-1')\n",
        "    config = init.config\n",
        "    wandb.run.name = (\n",
        "        'o:' + config.optimizer +\n",
        "        '_a:' + config.activation +\n",
        "        '_ep:' + str(config.iter) +\n",
        "        '_l:' + config.fn_loss +\n",
        "        '_i:' + config.initialization +\n",
        "        '_hl:' + str(config.hiddenlayers) +\n",
        "        '_hls:' + str(config.neuron)\n",
        "    )\n",
        "    obj=NeuralNetwork()\n",
        "    obj.fit_model(x1,\n",
        "                    y1,\n",
        "                    x_val,\n",
        "                    y_val,\n",
        "                    hiddenlayers=config.hiddenlayers,\n",
        "                    neuron=config.neuron,\n",
        "                    input_neuron=784,\n",
        "                    batch=config.batch,\n",
        "                    initialization=config.initialization,\n",
        "                    fn_loss=config.fn_loss,\n",
        "                    activation=config.activation,\n",
        "                    optimizer=config.optimizer,\n",
        "                    n=config.n,\n",
        "                    iter=config.iter,\n",
        "                    beta=config.beta,\n",
        "                    beta1=config.beta1,\n",
        "                    beta2=config.beta2,\n",
        "                    e=config.e,\n",
        "                    alpha=config.alpha,\n",
        "                    mom=config.mom)\n",
        "\n",
        "    val_acc = obj.accuracy(x_val,y_val,config.activation)\n",
        "    wandb.log({'Accuracy': val_acc})\n",
        "\n",
        "\n",
        "\n",
        "\n",
        "sweep_id = wandb.sweep(sweep_config, project='DL-Assignment-1')\n",
        "wandb.agent(sweep_id, train, count = 300)\n",
        "wandb.finish()\n",
        "\n",
        "\n",
        "\n"
      ]
    },
    {
      "cell_type": "markdown",
      "source": [
        "## Ques 7"
      ],
      "metadata": {
        "id": "LT5GxkxzEjHB"
      }
    },
    {
      "cell_type": "code",
      "source": [
        "wandb.init(project='DL-Assignment-1')\n",
        "obj=NeuralNetwork()\n",
        "obj.fit_model(x1,\n",
        "                 y1,\n",
        "                 x_val,\n",
        "                 y_val,\n",
        "                 hiddenlayers=4,\n",
        "                 neuron=128,\n",
        "                 input_neuron=784,\n",
        "                 batch=32,\n",
        "                 initialization=\"Xavier\",\n",
        "                 fn_loss=\"cross_entropy\",\n",
        "                 activation=\"tanh\",\n",
        "                 optimizer=\"nadam\",\n",
        "                 n=0.0005,\n",
        "                 iter=1,\n",
        "                 beta=0.9,\n",
        "                 beta1=0.999,\n",
        "                 beta2=0.999,\n",
        "                 e=1e-8,\n",
        "                 alpha=0,\n",
        "                 mom=0.9)\n",
        "\n",
        "\n",
        "\n"
      ],
      "metadata": {
        "colab": {
          "base_uri": "https://localhost:8080/",
          "height": 173
        },
        "id": "--YOY3MkEtgm",
        "outputId": "895bf890-dbdc-46fe-922f-a980edb8bf5f"
      },
      "execution_count": 37,
      "outputs": [
        {
          "output_type": "display_data",
          "data": {
            "text/plain": [
              "<IPython.core.display.HTML object>"
            ],
            "text/html": [
              "Tracking run with wandb version 0.16.4"
            ]
          },
          "metadata": {}
        },
        {
          "output_type": "display_data",
          "data": {
            "text/plain": [
              "<IPython.core.display.HTML object>"
            ],
            "text/html": [
              "Run data is saved locally in <code>/content/wandb/run-20240317_091637-ozjyta2a</code>"
            ]
          },
          "metadata": {}
        },
        {
          "output_type": "display_data",
          "data": {
            "text/plain": [
              "<IPython.core.display.HTML object>"
            ],
            "text/html": [
              "Syncing run <strong><a href='https://wandb.ai/cs23m015/DL-Assignment-1/runs/ozjyta2a' target=\"_blank\">vivid-flower-967</a></strong> to <a href='https://wandb.ai/cs23m015/DL-Assignment-1' target=\"_blank\">Weights & Biases</a> (<a href='https://wandb.me/run' target=\"_blank\">docs</a>)<br/>"
            ]
          },
          "metadata": {}
        },
        {
          "output_type": "display_data",
          "data": {
            "text/plain": [
              "<IPython.core.display.HTML object>"
            ],
            "text/html": [
              " View project at <a href='https://wandb.ai/cs23m015/DL-Assignment-1' target=\"_blank\">https://wandb.ai/cs23m015/DL-Assignment-1</a>"
            ]
          },
          "metadata": {}
        },
        {
          "output_type": "display_data",
          "data": {
            "text/plain": [
              "<IPython.core.display.HTML object>"
            ],
            "text/html": [
              " View run at <a href='https://wandb.ai/cs23m015/DL-Assignment-1/runs/ozjyta2a' target=\"_blank\">https://wandb.ai/cs23m015/DL-Assignment-1/runs/ozjyta2a</a>"
            ]
          },
          "metadata": {}
        },
        {
          "output_type": "stream",
          "name": "stdout",
          "text": [
            "Iteration Number: 1 Train Loss : 0.5637975557781287\n",
            "Iteration Number: 1 Validation Loss : 0.5722831418591378\n",
            "Iteration Number: 1 Train Accurcy : 85.56851851851852\n",
            "Iteration Number: 1 Validaion Accuracy: 85.51666666666667\n"
          ]
        }
      ]
    },
    {
      "cell_type": "code",
      "source": [
        "wandb.init(project=\"DL-Assignment-1\", name=\"Ques 7\")\n",
        "true_label = [\"T-shirt/top\", \"Trouser\", \"Pullover\", \"Dress\", \"Coat\", \"Sandal\", \"Shirt\", \"Sneaker\", \"Bag\", \"Ankle boot\"]\n",
        "y_preds=[]\n",
        "for i in range (len(x2)):\n",
        "  y_preds.append(obj.forward_pass(x2[i],act='tanh'))\n"
      ],
      "metadata": {
        "id": "eKIzKqhLO0JU"
      },
      "execution_count": 38,
      "outputs": []
    },
    {
      "cell_type": "code",
      "source": [
        "# Run Neural Network class before plotting confusion matrix\n",
        "y2 = np.eye(10)[y2]\n",
        "mat = pd.DataFrame(confusion_matrix(np.argmax(y2,1) , np.argmax(np.array(y_preds).squeeze(),1)))\n",
        "plt.figure(figsize=(10, 8))\n",
        "\n",
        "axis = seaborn.heatmap(mat, annot=True,cmap='Blues',fmt='d',linewidths=3,linecolor='white')\n",
        "axis.set_xticklabels(true_label,rotation=90)\n",
        "axis.set_yticklabels(true_label,rotation=0)\n",
        "\n",
        "plt.title('Confusion Matrix', fontsize=8)\n",
        "plt.ylabel(\"Predicted Class\")\n",
        "plt.xlabel(\"True Class\")\n",
        "\n",
        "wandb.log({\"Confusion_Matrix\": wandb.Image(plt)})\n",
        "\n",
        "plt.show()\n",
        "wandb.finish()"
      ],
      "metadata": {
        "colab": {
          "base_uri": "https://localhost:8080/",
          "height": 1000,
          "referenced_widgets": [
            "95e89773c3d941448ee6a2782e5f423e",
            "983fb19a55924b82b4b23fb451b415af",
            "c156b47b043246c5b286ab0f40f4a33b",
            "6da1812257bf4154b614e0418fa09b3d",
            "1418bd7e57754724a3a876ffd0725786",
            "8c353a6d23f24cfaa48684639ab9a46c",
            "b4509693f2e145119443c0701cb2ffaf",
            "edbf59a792b54dab8f839db5eb0462bb"
          ]
        },
        "id": "FnZe1M2MEibM",
        "outputId": "6c5d8686-0060-459f-b88d-94891ed62b32"
      },
      "execution_count": 39,
      "outputs": [
        {
          "output_type": "display_data",
          "data": {
            "text/plain": [
              "<Figure size 1000x800 with 2 Axes>"
            ],
            "image/png": "[encoded data removed]"
          },
          "metadata": {}
        },
        {
          "output_type": "display_data",
          "data": {
            "text/plain": [
              "VBox(children=(Label(value='0.061 MB of 0.061 MB uploaded\\r'), FloatProgress(value=1.0, max=1.0)))"
            ],
            "application/vnd.jupyter.widget-view+json": {
              "version_major": 2,
              "version_minor": 0,
              "model_id": "95e89773c3d941448ee6a2782e5f423e"
            }
          },
          "metadata": {}
        },
        {
          "output_type": "display_data",
          "data": {
            "text/plain": [
              "<IPython.core.display.HTML object>"
            ],
            "text/html": [
              "<style>\n",
              "    table.wandb td:nth-child(1) { padding: 0 10px; text-align: left ; width: auto;} td:nth-child(2) {text-align: left ; width: 100%}\n",
              "    .wandb-row { display: flex; flex-direction: row; flex-wrap: wrap; justify-content: flex-start; width: 100% }\n",
              "    .wandb-col { display: flex; flex-direction: column; flex-basis: 100%; flex: 1; padding: 10px; }\n",
              "    </style>\n",
              "<div class=\"wandb-row\"><div class=\"wandb-col\"><h3>Run history:</h3><br/><table class=\"wandb\"><tr><td>epoch</td><td>▁</td></tr><tr><td>training_accuracy</td><td>▁</td></tr><tr><td>training_loss</td><td>▁</td></tr><tr><td>validation_accuracy</td><td>▁</td></tr><tr><td>validation_loss</td><td>▁</td></tr></table><br/></div><div class=\"wandb-col\"><h3>Run summary:</h3><br/><table class=\"wandb\"><tr><td>epoch</td><td>1</td></tr><tr><td>training_accuracy</td><td>85.57</td></tr><tr><td>training_loss</td><td>0.56</td></tr><tr><td>validation_accuracy</td><td>85.52</td></tr><tr><td>validation_loss</td><td>0.57</td></tr></table><br/></div></div>"
            ]
          },
          "metadata": {}
        },
        {
          "output_type": "display_data",
          "data": {
            "text/plain": [
              "<IPython.core.display.HTML object>"
            ],
            "text/html": [
              " View run <strong style=\"color:#cdcd00\">vivid-flower-967</strong> at: <a href='https://wandb.ai/cs23m015/DL-Assignment-1/runs/ozjyta2a' target=\"_blank\">https://wandb.ai/cs23m015/DL-Assignment-1/runs/ozjyta2a</a><br/>Synced 5 W&B file(s), 1 media file(s), 0 artifact file(s) and 0 other file(s)"
            ]
          },
          "metadata": {}
        },
        {
          "output_type": "display_data",
          "data": {
            "text/plain": [
              "<IPython.core.display.HTML object>"
            ],
            "text/html": [
              "Find logs at: <code>./wandb/run-20240317_091637-ozjyta2a/logs</code>"
            ]
          },
          "metadata": {}
        }
      ]
    },
    {
      "cell_type": "markdown",
      "source": [
        "## Ques 8"
      ],
      "metadata": {
        "id": "UXgamaOtB-AL"
      }
    },
    {
      "cell_type": "code",
      "execution_count": null,
      "metadata": {
        "id": "BlIMuqfHB4yH"
      },
      "outputs": [],
      "source": [
        "sweep_config = {\n",
        "            'name': 'sweep 2 : ce vs mse',\n",
        "            'method': 'grid',\n",
        "            'metric': { 'goal': 'maximize','name': 'Accuracy'},\n",
        "            'parameters':\n",
        "                {\n",
        "                    # 'dataset' : {'values': ['fashion_mnist']}, # 'fashion_mnist', 'mnist'\n",
        "                    'iter': {'values': [10]},\n",
        "                    'batch': {'values': [64]},\n",
        "                    'fn_loss': {'values': ['cross_entropy', 'mean_squared_error']}, # 'mean_squared_error', 'cross_entropy'\n",
        "                    'optimizer': {'values': ['sgd', 'momentum', 'nag', 'rmsprop', 'adam', 'nadam']}, # 'sgd', 'momentum', 'nag', 'rmsprop', 'adam', 'nadam'\n",
        "                    'n' : {'values': [1e-3, 1e-4]},\n",
        "                    'mom' : {'values': [0.9]},\n",
        "                    'beta' : {'values': [0.9]},\n",
        "                    'beta1' : {'values': [0.999]},\n",
        "                    'beta2' : {'values': [0.999]},\n",
        "                    'e' : {'values': [1e-6]},\n",
        "                    'alpha': {'values': [0]},\n",
        "                    'initialization': {'values': ['Xavier']}, # 'random', 'Xavier'\n",
        "                    'hiddenlayers': {'values': [4, 5]},\n",
        "                    'neuron': {'values': [32, 64]},\n",
        "                    'activation': {'values': ['tanh', 'ReLU']}, # 'identity', 'sigmoid', 'tanh', 'ReLU'\n",
        "                    'outAct': {'values': ['softmax']}\n",
        "                }\n",
        "            }\n",
        "\n",
        "\n",
        "\n",
        "def train():\n",
        "    #init-classinit , config - param_copy\n",
        "    init = wandb.init(project='DL-Assignment-1')\n",
        "    config = init.config\n",
        "    wandb.run.name = (\n",
        "        'o:' + config.optimizer +\n",
        "        '_a:' + config.activation +\n",
        "        '_ep:' + str(config.iter) +\n",
        "        '_l:' + config.fn_loss +\n",
        "        '_i:' + config.initialization +\n",
        "        '_hl:' + str(config.hiddenlayers) +\n",
        "        '_hls:' + str(config.neuron)\n",
        "    )\n",
        "    obj=NeuralNetwork()\n",
        "    obj.fit_model(x1,\n",
        "                    y1,\n",
        "                    x_val,\n",
        "                    y_val,\n",
        "                    hiddenlayers=config.hiddenlayers,\n",
        "                    neuron=config.neuron,\n",
        "                    input_neuron=784,\n",
        "                    batch=config.batch,\n",
        "                    initialization=config.initialization,\n",
        "                    fn_loss=config.fn_loss,\n",
        "                    activation=config.activation,\n",
        "                    optimizer=config.optimizer,\n",
        "                    n=config.n,\n",
        "                    iter=config.iter,\n",
        "                    beta=config.beta,\n",
        "                    beta1=config.beta1,\n",
        "                    beta2=config.beta2,\n",
        "                    e=config.e,\n",
        "                    alpha=config.alpha,\n",
        "                    mom=config.mom)\n",
        "\n",
        "    val_acc = obj.accuracy(x_val,y_val,config.activation)\n",
        "    wandb.log({'Accuracy': val_acc})\n",
        "\n",
        "\n",
        "\n",
        "\n",
        "sweep_id = wandb.sweep(sweep_config, project='DL-Assignment-1')\n",
        "wandb.agent(sweep_id, train, count = 300)\n",
        "wandb.finish()\n",
        "\n",
        "\n",
        "\n"
      ]
    },
    {
      "cell_type": "markdown",
      "source": [
        "## Ques 10"
      ],
      "metadata": {
        "id": "UIZG_owLWGaa"
      }
    },
    {
      "cell_type": "code",
      "source": [
        "(x1, y1), (x2, y2) = mnist.load_data()\n",
        "\n",
        "x1=x1.reshape(x1.shape[0],-1) / 255\n",
        "x2=x2.reshape(x2.shape[0],-1)/ 255\n",
        "\n",
        "x1, x_val, y1, y_val = train_test_split(x1,y1, test_size=0.1, random_state=0)"
      ],
      "metadata": {
        "colab": {
          "base_uri": "https://localhost:8080/"
        },
        "id": "rQ_zeoqVWIeF",
        "outputId": "f22bf880-2fa0-440e-bf43-ced285027104"
      },
      "execution_count": null,
      "outputs": [
        {
          "output_type": "stream",
          "name": "stdout",
          "text": [
            "Downloading data from https://storage.googleapis.com/tensorflow/tf-keras-datasets/mnist.npz\n",
            "11490434/11490434 [==============================] - 0s 0us/step\n"
          ]
        }
      ]
    },
    {
      "cell_type": "markdown",
      "source": [
        "### Model :1"
      ],
      "metadata": {
        "id": "4QKzCIe3LmMW"
      }
    },
    {
      "cell_type": "code",
      "source": [
        "\n",
        "obj=NeuralNetwork()\n",
        "obj.fit_model(x1,\n",
        "                 y1,\n",
        "                 x_val,\n",
        "                 y_val,\n",
        "                 hiddenlayers=4,\n",
        "                 neuron=128,\n",
        "                 input_neuron=784,\n",
        "                 batch=64,\n",
        "                 initialization=\"Xavier\",\n",
        "                 fn_loss=\"cross_entropy\",\n",
        "                 activation=\"tanh\", # tanh relu\n",
        "                 optimizer=\"nadam\", # N,A,Rms\n",
        "                 n=0.0001,\n",
        "                 iter=10,\n",
        "                 beta=0.9,\n",
        "                 beta1=0.999,\n",
        "                 beta2=0.999,\n",
        "                 e=1e-6,\n",
        "                 alpha=0,\n",
        "                 mom=0.9)"
      ],
      "metadata": {
        "id": "vUikaY0uLorN"
      },
      "execution_count": null,
      "outputs": []
    },
    {
      "cell_type": "markdown",
      "source": [
        "## Model:2"
      ],
      "metadata": {
        "id": "5J0dLKFMMTso"
      }
    },
    {
      "cell_type": "code",
      "source": [
        "\n",
        "obj=NeuralNetwork()\n",
        "obj.fit_model(x1,\n",
        "                 y1,\n",
        "                 x_val,\n",
        "                 y_val,\n",
        "                 hiddenlayers=4,\n",
        "                 neuron=128,\n",
        "                 input_neuron=784,\n",
        "                 batch=32,\n",
        "                 initialization=\"Xavier\",\n",
        "                 fn_loss=\"cross_entropy\",\n",
        "                 activation=\"ReLU\",\n",
        "                 optimizer=\"nadam\",\n",
        "                 n=0.0001,\n",
        "                 iter=10,\n",
        "                 beta=0.9,\n",
        "                 beta1=0.999,\n",
        "                 beta2=0.999,\n",
        "                 e=1e-6,\n",
        "                 alpha=0,\n",
        "                 mom=0.9)"
      ],
      "metadata": {
        "id": "vNriRn6xMXQO"
      },
      "execution_count": null,
      "outputs": []
    },
    {
      "cell_type": "markdown",
      "source": [
        "## Model: 3"
      ],
      "metadata": {
        "id": "8Z9YorQ3MwT4"
      }
    },
    {
      "cell_type": "code",
      "source": [
        "\n",
        "obj=NeuralNetwork()\n",
        "obj.fit_model(x1,\n",
        "                 y1,\n",
        "                 x_val,\n",
        "                 y_val,\n",
        "                 hiddenlayers=4,\n",
        "                 neuron=128,\n",
        "                 input_neuron=784,\n",
        "                 batch=64,\n",
        "                 initialization=\"Xavier\",\n",
        "                 fn_loss=\"cross_entropy\",\n",
        "                 activation=\"tanh\", # tanh relu\n",
        "                 optimizer=\"adam\", # N,A,Rms\n",
        "                 n=0.0001,\n",
        "                 iter=10,\n",
        "                 beta=0.9,\n",
        "                 beta1=0.999,\n",
        "                 beta2=0.999,\n",
        "                 e=1e-6,\n",
        "                 alpha=0,\n",
        "                 mom=0.9)"
      ],
      "metadata": {
        "id": "Hh4aOSW5M1ch"
      },
      "execution_count": null,
      "outputs": []
    }
  ],
  "metadata": {
    "colab": {
      "provenance": []
    },
    "kernelspec": {
      "display_name": "Python 3",
      "name": "python3"
    },
    "language_info": {
      "codemirror_mode": {
        "name": "ipython",
        "version": 3
      },
      "file_extension": ".py",
      "mimetype": "text/x-python",
      "name": "python",
      "nbconvert_exporter": "python",
      "pygments_lexer": "ipython3",
      "version": "3.12.2"
    },
    "widgets": {
      "application/vnd.jupyter.widget-state+json": {
        "efc2a732e5954822932382bf42a96055": {
          "model_module": "@jupyter-widgets/controls",
          "model_name": "VBoxModel",
          "model_module_version": "1.5.0",
          "state": {
            "_dom_classes": [],
            "_model_module": "@jupyter-widgets/controls",
            "_model_module_version": "1.5.0",
            "_model_name": "VBoxModel",
            "_view_count": null,
            "_view_module": "@jupyter-widgets/controls",
            "_view_module_version": "1.5.0",
            "_view_name": "VBoxView",
            "box_style": "",
            "children": [
              "IPY_MODEL_b74b953d944a4492a85235fd19cfb758",
              "IPY_MODEL_640cefd5dc4d4f9bba24ecbf6e7c2349"
            ],
            "layout": "IPY_MODEL_c0a84685cae44936a1b75ffce22e41eb"
          }
        },
        "b74b953d944a4492a85235fd19cfb758": {
          "model_module": "@jupyter-widgets/controls",
          "model_name": "LabelModel",
          "model_module_version": "1.5.0",
          "state": {
            "_dom_classes": [],
            "_model_module": "@jupyter-widgets/controls",
            "_model_module_version": "1.5.0",
            "_model_name": "LabelModel",
            "_view_count": null,
            "_view_module": "@jupyter-widgets/controls",
            "_view_module_version": "1.5.0",
            "_view_name": "LabelView",
            "description": "",
            "description_tooltip": null,
            "layout": "IPY_MODEL_0ae119caeac742c7b29d664b583d46de",
            "placeholder": "​",
            "style": "IPY_MODEL_d933e58ad94c4f78b6f09c568f01f637",
            "value": "0.010 MB of 0.010 MB uploaded\r"
          }
        },
        "640cefd5dc4d4f9bba24ecbf6e7c2349": {
          "model_module": "@jupyter-widgets/controls",
          "model_name": "FloatProgressModel",
          "model_module_version": "1.5.0",
          "state": {
            "_dom_classes": [],
            "_model_module": "@jupyter-widgets/controls",
            "_model_module_version": "1.5.0",
            "_model_name": "FloatProgressModel",
            "_view_count": null,
            "_view_module": "@jupyter-widgets/controls",
            "_view_module_version": "1.5.0",
            "_view_name": "ProgressView",
            "bar_style": "",
            "description": "",
            "description_tooltip": null,
            "layout": "IPY_MODEL_a5cf5d9196354ed981a91638b89fc2cd",
            "max": 1,
            "min": 0,
            "orientation": "horizontal",
            "style": "IPY_MODEL_427fdf1206a34790ab7033ed1590657b",
            "value": 1
          }
        },
        "c0a84685cae44936a1b75ffce22e41eb": {
          "model_module": "@jupyter-widgets/base",
          "model_name": "LayoutModel",
          "model_module_version": "1.2.0",
          "state": {
            "_model_module": "@jupyter-widgets/base",
            "_model_module_version": "1.2.0",
            "_model_name": "LayoutModel",
            "_view_count": null,
            "_view_module": "@jupyter-widgets/base",
            "_view_module_version": "1.2.0",
            "_view_name": "LayoutView",
            "align_content": null,
            "align_items": null,
            "align_self": null,
            "border": null,
            "bottom": null,
            "display": null,
            "flex": null,
            "flex_flow": null,
            "grid_area": null,
            "grid_auto_columns": null,
            "grid_auto_flow": null,
            "grid_auto_rows": null,
            "grid_column": null,
            "grid_gap": null,
            "grid_row": null,
            "grid_template_areas": null,
            "grid_template_columns": null,
            "grid_template_rows": null,
            "height": null,
            "justify_content": null,
            "justify_items": null,
            "left": null,
            "margin": null,
            "max_height": null,
            "max_width": null,
            "min_height": null,
            "min_width": null,
            "object_fit": null,
            "object_position": null,
            "order": null,
            "overflow": null,
            "overflow_x": null,
            "overflow_y": null,
            "padding": null,
            "right": null,
            "top": null,
            "visibility": null,
            "width": null
          }
        },
        "0ae119caeac742c7b29d664b583d46de": {
          "model_module": "@jupyter-widgets/base",
          "model_name": "LayoutModel",
          "model_module_version": "1.2.0",
          "state": {
            "_model_module": "@jupyter-widgets/base",
            "_model_module_version": "1.2.0",
            "_model_name": "LayoutModel",
            "_view_count": null,
            "_view_module": "@jupyter-widgets/base",
            "_view_module_version": "1.2.0",
            "_view_name": "LayoutView",
            "align_content": null,
            "align_items": null,
            "align_self": null,
            "border": null,
            "bottom": null,
            "display": null,
            "flex": null,
            "flex_flow": null,
            "grid_area": null,
            "grid_auto_columns": null,
            "grid_auto_flow": null,
            "grid_auto_rows": null,
            "grid_column": null,
            "grid_gap": null,
            "grid_row": null,
            "grid_template_areas": null,
            "grid_template_columns": null,
            "grid_template_rows": null,
            "height": null,
            "justify_content": null,
            "justify_items": null,
            "left": null,
            "margin": null,
            "max_height": null,
            "max_width": null,
            "min_height": null,
            "min_width": null,
            "object_fit": null,
            "object_position": null,
            "order": null,
            "overflow": null,
            "overflow_x": null,
            "overflow_y": null,
            "padding": null,
            "right": null,
            "top": null,
            "visibility": null,
            "width": null
          }
        },
        "d933e58ad94c4f78b6f09c568f01f637": {
          "model_module": "@jupyter-widgets/controls",
          "model_name": "DescriptionStyleModel",
          "model_module_version": "1.5.0",
          "state": {
            "_model_module": "@jupyter-widgets/controls",
            "_model_module_version": "1.5.0",
            "_model_name": "DescriptionStyleModel",
            "_view_count": null,
            "_view_module": "@jupyter-widgets/base",
            "_view_module_version": "1.2.0",
            "_view_name": "StyleView",
            "description_width": ""
          }
        },
        "a5cf5d9196354ed981a91638b89fc2cd": {
          "model_module": "@jupyter-widgets/base",
          "model_name": "LayoutModel",
          "model_module_version": "1.2.0",
          "state": {
            "_model_module": "@jupyter-widgets/base",
            "_model_module_version": "1.2.0",
            "_model_name": "LayoutModel",
            "_view_count": null,
            "_view_module": "@jupyter-widgets/base",
            "_view_module_version": "1.2.0",
            "_view_name": "LayoutView",
            "align_content": null,
            "align_items": null,
            "align_self": null,
            "border": null,
            "bottom": null,
            "display": null,
            "flex": null,
            "flex_flow": null,
            "grid_area": null,
            "grid_auto_columns": null,
            "grid_auto_flow": null,
            "grid_auto_rows": null,
            "grid_column": null,
            "grid_gap": null,
            "grid_row": null,
            "grid_template_areas": null,
            "grid_template_columns": null,
            "grid_template_rows": null,
            "height": null,
            "justify_content": null,
            "justify_items": null,
            "left": null,
            "margin": null,
            "max_height": null,
            "max_width": null,
            "min_height": null,
            "min_width": null,
            "object_fit": null,
            "object_position": null,
            "order": null,
            "overflow": null,
            "overflow_x": null,
            "overflow_y": null,
            "padding": null,
            "right": null,
            "top": null,
            "visibility": null,
            "width": null
          }
        },
        "427fdf1206a34790ab7033ed1590657b": {
          "model_module": "@jupyter-widgets/controls",
          "model_name": "ProgressStyleModel",
          "model_module_version": "1.5.0",
          "state": {
            "_model_module": "@jupyter-widgets/controls",
            "_model_module_version": "1.5.0",
            "_model_name": "ProgressStyleModel",
            "_view_count": null,
            "_view_module": "@jupyter-widgets/base",
            "_view_module_version": "1.2.0",
            "_view_name": "StyleView",
            "bar_color": null,
            "description_width": ""
          }
        },
        "64c7ea8c2d81404580bb1d2991dcb140": {
          "model_module": "@jupyter-widgets/controls",
          "model_name": "VBoxModel",
          "model_module_version": "1.5.0",
          "state": {
            "_dom_classes": [],
            "_model_module": "@jupyter-widgets/controls",
            "_model_module_version": "1.5.0",
            "_model_name": "VBoxModel",
            "_view_count": null,
            "_view_module": "@jupyter-widgets/controls",
            "_view_module_version": "1.5.0",
            "_view_name": "VBoxView",
            "box_style": "",
            "children": [
              "IPY_MODEL_aa5662357ef145088e18eb67f179d062",
              "IPY_MODEL_14d0ae70884e4ff2b3ec22d98a61119e"
            ],
            "layout": "IPY_MODEL_0116cab895214437a44284df5141c01d"
          }
        },
        "aa5662357ef145088e18eb67f179d062": {
          "model_module": "@jupyter-widgets/controls",
          "model_name": "LabelModel",
          "model_module_version": "1.5.0",
          "state": {
            "_dom_classes": [],
            "_model_module": "@jupyter-widgets/controls",
            "_model_module_version": "1.5.0",
            "_model_name": "LabelModel",
            "_view_count": null,
            "_view_module": "@jupyter-widgets/controls",
            "_view_module_version": "1.5.0",
            "_view_name": "LabelView",
            "description": "",
            "description_tooltip": null,
            "layout": "IPY_MODEL_9142162084434bc5a46e99ab79e6ee83",
            "placeholder": "​",
            "style": "IPY_MODEL_c4ff9bf86e9e4d8091f8933bb6f9b565",
            "value": "0.011 MB of 0.011 MB uploaded\r"
          }
        },
        "14d0ae70884e4ff2b3ec22d98a61119e": {
          "model_module": "@jupyter-widgets/controls",
          "model_name": "FloatProgressModel",
          "model_module_version": "1.5.0",
          "state": {
            "_dom_classes": [],
            "_model_module": "@jupyter-widgets/controls",
            "_model_module_version": "1.5.0",
            "_model_name": "FloatProgressModel",
            "_view_count": null,
            "_view_module": "@jupyter-widgets/controls",
            "_view_module_version": "1.5.0",
            "_view_name": "ProgressView",
            "bar_style": "",
            "description": "",
            "description_tooltip": null,
            "layout": "IPY_MODEL_d9b6588fac1c4964988d59549488bc00",
            "max": 1,
            "min": 0,
            "orientation": "horizontal",
            "style": "IPY_MODEL_5756be25a0cd482e9faff5b359abc5db",
            "value": 1
          }
        },
        "0116cab895214437a44284df5141c01d": {
          "model_module": "@jupyter-widgets/base",
          "model_name": "LayoutModel",
          "model_module_version": "1.2.0",
          "state": {
            "_model_module": "@jupyter-widgets/base",
            "_model_module_version": "1.2.0",
            "_model_name": "LayoutModel",
            "_view_count": null,
            "_view_module": "@jupyter-widgets/base",
            "_view_module_version": "1.2.0",
            "_view_name": "LayoutView",
            "align_content": null,
            "align_items": null,
            "align_self": null,
            "border": null,
            "bottom": null,
            "display": null,
            "flex": null,
            "flex_flow": null,
            "grid_area": null,
            "grid_auto_columns": null,
            "grid_auto_flow": null,
            "grid_auto_rows": null,
            "grid_column": null,
            "grid_gap": null,
            "grid_row": null,
            "grid_template_areas": null,
            "grid_template_columns": null,
            "grid_template_rows": null,
            "height": null,
            "justify_content": null,
            "justify_items": null,
            "left": null,
            "margin": null,
            "max_height": null,
            "max_width": null,
            "min_height": null,
            "min_width": null,
            "object_fit": null,
            "object_position": null,
            "order": null,
            "overflow": null,
            "overflow_x": null,
            "overflow_y": null,
            "padding": null,
            "right": null,
            "top": null,
            "visibility": null,
            "width": null
          }
        },
        "9142162084434bc5a46e99ab79e6ee83": {
          "model_module": "@jupyter-widgets/base",
          "model_name": "LayoutModel",
          "model_module_version": "1.2.0",
          "state": {
            "_model_module": "@jupyter-widgets/base",
            "_model_module_version": "1.2.0",
            "_model_name": "LayoutModel",
            "_view_count": null,
            "_view_module": "@jupyter-widgets/base",
            "_view_module_version": "1.2.0",
            "_view_name": "LayoutView",
            "align_content": null,
            "align_items": null,
            "align_self": null,
            "border": null,
            "bottom": null,
            "display": null,
            "flex": null,
            "flex_flow": null,
            "grid_area": null,
            "grid_auto_columns": null,
            "grid_auto_flow": null,
            "grid_auto_rows": null,
            "grid_column": null,
            "grid_gap": null,
            "grid_row": null,
            "grid_template_areas": null,
            "grid_template_columns": null,
            "grid_template_rows": null,
            "height": null,
            "justify_content": null,
            "justify_items": null,
            "left": null,
            "margin": null,
            "max_height": null,
            "max_width": null,
            "min_height": null,
            "min_width": null,
            "object_fit": null,
            "object_position": null,
            "order": null,
            "overflow": null,
            "overflow_x": null,
            "overflow_y": null,
            "padding": null,
            "right": null,
            "top": null,
            "visibility": null,
            "width": null
          }
        },
        "c4ff9bf86e9e4d8091f8933bb6f9b565": {
          "model_module": "@jupyter-widgets/controls",
          "model_name": "DescriptionStyleModel",
          "model_module_version": "1.5.0",
          "state": {
            "_model_module": "@jupyter-widgets/controls",
            "_model_module_version": "1.5.0",
            "_model_name": "DescriptionStyleModel",
            "_view_count": null,
            "_view_module": "@jupyter-widgets/base",
            "_view_module_version": "1.2.0",
            "_view_name": "StyleView",
            "description_width": ""
          }
        },
        "d9b6588fac1c4964988d59549488bc00": {
          "model_module": "@jupyter-widgets/base",
          "model_name": "LayoutModel",
          "model_module_version": "1.2.0",
          "state": {
            "_model_module": "@jupyter-widgets/base",
            "_model_module_version": "1.2.0",
            "_model_name": "LayoutModel",
            "_view_count": null,
            "_view_module": "@jupyter-widgets/base",
            "_view_module_version": "1.2.0",
            "_view_name": "LayoutView",
            "align_content": null,
            "align_items": null,
            "align_self": null,
            "border": null,
            "bottom": null,
            "display": null,
            "flex": null,
            "flex_flow": null,
            "grid_area": null,
            "grid_auto_columns": null,
            "grid_auto_flow": null,
            "grid_auto_rows": null,
            "grid_column": null,
            "grid_gap": null,
            "grid_row": null,
            "grid_template_areas": null,
            "grid_template_columns": null,
            "grid_template_rows": null,
            "height": null,
            "justify_content": null,
            "justify_items": null,
            "left": null,
            "margin": null,
            "max_height": null,
            "max_width": null,
            "min_height": null,
            "min_width": null,
            "object_fit": null,
            "object_position": null,
            "order": null,
            "overflow": null,
            "overflow_x": null,
            "overflow_y": null,
            "padding": null,
            "right": null,
            "top": null,
            "visibility": null,
            "width": null
          }
        },
        "5756be25a0cd482e9faff5b359abc5db": {
          "model_module": "@jupyter-widgets/controls",
          "model_name": "ProgressStyleModel",
          "model_module_version": "1.5.0",
          "state": {
            "_model_module": "@jupyter-widgets/controls",
            "_model_module_version": "1.5.0",
            "_model_name": "ProgressStyleModel",
            "_view_count": null,
            "_view_module": "@jupyter-widgets/base",
            "_view_module_version": "1.2.0",
            "_view_name": "StyleView",
            "bar_color": null,
            "description_width": ""
          }
        },
        "119a9fb8426b4b1283aa13d0544384a6": {
          "model_module": "@jupyter-widgets/controls",
          "model_name": "VBoxModel",
          "model_module_version": "1.5.0",
          "state": {
            "_dom_classes": [],
            "_model_module": "@jupyter-widgets/controls",
            "_model_module_version": "1.5.0",
            "_model_name": "VBoxModel",
            "_view_count": null,
            "_view_module": "@jupyter-widgets/controls",
            "_view_module_version": "1.5.0",
            "_view_name": "VBoxView",
            "box_style": "",
            "children": [
              "IPY_MODEL_8284637d97c24c6d92e8314b8fea67f5",
              "IPY_MODEL_808eb54daec84fd8867d69f5942d9220"
            ],
            "layout": "IPY_MODEL_7ddde5fd67f04214b83bba85127ddb09"
          }
        },
        "8284637d97c24c6d92e8314b8fea67f5": {
          "model_module": "@jupyter-widgets/controls",
          "model_name": "LabelModel",
          "model_module_version": "1.5.0",
          "state": {
            "_dom_classes": [],
            "_model_module": "@jupyter-widgets/controls",
            "_model_module_version": "1.5.0",
            "_model_name": "LabelModel",
            "_view_count": null,
            "_view_module": "@jupyter-widgets/controls",
            "_view_module_version": "1.5.0",
            "_view_name": "LabelView",
            "description": "",
            "description_tooltip": null,
            "layout": "IPY_MODEL_804a268f0cb24e399662d991ce229380",
            "placeholder": "​",
            "style": "IPY_MODEL_52a0c3840daa4ba4aeb856d964ded142",
            "value": "0.011 MB of 0.011 MB uploaded\r"
          }
        },
        "808eb54daec84fd8867d69f5942d9220": {
          "model_module": "@jupyter-widgets/controls",
          "model_name": "FloatProgressModel",
          "model_module_version": "1.5.0",
          "state": {
            "_dom_classes": [],
            "_model_module": "@jupyter-widgets/controls",
            "_model_module_version": "1.5.0",
            "_model_name": "FloatProgressModel",
            "_view_count": null,
            "_view_module": "@jupyter-widgets/controls",
            "_view_module_version": "1.5.0",
            "_view_name": "ProgressView",
            "bar_style": "",
            "description": "",
            "description_tooltip": null,
            "layout": "IPY_MODEL_4d0b5dd6bf1e4e2292f3ad84f21c967f",
            "max": 1,
            "min": 0,
            "orientation": "horizontal",
            "style": "IPY_MODEL_9a344f93e6e34ff09380cce18a8b9ed0",
            "value": 1
          }
        },
        "7ddde5fd67f04214b83bba85127ddb09": {
          "model_module": "@jupyter-widgets/base",
          "model_name": "LayoutModel",
          "model_module_version": "1.2.0",
          "state": {
            "_model_module": "@jupyter-widgets/base",
            "_model_module_version": "1.2.0",
            "_model_name": "LayoutModel",
            "_view_count": null,
            "_view_module": "@jupyter-widgets/base",
            "_view_module_version": "1.2.0",
            "_view_name": "LayoutView",
            "align_content": null,
            "align_items": null,
            "align_self": null,
            "border": null,
            "bottom": null,
            "display": null,
            "flex": null,
            "flex_flow": null,
            "grid_area": null,
            "grid_auto_columns": null,
            "grid_auto_flow": null,
            "grid_auto_rows": null,
            "grid_column": null,
            "grid_gap": null,
            "grid_row": null,
            "grid_template_areas": null,
            "grid_template_columns": null,
            "grid_template_rows": null,
            "height": null,
            "justify_content": null,
            "justify_items": null,
            "left": null,
            "margin": null,
            "max_height": null,
            "max_width": null,
            "min_height": null,
            "min_width": null,
            "object_fit": null,
            "object_position": null,
            "order": null,
            "overflow": null,
            "overflow_x": null,
            "overflow_y": null,
            "padding": null,
            "right": null,
            "top": null,
            "visibility": null,
            "width": null
          }
        },
        "804a268f0cb24e399662d991ce229380": {
          "model_module": "@jupyter-widgets/base",
          "model_name": "LayoutModel",
          "model_module_version": "1.2.0",
          "state": {
            "_model_module": "@jupyter-widgets/base",
            "_model_module_version": "1.2.0",
            "_model_name": "LayoutModel",
            "_view_count": null,
            "_view_module": "@jupyter-widgets/base",
            "_view_module_version": "1.2.0",
            "_view_name": "LayoutView",
            "align_content": null,
            "align_items": null,
            "align_self": null,
            "border": null,
            "bottom": null,
            "display": null,
            "flex": null,
            "flex_flow": null,
            "grid_area": null,
            "grid_auto_columns": null,
            "grid_auto_flow": null,
            "grid_auto_rows": null,
            "grid_column": null,
            "grid_gap": null,
            "grid_row": null,
            "grid_template_areas": null,
            "grid_template_columns": null,
            "grid_template_rows": null,
            "height": null,
            "justify_content": null,
            "justify_items": null,
            "left": null,
            "margin": null,
            "max_height": null,
            "max_width": null,
            "min_height": null,
            "min_width": null,
            "object_fit": null,
            "object_position": null,
            "order": null,
            "overflow": null,
            "overflow_x": null,
            "overflow_y": null,
            "padding": null,
            "right": null,
            "top": null,
            "visibility": null,
            "width": null
          }
        },
        "52a0c3840daa4ba4aeb856d964ded142": {
          "model_module": "@jupyter-widgets/controls",
          "model_name": "DescriptionStyleModel",
          "model_module_version": "1.5.0",
          "state": {
            "_model_module": "@jupyter-widgets/controls",
            "_model_module_version": "1.5.0",
            "_model_name": "DescriptionStyleModel",
            "_view_count": null,
            "_view_module": "@jupyter-widgets/base",
            "_view_module_version": "1.2.0",
            "_view_name": "StyleView",
            "description_width": ""
          }
        },
        "4d0b5dd6bf1e4e2292f3ad84f21c967f": {
          "model_module": "@jupyter-widgets/base",
          "model_name": "LayoutModel",
          "model_module_version": "1.2.0",
          "state": {
            "_model_module": "@jupyter-widgets/base",
            "_model_module_version": "1.2.0",
            "_model_name": "LayoutModel",
            "_view_count": null,
            "_view_module": "@jupyter-widgets/base",
            "_view_module_version": "1.2.0",
            "_view_name": "LayoutView",
            "align_content": null,
            "align_items": null,
            "align_self": null,
            "border": null,
            "bottom": null,
            "display": null,
            "flex": null,
            "flex_flow": null,
            "grid_area": null,
            "grid_auto_columns": null,
            "grid_auto_flow": null,
            "grid_auto_rows": null,
            "grid_column": null,
            "grid_gap": null,
            "grid_row": null,
            "grid_template_areas": null,
            "grid_template_columns": null,
            "grid_template_rows": null,
            "height": null,
            "justify_content": null,
            "justify_items": null,
            "left": null,
            "margin": null,
            "max_height": null,
            "max_width": null,
            "min_height": null,
            "min_width": null,
            "object_fit": null,
            "object_position": null,
            "order": null,
            "overflow": null,
            "overflow_x": null,
            "overflow_y": null,
            "padding": null,
            "right": null,
            "top": null,
            "visibility": null,
            "width": null
          }
        },
        "9a344f93e6e34ff09380cce18a8b9ed0": {
          "model_module": "@jupyter-widgets/controls",
          "model_name": "ProgressStyleModel",
          "model_module_version": "1.5.0",
          "state": {
            "_model_module": "@jupyter-widgets/controls",
            "_model_module_version": "1.5.0",
            "_model_name": "ProgressStyleModel",
            "_view_count": null,
            "_view_module": "@jupyter-widgets/base",
            "_view_module_version": "1.2.0",
            "_view_name": "StyleView",
            "bar_color": null,
            "description_width": ""
          }
        },
        "95e89773c3d941448ee6a2782e5f423e": {
          "model_module": "@jupyter-widgets/controls",
          "model_name": "VBoxModel",
          "model_module_version": "1.5.0",
          "state": {
            "_dom_classes": [],
            "_model_module": "@jupyter-widgets/controls",
            "_model_module_version": "1.5.0",
            "_model_name": "VBoxModel",
            "_view_count": null,
            "_view_module": "@jupyter-widgets/controls",
            "_view_module_version": "1.5.0",
            "_view_name": "VBoxView",
            "box_style": "",
            "children": [
              "IPY_MODEL_983fb19a55924b82b4b23fb451b415af",
              "IPY_MODEL_c156b47b043246c5b286ab0f40f4a33b"
            ],
            "layout": "IPY_MODEL_6da1812257bf4154b614e0418fa09b3d"
          }
        },
        "983fb19a55924b82b4b23fb451b415af": {
          "model_module": "@jupyter-widgets/controls",
          "model_name": "LabelModel",
          "model_module_version": "1.5.0",
          "state": {
            "_dom_classes": [],
            "_model_module": "@jupyter-widgets/controls",
            "_model_module_version": "1.5.0",
            "_model_name": "LabelModel",
            "_view_count": null,
            "_view_module": "@jupyter-widgets/controls",
            "_view_module_version": "1.5.0",
            "_view_name": "LabelView",
            "description": "",
            "description_tooltip": null,
            "layout": "IPY_MODEL_1418bd7e57754724a3a876ffd0725786",
            "placeholder": "​",
            "style": "IPY_MODEL_8c353a6d23f24cfaa48684639ab9a46c",
            "value": "0.071 MB of 0.071 MB uploaded\r"
          }
        },
        "c156b47b043246c5b286ab0f40f4a33b": {
          "model_module": "@jupyter-widgets/controls",
          "model_name": "FloatProgressModel",
          "model_module_version": "1.5.0",
          "state": {
            "_dom_classes": [],
            "_model_module": "@jupyter-widgets/controls",
            "_model_module_version": "1.5.0",
            "_model_name": "FloatProgressModel",
            "_view_count": null,
            "_view_module": "@jupyter-widgets/controls",
            "_view_module_version": "1.5.0",
            "_view_name": "ProgressView",
            "bar_style": "",
            "description": "",
            "description_tooltip": null,
            "layout": "IPY_MODEL_b4509693f2e145119443c0701cb2ffaf",
            "max": 1,
            "min": 0,
            "orientation": "horizontal",
            "style": "IPY_MODEL_edbf59a792b54dab8f839db5eb0462bb",
            "value": 1
          }
        },
        "6da1812257bf4154b614e0418fa09b3d": {
          "model_module": "@jupyter-widgets/base",
          "model_name": "LayoutModel",
          "model_module_version": "1.2.0",
          "state": {
            "_model_module": "@jupyter-widgets/base",
            "_model_module_version": "1.2.0",
            "_model_name": "LayoutModel",
            "_view_count": null,
            "_view_module": "@jupyter-widgets/base",
            "_view_module_version": "1.2.0",
            "_view_name": "LayoutView",
            "align_content": null,
            "align_items": null,
            "align_self": null,
            "border": null,
            "bottom": null,
            "display": null,
            "flex": null,
            "flex_flow": null,
            "grid_area": null,
            "grid_auto_columns": null,
            "grid_auto_flow": null,
            "grid_auto_rows": null,
            "grid_column": null,
            "grid_gap": null,
            "grid_row": null,
            "grid_template_areas": null,
            "grid_template_columns": null,
            "grid_template_rows": null,
            "height": null,
            "justify_content": null,
            "justify_items": null,
            "left": null,
            "margin": null,
            "max_height": null,
            "max_width": null,
            "min_height": null,
            "min_width": null,
            "object_fit": null,
            "object_position": null,
            "order": null,
            "overflow": null,
            "overflow_x": null,
            "overflow_y": null,
            "padding": null,
            "right": null,
            "top": null,
            "visibility": null,
            "width": null
          }
        },
        "1418bd7e57754724a3a876ffd0725786": {
          "model_module": "@jupyter-widgets/base",
          "model_name": "LayoutModel",
          "model_module_version": "1.2.0",
          "state": {
            "_model_module": "@jupyter-widgets/base",
            "_model_module_version": "1.2.0",
            "_model_name": "LayoutModel",
            "_view_count": null,
            "_view_module": "@jupyter-widgets/base",
            "_view_module_version": "1.2.0",
            "_view_name": "LayoutView",
            "align_content": null,
            "align_items": null,
            "align_self": null,
            "border": null,
            "bottom": null,
            "display": null,
            "flex": null,
            "flex_flow": null,
            "grid_area": null,
            "grid_auto_columns": null,
            "grid_auto_flow": null,
            "grid_auto_rows": null,
            "grid_column": null,
            "grid_gap": null,
            "grid_row": null,
            "grid_template_areas": null,
            "grid_template_columns": null,
            "grid_template_rows": null,
            "height": null,
            "justify_content": null,
            "justify_items": null,
            "left": null,
            "margin": null,
            "max_height": null,
            "max_width": null,
            "min_height": null,
            "min_width": null,
            "object_fit": null,
            "object_position": null,
            "order": null,
            "overflow": null,
            "overflow_x": null,
            "overflow_y": null,
            "padding": null,
            "right": null,
            "top": null,
            "visibility": null,
            "width": null
          }
        },
        "8c353a6d23f24cfaa48684639ab9a46c": {
          "model_module": "@jupyter-widgets/controls",
          "model_name": "DescriptionStyleModel",
          "model_module_version": "1.5.0",
          "state": {
            "_model_module": "@jupyter-widgets/controls",
            "_model_module_version": "1.5.0",
            "_model_name": "DescriptionStyleModel",
            "_view_count": null,
            "_view_module": "@jupyter-widgets/base",
            "_view_module_version": "1.2.0",
            "_view_name": "StyleView",
            "description_width": ""
          }
        },
        "b4509693f2e145119443c0701cb2ffaf": {
          "model_module": "@jupyter-widgets/base",
          "model_name": "LayoutModel",
          "model_module_version": "1.2.0",
          "state": {
            "_model_module": "@jupyter-widgets/base",
            "_model_module_version": "1.2.0",
            "_model_name": "LayoutModel",
            "_view_count": null,
            "_view_module": "@jupyter-widgets/base",
            "_view_module_version": "1.2.0",
            "_view_name": "LayoutView",
            "align_content": null,
            "align_items": null,
            "align_self": null,
            "border": null,
            "bottom": null,
            "display": null,
            "flex": null,
            "flex_flow": null,
            "grid_area": null,
            "grid_auto_columns": null,
            "grid_auto_flow": null,
            "grid_auto_rows": null,
            "grid_column": null,
            "grid_gap": null,
            "grid_row": null,
            "grid_template_areas": null,
            "grid_template_columns": null,
            "grid_template_rows": null,
            "height": null,
            "justify_content": null,
            "justify_items": null,
            "left": null,
            "margin": null,
            "max_height": null,
            "max_width": null,
            "min_height": null,
            "min_width": null,
            "object_fit": null,
            "object_position": null,
            "order": null,
            "overflow": null,
            "overflow_x": null,
            "overflow_y": null,
            "padding": null,
            "right": null,
            "top": null,
            "visibility": null,
            "width": null
          }
        },
        "edbf59a792b54dab8f839db5eb0462bb": {
          "model_module": "@jupyter-widgets/controls",
          "model_name": "ProgressStyleModel",
          "model_module_version": "1.5.0",
          "state": {
            "_model_module": "@jupyter-widgets/controls",
            "_model_module_version": "1.5.0",
            "_model_name": "ProgressStyleModel",
            "_view_count": null,
            "_view_module": "@jupyter-widgets/base",
            "_view_module_version": "1.2.0",
            "_view_name": "StyleView",
            "bar_color": null,
            "description_width": ""
          }
        }
      }
    }
  },
  "nbformat": 4,
  "nbformat_minor": 0
}